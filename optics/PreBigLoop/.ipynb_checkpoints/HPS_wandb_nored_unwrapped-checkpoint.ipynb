{
 "cells": [
  {
   "cell_type": "code",
   "execution_count": 1,
   "metadata": {
    "collapsed": true
   },
   "outputs": [
    {
     "name": "stdout",
     "output_type": "stream",
     "text": [
      "Requirement already up-to-date: wandb in /its/home/nn268/.local/lib/python3.8/site-packages (0.15.10)\n",
      "Requirement already satisfied, skipping upgrade: GitPython!=3.1.29,>=1.0.0 in /its/home/nn268/.local/lib/python3.8/site-packages (from wandb) (3.1.35)\n",
      "Requirement already satisfied, skipping upgrade: protobuf!=4.21.0,<5,>=3.12.0; python_version < \"3.9\" and sys_platform == \"linux\" in /its/home/nn268/.local/lib/python3.8/site-packages (from wandb) (4.24.2)\n",
      "Requirement already satisfied, skipping upgrade: PyYAML in /usr/lib/python3/dist-packages (from wandb) (5.3.1)\n",
      "Requirement already satisfied, skipping upgrade: setproctitle in /usr/lib/python3/dist-packages (from wandb) (1.1.10)\n",
      "Requirement already satisfied, skipping upgrade: pathtools in /its/home/nn268/.local/lib/python3.8/site-packages (from wandb) (0.1.2)\n",
      "Requirement already satisfied, skipping upgrade: appdirs>=1.4.3 in /its/home/nn268/.local/lib/python3.8/site-packages (from wandb) (1.4.4)\n",
      "Requirement already satisfied, skipping upgrade: sentry-sdk>=1.0.0 in /its/home/nn268/.local/lib/python3.8/site-packages (from wandb) (1.30.0)\n",
      "Requirement already satisfied, skipping upgrade: Click!=8.0.0,>=7.1 in /its/home/nn268/.local/lib/python3.8/site-packages (from wandb) (8.1.7)\n",
      "Requirement already satisfied, skipping upgrade: setuptools in /usr/lib/python3/dist-packages (from wandb) (45.2.0)\n",
      "Requirement already satisfied, skipping upgrade: typing-extensions; python_version < \"3.10\" in /its/home/nn268/.local/lib/python3.8/site-packages (from wandb) (4.5.0)\n",
      "Requirement already satisfied, skipping upgrade: docker-pycreds>=0.4.0 in /its/home/nn268/.local/lib/python3.8/site-packages (from wandb) (0.4.0)\n",
      "Requirement already satisfied, skipping upgrade: requests<3,>=2.0.0 in /usr/lib/python3/dist-packages (from wandb) (2.22.0)\n",
      "Requirement already satisfied, skipping upgrade: psutil>=5.0.0 in /its/home/nn268/.local/lib/python3.8/site-packages (from wandb) (5.9.5)\n",
      "Requirement already satisfied, skipping upgrade: gitdb<5,>=4.0.1 in /its/home/nn268/.local/lib/python3.8/site-packages (from GitPython!=3.1.29,>=1.0.0->wandb) (4.0.10)\n",
      "Requirement already satisfied, skipping upgrade: urllib3>=1.26.11; python_version >= \"3.6\" in /its/home/nn268/.local/lib/python3.8/site-packages (from sentry-sdk>=1.0.0->wandb) (2.0.4)\n",
      "Requirement already satisfied, skipping upgrade: certifi in /usr/lib/python3/dist-packages (from sentry-sdk>=1.0.0->wandb) (2019.11.28)\n",
      "Requirement already satisfied, skipping upgrade: six>=1.4.0 in /usr/lib/python3/dist-packages (from docker-pycreds>=0.4.0->wandb) (1.14.0)\n",
      "Requirement already satisfied, skipping upgrade: smmap<6,>=3.0.1 in /its/home/nn268/.local/lib/python3.8/site-packages (from gitdb<5,>=4.0.1->GitPython!=3.1.29,>=1.0.0->wandb) (5.0.0)\n"
     ]
    }
   ],
   "source": [
    "# HPS using wandb for cool graphs"
   ]
  },
  {
   "cell_type": "code",
   "execution_count": 1,
   "metadata": {},
   "outputs": [
    {
     "name": "stderr",
     "output_type": "stream",
     "text": [
      "/usr/lib/python3/dist-packages/requests/__init__.py:89: RequestsDependencyWarning: urllib3 (2.0.4) or chardet (3.0.4) doesn't match a supported version!\n",
      "  warnings.warn(\"urllib3 ({}) or chardet ({}) doesn't match a supported \"\n"
     ]
    }
   ],
   "source": [
    "# Imports\n",
    "\n",
    "import cv2\n",
    "from PIL import Image\n",
    "\n",
    "from matplotlib import pyplot as plt\n",
    "import numpy as np\n",
    "import pandas as pd\n",
    "import math as maths\n",
    "\n",
    "import os\n",
    "import random\n",
    "\n",
    "from sklearn.model_selection import train_test_split\n",
    "\n",
    "import torch\n",
    "import torch.nn as nn\n",
    "from torch.nn import functional\n",
    "#from torchsummary import summary\n",
    "#import torchvision.transforms as transforms\n",
    "\n",
    "from tqdm import tqdm\n",
    "from IPython.display import clear_output\n",
    "\n",
    "import wandb\n",
    "import pprint\n",
    "\n",
    "from functions import Unwrap, label_oh_tf, loop, import_imagedata, ImageProcessor, test_loop, get_data\n",
    "from architectures import build_net"
   ]
  },
  {
   "cell_type": "code",
   "execution_count": 2,
   "metadata": {},
   "outputs": [
    {
     "name": "stderr",
     "output_type": "stream",
     "text": [
      "\u001b[34m\u001b[1mwandb\u001b[0m: Currently logged in as: \u001b[33mnaughticalnonsence\u001b[0m (\u001b[33mantvis\u001b[0m). Use \u001b[1m`wandb login --relogin`\u001b[0m to force relogin\n"
     ]
    },
    {
     "data": {
      "text/plain": [
       "True"
      ]
     },
     "execution_count": 2,
     "metadata": {},
     "output_type": "execute_result"
    }
   ],
   "source": [
    "wandb.login()"
   ]
  },
  {
   "cell_type": "markdown",
   "metadata": {},
   "source": [
    "# Define Sweep"
   ]
  },
  {
   "cell_type": "code",
   "execution_count": 17,
   "metadata": {},
   "outputs": [
    {
     "name": "stdout",
     "output_type": "stream",
     "text": [
      "{'method': 'random',\n",
      " 'metric': {'goal': 'minimize', 'name': 'loss'},\n",
      " 'parameters': {'dropout': {'values': [0.3, 0.4, 0.5]},\n",
      "                'epochs': {'value': 40},\n",
      "                'first_linear': {'values': [14336]},\n",
      "                'learning_rate': {'distribution': 'log_uniform_values',\n",
      "                                  'max': 0.1,\n",
      "                                  'min': 0.0001},\n",
      "                'lin_layer_size': {'values': [100, 150, 50]},\n",
      "                'optimizer': {'values': ['adam']},\n",
      "                'weight_decay': {'values': [1e-05, 2e-05, 3e-05, 4e-05]}}}\n"
     ]
    }
   ],
   "source": [
    "# define sweep in a config\n",
    "# in notebook - nested dict\n",
    "# in cmd - yaml\n",
    "\n",
    "# grid search\n",
    "# bayesian search\n",
    "# random search\n",
    "\n",
    "\"\"\"config ={\n",
    "    'method': 'random'\n",
    "}\n",
    "\n",
    "metric = {'name': 'loss',\n",
    "         'goal': 'minimize'}\n",
    "\n",
    "config['metric'] = metric\n",
    "\n",
    "param_dict ={\n",
    "    'optimizer':{\n",
    "        'values': ['adam']\n",
    "    },\n",
    "    'lin_layer_size': {\n",
    "        'values': [100,150, 50]\n",
    "    },\n",
    "    'dropout': {\n",
    "        'values': [0.3, 0.4, 0.5]\n",
    "    },\n",
    "    'first_linear':{\n",
    "        'values': [14336]\n",
    "    }\n",
    "}\n",
    "\n",
    "config['parameters'] = param_dict\n",
    "\n",
    "param_dict.update({\n",
    "    'epochs': {\n",
    "        'value': 40\n",
    "    }\n",
    "})\n",
    "\n",
    "\n",
    "\n",
    "param_dict.update({\n",
    "    'learning_rate': {\n",
    "        # a flat distribution between 0 and 0.1\n",
    "        'distribution': 'log_uniform_values',\n",
    "        'min': 0.0001,\n",
    "        'max': 0.1\n",
    "      },\n",
    "    'weight_decay':{\n",
    "            'values': [1e-5,2e-5, 3e-5,4e-5]\n",
    "      }\n",
    "    })\n",
    "\n",
    "\n",
    "\n",
    "pprint.pprint(config)\"\"\""
   ]
  },
  {
   "cell_type": "code",
   "execution_count": 2,
   "metadata": {},
   "outputs": [],
   "source": [
    "\n",
    "config = dict(\n",
    "    epochs= 100, #model, config.optimizer, config.learning_rate, config.weight_decay\n",
    "    learning_rate =3.08e-5,\n",
    "    dataset= 'IDSW',\n",
    "    architecture ='CNN',\n",
    "    optimizer= 'adam',\n",
    "    weight_decay= 4e-5,\n",
    "    kernal_size =3,\n",
    "    first_in_channel = 2\n",
    ")\n",
    "\n",
    "\n",
    "col_dict = {\n",
    "    'colour': 'nored',\n",
    "    'size': [32,32], #36, 113   \n",
    "}"
   ]
  },
  {
   "cell_type": "code",
   "execution_count": 26,
   "metadata": {
    "scrolled": true
   },
   "outputs": [
    {
     "name": "stdout",
     "output_type": "stream",
     "text": [
      "HPS_wrapped_nored\n"
     ]
    }
   ],
   "source": [
    "print(f\"HPS_wrapped_{col_dict['colour']}\")"
   ]
  },
  {
   "cell_type": "code",
   "execution_count": null,
   "metadata": {},
   "outputs": [],
   "source": []
  },
  {
   "cell_type": "markdown",
   "metadata": {},
   "source": [
    "# Init sweep"
   ]
  },
  {
   "cell_type": "code",
   "execution_count": 3,
   "metadata": {
    "scrolled": false
   },
   "outputs": [
    {
     "name": "stdout",
     "output_type": "stream",
     "text": [
      "Using cuda:1 device\n"
     ]
    }
   ],
   "source": [
    "#sweep_id = wandb.sweep(config, project=f\"HPS_UNwrapped_{col_dict['colour']}\")\n",
    "\n",
    "device = \"cuda:1\" if torch.cuda.is_available() else \"cpu\"\n",
    "print(f\"Using {device} device\")"
   ]
  },
  {
   "cell_type": "code",
   "execution_count": 11,
   "metadata": {},
   "outputs": [],
   "source": []
  },
  {
   "cell_type": "code",
   "execution_count": null,
   "metadata": {},
   "outputs": [],
   "source": [
    "\"\"\" if (batch_count +1)%25 ==0:\n",
    "            train_log(t_loss,v_loss, sample_count, epoch)\"\"\""
   ]
  },
  {
   "cell_type": "code",
   "execution_count": 4,
   "metadata": {},
   "outputs": [],
   "source": [
    "\n",
    "                            # Common functions\n",
    "x_train, y_train, x_val, y_val, x_test, y_test = get_data()\n",
    "\n",
    "from torch.utils.data import DataLoader\n",
    "train_loader = DataLoader(list(zip(x_train, y_train)), batch_size=4, shuffle=True)\n",
    "\n",
    "#####\n",
    "    \n",
    "def build_optimizer(network, optimizer, learning_rate, weight_decay=0):\n",
    "    if optimizer == 'SGD':\n",
    "        optimizer = torch.optim.SGD(network.parameters(),\n",
    "                              lr=learning_rate, momentum=0.9)\n",
    "    elif optimizer == \"adam\":\n",
    "        if weight_decay == 0:\n",
    "            optimizer = torch.optim.Adam(network.parameters(),\n",
    "                               lr=learning_rate)\n",
    "        optimizer = torch.optim.Adam(network.parameters(),\n",
    "                               lr=learning_rate, weight_decay=weight_decay)\n",
    "    return optimizer\n",
    "\n",
    "def train_log(t_loss, v_loss, sample_count, epoch):\n",
    "    wandb.log({'epoch': epoch,\n",
    "              't_loss': t_loss,\n",
    "              'v_loss': v_loss},\n",
    "             step=sample_count)\n",
    "    print(f'loss after {str(sample_count).zfill(5)} examples: {v_loss:.3f}')\n",
    "\n",
    "                                # HP Sweep\n",
    "def train(config=None):\n",
    "    with wandb.init(config=config):\n",
    "        config = wandb.config\n",
    "\n",
    "        model = build_net(config.lin_layer_size,config.dropout, config.first_lin_lay,ks= config.kernal_size,in_chan= config.first_in_channel).to(device)\n",
    "        loss_fn = nn.MSELoss()\n",
    "        \n",
    "        e_count = 0\n",
    "        #optimizer = build_optimizer(network, config.optimizer, config.learning_rate, config.weight_decay)\n",
    "        if e_count >= 20:\n",
    "            optimizer = build_optimizer(model, config.optimizer, config.learning_rate, config.weight_decay)\n",
    "        else:\n",
    "            optimizer = build_optimizer(model, config.optimizer, config.learning_rate)\n",
    "        \n",
    "        for epoch in range(config.epochs):\n",
    "\n",
    "            t_loss, predict_list, t_num_correct, model, optimizer= loop(model, x_train, y_train, epoch, loss_fn, device, col_dict, optimizer=optimizer)\n",
    "            \n",
    "            t_accuracy = (t_num_correct /len(x_train))*100\n",
    "            \n",
    "            v_loss, __, v_num_correct= loop(model, x_val, y_val, epoch, loss_fn, device,col_dict, train=False) \n",
    "            \n",
    "            v_accuracy= (v_num_correct / len(x_val))*100\n",
    "            \n",
    "            t_avg_loss =t_loss/len(x_train)\n",
    "            v_avg_loss = v_loss /len(x_val)\n",
    "            \n",
    "            e_count +=1\n",
    "            \n",
    "            wandb.log({'avg_train_loss': t_avg_loss, 'epoch':epoch})\n",
    "            wandb.log({'avg_val_loss': v_avg_loss, 'epoch':epoch})\n",
    "            wandb.log({'train_loss': t_loss, 'epoch':epoch})\n",
    "            wandb.log({'val_loss': v_loss, 'epoch':epoch})\n",
    "            wandb.log({'train_accuracy_%': t_accuracy})\n",
    "            wandb.log({'val_accuracy_%': v_accuracy})\n",
    "\n",
    "                                #Training\n",
    "            \n",
    "def train_model(model, x_train, y_train, x_val, y_val,loss_fn, config):\n",
    "    wandb.watch(model, loss_fn, log='all', log_freq=10)\n",
    "    \n",
    "    sample_count =0\n",
    "    #batch_count = 0\n",
    "    e_count = 0\n",
    "    \n",
    "    for epoch in tqdm(range(config.epochs)):\n",
    "        if e_count >= 20:\n",
    "            optimizer = build_optimizer(model, config.optimizer, config.learning_rate, config.weight_decay)\n",
    "        else:\n",
    "            optimizer = build_optimizer(model, config.optimizer, config.learning_rate)\n",
    "        for x_batch, y_batch in train_loader:\n",
    "            #train\n",
    "            t_loss, predict_list, t_num_correct, model, optimizer = loop(model, x_batch, y_batch, epoch, loss_fn, device, col_dict, optimizer=optimizer)\n",
    "            sample_count += len(x_train)\n",
    "            t_accuracy= (t_num_correct / len(x_train))*100\n",
    "\n",
    "            # validation\n",
    "            v_loss, __, v_num_correct= loop(model, x_val, y_val, epoch, loss_fn, device,col_dict, train=False) \n",
    "            v_accuracy= (v_num_correct / len(x_val))*100\n",
    "            #batch_count +=1\n",
    "\n",
    "            wandb.log({'train_loss': t_loss, 'epoch':epoch})\n",
    "            wandb.log({'val_loss': v_loss, 'epoch':epoch})\n",
    "\n",
    "            t_avg_loss =t_loss/len(x_train)\n",
    "            v_avg_loss = v_loss /len(x_val)\n",
    "            wandb.log({'avg_train_loss': t_avg_loss, 'epoch':epoch})\n",
    "            wandb.log({'avg_val_loss': v_avg_loss, 'epoch':epoch})\n",
    "\n",
    "            wandb.log({'train_accuracy_%': t_accuracy})\n",
    "            wandb.log({'val_accuracy_%': v_accuracy})\n",
    "\n",
    "            e_count +=1\n",
    "            clear_output()\n",
    "\n",
    "\n",
    "def pipeline(hp): \n",
    "    \n",
    "    title = 'nored_Wrapped_3232'\n",
    "    \n",
    "    x_train, y_train, x_val, y_val, x_test, y_test = get_data()\n",
    "    \n",
    "    with wandb.init(project=title, config=hp):\n",
    "        config = wandb.config\n",
    "        model = build_net(lin_layer_size =100,dropout =0, first_lin_lay=4096,ks= config.kernal_size,in_chan= config.first_in_channel).to(device)\n",
    "        loss_fn = nn.MSELoss()\n",
    "        \n",
    "        train_model(model, x_train, y_train, x_val, y_val,loss_fn, config)\n",
    "        test_loop(model, x_test, y_test, loss_fn, device, col_dict,title,  WANDB=True, wandb=wandb)\n",
    "        \n",
    "    return model\n",
    "        "
   ]
  },
  {
   "cell_type": "code",
   "execution_count": 7,
   "metadata": {
    "scrolled": true
   },
   "outputs": [
    {
     "name": "stdout",
     "output_type": "stream",
     "text": [
      "1034 1034\n",
      "['0' '1' '10' '2' '3' '4' '5' '6' '7' '8' '9']\n"
     ]
    }
   ],
   "source": [
    "print(len(x), len(y))\n",
    "print(np.unique(y))"
   ]
  },
  {
   "cell_type": "code",
   "execution_count": null,
   "metadata": {
    "scrolled": true
   },
   "outputs": [],
   "source": [
    "model = pipeline(config)"
   ]
  },
  {
   "cell_type": "code",
   "execution_count": null,
   "metadata": {
    "scrolled": true
   },
   "outputs": [
    {
     "name": "stderr",
     "output_type": "stream",
     "text": [
      "\u001b[34m\u001b[1mwandb\u001b[0m: Agent Starting Run: leqsm9uj with config:\n",
      "\u001b[34m\u001b[1mwandb\u001b[0m: \tdropout: 0.4\n",
      "\u001b[34m\u001b[1mwandb\u001b[0m: \tepochs: 40\n",
      "\u001b[34m\u001b[1mwandb\u001b[0m: \tfirst_linear: 14336\n",
      "\u001b[34m\u001b[1mwandb\u001b[0m: \tlearning_rate: 0.004157923079727831\n",
      "\u001b[34m\u001b[1mwandb\u001b[0m: \tlin_layer_size: 50\n",
      "\u001b[34m\u001b[1mwandb\u001b[0m: \toptimizer: adam\n",
      "\u001b[34m\u001b[1mwandb\u001b[0m: \tweight_decay: 4e-05\n"
     ]
    },
    {
     "data": {
      "text/html": [
       "Tracking run with wandb version 0.15.10"
      ],
      "text/plain": [
       "<IPython.core.display.HTML object>"
      ]
     },
     "metadata": {},
     "output_type": "display_data"
    },
    {
     "data": {
      "text/html": [
       "Run data is saved locally in <code>/its/home/nn268/optics/wandb/run-20230919_102234-leqsm9uj</code>"
      ],
      "text/plain": [
       "<IPython.core.display.HTML object>"
      ]
     },
     "metadata": {},
     "output_type": "display_data"
    },
    {
     "data": {
      "text/html": [
       "Syncing run <strong><a href='https://wandb.ai/antvis/HPS_UNwrapped_nored/runs/leqsm9uj' target=\"_blank\">breezy-sweep-8</a></strong> to <a href='https://wandb.ai/antvis/HPS_UNwrapped_nored' target=\"_blank\">Weights & Biases</a> (<a href='https://wandb.me/run' target=\"_blank\">docs</a>)<br/>Sweep page: <a href='https://wandb.ai/antvis/HPS_UNwrapped_nored/sweeps/tqynkolq' target=\"_blank\">https://wandb.ai/antvis/HPS_UNwrapped_nored/sweeps/tqynkolq</a>"
      ],
      "text/plain": [
       "<IPython.core.display.HTML object>"
      ]
     },
     "metadata": {},
     "output_type": "display_data"
    },
    {
     "data": {
      "text/html": [
       " View project at <a href='https://wandb.ai/antvis/HPS_UNwrapped_nored' target=\"_blank\">https://wandb.ai/antvis/HPS_UNwrapped_nored</a>"
      ],
      "text/plain": [
       "<IPython.core.display.HTML object>"
      ]
     },
     "metadata": {},
     "output_type": "display_data"
    },
    {
     "data": {
      "text/html": [
       " View sweep at <a href='https://wandb.ai/antvis/HPS_UNwrapped_nored/sweeps/tqynkolq' target=\"_blank\">https://wandb.ai/antvis/HPS_UNwrapped_nored/sweeps/tqynkolq</a>"
      ],
      "text/plain": [
       "<IPython.core.display.HTML object>"
      ]
     },
     "metadata": {},
     "output_type": "display_data"
    },
    {
     "data": {
      "text/html": [
       " View run at <a href='https://wandb.ai/antvis/HPS_UNwrapped_nored/runs/leqsm9uj' target=\"_blank\">https://wandb.ai/antvis/HPS_UNwrapped_nored/runs/leqsm9uj</a>"
      ],
      "text/plain": [
       "<IPython.core.display.HTML object>"
      ]
     },
     "metadata": {},
     "output_type": "display_data"
    },
    {
     "name": "stdout",
     "output_type": "stream",
     "text": [
      "0.09846153846153846\n",
      "0.0821917808219178\n",
      "0.10307692307692308\n",
      "0.0410958904109589\n",
      "0.09692307692307692\n",
      "0.0821917808219178\n",
      "0.10615384615384615\n",
      "0.0410958904109589\n",
      "0.1\n",
      "0.0410958904109589\n",
      "0.1\n",
      "0.0410958904109589\n",
      "0.10615384615384615\n",
      "0.0410958904109589\n",
      "0.10461538461538461\n",
      "0.0410958904109589\n",
      "0.10461538461538461\n",
      "0.0410958904109589\n",
      "0.10461538461538461\n",
      "0.0410958904109589\n",
      "0.10615384615384615\n",
      "0.0410958904109589\n",
      "0.10615384615384615\n",
      "0.0410958904109589\n",
      "0.10615384615384615\n",
      "0.0410958904109589\n",
      "0.10615384615384615\n",
      "0.0410958904109589\n",
      "0.10615384615384615\n",
      "0.0410958904109589\n",
      "0.10615384615384615\n",
      "0.0410958904109589\n",
      "0.10615384615384615\n",
      "0.0410958904109589\n",
      "0.10615384615384615\n",
      "0.0410958904109589\n",
      "0.10615384615384615\n",
      "0.0410958904109589\n",
      "0.10615384615384615\n",
      "0.0410958904109589\n",
      "0.10615384615384615\n",
      "0.0410958904109589\n",
      "0.10615384615384615\n",
      "0.0410958904109589\n",
      "0.10615384615384615\n",
      "0.0410958904109589\n",
      "0.10615384615384615\n",
      "0.0410958904109589\n",
      "0.10615384615384615\n",
      "0.0410958904109589\n",
      "0.10615384615384615\n",
      "0.0410958904109589\n",
      "0.10615384615384615\n",
      "0.0410958904109589\n",
      "0.10615384615384615\n",
      "0.0410958904109589\n",
      "0.10615384615384615\n",
      "0.0410958904109589\n",
      "0.10615384615384615\n",
      "0.0410958904109589\n",
      "0.10615384615384615\n",
      "0.0410958904109589\n",
      "0.10615384615384615\n",
      "0.0410958904109589\n",
      "0.10615384615384615\n",
      "0.0410958904109589\n",
      "0.10615384615384615\n",
      "0.0410958904109589\n",
      "0.10615384615384615\n",
      "0.0410958904109589\n",
      "0.10615384615384615\n",
      "0.0410958904109589\n",
      "0.10615384615384615\n",
      "0.0410958904109589\n",
      "0.10615384615384615\n",
      "0.0410958904109589\n",
      "0.10615384615384615\n",
      "0.0410958904109589\n",
      "0.10615384615384615\n",
      "0.0410958904109589\n"
     ]
    },
    {
     "data": {
      "text/html": [
       "Waiting for W&B process to finish... <strong style=\"color:green\">(success).</strong>"
      ],
      "text/plain": [
       "<IPython.core.display.HTML object>"
      ]
     },
     "metadata": {},
     "output_type": "display_data"
    },
    {
     "data": {
      "text/html": [
       "<style>\n",
       "    table.wandb td:nth-child(1) { padding: 0 10px; text-align: left ; width: auto;} td:nth-child(2) {text-align: left ; width: 100%}\n",
       "    .wandb-row { display: flex; flex-direction: row; flex-wrap: wrap; justify-content: flex-start; width: 100% }\n",
       "    .wandb-col { display: flex; flex-direction: column; flex-basis: 100%; flex: 1; padding: 10px; }\n",
       "    </style>\n",
       "<div class=\"wandb-row\"><div class=\"wandb-col\"><h3>Run history:</h3><br/><table class=\"wandb\"><tr><td>avg_train_loss</td><td>█▃▃▂▁▁▁▁▁▁▁▁▁▁▁▁▁▁▁▁▁▁▁▁▁▁▁▁▁▁▁▁▁▁▁▁▁▁▁▁</td></tr><tr><td>avg_val_loss</td><td>▁█▄▆▅▆▆▆▆▆▆▆▆▆▆▆▆▆▆▆▆▆▆▆▆▆▆▆▆▆▆▆▆▆▆▆▆▆▆▆</td></tr><tr><td>epoch</td><td>▁▁▁▂▂▂▂▂▂▃▃▃▃▃▄▄▄▄▄▄▅▅▅▅▅▅▆▆▆▆▆▇▇▇▇▇▇███</td></tr><tr><td>train_accuracy_%</td><td>▂▆▁█▃▃█▇▇▇██████████████████████████████</td></tr><tr><td>train_loss</td><td>█▃▃▂▁▁▁▁▁▁▁▁▁▁▁▁▁▁▁▁▁▁▁▁▁▁▁▁▁▁▁▁▁▁▁▁▁▁▁▁</td></tr><tr><td>val_accuracy_%</td><td>█▁█▁▁▁▁▁▁▁▁▁▁▁▁▁▁▁▁▁▁▁▁▁▁▁▁▁▁▁▁▁▁▁▁▁▁▁▁▁</td></tr><tr><td>val_loss</td><td>▁█▄▆▅▆▆▆▆▆▆▆▆▆▆▆▆▆▆▆▆▆▆▆▆▆▆▆▆▆▆▆▆▆▆▆▆▆▆▆</td></tr></table><br/></div><div class=\"wandb-col\"><h3>Run summary:</h3><br/><table class=\"wandb\"><tr><td>avg_train_loss</td><td>0.08263</td></tr><tr><td>avg_val_loss</td><td>0.08284</td></tr><tr><td>epoch</td><td>39</td></tr><tr><td>train_accuracy_%</td><td>10.61538</td></tr><tr><td>train_loss</td><td>53.70989</td></tr><tr><td>val_accuracy_%</td><td>4.10959</td></tr><tr><td>val_loss</td><td>6.04761</td></tr></table><br/></div></div>"
      ],
      "text/plain": [
       "<IPython.core.display.HTML object>"
      ]
     },
     "metadata": {},
     "output_type": "display_data"
    },
    {
     "data": {
      "text/html": [
       " View run <strong style=\"color:#cdcd00\">breezy-sweep-8</strong> at: <a href='https://wandb.ai/antvis/HPS_UNwrapped_nored/runs/leqsm9uj' target=\"_blank\">https://wandb.ai/antvis/HPS_UNwrapped_nored/runs/leqsm9uj</a><br/>Synced 5 W&B file(s), 0 media file(s), 0 artifact file(s) and 0 other file(s)"
      ],
      "text/plain": [
       "<IPython.core.display.HTML object>"
      ]
     },
     "metadata": {},
     "output_type": "display_data"
    },
    {
     "data": {
      "text/html": [
       "Find logs at: <code>./wandb/run-20230919_102234-leqsm9uj/logs</code>"
      ],
      "text/plain": [
       "<IPython.core.display.HTML object>"
      ]
     },
     "metadata": {},
     "output_type": "display_data"
    },
    {
     "name": "stderr",
     "output_type": "stream",
     "text": [
      "\u001b[34m\u001b[1mwandb\u001b[0m: Agent Starting Run: xq6ni9vs with config:\n",
      "\u001b[34m\u001b[1mwandb\u001b[0m: \tdropout: 0.4\n",
      "\u001b[34m\u001b[1mwandb\u001b[0m: \tepochs: 40\n",
      "\u001b[34m\u001b[1mwandb\u001b[0m: \tfirst_linear: 14336\n",
      "\u001b[34m\u001b[1mwandb\u001b[0m: \tlearning_rate: 0.006139418939305622\n",
      "\u001b[34m\u001b[1mwandb\u001b[0m: \tlin_layer_size: 150\n",
      "\u001b[34m\u001b[1mwandb\u001b[0m: \toptimizer: adam\n",
      "\u001b[34m\u001b[1mwandb\u001b[0m: \tweight_decay: 2e-05\n"
     ]
    },
    {
     "data": {
      "text/html": [
       "Tracking run with wandb version 0.15.10"
      ],
      "text/plain": [
       "<IPython.core.display.HTML object>"
      ]
     },
     "metadata": {},
     "output_type": "display_data"
    },
    {
     "data": {
      "text/html": [
       "Run data is saved locally in <code>/its/home/nn268/optics/wandb/run-20230919_111012-xq6ni9vs</code>"
      ],
      "text/plain": [
       "<IPython.core.display.HTML object>"
      ]
     },
     "metadata": {},
     "output_type": "display_data"
    },
    {
     "data": {
      "text/html": [
       "Syncing run <strong><a href='https://wandb.ai/antvis/HPS_UNwrapped_nored/runs/xq6ni9vs' target=\"_blank\">glowing-sweep-9</a></strong> to <a href='https://wandb.ai/antvis/HPS_UNwrapped_nored' target=\"_blank\">Weights & Biases</a> (<a href='https://wandb.me/run' target=\"_blank\">docs</a>)<br/>Sweep page: <a href='https://wandb.ai/antvis/HPS_UNwrapped_nored/sweeps/tqynkolq' target=\"_blank\">https://wandb.ai/antvis/HPS_UNwrapped_nored/sweeps/tqynkolq</a>"
      ],
      "text/plain": [
       "<IPython.core.display.HTML object>"
      ]
     },
     "metadata": {},
     "output_type": "display_data"
    },
    {
     "data": {
      "text/html": [
       " View project at <a href='https://wandb.ai/antvis/HPS_UNwrapped_nored' target=\"_blank\">https://wandb.ai/antvis/HPS_UNwrapped_nored</a>"
      ],
      "text/plain": [
       "<IPython.core.display.HTML object>"
      ]
     },
     "metadata": {},
     "output_type": "display_data"
    },
    {
     "data": {
      "text/html": [
       " View sweep at <a href='https://wandb.ai/antvis/HPS_UNwrapped_nored/sweeps/tqynkolq' target=\"_blank\">https://wandb.ai/antvis/HPS_UNwrapped_nored/sweeps/tqynkolq</a>"
      ],
      "text/plain": [
       "<IPython.core.display.HTML object>"
      ]
     },
     "metadata": {},
     "output_type": "display_data"
    },
    {
     "data": {
      "text/html": [
       " View run at <a href='https://wandb.ai/antvis/HPS_UNwrapped_nored/runs/xq6ni9vs' target=\"_blank\">https://wandb.ai/antvis/HPS_UNwrapped_nored/runs/xq6ni9vs</a>"
      ],
      "text/plain": [
       "<IPython.core.display.HTML object>"
      ]
     },
     "metadata": {},
     "output_type": "display_data"
    },
    {
     "name": "stdout",
     "output_type": "stream",
     "text": [
      "0.08\n",
      "0.0410958904109589\n",
      "0.10461538461538461\n",
      "0.0410958904109589\n",
      "0.10307692307692308\n",
      "0.0410958904109589\n",
      "0.10307692307692308\n",
      "0.0410958904109589\n",
      "0.10307692307692308\n",
      "0.0410958904109589\n",
      "0.10307692307692308\n",
      "0.0410958904109589\n",
      "0.10461538461538461\n",
      "0.0410958904109589\n",
      "0.10461538461538461\n",
      "0.0410958904109589\n",
      "0.10461538461538461\n",
      "0.0410958904109589\n",
      "0.10461538461538461\n",
      "0.0410958904109589\n",
      "0.10461538461538461\n",
      "0.0410958904109589\n",
      "0.10461538461538461\n",
      "0.0410958904109589\n",
      "0.10461538461538461\n",
      "0.0410958904109589\n",
      "0.10461538461538461\n",
      "0.0410958904109589\n",
      "0.10461538461538461\n",
      "0.0410958904109589\n",
      "0.10461538461538461\n",
      "0.0410958904109589\n",
      "0.10461538461538461\n",
      "0.0410958904109589\n",
      "0.10461538461538461\n",
      "0.0410958904109589\n",
      "0.10461538461538461\n",
      "0.0410958904109589\n",
      "0.10461538461538461\n",
      "0.0410958904109589\n",
      "0.10461538461538461\n",
      "0.0410958904109589\n",
      "0.10461538461538461\n",
      "0.0410958904109589\n",
      "0.10461538461538461\n",
      "0.0410958904109589\n",
      "0.10461538461538461\n",
      "0.0410958904109589\n",
      "0.10461538461538461\n",
      "0.0410958904109589\n",
      "0.10461538461538461\n",
      "0.0410958904109589\n",
      "0.10461538461538461\n",
      "0.0410958904109589\n",
      "0.10461538461538461\n",
      "0.0410958904109589\n",
      "0.10461538461538461\n",
      "0.0410958904109589\n",
      "0.10461538461538461\n",
      "0.0410958904109589\n",
      "0.10461538461538461\n",
      "0.0410958904109589\n",
      "0.10461538461538461\n",
      "0.0410958904109589\n",
      "0.10461538461538461\n",
      "0.0410958904109589\n",
      "0.10461538461538461\n",
      "0.0410958904109589\n",
      "0.10461538461538461\n",
      "0.0410958904109589\n",
      "0.10461538461538461\n",
      "0.0410958904109589\n",
      "0.10461538461538461\n",
      "0.0410958904109589\n",
      "0.10461538461538461\n",
      "0.0410958904109589\n",
      "0.10461538461538461\n",
      "0.0410958904109589\n",
      "0.10461538461538461\n",
      "0.0410958904109589\n"
     ]
    },
    {
     "data": {
      "text/html": [
       "Waiting for W&B process to finish... <strong style=\"color:green\">(success).</strong>"
      ],
      "text/plain": [
       "<IPython.core.display.HTML object>"
      ]
     },
     "metadata": {},
     "output_type": "display_data"
    },
    {
     "data": {
      "text/html": [
       "<style>\n",
       "    table.wandb td:nth-child(1) { padding: 0 10px; text-align: left ; width: auto;} td:nth-child(2) {text-align: left ; width: 100%}\n",
       "    .wandb-row { display: flex; flex-direction: row; flex-wrap: wrap; justify-content: flex-start; width: 100% }\n",
       "    .wandb-col { display: flex; flex-direction: column; flex-basis: 100%; flex: 1; padding: 10px; }\n",
       "    </style>\n",
       "<div class=\"wandb-row\"><div class=\"wandb-col\"><h3>Run history:</h3><br/><table class=\"wandb\"><tr><td>avg_train_loss</td><td>█▁▁▁▁▁▁▁▁▁▁▁▁▁▁▁▁▁▁▁▁▁▁▁▁▁▁▁▁▁▁▁▁▁▁▁▁▁▁▁</td></tr><tr><td>avg_val_loss</td><td>▁▆██████████████████████████████████████</td></tr><tr><td>epoch</td><td>▁▁▁▂▂▂▂▂▂▃▃▃▃▃▄▄▄▄▄▄▅▅▅▅▅▅▆▆▆▆▆▇▇▇▇▇▇███</td></tr><tr><td>train_accuracy_%</td><td>▁███████████████████████████████████████</td></tr><tr><td>train_loss</td><td>█▁▁▁▁▁▁▁▁▁▁▁▁▁▁▁▁▁▁▁▁▁▁▁▁▁▁▁▁▁▁▁▁▁▁▁▁▁▁▁</td></tr><tr><td>val_accuracy_%</td><td>▁▁▁▁▁▁▁▁▁▁▁▁▁▁▁▁▁▁▁▁▁▁▁▁▁▁▁▁▁▁▁▁▁▁▁▁▁▁▁▁</td></tr><tr><td>val_loss</td><td>▁▆██████████████████████████████████████</td></tr></table><br/></div><div class=\"wandb-col\"><h3>Run summary:</h3><br/><table class=\"wandb\"><tr><td>avg_train_loss</td><td>0.08267</td></tr><tr><td>avg_val_loss</td><td>0.08286</td></tr><tr><td>epoch</td><td>39</td></tr><tr><td>train_accuracy_%</td><td>10.46154</td></tr><tr><td>train_loss</td><td>53.73411</td></tr><tr><td>val_accuracy_%</td><td>4.10959</td></tr><tr><td>val_loss</td><td>6.04907</td></tr></table><br/></div></div>"
      ],
      "text/plain": [
       "<IPython.core.display.HTML object>"
      ]
     },
     "metadata": {},
     "output_type": "display_data"
    },
    {
     "data": {
      "text/html": [
       " View run <strong style=\"color:#cdcd00\">glowing-sweep-9</strong> at: <a href='https://wandb.ai/antvis/HPS_UNwrapped_nored/runs/xq6ni9vs' target=\"_blank\">https://wandb.ai/antvis/HPS_UNwrapped_nored/runs/xq6ni9vs</a><br/>Synced 5 W&B file(s), 0 media file(s), 0 artifact file(s) and 0 other file(s)"
      ],
      "text/plain": [
       "<IPython.core.display.HTML object>"
      ]
     },
     "metadata": {},
     "output_type": "display_data"
    },
    {
     "data": {
      "text/html": [
       "Find logs at: <code>./wandb/run-20230919_111012-xq6ni9vs/logs</code>"
      ],
      "text/plain": [
       "<IPython.core.display.HTML object>"
      ]
     },
     "metadata": {},
     "output_type": "display_data"
    },
    {
     "name": "stderr",
     "output_type": "stream",
     "text": [
      "\u001b[34m\u001b[1mwandb\u001b[0m: Agent Starting Run: n9duskdf with config:\n",
      "\u001b[34m\u001b[1mwandb\u001b[0m: \tdropout: 0.5\n",
      "\u001b[34m\u001b[1mwandb\u001b[0m: \tepochs: 40\n",
      "\u001b[34m\u001b[1mwandb\u001b[0m: \tfirst_linear: 14336\n",
      "\u001b[34m\u001b[1mwandb\u001b[0m: \tlearning_rate: 0.0005270635010896004\n",
      "\u001b[34m\u001b[1mwandb\u001b[0m: \tlin_layer_size: 50\n",
      "\u001b[34m\u001b[1mwandb\u001b[0m: \toptimizer: adam\n",
      "\u001b[34m\u001b[1mwandb\u001b[0m: \tweight_decay: 3e-05\n"
     ]
    },
    {
     "data": {
      "text/html": [
       "Tracking run with wandb version 0.15.10"
      ],
      "text/plain": [
       "<IPython.core.display.HTML object>"
      ]
     },
     "metadata": {},
     "output_type": "display_data"
    },
    {
     "data": {
      "text/html": [
       "Run data is saved locally in <code>/its/home/nn268/optics/wandb/run-20230919_115831-n9duskdf</code>"
      ],
      "text/plain": [
       "<IPython.core.display.HTML object>"
      ]
     },
     "metadata": {},
     "output_type": "display_data"
    },
    {
     "data": {
      "text/html": [
       "Syncing run <strong><a href='https://wandb.ai/antvis/HPS_UNwrapped_nored/runs/n9duskdf' target=\"_blank\">wandering-sweep-10</a></strong> to <a href='https://wandb.ai/antvis/HPS_UNwrapped_nored' target=\"_blank\">Weights & Biases</a> (<a href='https://wandb.me/run' target=\"_blank\">docs</a>)<br/>Sweep page: <a href='https://wandb.ai/antvis/HPS_UNwrapped_nored/sweeps/tqynkolq' target=\"_blank\">https://wandb.ai/antvis/HPS_UNwrapped_nored/sweeps/tqynkolq</a>"
      ],
      "text/plain": [
       "<IPython.core.display.HTML object>"
      ]
     },
     "metadata": {},
     "output_type": "display_data"
    },
    {
     "data": {
      "text/html": [
       " View project at <a href='https://wandb.ai/antvis/HPS_UNwrapped_nored' target=\"_blank\">https://wandb.ai/antvis/HPS_UNwrapped_nored</a>"
      ],
      "text/plain": [
       "<IPython.core.display.HTML object>"
      ]
     },
     "metadata": {},
     "output_type": "display_data"
    },
    {
     "data": {
      "text/html": [
       " View sweep at <a href='https://wandb.ai/antvis/HPS_UNwrapped_nored/sweeps/tqynkolq' target=\"_blank\">https://wandb.ai/antvis/HPS_UNwrapped_nored/sweeps/tqynkolq</a>"
      ],
      "text/plain": [
       "<IPython.core.display.HTML object>"
      ]
     },
     "metadata": {},
     "output_type": "display_data"
    },
    {
     "data": {
      "text/html": [
       " View run at <a href='https://wandb.ai/antvis/HPS_UNwrapped_nored/runs/n9duskdf' target=\"_blank\">https://wandb.ai/antvis/HPS_UNwrapped_nored/runs/n9duskdf</a>"
      ],
      "text/plain": [
       "<IPython.core.display.HTML object>"
      ]
     },
     "metadata": {},
     "output_type": "display_data"
    },
    {
     "name": "stdout",
     "output_type": "stream",
     "text": [
      "0.08\n",
      "0.2465753424657534\n",
      "0.07538461538461538\n",
      "0.2465753424657534\n",
      "0.07230769230769231\n",
      "0.0410958904109589\n",
      "0.10923076923076923\n",
      "0.0410958904109589\n",
      "0.1076923076923077\n",
      "0.0410958904109589\n",
      "0.09230769230769231\n",
      "0.0410958904109589\n",
      "0.10615384615384615\n",
      "0.0410958904109589\n",
      "0.09846153846153846\n",
      "0.0410958904109589\n",
      "0.1\n",
      "0.0410958904109589\n",
      "0.1076923076923077\n",
      "0.0410958904109589\n",
      "0.11692307692307692\n",
      "0.0410958904109589\n",
      "0.0876923076923077\n",
      "0.0410958904109589\n",
      "0.10615384615384615\n",
      "0.0410958904109589\n",
      "0.1\n",
      "0.0410958904109589\n",
      "0.0876923076923077\n",
      "0.0410958904109589\n",
      "0.10307692307692308\n",
      "0.0410958904109589\n",
      "0.09384615384615384\n",
      "0.0410958904109589\n",
      "0.1123076923076923\n",
      "0.0410958904109589\n",
      "0.11846153846153847\n",
      "0.0821917808219178\n",
      "0.1076923076923077\n",
      "0.0821917808219178\n",
      "0.10307692307692308\n",
      "0.0821917808219178\n",
      "0.1076923076923077\n",
      "0.0410958904109589\n",
      "0.12\n",
      "0.0410958904109589\n",
      "0.09230769230769231\n",
      "0.0410958904109589\n",
      "0.0876923076923077\n",
      "0.0410958904109589\n",
      "0.10615384615384615\n",
      "0.0410958904109589\n",
      "0.1\n",
      "0.0410958904109589\n",
      "0.11076923076923077\n",
      "0.0410958904109589\n",
      "0.09538461538461539\n",
      "0.0410958904109589\n",
      "0.10923076923076923\n",
      "0.0410958904109589\n",
      "0.10307692307692308\n",
      "0.0410958904109589\n",
      "0.09846153846153846\n",
      "0.0410958904109589\n",
      "0.11384615384615385\n",
      "0.0410958904109589\n",
      "0.10461538461538461\n",
      "0.0410958904109589\n",
      "0.10615384615384615\n",
      "0.0410958904109589\n",
      "0.1\n",
      "0.0410958904109589\n",
      "0.1076923076923077\n",
      "0.0410958904109589\n",
      "0.10461538461538461\n",
      "0.0410958904109589\n",
      "0.10615384615384615\n",
      "0.0410958904109589\n",
      "0.10615384615384615\n",
      "0.0410958904109589\n"
     ]
    },
    {
     "data": {
      "text/html": [
       "Waiting for W&B process to finish... <strong style=\"color:green\">(success).</strong>"
      ],
      "text/plain": [
       "<IPython.core.display.HTML object>"
      ]
     },
     "metadata": {},
     "output_type": "display_data"
    },
    {
     "data": {
      "text/html": [
       "<style>\n",
       "    table.wandb td:nth-child(1) { padding: 0 10px; text-align: left ; width: auto;} td:nth-child(2) {text-align: left ; width: 100%}\n",
       "    .wandb-row { display: flex; flex-direction: row; flex-wrap: wrap; justify-content: flex-start; width: 100% }\n",
       "    .wandb-col { display: flex; flex-direction: column; flex-basis: 100%; flex: 1; padding: 10px; }\n",
       "    </style>\n",
       "<div class=\"wandb-row\"><div class=\"wandb-col\"><h3>Run history:</h3><br/><table class=\"wandb\"><tr><td>avg_train_loss</td><td>█▅▅▄▃▃▂▄▂▃▂▁▃▂▂▂▂▂▂▁▃▂▁▂▃▁▂▃▄▃▂▃▃▂▂▃▃▂▂▂</td></tr><tr><td>avg_val_loss</td><td>▁▁▃▅▄▅▆▆▆▇▆▆▇▇▆▇▇███▇▇▇▇█▇▇▇▇▇▇▇▇▇█▇▇▇▇▇</td></tr><tr><td>epoch</td><td>▁▁▁▂▂▂▂▂▂▃▃▃▃▃▄▄▄▄▄▄▅▅▅▅▅▅▆▆▆▆▆▇▇▇▇▇▇███</td></tr><tr><td>train_accuracy_%</td><td>▂▁▁▆▆▄▆▅▅▆█▃▆▅▃▆▄▇█▆▆▆█▄▃▆▅▇▄▆▆▅▇▆▆▅▆▆▆▆</td></tr><tr><td>train_loss</td><td>█▅▅▄▃▃▂▄▂▃▂▁▃▂▂▂▂▂▂▁▃▂▁▂▃▁▂▃▄▃▂▃▃▂▂▃▃▂▂▂</td></tr><tr><td>val_accuracy_%</td><td>██▁▁▁▁▁▁▁▁▁▁▁▁▁▁▁▁▂▂▂▁▁▁▁▁▁▁▁▁▁▁▁▁▁▁▁▁▁▁</td></tr><tr><td>val_loss</td><td>▁▁▃▅▄▅▆▆▆▇▆▆▇▇▆▇▇███▇▇▇▇█▇▇▇▇▇▇▇▇▇█▇▇▇▇▇</td></tr></table><br/></div><div class=\"wandb-col\"><h3>Run summary:</h3><br/><table class=\"wandb\"><tr><td>avg_train_loss</td><td>0.08256</td></tr><tr><td>avg_val_loss</td><td>0.08276</td></tr><tr><td>epoch</td><td>39</td></tr><tr><td>train_accuracy_%</td><td>10.61538</td></tr><tr><td>train_loss</td><td>53.6622</td></tr><tr><td>val_accuracy_%</td><td>4.10959</td></tr><tr><td>val_loss</td><td>6.04132</td></tr></table><br/></div></div>"
      ],
      "text/plain": [
       "<IPython.core.display.HTML object>"
      ]
     },
     "metadata": {},
     "output_type": "display_data"
    },
    {
     "data": {
      "text/html": [
       " View run <strong style=\"color:#cdcd00\">wandering-sweep-10</strong> at: <a href='https://wandb.ai/antvis/HPS_UNwrapped_nored/runs/n9duskdf' target=\"_blank\">https://wandb.ai/antvis/HPS_UNwrapped_nored/runs/n9duskdf</a><br/>Synced 5 W&B file(s), 0 media file(s), 0 artifact file(s) and 0 other file(s)"
      ],
      "text/plain": [
       "<IPython.core.display.HTML object>"
      ]
     },
     "metadata": {},
     "output_type": "display_data"
    },
    {
     "data": {
      "text/html": [
       "Find logs at: <code>./wandb/run-20230919_115831-n9duskdf/logs</code>"
      ],
      "text/plain": [
       "<IPython.core.display.HTML object>"
      ]
     },
     "metadata": {},
     "output_type": "display_data"
    },
    {
     "name": "stderr",
     "output_type": "stream",
     "text": [
      "\u001b[34m\u001b[1mwandb\u001b[0m: Agent Starting Run: xc00h7mj with config:\n",
      "\u001b[34m\u001b[1mwandb\u001b[0m: \tdropout: 0.5\n",
      "\u001b[34m\u001b[1mwandb\u001b[0m: \tepochs: 40\n",
      "\u001b[34m\u001b[1mwandb\u001b[0m: \tfirst_linear: 14336\n",
      "\u001b[34m\u001b[1mwandb\u001b[0m: \tlearning_rate: 0.013763523872725196\n",
      "\u001b[34m\u001b[1mwandb\u001b[0m: \tlin_layer_size: 50\n",
      "\u001b[34m\u001b[1mwandb\u001b[0m: \toptimizer: adam\n",
      "\u001b[34m\u001b[1mwandb\u001b[0m: \tweight_decay: 4e-05\n"
     ]
    },
    {
     "data": {
      "text/html": [
       "Tracking run with wandb version 0.15.10"
      ],
      "text/plain": [
       "<IPython.core.display.HTML object>"
      ]
     },
     "metadata": {},
     "output_type": "display_data"
    },
    {
     "data": {
      "text/html": [
       "Run data is saved locally in <code>/its/home/nn268/optics/wandb/run-20230919_124716-xc00h7mj</code>"
      ],
      "text/plain": [
       "<IPython.core.display.HTML object>"
      ]
     },
     "metadata": {},
     "output_type": "display_data"
    },
    {
     "data": {
      "text/html": [
       "Syncing run <strong><a href='https://wandb.ai/antvis/HPS_UNwrapped_nored/runs/xc00h7mj' target=\"_blank\">worthy-sweep-11</a></strong> to <a href='https://wandb.ai/antvis/HPS_UNwrapped_nored' target=\"_blank\">Weights & Biases</a> (<a href='https://wandb.me/run' target=\"_blank\">docs</a>)<br/>Sweep page: <a href='https://wandb.ai/antvis/HPS_UNwrapped_nored/sweeps/tqynkolq' target=\"_blank\">https://wandb.ai/antvis/HPS_UNwrapped_nored/sweeps/tqynkolq</a>"
      ],
      "text/plain": [
       "<IPython.core.display.HTML object>"
      ]
     },
     "metadata": {},
     "output_type": "display_data"
    },
    {
     "data": {
      "text/html": [
       " View project at <a href='https://wandb.ai/antvis/HPS_UNwrapped_nored' target=\"_blank\">https://wandb.ai/antvis/HPS_UNwrapped_nored</a>"
      ],
      "text/plain": [
       "<IPython.core.display.HTML object>"
      ]
     },
     "metadata": {},
     "output_type": "display_data"
    },
    {
     "data": {
      "text/html": [
       " View sweep at <a href='https://wandb.ai/antvis/HPS_UNwrapped_nored/sweeps/tqynkolq' target=\"_blank\">https://wandb.ai/antvis/HPS_UNwrapped_nored/sweeps/tqynkolq</a>"
      ],
      "text/plain": [
       "<IPython.core.display.HTML object>"
      ]
     },
     "metadata": {},
     "output_type": "display_data"
    },
    {
     "data": {
      "text/html": [
       " View run at <a href='https://wandb.ai/antvis/HPS_UNwrapped_nored/runs/xc00h7mj' target=\"_blank\">https://wandb.ai/antvis/HPS_UNwrapped_nored/runs/xc00h7mj</a>"
      ],
      "text/plain": [
       "<IPython.core.display.HTML object>"
      ]
     },
     "metadata": {},
     "output_type": "display_data"
    },
    {
     "name": "stdout",
     "output_type": "stream",
     "text": [
      "0.09230769230769231\n",
      "0.0821917808219178\n",
      "0.09076923076923077\n",
      "0.0821917808219178\n",
      "0.09384615384615384\n",
      "0.0821917808219178\n",
      "0.09076923076923077\n",
      "0.0821917808219178\n",
      "0.09230769230769231\n",
      "0.0821917808219178\n",
      "0.09230769230769231\n",
      "0.0821917808219178\n",
      "0.09384615384615384\n",
      "0.0821917808219178\n",
      "0.08923076923076922\n",
      "0.0821917808219178\n",
      "0.09230769230769231\n",
      "0.0821917808219178\n",
      "0.0876923076923077\n",
      "0.0821917808219178\n",
      "0.09230769230769231\n",
      "0.0821917808219178\n",
      "0.09230769230769231\n",
      "0.0821917808219178\n",
      "0.09230769230769231\n",
      "0.0821917808219178\n",
      "0.09384615384615384\n",
      "0.0821917808219178\n",
      "0.08923076923076922\n",
      "0.0821917808219178\n"
     ]
    }
   ],
   "source": [
    "#wandb.agent(sweep_id, train, count=25)"
   ]
  }
 ],
 "metadata": {
  "kernelspec": {
   "display_name": "Python 3",
   "language": "python",
   "name": "python3"
  },
  "language_info": {
   "codemirror_mode": {
    "name": "ipython",
    "version": 3
   },
   "file_extension": ".py",
   "mimetype": "text/x-python",
   "name": "python",
   "nbconvert_exporter": "python",
   "pygments_lexer": "ipython3",
   "version": "3.8.10"
  }
 },
 "nbformat": 4,
 "nbformat_minor": 4
}
