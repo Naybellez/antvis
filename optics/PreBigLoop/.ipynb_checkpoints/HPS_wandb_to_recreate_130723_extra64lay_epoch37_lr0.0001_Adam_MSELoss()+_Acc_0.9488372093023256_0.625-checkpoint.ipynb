{
 "cells": [
  {
   "cell_type": "code",
   "execution_count": 1,
   "metadata": {},
   "outputs": [
    {
     "name": "stderr",
     "output_type": "stream",
     "text": [
      "/usr/lib/python3/dist-packages/requests/__init__.py:89: RequestsDependencyWarning: urllib3 (2.0.4) or chardet (3.0.4) doesn't match a supported version!\n",
      "  warnings.warn(\"urllib3 ({}) or chardet ({}) doesn't match a supported \"\n"
     ]
    }
   ],
   "source": [
    "# Imports\n",
    "\n",
    "import cv2\n",
    "from PIL import Image\n",
    "\n",
    "from matplotlib import pyplot as plt\n",
    "import numpy as np\n",
    "import pandas as pd\n",
    "import math as maths\n",
    "\n",
    "import os\n",
    "import random\n",
    "\n",
    "from sklearn.model_selection import train_test_split\n",
    "\n",
    "import torch\n",
    "import torch.nn as nn\n",
    "from torch.nn import functional\n",
    "#from torchsummary import summary\n",
    "#import torchvision.transforms as transforms\n",
    "\n",
    "from tqdm import tqdm\n",
    "from IPython.display import clear_output\n",
    "\n",
    "import wandb\n",
    "import pprint\n",
    "\n",
    "from functions import Unwrap, open_process_image, tensoring, label_oh_tf, loop\n",
    "from architectures import vgg16TorchNet"
   ]
  },
  {
   "cell_type": "code",
   "execution_count": 2,
   "metadata": {},
   "outputs": [
    {
     "name": "stderr",
     "output_type": "stream",
     "text": [
      "\u001b[34m\u001b[1mwandb\u001b[0m: Currently logged in as: \u001b[33mnaughticalnonsence\u001b[0m (\u001b[33mantvis\u001b[0m). Use \u001b[1m`wandb login --relogin`\u001b[0m to force relogin\n"
     ]
    },
    {
     "data": {
      "text/plain": [
       "True"
      ]
     },
     "execution_count": 2,
     "metadata": {},
     "output_type": "execute_result"
    }
   ],
   "source": [
    "wandb.login()"
   ]
  },
  {
   "cell_type": "code",
   "execution_count": 6,
   "metadata": {
    "scrolled": true
   },
   "outputs": [
    {
     "name": "stdout",
     "output_type": "stream",
     "text": [
      "{'method': 'random',\n",
      " 'metric': {'goal': 'minimize', 'name': 'loss'},\n",
      " 'parameters': {'dropout': {'values': [0.3, 0.4, 0.5]},\n",
      "                'epochs': {'value': 30},\n",
      "                'learning_rate': {'distribution': 'log_uniform_values',\n",
      "                                  'max': 0.1,\n",
      "                                  'min': 0.0001},\n",
      "                'lin_layer_size': {'values': [100, 128, 256, 512]},\n",
      "                'optimizer': {'values': ['adam', 'sgd']}}}\n"
     ]
    }
   ],
   "source": [
    "config = {\n",
    "    'method': 'random'\n",
    "}\n",
    "\n",
    "metric= {'name': 'loss',\n",
    "        'goal': 'minimize'}\n",
    "config['metric'] = metric\n",
    "\n",
    "params = {\n",
    "    'optimizer' :{\n",
    "        'values':['adam', 'sgd']\n",
    "    },\n",
    "    'lin_layer_size': {\n",
    "        'values': [100, 128, 256, 512]\n",
    "    },\n",
    "    'dropout': {\n",
    "        'values': [0.3, 0.4, 0.5]\n",
    "    },\n",
    "}\n",
    "\n",
    "config['parameters'] = params\n",
    "\n",
    "params.update({\n",
    "    'epochs': {\n",
    "        'value':30\n",
    "    }\n",
    "})\n",
    "\n",
    "params.update({\n",
    "    'learning_rate': {\n",
    "        'distribution': 'log_uniform_values',\n",
    "        'min': 0.0001,\n",
    "        'max': 0.1\n",
    "    }\n",
    "})\n",
    "\n",
    "pprint.pprint(config)"
   ]
  },
  {
   "cell_type": "code",
   "execution_count": 8,
   "metadata": {
    "scrolled": true
   },
   "outputs": [
    {
     "name": "stdout",
     "output_type": "stream",
     "text": [
      "Create sweep with ID: cba4feot\n",
      "Sweep URL: https://wandb.ai/antvis/HPS_recreate_wrapper_62/sweeps/cba4feot\n",
      "Using cuda:0 device\n"
     ]
    }
   ],
   "source": [
    "sweep_id = wandb.sweep(config, project='HPS_recreate_wrapper_62')\n",
    "\n",
    "device = \"cuda:0\" if torch.cuda.is_available() else \"cpu\"\n",
    "print(f\"Using {device} device\")"
   ]
  },
  {
   "cell_type": "code",
   "execution_count": null,
   "metadata": {},
   "outputs": [],
   "source": [
    "def loop(model, X, Y, epoch, loss_fn, device, optimizer =None, train =True):\n",
    "    model = model\n",
    "    total_samples = len(X)\n",
    "    if train:\n",
    "        model.train()\n",
    "        lr_ls = []\n",
    "    else:\n",
    "        model.eval()\n",
    "    \n",
    "    predict_list = []\n",
    "    total_count = 0\n",
    "    num_correct = 0\n",
    "    current_loss = 0\n",
    "\n",
    "    for idx, img in enumerate(X):\n",
    "        tense = tensoring(img).to(device)\n",
    "        \n",
    "        prediction = model.forward(tense)\t\n",
    "        label = label_oh_tf(Y[idx])\n",
    "\n",
    "        if train:\n",
    "            lr_ls.append(optimizer.param_groups[0]['lr'])\n",
    "\n",
    "        loss = loss_fn(prediction, label)\n",
    "        predict_list.append(prediction.argmax())\n",
    "\n",
    "        if prediction.argmax() == label.argmax():\n",
    "            num_correct +=1\n",
    "\n",
    "        total_count+=1\n",
    "            current_loss += loss.item()\n",
    "            \n",
    "        if train:\n",
    "            optimizer.zero_grad()\n",
    "            loss.backward()\n",
    "            optimizer.step()\n",
    "            \n",
    "    print(num_correct/len(X))\n",
    "    if train:\n",
    "        return current_loss, predict_list, num_correct, model, optimizer, lr_ls\n",
    "    else:\n",
    "        return current_loss, predict_list, num_correct\n",
    "\n"
   ]
  },
  {
   "cell_type": "code",
   "execution_count": 9,
   "metadata": {},
   "outputs": [],
   "source": [
    "def import_imagedata():\n",
    "    images = []\n",
    "    labels = []\n",
    "\n",
    "    file_path = r'/its/home/nn268/optics/images/'\n",
    "\n",
    "    for file in os.listdir(file_path):\n",
    "        if file[0:4] == 'IDSW':\n",
    "            i=int(file[5:7]) -1\n",
    "            i = str(i)\n",
    "            labels.append(i)\n",
    "\n",
    "    for i in os.listdir(file_path):\n",
    "        if i[0:4] == 'IDSW':\n",
    "            j=file_path+i\n",
    "            images.append(j)\n",
    "\n",
    "    label_arr =np.array(labels)\n",
    "    image_arr = np.array(images)\n",
    "    return image_arr, label_arr\n",
    "\n",
    "\n",
    "\n",
    "def build_optimizer(network, optimizer, learning_rate):\n",
    "    if optimizer == 'SGD':\n",
    "        optimizer = torch.optim.SGD(network.parameters(),\n",
    "                              lr=learning_rate, momentum=0.9)\n",
    "    elif optimizer == \"adam\":\n",
    "        optimizer = torch.optim.Adam(network.parameters(),\n",
    "                               lr=learning_rate)\n",
    "    return optimizer\n",
    "\n",
    "\n",
    "def build_net(lin_layer_size, dropout):\n",
    "    class vgg16TorchNet(nn.Module):\n",
    "        def __init__(self):\n",
    "            super(vgg16TorchNet, self).__init__()\n",
    "            self.flatten = nn.Flatten()\n",
    "\n",
    "            self.conv_layers = nn.Sequential(  #\n",
    "                  nn.Conv2d(in_channels=3, out_channels=32, kernel_size=3, padding=2),\n",
    "                  nn.ReLU(), #inplace=True\n",
    "                  nn.Dropout(p=dropout),\n",
    "                  nn.Conv2d(in_channels=32, out_channels=64, kernel_size=3, padding=2),\n",
    "                  nn.ReLU(), \n",
    "                  nn.Conv2d(in_channels =64, out_channels=64, kernel_size=3),\n",
    "                  nn.ReLU(),\n",
    "                  nn.MaxPool2d(2, 2),\n",
    "                  nn.Conv2d(in_channels=64, out_channels=128, kernel_size=3, padding=2),\n",
    "                  nn.ReLU(), #\n",
    "                  nn.Conv2d(in_channels =128, out_channels=128, kernel_size=3),\n",
    "                  nn.ReLU(),\n",
    "                  nn.MaxPool2d(2,2),\n",
    "                  nn.Conv2d(in_channels=128, out_channels=256, kernel_size=3, padding=2),\n",
    "                  nn.ReLU(), \n",
    "                  nn.Conv2d(in_channels =256, out_channels=256, kernel_size=3),\n",
    "                  nn.ReLU(),\n",
    "                  nn.MaxPool2d(2,2),\n",
    "                  nn.Dropout(p=dropout), # \n",
    "              )\n",
    "\n",
    "            self.linear_1 = nn.Sequential(    \n",
    "                nn.Linear(16384, lin_layer_size),\n",
    "                nn.ReLU(),\n",
    "                nn.Linear(lin_layer_size,lin_layer_size),\n",
    "                nn.ReLU(),\n",
    "                nn.Dropout(p=dropout),\n",
    "                nn.Linear(100,11),\n",
    "                nn.Softmax(),\n",
    "            )\n",
    "\n",
    "        def forward(self, x):\n",
    "          x= self.conv_layers(x)\n",
    "          x = x.flatten()\n",
    "          x = x.squeeze()\n",
    "          x = self.linear_1(x)\n",
    "          return x\n",
    "\n",
    "    model = vgg16TorchNet()\n",
    "    return model\n",
    "\n",
    "\n",
    "\n",
    "def train(config=None):\n",
    "    with wandb.init(config=config):\n",
    "        config = wandb.config\n",
    "        # vgg16TorchNet\n",
    "        network = vgg16TorchNet().to(device)\n",
    "        optimizer = build_optimizer(network, config.optimizer, config.learning_rate)\n",
    "        loss_fn = nn.MSELoss()\n",
    "        for epoch in range(config.epochs):\n",
    "            print('\\n EPOCH \\n')\n",
    "            t_loss, predict_list, t_num_correct, model, optimizer, lr_ls = loop(network, x_train, y_train, epoch, loss_fn, device, optimizer=optimizer)\n",
    "            v_loss, __, v_num_correct= loop(model, x_val, y_val, epoch, loss_fn, device, train=False) \n",
    "            #wandb.log({'run_loss': loss, 'epoch':epoch})\n",
    "            \n",
    "            t_accuracy = (t_num_correct /len(x_train))*100\n",
    "            v_accuracy= (v_num_correct / len(x_val))*100\n",
    "            t_avg_loss =t_loss/len(x_train)\n",
    "            v_avg_loss = v_loss /len(x_val)\n",
    "            \n",
    "            wandb.log({'avg_train_loss': t_avg_loss, 'epoch':epoch})\n",
    "            wandb.log({'avg_val_loss': v_avg_loss, 'epoch':epoch})\n",
    "            wandb.log({'train_loss': t_loss, 'epoch':epoch})\n",
    "            wandb.log({'val_loss': v_loss, 'epoch':epoch})\n",
    "            wandb.log({'train_accuracy_%': t_accuracy})\n",
    "            wandb.log({'val_accuracy_%': v_accuracy})"
   ]
  },
  {
   "cell_type": "code",
   "execution_count": 42,
   "metadata": {},
   "outputs": [
    {
     "name": "stdout",
     "output_type": "stream",
     "text": [
      "(2880, 2880, 3)\n",
      "1 torch.Size([3, 144, 452])\n",
      "torch.Size([1, 3, 144, 452])\n"
     ]
    },
    {
     "data": {
      "image/png": "[encoded data removed]",
      "text/plain": [
       "<Figure size 432x288 with 1 Axes>"
      ]
     },
     "metadata": {
      "needs_background": "light"
     },
     "output_type": "display_data"
    }
   ],
   "source": [
    "\"\"\"x, y = import_imagedata()\n",
    "test_im = prepro.open_(x[0])\n",
    "#test_im = prepro.zero_green_chan(test_im)\n",
    "#test_im = prepro.zero_red_chan(test_im)\n",
    "test_im = prepro.zero_blue_chan(test_im)\n",
    "print(test_im.shape)\n",
    "test_im = Unwrap(test_im)\n",
    "test_im = prepro.to_tensor(test_im)\n",
    "print(test_im.shape)\n",
    "test_im= test_im.squeeze()\n",
    "test_im= test_im.permute(1, 2, 0)\n",
    "test_im = np.array(test_im.cpu())*6\n",
    "\n",
    "plt.imshow(test_im, cmap = plt.get_cmap('gray'))\n",
    "plt.axis(False)\n",
    "plt.show()\"\"\"\n"
   ]
  },
  {
   "cell_type": "code",
   "execution_count": 34,
   "metadata": {},
   "outputs": [],
   "source": [
    "import torch.nn.functional as F\n",
    "\n",
    "class ImageProcessor:\n",
    "\n",
    "    def __init__(self, device):\n",
    "        self.device = device \n",
    "\n",
    "    def zero_red_chan(self, img):\n",
    "        img[:,:,2] = np.zeros([img.shape[0], img.shape[1]])\n",
    "        return img\n",
    "    \n",
    "    def zero_blue_chan(self, img):\n",
    "        img[:,:,0] = np.zeros([img.shape[0], img.shape[1]])\n",
    "        return img\n",
    "    \n",
    "    def zero_green_chan(self, img):\n",
    "        img[:,:,1] = np.zeros([img.shape[0], img.shape[1]])\n",
    "        return img\n",
    "    \n",
    "    def grey(self, img):\n",
    "        return cv2.cvtColor(img, cv2.COLOR_BGR2GRAY)\n",
    "\n",
    "    def open_(self, file_path):\n",
    "        img = cv2.imread(file_path) \n",
    "        #img = self.grey(img)\n",
    "        #img = self.unwrap(img) \n",
    "        return img\n",
    "\n",
    "    def to_tensor(self, img):\n",
    "        img_tensor = torch.tensor(img, dtype=torch.float32)\n",
    "        img_tensor = F.normalize(img_tensor)\n",
    "        img_tensor = img_tensor.permute(2, 0, 1) \n",
    "        print('1', img_tensor.shape)\n",
    "        if img_tensor.shape[1] == img_tensor.shape[2]:\n",
    "            img_tensor.reshape(1,3, 32, 32)\n",
    "        elif img_tensor.shape[1] != img_tensor.shape[2]:\n",
    "            img_tensor = img_tensor.reshape(1, 3, 144, 452) \n",
    "        img_tensor = img_tensor.to(self.device)\n",
    "        return img_tensor\n",
    "\n",
    "prepro = ImageProcessor(device)\n",
    "#img_tensor = processor.to_tensor(processor.open_and_process('image.jpg'))"
   ]
  },
  {
   "cell_type": "code",
   "execution_count": 12,
   "metadata": {},
   "outputs": [
    {
     "name": "stdout",
     "output_type": "stream",
     "text": [
      "650 73\n"
     ]
    }
   ],
   "source": [
    "x, y = import_imagedata()\n",
    "\n",
    "random_seed = random.seed()\n",
    "\n",
    "x_train, x_test, y_train, y_test = train_test_split(x, y, test_size=0.3,\n",
    "                                                    random_state=42) #, stratify=np.array(label_arr)\n",
    "\n",
    "x_train, x_val, y_train, y_val = train_test_split(x_train, y_train,\n",
    "                                                  test_size = 0.1, train_size=0.9,\n",
    "                                      random_state=random_seed, shuffle = True) #,stratify=np.array(label_arr)[y_train]\n",
    "\n",
    "print(len(x_train), len(x_val))"
   ]
  },
  {
   "cell_type": "code",
   "execution_count": null,
   "metadata": {},
   "outputs": [],
   "source": [
    "wandb.agent(sweep_id, train, count=1)"
   ]
  }
 ],
 "metadata": {
  "kernelspec": {
   "display_name": "Python 3",
   "language": "python",
   "name": "python3"
  },
  "language_info": {
   "codemirror_mode": {
    "name": "ipython",
    "version": 3
   },
   "file_extension": ".py",
   "mimetype": "text/x-python",
   "name": "python",
   "nbconvert_exporter": "python",
   "pygments_lexer": "ipython3",
   "version": "3.8.10"
  }
 },
 "nbformat": 4,
 "nbformat_minor": 4
}
