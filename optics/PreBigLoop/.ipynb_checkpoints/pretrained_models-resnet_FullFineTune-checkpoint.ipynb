{
 "cells": [
  {
   "cell_type": "code",
   "execution_count": 2,
   "metadata": {
    "scrolled": true
   },
   "outputs": [],
   "source": [
    "import os\n",
    "import numpy as np\n",
    "from sklearn.model_selection import train_test_split\n",
    "\n",
    "from functions import import_imagedata, label_oh_tf, ImageProcessor\n",
    "import torch\n",
    "import torch.nn as nn\n",
    "import torch.nn.functional as F\n",
    "from torchvision import datasets, models, transforms\n",
    "import torch.optim as optim\n",
    "from torch.optim import lr_scheduler\n",
    "\n",
    "from sklearn.metrics import f1_score, accuracy_score, confusion_matrix, ConfusionMatrixDisplay\n",
    "from torchvision.models import vgg16\n",
    "from torchvision.models import resnet101\n",
    "\n",
    "import cv2\n",
    "\n",
    "from torch.utils.data import DataLoader\n",
    "import wandb\n",
    "from fns4wandb import train_log, build_optimizer\n",
    "from copy import deepcopy\n",
    "from tqdm import tqdm\n",
    "\n",
    "import random\n",
    "from sklearn.metrics import f1_score, accuracy_score, confusion_matrix, ConfusionMatrixDisplay\n",
    "import matplotlib.pyplot as plt\n",
    "\n",
    "import pickle\n",
    "from fns4wandb import set_lossfn"
   ]
  },
  {
   "cell_type": "code",
   "execution_count": 3,
   "metadata": {},
   "outputs": [],
   "source": [
    "device = \"cuda:1\" if torch.cuda.is_available() else \"cpu\""
   ]
  },
  {
   "cell_type": "code",
   "execution_count": 4,
   "metadata": {},
   "outputs": [
    {
     "name": "stdout",
     "output_type": "stream",
     "text": [
      "Sequential(\n",
      "  (0): Conv2d(3, 64, kernel_size=(7, 7), stride=(2, 2), padding=(3, 3), bias=False)\n",
      "  (1): BatchNorm2d(64, eps=1e-05, momentum=0.1, affine=True, track_running_stats=True)\n",
      "  (2): ReLU(inplace=True)\n",
      "  (3): MaxPool2d(kernel_size=3, stride=2, padding=1, dilation=1, ceil_mode=False)\n",
      "  (4): Sequential(\n",
      "    (0): Bottleneck(\n",
      "      (conv1): Conv2d(64, 64, kernel_size=(1, 1), stride=(1, 1), bias=False)\n",
      "      (bn1): BatchNorm2d(64, eps=1e-05, momentum=0.1, affine=True, track_running_stats=True)\n",
      "      (conv2): Conv2d(64, 64, kernel_size=(3, 3), stride=(1, 1), padding=(1, 1), bias=False)\n",
      "      (bn2): BatchNorm2d(64, eps=1e-05, momentum=0.1, affine=True, track_running_stats=True)\n",
      "      (conv3): Conv2d(64, 256, kernel_size=(1, 1), stride=(1, 1), bias=False)\n",
      "      (bn3): BatchNorm2d(256, eps=1e-05, momentum=0.1, affine=True, track_running_stats=True)\n",
      "      (relu): ReLU(inplace=True)\n",
      "      (downsample): Sequential(\n",
      "        (0): Conv2d(64, 256, kernel_size=(1, 1), stride=(1, 1), bias=False)\n",
      "        (1): BatchNorm2d(256, eps=1e-05, momentum=0.1, affine=True, track_running_stats=True)\n",
      "      )\n",
      "    )\n",
      "    (1): Bottleneck(\n",
      "      (conv1): Conv2d(256, 64, kernel_size=(1, 1), stride=(1, 1), bias=False)\n",
      "      (bn1): BatchNorm2d(64, eps=1e-05, momentum=0.1, affine=True, track_running_stats=True)\n",
      "      (conv2): Conv2d(64, 64, kernel_size=(3, 3), stride=(1, 1), padding=(1, 1), bias=False)\n",
      "      (bn2): BatchNorm2d(64, eps=1e-05, momentum=0.1, affine=True, track_running_stats=True)\n",
      "      (conv3): Conv2d(64, 256, kernel_size=(1, 1), stride=(1, 1), bias=False)\n",
      "      (bn3): BatchNorm2d(256, eps=1e-05, momentum=0.1, affine=True, track_running_stats=True)\n",
      "      (relu): ReLU(inplace=True)\n",
      "    )\n",
      "    (2): Bottleneck(\n",
      "      (conv1): Conv2d(256, 64, kernel_size=(1, 1), stride=(1, 1), bias=False)\n",
      "      (bn1): BatchNorm2d(64, eps=1e-05, momentum=0.1, affine=True, track_running_stats=True)\n",
      "      (conv2): Conv2d(64, 64, kernel_size=(3, 3), stride=(1, 1), padding=(1, 1), bias=False)\n",
      "      (bn2): BatchNorm2d(64, eps=1e-05, momentum=0.1, affine=True, track_running_stats=True)\n",
      "      (conv3): Conv2d(64, 256, kernel_size=(1, 1), stride=(1, 1), bias=False)\n",
      "      (bn3): BatchNorm2d(256, eps=1e-05, momentum=0.1, affine=True, track_running_stats=True)\n",
      "      (relu): ReLU(inplace=True)\n",
      "    )\n",
      "  )\n",
      "  (5): Sequential(\n",
      "    (0): Bottleneck(\n",
      "      (conv1): Conv2d(256, 128, kernel_size=(1, 1), stride=(1, 1), bias=False)\n",
      "      (bn1): BatchNorm2d(128, eps=1e-05, momentum=0.1, affine=True, track_running_stats=True)\n",
      "      (conv2): Conv2d(128, 128, kernel_size=(3, 3), stride=(2, 2), padding=(1, 1), bias=False)\n",
      "      (bn2): BatchNorm2d(128, eps=1e-05, momentum=0.1, affine=True, track_running_stats=True)\n",
      "      (conv3): Conv2d(128, 512, kernel_size=(1, 1), stride=(1, 1), bias=False)\n",
      "      (bn3): BatchNorm2d(512, eps=1e-05, momentum=0.1, affine=True, track_running_stats=True)\n",
      "      (relu): ReLU(inplace=True)\n",
      "      (downsample): Sequential(\n",
      "        (0): Conv2d(256, 512, kernel_size=(1, 1), stride=(2, 2), bias=False)\n",
      "        (1): BatchNorm2d(512, eps=1e-05, momentum=0.1, affine=True, track_running_stats=True)\n",
      "      )\n",
      "    )\n",
      "    (1): Bottleneck(\n",
      "      (conv1): Conv2d(512, 128, kernel_size=(1, 1), stride=(1, 1), bias=False)\n",
      "      (bn1): BatchNorm2d(128, eps=1e-05, momentum=0.1, affine=True, track_running_stats=True)\n",
      "      (conv2): Conv2d(128, 128, kernel_size=(3, 3), stride=(1, 1), padding=(1, 1), bias=False)\n",
      "      (bn2): BatchNorm2d(128, eps=1e-05, momentum=0.1, affine=True, track_running_stats=True)\n",
      "      (conv3): Conv2d(128, 512, kernel_size=(1, 1), stride=(1, 1), bias=False)\n",
      "      (bn3): BatchNorm2d(512, eps=1e-05, momentum=0.1, affine=True, track_running_stats=True)\n",
      "      (relu): ReLU(inplace=True)\n",
      "    )\n",
      "    (2): Bottleneck(\n",
      "      (conv1): Conv2d(512, 128, kernel_size=(1, 1), stride=(1, 1), bias=False)\n",
      "      (bn1): BatchNorm2d(128, eps=1e-05, momentum=0.1, affine=True, track_running_stats=True)\n",
      "      (conv2): Conv2d(128, 128, kernel_size=(3, 3), stride=(1, 1), padding=(1, 1), bias=False)\n",
      "      (bn2): BatchNorm2d(128, eps=1e-05, momentum=0.1, affine=True, track_running_stats=True)\n",
      "      (conv3): Conv2d(128, 512, kernel_size=(1, 1), stride=(1, 1), bias=False)\n",
      "      (bn3): BatchNorm2d(512, eps=1e-05, momentum=0.1, affine=True, track_running_stats=True)\n",
      "      (relu): ReLU(inplace=True)\n",
      "    )\n",
      "    (3): Bottleneck(\n",
      "      (conv1): Conv2d(512, 128, kernel_size=(1, 1), stride=(1, 1), bias=False)\n",
      "      (bn1): BatchNorm2d(128, eps=1e-05, momentum=0.1, affine=True, track_running_stats=True)\n",
      "      (conv2): Conv2d(128, 128, kernel_size=(3, 3), stride=(1, 1), padding=(1, 1), bias=False)\n",
      "      (bn2): BatchNorm2d(128, eps=1e-05, momentum=0.1, affine=True, track_running_stats=True)\n",
      "      (conv3): Conv2d(128, 512, kernel_size=(1, 1), stride=(1, 1), bias=False)\n",
      "      (bn3): BatchNorm2d(512, eps=1e-05, momentum=0.1, affine=True, track_running_stats=True)\n",
      "      (relu): ReLU(inplace=True)\n",
      "    )\n",
      "  )\n",
      "  (6): Sequential(\n",
      "    (0): Bottleneck(\n",
      "      (conv1): Conv2d(512, 256, kernel_size=(1, 1), stride=(1, 1), bias=False)\n",
      "      (bn1): BatchNorm2d(256, eps=1e-05, momentum=0.1, affine=True, track_running_stats=True)\n",
      "      (conv2): Conv2d(256, 256, kernel_size=(3, 3), stride=(2, 2), padding=(1, 1), bias=False)\n",
      "      (bn2): BatchNorm2d(256, eps=1e-05, momentum=0.1, affine=True, track_running_stats=True)\n",
      "      (conv3): Conv2d(256, 1024, kernel_size=(1, 1), stride=(1, 1), bias=False)\n",
      "      (bn3): BatchNorm2d(1024, eps=1e-05, momentum=0.1, affine=True, track_running_stats=True)\n",
      "      (relu): ReLU(inplace=True)\n",
      "      (downsample): Sequential(\n",
      "        (0): Conv2d(512, 1024, kernel_size=(1, 1), stride=(2, 2), bias=False)\n",
      "        (1): BatchNorm2d(1024, eps=1e-05, momentum=0.1, affine=True, track_running_stats=True)\n",
      "      )\n",
      "    )\n",
      "    (1): Bottleneck(\n",
      "      (conv1): Conv2d(1024, 256, kernel_size=(1, 1), stride=(1, 1), bias=False)\n",
      "      (bn1): BatchNorm2d(256, eps=1e-05, momentum=0.1, affine=True, track_running_stats=True)\n",
      "      (conv2): Conv2d(256, 256, kernel_size=(3, 3), stride=(1, 1), padding=(1, 1), bias=False)\n",
      "      (bn2): BatchNorm2d(256, eps=1e-05, momentum=0.1, affine=True, track_running_stats=True)\n",
      "      (conv3): Conv2d(256, 1024, kernel_size=(1, 1), stride=(1, 1), bias=False)\n",
      "      (bn3): BatchNorm2d(1024, eps=1e-05, momentum=0.1, affine=True, track_running_stats=True)\n",
      "      (relu): ReLU(inplace=True)\n",
      "    )\n",
      "    (2): Bottleneck(\n",
      "      (conv1): Conv2d(1024, 256, kernel_size=(1, 1), stride=(1, 1), bias=False)\n",
      "      (bn1): BatchNorm2d(256, eps=1e-05, momentum=0.1, affine=True, track_running_stats=True)\n",
      "      (conv2): Conv2d(256, 256, kernel_size=(3, 3), stride=(1, 1), padding=(1, 1), bias=False)\n",
      "      (bn2): BatchNorm2d(256, eps=1e-05, momentum=0.1, affine=True, track_running_stats=True)\n",
      "      (conv3): Conv2d(256, 1024, kernel_size=(1, 1), stride=(1, 1), bias=False)\n",
      "      (bn3): BatchNorm2d(1024, eps=1e-05, momentum=0.1, affine=True, track_running_stats=True)\n",
      "      (relu): ReLU(inplace=True)\n",
      "    )\n",
      "    (3): Bottleneck(\n",
      "      (conv1): Conv2d(1024, 256, kernel_size=(1, 1), stride=(1, 1), bias=False)\n",
      "      (bn1): BatchNorm2d(256, eps=1e-05, momentum=0.1, affine=True, track_running_stats=True)\n",
      "      (conv2): Conv2d(256, 256, kernel_size=(3, 3), stride=(1, 1), padding=(1, 1), bias=False)\n",
      "      (bn2): BatchNorm2d(256, eps=1e-05, momentum=0.1, affine=True, track_running_stats=True)\n",
      "      (conv3): Conv2d(256, 1024, kernel_size=(1, 1), stride=(1, 1), bias=False)\n",
      "      (bn3): BatchNorm2d(1024, eps=1e-05, momentum=0.1, affine=True, track_running_stats=True)\n",
      "      (relu): ReLU(inplace=True)\n",
      "    )\n",
      "    (4): Bottleneck(\n",
      "      (conv1): Conv2d(1024, 256, kernel_size=(1, 1), stride=(1, 1), bias=False)\n",
      "      (bn1): BatchNorm2d(256, eps=1e-05, momentum=0.1, affine=True, track_running_stats=True)\n",
      "      (conv2): Conv2d(256, 256, kernel_size=(3, 3), stride=(1, 1), padding=(1, 1), bias=False)\n",
      "      (bn2): BatchNorm2d(256, eps=1e-05, momentum=0.1, affine=True, track_running_stats=True)\n",
      "      (conv3): Conv2d(256, 1024, kernel_size=(1, 1), stride=(1, 1), bias=False)\n",
      "      (bn3): BatchNorm2d(1024, eps=1e-05, momentum=0.1, affine=True, track_running_stats=True)\n",
      "      (relu): ReLU(inplace=True)\n",
      "    )\n",
      "    (5): Bottleneck(\n",
      "      (conv1): Conv2d(1024, 256, kernel_size=(1, 1), stride=(1, 1), bias=False)\n",
      "      (bn1): BatchNorm2d(256, eps=1e-05, momentum=0.1, affine=True, track_running_stats=True)\n",
      "      (conv2): Conv2d(256, 256, kernel_size=(3, 3), stride=(1, 1), padding=(1, 1), bias=False)\n",
      "      (bn2): BatchNorm2d(256, eps=1e-05, momentum=0.1, affine=True, track_running_stats=True)\n",
      "      (conv3): Conv2d(256, 1024, kernel_size=(1, 1), stride=(1, 1), bias=False)\n",
      "      (bn3): BatchNorm2d(1024, eps=1e-05, momentum=0.1, affine=True, track_running_stats=True)\n",
      "      (relu): ReLU(inplace=True)\n",
      "    )\n",
      "    (6): Bottleneck(\n",
      "      (conv1): Conv2d(1024, 256, kernel_size=(1, 1), stride=(1, 1), bias=False)\n",
      "      (bn1): BatchNorm2d(256, eps=1e-05, momentum=0.1, affine=True, track_running_stats=True)\n",
      "      (conv2): Conv2d(256, 256, kernel_size=(3, 3), stride=(1, 1), padding=(1, 1), bias=False)\n",
      "      (bn2): BatchNorm2d(256, eps=1e-05, momentum=0.1, affine=True, track_running_stats=True)\n",
      "      (conv3): Conv2d(256, 1024, kernel_size=(1, 1), stride=(1, 1), bias=False)\n",
      "      (bn3): BatchNorm2d(1024, eps=1e-05, momentum=0.1, affine=True, track_running_stats=True)\n",
      "      (relu): ReLU(inplace=True)\n",
      "    )\n",
      "    (7): Bottleneck(\n",
      "      (conv1): Conv2d(1024, 256, kernel_size=(1, 1), stride=(1, 1), bias=False)\n",
      "      (bn1): BatchNorm2d(256, eps=1e-05, momentum=0.1, affine=True, track_running_stats=True)\n",
      "      (conv2): Conv2d(256, 256, kernel_size=(3, 3), stride=(1, 1), padding=(1, 1), bias=False)\n",
      "      (bn2): BatchNorm2d(256, eps=1e-05, momentum=0.1, affine=True, track_running_stats=True)\n",
      "      (conv3): Conv2d(256, 1024, kernel_size=(1, 1), stride=(1, 1), bias=False)\n",
      "      (bn3): BatchNorm2d(1024, eps=1e-05, momentum=0.1, affine=True, track_running_stats=True)\n",
      "      (relu): ReLU(inplace=True)\n",
      "    )\n",
      "    (8): Bottleneck(\n",
      "      (conv1): Conv2d(1024, 256, kernel_size=(1, 1), stride=(1, 1), bias=False)\n",
      "      (bn1): BatchNorm2d(256, eps=1e-05, momentum=0.1, affine=True, track_running_stats=True)\n",
      "      (conv2): Conv2d(256, 256, kernel_size=(3, 3), stride=(1, 1), padding=(1, 1), bias=False)\n",
      "      (bn2): BatchNorm2d(256, eps=1e-05, momentum=0.1, affine=True, track_running_stats=True)\n",
      "      (conv3): Conv2d(256, 1024, kernel_size=(1, 1), stride=(1, 1), bias=False)\n",
      "      (bn3): BatchNorm2d(1024, eps=1e-05, momentum=0.1, affine=True, track_running_stats=True)\n",
      "      (relu): ReLU(inplace=True)\n",
      "    )\n",
      "    (9): Bottleneck(\n",
      "      (conv1): Conv2d(1024, 256, kernel_size=(1, 1), stride=(1, 1), bias=False)\n",
      "      (bn1): BatchNorm2d(256, eps=1e-05, momentum=0.1, affine=True, track_running_stats=True)\n",
      "      (conv2): Conv2d(256, 256, kernel_size=(3, 3), stride=(1, 1), padding=(1, 1), bias=False)\n",
      "      (bn2): BatchNorm2d(256, eps=1e-05, momentum=0.1, affine=True, track_running_stats=True)\n",
      "      (conv3): Conv2d(256, 1024, kernel_size=(1, 1), stride=(1, 1), bias=False)\n",
      "      (bn3): BatchNorm2d(1024, eps=1e-05, momentum=0.1, affine=True, track_running_stats=True)\n",
      "      (relu): ReLU(inplace=True)\n",
      "    )\n",
      "    (10): Bottleneck(\n",
      "      (conv1): Conv2d(1024, 256, kernel_size=(1, 1), stride=(1, 1), bias=False)\n",
      "      (bn1): BatchNorm2d(256, eps=1e-05, momentum=0.1, affine=True, track_running_stats=True)\n",
      "      (conv2): Conv2d(256, 256, kernel_size=(3, 3), stride=(1, 1), padding=(1, 1), bias=False)\n",
      "      (bn2): BatchNorm2d(256, eps=1e-05, momentum=0.1, affine=True, track_running_stats=True)\n",
      "      (conv3): Conv2d(256, 1024, kernel_size=(1, 1), stride=(1, 1), bias=False)\n",
      "      (bn3): BatchNorm2d(1024, eps=1e-05, momentum=0.1, affine=True, track_running_stats=True)\n",
      "      (relu): ReLU(inplace=True)\n",
      "    )\n",
      "    (11): Bottleneck(\n",
      "      (conv1): Conv2d(1024, 256, kernel_size=(1, 1), stride=(1, 1), bias=False)\n",
      "      (bn1): BatchNorm2d(256, eps=1e-05, momentum=0.1, affine=True, track_running_stats=True)\n",
      "      (conv2): Conv2d(256, 256, kernel_size=(3, 3), stride=(1, 1), padding=(1, 1), bias=False)\n",
      "      (bn2): BatchNorm2d(256, eps=1e-05, momentum=0.1, affine=True, track_running_stats=True)\n",
      "      (conv3): Conv2d(256, 1024, kernel_size=(1, 1), stride=(1, 1), bias=False)\n",
      "      (bn3): BatchNorm2d(1024, eps=1e-05, momentum=0.1, affine=True, track_running_stats=True)\n",
      "      (relu): ReLU(inplace=True)\n",
      "    )\n",
      "    (12): Bottleneck(\n",
      "      (conv1): Conv2d(1024, 256, kernel_size=(1, 1), stride=(1, 1), bias=False)\n",
      "      (bn1): BatchNorm2d(256, eps=1e-05, momentum=0.1, affine=True, track_running_stats=True)\n",
      "      (conv2): Conv2d(256, 256, kernel_size=(3, 3), stride=(1, 1), padding=(1, 1), bias=False)\n",
      "      (bn2): BatchNorm2d(256, eps=1e-05, momentum=0.1, affine=True, track_running_stats=True)\n",
      "      (conv3): Conv2d(256, 1024, kernel_size=(1, 1), stride=(1, 1), bias=False)\n",
      "      (bn3): BatchNorm2d(1024, eps=1e-05, momentum=0.1, affine=True, track_running_stats=True)\n",
      "      (relu): ReLU(inplace=True)\n",
      "    )\n",
      "    (13): Bottleneck(\n",
      "      (conv1): Conv2d(1024, 256, kernel_size=(1, 1), stride=(1, 1), bias=False)\n",
      "      (bn1): BatchNorm2d(256, eps=1e-05, momentum=0.1, affine=True, track_running_stats=True)\n",
      "      (conv2): Conv2d(256, 256, kernel_size=(3, 3), stride=(1, 1), padding=(1, 1), bias=False)\n",
      "      (bn2): BatchNorm2d(256, eps=1e-05, momentum=0.1, affine=True, track_running_stats=True)\n",
      "      (conv3): Conv2d(256, 1024, kernel_size=(1, 1), stride=(1, 1), bias=False)\n",
      "      (bn3): BatchNorm2d(1024, eps=1e-05, momentum=0.1, affine=True, track_running_stats=True)\n",
      "      (relu): ReLU(inplace=True)\n",
      "    )\n",
      "    (14): Bottleneck(\n",
      "      (conv1): Conv2d(1024, 256, kernel_size=(1, 1), stride=(1, 1), bias=False)\n",
      "      (bn1): BatchNorm2d(256, eps=1e-05, momentum=0.1, affine=True, track_running_stats=True)\n",
      "      (conv2): Conv2d(256, 256, kernel_size=(3, 3), stride=(1, 1), padding=(1, 1), bias=False)\n",
      "      (bn2): BatchNorm2d(256, eps=1e-05, momentum=0.1, affine=True, track_running_stats=True)\n",
      "      (conv3): Conv2d(256, 1024, kernel_size=(1, 1), stride=(1, 1), bias=False)\n",
      "      (bn3): BatchNorm2d(1024, eps=1e-05, momentum=0.1, affine=True, track_running_stats=True)\n",
      "      (relu): ReLU(inplace=True)\n",
      "    )\n",
      "    (15): Bottleneck(\n",
      "      (conv1): Conv2d(1024, 256, kernel_size=(1, 1), stride=(1, 1), bias=False)\n",
      "      (bn1): BatchNorm2d(256, eps=1e-05, momentum=0.1, affine=True, track_running_stats=True)\n",
      "      (conv2): Conv2d(256, 256, kernel_size=(3, 3), stride=(1, 1), padding=(1, 1), bias=False)\n",
      "      (bn2): BatchNorm2d(256, eps=1e-05, momentum=0.1, affine=True, track_running_stats=True)\n",
      "      (conv3): Conv2d(256, 1024, kernel_size=(1, 1), stride=(1, 1), bias=False)\n",
      "      (bn3): BatchNorm2d(1024, eps=1e-05, momentum=0.1, affine=True, track_running_stats=True)\n",
      "      (relu): ReLU(inplace=True)\n",
      "    )\n",
      "    (16): Bottleneck(\n",
      "      (conv1): Conv2d(1024, 256, kernel_size=(1, 1), stride=(1, 1), bias=False)\n",
      "      (bn1): BatchNorm2d(256, eps=1e-05, momentum=0.1, affine=True, track_running_stats=True)\n",
      "      (conv2): Conv2d(256, 256, kernel_size=(3, 3), stride=(1, 1), padding=(1, 1), bias=False)\n",
      "      (bn2): BatchNorm2d(256, eps=1e-05, momentum=0.1, affine=True, track_running_stats=True)\n",
      "      (conv3): Conv2d(256, 1024, kernel_size=(1, 1), stride=(1, 1), bias=False)\n",
      "      (bn3): BatchNorm2d(1024, eps=1e-05, momentum=0.1, affine=True, track_running_stats=True)\n",
      "      (relu): ReLU(inplace=True)\n",
      "    )\n",
      "    (17): Bottleneck(\n",
      "      (conv1): Conv2d(1024, 256, kernel_size=(1, 1), stride=(1, 1), bias=False)\n",
      "      (bn1): BatchNorm2d(256, eps=1e-05, momentum=0.1, affine=True, track_running_stats=True)\n",
      "      (conv2): Conv2d(256, 256, kernel_size=(3, 3), stride=(1, 1), padding=(1, 1), bias=False)\n",
      "      (bn2): BatchNorm2d(256, eps=1e-05, momentum=0.1, affine=True, track_running_stats=True)\n",
      "      (conv3): Conv2d(256, 1024, kernel_size=(1, 1), stride=(1, 1), bias=False)\n",
      "      (bn3): BatchNorm2d(1024, eps=1e-05, momentum=0.1, affine=True, track_running_stats=True)\n",
      "      (relu): ReLU(inplace=True)\n",
      "    )\n",
      "    (18): Bottleneck(\n",
      "      (conv1): Conv2d(1024, 256, kernel_size=(1, 1), stride=(1, 1), bias=False)\n",
      "      (bn1): BatchNorm2d(256, eps=1e-05, momentum=0.1, affine=True, track_running_stats=True)\n",
      "      (conv2): Conv2d(256, 256, kernel_size=(3, 3), stride=(1, 1), padding=(1, 1), bias=False)\n",
      "      (bn2): BatchNorm2d(256, eps=1e-05, momentum=0.1, affine=True, track_running_stats=True)\n",
      "      (conv3): Conv2d(256, 1024, kernel_size=(1, 1), stride=(1, 1), bias=False)\n",
      "      (bn3): BatchNorm2d(1024, eps=1e-05, momentum=0.1, affine=True, track_running_stats=True)\n",
      "      (relu): ReLU(inplace=True)\n",
      "    )\n",
      "    (19): Bottleneck(\n",
      "      (conv1): Conv2d(1024, 256, kernel_size=(1, 1), stride=(1, 1), bias=False)\n",
      "      (bn1): BatchNorm2d(256, eps=1e-05, momentum=0.1, affine=True, track_running_stats=True)\n",
      "      (conv2): Conv2d(256, 256, kernel_size=(3, 3), stride=(1, 1), padding=(1, 1), bias=False)\n",
      "      (bn2): BatchNorm2d(256, eps=1e-05, momentum=0.1, affine=True, track_running_stats=True)\n",
      "      (conv3): Conv2d(256, 1024, kernel_size=(1, 1), stride=(1, 1), bias=False)\n",
      "      (bn3): BatchNorm2d(1024, eps=1e-05, momentum=0.1, affine=True, track_running_stats=True)\n",
      "      (relu): ReLU(inplace=True)\n",
      "    )\n",
      "    (20): Bottleneck(\n",
      "      (conv1): Conv2d(1024, 256, kernel_size=(1, 1), stride=(1, 1), bias=False)\n",
      "      (bn1): BatchNorm2d(256, eps=1e-05, momentum=0.1, affine=True, track_running_stats=True)\n",
      "      (conv2): Conv2d(256, 256, kernel_size=(3, 3), stride=(1, 1), padding=(1, 1), bias=False)\n",
      "      (bn2): BatchNorm2d(256, eps=1e-05, momentum=0.1, affine=True, track_running_stats=True)\n",
      "      (conv3): Conv2d(256, 1024, kernel_size=(1, 1), stride=(1, 1), bias=False)\n",
      "      (bn3): BatchNorm2d(1024, eps=1e-05, momentum=0.1, affine=True, track_running_stats=True)\n",
      "      (relu): ReLU(inplace=True)\n",
      "    )\n",
      "    (21): Bottleneck(\n",
      "      (conv1): Conv2d(1024, 256, kernel_size=(1, 1), stride=(1, 1), bias=False)\n",
      "      (bn1): BatchNorm2d(256, eps=1e-05, momentum=0.1, affine=True, track_running_stats=True)\n",
      "      (conv2): Conv2d(256, 256, kernel_size=(3, 3), stride=(1, 1), padding=(1, 1), bias=False)\n",
      "      (bn2): BatchNorm2d(256, eps=1e-05, momentum=0.1, affine=True, track_running_stats=True)\n",
      "      (conv3): Conv2d(256, 1024, kernel_size=(1, 1), stride=(1, 1), bias=False)\n",
      "      (bn3): BatchNorm2d(1024, eps=1e-05, momentum=0.1, affine=True, track_running_stats=True)\n",
      "      (relu): ReLU(inplace=True)\n",
      "    )\n",
      "    (22): Bottleneck(\n",
      "      (conv1): Conv2d(1024, 256, kernel_size=(1, 1), stride=(1, 1), bias=False)\n",
      "      (bn1): BatchNorm2d(256, eps=1e-05, momentum=0.1, affine=True, track_running_stats=True)\n",
      "      (conv2): Conv2d(256, 256, kernel_size=(3, 3), stride=(1, 1), padding=(1, 1), bias=False)\n",
      "      (bn2): BatchNorm2d(256, eps=1e-05, momentum=0.1, affine=True, track_running_stats=True)\n",
      "      (conv3): Conv2d(256, 1024, kernel_size=(1, 1), stride=(1, 1), bias=False)\n",
      "      (bn3): BatchNorm2d(1024, eps=1e-05, momentum=0.1, affine=True, track_running_stats=True)\n",
      "      (relu): ReLU(inplace=True)\n",
      "    )\n",
      "  )\n",
      "  (7): Sequential(\n",
      "    (0): Bottleneck(\n",
      "      (conv1): Conv2d(1024, 512, kernel_size=(1, 1), stride=(1, 1), bias=False)\n",
      "      (bn1): BatchNorm2d(512, eps=1e-05, momentum=0.1, affine=True, track_running_stats=True)\n",
      "      (conv2): Conv2d(512, 512, kernel_size=(3, 3), stride=(2, 2), padding=(1, 1), bias=False)\n",
      "      (bn2): BatchNorm2d(512, eps=1e-05, momentum=0.1, affine=True, track_running_stats=True)\n",
      "      (conv3): Conv2d(512, 2048, kernel_size=(1, 1), stride=(1, 1), bias=False)\n",
      "      (bn3): BatchNorm2d(2048, eps=1e-05, momentum=0.1, affine=True, track_running_stats=True)\n",
      "      (relu): ReLU(inplace=True)\n",
      "      (downsample): Sequential(\n",
      "        (0): Conv2d(1024, 2048, kernel_size=(1, 1), stride=(2, 2), bias=False)\n",
      "        (1): BatchNorm2d(2048, eps=1e-05, momentum=0.1, affine=True, track_running_stats=True)\n",
      "      )\n",
      "    )\n",
      "    (1): Bottleneck(\n",
      "      (conv1): Conv2d(2048, 512, kernel_size=(1, 1), stride=(1, 1), bias=False)\n",
      "      (bn1): BatchNorm2d(512, eps=1e-05, momentum=0.1, affine=True, track_running_stats=True)\n",
      "      (conv2): Conv2d(512, 512, kernel_size=(3, 3), stride=(1, 1), padding=(1, 1), bias=False)\n",
      "      (bn2): BatchNorm2d(512, eps=1e-05, momentum=0.1, affine=True, track_running_stats=True)\n",
      "      (conv3): Conv2d(512, 2048, kernel_size=(1, 1), stride=(1, 1), bias=False)\n",
      "      (bn3): BatchNorm2d(2048, eps=1e-05, momentum=0.1, affine=True, track_running_stats=True)\n",
      "      (relu): ReLU(inplace=True)\n",
      "    )\n",
      "    (2): Bottleneck(\n",
      "      (conv1): Conv2d(2048, 512, kernel_size=(1, 1), stride=(1, 1), bias=False)\n",
      "      (bn1): BatchNorm2d(512, eps=1e-05, momentum=0.1, affine=True, track_running_stats=True)\n",
      "      (conv2): Conv2d(512, 512, kernel_size=(3, 3), stride=(1, 1), padding=(1, 1), bias=False)\n",
      "      (bn2): BatchNorm2d(512, eps=1e-05, momentum=0.1, affine=True, track_running_stats=True)\n",
      "      (conv3): Conv2d(512, 2048, kernel_size=(1, 1), stride=(1, 1), bias=False)\n",
      "      (bn3): BatchNorm2d(2048, eps=1e-05, momentum=0.1, affine=True, track_running_stats=True)\n",
      "      (relu): ReLU(inplace=True)\n",
      "    )\n",
      "  )\n",
      "  (8): AdaptiveAvgPool2d(output_size=(1, 1))\n",
      ")\n"
     ]
    }
   ],
   "source": [
    "model_resnet = resnet101(weights=\"IMAGENET1K_V1\")#.eval\n",
    "\n",
    "newmodel = torch.nn.Sequential(*(list(model_resnet.children())[:-1]))\n",
    "newmodel=newmodel.to(device)\n",
    "print(newmodel)"
   ]
  },
  {
   "cell_type": "code",
   "execution_count": 5,
   "metadata": {},
   "outputs": [],
   "source": [
    "def metrics(label, prediction): #TypeError: Singleton array tensor(3) cannot be considered a valid collection.\n",
    "    \n",
    "    label= np.array(label.cpu())\n",
    "\n",
    "    predictions_np = prediction.cpu().detach().numpy()\n",
    "    #y_pred' parameter of f1_score must be an array-like or a sparse matrix. Got 7 instead.\n",
    "    predicted_classes = np.argmax(predictions_np, axis=0)\n",
    "    #print('metrics Label:   ', label)\n",
    "    #print('metrics prediction   ', predicted_classes)\n",
    "    #avg_f1_score = f1_score(label, predictions_np, average='macro')\n",
    "    acc = accuracy_score(label, predicted_classes)\n",
    "    \n",
    "    return acc"
   ]
  },
  {
   "cell_type": "code",
   "execution_count": 6,
   "metadata": {},
   "outputs": [],
   "source": [
    "def preprocess_im(img_path):\n",
    "    IP = ImageProcessor(device='cpu')\n",
    "    img = cv2.imread(img_path) #\n",
    "    img = IP.blank_padding(img, (224,224))\n",
    "    img = IP.to_tensor(img).to(device)\n",
    "    return img\n"
   ]
  },
  {
   "cell_type": "code",
   "execution_count": 7,
   "metadata": {},
   "outputs": [],
   "source": [
    "# get len of \n",
    "\n",
    "file_path = r'/its/home/nn268/antvis/antvis/optics/AugmentedDS_IDSW/'\n",
    "random_seed =1\n",
    "img_len = len(os.listdir(file_path))\n",
    "\n",
    "\n",
    "#print(ids[4])\n",
    "x, y = import_imagedata(file_path)\n",
    "\n",
    "x_train, x_test, y_train, y_tests = train_test_split(x,y, test_size=0.2, train_size=0.8,\n",
    "                                 random_state=random_seed, shuffle=True)\n",
    "x_train, x_val, y_train, y_val = train_test_split(x_train,y_train, test_size=0.1, train_size=0.8,\n",
    "                                 random_state=random_seed, shuffle=True)\n"
   ]
  },
  {
   "cell_type": "code",
   "execution_count": 8,
   "metadata": {},
   "outputs": [],
   "source": [
    "title = f'IDSW_resnet_fine_120_112023'\n",
    "save_dict = {'Run' : title,\n",
    "            'Current_Epoch': 0}\n",
    "                #r'/its/home/nn268/antvis/optics/\n",
    "save_location = r'pickles/'#pickles"
   ]
  },
  {
   "cell_type": "code",
   "execution_count": 9,
   "metadata": {},
   "outputs": [
    {
     "data": {
      "text/plain": [
       "'run_title = \"IDSW_RESNET_hp_fine_112023\"\\n\\nconfig = {\\n    \\'method\\': \\'random\\',\\n    \\'metric\\':{\\n        \\'goal\\': \\'minimize\\',\\n        \\'name\\': \\'val_loss\\'},\\n    \\'parameters\\': {\\n        #\\'dropout\\':{\\n        #    \\'values\\': [0.5, 0.4, 0.3]\\n        #},\\n        \\'weight_decay\\':{\\n            \\'values\\': [1e-5,2e-5, 3e-5,4e-5]\\n        },\\n        \\'epochs\\':{\\n            \\'value\\': 120\\n        },\\n        \\'lin_layer_size\\': {\\n            \\'values\\': [100] #, 150, 50\\n        },\\n        \\'first_lin_lay\\':{\\n            \\'values\\':[248832]\\n        },\\n        \\'optimizer\\': {\\n            \\'values\\': [\\'adam\\']\\n        },\\n            \\'learning_rate\\': {\\n                # a flat distribution between 0 and 0.1\\n                \\'distribution\\': \\'log_uniform_values\\',\\n                \\'min\\': 1e-6,\\n                \\'max\\': 1e-3\\n            },\\n        \\'loss_fn\\': {\\n            \\'values\\': [\\'CrossEntropy\\'] #\\'MSE\\', \\n        },\\n        \\'data_set\\':{\\n            \\'values\\':[\\'Augmented\\']\\n        },\\n            \\'scheduler\\': {\\n            \\'values\\': [0.2, 0.3, 0.4, 0.6]\\n        },\\n        \\'ks\\': {\\n            \\'values\\': [(3,5)]\\n        },\\n        \\'dropout\\':{\\n            \\'values\\': [0.5, 0.4, 0.3]\\n        },\\n        \\'channels\\':{\\n            \\'values\\': [3]\\n        },\\n        \\'num_classes\\': {\\n            \\'values\\': [11]\\n        },\\n        \\'model_name\\' : {\\'values\\': [\\'resnet_mlp\\']},\\n        \\'channels\\' : {\\'values\\': [3]},\\n        \\'image_path\\': {\\n            \\'values\\': [r\\'/its/home/nn268/antvis/antvis/optics/AugmentedDS_IDSW/\\']\\n        }\\n        }\\n    }\\n\\n'"
      ]
     },
     "execution_count": 9,
     "metadata": {},
     "output_type": "execute_result"
    }
   ],
   "source": [
    "\"\"\"run_title = \"IDSW_RESNET_hp_fine_112023\"\n",
    "\n",
    "config = {\n",
    "    'method': 'random',\n",
    "    'metric':{\n",
    "        'goal': 'minimize',\n",
    "        'name': 'val_loss'},\n",
    "    'parameters': {\n",
    "        #'dropout':{\n",
    "        #    'values': [0.5, 0.4, 0.3]\n",
    "        #},\n",
    "        'weight_decay':{\n",
    "            'values': [1e-5,2e-5, 3e-5,4e-5]\n",
    "        },\n",
    "        'epochs':{\n",
    "            'value': 120\n",
    "        },\n",
    "        'lin_layer_size': {\n",
    "            'values': [100] #, 150, 50\n",
    "        },\n",
    "        'first_lin_lay':{\n",
    "            'values':[248832]\n",
    "        },\n",
    "        'optimizer': {\n",
    "            'values': ['adam']\n",
    "        },\n",
    "            'learning_rate': {\n",
    "                # a flat distribution between 0 and 0.1\n",
    "                'distribution': 'log_uniform_values',\n",
    "                'min': 1e-6,\n",
    "                'max': 1e-3\n",
    "            },\n",
    "        'loss_fn': {\n",
    "            'values': ['CrossEntropy'] #'MSE', \n",
    "        },\n",
    "        'data_set':{\n",
    "            'values':['Augmented']\n",
    "        },\n",
    "            'scheduler': {\n",
    "            'values': [0.2, 0.3, 0.4, 0.6]\n",
    "        },\n",
    "        'ks': {\n",
    "            'values': [(3,5)]\n",
    "        },\n",
    "        'dropout':{\n",
    "            'values': [0.5, 0.4, 0.3]\n",
    "        },\n",
    "        'channels':{\n",
    "            'values': [3]\n",
    "        },\n",
    "        'num_classes': {\n",
    "            'values': [11]\n",
    "        },\n",
    "        'model_name' : {'values': ['resnet_mlp']},\n",
    "        'channels' : {'values': [3]},\n",
    "        'image_path': {\n",
    "            'values': [r'/its/home/nn268/antvis/antvis/optics/AugmentedDS_IDSW/']\n",
    "        }\n",
    "        }\n",
    "    }\n",
    "\n",
    "\"\"\""
   ]
  },
  {
   "cell_type": "code",
   "execution_count": 10,
   "metadata": {},
   "outputs": [
    {
     "data": {
      "text/plain": [
       "'IDSW_resnet_fine_120_112023'"
      ]
     },
     "execution_count": 10,
     "metadata": {},
     "output_type": "execute_result"
    }
   ],
   "source": [
    "save_dict['Run']"
   ]
  },
  {
   "cell_type": "code",
   "execution_count": 11,
   "metadata": {},
   "outputs": [],
   "source": [
    "class Squeeze(nn.Module):\n",
    "    def __init__(self):\n",
    "        super(Squeeze, self).__init__()\n",
    "    \n",
    "    def forward(self, x):\n",
    "        # Do your print / debug stuff here\n",
    "        x = x.squeeze(0)\n",
    "        x = x.squeeze(1)\n",
    "        x = x.squeeze(1)\n",
    "        return x"
   ]
  },
  {
   "cell_type": "code",
   "execution_count": 12,
   "metadata": {},
   "outputs": [],
   "source": [
    "\"\"\"config = dict(\n",
    "    epochs= 80, #30, \n",
    "    learning_rate =1e-6,\n",
    "    architecture ='CNN',\n",
    "    optimizer= 'adam',\n",
    "    weight_decay= 4e-5,\n",
    "    ks = (3,5),\n",
    "    scheduler=0.2,\n",
    "    f_lin_lay = 7168 #1024*7 = 7168\n",
    ")\"\"\"\n",
    "\n",
    "run_title = \"IDSW_resnet_fine_hp_80_112023\"\n",
    "\n",
    "config = {\n",
    "    'method': 'random',\n",
    "    'metric':{\n",
    "        'goal': 'minimize',\n",
    "        'name': 'val_loss'},\n",
    "    'parameters': {\n",
    "        #'dropout':{\n",
    "        #    'values': [0.5, 0.4, 0.3]\n",
    "        #},\n",
    "\n",
    "        'epochs':{\n",
    "            'value': 70\n",
    "        },\n",
    "\n",
    "        'first_lin_lay':{\n",
    "            'values':[248832]\n",
    "        },\n",
    "        'optimizer': {\n",
    "            'values': ['adam']\n",
    "        },\n",
    "            'learning_rate': {\n",
    "                # a flat distribution between 0 and 0.1\n",
    "                'distribution': 'log_uniform_values',\n",
    "                'min': 5e-5,\n",
    "                'max': 1e-2\n",
    "            },\n",
    "        'loss_fn': {\n",
    "            'values': ['CrossEntropy', 'MSE'] #'MSE', \n",
    "        },\n",
    "        'data_set':{\n",
    "            'values':['Augmented']\n",
    "        },\n",
    "            'scheduler': {\n",
    "            'values': [0.1, 0.01, 0.001]\n",
    "        },\n",
    "        'ks': {\n",
    "            'values': [(3,5)]\n",
    "        },\n",
    "\n",
    "        'channels':{\n",
    "            'values': [3]\n",
    "        },\n",
    "        'num_classes': {\n",
    "            'values': [11]\n",
    "        },\n",
    "        'model_name' : {'values': ['resnet_fine']},\n",
    "        'channels' : {'values': [3]},\n",
    "        'image_path': {\n",
    "            'values': [r'/its/home/nn268/antvis/antvis/optics/AugmentedDS_IDSW/']\n",
    "        }\n",
    "        }\n",
    "    }\n",
    "\n"
   ]
  },
  {
   "cell_type": "code",
   "execution_count": 13,
   "metadata": {},
   "outputs": [],
   "source": [
    "#!wandb login 2bf372d1273e4af99733e10529509d9b252efe88"
   ]
  },
  {
   "cell_type": "code",
   "execution_count": 14,
   "metadata": {
    "scrolled": true
   },
   "outputs": [
    {
     "name": "stderr",
     "output_type": "stream",
     "text": [
      "\u001b[34m\u001b[1mwandb\u001b[0m: Currently logged in as: \u001b[33mnaughticalnonsence\u001b[0m (\u001b[33mantvis\u001b[0m). Use \u001b[1m`wandb login --relogin`\u001b[0m to force relogin\n"
     ]
    },
    {
     "data": {
      "text/plain": [
       "True"
      ]
     },
     "execution_count": 14,
     "metadata": {},
     "output_type": "execute_result"
    }
   ],
   "source": [
    "wandb.login()"
   ]
  },
  {
   "cell_type": "code",
   "execution_count": 15,
   "metadata": {},
   "outputs": [
    {
     "name": "stdout",
     "output_type": "stream",
     "text": [
      "Create sweep with ID: hecdu5s5\n",
      "Sweep URL: https://wandb.ai/antvis/IDSW_resnet_fine_hp_80_112023/sweeps/hecdu5s5\n"
     ]
    }
   ],
   "source": [
    "sweep_id = wandb.sweep(config, project=f\"{run_title}\")"
   ]
  },
  {
   "cell_type": "code",
   "execution_count": 16,
   "metadata": {},
   "outputs": [],
   "source": [
    "#print(config)"
   ]
  },
  {
   "cell_type": "code",
   "execution_count": 17,
   "metadata": {},
   "outputs": [],
   "source": [
    "\n",
    "\n",
    "def train_model(model,  x_train, x_val, y_train, y_val, config, best_acc=0): #train_dl, val_dl, \n",
    "    #wandb.watch(model, log='all', log_freq=10)\n",
    "    #print(config)\n",
    "    loss_fn = set_lossfn(config['loss_fn']) # ****\n",
    "    \n",
    "    lr = config['learning_rate'] #1e-5 #config.learning_rate\n",
    "    optimizer = torch.optim.Adam(model.parameters(), lr=lr)#build_optimizer(model, optimizer=torch.optim.Adam(model.parameters(), lr=lr))#config.optimizer, config.learning_rate, config.weight_decay)\n",
    "    scheduler = lr_scheduler.ExponentialLR(optimizer, gamma=config['scheduler'], last_epoch=-1) #gamma=config.scheduler, last_epoch=-1)\n",
    "    \n",
    "    ####\n",
    "    \n",
    "    \n",
    "    model.train()\n",
    "    \n",
    "    \n",
    "    #losses= []\n",
    "    #predictions = []\n",
    "    t_loss_list = []\n",
    "    v_loss_list = []\n",
    "    t_predict_list = []\n",
    "    v_predict_list = []\n",
    "    t_accuracy_list = []\n",
    "    v_accuracy_list = []\n",
    "    t_label_list = []\n",
    "    v_label_list = []\n",
    "    #labels = []\n",
    "    \n",
    "    total_epochs = 0\n",
    "    for epoch in tqdm(range(config['epochs'])): #config.epochs)):\n",
    "        print('E   ', epoch)\n",
    "        t_correct = 0\n",
    "        v_correct = 0\n",
    "    \n",
    "        if epoch == 0:\n",
    "            model = model.to('cpu')\n",
    "            best_model = deepcopy(model)\n",
    "            model = model.to(device)\n",
    "            \n",
    "            \n",
    "        #train_ids = random.shuffle(train_ids)\n",
    "        #print(type(train_ids))\n",
    "        print('training...')\n",
    "        for idx, img in enumerate(x_train): \n",
    "            model.train()\n",
    "\n",
    "            x = preprocess_im(img)\n",
    "\n",
    "            train_prediction = model.forward(x)\n",
    "            \n",
    "            y = label_oh_tf(y_train[idx], device=device, num_classes=11) # use same index val to index y (labels) and turn into onehot encoded label\n",
    "\n",
    "            \"\"\"\n",
    "            if idx % 1000 == 0:\n",
    "                print(idx, ' / ', len(x_train))\n",
    "                !nvidia-smi\n",
    "            \"\"\"\n",
    "            #print(train_prediction, train_label)\n",
    "        \n",
    "        \n",
    "            t_loss = loss_fn(train_prediction, y)\n",
    "\n",
    "            if train_prediction.argmax() == y.argmax():\n",
    "                t_correct+=1\n",
    "\n",
    "            \n",
    "            optimizer.zero_grad()\n",
    "            t_loss.backward()\n",
    "            \n",
    "            optimizer.step()\n",
    "            scheduler.step()\n",
    "            \n",
    "            t_loss_list.append(t_loss.to('cpu'))\n",
    "            t_predict_list.append(train_prediction.to('cpu'))\n",
    "            t_label_list.append(y.to('cpu'))\n",
    "            \n",
    "            train_acc = (t_correct / len(x_train))\n",
    "        t_accuracy_list.append(train_acc)\n",
    "            \n",
    "            # accuracy at every step. every epoch / by x_train\n",
    "            \n",
    "        print('validating...')\n",
    "        \n",
    "        for idx, img in enumerate(x_val):\n",
    "            model.eval()\n",
    "            x = preprocess_im(img)\n",
    "\n",
    "            val_prediction = model.forward(x)\n",
    "            \n",
    "            y = label_oh_tf(y_val[idx], device=device, num_classes=11)\n",
    "            \"\"\"\n",
    "            if idx % 100 == 0:\n",
    "                print(idx, ' / ', len(x_val))\n",
    "                !nvidia-smi\n",
    "            \"\"\"\n",
    "\n",
    "            v_loss = loss_fn(val_prediction, y)\n",
    "            \n",
    "            if val_prediction.argmax() == y.argmax():\n",
    "                v_correct +=1\n",
    "                \n",
    "\n",
    "            v_loss = v_loss.to('cpu')\n",
    "            v_loss_list.append(v_loss.item())\n",
    "            \n",
    "            \n",
    "            val_prediction = val_prediction.to('cpu')\n",
    "            v_predict_list.append(val_prediction.detach().numpy())\n",
    "            \n",
    "            v_label_list.append(y.to('cpu').detach().numpy())\n",
    "            \n",
    "        val_acc = (v_correct / len(y_val))\n",
    "        v_accuracy_list.append(val_acc)\n",
    "            \n",
    "        total_epochs += epoch\n",
    "\n",
    "        if val_acc > best_acc:\n",
    "    \n",
    "            #print('Start Of SAve -----------------------------')\n",
    "            #!nvidia-smi\n",
    "\n",
    "            best_acc = val_acc\n",
    "            \n",
    "            model = model.to('cpu')\n",
    "            best_model = model#deepcopy(model)\n",
    "            model = model.to(device)\n",
    "            \n",
    "\n",
    "            \n",
    "            save_dict['Current_Epoch'] += config['epochs']\n",
    "            save_dict['training_samples'] = len(x_train)\n",
    "            save_dict['validation_samples'] = len(x_val)\n",
    "            save_dict['t_loss_list'] = t_loss_list\n",
    "            save_dict['t_predict_list'] = t_predict_list  \n",
    "            save_dict['t_accuracy_list'] = t_accuracy_list  #\n",
    "            save_dict['v_loss_list'] = v_loss_list\n",
    "            save_dict['v_predict_list'] = v_predict_list  #\n",
    "            save_dict['v_accuracy_list'] = v_accuracy_list  #\n",
    "            save_dict['t_labels'] = t_label_list\n",
    "            save_dict['v_labels'] = v_label_list\n",
    "            \n",
    "            \"\"\"model_architecture = [nn.Sequential(\n",
    "                            model_vgg16,\n",
    "                            Squeeze(),\n",
    "                            nn.Linear(4096,11),\n",
    "                            nn.Softmax(dim=0),\n",
    "                        )]\"\"\"\n",
    "\n",
    "            save_dict['model.state_dict'] = model.state_dict()# .to('cpu')\n",
    "            #save_dict['model_architecture_untrained'] = model_architecture\n",
    "\n",
    "            title = save_dict['Run']\n",
    "            with open(f'{save_location}{title}.pkl', 'wb+') as f:\n",
    "                pickle.dump(save_dict, f)\n",
    "            \n",
    "            print('improvment in metrics. model saved')\n",
    "\n",
    "            #print('END Of SAve -----------------------------')\n",
    "            #!nvidia-smi\n",
    "\n",
    "        \n",
    "\n",
    "        #if (epoch+1)%2==0:\n",
    "            #train_log(t_loss, v_loss, epoch)\n",
    "            #wandb.log({'train_accuracy_%': train_acc, 'epoch':epoch})\n",
    "            #wandb.log({'val_accuracy_%': val_acc, 'epoch':epoch})\n",
    "            \n",
    "    model = best_model\n",
    "    #labels = zip(t_label_list, v_label_list)\n",
    "    #losses = zip(t_loss_list, v_loss_list)\n",
    "    #predictions = zip(t_predict_list, v_predict_list)\n",
    "    return model,save_dict\n",
    "\n",
    "\n",
    "\n"
   ]
  },
  {
   "cell_type": "code",
   "execution_count": 18,
   "metadata": {},
   "outputs": [
    {
     "data": {
      "text/plain": [
       "'with wandb.init(project=title, config=config):\\n    config = wandb.config\\n    model = resnet\\n\\n    model, save_dict = train_model(model,x_train, x_val, y_train, y_val, config) #train_dl, val_dl\"\"\\n\\nreturn model, save_dict'"
      ]
     },
     "execution_count": 18,
     "metadata": {},
     "output_type": "execute_result"
    }
   ],
   "source": [
    "class PrintLayer(nn.Module):\n",
    "    def __init__(self):\n",
    "        super(PrintLayer, self).__init__()\n",
    "    \n",
    "    def forward(self, x):\n",
    "        # Do your print / debug stuff here\n",
    "        print(x.shape)\n",
    "        return x\n",
    "    \n",
    "    \n",
    "def pipeline(config): \n",
    "    \n",
    "    resnet = nn.Sequential(\n",
    "            newmodel,\n",
    "            Squeeze(),\n",
    "            nn.Linear(2048,11), #2048\n",
    "            nn.Softmax(dim=0),\n",
    "        )\n",
    "    \n",
    "    resnet.to(device)\n",
    "    model=resnet\n",
    "    loss_list=[]\n",
    "    model, save_dict = train_model(model,x_train, x_val, y_train, y_val, config) #train_dl, val_dl\"\"\n",
    "\n",
    "    return model, save_dict\n",
    "\n",
    "\"\"\"with wandb.init(project=title, config=config):\n",
    "    config = wandb.config\n",
    "    model = resnet\n",
    "\n",
    "    model, save_dict = train_model(model,x_train, x_val, y_train, y_val, config) #train_dl, val_dl\"\"\n",
    "\n",
    "return model, save_dict\"\"\""
   ]
  },
  {
   "cell_type": "code",
   "execution_count": null,
   "metadata": {},
   "outputs": [
    {
     "name": "stderr",
     "output_type": "stream",
     "text": [
      "\u001b[34m\u001b[1mwandb\u001b[0m: Agent Starting Run: onee7knq with config:\n",
      "\u001b[34m\u001b[1mwandb\u001b[0m: \tchannels: 3\n",
      "\u001b[34m\u001b[1mwandb\u001b[0m: \tdata_set: Augmented\n",
      "\u001b[34m\u001b[1mwandb\u001b[0m: \tepochs: 70\n",
      "\u001b[34m\u001b[1mwandb\u001b[0m: \tfirst_lin_lay: 248832\n",
      "\u001b[34m\u001b[1mwandb\u001b[0m: \timage_path: /its/home/nn268/antvis/antvis/optics/AugmentedDS_IDSW/\n",
      "\u001b[34m\u001b[1mwandb\u001b[0m: \tks: [3, 5]\n",
      "\u001b[34m\u001b[1mwandb\u001b[0m: \tlearning_rate: 8.779472462450602e-05\n",
      "\u001b[34m\u001b[1mwandb\u001b[0m: \tloss_fn: MSE\n",
      "\u001b[34m\u001b[1mwandb\u001b[0m: \tmodel_name: resnet_fine\n",
      "\u001b[34m\u001b[1mwandb\u001b[0m: \tnum_classes: 11\n",
      "\u001b[34m\u001b[1mwandb\u001b[0m: \toptimizer: adam\n",
      "\u001b[34m\u001b[1mwandb\u001b[0m: \tscheduler: 0.01\n"
     ]
    },
    {
     "data": {
      "text/html": [
       "wandb version 0.16.1 is available!  To upgrade, please run:\n",
       " $ pip install wandb --upgrade"
      ],
      "text/plain": [
       "<IPython.core.display.HTML object>"
      ]
     },
     "metadata": {},
     "output_type": "display_data"
    },
    {
     "data": {
      "text/html": [
       "Tracking run with wandb version 0.16.0"
      ],
      "text/plain": [
       "<IPython.core.display.HTML object>"
      ]
     },
     "metadata": {},
     "output_type": "display_data"
    },
    {
     "data": {
      "text/html": [
       "Run data is saved locally in <code>/its/home/nn268/antvis/antvis/optics/wandb/run-20231207_093757-onee7knq</code>"
      ],
      "text/plain": [
       "<IPython.core.display.HTML object>"
      ]
     },
     "metadata": {},
     "output_type": "display_data"
    },
    {
     "data": {
      "text/html": [
       "Syncing run <strong><a href='https://wandb.ai/antvis/IDSW_resnet_fine_hp_80_112023/runs/onee7knq' target=\"_blank\">revived-sweep-1</a></strong> to <a href='https://wandb.ai/antvis/IDSW_resnet_fine_hp_80_112023' target=\"_blank\">Weights & Biases</a> (<a href='https://wandb.me/run' target=\"_blank\">docs</a>)<br/>Sweep page: <a href='https://wandb.ai/antvis/IDSW_resnet_fine_hp_80_112023/sweeps/hecdu5s5' target=\"_blank\">https://wandb.ai/antvis/IDSW_resnet_fine_hp_80_112023/sweeps/hecdu5s5</a>"
      ],
      "text/plain": [
       "<IPython.core.display.HTML object>"
      ]
     },
     "metadata": {},
     "output_type": "display_data"
    },
    {
     "data": {
      "text/html": [
       " View project at <a href='https://wandb.ai/antvis/IDSW_resnet_fine_hp_80_112023' target=\"_blank\">https://wandb.ai/antvis/IDSW_resnet_fine_hp_80_112023</a>"
      ],
      "text/plain": [
       "<IPython.core.display.HTML object>"
      ]
     },
     "metadata": {},
     "output_type": "display_data"
    },
    {
     "data": {
      "text/html": [
       " View sweep at <a href='https://wandb.ai/antvis/IDSW_resnet_fine_hp_80_112023/sweeps/hecdu5s5' target=\"_blank\">https://wandb.ai/antvis/IDSW_resnet_fine_hp_80_112023/sweeps/hecdu5s5</a>"
      ],
      "text/plain": [
       "<IPython.core.display.HTML object>"
      ]
     },
     "metadata": {},
     "output_type": "display_data"
    },
    {
     "data": {
      "text/html": [
       " View run at <a href='https://wandb.ai/antvis/IDSW_resnet_fine_hp_80_112023/runs/onee7knq' target=\"_blank\">https://wandb.ai/antvis/IDSW_resnet_fine_hp_80_112023/runs/onee7knq</a>"
      ],
      "text/plain": [
       "<IPython.core.display.HTML object>"
      ]
     },
     "metadata": {},
     "output_type": "display_data"
    },
    {
     "name": "stderr",
     "output_type": "stream",
     "text": [
      "  0%| | 0/70 [00:"
     ]
    },
    {
     "name": "stdout",
     "output_type": "stream",
     "text": [
      "E    0\n",
      "training...\n",
      "validating...\n"
     ]
    },
    {
     "name": "stderr",
     "output_type": "stream",
     "text": [
      "  1%| | 1/70 [01:"
     ]
    },
    {
     "name": "stdout",
     "output_type": "stream",
     "text": [
      "improvment in metrics. model saved\n",
      "E    1\n",
      "training...\n",
      "validating...\n"
     ]
    },
    {
     "name": "stderr",
     "output_type": "stream",
     "text": [
      "  3%| | 2/70 [02:"
     ]
    },
    {
     "name": "stdout",
     "output_type": "stream",
     "text": [
      "E    2\n",
      "training...\n",
      "validating...\n"
     ]
    },
    {
     "name": "stderr",
     "output_type": "stream",
     "text": [
      "  4%| | 3/70 [03:"
     ]
    },
    {
     "name": "stdout",
     "output_type": "stream",
     "text": [
      "E    3\n",
      "training...\n",
      "validating...\n"
     ]
    },
    {
     "name": "stderr",
     "output_type": "stream",
     "text": [
      "  6%| | 4/70 [04:"
     ]
    },
    {
     "name": "stdout",
     "output_type": "stream",
     "text": [
      "E    4\n",
      "training...\n",
      "validating...\n"
     ]
    },
    {
     "name": "stderr",
     "output_type": "stream",
     "text": [
      "  7%| | 5/70 [05:"
     ]
    },
    {
     "name": "stdout",
     "output_type": "stream",
     "text": [
      "E    5\n",
      "training...\n",
      "validating...\n"
     ]
    },
    {
     "name": "stderr",
     "output_type": "stream",
     "text": [
      "  9%| | 6/70 [07:"
     ]
    },
    {
     "name": "stdout",
     "output_type": "stream",
     "text": [
      "E    6\n",
      "training...\n",
      "validating...\n"
     ]
    },
    {
     "name": "stderr",
     "output_type": "stream",
     "text": [
      " 10%| | 7/70 [08:"
     ]
    },
    {
     "name": "stdout",
     "output_type": "stream",
     "text": [
      "E    7\n",
      "training...\n",
      "validating...\n"
     ]
    },
    {
     "name": "stderr",
     "output_type": "stream",
     "text": [
      " 11%| | 8/70 [09:"
     ]
    },
    {
     "name": "stdout",
     "output_type": "stream",
     "text": [
      "E    8\n",
      "training...\n",
      "validating...\n"
     ]
    },
    {
     "name": "stderr",
     "output_type": "stream",
     "text": [
      " 13%|▏| 9/70 [10:"
     ]
    },
    {
     "name": "stdout",
     "output_type": "stream",
     "text": [
      "E    9\n",
      "training...\n",
      "validating...\n"
     ]
    },
    {
     "name": "stderr",
     "output_type": "stream",
     "text": [
      " 14%|▏| 10/70 [11"
     ]
    },
    {
     "name": "stdout",
     "output_type": "stream",
     "text": [
      "E    10\n",
      "training...\n",
      "validating...\n"
     ]
    },
    {
     "name": "stderr",
     "output_type": "stream",
     "text": [
      " 16%|▏| 11/70 [12"
     ]
    },
    {
     "name": "stdout",
     "output_type": "stream",
     "text": [
      "E    11\n",
      "training...\n",
      "validating...\n"
     ]
    },
    {
     "name": "stderr",
     "output_type": "stream",
     "text": [
      " 17%|▏| 12/70 [13"
     ]
    },
    {
     "name": "stdout",
     "output_type": "stream",
     "text": [
      "E    12\n",
      "training...\n",
      "validating...\n"
     ]
    },
    {
     "name": "stderr",
     "output_type": "stream",
     "text": [
      " 19%|▏| 13/70 [14"
     ]
    },
    {
     "name": "stdout",
     "output_type": "stream",
     "text": [
      "E    13\n",
      "training...\n",
      "validating...\n"
     ]
    },
    {
     "name": "stderr",
     "output_type": "stream",
     "text": [
      " 20%|▏| 14/70 [16"
     ]
    },
    {
     "name": "stdout",
     "output_type": "stream",
     "text": [
      "E    14\n",
      "training...\n",
      "validating...\n"
     ]
    },
    {
     "name": "stderr",
     "output_type": "stream",
     "text": [
      " 21%|▏| 15/70 [17"
     ]
    },
    {
     "name": "stdout",
     "output_type": "stream",
     "text": [
      "E    15\n",
      "training...\n",
      "validating...\n"
     ]
    },
    {
     "name": "stderr",
     "output_type": "stream",
     "text": [
      " 23%|▏| 16/70 [18"
     ]
    },
    {
     "name": "stdout",
     "output_type": "stream",
     "text": [
      "E    16\n",
      "training...\n",
      "validating...\n"
     ]
    },
    {
     "name": "stderr",
     "output_type": "stream",
     "text": [
      " 24%|▏| 17/70 [19"
     ]
    },
    {
     "name": "stdout",
     "output_type": "stream",
     "text": [
      "E    17\n",
      "training...\n",
      "validating...\n"
     ]
    },
    {
     "name": "stderr",
     "output_type": "stream",
     "text": [
      " 26%|▎| 18/70 [20"
     ]
    },
    {
     "name": "stdout",
     "output_type": "stream",
     "text": [
      "E    18\n",
      "training...\n",
      "validating...\n"
     ]
    },
    {
     "name": "stderr",
     "output_type": "stream",
     "text": [
      " 27%|▎| 19/70 [21"
     ]
    },
    {
     "name": "stdout",
     "output_type": "stream",
     "text": [
      "E    19\n",
      "training...\n",
      "validating...\n"
     ]
    },
    {
     "name": "stderr",
     "output_type": "stream",
     "text": [
      " 29%|▎| 20/70 [22"
     ]
    },
    {
     "name": "stdout",
     "output_type": "stream",
     "text": [
      "E    20\n",
      "training...\n",
      "validating...\n"
     ]
    },
    {
     "name": "stderr",
     "output_type": "stream",
     "text": [
      " 30%|▎| 21/70 [23"
     ]
    },
    {
     "name": "stdout",
     "output_type": "stream",
     "text": [
      "E    21\n",
      "training...\n",
      "validating...\n"
     ]
    },
    {
     "name": "stderr",
     "output_type": "stream",
     "text": [
      " 31%|▎| 22/70 [25"
     ]
    },
    {
     "name": "stdout",
     "output_type": "stream",
     "text": [
      "E    22\n",
      "training...\n",
      "validating...\n"
     ]
    },
    {
     "name": "stderr",
     "output_type": "stream",
     "text": [
      " 33%|▎| 23/70 [26"
     ]
    },
    {
     "name": "stdout",
     "output_type": "stream",
     "text": [
      "E    23\n",
      "training...\n",
      "validating...\n"
     ]
    },
    {
     "name": "stderr",
     "output_type": "stream",
     "text": [
      " 34%|▎| 24/70 [27"
     ]
    },
    {
     "name": "stdout",
     "output_type": "stream",
     "text": [
      "E    24\n",
      "training...\n",
      "validating...\n"
     ]
    },
    {
     "name": "stderr",
     "output_type": "stream",
     "text": [
      " 36%|▎| 25/70 [28"
     ]
    },
    {
     "name": "stdout",
     "output_type": "stream",
     "text": [
      "E    25\n",
      "training...\n",
      "validating...\n"
     ]
    },
    {
     "name": "stderr",
     "output_type": "stream",
     "text": [
      " 37%|▎| 26/70 [29"
     ]
    },
    {
     "name": "stdout",
     "output_type": "stream",
     "text": [
      "E    26\n",
      "training...\n",
      "validating...\n"
     ]
    },
    {
     "name": "stderr",
     "output_type": "stream",
     "text": [
      " 39%|▍| 27/70 [30"
     ]
    },
    {
     "name": "stdout",
     "output_type": "stream",
     "text": [
      "E    27\n",
      "training...\n",
      "validating...\n"
     ]
    },
    {
     "name": "stderr",
     "output_type": "stream",
     "text": [
      " 40%|▍| 28/70 [31"
     ]
    },
    {
     "name": "stdout",
     "output_type": "stream",
     "text": [
      "E    28\n",
      "training...\n",
      "validating...\n"
     ]
    },
    {
     "name": "stderr",
     "output_type": "stream",
     "text": [
      " 41%|▍| 29/70 [33"
     ]
    },
    {
     "name": "stdout",
     "output_type": "stream",
     "text": [
      "E    29\n",
      "training...\n",
      "validating...\n"
     ]
    },
    {
     "name": "stderr",
     "output_type": "stream",
     "text": [
      " 43%|▍| 30/70 [35"
     ]
    },
    {
     "name": "stdout",
     "output_type": "stream",
     "text": [
      "E    30\n",
      "training...\n",
      "validating...\n"
     ]
    },
    {
     "name": "stderr",
     "output_type": "stream",
     "text": [
      " 44%|▍| 31/70 [37"
     ]
    },
    {
     "name": "stdout",
     "output_type": "stream",
     "text": [
      "E    31\n",
      "training...\n",
      "validating...\n"
     ]
    },
    {
     "name": "stderr",
     "output_type": "stream",
     "text": [
      " 46%|▍| 32/70 [39"
     ]
    },
    {
     "name": "stdout",
     "output_type": "stream",
     "text": [
      "E    32\n",
      "training...\n",
      "validating...\n"
     ]
    },
    {
     "name": "stderr",
     "output_type": "stream",
     "text": [
      " 47%|▍| 33/70 [41"
     ]
    },
    {
     "name": "stdout",
     "output_type": "stream",
     "text": [
      "E    33\n",
      "training...\n",
      "validating...\n"
     ]
    },
    {
     "name": "stderr",
     "output_type": "stream",
     "text": [
      " 49%|▍| 34/70 [43"
     ]
    },
    {
     "name": "stdout",
     "output_type": "stream",
     "text": [
      "E    34\n",
      "training...\n",
      "validating...\n"
     ]
    },
    {
     "name": "stderr",
     "output_type": "stream",
     "text": [
      " 50%|▌| 35/70 [44"
     ]
    },
    {
     "name": "stdout",
     "output_type": "stream",
     "text": [
      "E    35\n",
      "training...\n",
      "validating...\n"
     ]
    },
    {
     "name": "stderr",
     "output_type": "stream",
     "text": [
      " 51%|▌| 36/70 [46"
     ]
    },
    {
     "name": "stdout",
     "output_type": "stream",
     "text": [
      "E    36\n",
      "training...\n",
      "validating...\n"
     ]
    },
    {
     "name": "stderr",
     "output_type": "stream",
     "text": [
      " 53%|▌| 37/70 [47"
     ]
    },
    {
     "name": "stdout",
     "output_type": "stream",
     "text": [
      "E    37\n",
      "training...\n",
      "validating...\n"
     ]
    },
    {
     "name": "stderr",
     "output_type": "stream",
     "text": [
      " 54%|▌| 38/70 [49"
     ]
    },
    {
     "name": "stdout",
     "output_type": "stream",
     "text": [
      "E    38\n",
      "training...\n",
      "validating...\n"
     ]
    },
    {
     "name": "stderr",
     "output_type": "stream",
     "text": [
      " 56%|▌| 39/70 [51"
     ]
    },
    {
     "name": "stdout",
     "output_type": "stream",
     "text": [
      "E    39\n",
      "training...\n",
      "validating...\n"
     ]
    },
    {
     "name": "stderr",
     "output_type": "stream",
     "text": [
      " 57%|▌| 40/70 [52"
     ]
    },
    {
     "name": "stdout",
     "output_type": "stream",
     "text": [
      "E    40\n",
      "training...\n",
      "validating...\n"
     ]
    },
    {
     "name": "stderr",
     "output_type": "stream",
     "text": [
      " 59%|▌| 41/70 [54"
     ]
    },
    {
     "name": "stdout",
     "output_type": "stream",
     "text": [
      "E    41\n",
      "training...\n",
      "validating...\n"
     ]
    },
    {
     "name": "stderr",
     "output_type": "stream",
     "text": [
      " 60%|▌| 42/70 [55"
     ]
    },
    {
     "name": "stdout",
     "output_type": "stream",
     "text": [
      "E    42\n",
      "training...\n",
      "validating...\n"
     ]
    },
    {
     "name": "stderr",
     "output_type": "stream",
     "text": [
      " 61%|▌| 43/70 [57"
     ]
    },
    {
     "name": "stdout",
     "output_type": "stream",
     "text": [
      "E    43\n",
      "training...\n",
      "validating...\n"
     ]
    },
    {
     "name": "stderr",
     "output_type": "stream",
     "text": [
      " 63%|▋| 44/70 [58"
     ]
    },
    {
     "name": "stdout",
     "output_type": "stream",
     "text": [
      "E    44\n",
      "training...\n",
      "validating...\n"
     ]
    },
    {
     "name": "stderr",
     "output_type": "stream",
     "text": [
      " 64%|▋| 45/70 [1:"
     ]
    },
    {
     "name": "stdout",
     "output_type": "stream",
     "text": [
      "E    45\n",
      "training...\n",
      "validating...\n"
     ]
    },
    {
     "name": "stderr",
     "output_type": "stream",
     "text": [
      " 66%|▋| 46/70 [1:"
     ]
    },
    {
     "name": "stdout",
     "output_type": "stream",
     "text": [
      "E    46\n",
      "training...\n",
      "validating...\n"
     ]
    },
    {
     "name": "stderr",
     "output_type": "stream",
     "text": [
      " 67%|▋| 47/70 [1:"
     ]
    },
    {
     "name": "stdout",
     "output_type": "stream",
     "text": [
      "E    47\n",
      "training...\n",
      "validating...\n"
     ]
    },
    {
     "name": "stderr",
     "output_type": "stream",
     "text": [
      " 69%|▋| 48/70 [1:"
     ]
    },
    {
     "name": "stdout",
     "output_type": "stream",
     "text": [
      "E    48\n",
      "training...\n",
      "validating...\n"
     ]
    },
    {
     "name": "stderr",
     "output_type": "stream",
     "text": [
      " 70%|▋| 49/70 [1:"
     ]
    },
    {
     "name": "stdout",
     "output_type": "stream",
     "text": [
      "E    49\n",
      "training...\n",
      "validating...\n"
     ]
    },
    {
     "name": "stderr",
     "output_type": "stream",
     "text": [
      " 71%|▋| 50/70 [1:"
     ]
    },
    {
     "name": "stdout",
     "output_type": "stream",
     "text": [
      "E    50\n",
      "training...\n",
      "validating...\n"
     ]
    },
    {
     "name": "stderr",
     "output_type": "stream",
     "text": [
      " 73%|▋| 51/70 [1:"
     ]
    },
    {
     "name": "stdout",
     "output_type": "stream",
     "text": [
      "E    51\n",
      "training...\n",
      "validating...\n"
     ]
    },
    {
     "name": "stderr",
     "output_type": "stream",
     "text": [
      " 74%|▋| 52/70 [1:"
     ]
    },
    {
     "name": "stdout",
     "output_type": "stream",
     "text": [
      "E    52\n",
      "training...\n",
      "validating...\n"
     ]
    },
    {
     "name": "stderr",
     "output_type": "stream",
     "text": [
      " 76%|▊| 53/70 [1:"
     ]
    },
    {
     "name": "stdout",
     "output_type": "stream",
     "text": [
      "E    53\n",
      "training...\n",
      "validating...\n"
     ]
    },
    {
     "name": "stderr",
     "output_type": "stream",
     "text": [
      " 77%|▊| 54/70 [1:"
     ]
    },
    {
     "name": "stdout",
     "output_type": "stream",
     "text": [
      "E    54\n",
      "training...\n",
      "validating...\n"
     ]
    },
    {
     "name": "stderr",
     "output_type": "stream",
     "text": [
      " 79%|▊| 55/70 [1:"
     ]
    },
    {
     "name": "stdout",
     "output_type": "stream",
     "text": [
      "E    55\n",
      "training...\n",
      "validating...\n"
     ]
    },
    {
     "name": "stderr",
     "output_type": "stream",
     "text": [
      " 80%|▊| 56/70 [1:"
     ]
    },
    {
     "name": "stdout",
     "output_type": "stream",
     "text": [
      "E    56\n",
      "training...\n",
      "validating...\n"
     ]
    },
    {
     "name": "stderr",
     "output_type": "stream",
     "text": [
      " 81%|▊| 57/70 [1:"
     ]
    },
    {
     "name": "stdout",
     "output_type": "stream",
     "text": [
      "E    57\n",
      "training...\n",
      "validating...\n"
     ]
    },
    {
     "name": "stderr",
     "output_type": "stream",
     "text": [
      " 83%|▊| 58/70 [1:"
     ]
    },
    {
     "name": "stdout",
     "output_type": "stream",
     "text": [
      "E    58\n",
      "training...\n",
      "validating...\n"
     ]
    },
    {
     "name": "stderr",
     "output_type": "stream",
     "text": [
      " 84%|▊| 59/70 [1:"
     ]
    },
    {
     "name": "stdout",
     "output_type": "stream",
     "text": [
      "E    59\n",
      "training...\n",
      "validating...\n"
     ]
    },
    {
     "name": "stderr",
     "output_type": "stream",
     "text": [
      " 86%|▊| 60/70 [1:"
     ]
    },
    {
     "name": "stdout",
     "output_type": "stream",
     "text": [
      "E    60\n",
      "training...\n",
      "validating...\n"
     ]
    },
    {
     "name": "stderr",
     "output_type": "stream",
     "text": [
      " 87%|▊| 61/70 [1:"
     ]
    },
    {
     "name": "stdout",
     "output_type": "stream",
     "text": [
      "E    61\n",
      "training...\n",
      "validating...\n"
     ]
    },
    {
     "name": "stderr",
     "output_type": "stream",
     "text": [
      " 89%|▉| 62/70 [1:"
     ]
    },
    {
     "name": "stdout",
     "output_type": "stream",
     "text": [
      "E    62\n",
      "training...\n",
      "validating...\n"
     ]
    },
    {
     "name": "stderr",
     "output_type": "stream",
     "text": [
      " 90%|▉| 63/70 [1:"
     ]
    },
    {
     "name": "stdout",
     "output_type": "stream",
     "text": [
      "E    63\n",
      "training...\n",
      "validating...\n"
     ]
    },
    {
     "name": "stderr",
     "output_type": "stream",
     "text": [
      " 91%|▉| 64/70 [1:"
     ]
    },
    {
     "name": "stdout",
     "output_type": "stream",
     "text": [
      "E    64\n",
      "training...\n",
      "validating...\n"
     ]
    },
    {
     "name": "stderr",
     "output_type": "stream",
     "text": [
      " 93%|▉| 65/70 [1:"
     ]
    },
    {
     "name": "stdout",
     "output_type": "stream",
     "text": [
      "E    65\n",
      "training...\n",
      "validating...\n"
     ]
    },
    {
     "name": "stderr",
     "output_type": "stream",
     "text": [
      " 94%|▉| 66/70 [1:"
     ]
    },
    {
     "name": "stdout",
     "output_type": "stream",
     "text": [
      "E    66\n",
      "training...\n",
      "validating...\n"
     ]
    },
    {
     "name": "stderr",
     "output_type": "stream",
     "text": [
      " 96%|▉| 67/70 [1:"
     ]
    },
    {
     "name": "stdout",
     "output_type": "stream",
     "text": [
      "E    67\n",
      "training...\n",
      "validating...\n"
     ]
    },
    {
     "name": "stderr",
     "output_type": "stream",
     "text": [
      " 97%|▉| 68/70 [1:"
     ]
    },
    {
     "name": "stdout",
     "output_type": "stream",
     "text": [
      "E    68\n",
      "training...\n",
      "validating...\n"
     ]
    },
    {
     "name": "stderr",
     "output_type": "stream",
     "text": [
      " 99%|▉| 69/70 [1:"
     ]
    },
    {
     "name": "stdout",
     "output_type": "stream",
     "text": [
      "E    69\n",
      "training...\n",
      "validating...\n"
     ]
    },
    {
     "name": "stderr",
     "output_type": "stream",
     "text": [
      "100%|█| 70/70 [1:\n"
     ]
    },
    {
     "data": {
      "application/vnd.jupyter.widget-view+json": {
       "model_id": "f91d0ffa914540438295ecced30a5d19",
       "version_major": 2,
       "version_minor": 0
      },
      "text/plain": [
       "VBox(children=(Label(value='0.006 MB of 0.006 MB uploaded\\r'), FloatProgress(value=1.0, max=1.0)))"
      ]
     },
     "metadata": {},
     "output_type": "display_data"
    },
    {
     "data": {
      "text/html": [
       " View run <strong style=\"color:#cdcd00\">revived-sweep-1</strong> at: <a href='https://wandb.ai/antvis/IDSW_resnet_fine_hp_80_112023/runs/onee7knq' target=\"_blank\">https://wandb.ai/antvis/IDSW_resnet_fine_hp_80_112023/runs/onee7knq</a><br/>Synced 5 W&B file(s), 0 media file(s), 0 artifact file(s) and 0 other file(s)"
      ],
      "text/plain": [
       "<IPython.core.display.HTML object>"
      ]
     },
     "metadata": {},
     "output_type": "display_data"
    },
    {
     "data": {
      "text/html": [
       "Find logs at: <code>./wandb/run-20231207_093757-onee7knq/logs</code>"
      ],
      "text/plain": [
       "<IPython.core.display.HTML object>"
      ]
     },
     "metadata": {},
     "output_type": "display_data"
    },
    {
     "name": "stderr",
     "output_type": "stream",
     "text": [
      "\u001b[34m\u001b[1mwandb\u001b[0m: Agent Starting Run: lrx5ka6q with config:\n",
      "\u001b[34m\u001b[1mwandb\u001b[0m: \tchannels: 3\n",
      "\u001b[34m\u001b[1mwandb\u001b[0m: \tdata_set: Augmented\n",
      "\u001b[34m\u001b[1mwandb\u001b[0m: \tepochs: 70\n",
      "\u001b[34m\u001b[1mwandb\u001b[0m: \tfirst_lin_lay: 248832\n",
      "\u001b[34m\u001b[1mwandb\u001b[0m: \timage_path: /its/home/nn268/antvis/antvis/optics/AugmentedDS_IDSW/\n",
      "\u001b[34m\u001b[1mwandb\u001b[0m: \tks: [3, 5]\n",
      "\u001b[34m\u001b[1mwandb\u001b[0m: \tlearning_rate: 0.001519459927173015\n",
      "\u001b[34m\u001b[1mwandb\u001b[0m: \tloss_fn: MSE\n",
      "\u001b[34m\u001b[1mwandb\u001b[0m: \tmodel_name: resnet_fine\n",
      "\u001b[34m\u001b[1mwandb\u001b[0m: \tnum_classes: 11\n",
      "\u001b[34m\u001b[1mwandb\u001b[0m: \toptimizer: adam\n",
      "\u001b[34m\u001b[1mwandb\u001b[0m: \tscheduler: 0.001\n"
     ]
    },
    {
     "data": {
      "text/html": [
       "wandb version 0.16.1 is available!  To upgrade, please run:\n",
       " $ pip install wandb --upgrade"
      ],
      "text/plain": [
       "<IPython.core.display.HTML object>"
      ]
     },
     "metadata": {},
     "output_type": "display_data"
    },
    {
     "data": {
      "text/html": [
       "Tracking run with wandb version 0.16.0"
      ],
      "text/plain": [
       "<IPython.core.display.HTML object>"
      ]
     },
     "metadata": {},
     "output_type": "display_data"
    },
    {
     "data": {
      "text/html": [
       "Run data is saved locally in <code>/its/home/nn268/antvis/antvis/optics/wandb/run-20231207_111728-lrx5ka6q</code>"
      ],
      "text/plain": [
       "<IPython.core.display.HTML object>"
      ]
     },
     "metadata": {},
     "output_type": "display_data"
    },
    {
     "data": {
      "text/html": [
       "Syncing run <strong><a href='https://wandb.ai/antvis/IDSW_resnet_fine_hp_80_112023/runs/lrx5ka6q' target=\"_blank\">exalted-sweep-2</a></strong> to <a href='https://wandb.ai/antvis/IDSW_resnet_fine_hp_80_112023' target=\"_blank\">Weights & Biases</a> (<a href='https://wandb.me/run' target=\"_blank\">docs</a>)<br/>Sweep page: <a href='https://wandb.ai/antvis/IDSW_resnet_fine_hp_80_112023/sweeps/hecdu5s5' target=\"_blank\">https://wandb.ai/antvis/IDSW_resnet_fine_hp_80_112023/sweeps/hecdu5s5</a>"
      ],
      "text/plain": [
       "<IPython.core.display.HTML object>"
      ]
     },
     "metadata": {},
     "output_type": "display_data"
    },
    {
     "data": {
      "text/html": [
       " View project at <a href='https://wandb.ai/antvis/IDSW_resnet_fine_hp_80_112023' target=\"_blank\">https://wandb.ai/antvis/IDSW_resnet_fine_hp_80_112023</a>"
      ],
      "text/plain": [
       "<IPython.core.display.HTML object>"
      ]
     },
     "metadata": {},
     "output_type": "display_data"
    },
    {
     "data": {
      "text/html": [
       " View sweep at <a href='https://wandb.ai/antvis/IDSW_resnet_fine_hp_80_112023/sweeps/hecdu5s5' target=\"_blank\">https://wandb.ai/antvis/IDSW_resnet_fine_hp_80_112023/sweeps/hecdu5s5</a>"
      ],
      "text/plain": [
       "<IPython.core.display.HTML object>"
      ]
     },
     "metadata": {},
     "output_type": "display_data"
    },
    {
     "data": {
      "text/html": [
       " View run at <a href='https://wandb.ai/antvis/IDSW_resnet_fine_hp_80_112023/runs/lrx5ka6q' target=\"_blank\">https://wandb.ai/antvis/IDSW_resnet_fine_hp_80_112023/runs/lrx5ka6q</a>"
      ],
      "text/plain": [
       "<IPython.core.display.HTML object>"
      ]
     },
     "metadata": {},
     "output_type": "display_data"
    },
    {
     "name": "stderr",
     "output_type": "stream",
     "text": [
      "  0%| | 0/70 [00:"
     ]
    },
    {
     "name": "stdout",
     "output_type": "stream",
     "text": [
      "E    0\n",
      "training...\n",
      "validating...\n"
     ]
    },
    {
     "name": "stderr",
     "output_type": "stream",
     "text": [
      "  1%| | 1/70 [02:"
     ]
    },
    {
     "name": "stdout",
     "output_type": "stream",
     "text": [
      "improvment in metrics. model saved\n",
      "E    1\n",
      "training...\n",
      "validating...\n"
     ]
    },
    {
     "name": "stderr",
     "output_type": "stream",
     "text": [
      "  3%| | 2/70 [03:"
     ]
    },
    {
     "name": "stdout",
     "output_type": "stream",
     "text": [
      "E    2\n",
      "training...\n",
      "validating...\n"
     ]
    },
    {
     "name": "stderr",
     "output_type": "stream",
     "text": [
      "  4%| | 3/70 [05:"
     ]
    },
    {
     "name": "stdout",
     "output_type": "stream",
     "text": [
      "E    3\n",
      "training...\n",
      "validating...\n"
     ]
    },
    {
     "name": "stderr",
     "output_type": "stream",
     "text": [
      "  6%| | 4/70 [06:"
     ]
    },
    {
     "name": "stdout",
     "output_type": "stream",
     "text": [
      "E    4\n",
      "training...\n",
      "validating...\n"
     ]
    },
    {
     "name": "stderr",
     "output_type": "stream",
     "text": [
      "  7%| | 5/70 [08:"
     ]
    },
    {
     "name": "stdout",
     "output_type": "stream",
     "text": [
      "E    5\n",
      "training...\n",
      "validating...\n"
     ]
    },
    {
     "name": "stderr",
     "output_type": "stream",
     "text": [
      "  9%| | 6/70 [09:"
     ]
    },
    {
     "name": "stdout",
     "output_type": "stream",
     "text": [
      "E    6\n",
      "training...\n",
      "validating...\n"
     ]
    },
    {
     "name": "stderr",
     "output_type": "stream",
     "text": [
      " 10%| | 7/70 [11:"
     ]
    },
    {
     "name": "stdout",
     "output_type": "stream",
     "text": [
      "E    7\n",
      "training...\n",
      "validating...\n"
     ]
    },
    {
     "name": "stderr",
     "output_type": "stream",
     "text": [
      " 11%| | 8/70 [13:"
     ]
    },
    {
     "name": "stdout",
     "output_type": "stream",
     "text": [
      "E    8\n",
      "training...\n",
      "validating...\n"
     ]
    },
    {
     "name": "stderr",
     "output_type": "stream",
     "text": [
      " 13%|▏| 9/70 [14:"
     ]
    },
    {
     "name": "stdout",
     "output_type": "stream",
     "text": [
      "E    9\n",
      "training...\n",
      "validating...\n"
     ]
    },
    {
     "name": "stderr",
     "output_type": "stream",
     "text": [
      " 14%|▏| 10/70 [16"
     ]
    },
    {
     "name": "stdout",
     "output_type": "stream",
     "text": [
      "E    10\n",
      "training...\n",
      "validating...\n"
     ]
    },
    {
     "name": "stderr",
     "output_type": "stream",
     "text": [
      " 16%|▏| 11/70 [17"
     ]
    },
    {
     "name": "stdout",
     "output_type": "stream",
     "text": [
      "E    11\n",
      "training...\n",
      "validating...\n"
     ]
    },
    {
     "name": "stderr",
     "output_type": "stream",
     "text": [
      " 17%|▏| 12/70 [19"
     ]
    },
    {
     "name": "stdout",
     "output_type": "stream",
     "text": [
      "E    12\n",
      "training...\n",
      "validating...\n"
     ]
    },
    {
     "name": "stderr",
     "output_type": "stream",
     "text": [
      " 19%|▏| 13/70 [20"
     ]
    },
    {
     "name": "stdout",
     "output_type": "stream",
     "text": [
      "E    13\n",
      "training...\n",
      "validating...\n"
     ]
    },
    {
     "name": "stderr",
     "output_type": "stream",
     "text": [
      " 20%|▏| 14/70 [22"
     ]
    },
    {
     "name": "stdout",
     "output_type": "stream",
     "text": [
      "E    14\n",
      "training...\n",
      "validating...\n"
     ]
    },
    {
     "name": "stderr",
     "output_type": "stream",
     "text": [
      " 21%|▏| 15/70 [23"
     ]
    },
    {
     "name": "stdout",
     "output_type": "stream",
     "text": [
      "E    15\n",
      "training...\n",
      "validating...\n"
     ]
    },
    {
     "name": "stderr",
     "output_type": "stream",
     "text": [
      " 23%|▏| 16/70 [25"
     ]
    },
    {
     "name": "stdout",
     "output_type": "stream",
     "text": [
      "E    16\n",
      "training...\n",
      "validating...\n"
     ]
    },
    {
     "name": "stderr",
     "output_type": "stream",
     "text": [
      " 24%|▏| 17/70 [26"
     ]
    },
    {
     "name": "stdout",
     "output_type": "stream",
     "text": [
      "E    17\n",
      "training...\n",
      "validating...\n"
     ]
    },
    {
     "name": "stderr",
     "output_type": "stream",
     "text": [
      " 26%|▎| 18/70 [28"
     ]
    },
    {
     "name": "stdout",
     "output_type": "stream",
     "text": [
      "E    18\n",
      "training...\n",
      "validating...\n"
     ]
    },
    {
     "name": "stderr",
     "output_type": "stream",
     "text": [
      " 27%|▎| 19/70 [29"
     ]
    },
    {
     "name": "stdout",
     "output_type": "stream",
     "text": [
      "E    19\n",
      "training...\n",
      "validating...\n"
     ]
    },
    {
     "name": "stderr",
     "output_type": "stream",
     "text": [
      " 29%|▎| 20/70 [31"
     ]
    },
    {
     "name": "stdout",
     "output_type": "stream",
     "text": [
      "E    20\n",
      "training...\n",
      "validating...\n"
     ]
    },
    {
     "name": "stderr",
     "output_type": "stream",
     "text": [
      " 30%|▎| 21/70 [32"
     ]
    },
    {
     "name": "stdout",
     "output_type": "stream",
     "text": [
      "E    21\n",
      "training...\n",
      "validating...\n"
     ]
    },
    {
     "name": "stderr",
     "output_type": "stream",
     "text": [
      " 31%|▎| 22/70 [34"
     ]
    },
    {
     "name": "stdout",
     "output_type": "stream",
     "text": [
      "E    22\n",
      "training...\n",
      "validating...\n"
     ]
    },
    {
     "name": "stderr",
     "output_type": "stream",
     "text": [
      " 33%|▎| 23/70 [35"
     ]
    },
    {
     "name": "stdout",
     "output_type": "stream",
     "text": [
      "E    23\n",
      "training...\n",
      "validating...\n"
     ]
    },
    {
     "name": "stderr",
     "output_type": "stream",
     "text": [
      " 34%|▎| 24/70 [37"
     ]
    },
    {
     "name": "stdout",
     "output_type": "stream",
     "text": [
      "E    24\n",
      "training...\n",
      "validating...\n"
     ]
    },
    {
     "name": "stderr",
     "output_type": "stream",
     "text": [
      " 36%|▎| 25/70 [39"
     ]
    },
    {
     "name": "stdout",
     "output_type": "stream",
     "text": [
      "E    25\n",
      "training...\n",
      "validating...\n"
     ]
    },
    {
     "name": "stderr",
     "output_type": "stream",
     "text": [
      " 37%|▎| 26/70 [40"
     ]
    },
    {
     "name": "stdout",
     "output_type": "stream",
     "text": [
      "E    26\n",
      "training...\n",
      "validating...\n"
     ]
    },
    {
     "name": "stderr",
     "output_type": "stream",
     "text": [
      " 39%|▍| 27/70 [42"
     ]
    },
    {
     "name": "stdout",
     "output_type": "stream",
     "text": [
      "E    27\n",
      "training...\n",
      "validating...\n"
     ]
    },
    {
     "name": "stderr",
     "output_type": "stream",
     "text": [
      " 40%|▍| 28/70 [43"
     ]
    },
    {
     "name": "stdout",
     "output_type": "stream",
     "text": [
      "E    28\n",
      "training...\n",
      "validating...\n"
     ]
    },
    {
     "name": "stderr",
     "output_type": "stream",
     "text": [
      " 41%|▍| 29/70 [45"
     ]
    },
    {
     "name": "stdout",
     "output_type": "stream",
     "text": [
      "E    29\n",
      "training...\n",
      "validating...\n"
     ]
    },
    {
     "name": "stderr",
     "output_type": "stream",
     "text": [
      " 43%|▍| 30/70 [46"
     ]
    },
    {
     "name": "stdout",
     "output_type": "stream",
     "text": [
      "E    30\n",
      "training...\n",
      "validating...\n"
     ]
    },
    {
     "name": "stderr",
     "output_type": "stream",
     "text": [
      " 44%|▍| 31/70 [48"
     ]
    },
    {
     "name": "stdout",
     "output_type": "stream",
     "text": [
      "E    31\n",
      "training...\n",
      "validating...\n"
     ]
    },
    {
     "name": "stderr",
     "output_type": "stream",
     "text": [
      " 46%|▍| 32/70 [49"
     ]
    },
    {
     "name": "stdout",
     "output_type": "stream",
     "text": [
      "E    32\n",
      "training...\n",
      "validating...\n"
     ]
    },
    {
     "name": "stderr",
     "output_type": "stream",
     "text": [
      " 47%|▍| 33/70 [51"
     ]
    },
    {
     "name": "stdout",
     "output_type": "stream",
     "text": [
      "E    33\n",
      "training...\n",
      "validating...\n"
     ]
    },
    {
     "name": "stderr",
     "output_type": "stream",
     "text": [
      " 49%|▍| 34/70 [52"
     ]
    },
    {
     "name": "stdout",
     "output_type": "stream",
     "text": [
      "E    34\n",
      "training...\n",
      "validating...\n"
     ]
    },
    {
     "name": "stderr",
     "output_type": "stream",
     "text": [
      " 50%|▌| 35/70 [54"
     ]
    },
    {
     "name": "stdout",
     "output_type": "stream",
     "text": [
      "E    35\n",
      "training...\n",
      "validating...\n"
     ]
    },
    {
     "name": "stderr",
     "output_type": "stream",
     "text": [
      " 51%|▌| 36/70 [56"
     ]
    },
    {
     "name": "stdout",
     "output_type": "stream",
     "text": [
      "E    36\n",
      "training...\n",
      "validating...\n"
     ]
    },
    {
     "name": "stderr",
     "output_type": "stream",
     "text": [
      " 53%|▌| 37/70 [57"
     ]
    },
    {
     "name": "stdout",
     "output_type": "stream",
     "text": [
      "E    37\n",
      "training...\n",
      "validating...\n"
     ]
    },
    {
     "name": "stderr",
     "output_type": "stream",
     "text": [
      " 54%|▌| 38/70 [59"
     ]
    },
    {
     "name": "stdout",
     "output_type": "stream",
     "text": [
      "E    38\n",
      "training...\n",
      "validating...\n"
     ]
    },
    {
     "name": "stderr",
     "output_type": "stream",
     "text": [
      " 56%|▌| 39/70 [1:"
     ]
    },
    {
     "name": "stdout",
     "output_type": "stream",
     "text": [
      "E    39\n",
      "training...\n",
      "validating...\n"
     ]
    },
    {
     "name": "stderr",
     "output_type": "stream",
     "text": [
      " 57%|▌| 40/70 [1:"
     ]
    },
    {
     "name": "stdout",
     "output_type": "stream",
     "text": [
      "E    40\n",
      "training...\n",
      "validating...\n"
     ]
    },
    {
     "name": "stderr",
     "output_type": "stream",
     "text": [
      " 59%|▌| 41/70 [1:"
     ]
    },
    {
     "name": "stdout",
     "output_type": "stream",
     "text": [
      "E    41\n",
      "training...\n",
      "validating...\n"
     ]
    },
    {
     "name": "stderr",
     "output_type": "stream",
     "text": [
      " 60%|▌| 42/70 [1:"
     ]
    },
    {
     "name": "stdout",
     "output_type": "stream",
     "text": [
      "E    42\n",
      "training...\n",
      "validating...\n"
     ]
    },
    {
     "name": "stderr",
     "output_type": "stream",
     "text": [
      " 61%|▌| 43/70 [1:"
     ]
    },
    {
     "name": "stdout",
     "output_type": "stream",
     "text": [
      "E    43\n",
      "training...\n",
      "validating...\n"
     ]
    },
    {
     "name": "stderr",
     "output_type": "stream",
     "text": [
      " 63%|▋| 44/70 [1:"
     ]
    },
    {
     "name": "stdout",
     "output_type": "stream",
     "text": [
      "E    44\n",
      "training...\n",
      "validating...\n"
     ]
    },
    {
     "name": "stderr",
     "output_type": "stream",
     "text": [
      " 64%|▋| 45/70 [1:"
     ]
    },
    {
     "name": "stdout",
     "output_type": "stream",
     "text": [
      "E    45\n",
      "training...\n",
      "validating...\n"
     ]
    },
    {
     "name": "stderr",
     "output_type": "stream",
     "text": [
      " 66%|▋| 46/70 [1:"
     ]
    },
    {
     "name": "stdout",
     "output_type": "stream",
     "text": [
      "E    46\n",
      "training...\n",
      "validating...\n"
     ]
    },
    {
     "name": "stderr",
     "output_type": "stream",
     "text": [
      " 67%|▋| 47/70 [1:"
     ]
    },
    {
     "name": "stdout",
     "output_type": "stream",
     "text": [
      "E    47\n",
      "training...\n",
      "validating...\n"
     ]
    },
    {
     "name": "stderr",
     "output_type": "stream",
     "text": [
      " 69%|▋| 48/70 [1:"
     ]
    },
    {
     "name": "stdout",
     "output_type": "stream",
     "text": [
      "E    48\n",
      "training...\n",
      "validating...\n"
     ]
    },
    {
     "name": "stderr",
     "output_type": "stream",
     "text": [
      " 70%|▋| 49/70 [1:"
     ]
    },
    {
     "name": "stdout",
     "output_type": "stream",
     "text": [
      "E    49\n",
      "training...\n",
      "validating...\n"
     ]
    },
    {
     "name": "stderr",
     "output_type": "stream",
     "text": [
      " 71%|▋| 50/70 [1:"
     ]
    },
    {
     "name": "stdout",
     "output_type": "stream",
     "text": [
      "E    50\n",
      "training...\n",
      "validating...\n"
     ]
    },
    {
     "name": "stderr",
     "output_type": "stream",
     "text": [
      " 73%|▋| 51/70 [1:"
     ]
    },
    {
     "name": "stdout",
     "output_type": "stream",
     "text": [
      "E    51\n",
      "training...\n",
      "validating...\n"
     ]
    },
    {
     "name": "stderr",
     "output_type": "stream",
     "text": [
      " 74%|▋| 52/70 [1:"
     ]
    },
    {
     "name": "stdout",
     "output_type": "stream",
     "text": [
      "E    52\n",
      "training...\n",
      "validating...\n"
     ]
    },
    {
     "name": "stderr",
     "output_type": "stream",
     "text": [
      " 76%|▊| 53/70 [1:"
     ]
    },
    {
     "name": "stdout",
     "output_type": "stream",
     "text": [
      "E    53\n",
      "training...\n",
      "validating...\n"
     ]
    },
    {
     "name": "stderr",
     "output_type": "stream",
     "text": [
      " 77%|▊| 54/70 [1:"
     ]
    },
    {
     "name": "stdout",
     "output_type": "stream",
     "text": [
      "E    54\n",
      "training...\n",
      "validating...\n"
     ]
    },
    {
     "name": "stderr",
     "output_type": "stream",
     "text": [
      " 79%|▊| 55/70 [1:"
     ]
    },
    {
     "name": "stdout",
     "output_type": "stream",
     "text": [
      "E    55\n",
      "training...\n",
      "validating...\n"
     ]
    },
    {
     "name": "stderr",
     "output_type": "stream",
     "text": [
      " 80%|▊| 56/70 [1:"
     ]
    },
    {
     "name": "stdout",
     "output_type": "stream",
     "text": [
      "E    56\n",
      "training...\n",
      "validating...\n"
     ]
    },
    {
     "name": "stderr",
     "output_type": "stream",
     "text": [
      " 81%|▊| 57/70 [1:"
     ]
    },
    {
     "name": "stdout",
     "output_type": "stream",
     "text": [
      "E    57\n",
      "training...\n",
      "validating...\n"
     ]
    },
    {
     "name": "stderr",
     "output_type": "stream",
     "text": [
      " 83%|▊| 58/70 [1:"
     ]
    },
    {
     "name": "stdout",
     "output_type": "stream",
     "text": [
      "E    58\n",
      "training...\n",
      "validating...\n"
     ]
    },
    {
     "name": "stderr",
     "output_type": "stream",
     "text": [
      " 84%|▊| 59/70 [1:"
     ]
    },
    {
     "name": "stdout",
     "output_type": "stream",
     "text": [
      "E    59\n",
      "training...\n",
      "validating...\n"
     ]
    },
    {
     "name": "stderr",
     "output_type": "stream",
     "text": [
      " 86%|▊| 60/70 [1:"
     ]
    },
    {
     "name": "stdout",
     "output_type": "stream",
     "text": [
      "E    60\n",
      "training...\n",
      "validating...\n"
     ]
    },
    {
     "name": "stderr",
     "output_type": "stream",
     "text": [
      " 87%|▊| 61/70 [1:"
     ]
    },
    {
     "name": "stdout",
     "output_type": "stream",
     "text": [
      "E    61\n",
      "training...\n",
      "validating...\n"
     ]
    },
    {
     "name": "stderr",
     "output_type": "stream",
     "text": [
      " 89%|▉| 62/70 [1:"
     ]
    },
    {
     "name": "stdout",
     "output_type": "stream",
     "text": [
      "E    62\n",
      "training...\n",
      "validating...\n"
     ]
    },
    {
     "name": "stderr",
     "output_type": "stream",
     "text": [
      " 90%|▉| 63/70 [1:"
     ]
    },
    {
     "name": "stdout",
     "output_type": "stream",
     "text": [
      "E    63\n",
      "training...\n",
      "validating...\n"
     ]
    },
    {
     "name": "stderr",
     "output_type": "stream",
     "text": [
      " 91%|▉| 64/70 [1:"
     ]
    },
    {
     "name": "stdout",
     "output_type": "stream",
     "text": [
      "E    64\n",
      "training...\n",
      "validating...\n"
     ]
    },
    {
     "name": "stderr",
     "output_type": "stream",
     "text": [
      " 93%|▉| 65/70 [1:"
     ]
    },
    {
     "name": "stdout",
     "output_type": "stream",
     "text": [
      "E    65\n",
      "training...\n",
      "validating...\n"
     ]
    },
    {
     "name": "stderr",
     "output_type": "stream",
     "text": [
      " 94%|▉| 66/70 [1:"
     ]
    },
    {
     "name": "stdout",
     "output_type": "stream",
     "text": [
      "E    66\n",
      "training...\n",
      "validating...\n"
     ]
    },
    {
     "name": "stderr",
     "output_type": "stream",
     "text": [
      " 96%|▉| 67/70 [1:"
     ]
    },
    {
     "name": "stdout",
     "output_type": "stream",
     "text": [
      "E    67\n",
      "training...\n",
      "validating...\n"
     ]
    },
    {
     "name": "stderr",
     "output_type": "stream",
     "text": [
      " 97%|▉| 68/70 [1:"
     ]
    },
    {
     "name": "stdout",
     "output_type": "stream",
     "text": [
      "E    68\n",
      "training...\n",
      "validating...\n"
     ]
    },
    {
     "name": "stderr",
     "output_type": "stream",
     "text": [
      " 99%|▉| 69/70 [1:"
     ]
    },
    {
     "name": "stdout",
     "output_type": "stream",
     "text": [
      "E    69\n",
      "training...\n",
      "validating...\n"
     ]
    },
    {
     "name": "stderr",
     "output_type": "stream",
     "text": [
      "100%|█| 70/70 [1:\n"
     ]
    },
    {
     "data": {
      "application/vnd.jupyter.widget-view+json": {
       "model_id": "450c57ba3b4146dab186625389cca5b4",
       "version_major": 2,
       "version_minor": 0
      },
      "text/plain": [
       "VBox(children=(Label(value='0.006 MB of 0.009 MB uploaded\\r'), FloatProgress(value=0.6860340004303852, max=1.0…"
      ]
     },
     "metadata": {},
     "output_type": "display_data"
    },
    {
     "data": {
      "text/html": [
       " View run <strong style=\"color:#cdcd00\">exalted-sweep-2</strong> at: <a href='https://wandb.ai/antvis/IDSW_resnet_fine_hp_80_112023/runs/lrx5ka6q' target=\"_blank\">https://wandb.ai/antvis/IDSW_resnet_fine_hp_80_112023/runs/lrx5ka6q</a><br/>Synced 5 W&B file(s), 0 media file(s), 0 artifact file(s) and 0 other file(s)"
      ],
      "text/plain": [
       "<IPython.core.display.HTML object>"
      ]
     },
     "metadata": {},
     "output_type": "display_data"
    },
    {
     "data": {
      "text/html": [
       "Find logs at: <code>./wandb/run-20231207_111728-lrx5ka6q/logs</code>"
      ],
      "text/plain": [
       "<IPython.core.display.HTML object>"
      ]
     },
     "metadata": {},
     "output_type": "display_data"
    },
    {
     "name": "stderr",
     "output_type": "stream",
     "text": [
      "\u001b[34m\u001b[1mwandb\u001b[0m: Agent Starting Run: c2qboon6 with config:\n",
      "\u001b[34m\u001b[1mwandb\u001b[0m: \tchannels: 3\n",
      "\u001b[34m\u001b[1mwandb\u001b[0m: \tdata_set: Augmented\n",
      "\u001b[34m\u001b[1mwandb\u001b[0m: \tepochs: 70\n",
      "\u001b[34m\u001b[1mwandb\u001b[0m: \tfirst_lin_lay: 248832\n",
      "\u001b[34m\u001b[1mwandb\u001b[0m: \timage_path: /its/home/nn268/antvis/antvis/optics/AugmentedDS_IDSW/\n",
      "\u001b[34m\u001b[1mwandb\u001b[0m: \tks: [3, 5]\n",
      "\u001b[34m\u001b[1mwandb\u001b[0m: \tlearning_rate: 0.0014902375353231627\n",
      "\u001b[34m\u001b[1mwandb\u001b[0m: \tloss_fn: CrossEntropy\n",
      "\u001b[34m\u001b[1mwandb\u001b[0m: \tmodel_name: resnet_fine\n",
      "\u001b[34m\u001b[1mwandb\u001b[0m: \tnum_classes: 11\n",
      "\u001b[34m\u001b[1mwandb\u001b[0m: \toptimizer: adam\n",
      "\u001b[34m\u001b[1mwandb\u001b[0m: \tscheduler: 0.001\n"
     ]
    },
    {
     "data": {
      "text/html": [
       "wandb version 0.16.1 is available!  To upgrade, please run:\n",
       " $ pip install wandb --upgrade"
      ],
      "text/plain": [
       "<IPython.core.display.HTML object>"
      ]
     },
     "metadata": {},
     "output_type": "display_data"
    },
    {
     "data": {
      "text/html": [
       "Tracking run with wandb version 0.16.0"
      ],
      "text/plain": [
       "<IPython.core.display.HTML object>"
      ]
     },
     "metadata": {},
     "output_type": "display_data"
    },
    {
     "data": {
      "text/html": [
       "Run data is saved locally in <code>/its/home/nn268/antvis/antvis/optics/wandb/run-20231207_130547-c2qboon6</code>"
      ],
      "text/plain": [
       "<IPython.core.display.HTML object>"
      ]
     },
     "metadata": {},
     "output_type": "display_data"
    },
    {
     "data": {
      "text/html": [
       "Syncing run <strong><a href='https://wandb.ai/antvis/IDSW_resnet_fine_hp_80_112023/runs/c2qboon6' target=\"_blank\">hardy-sweep-3</a></strong> to <a href='https://wandb.ai/antvis/IDSW_resnet_fine_hp_80_112023' target=\"_blank\">Weights & Biases</a> (<a href='https://wandb.me/run' target=\"_blank\">docs</a>)<br/>Sweep page: <a href='https://wandb.ai/antvis/IDSW_resnet_fine_hp_80_112023/sweeps/hecdu5s5' target=\"_blank\">https://wandb.ai/antvis/IDSW_resnet_fine_hp_80_112023/sweeps/hecdu5s5</a>"
      ],
      "text/plain": [
       "<IPython.core.display.HTML object>"
      ]
     },
     "metadata": {},
     "output_type": "display_data"
    },
    {
     "data": {
      "text/html": [
       " View project at <a href='https://wandb.ai/antvis/IDSW_resnet_fine_hp_80_112023' target=\"_blank\">https://wandb.ai/antvis/IDSW_resnet_fine_hp_80_112023</a>"
      ],
      "text/plain": [
       "<IPython.core.display.HTML object>"
      ]
     },
     "metadata": {},
     "output_type": "display_data"
    },
    {
     "data": {
      "text/html": [
       " View sweep at <a href='https://wandb.ai/antvis/IDSW_resnet_fine_hp_80_112023/sweeps/hecdu5s5' target=\"_blank\">https://wandb.ai/antvis/IDSW_resnet_fine_hp_80_112023/sweeps/hecdu5s5</a>"
      ],
      "text/plain": [
       "<IPython.core.display.HTML object>"
      ]
     },
     "metadata": {},
     "output_type": "display_data"
    },
    {
     "data": {
      "text/html": [
       " View run at <a href='https://wandb.ai/antvis/IDSW_resnet_fine_hp_80_112023/runs/c2qboon6' target=\"_blank\">https://wandb.ai/antvis/IDSW_resnet_fine_hp_80_112023/runs/c2qboon6</a>"
      ],
      "text/plain": [
       "<IPython.core.display.HTML object>"
      ]
     },
     "metadata": {},
     "output_type": "display_data"
    },
    {
     "name": "stderr",
     "output_type": "stream",
     "text": [
      "  0%| | 0/70 [00:"
     ]
    },
    {
     "name": "stdout",
     "output_type": "stream",
     "text": [
      "E    0\n",
      "training...\n",
      "validating...\n"
     ]
    },
    {
     "name": "stderr",
     "output_type": "stream",
     "text": [
      "  1%| | 1/70 [02:"
     ]
    },
    {
     "name": "stdout",
     "output_type": "stream",
     "text": [
      "improvment in metrics. model saved\n",
      "E    1\n",
      "training...\n",
      "validating...\n"
     ]
    },
    {
     "name": "stderr",
     "output_type": "stream",
     "text": [
      "  3%| | 2/70 [04:"
     ]
    },
    {
     "name": "stdout",
     "output_type": "stream",
     "text": [
      "E    2\n",
      "training...\n",
      "validating...\n"
     ]
    },
    {
     "name": "stderr",
     "output_type": "stream",
     "text": [
      "  4%| | 3/70 [06:"
     ]
    },
    {
     "name": "stdout",
     "output_type": "stream",
     "text": [
      "E    3\n",
      "training...\n",
      "validating...\n"
     ]
    },
    {
     "name": "stderr",
     "output_type": "stream",
     "text": [
      "  6%| | 4/70 [07:"
     ]
    },
    {
     "name": "stdout",
     "output_type": "stream",
     "text": [
      "E    4\n",
      "training...\n",
      "validating...\n"
     ]
    },
    {
     "name": "stderr",
     "output_type": "stream",
     "text": [
      "  7%| | 5/70 [09:"
     ]
    },
    {
     "name": "stdout",
     "output_type": "stream",
     "text": [
      "E    5\n",
      "training...\n",
      "validating...\n"
     ]
    },
    {
     "name": "stderr",
     "output_type": "stream",
     "text": [
      "  9%| | 6/70 [11:"
     ]
    },
    {
     "name": "stdout",
     "output_type": "stream",
     "text": [
      "E    6\n",
      "training...\n",
      "validating...\n"
     ]
    },
    {
     "name": "stderr",
     "output_type": "stream",
     "text": [
      " 10%| | 7/70 [13:"
     ]
    },
    {
     "name": "stdout",
     "output_type": "stream",
     "text": [
      "E    7\n",
      "training...\n",
      "validating...\n"
     ]
    },
    {
     "name": "stderr",
     "output_type": "stream",
     "text": [
      " 11%| | 8/70 [14:"
     ]
    },
    {
     "name": "stdout",
     "output_type": "stream",
     "text": [
      "E    8\n",
      "training...\n",
      "validating...\n"
     ]
    },
    {
     "name": "stderr",
     "output_type": "stream",
     "text": [
      " 13%|▏| 9/70 [16:"
     ]
    },
    {
     "name": "stdout",
     "output_type": "stream",
     "text": [
      "E    9\n",
      "training...\n",
      "validating...\n"
     ]
    },
    {
     "name": "stderr",
     "output_type": "stream",
     "text": [
      " 14%|▏| 10/70 [18"
     ]
    },
    {
     "name": "stdout",
     "output_type": "stream",
     "text": [
      "E    10\n",
      "training...\n",
      "validating...\n"
     ]
    },
    {
     "name": "stderr",
     "output_type": "stream",
     "text": [
      " 16%|▏| 11/70 [20"
     ]
    },
    {
     "name": "stdout",
     "output_type": "stream",
     "text": [
      "E    11\n",
      "training...\n",
      "validating...\n"
     ]
    },
    {
     "name": "stderr",
     "output_type": "stream",
     "text": [
      " 17%|▏| 12/70 [21"
     ]
    },
    {
     "name": "stdout",
     "output_type": "stream",
     "text": [
      "E    12\n",
      "training...\n",
      "validating...\n"
     ]
    },
    {
     "name": "stderr",
     "output_type": "stream",
     "text": [
      " 19%|▏| 13/70 [23"
     ]
    },
    {
     "name": "stdout",
     "output_type": "stream",
     "text": [
      "E    13\n",
      "training...\n",
      "validating...\n"
     ]
    },
    {
     "name": "stderr",
     "output_type": "stream",
     "text": [
      " 20%|▏| 14/70 [25"
     ]
    },
    {
     "name": "stdout",
     "output_type": "stream",
     "text": [
      "E    14\n",
      "training...\n",
      "validating...\n"
     ]
    },
    {
     "name": "stderr",
     "output_type": "stream",
     "text": [
      " 21%|▏| 15/70 [26"
     ]
    },
    {
     "name": "stdout",
     "output_type": "stream",
     "text": [
      "E    15\n",
      "training...\n",
      "validating...\n"
     ]
    },
    {
     "name": "stderr",
     "output_type": "stream",
     "text": [
      " 23%|▏| 16/70 [28"
     ]
    },
    {
     "name": "stdout",
     "output_type": "stream",
     "text": [
      "E    16\n",
      "training...\n",
      "validating...\n"
     ]
    },
    {
     "name": "stderr",
     "output_type": "stream",
     "text": [
      " 24%|▏| 17/70 [30"
     ]
    },
    {
     "name": "stdout",
     "output_type": "stream",
     "text": [
      "E    17\n",
      "training...\n",
      "validating...\n"
     ]
    },
    {
     "name": "stderr",
     "output_type": "stream",
     "text": [
      " 26%|▎| 18/70 [31"
     ]
    },
    {
     "name": "stdout",
     "output_type": "stream",
     "text": [
      "E    18\n",
      "training...\n",
      "validating...\n"
     ]
    },
    {
     "name": "stderr",
     "output_type": "stream",
     "text": [
      " 27%|▎| 19/70 [33"
     ]
    },
    {
     "name": "stdout",
     "output_type": "stream",
     "text": [
      "E    19\n",
      "training...\n",
      "validating...\n"
     ]
    },
    {
     "name": "stderr",
     "output_type": "stream",
     "text": [
      " 29%|▎| 20/70 [35"
     ]
    },
    {
     "name": "stdout",
     "output_type": "stream",
     "text": [
      "E    20\n",
      "training...\n",
      "validating...\n"
     ]
    },
    {
     "name": "stderr",
     "output_type": "stream",
     "text": [
      " 30%|▎| 21/70 [36"
     ]
    },
    {
     "name": "stdout",
     "output_type": "stream",
     "text": [
      "E    21\n",
      "training...\n",
      "validating...\n"
     ]
    },
    {
     "name": "stderr",
     "output_type": "stream",
     "text": [
      " 31%|▎| 22/70 [38"
     ]
    },
    {
     "name": "stdout",
     "output_type": "stream",
     "text": [
      "E    22\n",
      "training...\n",
      "validating...\n"
     ]
    },
    {
     "name": "stderr",
     "output_type": "stream",
     "text": [
      " 33%|▎| 23/70 [40"
     ]
    },
    {
     "name": "stdout",
     "output_type": "stream",
     "text": [
      "E    23\n",
      "training...\n",
      "validating...\n"
     ]
    },
    {
     "name": "stderr",
     "output_type": "stream",
     "text": [
      " 34%|▎| 24/70 [41"
     ]
    },
    {
     "name": "stdout",
     "output_type": "stream",
     "text": [
      "E    24\n",
      "training...\n",
      "validating...\n"
     ]
    },
    {
     "name": "stderr",
     "output_type": "stream",
     "text": [
      " 36%|▎| 25/70 [43"
     ]
    },
    {
     "name": "stdout",
     "output_type": "stream",
     "text": [
      "E    25\n",
      "training...\n",
      "validating...\n"
     ]
    },
    {
     "name": "stderr",
     "output_type": "stream",
     "text": [
      " 37%|▎| 26/70 [44"
     ]
    },
    {
     "name": "stdout",
     "output_type": "stream",
     "text": [
      "E    26\n",
      "training...\n",
      "validating...\n"
     ]
    },
    {
     "name": "stderr",
     "output_type": "stream",
     "text": [
      " 39%|▍| 27/70 [46"
     ]
    },
    {
     "name": "stdout",
     "output_type": "stream",
     "text": [
      "E    27\n",
      "training...\n",
      "validating...\n"
     ]
    },
    {
     "name": "stderr",
     "output_type": "stream",
     "text": [
      " 40%|▍| 28/70 [48"
     ]
    },
    {
     "name": "stdout",
     "output_type": "stream",
     "text": [
      "E    28\n",
      "training...\n",
      "validating...\n"
     ]
    },
    {
     "name": "stderr",
     "output_type": "stream",
     "text": [
      " 41%|▍| 29/70 [49"
     ]
    },
    {
     "name": "stdout",
     "output_type": "stream",
     "text": [
      "E    29\n",
      "training...\n",
      "validating...\n"
     ]
    },
    {
     "name": "stderr",
     "output_type": "stream",
     "text": [
      " 43%|▍| 30/70 [51"
     ]
    },
    {
     "name": "stdout",
     "output_type": "stream",
     "text": [
      "E    30\n",
      "training...\n",
      "validating...\n"
     ]
    },
    {
     "name": "stderr",
     "output_type": "stream",
     "text": [
      " 44%|▍| 31/70 [52"
     ]
    },
    {
     "name": "stdout",
     "output_type": "stream",
     "text": [
      "E    31\n",
      "training...\n",
      "validating...\n"
     ]
    },
    {
     "name": "stderr",
     "output_type": "stream",
     "text": [
      " 46%|▍| 32/70 [54"
     ]
    },
    {
     "name": "stdout",
     "output_type": "stream",
     "text": [
      "E    32\n",
      "training...\n",
      "validating...\n"
     ]
    },
    {
     "name": "stderr",
     "output_type": "stream",
     "text": [
      " 47%|▍| 33/70 [56"
     ]
    },
    {
     "name": "stdout",
     "output_type": "stream",
     "text": [
      "E    33\n",
      "training...\n",
      "validating...\n"
     ]
    },
    {
     "name": "stderr",
     "output_type": "stream",
     "text": [
      " 49%|▍| 34/70 [57"
     ]
    },
    {
     "name": "stdout",
     "output_type": "stream",
     "text": [
      "E    34\n",
      "training...\n",
      "validating...\n"
     ]
    },
    {
     "name": "stderr",
     "output_type": "stream",
     "text": [
      " 50%|▌| 35/70 [59"
     ]
    },
    {
     "name": "stdout",
     "output_type": "stream",
     "text": [
      "E    35\n",
      "training...\n",
      "validating...\n"
     ]
    },
    {
     "name": "stderr",
     "output_type": "stream",
     "text": [
      " 51%|▌| 36/70 [1:"
     ]
    },
    {
     "name": "stdout",
     "output_type": "stream",
     "text": [
      "E    36\n",
      "training...\n",
      "validating...\n"
     ]
    },
    {
     "name": "stderr",
     "output_type": "stream",
     "text": [
      " 53%|▌| 37/70 [1:"
     ]
    },
    {
     "name": "stdout",
     "output_type": "stream",
     "text": [
      "E    37\n",
      "training...\n",
      "validating...\n"
     ]
    },
    {
     "name": "stderr",
     "output_type": "stream",
     "text": [
      " 54%|▌| 38/70 [1:"
     ]
    },
    {
     "name": "stdout",
     "output_type": "stream",
     "text": [
      "E    38\n",
      "training...\n",
      "validating...\n"
     ]
    },
    {
     "name": "stderr",
     "output_type": "stream",
     "text": [
      " 56%|▌| 39/70 [1:"
     ]
    },
    {
     "name": "stdout",
     "output_type": "stream",
     "text": [
      "E    39\n",
      "training...\n",
      "validating...\n"
     ]
    },
    {
     "name": "stderr",
     "output_type": "stream",
     "text": [
      " 57%|▌| 40/70 [1:"
     ]
    },
    {
     "name": "stdout",
     "output_type": "stream",
     "text": [
      "E    40\n",
      "training...\n",
      "validating...\n"
     ]
    },
    {
     "name": "stderr",
     "output_type": "stream",
     "text": [
      " 59%|▌| 41/70 [1:"
     ]
    },
    {
     "name": "stdout",
     "output_type": "stream",
     "text": [
      "E    41\n",
      "training...\n",
      "validating...\n"
     ]
    },
    {
     "name": "stderr",
     "output_type": "stream",
     "text": [
      " 60%|▌| 42/70 [1:"
     ]
    },
    {
     "name": "stdout",
     "output_type": "stream",
     "text": [
      "E    42\n",
      "training...\n",
      "validating...\n"
     ]
    },
    {
     "name": "stderr",
     "output_type": "stream",
     "text": [
      " 61%|▌| 43/70 [1:"
     ]
    },
    {
     "name": "stdout",
     "output_type": "stream",
     "text": [
      "E    43\n",
      "training...\n",
      "validating...\n"
     ]
    },
    {
     "name": "stderr",
     "output_type": "stream",
     "text": [
      " 63%|▋| 44/70 [1:"
     ]
    },
    {
     "name": "stdout",
     "output_type": "stream",
     "text": [
      "E    44\n",
      "training...\n",
      "validating...\n"
     ]
    },
    {
     "name": "stderr",
     "output_type": "stream",
     "text": [
      " 64%|▋| 45/70 [1:"
     ]
    },
    {
     "name": "stdout",
     "output_type": "stream",
     "text": [
      "E    45\n",
      "training...\n",
      "validating...\n"
     ]
    },
    {
     "name": "stderr",
     "output_type": "stream",
     "text": [
      " 66%|▋| 46/70 [1:"
     ]
    },
    {
     "name": "stdout",
     "output_type": "stream",
     "text": [
      "E    46\n",
      "training...\n",
      "validating...\n"
     ]
    },
    {
     "name": "stderr",
     "output_type": "stream",
     "text": [
      " 67%|▋| 47/70 [1:"
     ]
    },
    {
     "name": "stdout",
     "output_type": "stream",
     "text": [
      "E    47\n",
      "training...\n",
      "validating...\n"
     ]
    },
    {
     "name": "stderr",
     "output_type": "stream",
     "text": [
      " 69%|▋| 48/70 [1:"
     ]
    },
    {
     "name": "stdout",
     "output_type": "stream",
     "text": [
      "E    48\n",
      "training...\n",
      "validating...\n"
     ]
    },
    {
     "name": "stderr",
     "output_type": "stream",
     "text": [
      " 70%|▋| 49/70 [1:"
     ]
    },
    {
     "name": "stdout",
     "output_type": "stream",
     "text": [
      "E    49\n",
      "training...\n",
      "validating...\n"
     ]
    },
    {
     "name": "stderr",
     "output_type": "stream",
     "text": [
      " 71%|▋| 50/70 [1:"
     ]
    },
    {
     "name": "stdout",
     "output_type": "stream",
     "text": [
      "E    50\n",
      "training...\n",
      "validating...\n"
     ]
    },
    {
     "name": "stderr",
     "output_type": "stream",
     "text": [
      " 73%|▋| 51/70 [1:"
     ]
    },
    {
     "name": "stdout",
     "output_type": "stream",
     "text": [
      "E    51\n",
      "training...\n",
      "validating...\n"
     ]
    },
    {
     "name": "stderr",
     "output_type": "stream",
     "text": [
      " 74%|▋| 52/70 [1:"
     ]
    },
    {
     "name": "stdout",
     "output_type": "stream",
     "text": [
      "E    52\n",
      "training...\n",
      "validating...\n"
     ]
    },
    {
     "name": "stderr",
     "output_type": "stream",
     "text": [
      " 76%|▊| 53/70 [1:"
     ]
    },
    {
     "name": "stdout",
     "output_type": "stream",
     "text": [
      "E    53\n",
      "training...\n",
      "validating...\n"
     ]
    },
    {
     "name": "stderr",
     "output_type": "stream",
     "text": [
      " 77%|▊| 54/70 [1:"
     ]
    },
    {
     "name": "stdout",
     "output_type": "stream",
     "text": [
      "E    54\n",
      "training...\n",
      "validating...\n"
     ]
    },
    {
     "name": "stderr",
     "output_type": "stream",
     "text": [
      " 79%|▊| 55/70 [1:"
     ]
    },
    {
     "name": "stdout",
     "output_type": "stream",
     "text": [
      "E    55\n",
      "training...\n",
      "validating...\n"
     ]
    },
    {
     "name": "stderr",
     "output_type": "stream",
     "text": [
      " 80%|▊| 56/70 [1:"
     ]
    },
    {
     "name": "stdout",
     "output_type": "stream",
     "text": [
      "E    56\n",
      "training...\n",
      "validating...\n"
     ]
    },
    {
     "name": "stderr",
     "output_type": "stream",
     "text": [
      " 81%|▊| 57/70 [1:"
     ]
    },
    {
     "name": "stdout",
     "output_type": "stream",
     "text": [
      "E    57\n",
      "training...\n",
      "validating...\n"
     ]
    },
    {
     "name": "stderr",
     "output_type": "stream",
     "text": [
      " 83%|▊| 58/70 [1:"
     ]
    },
    {
     "name": "stdout",
     "output_type": "stream",
     "text": [
      "E    58\n",
      "training...\n",
      "validating...\n"
     ]
    },
    {
     "name": "stderr",
     "output_type": "stream",
     "text": [
      " 84%|▊| 59/70 [1:"
     ]
    },
    {
     "name": "stdout",
     "output_type": "stream",
     "text": [
      "E    59\n",
      "training...\n",
      "validating...\n"
     ]
    },
    {
     "name": "stderr",
     "output_type": "stream",
     "text": [
      " 86%|▊| 60/70 [1:"
     ]
    },
    {
     "name": "stdout",
     "output_type": "stream",
     "text": [
      "E    60\n",
      "training...\n",
      "validating...\n"
     ]
    },
    {
     "name": "stderr",
     "output_type": "stream",
     "text": [
      " 87%|▊| 61/70 [1:"
     ]
    },
    {
     "name": "stdout",
     "output_type": "stream",
     "text": [
      "E    61\n",
      "training...\n",
      "validating...\n"
     ]
    },
    {
     "name": "stderr",
     "output_type": "stream",
     "text": [
      " 89%|▉| 62/70 [1:"
     ]
    },
    {
     "name": "stdout",
     "output_type": "stream",
     "text": [
      "E    62\n",
      "training...\n",
      "validating...\n"
     ]
    },
    {
     "name": "stderr",
     "output_type": "stream",
     "text": [
      " 90%|▉| 63/70 [1:"
     ]
    },
    {
     "name": "stdout",
     "output_type": "stream",
     "text": [
      "E    63\n",
      "training...\n",
      "validating...\n"
     ]
    },
    {
     "name": "stderr",
     "output_type": "stream",
     "text": [
      " 91%|▉| 64/70 [1:"
     ]
    },
    {
     "name": "stdout",
     "output_type": "stream",
     "text": [
      "E    64\n",
      "training...\n",
      "validating...\n"
     ]
    },
    {
     "name": "stderr",
     "output_type": "stream",
     "text": [
      " 93%|▉| 65/70 [1:"
     ]
    },
    {
     "name": "stdout",
     "output_type": "stream",
     "text": [
      "E    65\n",
      "training...\n",
      "validating...\n"
     ]
    },
    {
     "name": "stderr",
     "output_type": "stream",
     "text": [
      " 94%|▉| 66/70 [1:"
     ]
    },
    {
     "name": "stdout",
     "output_type": "stream",
     "text": [
      "E    66\n",
      "training...\n",
      "validating...\n"
     ]
    },
    {
     "name": "stderr",
     "output_type": "stream",
     "text": [
      " 96%|▉| 67/70 [1:"
     ]
    },
    {
     "name": "stdout",
     "output_type": "stream",
     "text": [
      "E    67\n",
      "training...\n",
      "validating...\n"
     ]
    },
    {
     "name": "stderr",
     "output_type": "stream",
     "text": [
      " 97%|▉| 68/70 [1:"
     ]
    },
    {
     "name": "stdout",
     "output_type": "stream",
     "text": [
      "E    68\n",
      "training...\n",
      "validating...\n"
     ]
    },
    {
     "name": "stderr",
     "output_type": "stream",
     "text": [
      " 99%|▉| 69/70 [1:"
     ]
    },
    {
     "name": "stdout",
     "output_type": "stream",
     "text": [
      "E    69\n",
      "training...\n",
      "validating...\n"
     ]
    },
    {
     "name": "stderr",
     "output_type": "stream",
     "text": [
      "100%|█| 70/70 [1:\n"
     ]
    },
    {
     "data": {
      "application/vnd.jupyter.widget-view+json": {
       "model_id": "050f025dd5e141a6a546d8df100a211a",
       "version_major": 2,
       "version_minor": 0
      },
      "text/plain": [
       "VBox(children=(Label(value='0.006 MB of 0.006 MB uploaded\\r'), FloatProgress(value=1.0, max=1.0)))"
      ]
     },
     "metadata": {},
     "output_type": "display_data"
    },
    {
     "data": {
      "text/html": [
       " View run <strong style=\"color:#cdcd00\">hardy-sweep-3</strong> at: <a href='https://wandb.ai/antvis/IDSW_resnet_fine_hp_80_112023/runs/c2qboon6' target=\"_blank\">https://wandb.ai/antvis/IDSW_resnet_fine_hp_80_112023/runs/c2qboon6</a><br/>Synced 5 W&B file(s), 0 media file(s), 0 artifact file(s) and 0 other file(s)"
      ],
      "text/plain": [
       "<IPython.core.display.HTML object>"
      ]
     },
     "metadata": {},
     "output_type": "display_data"
    },
    {
     "data": {
      "text/html": [
       "Find logs at: <code>./wandb/run-20231207_130547-c2qboon6/logs</code>"
      ],
      "text/plain": [
       "<IPython.core.display.HTML object>"
      ]
     },
     "metadata": {},
     "output_type": "display_data"
    },
    {
     "name": "stderr",
     "output_type": "stream",
     "text": [
      "\u001b[34m\u001b[1mwandb\u001b[0m: Agent Starting Run: 6smmsuhu with config:\n",
      "\u001b[34m\u001b[1mwandb\u001b[0m: \tchannels: 3\n",
      "\u001b[34m\u001b[1mwandb\u001b[0m: \tdata_set: Augmented\n",
      "\u001b[34m\u001b[1mwandb\u001b[0m: \tepochs: 70\n",
      "\u001b[34m\u001b[1mwandb\u001b[0m: \tfirst_lin_lay: 248832\n",
      "\u001b[34m\u001b[1mwandb\u001b[0m: \timage_path: /its/home/nn268/antvis/antvis/optics/AugmentedDS_IDSW/\n",
      "\u001b[34m\u001b[1mwandb\u001b[0m: \tks: [3, 5]\n",
      "\u001b[34m\u001b[1mwandb\u001b[0m: \tlearning_rate: 7.978250358066114e-05\n",
      "\u001b[34m\u001b[1mwandb\u001b[0m: \tloss_fn: MSE\n",
      "\u001b[34m\u001b[1mwandb\u001b[0m: \tmodel_name: resnet_fine\n",
      "\u001b[34m\u001b[1mwandb\u001b[0m: \tnum_classes: 11\n",
      "\u001b[34m\u001b[1mwandb\u001b[0m: \toptimizer: adam\n",
      "\u001b[34m\u001b[1mwandb\u001b[0m: \tscheduler: 0.001\n"
     ]
    },
    {
     "data": {
      "text/html": [
       "wandb version 0.16.1 is available!  To upgrade, please run:\n",
       " $ pip install wandb --upgrade"
      ],
      "text/plain": [
       "<IPython.core.display.HTML object>"
      ]
     },
     "metadata": {},
     "output_type": "display_data"
    },
    {
     "data": {
      "text/html": [
       "Tracking run with wandb version 0.16.0"
      ],
      "text/plain": [
       "<IPython.core.display.HTML object>"
      ]
     },
     "metadata": {},
     "output_type": "display_data"
    },
    {
     "data": {
      "text/html": [
       "Run data is saved locally in <code>/its/home/nn268/antvis/antvis/optics/wandb/run-20231207_145951-6smmsuhu</code>"
      ],
      "text/plain": [
       "<IPython.core.display.HTML object>"
      ]
     },
     "metadata": {},
     "output_type": "display_data"
    },
    {
     "data": {
      "text/html": [
       "Syncing run <strong><a href='https://wandb.ai/antvis/IDSW_resnet_fine_hp_80_112023/runs/6smmsuhu' target=\"_blank\">skilled-sweep-4</a></strong> to <a href='https://wandb.ai/antvis/IDSW_resnet_fine_hp_80_112023' target=\"_blank\">Weights & Biases</a> (<a href='https://wandb.me/run' target=\"_blank\">docs</a>)<br/>Sweep page: <a href='https://wandb.ai/antvis/IDSW_resnet_fine_hp_80_112023/sweeps/hecdu5s5' target=\"_blank\">https://wandb.ai/antvis/IDSW_resnet_fine_hp_80_112023/sweeps/hecdu5s5</a>"
      ],
      "text/plain": [
       "<IPython.core.display.HTML object>"
      ]
     },
     "metadata": {},
     "output_type": "display_data"
    },
    {
     "data": {
      "text/html": [
       " View project at <a href='https://wandb.ai/antvis/IDSW_resnet_fine_hp_80_112023' target=\"_blank\">https://wandb.ai/antvis/IDSW_resnet_fine_hp_80_112023</a>"
      ],
      "text/plain": [
       "<IPython.core.display.HTML object>"
      ]
     },
     "metadata": {},
     "output_type": "display_data"
    },
    {
     "data": {
      "text/html": [
       " View sweep at <a href='https://wandb.ai/antvis/IDSW_resnet_fine_hp_80_112023/sweeps/hecdu5s5' target=\"_blank\">https://wandb.ai/antvis/IDSW_resnet_fine_hp_80_112023/sweeps/hecdu5s5</a>"
      ],
      "text/plain": [
       "<IPython.core.display.HTML object>"
      ]
     },
     "metadata": {},
     "output_type": "display_data"
    },
    {
     "data": {
      "text/html": [
       " View run at <a href='https://wandb.ai/antvis/IDSW_resnet_fine_hp_80_112023/runs/6smmsuhu' target=\"_blank\">https://wandb.ai/antvis/IDSW_resnet_fine_hp_80_112023/runs/6smmsuhu</a>"
      ],
      "text/plain": [
       "<IPython.core.display.HTML object>"
      ]
     },
     "metadata": {},
     "output_type": "display_data"
    },
    {
     "name": "stderr",
     "output_type": "stream",
     "text": [
      "  0%| | 0/70 [00:"
     ]
    },
    {
     "name": "stdout",
     "output_type": "stream",
     "text": [
      "E    0\n",
      "training...\n",
      "validating...\n"
     ]
    },
    {
     "name": "stderr",
     "output_type": "stream",
     "text": [
      "  1%| | 1/70 [02:"
     ]
    },
    {
     "name": "stdout",
     "output_type": "stream",
     "text": [
      "improvment in metrics. model saved\n",
      "E    1\n",
      "training...\n",
      "validating...\n"
     ]
    },
    {
     "name": "stderr",
     "output_type": "stream",
     "text": [
      "  3%| | 2/70 [04:"
     ]
    },
    {
     "name": "stdout",
     "output_type": "stream",
     "text": [
      "E    2\n",
      "training...\n",
      "validating...\n"
     ]
    },
    {
     "name": "stderr",
     "output_type": "stream",
     "text": [
      "  4%| | 3/70 [06:"
     ]
    },
    {
     "name": "stdout",
     "output_type": "stream",
     "text": [
      "E    3\n",
      "training...\n",
      "validating...\n"
     ]
    },
    {
     "name": "stderr",
     "output_type": "stream",
     "text": [
      "  6%| | 4/70 [07:"
     ]
    },
    {
     "name": "stdout",
     "output_type": "stream",
     "text": [
      "E    4\n",
      "training...\n",
      "validating...\n"
     ]
    },
    {
     "name": "stderr",
     "output_type": "stream",
     "text": [
      "  7%| | 5/70 [09:"
     ]
    },
    {
     "name": "stdout",
     "output_type": "stream",
     "text": [
      "E    5\n",
      "training...\n",
      "validating...\n"
     ]
    },
    {
     "name": "stderr",
     "output_type": "stream",
     "text": [
      "  9%| | 6/70 [11:"
     ]
    },
    {
     "name": "stdout",
     "output_type": "stream",
     "text": [
      "E    6\n",
      "training...\n",
      "validating...\n"
     ]
    },
    {
     "name": "stderr",
     "output_type": "stream",
     "text": [
      " 10%| | 7/70 [13:"
     ]
    },
    {
     "name": "stdout",
     "output_type": "stream",
     "text": [
      "E    7\n",
      "training...\n",
      "validating...\n"
     ]
    },
    {
     "name": "stderr",
     "output_type": "stream",
     "text": [
      " 11%| | 8/70 [15:"
     ]
    },
    {
     "name": "stdout",
     "output_type": "stream",
     "text": [
      "E    8\n",
      "training...\n",
      "validating...\n"
     ]
    },
    {
     "name": "stderr",
     "output_type": "stream",
     "text": [
      " 13%|▏| 9/70 [16:"
     ]
    },
    {
     "name": "stdout",
     "output_type": "stream",
     "text": [
      "E    9\n",
      "training...\n",
      "validating...\n"
     ]
    },
    {
     "name": "stderr",
     "output_type": "stream",
     "text": [
      " 14%|▏| 10/70 [18"
     ]
    },
    {
     "name": "stdout",
     "output_type": "stream",
     "text": [
      "E    10\n",
      "training...\n",
      "validating...\n"
     ]
    },
    {
     "name": "stderr",
     "output_type": "stream",
     "text": [
      " 16%|▏| 11/70 [20"
     ]
    },
    {
     "name": "stdout",
     "output_type": "stream",
     "text": [
      "E    11\n",
      "training...\n",
      "validating...\n"
     ]
    },
    {
     "name": "stderr",
     "output_type": "stream",
     "text": [
      " 17%|▏| 12/70 [21"
     ]
    },
    {
     "name": "stdout",
     "output_type": "stream",
     "text": [
      "E    12\n",
      "training...\n",
      "validating...\n"
     ]
    },
    {
     "name": "stderr",
     "output_type": "stream",
     "text": [
      " 19%|▏| 13/70 [23"
     ]
    },
    {
     "name": "stdout",
     "output_type": "stream",
     "text": [
      "E    13\n",
      "training...\n",
      "validating...\n"
     ]
    },
    {
     "name": "stderr",
     "output_type": "stream",
     "text": [
      " 20%|▏| 14/70 [25"
     ]
    },
    {
     "name": "stdout",
     "output_type": "stream",
     "text": [
      "E    14\n",
      "training...\n",
      "validating...\n"
     ]
    },
    {
     "name": "stderr",
     "output_type": "stream",
     "text": [
      " 21%|▏| 15/70 [27"
     ]
    },
    {
     "name": "stdout",
     "output_type": "stream",
     "text": [
      "E    15\n",
      "training...\n",
      "validating...\n"
     ]
    },
    {
     "name": "stderr",
     "output_type": "stream",
     "text": [
      " 23%|▏| 16/70 [28"
     ]
    },
    {
     "name": "stdout",
     "output_type": "stream",
     "text": [
      "E    16\n",
      "training...\n",
      "validating...\n"
     ]
    },
    {
     "name": "stderr",
     "output_type": "stream",
     "text": [
      " 24%|▏| 17/70 [30"
     ]
    },
    {
     "name": "stdout",
     "output_type": "stream",
     "text": [
      "E    17\n",
      "training...\n",
      "validating...\n"
     ]
    },
    {
     "name": "stderr",
     "output_type": "stream",
     "text": [
      " 26%|▎| 18/70 [32"
     ]
    },
    {
     "name": "stdout",
     "output_type": "stream",
     "text": [
      "E    18\n",
      "training...\n",
      "validating...\n"
     ]
    },
    {
     "name": "stderr",
     "output_type": "stream",
     "text": [
      " 27%|▎| 19/70 [33"
     ]
    },
    {
     "name": "stdout",
     "output_type": "stream",
     "text": [
      "E    19\n",
      "training...\n",
      "validating...\n"
     ]
    },
    {
     "name": "stderr",
     "output_type": "stream",
     "text": [
      " 29%|▎| 20/70 [35"
     ]
    },
    {
     "name": "stdout",
     "output_type": "stream",
     "text": [
      "E    20\n",
      "training...\n",
      "validating...\n"
     ]
    },
    {
     "name": "stderr",
     "output_type": "stream",
     "text": [
      " 30%|▎| 21/70 [37"
     ]
    },
    {
     "name": "stdout",
     "output_type": "stream",
     "text": [
      "E    21\n",
      "training...\n",
      "validating...\n"
     ]
    },
    {
     "name": "stderr",
     "output_type": "stream",
     "text": [
      " 31%|▎| 22/70 [39"
     ]
    },
    {
     "name": "stdout",
     "output_type": "stream",
     "text": [
      "E    22\n",
      "training...\n",
      "validating...\n"
     ]
    },
    {
     "name": "stderr",
     "output_type": "stream",
     "text": [
      " 33%|▎| 23/70 [40"
     ]
    },
    {
     "name": "stdout",
     "output_type": "stream",
     "text": [
      "E    23\n",
      "training...\n",
      "validating...\n"
     ]
    },
    {
     "name": "stderr",
     "output_type": "stream",
     "text": [
      " 34%|▎| 24/70 [42"
     ]
    },
    {
     "name": "stdout",
     "output_type": "stream",
     "text": [
      "E    24\n",
      "training...\n",
      "validating...\n"
     ]
    },
    {
     "name": "stderr",
     "output_type": "stream",
     "text": [
      " 36%|▎| 25/70 [43"
     ]
    },
    {
     "name": "stdout",
     "output_type": "stream",
     "text": [
      "E    25\n",
      "training...\n",
      "validating...\n"
     ]
    },
    {
     "name": "stderr",
     "output_type": "stream",
     "text": [
      " 37%|▎| 26/70 [45"
     ]
    },
    {
     "name": "stdout",
     "output_type": "stream",
     "text": [
      "E    26\n",
      "training...\n",
      "validating...\n"
     ]
    },
    {
     "name": "stderr",
     "output_type": "stream",
     "text": [
      " 39%|▍| 27/70 [47"
     ]
    },
    {
     "name": "stdout",
     "output_type": "stream",
     "text": [
      "E    27\n",
      "training...\n",
      "validating...\n"
     ]
    },
    {
     "name": "stderr",
     "output_type": "stream",
     "text": [
      " 40%|▍| 28/70 [48"
     ]
    },
    {
     "name": "stdout",
     "output_type": "stream",
     "text": [
      "E    28\n",
      "training...\n",
      "validating...\n"
     ]
    },
    {
     "name": "stderr",
     "output_type": "stream",
     "text": [
      " 41%|▍| 29/70 [50"
     ]
    },
    {
     "name": "stdout",
     "output_type": "stream",
     "text": [
      "E    29\n",
      "training...\n",
      "validating...\n"
     ]
    },
    {
     "name": "stderr",
     "output_type": "stream",
     "text": [
      " 43%|▍| 30/70 [51"
     ]
    },
    {
     "name": "stdout",
     "output_type": "stream",
     "text": [
      "E    30\n",
      "training...\n",
      "validating...\n"
     ]
    },
    {
     "name": "stderr",
     "output_type": "stream",
     "text": [
      " 44%|▍| 31/70 [53"
     ]
    },
    {
     "name": "stdout",
     "output_type": "stream",
     "text": [
      "E    31\n",
      "training...\n",
      "validating...\n"
     ]
    },
    {
     "name": "stderr",
     "output_type": "stream",
     "text": [
      " 46%|▍| 32/70 [55"
     ]
    },
    {
     "name": "stdout",
     "output_type": "stream",
     "text": [
      "E    32\n",
      "training...\n",
      "validating...\n"
     ]
    },
    {
     "name": "stderr",
     "output_type": "stream",
     "text": [
      " 47%|▍| 33/70 [56"
     ]
    },
    {
     "name": "stdout",
     "output_type": "stream",
     "text": [
      "E    33\n",
      "training...\n",
      "validating...\n"
     ]
    },
    {
     "name": "stderr",
     "output_type": "stream",
     "text": [
      " 49%|▍| 34/70 [58"
     ]
    },
    {
     "name": "stdout",
     "output_type": "stream",
     "text": [
      "E    34\n",
      "training...\n",
      "validating...\n"
     ]
    },
    {
     "name": "stderr",
     "output_type": "stream",
     "text": [
      " 50%|▌| 35/70 [1:"
     ]
    },
    {
     "name": "stdout",
     "output_type": "stream",
     "text": [
      "E    35\n",
      "training...\n",
      "validating...\n"
     ]
    },
    {
     "name": "stderr",
     "output_type": "stream",
     "text": [
      " 51%|▌| 36/70 [1:"
     ]
    },
    {
     "name": "stdout",
     "output_type": "stream",
     "text": [
      "E    36\n",
      "training...\n",
      "validating...\n"
     ]
    },
    {
     "name": "stderr",
     "output_type": "stream",
     "text": [
      " 53%|▌| 37/70 [1:"
     ]
    },
    {
     "name": "stdout",
     "output_type": "stream",
     "text": [
      "E    37\n",
      "training...\n",
      "validating...\n"
     ]
    },
    {
     "name": "stderr",
     "output_type": "stream",
     "text": [
      " 54%|▌| 38/70 [1:"
     ]
    },
    {
     "name": "stdout",
     "output_type": "stream",
     "text": [
      "E    38\n",
      "training...\n",
      "validating...\n"
     ]
    },
    {
     "name": "stderr",
     "output_type": "stream",
     "text": [
      " 56%|▌| 39/70 [1:"
     ]
    },
    {
     "name": "stdout",
     "output_type": "stream",
     "text": [
      "E    39\n",
      "training...\n",
      "validating...\n"
     ]
    },
    {
     "name": "stderr",
     "output_type": "stream",
     "text": [
      " 57%|▌| 40/70 [1:"
     ]
    },
    {
     "name": "stdout",
     "output_type": "stream",
     "text": [
      "E    40\n",
      "training...\n",
      "validating...\n"
     ]
    },
    {
     "name": "stderr",
     "output_type": "stream",
     "text": [
      " 59%|▌| 41/70 [1:"
     ]
    },
    {
     "name": "stdout",
     "output_type": "stream",
     "text": [
      "E    41\n",
      "training...\n",
      "validating...\n"
     ]
    },
    {
     "name": "stderr",
     "output_type": "stream",
     "text": [
      " 60%|▌| 42/70 [1:"
     ]
    },
    {
     "name": "stdout",
     "output_type": "stream",
     "text": [
      "E    42\n",
      "training...\n",
      "validating...\n"
     ]
    },
    {
     "name": "stderr",
     "output_type": "stream",
     "text": [
      " 61%|▌| 43/70 [1:"
     ]
    },
    {
     "name": "stdout",
     "output_type": "stream",
     "text": [
      "E    43\n",
      "training...\n",
      "validating...\n"
     ]
    },
    {
     "name": "stderr",
     "output_type": "stream",
     "text": [
      " 63%|▋| 44/70 [1:"
     ]
    },
    {
     "name": "stdout",
     "output_type": "stream",
     "text": [
      "E    44\n",
      "training...\n",
      "validating...\n"
     ]
    },
    {
     "name": "stderr",
     "output_type": "stream",
     "text": [
      " 64%|▋| 45/70 [1:"
     ]
    },
    {
     "name": "stdout",
     "output_type": "stream",
     "text": [
      "E    45\n",
      "training...\n",
      "validating...\n"
     ]
    },
    {
     "name": "stderr",
     "output_type": "stream",
     "text": [
      " 66%|▋| 46/70 [1:"
     ]
    },
    {
     "name": "stdout",
     "output_type": "stream",
     "text": [
      "E    46\n",
      "training...\n",
      "validating...\n"
     ]
    },
    {
     "name": "stderr",
     "output_type": "stream",
     "text": [
      " 67%|▋| 47/70 [1:"
     ]
    },
    {
     "name": "stdout",
     "output_type": "stream",
     "text": [
      "E    47\n",
      "training...\n",
      "validating...\n"
     ]
    },
    {
     "name": "stderr",
     "output_type": "stream",
     "text": [
      " 69%|▋| 48/70 [1:"
     ]
    },
    {
     "name": "stdout",
     "output_type": "stream",
     "text": [
      "E    48\n",
      "training...\n",
      "validating...\n"
     ]
    },
    {
     "name": "stderr",
     "output_type": "stream",
     "text": [
      " 70%|▋| 49/70 [1:"
     ]
    },
    {
     "name": "stdout",
     "output_type": "stream",
     "text": [
      "E    49\n",
      "training...\n",
      "validating...\n"
     ]
    },
    {
     "name": "stderr",
     "output_type": "stream",
     "text": [
      " 71%|▋| 50/70 [1:"
     ]
    },
    {
     "name": "stdout",
     "output_type": "stream",
     "text": [
      "E    50\n",
      "training...\n",
      "validating...\n"
     ]
    },
    {
     "name": "stderr",
     "output_type": "stream",
     "text": [
      " 73%|▋| 51/70 [1:"
     ]
    },
    {
     "name": "stdout",
     "output_type": "stream",
     "text": [
      "E    51\n",
      "training...\n",
      "validating...\n"
     ]
    },
    {
     "name": "stderr",
     "output_type": "stream",
     "text": [
      " 74%|▋| 52/70 [1:"
     ]
    },
    {
     "name": "stdout",
     "output_type": "stream",
     "text": [
      "E    52\n",
      "training...\n",
      "validating...\n"
     ]
    },
    {
     "name": "stderr",
     "output_type": "stream",
     "text": [
      " 76%|▊| 53/70 [1:"
     ]
    },
    {
     "name": "stdout",
     "output_type": "stream",
     "text": [
      "E    53\n",
      "training...\n"
     ]
    }
   ],
   "source": [
    "\n",
    "#model, save_dict = pipeline(config['loss_fn'])\n",
    "\n",
    "def tr(config=None):\n",
    "    with wandb.init(config=config):\n",
    "        config = wandb.config\n",
    "        model, save_dict = pipeline(config)\n",
    "        \n",
    "\n",
    "wandb.agent(sweep_id, tr, count=20)"
   ]
  },
  {
   "cell_type": "code",
   "execution_count": null,
   "metadata": {
    "scrolled": true
   },
   "outputs": [],
   "source": [
    "\"\"\"#model,save_dict = pipeline(config) #7,168\n",
    "\n",
    "def tr(config=None):\n",
    "    print('1')\n",
    "    with wandb.init(config=config):\n",
    "        print('2')\n",
    "        config = wandb.config\n",
    "        print('3')\n",
    "        model, save_dict = pipeline(config)\n",
    "        \n",
    "sweep_id = wandb.sweep(config, project=f\"{run_title}\"),\n",
    "#wandb.agent(sweep_id, tr, count=20)\"\"\""
   ]
  },
  {
   "cell_type": "code",
   "execution_count": null,
   "metadata": {},
   "outputs": [],
   "source": [
    "!nvidia-smi"
   ]
  },
  {
   "cell_type": "code",
   "execution_count": null,
   "metadata": {},
   "outputs": [],
   "source": [
    "# confusion matrix\n",
    "\n",
    "\n",
    "def plot_confusion(predictions:list, actual:list, title:str):\n",
    "    predict_list = [int(t.argmax()) for t in predictions]\n",
    "    actual = [int(l.argmax()) for l in actual]\n",
    "\n",
    "    actual = np.array(actual)\n",
    "    predict_list = np.array(predict_list)\n",
    "\n",
    "\n",
    "    #FixedLocator locations (3), usually from a call to set_ticks, does not match the number of labels (11).\n",
    "    print(f'\\n     {title}')\n",
    "    train_epoch_matrix = confusion_matrix(actual, predict_list, labels= [0,1,2,3,4,5,6,7,8,9,10])\n",
    "    disp= ConfusionMatrixDisplay(train_epoch_matrix, display_labels=[0,1,2,3,4,5,6,7,8,9,10])\n",
    "    disp.plot()\n",
    "    plt.show()\n"
   ]
  },
  {
   "cell_type": "code",
   "execution_count": null,
   "metadata": {},
   "outputs": [],
   "source": [
    "t_predict = save_dict['t_predict_list']\n",
    "t_labels = save_dict['t_labels']\n",
    "\n",
    "v_predict = save_dict['v_predict_list'] # WHY IS THERE NOTHING IN V OREDICT LIST!\n",
    "v_labels = save_dict['v_labels']\n",
    "\n",
    "plot_confusion(t_predict, t_labels, 'Train Confusion Matrix')\n",
    "plot_confusion(v_predict, v_labels, 'Validation Confusion Matrix')"
   ]
  },
  {
   "cell_type": "code",
   "execution_count": null,
   "metadata": {},
   "outputs": [],
   "source": [
    "class PrintLayer(nn.Module):\n",
    "    def __init__(self):\n",
    "        super(PrintLayer, self).__init__()\n",
    "    \n",
    "    def forward(self, x):\n",
    "        # Do your print / debug stuff here\n",
    "        print(x)\n",
    "        return x"
   ]
  },
  {
   "cell_type": "code",
   "execution_count": null,
   "metadata": {},
   "outputs": [],
   "source": [
    "\"\"\"model =nn.Sequential(\n",
    "    PrintLayer(),\n",
    "    model_vgg16,\n",
    "    PrintLayer(),\n",
    "    Squeeze(),\n",
    "    PrintLayer(),\n",
    "    nn.Linear(2048,11),\n",
    "    PrintLayer(),\n",
    "    nn.Softmax(dim=0),\n",
    "    PrintLayer()\n",
    "\n",
    ").to(device)\"\"\""
   ]
  },
  {
   "cell_type": "code",
   "execution_count": null,
   "metadata": {},
   "outputs": [],
   "source": [
    "\n",
    "x = preprocess_im(x_train[0])\n",
    "\n",
    "\n",
    "train_prediction = model.forward(x)"
   ]
  },
  {
   "cell_type": "code",
   "execution_count": null,
   "metadata": {},
   "outputs": [],
   "source": [
    "model.to('cpu').state_dict()"
   ]
  }
 ],
 "metadata": {
  "kernelspec": {
   "display_name": "Python 3 (ipykernel)",
   "language": "python",
   "name": "python3"
  },
  "language_info": {
   "codemirror_mode": {
    "name": "ipython",
    "version": 3
   },
   "file_extension": ".py",
   "mimetype": "text/x-python",
   "name": "python",
   "nbconvert_exporter": "python",
   "pygments_lexer": "ipython3",
   "version": "3.10.12"
  }
 },
 "nbformat": 4,
 "nbformat_minor": 4
}
