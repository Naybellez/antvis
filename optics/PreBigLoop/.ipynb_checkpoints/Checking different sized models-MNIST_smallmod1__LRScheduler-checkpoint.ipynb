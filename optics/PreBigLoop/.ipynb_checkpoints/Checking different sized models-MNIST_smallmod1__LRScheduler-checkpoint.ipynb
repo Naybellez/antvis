{
 "cells": [
  {
   "cell_type": "code",
   "execution_count": null,
   "metadata": {},
   "outputs": [],
   "source": [
    "# SANITY CHECK\n",
    "# checking classic modal on MNIST and CIFAR10\n",
    "# checking different sized (smaller) models on these datasets too\n",
    "\n",
    "# start on wrapped images\n",
    "# then again on unwrapped images\n",
    "\n",
    "# need to be sure, my model architecture still is the best\n",
    "# this will allow me to know if my low success is because og HP or the dataset being bad"
   ]
  },
  {
   "cell_type": "code",
   "execution_count": 6,
   "metadata": {},
   "outputs": [
    {
     "name": "stdout",
     "output_type": "stream",
     "text": [
      "{'method': 'random',\n",
      " 'metric': {'goal': 'minimize', 'name': 'loss'},\n",
      " 'parameters': {'epochs': {'value': 40},\n",
      "                'learning_rate': {'distribution': 'log_uniform_values',\n",
      "                                  'max': 0.01,\n",
      "                                  'min': 1e-05},\n",
      "                'loss_fn': {'values': ['MSE', 'CrossEntropy']},\n",
      "                'optimizer': {'values': ['adam']},\n",
      "                'weight_decay': {'values': [1e-05, 2e-05, 3e-05, 4e-05]}}}\n",
      "Using cuda:0 device\n",
      "Create sweep with ID: m9ulsvkj\n",
      "Sweep URL: https://wandb.ai/antvis/SanityCheck_modelSize_3conv2lin_fashion_MNIST_colour/sweeps/m9ulsvkj\n"
     ]
    }
   ],
   "source": [
    "import cv2\n",
    "from PIL import Image\n",
    "\n",
    "from matplotlib import pyplot as plt\n",
    "import numpy as np\n",
    "import pandas as pd\n",
    "import math as maths\n",
    "\n",
    "import os\n",
    "import random\n",
    "\n",
    "from sklearn.model_selection import train_test_split\n",
    "\n",
    "import torch\n",
    "import torch.nn as nn\n",
    "from torch.nn import functional\n",
    "\n",
    "\n",
    "from tqdm import tqdm\n",
    "from IPython.display import clear_output\n",
    "\n",
    "import wandb\n",
    "import pprint\n",
    "\n",
    "from functions import import_imagedata, get_data, label_oh_tf,  Unwrap, ImageProcessor\n",
    "from architectures import vgg16net, smallnet1, smallnet2\n",
    "from loop_fns import loop, test_loop\n",
    "from fns4wandb import build_optimizer, set_optimizer, train_model, train_log, log_test_score\n",
    "import keras\n",
    "from keras.datasets import mnist\n",
    "from keras.datasets import fashion_mnist\n",
    "\n",
    "\n",
    "config ={\n",
    "    'method': 'random'\n",
    "}\n",
    "\n",
    "metric = {'name': 'loss',\n",
    "         'goal': 'minimize'}\n",
    "\n",
    "config['metric'] = metric\n",
    "\n",
    "param_dict ={\n",
    "    'optimizer':{\n",
    "        'values': ['adam']\n",
    "    },\n",
    "}\n",
    "\n",
    "config['parameters'] = param_dict\n",
    "\n",
    "param_dict.update({\n",
    "    'epochs': {\n",
    "        'value': 40\n",
    "    }\n",
    "})\n",
    "\n",
    "\n",
    "\n",
    "param_dict.update({\n",
    "    'learning_rate': {\n",
    "        # a flat distribution between 0 and 0.1\n",
    "        'distribution': 'log_uniform_values',\n",
    "        'min': 0.00001,\n",
    "        'max': 0.01\n",
    "      },\n",
    "    'weight_decay':{\n",
    "            'values': [1e-5,2e-5, 3e-5,4e-5]\n",
    "      },\n",
    "    'loss_fn': {\n",
    "            'values': ['MSE', 'CrossEntropy']\n",
    "        },\n",
    "    })\n",
    "\n",
    "\n",
    "pprint.pprint(config)\n",
    "\n",
    "\n",
    "col_dict = {\n",
    "    'colour': 'colour',\n",
    "    'size': [32,32],   #36,113\n",
    "}\n",
    "\n",
    "\n",
    "\n",
    "device = \"cuda:0\" if torch.cuda.is_available() else \"cpu\"\n",
    "print(f\"Using {device} device\")\n",
    "\n",
    "\n",
    "sweep_id = wandb.sweep(config, project=f\"SanityCheck_modelSize_3conv2lin_fashion_MNIST_{col_dict['colour']}\")"
   ]
  },
  {
   "cell_type": "code",
   "execution_count": 55,
   "metadata": {},
   "outputs": [
    {
     "data": {
      "text/plain": [
       "True"
      ]
     },
     "execution_count": 55,
     "metadata": {},
     "output_type": "execute_result"
    }
   ],
   "source": [
    "wandb.login()"
   ]
  },
  {
   "cell_type": "code",
   "execution_count": 7,
   "metadata": {},
   "outputs": [
    {
     "data": {
      "text/plain": [
       "'# title, config\\ndef pipeline(hp): \\n    \\n    title = f\"{col_dict[\\'colour\\']}_Wrapped_MNIST_7c3l_3232\" #print(f\"HPS_UNwrapped_{col_dict[\\'colour\\']}\")\\n    \\n    \\n    \\n    with wandb.init(project=title, config=hp):\\n        config = wandb.config\\n        model = build_net(lin_layer_size =config.lin_layer_size,dropout =config.dropout, first_lin_lay=config.first_linear, ks= config.kernal_size,in_chan= config.first_in_channel).to(device)\\n        loss_fn = set_loss_fn(config.loss_fn)\\n        \\n        train_model(model, x_train, y_train, x_val, y_val,loss_fn, config)\\n        test_loop(model, x_test, y_test, loss_fn, device, col_dict,title)\\n        \\n    return model'"
      ]
     },
     "execution_count": 7,
     "metadata": {},
     "output_type": "execute_result"
    }
   ],
   "source": [
    "\n",
    "                            # Common functions\n",
    "\n",
    "def set_lossfn(lf):\n",
    "    if lf =='MSE':\n",
    "        loss_fn = nn.MSELoss()\n",
    "    elif lf == 'CrossEntropy':\n",
    "        loss_fn = nn.CrossEntropyLoss()\n",
    "    return loss_fn\n",
    "\n",
    "\n",
    "def train(config=None):\n",
    "    with wandb.init(config=config):\n",
    "        config = wandb.config\n",
    "        (x_train, y_train), (x_test, y_test) = fashion_mnist.load_data()\n",
    "        x_train, x_val, y_train, y_val = train_test_split(x_train, y_train, test_size=0.2, shuffle=True)\n",
    "        x_train =[np.expand_dims(i, axis=2) for i in x_train]\n",
    "        x_val =[np.expand_dims(i, axis=2) for i in x_val]\n",
    "        x_test =[np.expand_dims(i, axis=2) for i in x_test]\n",
    "\n",
    "        model =smallnet2(in_chan=1, f_lin_lay=14400).to(device) \n",
    "        if config.loss_fn == 'MSE':\n",
    "            loss_fn = nn.MSELoss()\n",
    "        elif config.loss_fn == 'CrossEntropy':\n",
    "            loss_fn = nn.CrossEntropyLoss()\n",
    "        \n",
    "        e_count = 0\n",
    "        #optimizer = build_optimizer(network, config.optimizer, config.learning_rate, config.weight_decay)\n",
    "        #if e_count >= 20:\n",
    "        optimizer = build_optimizer(model, config.optimizer, config.learning_rate, config.weight_decay)\n",
    "        #else:\n",
    "        #    optimizer = build_optimizer(model, config.optimizer, config.learning_rate)\n",
    "        \n",
    "        for epoch in range(config.epochs):\n",
    "\n",
    "            t_loss, predict_list, t_num_correct, model, optimizer = loop(model, x_train, y_train, epoch, loss_fn, device, col_dict, optimizer=optimizer)\n",
    "            t_accuracy = (t_num_correct /len(x_train))*100\n",
    "            v_loss, __, v_num_correct= loop(model, x_val, y_val, epoch, loss_fn, device,col_dict, train=False) \n",
    "            v_accuracy= (v_num_correct / len(x_val))*100\n",
    "            \n",
    "            t_avg_loss =t_loss/len(x_train)\n",
    "            v_avg_loss = v_loss /len(x_val)\n",
    "            \n",
    "            e_count +=1\n",
    "            # logging\n",
    "            wandb.log({'avg_train_loss': t_avg_loss, 'epoch':epoch})\n",
    "            wandb.log({'avg_val_loss': v_avg_loss, 'epoch':epoch})\n",
    "            wandb.log({'train_loss': t_loss, 'epoch':epoch})\n",
    "            wandb.log({'val_loss': v_loss, 'epoch':epoch})\n",
    "            wandb.log({'train_accuracy_%': t_accuracy, 'epoch':epoch})\n",
    "            wandb.log({'val_accuracy_%': v_accuracy, 'epoch':epoch})\n",
    "\n",
    "    \n",
    "\"\"\"# title, config\n",
    "def pipeline(hp): \n",
    "    \n",
    "    title = f\"{col_dict['colour']}_Wrapped_MNIST_7c3l_3232\" #print(f\"HPS_UNwrapped_{col_dict['colour']}\")\n",
    "    \n",
    "    \n",
    "    \n",
    "    with wandb.init(project=title, config=hp):\n",
    "        config = wandb.config\n",
    "        model = build_net(lin_layer_size =config.lin_layer_size,dropout =config.dropout, first_lin_lay=config.first_linear, ks= config.kernal_size,in_chan= config.first_in_channel).to(device)\n",
    "        loss_fn = set_loss_fn(config.loss_fn)\n",
    "        \n",
    "        train_model(model, x_train, y_train, x_val, y_val,loss_fn, config)\n",
    "        test_loop(model, x_test, y_test, loss_fn, device, col_dict,title)\n",
    "        \n",
    "    return model\"\"\"\n",
    "        "
   ]
  },
  {
   "cell_type": "code",
   "execution_count": null,
   "metadata": {},
   "outputs": [
    {
     "name": "stderr",
     "output_type": "stream",
     "text": [
      "\u001b[34m\u001b[1mwandb\u001b[0m: Agent Starting Run: 2ir02kip with config:\n",
      "\u001b[34m\u001b[1mwandb\u001b[0m: \tepochs: 40\n",
      "\u001b[34m\u001b[1mwandb\u001b[0m: \tlearning_rate: 0.0028407280053871667\n",
      "\u001b[34m\u001b[1mwandb\u001b[0m: \tloss_fn: MSE\n",
      "\u001b[34m\u001b[1mwandb\u001b[0m: \toptimizer: adam\n",
      "\u001b[34m\u001b[1mwandb\u001b[0m: \tweight_decay: 1e-05\n"
     ]
    },
    {
     "data": {
      "text/html": [
       "wandb version 0.15.12 is available!  To upgrade, please run:\n",
       " $ pip install wandb --upgrade"
      ],
      "text/plain": [
       "<IPython.core.display.HTML object>"
      ]
     },
     "metadata": {},
     "output_type": "display_data"
    },
    {
     "data": {
      "text/html": [
       "Tracking run with wandb version 0.15.10"
      ],
      "text/plain": [
       "<IPython.core.display.HTML object>"
      ]
     },
     "metadata": {},
     "output_type": "display_data"
    },
    {
     "data": {
      "text/html": [
       "Run data is saved locally in <code>/its/home/nn268/optics/wandb/run-20231010_102309-2ir02kip</code>"
      ],
      "text/plain": [
       "<IPython.core.display.HTML object>"
      ]
     },
     "metadata": {},
     "output_type": "display_data"
    },
    {
     "data": {
      "text/html": [
       "Syncing run <strong><a href='https://wandb.ai/antvis/SanityCheck_modelSize_3conv2lin_fashion_MNIST_colour/runs/2ir02kip' target=\"_blank\">eager-sweep-1</a></strong> to <a href='https://wandb.ai/antvis/SanityCheck_modelSize_3conv2lin_fashion_MNIST_colour' target=\"_blank\">Weights & Biases</a> (<a href='https://wandb.me/run' target=\"_blank\">docs</a>)<br/>Sweep page: <a href='https://wandb.ai/antvis/SanityCheck_modelSize_3conv2lin_fashion_MNIST_colour/sweeps/m9ulsvkj' target=\"_blank\">https://wandb.ai/antvis/SanityCheck_modelSize_3conv2lin_fashion_MNIST_colour/sweeps/m9ulsvkj</a>"
      ],
      "text/plain": [
       "<IPython.core.display.HTML object>"
      ]
     },
     "metadata": {},
     "output_type": "display_data"
    },
    {
     "data": {
      "text/html": [
       " View project at <a href='https://wandb.ai/antvis/SanityCheck_modelSize_3conv2lin_fashion_MNIST_colour' target=\"_blank\">https://wandb.ai/antvis/SanityCheck_modelSize_3conv2lin_fashion_MNIST_colour</a>"
      ],
      "text/plain": [
       "<IPython.core.display.HTML object>"
      ]
     },
     "metadata": {},
     "output_type": "display_data"
    },
    {
     "data": {
      "text/html": [
       " View sweep at <a href='https://wandb.ai/antvis/SanityCheck_modelSize_3conv2lin_fashion_MNIST_colour/sweeps/m9ulsvkj' target=\"_blank\">https://wandb.ai/antvis/SanityCheck_modelSize_3conv2lin_fashion_MNIST_colour/sweeps/m9ulsvkj</a>"
      ],
      "text/plain": [
       "<IPython.core.display.HTML object>"
      ]
     },
     "metadata": {},
     "output_type": "display_data"
    },
    {
     "data": {
      "text/html": [
       " View run at <a href='https://wandb.ai/antvis/SanityCheck_modelSize_3conv2lin_fashion_MNIST_colour/runs/2ir02kip' target=\"_blank\">https://wandb.ai/antvis/SanityCheck_modelSize_3conv2lin_fashion_MNIST_colour/runs/2ir02kip</a>"
      ],
      "text/plain": [
       "<IPython.core.display.HTML object>"
      ]
     },
     "metadata": {},
     "output_type": "display_data"
    }
   ],
   "source": [
    "wandb.agent(sweep_id, train, count=5)"
   ]
  }
 ],
 "metadata": {
  "kernelspec": {
   "display_name": "Python 3",
   "language": "python",
   "name": "python3"
  },
  "language_info": {
   "codemirror_mode": {
    "name": "ipython",
    "version": 3
   },
   "file_extension": ".py",
   "mimetype": "text/x-python",
   "name": "python",
   "nbconvert_exporter": "python",
   "pygments_lexer": "ipython3",
   "version": "3.8.10"
  }
 },
 "nbformat": 4,
 "nbformat_minor": 4
}
