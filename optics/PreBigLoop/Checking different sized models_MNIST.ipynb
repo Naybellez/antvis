{
 "cells": [
  {
   "cell_type": "code",
   "execution_count": null,
   "metadata": {},
   "outputs": [],
   "source": [
    "# SANITY CHECK\n",
    "# checking classic modal on MNIST and CIFAR10\n",
    "# checking different sized (smaller) models on these datasets too\n",
    "\n",
    "# start on wrapped images\n",
    "# then again on unwrapped images\n",
    "\n",
    "# need to be sure, my model architecture still is the best\n",
    "# this will allow me to know if my low success is because og HP or the dataset being bad\n",
    "\n",
    "# vgg16 style net (7conv, 3 lin) MNIST"
   ]
  },
  {
   "cell_type": "code",
   "execution_count": 1,
   "metadata": {
    "scrolled": true
   },
   "outputs": [
    {
     "name": "stderr",
     "output_type": "stream",
     "text": [
      "/usr/lib/python3/dist-packages/requests/__init__.py:89: RequestsDependencyWarning: urllib3 (2.0.4) or chardet (3.0.4) doesn't match a supported version!\n",
      "  warnings.warn(\"urllib3 ({}) or chardet ({}) doesn't match a supported \"\n"
     ]
    },
    {
     "name": "stdout",
     "output_type": "stream",
     "text": [
      "{'method': 'random',\n",
      " 'metric': {'goal': 'minimize', 'name': 'loss'},\n",
      " 'parameters': {'epochs': {'value': 40},\n",
      "                'learning_rate': {'distribution': 'log_uniform_values',\n",
      "                                  'max': 0.01,\n",
      "                                  'min': 1e-05},\n",
      "                'loss_fn': {'values': ['MSE', 'CrossEntropy']},\n",
      "                'optimizer': {'values': ['adam']},\n",
      "                'weight_decay': {'values': [1e-05, 2e-05, 3e-05, 4e-05]}}}\n",
      "Using cuda:1 device\n",
      "Create sweep with ID: pvczenzd\n",
      "Sweep URL: https://wandb.ai/antvis/SanityCheck_modelSize_7conv3lin_MNIST_noblue/sweeps/pvczenzd\n"
     ]
    }
   ],
   "source": [
    "import cv2\n",
    "from PIL import Image\n",
    "\n",
    "from matplotlib import pyplot as plt\n",
    "import numpy as np\n",
    "import pandas as pd\n",
    "import math as maths\n",
    "\n",
    "import os\n",
    "import random\n",
    "\n",
    "from sklearn.model_selection import train_test_split\n",
    "\n",
    "import torch\n",
    "import torch.nn as nn\n",
    "from torch.nn import functional\n",
    "\n",
    "\n",
    "from tqdm import tqdm\n",
    "from IPython.display import clear_output\n",
    "\n",
    "import wandb\n",
    "import pprint\n",
    "\n",
    "from functions import import_imagedata, get_data, label_oh_tf,  Unwrap, ImageProcessor\n",
    "from architectures import vgg16net, smallnet1, smallnet2\n",
    "from loop_fns import loop, test_loop\n",
    "from fns4wandb import build_optimizer, set_optimizer, train_model, train_log, log_test_score\n",
    "import keras\n",
    "from keras.datasets import mnist\n",
    "\n",
    "\n",
    "\n",
    "config ={\n",
    "    'method': 'random'\n",
    "}\n",
    "\n",
    "metric = {'name': 'loss',\n",
    "         'goal': 'minimize'}\n",
    "\n",
    "config['metric'] = metric\n",
    "\n",
    "param_dict ={\n",
    "    'optimizer':{\n",
    "        'values': ['adam']\n",
    "    },\n",
    "}\n",
    "\n",
    "config['parameters'] = param_dict\n",
    "\n",
    "param_dict.update({\n",
    "    'epochs': {\n",
    "        'value': 40\n",
    "    }\n",
    "})\n",
    "\n",
    "\n",
    "\n",
    "param_dict.update({\n",
    "    'learning_rate': {\n",
    "        # a flat distribution between 0 and 0.1\n",
    "        'distribution': 'log_uniform_values',\n",
    "        'min': 0.00001,\n",
    "        'max': 0.01\n",
    "      },\n",
    "    'weight_decay':{\n",
    "            'values': [1e-5,2e-5, 3e-5,4e-5]\n",
    "      },\n",
    "    'loss_fn': {\n",
    "            'values': ['MSE', 'CrossEntropy']\n",
    "        },\n",
    "    })\n",
    "\n",
    "\n",
    "pprint.pprint(config)\n",
    "\n",
    "\n",
    "col_dict = {\n",
    "    'colour': 'noblue',\n",
    "    'size': [32,32],   #36,113\n",
    "}\n",
    "\n",
    "\n",
    "\n",
    "device = \"cuda:1\" if torch.cuda.is_available() else \"cpu\"\n",
    "print(f\"Using {device} device\")\n",
    "\n",
    "\n",
    "sweep_id = wandb.sweep(config, project=f\"SanityCheck_modelSize_7conv3lin_MNIST_{col_dict['colour']}\")"
   ]
  },
  {
   "cell_type": "code",
   "execution_count": 21,
   "metadata": {},
   "outputs": [],
   "source": [
    "(x_train, y_train), (x_test, y_test) = mnist.load_data()\n",
    "x_train, x_val, y_train, y_val = train_test_split(x_train, y_train, test_size=0.2, shuffle=True)\n",
    "x_train =[np.expand_dims(i, axis=2) for i in x_train]\n",
    "x_val =[np.expand_dims(i, axis=2) for i in x_val]\n",
    "x_test =[np.expand_dims(i, axis=2) for i in x_test]\n"
   ]
  },
  {
   "cell_type": "code",
   "execution_count": 55,
   "metadata": {},
   "outputs": [
    {
     "data": {
      "text/plain": [
       "True"
      ]
     },
     "execution_count": 55,
     "metadata": {},
     "output_type": "execute_result"
    }
   ],
   "source": [
    "wandb.login()"
   ]
  },
  {
   "cell_type": "code",
   "execution_count": 22,
   "metadata": {},
   "outputs": [
    {
     "data": {
      "text/plain": [
       "'# title, config\\ndef pipeline(hp): \\n    \\n    title = f\"{col_dict[\\'colour\\']}_Wrapped_MNIST_7c3l_3232\" #print(f\"HPS_UNwrapped_{col_dict[\\'colour\\']}\")\\n    \\n    \\n    \\n    with wandb.init(project=title, config=hp):\\n        config = wandb.config\\n        model = build_net(lin_layer_size =config.lin_layer_size,dropout =config.dropout, first_lin_lay=config.first_linear, ks= config.kernal_size,in_chan= config.first_in_channel).to(device)\\n        loss_fn = set_loss_fn(config.loss_fn)\\n        \\n        train_model(model, x_train, y_train, x_val, y_val,loss_fn, config)\\n        test_loop(model, x_test, y_test, loss_fn, device, col_dict,title)\\n        \\n    return model'"
      ]
     },
     "execution_count": 22,
     "metadata": {},
     "output_type": "execute_result"
    }
   ],
   "source": [
    "\n",
    "                            # Common functions\n",
    "\n",
    "def set_lossfn(lf):\n",
    "    if lf =='MSE':\n",
    "        loss_fn = nn.MSELoss()\n",
    "    elif lf == 'CrossEntropy':\n",
    "        loss_fn = nn.CrossEntropyLoss()\n",
    "    return loss_fn\n",
    "\n",
    "\n",
    "def train(config=None):\n",
    "    with wandb.init(config=config):\n",
    "        config = wandb.config\n",
    "        (x_train, y_train), (x_test, y_test) = mnist.load_data()\n",
    "        x_train, x_val, y_train, y_val = train_test_split(x_train, y_train, test_size=0.2, shuffle=True)\n",
    "        x_train =[np.expand_dims(i, axis=2) for i in x_train]\n",
    "        x_val =[np.expand_dims(i, axis=2) for i in x_val]\n",
    "        x_test =[np.expand_dims(i, axis=2) for i in x_test]\n",
    "\n",
    "        model =vgg16net(in_chan=1, f_lin_lay=2304).to(device) \n",
    "        if config.loss_fn == 'MSE':\n",
    "            loss_fn = nn.MSELoss()\n",
    "        elif config.loss_fn == 'CrossEntropy':\n",
    "            loss_fn = nn.CrossEntropyLoss()\n",
    "        \n",
    "        e_count = 0\n",
    "        #optimizer = build_optimizer(network, config.optimizer, config.learning_rate, config.weight_decay)\n",
    "        #if e_count >= 20:\n",
    "        optimizer = build_optimizer(model, config.optimizer, config.learning_rate, config.weight_decay)\n",
    "        #else:\n",
    "        #    optimizer = build_optimizer(model, config.optimizer, config.learning_rate)\n",
    "        \n",
    "        for epoch in range(config.epochs):\n",
    "\n",
    "            t_loss, predict_list, t_num_correct, model, optimizer = loop(model, x_train, y_train, epoch, loss_fn, device, col_dict, optimizer=optimizer)\n",
    "            t_accuracy = (t_num_correct /len(x_train))*100\n",
    "            v_loss, __, v_num_correct= loop(model, x_val, y_val, epoch, loss_fn, device,col_dict, train=False) \n",
    "            v_accuracy= (v_num_correct / len(x_val))*100\n",
    "            \n",
    "            t_avg_loss =t_loss/len(x_train)\n",
    "            v_avg_loss = v_loss /len(x_val)\n",
    "            \n",
    "            e_count +=1\n",
    "            # logging\n",
    "            wandb.log({'avg_train_loss': t_avg_loss, 'epoch':epoch})\n",
    "            wandb.log({'avg_val_loss': v_avg_loss, 'epoch':epoch})\n",
    "            wandb.log({'train_loss': t_loss, 'epoch':epoch})\n",
    "            wandb.log({'val_loss': v_loss, 'epoch':epoch})\n",
    "            wandb.log({'train_accuracy_%': t_accuracy, 'epoch':epoch})\n",
    "            wandb.log({'val_accuracy_%': v_accuracy, 'epoch':epoch})\n",
    "\n",
    "    \n",
    "\"\"\"# title, config\n",
    "def pipeline(hp): \n",
    "    \n",
    "    title = f\"{col_dict['colour']}_Wrapped_MNIST_7c3l_3232\" #print(f\"HPS_UNwrapped_{col_dict['colour']}\")\n",
    "    \n",
    "    \n",
    "    \n",
    "    with wandb.init(project=title, config=hp):\n",
    "        config = wandb.config\n",
    "        model = build_net(lin_layer_size =config.lin_layer_size,dropout =config.dropout, first_lin_lay=config.first_linear, ks= config.kernal_size,in_chan= config.first_in_channel).to(device)\n",
    "        loss_fn = set_loss_fn(config.loss_fn)\n",
    "        \n",
    "        train_model(model, x_train, y_train, x_val, y_val,loss_fn, config)\n",
    "        test_loop(model, x_test, y_test, loss_fn, device, col_dict,title)\n",
    "        \n",
    "    return model\"\"\"\n",
    "        "
   ]
  },
  {
   "cell_type": "code",
   "execution_count": null,
   "metadata": {},
   "outputs": [
    {
     "name": "stderr",
     "output_type": "stream",
     "text": [
      "\u001b[34m\u001b[1mwandb\u001b[0m: Agent Starting Run: z69t4tqs with config:\n",
      "\u001b[34m\u001b[1mwandb\u001b[0m: \tepochs: 40\n",
      "\u001b[34m\u001b[1mwandb\u001b[0m: \tlearning_rate: 0.0007966332529131963\n",
      "\u001b[34m\u001b[1mwandb\u001b[0m: \tloss_fn: MSE\n",
      "\u001b[34m\u001b[1mwandb\u001b[0m: \toptimizer: adam\n",
      "\u001b[34m\u001b[1mwandb\u001b[0m: \tweight_decay: 1e-05\n"
     ]
    },
    {
     "data": {
      "text/html": [
       "wandb version 0.15.12 is available!  To upgrade, please run:\n",
       " $ pip install wandb --upgrade"
      ],
      "text/plain": [
       "<IPython.core.display.HTML object>"
      ]
     },
     "metadata": {},
     "output_type": "display_data"
    },
    {
     "data": {
      "text/html": [
       "Tracking run with wandb version 0.15.10"
      ],
      "text/plain": [
       "<IPython.core.display.HTML object>"
      ]
     },
     "metadata": {},
     "output_type": "display_data"
    },
    {
     "data": {
      "text/html": [
       "Run data is saved locally in <code>/its/home/nn268/optics/wandb/run-20231006_115427-z69t4tqs</code>"
      ],
      "text/plain": [
       "<IPython.core.display.HTML object>"
      ]
     },
     "metadata": {},
     "output_type": "display_data"
    },
    {
     "data": {
      "text/html": [
       "Syncing run <strong><a href='https://wandb.ai/antvis/SanityCheck_modelSize_7conv3lin_MNIST_noblue/runs/z69t4tqs' target=\"_blank\">northern-sweep-5</a></strong> to <a href='https://wandb.ai/antvis/SanityCheck_modelSize_7conv3lin_MNIST_noblue' target=\"_blank\">Weights & Biases</a> (<a href='https://wandb.me/run' target=\"_blank\">docs</a>)<br/>Sweep page: <a href='https://wandb.ai/antvis/SanityCheck_modelSize_7conv3lin_MNIST_noblue/sweeps/pvczenzd' target=\"_blank\">https://wandb.ai/antvis/SanityCheck_modelSize_7conv3lin_MNIST_noblue/sweeps/pvczenzd</a>"
      ],
      "text/plain": [
       "<IPython.core.display.HTML object>"
      ]
     },
     "metadata": {},
     "output_type": "display_data"
    },
    {
     "data": {
      "text/html": [
       " View project at <a href='https://wandb.ai/antvis/SanityCheck_modelSize_7conv3lin_MNIST_noblue' target=\"_blank\">https://wandb.ai/antvis/SanityCheck_modelSize_7conv3lin_MNIST_noblue</a>"
      ],
      "text/plain": [
       "<IPython.core.display.HTML object>"
      ]
     },
     "metadata": {},
     "output_type": "display_data"
    },
    {
     "data": {
      "text/html": [
       " View sweep at <a href='https://wandb.ai/antvis/SanityCheck_modelSize_7conv3lin_MNIST_noblue/sweeps/pvczenzd' target=\"_blank\">https://wandb.ai/antvis/SanityCheck_modelSize_7conv3lin_MNIST_noblue/sweeps/pvczenzd</a>"
      ],
      "text/plain": [
       "<IPython.core.display.HTML object>"
      ]
     },
     "metadata": {},
     "output_type": "display_data"
    },
    {
     "data": {
      "text/html": [
       " View run at <a href='https://wandb.ai/antvis/SanityCheck_modelSize_7conv3lin_MNIST_noblue/runs/z69t4tqs' target=\"_blank\">https://wandb.ai/antvis/SanityCheck_modelSize_7conv3lin_MNIST_noblue/runs/z69t4tqs</a>"
      ],
      "text/plain": [
       "<IPython.core.display.HTML object>"
      ]
     },
     "metadata": {},
     "output_type": "display_data"
    },
    {
     "data": {
      "text/html": [
       "Waiting for W&B process to finish... <strong style=\"color:green\">(success).</strong>"
      ],
      "text/plain": [
       "<IPython.core.display.HTML object>"
      ]
     },
     "metadata": {},
     "output_type": "display_data"
    },
    {
     "name": "stderr",
     "output_type": "stream",
     "text": [
      "Widget Javascript not detected.  It may not be installed or enabled properly.\n"
     ]
    },
    {
     "data": {
      "application/vnd.jupyter.widget-view+json": {
       "model_id": "4d74b608a06d44cc9119bcd4369d5923"
      }
     },
     "metadata": {},
     "output_type": "display_data"
    },
    {
     "data": {
      "text/html": [
       "<style>\n",
       "    table.wandb td:nth-child(1) { padding: 0 10px; text-align: left ; width: auto;} td:nth-child(2) {text-align: left ; width: 100%}\n",
       "    .wandb-row { display: flex; flex-direction: row; flex-wrap: wrap; justify-content: flex-start; width: 100% }\n",
       "    .wandb-col { display: flex; flex-direction: column; flex-basis: 100%; flex: 1; padding: 10px; }\n",
       "    </style>\n",
       "<div class=\"wandb-row\"><div class=\"wandb-col\"><h3>Run history:</h3><br/><table class=\"wandb\"><tr><td>avg_train_loss</td><td>█▁▂▁▂▂▂▂▂▂▂▂▁▁▂▂▂▂▂▂▂▃▂▂▂▂▂▂▁▂▃▁▂▂▂▂▂▂▁▂</td></tr><tr><td>avg_val_loss</td><td>▇▂▃▂▅▃▂▂▁▂▂▃▃▂▃▃▄▁▄▃▄▃▆▂▂▁▂▃▃█▂▅▃▃█▂▂▄▂▂</td></tr><tr><td>epoch</td><td>▁▁▁▂▂▂▂▂▂▃▃▃▃▃▄▄▄▄▄▄▅▅▅▅▅▅▆▆▆▆▆▇▇▇▇▇▇███</td></tr><tr><td>train_accuracy_%</td><td>▁▄▅▄▅▄▂▁▃▆▁▃▂▄▄▄▄▄█▂▅▂▂▅▄▁▂▅▄▄▃▃▆▃▂▃▆▃▅▃</td></tr><tr><td>train_loss</td><td>█▁▂▁▂▂▂▂▂▂▂▂▁▁▂▂▂▂▂▂▂▃▂▂▂▂▂▂▁▂▃▁▂▂▂▂▂▂▁▂</td></tr><tr><td>val_accuracy_%</td><td>▁▁▁▁▁▁▁▁▁▁▁▁▁▁▁▁▁▁▁▁▁▁▁▁▁▁▁▁▁▁▁▁▁▁▁▁▁▁▁▁</td></tr><tr><td>val_loss</td><td>▇▂▃▂▅▃▂▂▁▂▂▃▃▂▃▃▄▁▄▃▄▃▆▂▂▁▂▃▃█▂▅▃▃█▂▂▄▂▂</td></tr></table><br/></div><div class=\"wandb-col\"><h3>Run summary:</h3><br/><table class=\"wandb\"><tr><td>avg_train_loss</td><td>0.08183</td></tr><tr><td>avg_val_loss</td><td>0.0818</td></tr><tr><td>epoch</td><td>39</td></tr><tr><td>train_accuracy_%</td><td>10.88125</td></tr><tr><td>train_loss</td><td>3927.70923</td></tr><tr><td>val_accuracy_%</td><td>11.71667</td></tr><tr><td>val_loss</td><td>981.57738</td></tr></table><br/></div></div>"
      ],
      "text/plain": [
       "<IPython.core.display.HTML object>"
      ]
     },
     "metadata": {},
     "output_type": "display_data"
    },
    {
     "data": {
      "text/html": [
       " View run <strong style=\"color:#cdcd00\">northern-sweep-5</strong> at: <a href='https://wandb.ai/antvis/SanityCheck_modelSize_7conv3lin_MNIST_noblue/runs/z69t4tqs' target=\"_blank\">https://wandb.ai/antvis/SanityCheck_modelSize_7conv3lin_MNIST_noblue/runs/z69t4tqs</a><br/>Synced 4 W&B file(s), 0 media file(s), 0 artifact file(s) and 0 other file(s)"
      ],
      "text/plain": [
       "<IPython.core.display.HTML object>"
      ]
     },
     "metadata": {},
     "output_type": "display_data"
    },
    {
     "data": {
      "text/html": [
       "Find logs at: <code>./wandb/run-20231006_115427-z69t4tqs/logs</code>"
      ],
      "text/plain": [
       "<IPython.core.display.HTML object>"
      ]
     },
     "metadata": {},
     "output_type": "display_data"
    },
    {
     "name": "stderr",
     "output_type": "stream",
     "text": [
      "\u001b[34m\u001b[1mwandb\u001b[0m: Agent Starting Run: 2bsc3mfx with config:\n",
      "\u001b[34m\u001b[1mwandb\u001b[0m: \tepochs: 40\n",
      "\u001b[34m\u001b[1mwandb\u001b[0m: \tlearning_rate: 0.0006425077285338349\n",
      "\u001b[34m\u001b[1mwandb\u001b[0m: \tloss_fn: MSE\n",
      "\u001b[34m\u001b[1mwandb\u001b[0m: \toptimizer: adam\n",
      "\u001b[34m\u001b[1mwandb\u001b[0m: \tweight_decay: 4e-05\n"
     ]
    },
    {
     "data": {
      "text/html": [
       "wandb version 0.15.12 is available!  To upgrade, please run:\n",
       " $ pip install wandb --upgrade"
      ],
      "text/plain": [
       "<IPython.core.display.HTML object>"
      ]
     },
     "metadata": {},
     "output_type": "display_data"
    },
    {
     "data": {
      "text/html": [
       "Tracking run with wandb version 0.15.10"
      ],
      "text/plain": [
       "<IPython.core.display.HTML object>"
      ]
     },
     "metadata": {},
     "output_type": "display_data"
    },
    {
     "data": {
      "text/html": [
       "Run data is saved locally in <code>/its/home/nn268/optics/wandb/run-20231006_141718-2bsc3mfx</code>"
      ],
      "text/plain": [
       "<IPython.core.display.HTML object>"
      ]
     },
     "metadata": {},
     "output_type": "display_data"
    },
    {
     "data": {
      "text/html": [
       "Syncing run <strong><a href='https://wandb.ai/antvis/SanityCheck_modelSize_7conv3lin_MNIST_noblue/runs/2bsc3mfx' target=\"_blank\">azure-sweep-6</a></strong> to <a href='https://wandb.ai/antvis/SanityCheck_modelSize_7conv3lin_MNIST_noblue' target=\"_blank\">Weights & Biases</a> (<a href='https://wandb.me/run' target=\"_blank\">docs</a>)<br/>Sweep page: <a href='https://wandb.ai/antvis/SanityCheck_modelSize_7conv3lin_MNIST_noblue/sweeps/pvczenzd' target=\"_blank\">https://wandb.ai/antvis/SanityCheck_modelSize_7conv3lin_MNIST_noblue/sweeps/pvczenzd</a>"
      ],
      "text/plain": [
       "<IPython.core.display.HTML object>"
      ]
     },
     "metadata": {},
     "output_type": "display_data"
    },
    {
     "data": {
      "text/html": [
       " View project at <a href='https://wandb.ai/antvis/SanityCheck_modelSize_7conv3lin_MNIST_noblue' target=\"_blank\">https://wandb.ai/antvis/SanityCheck_modelSize_7conv3lin_MNIST_noblue</a>"
      ],
      "text/plain": [
       "<IPython.core.display.HTML object>"
      ]
     },
     "metadata": {},
     "output_type": "display_data"
    },
    {
     "data": {
      "text/html": [
       " View sweep at <a href='https://wandb.ai/antvis/SanityCheck_modelSize_7conv3lin_MNIST_noblue/sweeps/pvczenzd' target=\"_blank\">https://wandb.ai/antvis/SanityCheck_modelSize_7conv3lin_MNIST_noblue/sweeps/pvczenzd</a>"
      ],
      "text/plain": [
       "<IPython.core.display.HTML object>"
      ]
     },
     "metadata": {},
     "output_type": "display_data"
    },
    {
     "data": {
      "text/html": [
       " View run at <a href='https://wandb.ai/antvis/SanityCheck_modelSize_7conv3lin_MNIST_noblue/runs/2bsc3mfx' target=\"_blank\">https://wandb.ai/antvis/SanityCheck_modelSize_7conv3lin_MNIST_noblue/runs/2bsc3mfx</a>"
      ],
      "text/plain": [
       "<IPython.core.display.HTML object>"
      ]
     },
     "metadata": {},
     "output_type": "display_data"
    },
    {
     "data": {
      "text/html": [
       "Waiting for W&B process to finish... <strong style=\"color:green\">(success).</strong>"
      ],
      "text/plain": [
       "<IPython.core.display.HTML object>"
      ]
     },
     "metadata": {},
     "output_type": "display_data"
    },
    {
     "name": "stderr",
     "output_type": "stream",
     "text": [
      "Widget Javascript not detected.  It may not be installed or enabled properly.\n"
     ]
    },
    {
     "data": {
      "application/vnd.jupyter.widget-view+json": {
       "model_id": "8ca3283ee026430dbd439c10417a9a10"
      }
     },
     "metadata": {},
     "output_type": "display_data"
    },
    {
     "data": {
      "text/html": [
       "<style>\n",
       "    table.wandb td:nth-child(1) { padding: 0 10px; text-align: left ; width: auto;} td:nth-child(2) {text-align: left ; width: 100%}\n",
       "    .wandb-row { display: flex; flex-direction: row; flex-wrap: wrap; justify-content: flex-start; width: 100% }\n",
       "    .wandb-col { display: flex; flex-direction: column; flex-basis: 100%; flex: 1; padding: 10px; }\n",
       "    </style>\n",
       "<div class=\"wandb-row\"><div class=\"wandb-col\"><h3>Run history:</h3><br/><table class=\"wandb\"><tr><td>avg_train_loss</td><td>█▂▂▂▂▁▁▂▁▁▁▁▁▂▁▂▂▂▁▁▁▂▁▂▂▂▁▁▁▁▁▁▁▂▁▂▁▂▁▁</td></tr><tr><td>avg_val_loss</td><td>▃▄▂▃▂▄▂▃▁▂▅▄▆▃▂▂▅▃▃▂▅▄▂▂█▃▃▄▂▂▄▂▂▃▂▅▂▅▁▄</td></tr><tr><td>epoch</td><td>▁▁▁▂▂▂▂▂▂▃▃▃▃▃▄▄▄▄▄▄▅▅▅▅▅▅▆▆▆▆▆▇▇▇▇▇▇███</td></tr><tr><td>train_accuracy_%</td><td>▄█▄▅▇▆▄▆▆▇▆▅▆▅▆▅▆▆█▄▇▃▇▆▆██▇▇▅▇▁▆▆▆▄▇▆▆█</td></tr><tr><td>train_loss</td><td>█▂▂▂▂▁▁▂▁▁▁▁▁▂▁▂▂▂▁▁▁▂▁▂▂▂▁▁▁▁▁▁▁▂▁▂▁▂▁▁</td></tr><tr><td>val_accuracy_%</td><td>▁▁█▁█▁▁▁██▁▁▁▁▁▁▁▁▁▁▁▁▁▁▁▁▁▁▁▁▁▁▁▁▁▁▁▁█▁</td></tr><tr><td>val_loss</td><td>▃▄▂▃▂▄▂▃▁▂▅▄▆▃▂▂▅▃▃▂▅▄▂▂█▃▃▄▂▂▄▂▂▃▂▅▂▅▁▄</td></tr></table><br/></div><div class=\"wandb-col\"><h3>Run summary:</h3><br/><table class=\"wandb\"><tr><td>avg_train_loss</td><td>0.08184</td></tr><tr><td>avg_val_loss</td><td>0.08184</td></tr><tr><td>epoch</td><td>39</td></tr><tr><td>train_accuracy_%</td><td>11.17708</td></tr><tr><td>train_loss</td><td>3928.3673</td></tr><tr><td>val_accuracy_%</td><td>9.83333</td></tr><tr><td>val_loss</td><td>982.12111</td></tr></table><br/></div></div>"
      ],
      "text/plain": [
       "<IPython.core.display.HTML object>"
      ]
     },
     "metadata": {},
     "output_type": "display_data"
    },
    {
     "data": {
      "text/html": [
       " View run <strong style=\"color:#cdcd00\">azure-sweep-6</strong> at: <a href='https://wandb.ai/antvis/SanityCheck_modelSize_7conv3lin_MNIST_noblue/runs/2bsc3mfx' target=\"_blank\">https://wandb.ai/antvis/SanityCheck_modelSize_7conv3lin_MNIST_noblue/runs/2bsc3mfx</a><br/>Synced 4 W&B file(s), 0 media file(s), 0 artifact file(s) and 0 other file(s)"
      ],
      "text/plain": [
       "<IPython.core.display.HTML object>"
      ]
     },
     "metadata": {},
     "output_type": "display_data"
    },
    {
     "data": {
      "text/html": [
       "Find logs at: <code>./wandb/run-20231006_141718-2bsc3mfx/logs</code>"
      ],
      "text/plain": [
       "<IPython.core.display.HTML object>"
      ]
     },
     "metadata": {},
     "output_type": "display_data"
    },
    {
     "name": "stderr",
     "output_type": "stream",
     "text": [
      "\u001b[34m\u001b[1mwandb\u001b[0m: Agent Starting Run: wi89tzx1 with config:\n",
      "\u001b[34m\u001b[1mwandb\u001b[0m: \tepochs: 40\n",
      "\u001b[34m\u001b[1mwandb\u001b[0m: \tlearning_rate: 0.003945698545676918\n",
      "\u001b[34m\u001b[1mwandb\u001b[0m: \tloss_fn: CrossEntropy\n",
      "\u001b[34m\u001b[1mwandb\u001b[0m: \toptimizer: adam\n",
      "\u001b[34m\u001b[1mwandb\u001b[0m: \tweight_decay: 2e-05\n"
     ]
    },
    {
     "data": {
      "text/html": [
       "wandb version 0.15.12 is available!  To upgrade, please run:\n",
       " $ pip install wandb --upgrade"
      ],
      "text/plain": [
       "<IPython.core.display.HTML object>"
      ]
     },
     "metadata": {},
     "output_type": "display_data"
    },
    {
     "data": {
      "text/html": [
       "Tracking run with wandb version 0.15.10"
      ],
      "text/plain": [
       "<IPython.core.display.HTML object>"
      ]
     },
     "metadata": {},
     "output_type": "display_data"
    },
    {
     "data": {
      "text/html": [
       "Run data is saved locally in <code>/its/home/nn268/optics/wandb/run-20231006_172723-wi89tzx1</code>"
      ],
      "text/plain": [
       "<IPython.core.display.HTML object>"
      ]
     },
     "metadata": {},
     "output_type": "display_data"
    },
    {
     "data": {
      "text/html": [
       "Syncing run <strong><a href='https://wandb.ai/antvis/SanityCheck_modelSize_7conv3lin_MNIST_noblue/runs/wi89tzx1' target=\"_blank\">colorful-sweep-7</a></strong> to <a href='https://wandb.ai/antvis/SanityCheck_modelSize_7conv3lin_MNIST_noblue' target=\"_blank\">Weights & Biases</a> (<a href='https://wandb.me/run' target=\"_blank\">docs</a>)<br/>Sweep page: <a href='https://wandb.ai/antvis/SanityCheck_modelSize_7conv3lin_MNIST_noblue/sweeps/pvczenzd' target=\"_blank\">https://wandb.ai/antvis/SanityCheck_modelSize_7conv3lin_MNIST_noblue/sweeps/pvczenzd</a>"
      ],
      "text/plain": [
       "<IPython.core.display.HTML object>"
      ]
     },
     "metadata": {},
     "output_type": "display_data"
    },
    {
     "data": {
      "text/html": [
       " View project at <a href='https://wandb.ai/antvis/SanityCheck_modelSize_7conv3lin_MNIST_noblue' target=\"_blank\">https://wandb.ai/antvis/SanityCheck_modelSize_7conv3lin_MNIST_noblue</a>"
      ],
      "text/plain": [
       "<IPython.core.display.HTML object>"
      ]
     },
     "metadata": {},
     "output_type": "display_data"
    },
    {
     "data": {
      "text/html": [
       " View sweep at <a href='https://wandb.ai/antvis/SanityCheck_modelSize_7conv3lin_MNIST_noblue/sweeps/pvczenzd' target=\"_blank\">https://wandb.ai/antvis/SanityCheck_modelSize_7conv3lin_MNIST_noblue/sweeps/pvczenzd</a>"
      ],
      "text/plain": [
       "<IPython.core.display.HTML object>"
      ]
     },
     "metadata": {},
     "output_type": "display_data"
    },
    {
     "data": {
      "text/html": [
       " View run at <a href='https://wandb.ai/antvis/SanityCheck_modelSize_7conv3lin_MNIST_noblue/runs/wi89tzx1' target=\"_blank\">https://wandb.ai/antvis/SanityCheck_modelSize_7conv3lin_MNIST_noblue/runs/wi89tzx1</a>"
      ],
      "text/plain": [
       "<IPython.core.display.HTML object>"
      ]
     },
     "metadata": {},
     "output_type": "display_data"
    },
    {
     "data": {
      "text/html": [
       "Waiting for W&B process to finish... <strong style=\"color:green\">(success).</strong>"
      ],
      "text/plain": [
       "<IPython.core.display.HTML object>"
      ]
     },
     "metadata": {},
     "output_type": "display_data"
    },
    {
     "name": "stderr",
     "output_type": "stream",
     "text": [
      "Widget Javascript not detected.  It may not be installed or enabled properly.\n"
     ]
    },
    {
     "data": {
      "application/vnd.jupyter.widget-view+json": {
       "model_id": "f70511ee85a64194adc374585e071c78"
      }
     },
     "metadata": {},
     "output_type": "display_data"
    },
    {
     "data": {
      "text/html": [
       "<style>\n",
       "    table.wandb td:nth-child(1) { padding: 0 10px; text-align: left ; width: auto;} td:nth-child(2) {text-align: left ; width: 100%}\n",
       "    .wandb-row { display: flex; flex-direction: row; flex-wrap: wrap; justify-content: flex-start; width: 100% }\n",
       "    .wandb-col { display: flex; flex-direction: column; flex-basis: 100%; flex: 1; padding: 10px; }\n",
       "    </style>\n",
       "<div class=\"wandb-row\"><div class=\"wandb-col\"><h3>Run history:</h3><br/><table class=\"wandb\"><tr><td>avg_train_loss</td><td>▅▄▃▃▃▃▃▄▄▄▃▁▃▃▃▃▃▃▄█▃▄▄▃▅▃▄▃▄▃▃▄▃▄▄▄▄▄▄▄</td></tr><tr><td>avg_val_loss</td><td>▇▇▆▇██▇▇▇█▇▇█▇█▇▇▇█▆█▇▁█▇▇▇▆▇▇▇▇█▇█▇███▇</td></tr><tr><td>epoch</td><td>▁▁▁▂▂▂▂▂▂▃▃▃▃▃▄▄▄▄▄▄▅▅▅▅▅▅▆▆▆▆▆▇▇▇▇▇▇███</td></tr><tr><td>train_accuracy_%</td><td>▅▇▇███▇▆▇▆▇█▇▇▇██▆▇▁▇▇▆▆▅▇▇█▆▇█▆▆▇▆▆▆▆▇▆</td></tr><tr><td>train_loss</td><td>▅▄▃▃▃▃▃▄▄▄▃▁▃▃▃▃▃▃▄█▃▄▄▃▅▃▄▃▄▃▃▄▃▄▄▄▄▄▄▄</td></tr><tr><td>val_accuracy_%</td><td>▃▄█▄▂▂▃▃▅▂▃▃▂▅▂▅▄▄▂█▂▄▃▂▃▃▃█▄▃▃▃▂▃▂▄▂▂▁▅</td></tr><tr><td>val_loss</td><td>▇▇▆▇██▇▇▇█▇▇█▇█▇▇▇█▆█▇▁█▇▇▇▆▇▇▇▇█▇█▇███▇</td></tr></table><br/></div><div class=\"wandb-col\"><h3>Run summary:</h3><br/><table class=\"wandb\"><tr><td>avg_train_loss</td><td>2.44505</td></tr><tr><td>avg_val_loss</td><td>2.43946</td></tr><tr><td>epoch</td><td>39</td></tr><tr><td>train_accuracy_%</td><td>9.725</td></tr><tr><td>train_loss</td><td>117362.28007</td></tr><tr><td>val_accuracy_%</td><td>10.35833</td></tr><tr><td>val_loss</td><td>29273.48617</td></tr></table><br/></div></div>"
      ],
      "text/plain": [
       "<IPython.core.display.HTML object>"
      ]
     },
     "metadata": {},
     "output_type": "display_data"
    },
    {
     "data": {
      "text/html": [
       " View run <strong style=\"color:#cdcd00\">colorful-sweep-7</strong> at: <a href='https://wandb.ai/antvis/SanityCheck_modelSize_7conv3lin_MNIST_noblue/runs/wi89tzx1' target=\"_blank\">https://wandb.ai/antvis/SanityCheck_modelSize_7conv3lin_MNIST_noblue/runs/wi89tzx1</a><br/>Synced 4 W&B file(s), 0 media file(s), 0 artifact file(s) and 0 other file(s)"
      ],
      "text/plain": [
       "<IPython.core.display.HTML object>"
      ]
     },
     "metadata": {},
     "output_type": "display_data"
    },
    {
     "data": {
      "text/html": [
       "Find logs at: <code>./wandb/run-20231006_172723-wi89tzx1/logs</code>"
      ],
      "text/plain": [
       "<IPython.core.display.HTML object>"
      ]
     },
     "metadata": {},
     "output_type": "display_data"
    },
    {
     "name": "stderr",
     "output_type": "stream",
     "text": [
      "\u001b[34m\u001b[1mwandb\u001b[0m: Sweep Agent: Waiting for job.\n",
      "\u001b[34m\u001b[1mwandb\u001b[0m: Job received.\n",
      "\u001b[34m\u001b[1mwandb\u001b[0m: Agent Starting Run: lixmn7nz with config:\n",
      "\u001b[34m\u001b[1mwandb\u001b[0m: \tepochs: 40\n",
      "\u001b[34m\u001b[1mwandb\u001b[0m: \tlearning_rate: 9.820607539750303e-05\n",
      "\u001b[34m\u001b[1mwandb\u001b[0m: \tloss_fn: MSE\n",
      "\u001b[34m\u001b[1mwandb\u001b[0m: \toptimizer: adam\n",
      "\u001b[34m\u001b[1mwandb\u001b[0m: \tweight_decay: 1e-05\n"
     ]
    },
    {
     "data": {
      "text/html": [
       "wandb version 0.15.12 is available!  To upgrade, please run:\n",
       " $ pip install wandb --upgrade"
      ],
      "text/plain": [
       "<IPython.core.display.HTML object>"
      ]
     },
     "metadata": {},
     "output_type": "display_data"
    },
    {
     "data": {
      "text/html": [
       "Tracking run with wandb version 0.15.10"
      ],
      "text/plain": [
       "<IPython.core.display.HTML object>"
      ]
     },
     "metadata": {},
     "output_type": "display_data"
    },
    {
     "data": {
      "text/html": [
       "Run data is saved locally in <code>/its/home/nn268/optics/wandb/run-20231006_204016-lixmn7nz</code>"
      ],
      "text/plain": [
       "<IPython.core.display.HTML object>"
      ]
     },
     "metadata": {},
     "output_type": "display_data"
    },
    {
     "data": {
      "text/html": [
       "Syncing run <strong><a href='https://wandb.ai/antvis/SanityCheck_modelSize_7conv3lin_MNIST_noblue/runs/lixmn7nz' target=\"_blank\">spring-sweep-8</a></strong> to <a href='https://wandb.ai/antvis/SanityCheck_modelSize_7conv3lin_MNIST_noblue' target=\"_blank\">Weights & Biases</a> (<a href='https://wandb.me/run' target=\"_blank\">docs</a>)<br/>Sweep page: <a href='https://wandb.ai/antvis/SanityCheck_modelSize_7conv3lin_MNIST_noblue/sweeps/pvczenzd' target=\"_blank\">https://wandb.ai/antvis/SanityCheck_modelSize_7conv3lin_MNIST_noblue/sweeps/pvczenzd</a>"
      ],
      "text/plain": [
       "<IPython.core.display.HTML object>"
      ]
     },
     "metadata": {},
     "output_type": "display_data"
    },
    {
     "data": {
      "text/html": [
       " View project at <a href='https://wandb.ai/antvis/SanityCheck_modelSize_7conv3lin_MNIST_noblue' target=\"_blank\">https://wandb.ai/antvis/SanityCheck_modelSize_7conv3lin_MNIST_noblue</a>"
      ],
      "text/plain": [
       "<IPython.core.display.HTML object>"
      ]
     },
     "metadata": {},
     "output_type": "display_data"
    },
    {
     "data": {
      "text/html": [
       " View sweep at <a href='https://wandb.ai/antvis/SanityCheck_modelSize_7conv3lin_MNIST_noblue/sweeps/pvczenzd' target=\"_blank\">https://wandb.ai/antvis/SanityCheck_modelSize_7conv3lin_MNIST_noblue/sweeps/pvczenzd</a>"
      ],
      "text/plain": [
       "<IPython.core.display.HTML object>"
      ]
     },
     "metadata": {},
     "output_type": "display_data"
    },
    {
     "data": {
      "text/html": [
       " View run at <a href='https://wandb.ai/antvis/SanityCheck_modelSize_7conv3lin_MNIST_noblue/runs/lixmn7nz' target=\"_blank\">https://wandb.ai/antvis/SanityCheck_modelSize_7conv3lin_MNIST_noblue/runs/lixmn7nz</a>"
      ],
      "text/plain": [
       "<IPython.core.display.HTML object>"
      ]
     },
     "metadata": {},
     "output_type": "display_data"
    },
    {
     "data": {
      "text/html": [
       "Waiting for W&B process to finish... <strong style=\"color:green\">(success).</strong>"
      ],
      "text/plain": [
       "<IPython.core.display.HTML object>"
      ]
     },
     "metadata": {},
     "output_type": "display_data"
    },
    {
     "name": "stderr",
     "output_type": "stream",
     "text": [
      "Widget Javascript not detected.  It may not be installed or enabled properly.\n"
     ]
    },
    {
     "data": {
      "application/vnd.jupyter.widget-view+json": {
       "model_id": "b6f9d04fd65b4522a20760fe27fb2bc3"
      }
     },
     "metadata": {},
     "output_type": "display_data"
    },
    {
     "data": {
      "text/html": [
       "<style>\n",
       "    table.wandb td:nth-child(1) { padding: 0 10px; text-align: left ; width: auto;} td:nth-child(2) {text-align: left ; width: 100%}\n",
       "    .wandb-row { display: flex; flex-direction: row; flex-wrap: wrap; justify-content: flex-start; width: 100% }\n",
       "    .wandb-col { display: flex; flex-direction: column; flex-basis: 100%; flex: 1; padding: 10px; }\n",
       "    </style>\n",
       "<div class=\"wandb-row\"><div class=\"wandb-col\"><h3>Run history:</h3><br/><table class=\"wandb\"><tr><td>avg_train_loss</td><td>█▂▂▁▁▂▁▁▁▁▁▁▁▁▁▁▁▁▁▁▁▁▁▁▁▁▁▁▁▁▁▁▁▁▁▁▁▁▁▁</td></tr><tr><td>avg_val_loss</td><td>█▇▇▅▄▃▄▄▄▄▄▁▃▄▂▄▃▃▃▃▂▄▄▅▄▃▄▄▃▃▄▃▄▄▄▃▄▃▄▅</td></tr><tr><td>epoch</td><td>▁▁▁▂▂▂▂▂▂▃▃▃▃▃▄▄▄▄▄▄▅▅▅▅▅▅▆▆▆▆▆▇▇▇▇▇▇███</td></tr><tr><td>train_accuracy_%</td><td>▁███████████████████████████████████████</td></tr><tr><td>train_loss</td><td>█▂▂▁▁▂▁▁▁▁▁▁▁▁▁▁▁▁▁▁▁▁▁▁▁▁▁▁▁▁▁▁▁▁▁▁▁▁▁▁</td></tr><tr><td>val_accuracy_%</td><td>▁▁▁▁▁▁▁▁▁▁▁▁▁▁▁▁▁▁▁▁▁▁▁▁▁▁▁▁▁▁▁▁▁▁▁▁▁▁▁▁</td></tr><tr><td>val_loss</td><td>█▇▇▅▄▃▄▄▄▄▄▁▃▄▂▄▃▃▃▃▂▄▄▅▄▃▄▄▃▃▄▃▄▄▄▃▄▃▄▅</td></tr></table><br/></div><div class=\"wandb-col\"><h3>Run summary:</h3><br/><table class=\"wandb\"><tr><td>avg_train_loss</td><td>0.08181</td></tr><tr><td>avg_val_loss</td><td>0.08181</td></tr><tr><td>epoch</td><td>39</td></tr><tr><td>train_accuracy_%</td><td>11.24792</td></tr><tr><td>train_loss</td><td>3926.71048</td></tr><tr><td>val_accuracy_%</td><td>11.19167</td></tr><tr><td>val_loss</td><td>981.68114</td></tr></table><br/></div></div>"
      ],
      "text/plain": [
       "<IPython.core.display.HTML object>"
      ]
     },
     "metadata": {},
     "output_type": "display_data"
    },
    {
     "data": {
      "text/html": [
       " View run <strong style=\"color:#cdcd00\">spring-sweep-8</strong> at: <a href='https://wandb.ai/antvis/SanityCheck_modelSize_7conv3lin_MNIST_noblue/runs/lixmn7nz' target=\"_blank\">https://wandb.ai/antvis/SanityCheck_modelSize_7conv3lin_MNIST_noblue/runs/lixmn7nz</a><br/>Synced 4 W&B file(s), 0 media file(s), 0 artifact file(s) and 0 other file(s)"
      ],
      "text/plain": [
       "<IPython.core.display.HTML object>"
      ]
     },
     "metadata": {},
     "output_type": "display_data"
    },
    {
     "data": {
      "text/html": [
       "Find logs at: <code>./wandb/run-20231006_204016-lixmn7nz/logs</code>"
      ],
      "text/plain": [
       "<IPython.core.display.HTML object>"
      ]
     },
     "metadata": {},
     "output_type": "display_data"
    },
    {
     "name": "stderr",
     "output_type": "stream",
     "text": [
      "\u001b[34m\u001b[1mwandb\u001b[0m: Agent Starting Run: nf0oswac with config:\n",
      "\u001b[34m\u001b[1mwandb\u001b[0m: \tepochs: 40\n",
      "\u001b[34m\u001b[1mwandb\u001b[0m: \tlearning_rate: 4.946707504312762e-05\n",
      "\u001b[34m\u001b[1mwandb\u001b[0m: \tloss_fn: MSE\n",
      "\u001b[34m\u001b[1mwandb\u001b[0m: \toptimizer: adam\n",
      "\u001b[34m\u001b[1mwandb\u001b[0m: \tweight_decay: 4e-05\n"
     ]
    },
    {
     "data": {
      "text/html": [
       "wandb version 0.15.12 is available!  To upgrade, please run:\n",
       " $ pip install wandb --upgrade"
      ],
      "text/plain": [
       "<IPython.core.display.HTML object>"
      ]
     },
     "metadata": {},
     "output_type": "display_data"
    },
    {
     "data": {
      "text/html": [
       "Tracking run with wandb version 0.15.10"
      ],
      "text/plain": [
       "<IPython.core.display.HTML object>"
      ]
     },
     "metadata": {},
     "output_type": "display_data"
    },
    {
     "data": {
      "text/html": [
       "Run data is saved locally in <code>/its/home/nn268/optics/wandb/run-20231006_235122-nf0oswac</code>"
      ],
      "text/plain": [
       "<IPython.core.display.HTML object>"
      ]
     },
     "metadata": {},
     "output_type": "display_data"
    },
    {
     "data": {
      "text/html": [
       "Syncing run <strong><a href='https://wandb.ai/antvis/SanityCheck_modelSize_7conv3lin_MNIST_noblue/runs/nf0oswac' target=\"_blank\">celestial-sweep-9</a></strong> to <a href='https://wandb.ai/antvis/SanityCheck_modelSize_7conv3lin_MNIST_noblue' target=\"_blank\">Weights & Biases</a> (<a href='https://wandb.me/run' target=\"_blank\">docs</a>)<br/>Sweep page: <a href='https://wandb.ai/antvis/SanityCheck_modelSize_7conv3lin_MNIST_noblue/sweeps/pvczenzd' target=\"_blank\">https://wandb.ai/antvis/SanityCheck_modelSize_7conv3lin_MNIST_noblue/sweeps/pvczenzd</a>"
      ],
      "text/plain": [
       "<IPython.core.display.HTML object>"
      ]
     },
     "metadata": {},
     "output_type": "display_data"
    },
    {
     "data": {
      "text/html": [
       " View project at <a href='https://wandb.ai/antvis/SanityCheck_modelSize_7conv3lin_MNIST_noblue' target=\"_blank\">https://wandb.ai/antvis/SanityCheck_modelSize_7conv3lin_MNIST_noblue</a>"
      ],
      "text/plain": [
       "<IPython.core.display.HTML object>"
      ]
     },
     "metadata": {},
     "output_type": "display_data"
    },
    {
     "data": {
      "text/html": [
       " View sweep at <a href='https://wandb.ai/antvis/SanityCheck_modelSize_7conv3lin_MNIST_noblue/sweeps/pvczenzd' target=\"_blank\">https://wandb.ai/antvis/SanityCheck_modelSize_7conv3lin_MNIST_noblue/sweeps/pvczenzd</a>"
      ],
      "text/plain": [
       "<IPython.core.display.HTML object>"
      ]
     },
     "metadata": {},
     "output_type": "display_data"
    },
    {
     "data": {
      "text/html": [
       " View run at <a href='https://wandb.ai/antvis/SanityCheck_modelSize_7conv3lin_MNIST_noblue/runs/nf0oswac' target=\"_blank\">https://wandb.ai/antvis/SanityCheck_modelSize_7conv3lin_MNIST_noblue/runs/nf0oswac</a>"
      ],
      "text/plain": [
       "<IPython.core.display.HTML object>"
      ]
     },
     "metadata": {},
     "output_type": "display_data"
    },
    {
     "data": {
      "text/html": [
       "Waiting for W&B process to finish... <strong style=\"color:green\">(success).</strong>"
      ],
      "text/plain": [
       "<IPython.core.display.HTML object>"
      ]
     },
     "metadata": {},
     "output_type": "display_data"
    },
    {
     "data": {
      "text/html": [
       "<style>\n",
       "    table.wandb td:nth-child(1) { padding: 0 10px; text-align: left ; width: auto;} td:nth-child(2) {text-align: left ; width: 100%}\n",
       "    .wandb-row { display: flex; flex-direction: row; flex-wrap: wrap; justify-content: flex-start; width: 100% }\n",
       "    .wandb-col { display: flex; flex-direction: column; flex-basis: 100%; flex: 1; padding: 10px; }\n",
       "    </style>\n",
       "<div class=\"wandb-row\"><div class=\"wandb-col\"><h3>Run history:</h3><br/><table class=\"wandb\"><tr><td>avg_train_loss</td><td>█▂▁▁▁▁▁▁▁▁▁▁▁▁▁▁▁▁▁▁▁▁▁▁▁▁▁▁▁▁▁▁▁▁▁▁▁▁▁▁</td></tr><tr><td>avg_val_loss</td><td>▄█▇▆▄▅▂▃▃▃▄▂▃▃▃▁▂▁▃▄▂▂▃▂▃▂▃▃▂▃▂▂▂▄▃▂▂▂▂▃</td></tr><tr><td>epoch</td><td>▁▁▁▂▂▂▂▂▂▃▃▃▃▃▄▄▄▄▄▄▅▅▅▅▅▅▆▆▆▆▆▇▇▇▇▇▇███</td></tr><tr><td>train_accuracy_%</td><td>▁▇█▇███▇▇███▇████▇█▇███████▇█▇██▇▇██▇███</td></tr><tr><td>train_loss</td><td>█▂▁▁▁▁▁▁▁▁▁▁▁▁▁▁▁▁▁▁▁▁▁▁▁▁▁▁▁▁▁▁▁▁▁▁▁▁▁▁</td></tr><tr><td>val_accuracy_%</td><td>▁▁▁▁▁▁▁▁▁▁▁▁▁▁▁▁▁▁▁▁▁▁▁▁▁▁▁▁▁▁▁▁▁▁▁▁▁▁▁▁</td></tr><tr><td>val_loss</td><td>▄█▇▆▄▅▂▃▃▃▄▂▃▃▃▁▂▁▃▄▂▂▃▂▃▂▃▃▂▃▂▂▂▄▃▂▂▂▂▃</td></tr></table><br/></div><div class=\"wandb-col\"><h3>Run summary:</h3><br/><table class=\"wandb\"><tr><td>avg_train_loss</td><td>0.08182</td></tr><tr><td>avg_val_loss</td><td>0.08182</td></tr><tr><td>epoch</td><td>39</td></tr><tr><td>train_accuracy_%</td><td>11.22292</td></tr><tr><td>train_loss</td><td>3927.50342</td></tr><tr><td>val_accuracy_%</td><td>11.275</td></tr><tr><td>val_loss</td><td>981.7956</td></tr></table><br/></div></div>"
      ],
      "text/plain": [
       "<IPython.core.display.HTML object>"
      ]
     },
     "metadata": {},
     "output_type": "display_data"
    },
    {
     "data": {
      "text/html": [
       " View run <strong style=\"color:#cdcd00\">celestial-sweep-9</strong> at: <a href='https://wandb.ai/antvis/SanityCheck_modelSize_7conv3lin_MNIST_noblue/runs/nf0oswac' target=\"_blank\">https://wandb.ai/antvis/SanityCheck_modelSize_7conv3lin_MNIST_noblue/runs/nf0oswac</a><br/>Synced 4 W&B file(s), 0 media file(s), 0 artifact file(s) and 0 other file(s)"
      ],
      "text/plain": [
       "<IPython.core.display.HTML object>"
      ]
     },
     "metadata": {},
     "output_type": "display_data"
    },
    {
     "data": {
      "text/html": [
       "Find logs at: <code>./wandb/run-20231006_235122-nf0oswac/logs</code>"
      ],
      "text/plain": [
       "<IPython.core.display.HTML object>"
      ]
     },
     "metadata": {},
     "output_type": "display_data"
    },
    {
     "name": "stderr",
     "output_type": "stream",
     "text": [
      "\u001b[34m\u001b[1mwandb\u001b[0m: Agent Starting Run: fys29abj with config:\n",
      "\u001b[34m\u001b[1mwandb\u001b[0m: \tepochs: 40\n",
      "\u001b[34m\u001b[1mwandb\u001b[0m: \tlearning_rate: 0.004406394312514581\n",
      "\u001b[34m\u001b[1mwandb\u001b[0m: \tloss_fn: CrossEntropy\n",
      "\u001b[34m\u001b[1mwandb\u001b[0m: \toptimizer: adam\n",
      "\u001b[34m\u001b[1mwandb\u001b[0m: \tweight_decay: 4e-05\n"
     ]
    },
    {
     "data": {
      "text/html": [
       "wandb version 0.15.12 is available!  To upgrade, please run:\n",
       " $ pip install wandb --upgrade"
      ],
      "text/plain": [
       "<IPython.core.display.HTML object>"
      ]
     },
     "metadata": {},
     "output_type": "display_data"
    },
    {
     "data": {
      "text/html": [
       "Tracking run with wandb version 0.15.10"
      ],
      "text/plain": [
       "<IPython.core.display.HTML object>"
      ]
     },
     "metadata": {},
     "output_type": "display_data"
    },
    {
     "data": {
      "text/html": [
       "Run data is saved locally in <code>/its/home/nn268/optics/wandb/run-20231007_031055-fys29abj</code>"
      ],
      "text/plain": [
       "<IPython.core.display.HTML object>"
      ]
     },
     "metadata": {},
     "output_type": "display_data"
    },
    {
     "data": {
      "text/html": [
       "Syncing run <strong><a href='https://wandb.ai/antvis/SanityCheck_modelSize_7conv3lin_MNIST_noblue/runs/fys29abj' target=\"_blank\">breezy-sweep-10</a></strong> to <a href='https://wandb.ai/antvis/SanityCheck_modelSize_7conv3lin_MNIST_noblue' target=\"_blank\">Weights & Biases</a> (<a href='https://wandb.me/run' target=\"_blank\">docs</a>)<br/>Sweep page: <a href='https://wandb.ai/antvis/SanityCheck_modelSize_7conv3lin_MNIST_noblue/sweeps/pvczenzd' target=\"_blank\">https://wandb.ai/antvis/SanityCheck_modelSize_7conv3lin_MNIST_noblue/sweeps/pvczenzd</a>"
      ],
      "text/plain": [
       "<IPython.core.display.HTML object>"
      ]
     },
     "metadata": {},
     "output_type": "display_data"
    },
    {
     "data": {
      "text/html": [
       " View project at <a href='https://wandb.ai/antvis/SanityCheck_modelSize_7conv3lin_MNIST_noblue' target=\"_blank\">https://wandb.ai/antvis/SanityCheck_modelSize_7conv3lin_MNIST_noblue</a>"
      ],
      "text/plain": [
       "<IPython.core.display.HTML object>"
      ]
     },
     "metadata": {},
     "output_type": "display_data"
    },
    {
     "data": {
      "text/html": [
       " View sweep at <a href='https://wandb.ai/antvis/SanityCheck_modelSize_7conv3lin_MNIST_noblue/sweeps/pvczenzd' target=\"_blank\">https://wandb.ai/antvis/SanityCheck_modelSize_7conv3lin_MNIST_noblue/sweeps/pvczenzd</a>"
      ],
      "text/plain": [
       "<IPython.core.display.HTML object>"
      ]
     },
     "metadata": {},
     "output_type": "display_data"
    },
    {
     "data": {
      "text/html": [
       " View run at <a href='https://wandb.ai/antvis/SanityCheck_modelSize_7conv3lin_MNIST_noblue/runs/fys29abj' target=\"_blank\">https://wandb.ai/antvis/SanityCheck_modelSize_7conv3lin_MNIST_noblue/runs/fys29abj</a>"
      ],
      "text/plain": [
       "<IPython.core.display.HTML object>"
      ]
     },
     "metadata": {},
     "output_type": "display_data"
    },
    {
     "data": {
      "text/html": [
       "Waiting for W&B process to finish... <strong style=\"color:green\">(success).</strong>"
      ],
      "text/plain": [
       "<IPython.core.display.HTML object>"
      ]
     },
     "metadata": {},
     "output_type": "display_data"
    },
    {
     "name": "stderr",
     "output_type": "stream",
     "text": [
      "Widget Javascript not detected.  It may not be installed or enabled properly.\n"
     ]
    },
    {
     "data": {
      "application/vnd.jupyter.widget-view+json": {
       "model_id": "8d5137d6b86340049233f4a12eafb6e8"
      }
     },
     "metadata": {},
     "output_type": "display_data"
    },
    {
     "data": {
      "text/html": [
       "<style>\n",
       "    table.wandb td:nth-child(1) { padding: 0 10px; text-align: left ; width: auto;} td:nth-child(2) {text-align: left ; width: 100%}\n",
       "    .wandb-row { display: flex; flex-direction: row; flex-wrap: wrap; justify-content: flex-start; width: 100% }\n",
       "    .wandb-col { display: flex; flex-direction: column; flex-basis: 100%; flex: 1; padding: 10px; }\n",
       "    </style>\n",
       "<div class=\"wandb-row\"><div class=\"wandb-col\"><h3>Run history:</h3><br/><table class=\"wandb\"><tr><td>avg_train_loss</td><td>▅▅▆▅▆▇▇▅▅▆▄▅▅▅▅▄▅▆▆▅▇▅█▇▇▆▅▇▅▆▆▆▆█▆▃▁▃▄▃</td></tr><tr><td>avg_val_loss</td><td>▂▁▁▁▁▁▂▁▂▂▁▂▁▂▂▂▁▂▁▁▂▂▂▂▁▁▁▂▂▂▁▁▂▁▁▂▁█▂▂</td></tr><tr><td>epoch</td><td>▁▁▁▂▂▂▂▂▂▃▃▃▃▃▄▄▄▄▄▄▅▅▅▅▅▅▆▆▆▆▆▇▇▇▇▇▇███</td></tr><tr><td>train_accuracy_%</td><td>▄▄▃▃▃▂▂▃▄▃▅▄▄▄▄▅▄▃▄▄▃▅▁▃▂▄▄▃▄▄▄▃▃▁▃▆█▆▅▆</td></tr><tr><td>train_loss</td><td>▅▅▆▅▆▇▇▅▅▆▄▅▅▅▅▄▅▆▆▅▇▅█▇▇▆▅▇▅▆▆▆▆█▆▃▁▃▄▃</td></tr><tr><td>val_accuracy_%</td><td>▇█████▇█▇▇█▇█▇▇▇█▇██▇▇▇▇███▇▇▇██▇██▇█▁▇▇</td></tr><tr><td>val_loss</td><td>▂▁▁▁▁▁▂▁▂▂▁▂▁▂▂▂▁▂▁▁▂▂▂▂▁▁▁▂▂▂▁▁▂▁▁▂▁█▂▂</td></tr></table><br/></div><div class=\"wandb-col\"><h3>Run summary:</h3><br/><table class=\"wandb\"><tr><td>avg_train_loss</td><td>2.43769</td></tr><tr><td>avg_val_loss</td><td>2.45271</td></tr><tr><td>epoch</td><td>39</td></tr><tr><td>train_accuracy_%</td><td>10.49583</td></tr><tr><td>train_loss</td><td>117008.99111</td></tr><tr><td>val_accuracy_%</td><td>9.03333</td></tr><tr><td>val_loss</td><td>29432.48617</td></tr></table><br/></div></div>"
      ],
      "text/plain": [
       "<IPython.core.display.HTML object>"
      ]
     },
     "metadata": {},
     "output_type": "display_data"
    },
    {
     "data": {
      "text/html": [
       " View run <strong style=\"color:#cdcd00\">breezy-sweep-10</strong> at: <a href='https://wandb.ai/antvis/SanityCheck_modelSize_7conv3lin_MNIST_noblue/runs/fys29abj' target=\"_blank\">https://wandb.ai/antvis/SanityCheck_modelSize_7conv3lin_MNIST_noblue/runs/fys29abj</a><br/>Synced 4 W&B file(s), 0 media file(s), 0 artifact file(s) and 0 other file(s)"
      ],
      "text/plain": [
       "<IPython.core.display.HTML object>"
      ]
     },
     "metadata": {},
     "output_type": "display_data"
    },
    {
     "data": {
      "text/html": [
       "Find logs at: <code>./wandb/run-20231007_031055-fys29abj/logs</code>"
      ],
      "text/plain": [
       "<IPython.core.display.HTML object>"
      ]
     },
     "metadata": {},
     "output_type": "display_data"
    },
    {
     "name": "stderr",
     "output_type": "stream",
     "text": [
      "\u001b[34m\u001b[1mwandb\u001b[0m: Agent Starting Run: k0wr1u6e with config:\n",
      "\u001b[34m\u001b[1mwandb\u001b[0m: \tepochs: 40\n",
      "\u001b[34m\u001b[1mwandb\u001b[0m: \tlearning_rate: 0.0009170974803950472\n",
      "\u001b[34m\u001b[1mwandb\u001b[0m: \tloss_fn: MSE\n",
      "\u001b[34m\u001b[1mwandb\u001b[0m: \toptimizer: adam\n",
      "\u001b[34m\u001b[1mwandb\u001b[0m: \tweight_decay: 2e-05\n"
     ]
    },
    {
     "data": {
      "text/html": [
       "wandb version 0.15.12 is available!  To upgrade, please run:\n",
       " $ pip install wandb --upgrade"
      ],
      "text/plain": [
       "<IPython.core.display.HTML object>"
      ]
     },
     "metadata": {},
     "output_type": "display_data"
    },
    {
     "data": {
      "text/html": [
       "Tracking run with wandb version 0.15.10"
      ],
      "text/plain": [
       "<IPython.core.display.HTML object>"
      ]
     },
     "metadata": {},
     "output_type": "display_data"
    },
    {
     "data": {
      "text/html": [
       "Run data is saved locally in <code>/its/home/nn268/optics/wandb/run-20231007_063505-k0wr1u6e</code>"
      ],
      "text/plain": [
       "<IPython.core.display.HTML object>"
      ]
     },
     "metadata": {},
     "output_type": "display_data"
    },
    {
     "data": {
      "text/html": [
       "Syncing run <strong><a href='https://wandb.ai/antvis/SanityCheck_modelSize_7conv3lin_MNIST_noblue/runs/k0wr1u6e' target=\"_blank\">giddy-sweep-11</a></strong> to <a href='https://wandb.ai/antvis/SanityCheck_modelSize_7conv3lin_MNIST_noblue' target=\"_blank\">Weights & Biases</a> (<a href='https://wandb.me/run' target=\"_blank\">docs</a>)<br/>Sweep page: <a href='https://wandb.ai/antvis/SanityCheck_modelSize_7conv3lin_MNIST_noblue/sweeps/pvczenzd' target=\"_blank\">https://wandb.ai/antvis/SanityCheck_modelSize_7conv3lin_MNIST_noblue/sweeps/pvczenzd</a>"
      ],
      "text/plain": [
       "<IPython.core.display.HTML object>"
      ]
     },
     "metadata": {},
     "output_type": "display_data"
    },
    {
     "data": {
      "text/html": [
       " View project at <a href='https://wandb.ai/antvis/SanityCheck_modelSize_7conv3lin_MNIST_noblue' target=\"_blank\">https://wandb.ai/antvis/SanityCheck_modelSize_7conv3lin_MNIST_noblue</a>"
      ],
      "text/plain": [
       "<IPython.core.display.HTML object>"
      ]
     },
     "metadata": {},
     "output_type": "display_data"
    },
    {
     "data": {
      "text/html": [
       " View sweep at <a href='https://wandb.ai/antvis/SanityCheck_modelSize_7conv3lin_MNIST_noblue/sweeps/pvczenzd' target=\"_blank\">https://wandb.ai/antvis/SanityCheck_modelSize_7conv3lin_MNIST_noblue/sweeps/pvczenzd</a>"
      ],
      "text/plain": [
       "<IPython.core.display.HTML object>"
      ]
     },
     "metadata": {},
     "output_type": "display_data"
    },
    {
     "data": {
      "text/html": [
       " View run at <a href='https://wandb.ai/antvis/SanityCheck_modelSize_7conv3lin_MNIST_noblue/runs/k0wr1u6e' target=\"_blank\">https://wandb.ai/antvis/SanityCheck_modelSize_7conv3lin_MNIST_noblue/runs/k0wr1u6e</a>"
      ],
      "text/plain": [
       "<IPython.core.display.HTML object>"
      ]
     },
     "metadata": {},
     "output_type": "display_data"
    },
    {
     "data": {
      "text/html": [
       "Waiting for W&B process to finish... <strong style=\"color:green\">(success).</strong>"
      ],
      "text/plain": [
       "<IPython.core.display.HTML object>"
      ]
     },
     "metadata": {},
     "output_type": "display_data"
    },
    {
     "name": "stderr",
     "output_type": "stream",
     "text": [
      "Widget Javascript not detected.  It may not be installed or enabled properly.\n"
     ]
    },
    {
     "data": {
      "application/vnd.jupyter.widget-view+json": {
       "model_id": "7bfd84bc93124cb49ed1e8311745b1d4"
      }
     },
     "metadata": {},
     "output_type": "display_data"
    },
    {
     "data": {
      "text/html": [
       "<style>\n",
       "    table.wandb td:nth-child(1) { padding: 0 10px; text-align: left ; width: auto;} td:nth-child(2) {text-align: left ; width: 100%}\n",
       "    .wandb-row { display: flex; flex-direction: row; flex-wrap: wrap; justify-content: flex-start; width: 100% }\n",
       "    .wandb-col { display: flex; flex-direction: column; flex-basis: 100%; flex: 1; padding: 10px; }\n",
       "    </style>\n",
       "<div class=\"wandb-row\"><div class=\"wandb-col\"><h3>Run history:</h3><br/><table class=\"wandb\"><tr><td>avg_train_loss</td><td>█▂▃▃▂▂▂▂▂▂▂▂▂▂▃▂▂▃▃▃▃▂▂▁▁▃▂▁▃▂▂▃▂▁▂▃▂▃▃▂</td></tr><tr><td>avg_val_loss</td><td>▂▂▁▁▂▁▂▃▁▁▂▂▇▂▄▁▂▂▁▂▂▂▁▁▂▄▁▂▁▂▁▁▁▂▃▂▁▂▂█</td></tr><tr><td>epoch</td><td>▁▁▁▂▂▂▂▂▂▃▃▃▃▃▄▄▄▄▄▄▅▅▅▅▅▅▆▆▆▆▆▇▇▇▇▇▇███</td></tr><tr><td>train_accuracy_%</td><td>▁▄▂▄▆▆▄▇▄▅█▅▆▄▃▅▃▃▆▆▄▅▆▆▆▃▁▆▄▄▇▂▅▆▄▃▂▄▃▆</td></tr><tr><td>train_loss</td><td>█▂▃▃▂▂▂▂▂▂▂▂▂▂▃▂▂▃▃▃▃▂▂▁▁▃▂▁▃▂▂▃▂▁▂▃▂▃▃▂</td></tr><tr><td>val_accuracy_%</td><td>████████████▁████████████▁█████████████▁</td></tr><tr><td>val_loss</td><td>▂▂▁▁▂▁▂▃▁▁▂▂▇▂▄▁▂▂▁▂▂▂▁▁▂▄▁▂▁▂▁▁▁▂▃▂▁▂▂█</td></tr></table><br/></div><div class=\"wandb-col\"><h3>Run summary:</h3><br/><table class=\"wandb\"><tr><td>avg_train_loss</td><td>0.08184</td></tr><tr><td>avg_val_loss</td><td>0.08189</td></tr><tr><td>epoch</td><td>39</td></tr><tr><td>train_accuracy_%</td><td>10.93125</td></tr><tr><td>train_loss</td><td>3928.25037</td></tr><tr><td>val_accuracy_%</td><td>10.025</td></tr><tr><td>val_loss</td><td>982.69851</td></tr></table><br/></div></div>"
      ],
      "text/plain": [
       "<IPython.core.display.HTML object>"
      ]
     },
     "metadata": {},
     "output_type": "display_data"
    },
    {
     "data": {
      "text/html": [
       " View run <strong style=\"color:#cdcd00\">giddy-sweep-11</strong> at: <a href='https://wandb.ai/antvis/SanityCheck_modelSize_7conv3lin_MNIST_noblue/runs/k0wr1u6e' target=\"_blank\">https://wandb.ai/antvis/SanityCheck_modelSize_7conv3lin_MNIST_noblue/runs/k0wr1u6e</a><br/>Synced 4 W&B file(s), 0 media file(s), 0 artifact file(s) and 0 other file(s)"
      ],
      "text/plain": [
       "<IPython.core.display.HTML object>"
      ]
     },
     "metadata": {},
     "output_type": "display_data"
    },
    {
     "data": {
      "text/html": [
       "Find logs at: <code>./wandb/run-20231007_063505-k0wr1u6e/logs</code>"
      ],
      "text/plain": [
       "<IPython.core.display.HTML object>"
      ]
     },
     "metadata": {},
     "output_type": "display_data"
    },
    {
     "name": "stderr",
     "output_type": "stream",
     "text": [
      "\u001b[34m\u001b[1mwandb\u001b[0m: Sweep Agent: Waiting for job.\n",
      "\u001b[34m\u001b[1mwandb\u001b[0m: Job received.\n",
      "\u001b[34m\u001b[1mwandb\u001b[0m: Agent Starting Run: 85ljd9sn with config:\n",
      "\u001b[34m\u001b[1mwandb\u001b[0m: \tepochs: 40\n",
      "\u001b[34m\u001b[1mwandb\u001b[0m: \tlearning_rate: 2.467783288635837e-05\n",
      "\u001b[34m\u001b[1mwandb\u001b[0m: \tloss_fn: MSE\n",
      "\u001b[34m\u001b[1mwandb\u001b[0m: \toptimizer: adam\n",
      "\u001b[34m\u001b[1mwandb\u001b[0m: \tweight_decay: 1e-05\n"
     ]
    },
    {
     "data": {
      "text/html": [
       "wandb version 0.15.12 is available!  To upgrade, please run:\n",
       " $ pip install wandb --upgrade"
      ],
      "text/plain": [
       "<IPython.core.display.HTML object>"
      ]
     },
     "metadata": {},
     "output_type": "display_data"
    },
    {
     "data": {
      "text/html": [
       "Tracking run with wandb version 0.15.10"
      ],
      "text/plain": [
       "<IPython.core.display.HTML object>"
      ]
     },
     "metadata": {},
     "output_type": "display_data"
    },
    {
     "data": {
      "text/html": [
       "Run data is saved locally in <code>/its/home/nn268/optics/wandb/run-20231007_095738-85ljd9sn</code>"
      ],
      "text/plain": [
       "<IPython.core.display.HTML object>"
      ]
     },
     "metadata": {},
     "output_type": "display_data"
    },
    {
     "data": {
      "text/html": [
       "Syncing run <strong><a href='https://wandb.ai/antvis/SanityCheck_modelSize_7conv3lin_MNIST_noblue/runs/85ljd9sn' target=\"_blank\">magic-sweep-12</a></strong> to <a href='https://wandb.ai/antvis/SanityCheck_modelSize_7conv3lin_MNIST_noblue' target=\"_blank\">Weights & Biases</a> (<a href='https://wandb.me/run' target=\"_blank\">docs</a>)<br/>Sweep page: <a href='https://wandb.ai/antvis/SanityCheck_modelSize_7conv3lin_MNIST_noblue/sweeps/pvczenzd' target=\"_blank\">https://wandb.ai/antvis/SanityCheck_modelSize_7conv3lin_MNIST_noblue/sweeps/pvczenzd</a>"
      ],
      "text/plain": [
       "<IPython.core.display.HTML object>"
      ]
     },
     "metadata": {},
     "output_type": "display_data"
    },
    {
     "data": {
      "text/html": [
       " View project at <a href='https://wandb.ai/antvis/SanityCheck_modelSize_7conv3lin_MNIST_noblue' target=\"_blank\">https://wandb.ai/antvis/SanityCheck_modelSize_7conv3lin_MNIST_noblue</a>"
      ],
      "text/plain": [
       "<IPython.core.display.HTML object>"
      ]
     },
     "metadata": {},
     "output_type": "display_data"
    },
    {
     "data": {
      "text/html": [
       " View sweep at <a href='https://wandb.ai/antvis/SanityCheck_modelSize_7conv3lin_MNIST_noblue/sweeps/pvczenzd' target=\"_blank\">https://wandb.ai/antvis/SanityCheck_modelSize_7conv3lin_MNIST_noblue/sweeps/pvczenzd</a>"
      ],
      "text/plain": [
       "<IPython.core.display.HTML object>"
      ]
     },
     "metadata": {},
     "output_type": "display_data"
    },
    {
     "data": {
      "text/html": [
       " View run at <a href='https://wandb.ai/antvis/SanityCheck_modelSize_7conv3lin_MNIST_noblue/runs/85ljd9sn' target=\"_blank\">https://wandb.ai/antvis/SanityCheck_modelSize_7conv3lin_MNIST_noblue/runs/85ljd9sn</a>"
      ],
      "text/plain": [
       "<IPython.core.display.HTML object>"
      ]
     },
     "metadata": {},
     "output_type": "display_data"
    },
    {
     "data": {
      "text/html": [
       "Waiting for W&B process to finish... <strong style=\"color:green\">(success).</strong>"
      ],
      "text/plain": [
       "<IPython.core.display.HTML object>"
      ]
     },
     "metadata": {},
     "output_type": "display_data"
    },
    {
     "data": {
      "text/html": [
       "<style>\n",
       "    table.wandb td:nth-child(1) { padding: 0 10px; text-align: left ; width: auto;} td:nth-child(2) {text-align: left ; width: 100%}\n",
       "    .wandb-row { display: flex; flex-direction: row; flex-wrap: wrap; justify-content: flex-start; width: 100% }\n",
       "    .wandb-col { display: flex; flex-direction: column; flex-basis: 100%; flex: 1; padding: 10px; }\n",
       "    </style>\n",
       "<div class=\"wandb-row\"><div class=\"wandb-col\"><h3>Run history:</h3><br/><table class=\"wandb\"><tr><td>avg_train_loss</td><td>█▃▂▂▂▂▂▁▁▁▁▁▁▁▁▁▁▁▁▁▁▁▁▁▁▁▁▁▁▁▁▁▁▁▁▁▁▁▁▁</td></tr><tr><td>avg_val_loss</td><td>█▅▃▃▃▂▂▂▂▂▂▂▁▁▁▁▁▁▁▁▁▁▁▁▁▁▁▁▁▁▁▁▁▁▁▁▁▁▁▁</td></tr><tr><td>epoch</td><td>▁▁▁▂▂▂▂▂▂▃▃▃▃▃▄▄▄▄▄▄▅▅▅▅▅▅▆▆▆▆▆▇▇▇▇▇▇███</td></tr><tr><td>train_accuracy_%</td><td>▁▆▇▇▇███████████████████████████████████</td></tr><tr><td>train_loss</td><td>█▃▂▂▂▂▂▁▁▁▁▁▁▁▁▁▁▁▁▁▁▁▁▁▁▁▁▁▁▁▁▁▁▁▁▁▁▁▁▁</td></tr><tr><td>val_accuracy_%</td><td>▁▅▆▆▆▇▇▇▇▇▇▇████████████████████████████</td></tr><tr><td>val_loss</td><td>█▅▃▃▃▂▂▂▂▂▂▂▁▁▁▁▁▁▁▁▁▁▁▁▁▁▁▁▁▁▁▁▁▁▁▁▁▁▁▁</td></tr></table><br/></div><div class=\"wandb-col\"><h3>Run summary:</h3><br/><table class=\"wandb\"><tr><td>avg_train_loss</td><td>0.00118</td></tr><tr><td>avg_val_loss</td><td>0.00107</td></tr><tr><td>epoch</td><td>39</td></tr><tr><td>train_accuracy_%</td><td>99.20208</td></tr><tr><td>train_loss</td><td>56.44387</td></tr><tr><td>val_accuracy_%</td><td>99.275</td></tr><tr><td>val_loss</td><td>12.89981</td></tr></table><br/></div></div>"
      ],
      "text/plain": [
       "<IPython.core.display.HTML object>"
      ]
     },
     "metadata": {},
     "output_type": "display_data"
    },
    {
     "data": {
      "text/html": [
       " View run <strong style=\"color:#cdcd00\">magic-sweep-12</strong> at: <a href='https://wandb.ai/antvis/SanityCheck_modelSize_7conv3lin_MNIST_noblue/runs/85ljd9sn' target=\"_blank\">https://wandb.ai/antvis/SanityCheck_modelSize_7conv3lin_MNIST_noblue/runs/85ljd9sn</a><br/>Synced 4 W&B file(s), 0 media file(s), 0 artifact file(s) and 0 other file(s)"
      ],
      "text/plain": [
       "<IPython.core.display.HTML object>"
      ]
     },
     "metadata": {},
     "output_type": "display_data"
    },
    {
     "data": {
      "text/html": [
       "Find logs at: <code>./wandb/run-20231007_095738-85ljd9sn/logs</code>"
      ],
      "text/plain": [
       "<IPython.core.display.HTML object>"
      ]
     },
     "metadata": {},
     "output_type": "display_data"
    },
    {
     "name": "stderr",
     "output_type": "stream",
     "text": [
      "\u001b[34m\u001b[1mwandb\u001b[0m: Agent Starting Run: ap35muho with config:\n",
      "\u001b[34m\u001b[1mwandb\u001b[0m: \tepochs: 40\n",
      "\u001b[34m\u001b[1mwandb\u001b[0m: \tlearning_rate: 0.0034016129039098736\n",
      "\u001b[34m\u001b[1mwandb\u001b[0m: \tloss_fn: CrossEntropy\n",
      "\u001b[34m\u001b[1mwandb\u001b[0m: \toptimizer: adam\n",
      "\u001b[34m\u001b[1mwandb\u001b[0m: \tweight_decay: 1e-05\n"
     ]
    },
    {
     "data": {
      "text/html": [
       "wandb version 0.15.12 is available!  To upgrade, please run:\n",
       " $ pip install wandb --upgrade"
      ],
      "text/plain": [
       "<IPython.core.display.HTML object>"
      ]
     },
     "metadata": {},
     "output_type": "display_data"
    },
    {
     "data": {
      "text/html": [
       "Tracking run with wandb version 0.15.10"
      ],
      "text/plain": [
       "<IPython.core.display.HTML object>"
      ]
     },
     "metadata": {},
     "output_type": "display_data"
    },
    {
     "data": {
      "text/html": [
       "Run data is saved locally in <code>/its/home/nn268/optics/wandb/run-20231007_132001-ap35muho</code>"
      ],
      "text/plain": [
       "<IPython.core.display.HTML object>"
      ]
     },
     "metadata": {},
     "output_type": "display_data"
    },
    {
     "data": {
      "text/html": [
       "Syncing run <strong><a href='https://wandb.ai/antvis/SanityCheck_modelSize_7conv3lin_MNIST_noblue/runs/ap35muho' target=\"_blank\">sandy-sweep-13</a></strong> to <a href='https://wandb.ai/antvis/SanityCheck_modelSize_7conv3lin_MNIST_noblue' target=\"_blank\">Weights & Biases</a> (<a href='https://wandb.me/run' target=\"_blank\">docs</a>)<br/>Sweep page: <a href='https://wandb.ai/antvis/SanityCheck_modelSize_7conv3lin_MNIST_noblue/sweeps/pvczenzd' target=\"_blank\">https://wandb.ai/antvis/SanityCheck_modelSize_7conv3lin_MNIST_noblue/sweeps/pvczenzd</a>"
      ],
      "text/plain": [
       "<IPython.core.display.HTML object>"
      ]
     },
     "metadata": {},
     "output_type": "display_data"
    },
    {
     "data": {
      "text/html": [
       " View project at <a href='https://wandb.ai/antvis/SanityCheck_modelSize_7conv3lin_MNIST_noblue' target=\"_blank\">https://wandb.ai/antvis/SanityCheck_modelSize_7conv3lin_MNIST_noblue</a>"
      ],
      "text/plain": [
       "<IPython.core.display.HTML object>"
      ]
     },
     "metadata": {},
     "output_type": "display_data"
    },
    {
     "data": {
      "text/html": [
       " View sweep at <a href='https://wandb.ai/antvis/SanityCheck_modelSize_7conv3lin_MNIST_noblue/sweeps/pvczenzd' target=\"_blank\">https://wandb.ai/antvis/SanityCheck_modelSize_7conv3lin_MNIST_noblue/sweeps/pvczenzd</a>"
      ],
      "text/plain": [
       "<IPython.core.display.HTML object>"
      ]
     },
     "metadata": {},
     "output_type": "display_data"
    },
    {
     "data": {
      "text/html": [
       " View run at <a href='https://wandb.ai/antvis/SanityCheck_modelSize_7conv3lin_MNIST_noblue/runs/ap35muho' target=\"_blank\">https://wandb.ai/antvis/SanityCheck_modelSize_7conv3lin_MNIST_noblue/runs/ap35muho</a>"
      ],
      "text/plain": [
       "<IPython.core.display.HTML object>"
      ]
     },
     "metadata": {},
     "output_type": "display_data"
    },
    {
     "data": {
      "text/html": [
       "Waiting for W&B process to finish... <strong style=\"color:green\">(success).</strong>"
      ],
      "text/plain": [
       "<IPython.core.display.HTML object>"
      ]
     },
     "metadata": {},
     "output_type": "display_data"
    },
    {
     "name": "stderr",
     "output_type": "stream",
     "text": [
      "Widget Javascript not detected.  It may not be installed or enabled properly.\n"
     ]
    },
    {
     "data": {
      "application/vnd.jupyter.widget-view+json": {
       "model_id": "fb6db505d3224e7f967f9e60452f944d"
      }
     },
     "metadata": {},
     "output_type": "display_data"
    },
    {
     "data": {
      "text/html": [
       "<style>\n",
       "    table.wandb td:nth-child(1) { padding: 0 10px; text-align: left ; width: auto;} td:nth-child(2) {text-align: left ; width: 100%}\n",
       "    .wandb-row { display: flex; flex-direction: row; flex-wrap: wrap; justify-content: flex-start; width: 100% }\n",
       "    .wandb-col { display: flex; flex-direction: column; flex-basis: 100%; flex: 1; padding: 10px; }\n",
       "    </style>\n",
       "<div class=\"wandb-row\"><div class=\"wandb-col\"><h3>Run history:</h3><br/><table class=\"wandb\"><tr><td>avg_train_loss</td><td>▁▄▄▃▅▅▅▅▄▄▃▃▅▁▄█▃▅▄▄▅▄▅▄▄▅▅▅▅▃▄▅▁▃▄▃▂▄▅▄</td></tr><tr><td>avg_val_loss</td><td>▂▂▂▂▂▂▂▂▂▁▁▂▂▂▂▂▂▂▂▂▂▂▂▂▂▁▂▂▂▂▂▂▂█▂▂▂▂▂▂</td></tr><tr><td>epoch</td><td>▁▁▁▂▂▂▂▂▂▃▃▃▃▃▄▄▄▄▄▄▅▅▅▅▅▅▆▆▆▆▆▇▇▇▇▇▇███</td></tr><tr><td>train_accuracy_%</td><td>▅▆▇▇▆▅▅▅▆▆█▇▅█▆▁▅▅▇▆▅▆▅▆▆▆▅▅▅▇▆▆▇▆▇▇▇▇▅▆</td></tr><tr><td>train_loss</td><td>▁▄▄▃▅▅▅▅▄▄▃▃▅▁▄█▃▅▄▄▅▄▅▄▄▅▅▅▅▃▄▅▁▃▄▃▂▄▅▄</td></tr><tr><td>val_accuracy_%</td><td>▇▇▇▇▇▇▇▇▇██▇▇▇▇▇▇▇▇▇▇▇▇▇▇█▇▇▇▇▇▇▇▁▇▇▇▇▇▇</td></tr><tr><td>val_loss</td><td>▂▂▂▂▂▂▂▂▂▁▁▂▂▂▂▂▂▂▂▂▂▂▂▂▂▁▂▂▂▂▂▂▂█▂▂▂▂▂▂</td></tr></table><br/></div><div class=\"wandb-col\"><h3>Run summary:</h3><br/><table class=\"wandb\"><tr><td>avg_train_loss</td><td>2.44124</td></tr><tr><td>avg_val_loss</td><td>2.44579</td></tr><tr><td>epoch</td><td>39</td></tr><tr><td>train_accuracy_%</td><td>10.13542</td></tr><tr><td>train_loss</td><td>117179.70377</td></tr><tr><td>val_accuracy_%</td><td>9.725</td></tr><tr><td>val_loss</td><td>29349.48617</td></tr></table><br/></div></div>"
      ],
      "text/plain": [
       "<IPython.core.display.HTML object>"
      ]
     },
     "metadata": {},
     "output_type": "display_data"
    },
    {
     "data": {
      "text/html": [
       " View run <strong style=\"color:#cdcd00\">sandy-sweep-13</strong> at: <a href='https://wandb.ai/antvis/SanityCheck_modelSize_7conv3lin_MNIST_noblue/runs/ap35muho' target=\"_blank\">https://wandb.ai/antvis/SanityCheck_modelSize_7conv3lin_MNIST_noblue/runs/ap35muho</a><br/>Synced 4 W&B file(s), 0 media file(s), 0 artifact file(s) and 0 other file(s)"
      ],
      "text/plain": [
       "<IPython.core.display.HTML object>"
      ]
     },
     "metadata": {},
     "output_type": "display_data"
    },
    {
     "data": {
      "text/html": [
       "Find logs at: <code>./wandb/run-20231007_132001-ap35muho/logs</code>"
      ],
      "text/plain": [
       "<IPython.core.display.HTML object>"
      ]
     },
     "metadata": {},
     "output_type": "display_data"
    },
    {
     "name": "stderr",
     "output_type": "stream",
     "text": [
      "\u001b[34m\u001b[1mwandb\u001b[0m: Agent Starting Run: tb71u7iy with config:\n",
      "\u001b[34m\u001b[1mwandb\u001b[0m: \tepochs: 40\n",
      "\u001b[34m\u001b[1mwandb\u001b[0m: \tlearning_rate: 0.005346675384215548\n",
      "\u001b[34m\u001b[1mwandb\u001b[0m: \tloss_fn: CrossEntropy\n",
      "\u001b[34m\u001b[1mwandb\u001b[0m: \toptimizer: adam\n",
      "\u001b[34m\u001b[1mwandb\u001b[0m: \tweight_decay: 4e-05\n"
     ]
    },
    {
     "data": {
      "text/html": [
       "wandb version 0.15.12 is available!  To upgrade, please run:\n",
       " $ pip install wandb --upgrade"
      ],
      "text/plain": [
       "<IPython.core.display.HTML object>"
      ]
     },
     "metadata": {},
     "output_type": "display_data"
    },
    {
     "data": {
      "text/html": [
       "Tracking run with wandb version 0.15.10"
      ],
      "text/plain": [
       "<IPython.core.display.HTML object>"
      ]
     },
     "metadata": {},
     "output_type": "display_data"
    },
    {
     "data": {
      "text/html": [
       "Run data is saved locally in <code>/its/home/nn268/optics/wandb/run-20231007_164416-tb71u7iy</code>"
      ],
      "text/plain": [
       "<IPython.core.display.HTML object>"
      ]
     },
     "metadata": {},
     "output_type": "display_data"
    },
    {
     "data": {
      "text/html": [
       "Syncing run <strong><a href='https://wandb.ai/antvis/SanityCheck_modelSize_7conv3lin_MNIST_noblue/runs/tb71u7iy' target=\"_blank\">fearless-sweep-14</a></strong> to <a href='https://wandb.ai/antvis/SanityCheck_modelSize_7conv3lin_MNIST_noblue' target=\"_blank\">Weights & Biases</a> (<a href='https://wandb.me/run' target=\"_blank\">docs</a>)<br/>Sweep page: <a href='https://wandb.ai/antvis/SanityCheck_modelSize_7conv3lin_MNIST_noblue/sweeps/pvczenzd' target=\"_blank\">https://wandb.ai/antvis/SanityCheck_modelSize_7conv3lin_MNIST_noblue/sweeps/pvczenzd</a>"
      ],
      "text/plain": [
       "<IPython.core.display.HTML object>"
      ]
     },
     "metadata": {},
     "output_type": "display_data"
    },
    {
     "data": {
      "text/html": [
       " View project at <a href='https://wandb.ai/antvis/SanityCheck_modelSize_7conv3lin_MNIST_noblue' target=\"_blank\">https://wandb.ai/antvis/SanityCheck_modelSize_7conv3lin_MNIST_noblue</a>"
      ],
      "text/plain": [
       "<IPython.core.display.HTML object>"
      ]
     },
     "metadata": {},
     "output_type": "display_data"
    },
    {
     "data": {
      "text/html": [
       " View sweep at <a href='https://wandb.ai/antvis/SanityCheck_modelSize_7conv3lin_MNIST_noblue/sweeps/pvczenzd' target=\"_blank\">https://wandb.ai/antvis/SanityCheck_modelSize_7conv3lin_MNIST_noblue/sweeps/pvczenzd</a>"
      ],
      "text/plain": [
       "<IPython.core.display.HTML object>"
      ]
     },
     "metadata": {},
     "output_type": "display_data"
    },
    {
     "data": {
      "text/html": [
       " View run at <a href='https://wandb.ai/antvis/SanityCheck_modelSize_7conv3lin_MNIST_noblue/runs/tb71u7iy' target=\"_blank\">https://wandb.ai/antvis/SanityCheck_modelSize_7conv3lin_MNIST_noblue/runs/tb71u7iy</a>"
      ],
      "text/plain": [
       "<IPython.core.display.HTML object>"
      ]
     },
     "metadata": {},
     "output_type": "display_data"
    },
    {
     "data": {
      "text/html": [
       "Waiting for W&B process to finish... <strong style=\"color:green\">(success).</strong>"
      ],
      "text/plain": [
       "<IPython.core.display.HTML object>"
      ]
     },
     "metadata": {},
     "output_type": "display_data"
    },
    {
     "name": "stderr",
     "output_type": "stream",
     "text": [
      "Widget Javascript not detected.  It may not be installed or enabled properly.\n"
     ]
    },
    {
     "data": {
      "application/vnd.jupyter.widget-view+json": {
       "model_id": "366c00dfc4134aa3a619c54882c748c7"
      }
     },
     "metadata": {},
     "output_type": "display_data"
    },
    {
     "data": {
      "text/html": [
       "<style>\n",
       "    table.wandb td:nth-child(1) { padding: 0 10px; text-align: left ; width: auto;} td:nth-child(2) {text-align: left ; width: 100%}\n",
       "    .wandb-row { display: flex; flex-direction: row; flex-wrap: wrap; justify-content: flex-start; width: 100% }\n",
       "    .wandb-col { display: flex; flex-direction: column; flex-basis: 100%; flex: 1; padding: 10px; }\n",
       "    </style>\n",
       "<div class=\"wandb-row\"><div class=\"wandb-col\"><h3>Run history:</h3><br/><table class=\"wandb\"><tr><td>avg_train_loss</td><td>▁▅▁▄▄▅▆▃█▄▄▄▃▄▅▃▄▄▄▃▄▄▄▂▃▄▁▅▅▃▅▄▅▄▂▃▄▅▄▆</td></tr><tr><td>avg_val_loss</td><td>█▆▂▆▂█▆▅▅▂▆▆▃▅▅▆▅▅▆▅▅▆▅▆▅▃▁▆▅▆▃▅▅▅▆█▅▅▆▁</td></tr><tr><td>epoch</td><td>▁▁▁▂▂▂▂▂▂▃▃▃▃▃▄▄▄▄▄▄▅▅▅▅▅▅▆▆▆▆▆▇▇▇▇▇▇███</td></tr><tr><td>train_accuracy_%</td><td>▇▄█▅▅▄▃▇▁▅▅▅▆▅▃▆▅▅▅▆▅▅▅▇▆▅█▄▄▆▄▅▄▅▇▆▅▄▅▃</td></tr><tr><td>train_loss</td><td>▁▅▁▄▄▅▆▃█▄▄▄▃▄▅▃▄▄▄▃▄▄▄▂▃▄▁▅▅▃▅▄▅▄▂▃▄▅▄▆</td></tr><tr><td>val_accuracy_%</td><td>▁▃▇▃▇▁▃▄▄▇▃▃▆▄▄▃▄▄▃▄▄▃▄▃▄▆█▃▄▃▆▄▄▄▃▁▄▄▃█</td></tr><tr><td>val_loss</td><td>█▆▂▆▂█▆▅▅▂▆▆▃▅▅▆▅▅▆▅▅▆▅▆▅▃▁▆▅▆▃▅▅▅▆█▅▅▆▁</td></tr></table><br/></div><div class=\"wandb-col\"><h3>Run summary:</h3><br/><table class=\"wandb\"><tr><td>avg_train_loss</td><td>2.44724</td></tr><tr><td>avg_val_loss</td><td>2.43187</td></tr><tr><td>epoch</td><td>39</td></tr><tr><td>train_accuracy_%</td><td>9.55625</td></tr><tr><td>train_loss</td><td>117467.38395</td></tr><tr><td>val_accuracy_%</td><td>11.11667</td></tr><tr><td>val_loss</td><td>29182.48617</td></tr></table><br/></div></div>"
      ],
      "text/plain": [
       "<IPython.core.display.HTML object>"
      ]
     },
     "metadata": {},
     "output_type": "display_data"
    },
    {
     "data": {
      "text/html": [
       " View run <strong style=\"color:#cdcd00\">fearless-sweep-14</strong> at: <a href='https://wandb.ai/antvis/SanityCheck_modelSize_7conv3lin_MNIST_noblue/runs/tb71u7iy' target=\"_blank\">https://wandb.ai/antvis/SanityCheck_modelSize_7conv3lin_MNIST_noblue/runs/tb71u7iy</a><br/>Synced 4 W&B file(s), 0 media file(s), 0 artifact file(s) and 0 other file(s)"
      ],
      "text/plain": [
       "<IPython.core.display.HTML object>"
      ]
     },
     "metadata": {},
     "output_type": "display_data"
    },
    {
     "data": {
      "text/html": [
       "Find logs at: <code>./wandb/run-20231007_164416-tb71u7iy/logs</code>"
      ],
      "text/plain": [
       "<IPython.core.display.HTML object>"
      ]
     },
     "metadata": {},
     "output_type": "display_data"
    },
    {
     "name": "stderr",
     "output_type": "stream",
     "text": [
      "\u001b[34m\u001b[1mwandb\u001b[0m: Agent Starting Run: pfubvt9y with config:\n",
      "\u001b[34m\u001b[1mwandb\u001b[0m: \tepochs: 40\n",
      "\u001b[34m\u001b[1mwandb\u001b[0m: \tlearning_rate: 0.0005174752629894671\n",
      "\u001b[34m\u001b[1mwandb\u001b[0m: \tloss_fn: CrossEntropy\n",
      "\u001b[34m\u001b[1mwandb\u001b[0m: \toptimizer: adam\n",
      "\u001b[34m\u001b[1mwandb\u001b[0m: \tweight_decay: 1e-05\n"
     ]
    },
    {
     "data": {
      "text/html": [
       "wandb version 0.15.12 is available!  To upgrade, please run:\n",
       " $ pip install wandb --upgrade"
      ],
      "text/plain": [
       "<IPython.core.display.HTML object>"
      ]
     },
     "metadata": {},
     "output_type": "display_data"
    },
    {
     "data": {
      "text/html": [
       "Tracking run with wandb version 0.15.10"
      ],
      "text/plain": [
       "<IPython.core.display.HTML object>"
      ]
     },
     "metadata": {},
     "output_type": "display_data"
    },
    {
     "data": {
      "text/html": [
       "Run data is saved locally in <code>/its/home/nn268/optics/wandb/run-20231007_200808-pfubvt9y</code>"
      ],
      "text/plain": [
       "<IPython.core.display.HTML object>"
      ]
     },
     "metadata": {},
     "output_type": "display_data"
    },
    {
     "data": {
      "text/html": [
       "Syncing run <strong><a href='https://wandb.ai/antvis/SanityCheck_modelSize_7conv3lin_MNIST_noblue/runs/pfubvt9y' target=\"_blank\">vague-sweep-15</a></strong> to <a href='https://wandb.ai/antvis/SanityCheck_modelSize_7conv3lin_MNIST_noblue' target=\"_blank\">Weights & Biases</a> (<a href='https://wandb.me/run' target=\"_blank\">docs</a>)<br/>Sweep page: <a href='https://wandb.ai/antvis/SanityCheck_modelSize_7conv3lin_MNIST_noblue/sweeps/pvczenzd' target=\"_blank\">https://wandb.ai/antvis/SanityCheck_modelSize_7conv3lin_MNIST_noblue/sweeps/pvczenzd</a>"
      ],
      "text/plain": [
       "<IPython.core.display.HTML object>"
      ]
     },
     "metadata": {},
     "output_type": "display_data"
    },
    {
     "data": {
      "text/html": [
       " View project at <a href='https://wandb.ai/antvis/SanityCheck_modelSize_7conv3lin_MNIST_noblue' target=\"_blank\">https://wandb.ai/antvis/SanityCheck_modelSize_7conv3lin_MNIST_noblue</a>"
      ],
      "text/plain": [
       "<IPython.core.display.HTML object>"
      ]
     },
     "metadata": {},
     "output_type": "display_data"
    },
    {
     "data": {
      "text/html": [
       " View sweep at <a href='https://wandb.ai/antvis/SanityCheck_modelSize_7conv3lin_MNIST_noblue/sweeps/pvczenzd' target=\"_blank\">https://wandb.ai/antvis/SanityCheck_modelSize_7conv3lin_MNIST_noblue/sweeps/pvczenzd</a>"
      ],
      "text/plain": [
       "<IPython.core.display.HTML object>"
      ]
     },
     "metadata": {},
     "output_type": "display_data"
    },
    {
     "data": {
      "text/html": [
       " View run at <a href='https://wandb.ai/antvis/SanityCheck_modelSize_7conv3lin_MNIST_noblue/runs/pfubvt9y' target=\"_blank\">https://wandb.ai/antvis/SanityCheck_modelSize_7conv3lin_MNIST_noblue/runs/pfubvt9y</a>"
      ],
      "text/plain": [
       "<IPython.core.display.HTML object>"
      ]
     },
     "metadata": {},
     "output_type": "display_data"
    },
    {
     "data": {
      "text/html": [
       "Waiting for W&B process to finish... <strong style=\"color:green\">(success).</strong>"
      ],
      "text/plain": [
       "<IPython.core.display.HTML object>"
      ]
     },
     "metadata": {},
     "output_type": "display_data"
    },
    {
     "name": "stderr",
     "output_type": "stream",
     "text": [
      "Widget Javascript not detected.  It may not be installed or enabled properly.\n"
     ]
    },
    {
     "data": {
      "application/vnd.jupyter.widget-view+json": {
       "model_id": "09da066296bf4b92ae96e7cbe7f00b21"
      }
     },
     "metadata": {},
     "output_type": "display_data"
    },
    {
     "data": {
      "text/html": [
       "<style>\n",
       "    table.wandb td:nth-child(1) { padding: 0 10px; text-align: left ; width: auto;} td:nth-child(2) {text-align: left ; width: 100%}\n",
       "    .wandb-row { display: flex; flex-direction: row; flex-wrap: wrap; justify-content: flex-start; width: 100% }\n",
       "    .wandb-col { display: flex; flex-direction: column; flex-basis: 100%; flex: 1; padding: 10px; }\n",
       "    </style>\n",
       "<div class=\"wandb-row\"><div class=\"wandb-col\"><h3>Run history:</h3><br/><table class=\"wandb\"><tr><td>avg_train_loss</td><td>▇▅▅▅▃▅▅▅▅▅▅▅▄▅█▆▅▅▅▅▅▅▅▁▆▇▆▁▂▆▆▅▅▅▅▅▅▅▅▄</td></tr><tr><td>avg_val_loss</td><td>▇▇▇▇▇▇▇▇▇▇▇▇▂█▇▇▇▇▇▇▇▇▇▁▃▄█▁█▇▇▇▇▇▇▇▇▇▇█</td></tr><tr><td>epoch</td><td>▁▁▁▂▂▂▂▂▂▃▃▃▃▃▄▄▄▄▄▄▅▅▅▅▅▅▆▆▆▆▆▇▇▇▇▇▇███</td></tr><tr><td>train_accuracy_%</td><td>▁▁▁▁▇▁▁▁▁▁▁▁▂▄▂▁▁▁▁▁▁▁▁▆▄▃▃██▂▁▁▁▁▁▁▁▁▁▃</td></tr><tr><td>train_loss</td><td>▇▅▅▅▃▅▅▅▅▅▅▅▄▅█▆▅▅▅▅▅▅▅▁▆▇▆▁▂▆▆▅▅▅▅▅▅▅▅▄</td></tr><tr><td>val_accuracy_%</td><td>▁▁▁▁▁▁▁▁▁▁▁▁▇▁▁▁▁▁▁▁▁▁▁█▆▅▁█▁▁▁▁▁▁▁▁▁▁▁▁</td></tr><tr><td>val_loss</td><td>▇▇▇▇▇▇▇▇▇▇▇▇▂█▇▇▇▇▇▇▇▇▇▁▃▄█▁█▇▇▇▇▇▇▇▇▇▇█</td></tr></table><br/></div><div class=\"wandb-col\"><h3>Run summary:</h3><br/><table class=\"wandb\"><tr><td>avg_train_loss</td><td>2.37397</td></tr><tr><td>avg_val_loss</td><td>2.42347</td></tr><tr><td>epoch</td><td>39</td></tr><tr><td>train_accuracy_%</td><td>13.02083</td></tr><tr><td>train_loss</td><td>113950.73352</td></tr><tr><td>val_accuracy_%</td><td>11.85833</td></tr><tr><td>val_loss</td><td>29081.66829</td></tr></table><br/></div></div>"
      ],
      "text/plain": [
       "<IPython.core.display.HTML object>"
      ]
     },
     "metadata": {},
     "output_type": "display_data"
    },
    {
     "data": {
      "text/html": [
       " View run <strong style=\"color:#cdcd00\">vague-sweep-15</strong> at: <a href='https://wandb.ai/antvis/SanityCheck_modelSize_7conv3lin_MNIST_noblue/runs/pfubvt9y' target=\"_blank\">https://wandb.ai/antvis/SanityCheck_modelSize_7conv3lin_MNIST_noblue/runs/pfubvt9y</a><br/>Synced 4 W&B file(s), 0 media file(s), 0 artifact file(s) and 0 other file(s)"
      ],
      "text/plain": [
       "<IPython.core.display.HTML object>"
      ]
     },
     "metadata": {},
     "output_type": "display_data"
    },
    {
     "data": {
      "text/html": [
       "Find logs at: <code>./wandb/run-20231007_200808-pfubvt9y/logs</code>"
      ],
      "text/plain": [
       "<IPython.core.display.HTML object>"
      ]
     },
     "metadata": {},
     "output_type": "display_data"
    },
    {
     "name": "stderr",
     "output_type": "stream",
     "text": [
      "\u001b[34m\u001b[1mwandb\u001b[0m: Agent Starting Run: r7dgdz5a with config:\n",
      "\u001b[34m\u001b[1mwandb\u001b[0m: \tepochs: 40\n",
      "\u001b[34m\u001b[1mwandb\u001b[0m: \tlearning_rate: 0.003220830078116349\n",
      "\u001b[34m\u001b[1mwandb\u001b[0m: \tloss_fn: CrossEntropy\n",
      "\u001b[34m\u001b[1mwandb\u001b[0m: \toptimizer: adam\n",
      "\u001b[34m\u001b[1mwandb\u001b[0m: \tweight_decay: 4e-05\n"
     ]
    },
    {
     "data": {
      "text/html": [
       "wandb version 0.15.12 is available!  To upgrade, please run:\n",
       " $ pip install wandb --upgrade"
      ],
      "text/plain": [
       "<IPython.core.display.HTML object>"
      ]
     },
     "metadata": {},
     "output_type": "display_data"
    },
    {
     "data": {
      "text/html": [
       "Tracking run with wandb version 0.15.10"
      ],
      "text/plain": [
       "<IPython.core.display.HTML object>"
      ]
     },
     "metadata": {},
     "output_type": "display_data"
    },
    {
     "data": {
      "text/html": [
       "Run data is saved locally in <code>/its/home/nn268/optics/wandb/run-20231007_235649-r7dgdz5a</code>"
      ],
      "text/plain": [
       "<IPython.core.display.HTML object>"
      ]
     },
     "metadata": {},
     "output_type": "display_data"
    },
    {
     "data": {
      "text/html": [
       "Syncing run <strong><a href='https://wandb.ai/antvis/SanityCheck_modelSize_7conv3lin_MNIST_noblue/runs/r7dgdz5a' target=\"_blank\">leafy-sweep-16</a></strong> to <a href='https://wandb.ai/antvis/SanityCheck_modelSize_7conv3lin_MNIST_noblue' target=\"_blank\">Weights & Biases</a> (<a href='https://wandb.me/run' target=\"_blank\">docs</a>)<br/>Sweep page: <a href='https://wandb.ai/antvis/SanityCheck_modelSize_7conv3lin_MNIST_noblue/sweeps/pvczenzd' target=\"_blank\">https://wandb.ai/antvis/SanityCheck_modelSize_7conv3lin_MNIST_noblue/sweeps/pvczenzd</a>"
      ],
      "text/plain": [
       "<IPython.core.display.HTML object>"
      ]
     },
     "metadata": {},
     "output_type": "display_data"
    },
    {
     "data": {
      "text/html": [
       " View project at <a href='https://wandb.ai/antvis/SanityCheck_modelSize_7conv3lin_MNIST_noblue' target=\"_blank\">https://wandb.ai/antvis/SanityCheck_modelSize_7conv3lin_MNIST_noblue</a>"
      ],
      "text/plain": [
       "<IPython.core.display.HTML object>"
      ]
     },
     "metadata": {},
     "output_type": "display_data"
    },
    {
     "data": {
      "text/html": [
       " View sweep at <a href='https://wandb.ai/antvis/SanityCheck_modelSize_7conv3lin_MNIST_noblue/sweeps/pvczenzd' target=\"_blank\">https://wandb.ai/antvis/SanityCheck_modelSize_7conv3lin_MNIST_noblue/sweeps/pvczenzd</a>"
      ],
      "text/plain": [
       "<IPython.core.display.HTML object>"
      ]
     },
     "metadata": {},
     "output_type": "display_data"
    },
    {
     "data": {
      "text/html": [
       " View run at <a href='https://wandb.ai/antvis/SanityCheck_modelSize_7conv3lin_MNIST_noblue/runs/r7dgdz5a' target=\"_blank\">https://wandb.ai/antvis/SanityCheck_modelSize_7conv3lin_MNIST_noblue/runs/r7dgdz5a</a>"
      ],
      "text/plain": [
       "<IPython.core.display.HTML object>"
      ]
     },
     "metadata": {},
     "output_type": "display_data"
    },
    {
     "data": {
      "text/html": [
       "Waiting for W&B process to finish... <strong style=\"color:green\">(success).</strong>"
      ],
      "text/plain": [
       "<IPython.core.display.HTML object>"
      ]
     },
     "metadata": {},
     "output_type": "display_data"
    },
    {
     "name": "stderr",
     "output_type": "stream",
     "text": [
      "Widget Javascript not detected.  It may not be installed or enabled properly.\n"
     ]
    },
    {
     "data": {
      "application/vnd.jupyter.widget-view+json": {
       "model_id": "f6999639372f460ea71991c5dd268a05"
      }
     },
     "metadata": {},
     "output_type": "display_data"
    },
    {
     "data": {
      "text/html": [
       "<style>\n",
       "    table.wandb td:nth-child(1) { padding: 0 10px; text-align: left ; width: auto;} td:nth-child(2) {text-align: left ; width: 100%}\n",
       "    .wandb-row { display: flex; flex-direction: row; flex-wrap: wrap; justify-content: flex-start; width: 100% }\n",
       "    .wandb-col { display: flex; flex-direction: column; flex-basis: 100%; flex: 1; padding: 10px; }\n",
       "    </style>\n",
       "<div class=\"wandb-row\"><div class=\"wandb-col\"><h3>Run history:</h3><br/><table class=\"wandb\"><tr><td>avg_train_loss</td><td>▅▁▅▄▆▅▅▃▂▄▆▅▅▄▅▅▅▅▆▆▄▄▃▅▄▅▅▅▇▆▆▁▅▄▂█▇▇▆▅</td></tr><tr><td>avg_val_loss</td><td>▃▃▃▃▄▃▃▃▃▃▄▄▄▃▃▁▄▄▃▄▃▃▄▄▃▃▃▄▄▃▄▂▃▃▃█▃▄▂▃</td></tr><tr><td>epoch</td><td>▁▁▁▂▂▂▂▂▂▃▃▃▃▃▄▄▄▄▄▄▅▅▅▅▅▅▆▆▆▆▆▇▇▇▇▇▇███</td></tr><tr><td>train_accuracy_%</td><td>▄▇▃▆▃▅▅▆▅▅▄▄▅▅▄▄▂▄▄▂▆▆▅▂▅▄▅▅▂▄▄▅▄▅█▁▃▂▃▄</td></tr><tr><td>train_loss</td><td>▅▁▅▄▆▅▅▃▂▄▆▅▅▄▅▅▅▅▆▆▄▄▃▅▄▅▅▅▇▆▆▁▅▄▂█▇▇▆▅</td></tr><tr><td>val_accuracy_%</td><td>▇█▇▇▇██▇██▇▇▇█▇█▇▇█▇██▇▇▇▇▇▇▇▇▇█▇██▁▇▇▇█</td></tr><tr><td>val_loss</td><td>▃▃▃▃▄▃▃▃▃▃▄▄▄▃▃▁▄▄▃▄▃▃▄▄▃▃▃▄▄▃▄▂▃▃▃█▃▄▂▃</td></tr></table><br/></div><div class=\"wandb-col\"><h3>Run summary:</h3><br/><table class=\"wandb\"><tr><td>avg_train_loss</td><td>2.44111</td></tr><tr><td>avg_val_loss</td><td>2.43712</td></tr><tr><td>epoch</td><td>39</td></tr><tr><td>train_accuracy_%</td><td>10.1125</td></tr><tr><td>train_loss</td><td>117173.2559</td></tr><tr><td>val_accuracy_%</td><td>10.59167</td></tr><tr><td>val_loss</td><td>29245.48617</td></tr></table><br/></div></div>"
      ],
      "text/plain": [
       "<IPython.core.display.HTML object>"
      ]
     },
     "metadata": {},
     "output_type": "display_data"
    },
    {
     "data": {
      "text/html": [
       " View run <strong style=\"color:#cdcd00\">leafy-sweep-16</strong> at: <a href='https://wandb.ai/antvis/SanityCheck_modelSize_7conv3lin_MNIST_noblue/runs/r7dgdz5a' target=\"_blank\">https://wandb.ai/antvis/SanityCheck_modelSize_7conv3lin_MNIST_noblue/runs/r7dgdz5a</a><br/>Synced 4 W&B file(s), 0 media file(s), 0 artifact file(s) and 0 other file(s)"
      ],
      "text/plain": [
       "<IPython.core.display.HTML object>"
      ]
     },
     "metadata": {},
     "output_type": "display_data"
    },
    {
     "data": {
      "text/html": [
       "Find logs at: <code>./wandb/run-20231007_235649-r7dgdz5a/logs</code>"
      ],
      "text/plain": [
       "<IPython.core.display.HTML object>"
      ]
     },
     "metadata": {},
     "output_type": "display_data"
    },
    {
     "name": "stderr",
     "output_type": "stream",
     "text": [
      "\u001b[34m\u001b[1mwandb\u001b[0m: Agent Starting Run: o6kozp6g with config:\n",
      "\u001b[34m\u001b[1mwandb\u001b[0m: \tepochs: 40\n",
      "\u001b[34m\u001b[1mwandb\u001b[0m: \tlearning_rate: 0.0005068123577347166\n",
      "\u001b[34m\u001b[1mwandb\u001b[0m: \tloss_fn: CrossEntropy\n",
      "\u001b[34m\u001b[1mwandb\u001b[0m: \toptimizer: adam\n",
      "\u001b[34m\u001b[1mwandb\u001b[0m: \tweight_decay: 4e-05\n"
     ]
    },
    {
     "data": {
      "text/html": [
       "wandb version 0.15.12 is available!  To upgrade, please run:\n",
       " $ pip install wandb --upgrade"
      ],
      "text/plain": [
       "<IPython.core.display.HTML object>"
      ]
     },
     "metadata": {},
     "output_type": "display_data"
    },
    {
     "data": {
      "text/html": [
       "Tracking run with wandb version 0.15.10"
      ],
      "text/plain": [
       "<IPython.core.display.HTML object>"
      ]
     },
     "metadata": {},
     "output_type": "display_data"
    },
    {
     "data": {
      "text/html": [
       "Run data is saved locally in <code>/its/home/nn268/optics/wandb/run-20231008_042558-o6kozp6g</code>"
      ],
      "text/plain": [
       "<IPython.core.display.HTML object>"
      ]
     },
     "metadata": {},
     "output_type": "display_data"
    },
    {
     "data": {
      "text/html": [
       "Syncing run <strong><a href='https://wandb.ai/antvis/SanityCheck_modelSize_7conv3lin_MNIST_noblue/runs/o6kozp6g' target=\"_blank\">jumping-sweep-17</a></strong> to <a href='https://wandb.ai/antvis/SanityCheck_modelSize_7conv3lin_MNIST_noblue' target=\"_blank\">Weights & Biases</a> (<a href='https://wandb.me/run' target=\"_blank\">docs</a>)<br/>Sweep page: <a href='https://wandb.ai/antvis/SanityCheck_modelSize_7conv3lin_MNIST_noblue/sweeps/pvczenzd' target=\"_blank\">https://wandb.ai/antvis/SanityCheck_modelSize_7conv3lin_MNIST_noblue/sweeps/pvczenzd</a>"
      ],
      "text/plain": [
       "<IPython.core.display.HTML object>"
      ]
     },
     "metadata": {},
     "output_type": "display_data"
    },
    {
     "data": {
      "text/html": [
       " View project at <a href='https://wandb.ai/antvis/SanityCheck_modelSize_7conv3lin_MNIST_noblue' target=\"_blank\">https://wandb.ai/antvis/SanityCheck_modelSize_7conv3lin_MNIST_noblue</a>"
      ],
      "text/plain": [
       "<IPython.core.display.HTML object>"
      ]
     },
     "metadata": {},
     "output_type": "display_data"
    },
    {
     "data": {
      "text/html": [
       " View sweep at <a href='https://wandb.ai/antvis/SanityCheck_modelSize_7conv3lin_MNIST_noblue/sweeps/pvczenzd' target=\"_blank\">https://wandb.ai/antvis/SanityCheck_modelSize_7conv3lin_MNIST_noblue/sweeps/pvczenzd</a>"
      ],
      "text/plain": [
       "<IPython.core.display.HTML object>"
      ]
     },
     "metadata": {},
     "output_type": "display_data"
    },
    {
     "data": {
      "text/html": [
       " View run at <a href='https://wandb.ai/antvis/SanityCheck_modelSize_7conv3lin_MNIST_noblue/runs/o6kozp6g' target=\"_blank\">https://wandb.ai/antvis/SanityCheck_modelSize_7conv3lin_MNIST_noblue/runs/o6kozp6g</a>"
      ],
      "text/plain": [
       "<IPython.core.display.HTML object>"
      ]
     },
     "metadata": {},
     "output_type": "display_data"
    },
    {
     "data": {
      "text/html": [
       "Waiting for W&B process to finish... <strong style=\"color:green\">(success).</strong>"
      ],
      "text/plain": [
       "<IPython.core.display.HTML object>"
      ]
     },
     "metadata": {},
     "output_type": "display_data"
    },
    {
     "name": "stderr",
     "output_type": "stream",
     "text": [
      "Widget Javascript not detected.  It may not be installed or enabled properly.\n"
     ]
    },
    {
     "data": {
      "application/vnd.jupyter.widget-view+json": {
       "model_id": "6ed16f8772c3411d8b029c09ed58aa11"
      }
     },
     "metadata": {},
     "output_type": "display_data"
    },
    {
     "data": {
      "text/html": [
       "<style>\n",
       "    table.wandb td:nth-child(1) { padding: 0 10px; text-align: left ; width: auto;} td:nth-child(2) {text-align: left ; width: 100%}\n",
       "    .wandb-row { display: flex; flex-direction: row; flex-wrap: wrap; justify-content: flex-start; width: 100% }\n",
       "    .wandb-col { display: flex; flex-direction: column; flex-basis: 100%; flex: 1; padding: 10px; }\n",
       "    </style>\n",
       "<div class=\"wandb-row\"><div class=\"wandb-col\"><h3>Run history:</h3><br/><table class=\"wandb\"><tr><td>avg_train_loss</td><td>▁▁▂▂▁▁▁▁▁▁▁▁▁▁▁▁▁▁▁▁▁▁▁▁▆█▁▁▁▁▁▁▁▁▁▁▁▂▁▁</td></tr><tr><td>avg_val_loss</td><td>▁▁▁▁▁▁▁▁▁▁▁▁▁▁▁▁▁▁▁▁▁▁▁▁█▁▁▁▁▁▁▁▁▁▁▁▁▁▁▁</td></tr><tr><td>epoch</td><td>▁▁▁▂▂▂▂▂▂▃▃▃▃▃▄▄▄▄▄▄▅▅▅▅▅▅▆▆▆▆▆▇▇▇▇▇▇███</td></tr><tr><td>train_accuracy_%</td><td>▁▂▂▂▂▂▂▂▂▂▂▂▂▂▂▂▂▂▂▂▂▂▂▂█▂▂▂▂▂▂▂▂▂▂▂▂▂▂▂</td></tr><tr><td>train_loss</td><td>▁▁▂▂▁▁▁▁▁▁▁▁▁▁▁▁▁▁▁▁▁▁▁▁▆█▁▁▁▁▁▁▁▁▁▁▁▂▁▁</td></tr><tr><td>val_accuracy_%</td><td>▁▁█▁▁████▁██▁███▁▁▁▁▁▁▁▁███▁▁▁██▁████▁▁█</td></tr><tr><td>val_loss</td><td>▁▁▁▁▁▁▁▁▁▁▁▁▁▁▁▁▁▁▁▁▁▁▁▁█▁▁▁▁▁▁▁▁▁▁▁▁▁▁▁</td></tr></table><br/></div><div class=\"wandb-col\"><h3>Run summary:</h3><br/><table class=\"wandb\"><tr><td>avg_train_loss</td><td>2.38856</td></tr><tr><td>avg_val_loss</td><td>2.3876</td></tr><tr><td>epoch</td><td>39</td></tr><tr><td>train_accuracy_%</td><td>11.07292</td></tr><tr><td>train_loss</td><td>114651.10002</td></tr><tr><td>val_accuracy_%</td><td>11.39167</td></tr><tr><td>val_loss</td><td>28651.15188</td></tr></table><br/></div></div>"
      ],
      "text/plain": [
       "<IPython.core.display.HTML object>"
      ]
     },
     "metadata": {},
     "output_type": "display_data"
    },
    {
     "data": {
      "text/html": [
       " View run <strong style=\"color:#cdcd00\">jumping-sweep-17</strong> at: <a href='https://wandb.ai/antvis/SanityCheck_modelSize_7conv3lin_MNIST_noblue/runs/o6kozp6g' target=\"_blank\">https://wandb.ai/antvis/SanityCheck_modelSize_7conv3lin_MNIST_noblue/runs/o6kozp6g</a><br/>Synced 4 W&B file(s), 0 media file(s), 0 artifact file(s) and 0 other file(s)"
      ],
      "text/plain": [
       "<IPython.core.display.HTML object>"
      ]
     },
     "metadata": {},
     "output_type": "display_data"
    },
    {
     "data": {
      "text/html": [
       "Find logs at: <code>./wandb/run-20231008_042558-o6kozp6g/logs</code>"
      ],
      "text/plain": [
       "<IPython.core.display.HTML object>"
      ]
     },
     "metadata": {},
     "output_type": "display_data"
    },
    {
     "name": "stderr",
     "output_type": "stream",
     "text": [
      "\u001b[34m\u001b[1mwandb\u001b[0m: Agent Starting Run: b2skpf4e with config:\n",
      "\u001b[34m\u001b[1mwandb\u001b[0m: \tepochs: 40\n",
      "\u001b[34m\u001b[1mwandb\u001b[0m: \tlearning_rate: 0.0039221354522383095\n",
      "\u001b[34m\u001b[1mwandb\u001b[0m: \tloss_fn: CrossEntropy\n",
      "\u001b[34m\u001b[1mwandb\u001b[0m: \toptimizer: adam\n",
      "\u001b[34m\u001b[1mwandb\u001b[0m: \tweight_decay: 1e-05\n"
     ]
    },
    {
     "data": {
      "text/html": [
       "wandb version 0.15.12 is available!  To upgrade, please run:\n",
       " $ pip install wandb --upgrade"
      ],
      "text/plain": [
       "<IPython.core.display.HTML object>"
      ]
     },
     "metadata": {},
     "output_type": "display_data"
    },
    {
     "data": {
      "text/html": [
       "Tracking run with wandb version 0.15.10"
      ],
      "text/plain": [
       "<IPython.core.display.HTML object>"
      ]
     },
     "metadata": {},
     "output_type": "display_data"
    },
    {
     "data": {
      "text/html": [
       "Run data is saved locally in <code>/its/home/nn268/optics/wandb/run-20231008_085209-b2skpf4e</code>"
      ],
      "text/plain": [
       "<IPython.core.display.HTML object>"
      ]
     },
     "metadata": {},
     "output_type": "display_data"
    },
    {
     "data": {
      "text/html": [
       "Syncing run <strong><a href='https://wandb.ai/antvis/SanityCheck_modelSize_7conv3lin_MNIST_noblue/runs/b2skpf4e' target=\"_blank\">olive-sweep-18</a></strong> to <a href='https://wandb.ai/antvis/SanityCheck_modelSize_7conv3lin_MNIST_noblue' target=\"_blank\">Weights & Biases</a> (<a href='https://wandb.me/run' target=\"_blank\">docs</a>)<br/>Sweep page: <a href='https://wandb.ai/antvis/SanityCheck_modelSize_7conv3lin_MNIST_noblue/sweeps/pvczenzd' target=\"_blank\">https://wandb.ai/antvis/SanityCheck_modelSize_7conv3lin_MNIST_noblue/sweeps/pvczenzd</a>"
      ],
      "text/plain": [
       "<IPython.core.display.HTML object>"
      ]
     },
     "metadata": {},
     "output_type": "display_data"
    },
    {
     "data": {
      "text/html": [
       " View project at <a href='https://wandb.ai/antvis/SanityCheck_modelSize_7conv3lin_MNIST_noblue' target=\"_blank\">https://wandb.ai/antvis/SanityCheck_modelSize_7conv3lin_MNIST_noblue</a>"
      ],
      "text/plain": [
       "<IPython.core.display.HTML object>"
      ]
     },
     "metadata": {},
     "output_type": "display_data"
    },
    {
     "data": {
      "text/html": [
       " View sweep at <a href='https://wandb.ai/antvis/SanityCheck_modelSize_7conv3lin_MNIST_noblue/sweeps/pvczenzd' target=\"_blank\">https://wandb.ai/antvis/SanityCheck_modelSize_7conv3lin_MNIST_noblue/sweeps/pvczenzd</a>"
      ],
      "text/plain": [
       "<IPython.core.display.HTML object>"
      ]
     },
     "metadata": {},
     "output_type": "display_data"
    },
    {
     "data": {
      "text/html": [
       " View run at <a href='https://wandb.ai/antvis/SanityCheck_modelSize_7conv3lin_MNIST_noblue/runs/b2skpf4e' target=\"_blank\">https://wandb.ai/antvis/SanityCheck_modelSize_7conv3lin_MNIST_noblue/runs/b2skpf4e</a>"
      ],
      "text/plain": [
       "<IPython.core.display.HTML object>"
      ]
     },
     "metadata": {},
     "output_type": "display_data"
    },
    {
     "data": {
      "text/html": [
       "Waiting for W&B process to finish... <strong style=\"color:green\">(success).</strong>"
      ],
      "text/plain": [
       "<IPython.core.display.HTML object>"
      ]
     },
     "metadata": {},
     "output_type": "display_data"
    },
    {
     "name": "stderr",
     "output_type": "stream",
     "text": [
      "Widget Javascript not detected.  It may not be installed or enabled properly.\n"
     ]
    },
    {
     "data": {
      "application/vnd.jupyter.widget-view+json": {
       "model_id": "400a268ea62746049e0176a20bf78455"
      }
     },
     "metadata": {},
     "output_type": "display_data"
    },
    {
     "data": {
      "text/html": [
       "<style>\n",
       "    table.wandb td:nth-child(1) { padding: 0 10px; text-align: left ; width: auto;} td:nth-child(2) {text-align: left ; width: 100%}\n",
       "    .wandb-row { display: flex; flex-direction: row; flex-wrap: wrap; justify-content: flex-start; width: 100% }\n",
       "    .wandb-col { display: flex; flex-direction: column; flex-basis: 100%; flex: 1; padding: 10px; }\n",
       "    </style>\n",
       "<div class=\"wandb-row\"><div class=\"wandb-col\"><h3>Run history:</h3><br/><table class=\"wandb\"><tr><td>avg_train_loss</td><td>▄▇▅▅▅▄▁▅▅▆▇▄▆█▅▅▆▇▆▆▆▅▆▄█▇▆▆▅▆█▅▆▇▇▇▆▄▅▅</td></tr><tr><td>avg_val_loss</td><td>▂▂▂▂▂▁▂▁▂▂▂▂▂▂▁█▂▁▂▂▂▂▂▂▁▁▁▂▂▂▂▂▂▂▁▂▂▁▂▂</td></tr><tr><td>epoch</td><td>▁▁▁▂▂▂▂▂▂▃▃▃▃▃▄▄▄▄▄▄▅▅▅▅▅▅▆▆▆▆▆▇▇▇▇▇▇███</td></tr><tr><td>train_accuracy_%</td><td>▇▄██▇█▆▇▇▆▄▄▅▁▆▇▅▄▅▅▅▆▅█▂▄▆▅▅▆▃▆▆▄▄▄▆▇█▇</td></tr><tr><td>train_loss</td><td>▄▇▅▅▅▄▁▅▅▆▇▄▆█▅▅▆▇▆▆▆▅▆▄█▇▆▆▅▆█▅▆▇▇▇▆▄▅▅</td></tr><tr><td>val_accuracy_%</td><td>▇▇▇▇▇█▇█▇▇▇▇▇▇█▁▇█▇▇▇▇▇▇███▇▇▇▇▇▇▇█▇▇█▇▇</td></tr><tr><td>val_loss</td><td>▂▂▂▂▂▁▂▁▂▂▂▂▂▂▁█▂▁▂▂▂▂▂▂▁▁▁▂▂▂▂▂▂▂▁▂▂▁▂▂</td></tr></table><br/></div><div class=\"wandb-col\"><h3>Run summary:</h3><br/><table class=\"wandb\"><tr><td>avg_train_loss</td><td>2.43912</td></tr><tr><td>avg_val_loss</td><td>2.44729</td></tr><tr><td>epoch</td><td>39</td></tr><tr><td>train_accuracy_%</td><td>10.31875</td></tr><tr><td>train_loss</td><td>117077.92704</td></tr><tr><td>val_accuracy_%</td><td>9.575</td></tr><tr><td>val_loss</td><td>29367.48617</td></tr></table><br/></div></div>"
      ],
      "text/plain": [
       "<IPython.core.display.HTML object>"
      ]
     },
     "metadata": {},
     "output_type": "display_data"
    },
    {
     "data": {
      "text/html": [
       " View run <strong style=\"color:#cdcd00\">olive-sweep-18</strong> at: <a href='https://wandb.ai/antvis/SanityCheck_modelSize_7conv3lin_MNIST_noblue/runs/b2skpf4e' target=\"_blank\">https://wandb.ai/antvis/SanityCheck_modelSize_7conv3lin_MNIST_noblue/runs/b2skpf4e</a><br/>Synced 4 W&B file(s), 0 media file(s), 0 artifact file(s) and 0 other file(s)"
      ],
      "text/plain": [
       "<IPython.core.display.HTML object>"
      ]
     },
     "metadata": {},
     "output_type": "display_data"
    },
    {
     "data": {
      "text/html": [
       "Find logs at: <code>./wandb/run-20231008_085209-b2skpf4e/logs</code>"
      ],
      "text/plain": [
       "<IPython.core.display.HTML object>"
      ]
     },
     "metadata": {},
     "output_type": "display_data"
    },
    {
     "name": "stderr",
     "output_type": "stream",
     "text": [
      "\u001b[34m\u001b[1mwandb\u001b[0m: Agent Starting Run: so4hb2ay with config:\n",
      "\u001b[34m\u001b[1mwandb\u001b[0m: \tepochs: 40\n",
      "\u001b[34m\u001b[1mwandb\u001b[0m: \tlearning_rate: 3.536269095760522e-05\n",
      "\u001b[34m\u001b[1mwandb\u001b[0m: \tloss_fn: MSE\n",
      "\u001b[34m\u001b[1mwandb\u001b[0m: \toptimizer: adam\n",
      "\u001b[34m\u001b[1mwandb\u001b[0m: \tweight_decay: 2e-05\n"
     ]
    },
    {
     "data": {
      "text/html": [
       "wandb version 0.15.12 is available!  To upgrade, please run:\n",
       " $ pip install wandb --upgrade"
      ],
      "text/plain": [
       "<IPython.core.display.HTML object>"
      ]
     },
     "metadata": {},
     "output_type": "display_data"
    },
    {
     "data": {
      "text/html": [
       "Tracking run with wandb version 0.15.10"
      ],
      "text/plain": [
       "<IPython.core.display.HTML object>"
      ]
     },
     "metadata": {},
     "output_type": "display_data"
    },
    {
     "data": {
      "text/html": [
       "Run data is saved locally in <code>/its/home/nn268/optics/wandb/run-20231008_131641-so4hb2ay</code>"
      ],
      "text/plain": [
       "<IPython.core.display.HTML object>"
      ]
     },
     "metadata": {},
     "output_type": "display_data"
    },
    {
     "data": {
      "text/html": [
       "Syncing run <strong><a href='https://wandb.ai/antvis/SanityCheck_modelSize_7conv3lin_MNIST_noblue/runs/so4hb2ay' target=\"_blank\">firm-sweep-19</a></strong> to <a href='https://wandb.ai/antvis/SanityCheck_modelSize_7conv3lin_MNIST_noblue' target=\"_blank\">Weights & Biases</a> (<a href='https://wandb.me/run' target=\"_blank\">docs</a>)<br/>Sweep page: <a href='https://wandb.ai/antvis/SanityCheck_modelSize_7conv3lin_MNIST_noblue/sweeps/pvczenzd' target=\"_blank\">https://wandb.ai/antvis/SanityCheck_modelSize_7conv3lin_MNIST_noblue/sweeps/pvczenzd</a>"
      ],
      "text/plain": [
       "<IPython.core.display.HTML object>"
      ]
     },
     "metadata": {},
     "output_type": "display_data"
    },
    {
     "data": {
      "text/html": [
       " View project at <a href='https://wandb.ai/antvis/SanityCheck_modelSize_7conv3lin_MNIST_noblue' target=\"_blank\">https://wandb.ai/antvis/SanityCheck_modelSize_7conv3lin_MNIST_noblue</a>"
      ],
      "text/plain": [
       "<IPython.core.display.HTML object>"
      ]
     },
     "metadata": {},
     "output_type": "display_data"
    },
    {
     "data": {
      "text/html": [
       " View sweep at <a href='https://wandb.ai/antvis/SanityCheck_modelSize_7conv3lin_MNIST_noblue/sweeps/pvczenzd' target=\"_blank\">https://wandb.ai/antvis/SanityCheck_modelSize_7conv3lin_MNIST_noblue/sweeps/pvczenzd</a>"
      ],
      "text/plain": [
       "<IPython.core.display.HTML object>"
      ]
     },
     "metadata": {},
     "output_type": "display_data"
    },
    {
     "data": {
      "text/html": [
       " View run at <a href='https://wandb.ai/antvis/SanityCheck_modelSize_7conv3lin_MNIST_noblue/runs/so4hb2ay' target=\"_blank\">https://wandb.ai/antvis/SanityCheck_modelSize_7conv3lin_MNIST_noblue/runs/so4hb2ay</a>"
      ],
      "text/plain": [
       "<IPython.core.display.HTML object>"
      ]
     },
     "metadata": {},
     "output_type": "display_data"
    },
    {
     "data": {
      "text/html": [
       "Waiting for W&B process to finish... <strong style=\"color:green\">(success).</strong>"
      ],
      "text/plain": [
       "<IPython.core.display.HTML object>"
      ]
     },
     "metadata": {},
     "output_type": "display_data"
    },
    {
     "name": "stderr",
     "output_type": "stream",
     "text": [
      "Widget Javascript not detected.  It may not be installed or enabled properly.\n"
     ]
    },
    {
     "data": {
      "application/vnd.jupyter.widget-view+json": {
       "model_id": "4d03ae2abd81493eb093b7d06c12cbc6"
      }
     },
     "metadata": {},
     "output_type": "display_data"
    },
    {
     "data": {
      "text/html": [
       "<style>\n",
       "    table.wandb td:nth-child(1) { padding: 0 10px; text-align: left ; width: auto;} td:nth-child(2) {text-align: left ; width: 100%}\n",
       "    .wandb-row { display: flex; flex-direction: row; flex-wrap: wrap; justify-content: flex-start; width: 100% }\n",
       "    .wandb-col { display: flex; flex-direction: column; flex-basis: 100%; flex: 1; padding: 10px; }\n",
       "    </style>\n",
       "<div class=\"wandb-row\"><div class=\"wandb-col\"><h3>Run history:</h3><br/><table class=\"wandb\"><tr><td>avg_train_loss</td><td>█▂▂▁▂▁▂▁▁▁▁▁▁▁▁▁▁▁▁▁▁▁▁▁▁▁▁▁▁▁▁▁▁▁▁▁▁▁▁▁</td></tr><tr><td>avg_val_loss</td><td>▇██▇▆▆▃▄▄▄▂▂▂▃▄▂▄▂▂▃▁▄▁▂▁▄▄▃▄▂▃▄▂▄▃▄▃▃▃▃</td></tr><tr><td>epoch</td><td>▁▁▁▂▂▂▂▂▂▃▃▃▃▃▄▄▄▄▄▄▅▅▅▅▅▅▆▆▆▆▆▇▇▇▇▇▇███</td></tr><tr><td>train_accuracy_%</td><td>▁▇███▇█▇███▇▇▇▇██▇▇█▇▇▇█▇▇▇▇▆▇▇▇▇██▇▇▇▇▇</td></tr><tr><td>train_loss</td><td>█▂▂▁▂▁▂▁▁▁▁▁▁▁▁▁▁▁▁▁▁▁▁▁▁▁▁▁▁▁▁▁▁▁▁▁▁▁▁▁</td></tr><tr><td>val_accuracy_%</td><td>▁▁▁▁▁▁▁▁▁▁▁▁▁▁▁▁▁▁▁▁▁▁▁▁▁▁▁▁▁▁▁▁▁▁▁▁▁▁▁▁</td></tr><tr><td>val_loss</td><td>▇██▇▆▆▃▄▄▄▂▂▂▃▄▂▄▂▂▃▁▄▁▂▁▄▄▃▄▂▃▄▂▄▃▄▃▃▃▃</td></tr></table><br/></div><div class=\"wandb-col\"><h3>Run summary:</h3><br/><table class=\"wandb\"><tr><td>avg_train_loss</td><td>0.08181</td></tr><tr><td>avg_val_loss</td><td>0.08181</td></tr><tr><td>epoch</td><td>39</td></tr><tr><td>train_accuracy_%</td><td>11.20833</td></tr><tr><td>train_loss</td><td>3926.90187</td></tr><tr><td>val_accuracy_%</td><td>11.24167</td></tr><tr><td>val_loss</td><td>981.6866</td></tr></table><br/></div></div>"
      ],
      "text/plain": [
       "<IPython.core.display.HTML object>"
      ]
     },
     "metadata": {},
     "output_type": "display_data"
    },
    {
     "data": {
      "text/html": [
       " View run <strong style=\"color:#cdcd00\">firm-sweep-19</strong> at: <a href='https://wandb.ai/antvis/SanityCheck_modelSize_7conv3lin_MNIST_noblue/runs/so4hb2ay' target=\"_blank\">https://wandb.ai/antvis/SanityCheck_modelSize_7conv3lin_MNIST_noblue/runs/so4hb2ay</a><br/>Synced 4 W&B file(s), 0 media file(s), 0 artifact file(s) and 0 other file(s)"
      ],
      "text/plain": [
       "<IPython.core.display.HTML object>"
      ]
     },
     "metadata": {},
     "output_type": "display_data"
    },
    {
     "data": {
      "text/html": [
       "Find logs at: <code>./wandb/run-20231008_131641-so4hb2ay/logs</code>"
      ],
      "text/plain": [
       "<IPython.core.display.HTML object>"
      ]
     },
     "metadata": {},
     "output_type": "display_data"
    },
    {
     "name": "stderr",
     "output_type": "stream",
     "text": [
      "\u001b[34m\u001b[1mwandb\u001b[0m: Sweep Agent: Waiting for job.\n",
      "\u001b[34m\u001b[1mwandb\u001b[0m: Job received.\n",
      "\u001b[34m\u001b[1mwandb\u001b[0m: Agent Starting Run: r9fhmqzq with config:\n",
      "\u001b[34m\u001b[1mwandb\u001b[0m: \tepochs: 40\n",
      "\u001b[34m\u001b[1mwandb\u001b[0m: \tlearning_rate: 0.002764613309772363\n",
      "\u001b[34m\u001b[1mwandb\u001b[0m: \tloss_fn: CrossEntropy\n",
      "\u001b[34m\u001b[1mwandb\u001b[0m: \toptimizer: adam\n",
      "\u001b[34m\u001b[1mwandb\u001b[0m: \tweight_decay: 2e-05\n"
     ]
    },
    {
     "data": {
      "text/html": [
       "wandb version 0.15.12 is available!  To upgrade, please run:\n",
       " $ pip install wandb --upgrade"
      ],
      "text/plain": [
       "<IPython.core.display.HTML object>"
      ]
     },
     "metadata": {},
     "output_type": "display_data"
    },
    {
     "data": {
      "text/html": [
       "Tracking run with wandb version 0.15.10"
      ],
      "text/plain": [
       "<IPython.core.display.HTML object>"
      ]
     },
     "metadata": {},
     "output_type": "display_data"
    },
    {
     "data": {
      "text/html": [
       "Run data is saved locally in <code>/its/home/nn268/optics/wandb/run-20231008_174353-r9fhmqzq</code>"
      ],
      "text/plain": [
       "<IPython.core.display.HTML object>"
      ]
     },
     "metadata": {},
     "output_type": "display_data"
    },
    {
     "data": {
      "text/html": [
       "Syncing run <strong><a href='https://wandb.ai/antvis/SanityCheck_modelSize_7conv3lin_MNIST_noblue/runs/r9fhmqzq' target=\"_blank\">daily-sweep-20</a></strong> to <a href='https://wandb.ai/antvis/SanityCheck_modelSize_7conv3lin_MNIST_noblue' target=\"_blank\">Weights & Biases</a> (<a href='https://wandb.me/run' target=\"_blank\">docs</a>)<br/>Sweep page: <a href='https://wandb.ai/antvis/SanityCheck_modelSize_7conv3lin_MNIST_noblue/sweeps/pvczenzd' target=\"_blank\">https://wandb.ai/antvis/SanityCheck_modelSize_7conv3lin_MNIST_noblue/sweeps/pvczenzd</a>"
      ],
      "text/plain": [
       "<IPython.core.display.HTML object>"
      ]
     },
     "metadata": {},
     "output_type": "display_data"
    },
    {
     "data": {
      "text/html": [
       " View project at <a href='https://wandb.ai/antvis/SanityCheck_modelSize_7conv3lin_MNIST_noblue' target=\"_blank\">https://wandb.ai/antvis/SanityCheck_modelSize_7conv3lin_MNIST_noblue</a>"
      ],
      "text/plain": [
       "<IPython.core.display.HTML object>"
      ]
     },
     "metadata": {},
     "output_type": "display_data"
    },
    {
     "data": {
      "text/html": [
       " View sweep at <a href='https://wandb.ai/antvis/SanityCheck_modelSize_7conv3lin_MNIST_noblue/sweeps/pvczenzd' target=\"_blank\">https://wandb.ai/antvis/SanityCheck_modelSize_7conv3lin_MNIST_noblue/sweeps/pvczenzd</a>"
      ],
      "text/plain": [
       "<IPython.core.display.HTML object>"
      ]
     },
     "metadata": {},
     "output_type": "display_data"
    },
    {
     "data": {
      "text/html": [
       " View run at <a href='https://wandb.ai/antvis/SanityCheck_modelSize_7conv3lin_MNIST_noblue/runs/r9fhmqzq' target=\"_blank\">https://wandb.ai/antvis/SanityCheck_modelSize_7conv3lin_MNIST_noblue/runs/r9fhmqzq</a>"
      ],
      "text/plain": [
       "<IPython.core.display.HTML object>"
      ]
     },
     "metadata": {},
     "output_type": "display_data"
    },
    {
     "data": {
      "text/html": [
       "Waiting for W&B process to finish... <strong style=\"color:green\">(success).</strong>"
      ],
      "text/plain": [
       "<IPython.core.display.HTML object>"
      ]
     },
     "metadata": {},
     "output_type": "display_data"
    },
    {
     "name": "stderr",
     "output_type": "stream",
     "text": [
      "Widget Javascript not detected.  It may not be installed or enabled properly.\n"
     ]
    },
    {
     "data": {
      "application/vnd.jupyter.widget-view+json": {
       "model_id": "16b94da9ec90448c9900d747df2f1682"
      }
     },
     "metadata": {},
     "output_type": "display_data"
    },
    {
     "data": {
      "text/html": [
       "<style>\n",
       "    table.wandb td:nth-child(1) { padding: 0 10px; text-align: left ; width: auto;} td:nth-child(2) {text-align: left ; width: 100%}\n",
       "    .wandb-row { display: flex; flex-direction: row; flex-wrap: wrap; justify-content: flex-start; width: 100% }\n",
       "    .wandb-col { display: flex; flex-direction: column; flex-basis: 100%; flex: 1; padding: 10px; }\n",
       "    </style>\n",
       "<div class=\"wandb-row\"><div class=\"wandb-col\"><h3>Run history:</h3><br/><table class=\"wandb\"><tr><td>avg_train_loss</td><td>▄▄▆▄▄▆▅▄▆▂▇▆▁▄▆▅▂▆▂██▄▅▂▃▅▅▅▁▃▂▆▄▅▃▃▃▁▂▅</td></tr><tr><td>avg_val_loss</td><td>▆▇▇▆██▇▆█▇▆▆▆▇▇▆▆█▁▆▇██▆██▇▆▁██▆▆▆██▆▆█▆</td></tr><tr><td>epoch</td><td>▁▁▁▂▂▂▂▂▂▃▃▃▃▃▄▄▄▄▄▄▅▅▅▅▅▅▆▆▆▆▆▇▇▇▇▇▇███</td></tr><tr><td>train_accuracy_%</td><td>▃▄▄▅▆▄▅▄▄▄▁▄▇▅▄▅█▄▆▂▃▅▅▇▆▅▅▅▅▆▅▄▆▅▃▄▅▆▆▅</td></tr><tr><td>train_loss</td><td>▄▄▆▄▄▆▅▄▆▂▇▆▁▄▆▅▂▆▂██▄▅▂▃▅▅▅▁▃▂▆▄▅▃▃▃▁▂▅</td></tr><tr><td>val_accuracy_%</td><td>▆▄▄█▁▃▄▆▂▄▆▆▆▅▅█▆▁██▄▃▂█▂▂▅█▅▃▃█▆▆▁▂█▆▂█</td></tr><tr><td>val_loss</td><td>▆▇▇▆██▇▆█▇▆▆▆▇▇▆▆█▁▆▇██▆██▇▆▁██▆▆▆██▆▆█▆</td></tr></table><br/></div><div class=\"wandb-col\"><h3>Run summary:</h3><br/><table class=\"wandb\"><tr><td>avg_train_loss</td><td>2.44091</td></tr><tr><td>avg_val_loss</td><td>2.43271</td></tr><tr><td>epoch</td><td>39</td></tr><tr><td>train_accuracy_%</td><td>10.13333</td></tr><tr><td>train_loss</td><td>117163.82812</td></tr><tr><td>val_accuracy_%</td><td>11.03333</td></tr><tr><td>val_loss</td><td>29192.48617</td></tr></table><br/></div></div>"
      ],
      "text/plain": [
       "<IPython.core.display.HTML object>"
      ]
     },
     "metadata": {},
     "output_type": "display_data"
    },
    {
     "data": {
      "text/html": [
       " View run <strong style=\"color:#cdcd00\">daily-sweep-20</strong> at: <a href='https://wandb.ai/antvis/SanityCheck_modelSize_7conv3lin_MNIST_noblue/runs/r9fhmqzq' target=\"_blank\">https://wandb.ai/antvis/SanityCheck_modelSize_7conv3lin_MNIST_noblue/runs/r9fhmqzq</a><br/>Synced 4 W&B file(s), 0 media file(s), 0 artifact file(s) and 0 other file(s)"
      ],
      "text/plain": [
       "<IPython.core.display.HTML object>"
      ]
     },
     "metadata": {},
     "output_type": "display_data"
    },
    {
     "data": {
      "text/html": [
       "Find logs at: <code>./wandb/run-20231008_174353-r9fhmqzq/logs</code>"
      ],
      "text/plain": [
       "<IPython.core.display.HTML object>"
      ]
     },
     "metadata": {},
     "output_type": "display_data"
    },
    {
     "name": "stderr",
     "output_type": "stream",
     "text": [
      "\u001b[34m\u001b[1mwandb\u001b[0m: Sweep Agent: Waiting for job.\n",
      "\u001b[34m\u001b[1mwandb\u001b[0m: Job received.\n",
      "\u001b[34m\u001b[1mwandb\u001b[0m: Agent Starting Run: n90s6ezj with config:\n",
      "\u001b[34m\u001b[1mwandb\u001b[0m: \tepochs: 40\n",
      "\u001b[34m\u001b[1mwandb\u001b[0m: \tlearning_rate: 0.0019181501008686153\n",
      "\u001b[34m\u001b[1mwandb\u001b[0m: \tloss_fn: CrossEntropy\n",
      "\u001b[34m\u001b[1mwandb\u001b[0m: \toptimizer: adam\n",
      "\u001b[34m\u001b[1mwandb\u001b[0m: \tweight_decay: 1e-05\n"
     ]
    },
    {
     "data": {
      "text/html": [
       "wandb version 0.15.12 is available!  To upgrade, please run:\n",
       " $ pip install wandb --upgrade"
      ],
      "text/plain": [
       "<IPython.core.display.HTML object>"
      ]
     },
     "metadata": {},
     "output_type": "display_data"
    },
    {
     "data": {
      "text/html": [
       "Tracking run with wandb version 0.15.10"
      ],
      "text/plain": [
       "<IPython.core.display.HTML object>"
      ]
     },
     "metadata": {},
     "output_type": "display_data"
    },
    {
     "data": {
      "text/html": [
       "Run data is saved locally in <code>/its/home/nn268/optics/wandb/run-20231008_220834-n90s6ezj</code>"
      ],
      "text/plain": [
       "<IPython.core.display.HTML object>"
      ]
     },
     "metadata": {},
     "output_type": "display_data"
    },
    {
     "data": {
      "text/html": [
       "Syncing run <strong><a href='https://wandb.ai/antvis/SanityCheck_modelSize_7conv3lin_MNIST_noblue/runs/n90s6ezj' target=\"_blank\">volcanic-sweep-21</a></strong> to <a href='https://wandb.ai/antvis/SanityCheck_modelSize_7conv3lin_MNIST_noblue' target=\"_blank\">Weights & Biases</a> (<a href='https://wandb.me/run' target=\"_blank\">docs</a>)<br/>Sweep page: <a href='https://wandb.ai/antvis/SanityCheck_modelSize_7conv3lin_MNIST_noblue/sweeps/pvczenzd' target=\"_blank\">https://wandb.ai/antvis/SanityCheck_modelSize_7conv3lin_MNIST_noblue/sweeps/pvczenzd</a>"
      ],
      "text/plain": [
       "<IPython.core.display.HTML object>"
      ]
     },
     "metadata": {},
     "output_type": "display_data"
    },
    {
     "data": {
      "text/html": [
       " View project at <a href='https://wandb.ai/antvis/SanityCheck_modelSize_7conv3lin_MNIST_noblue' target=\"_blank\">https://wandb.ai/antvis/SanityCheck_modelSize_7conv3lin_MNIST_noblue</a>"
      ],
      "text/plain": [
       "<IPython.core.display.HTML object>"
      ]
     },
     "metadata": {},
     "output_type": "display_data"
    },
    {
     "data": {
      "text/html": [
       " View sweep at <a href='https://wandb.ai/antvis/SanityCheck_modelSize_7conv3lin_MNIST_noblue/sweeps/pvczenzd' target=\"_blank\">https://wandb.ai/antvis/SanityCheck_modelSize_7conv3lin_MNIST_noblue/sweeps/pvczenzd</a>"
      ],
      "text/plain": [
       "<IPython.core.display.HTML object>"
      ]
     },
     "metadata": {},
     "output_type": "display_data"
    },
    {
     "data": {
      "text/html": [
       " View run at <a href='https://wandb.ai/antvis/SanityCheck_modelSize_7conv3lin_MNIST_noblue/runs/n90s6ezj' target=\"_blank\">https://wandb.ai/antvis/SanityCheck_modelSize_7conv3lin_MNIST_noblue/runs/n90s6ezj</a>"
      ],
      "text/plain": [
       "<IPython.core.display.HTML object>"
      ]
     },
     "metadata": {},
     "output_type": "display_data"
    },
    {
     "data": {
      "text/html": [
       "Waiting for W&B process to finish... <strong style=\"color:green\">(success).</strong>"
      ],
      "text/plain": [
       "<IPython.core.display.HTML object>"
      ]
     },
     "metadata": {},
     "output_type": "display_data"
    },
    {
     "name": "stderr",
     "output_type": "stream",
     "text": [
      "Widget Javascript not detected.  It may not be installed or enabled properly.\n"
     ]
    },
    {
     "data": {
      "application/vnd.jupyter.widget-view+json": {
       "model_id": "c3c3cb62869544dab4f73f6182d98c06"
      }
     },
     "metadata": {},
     "output_type": "display_data"
    },
    {
     "data": {
      "text/html": [
       "<style>\n",
       "    table.wandb td:nth-child(1) { padding: 0 10px; text-align: left ; width: auto;} td:nth-child(2) {text-align: left ; width: 100%}\n",
       "    .wandb-row { display: flex; flex-direction: row; flex-wrap: wrap; justify-content: flex-start; width: 100% }\n",
       "    .wandb-col { display: flex; flex-direction: column; flex-basis: 100%; flex: 1; padding: 10px; }\n",
       "    </style>\n",
       "<div class=\"wandb-row\"><div class=\"wandb-col\"><h3>Run history:</h3><br/><table class=\"wandb\"><tr><td>avg_train_loss</td><td>▃▆▄▇▇▅▄▆▃▅▅▆▃▅▇▂▅▄▅▆▄█▃▄▆▅▆▄▁▆▃▅▄▄▄▇▃▄▅▃</td></tr><tr><td>avg_val_loss</td><td>▄▃▄▄▃▃▁█▁▃▄▄▃▁▄▃▃▃▃▃▄▃▁▄▃▃▃▁▃▄▃▄▁▄▁▄▃▄▄▁</td></tr><tr><td>epoch</td><td>▁▁▁▂▂▂▂▂▂▃▃▃▃▃▄▄▄▄▄▄▅▅▅▅▅▅▆▆▆▆▆▇▇▇▇▇▇███</td></tr><tr><td>train_accuracy_%</td><td>▆▆▇▄▁▇▇▄▇▅▆▆▆▇▅█▇▆▆▅▄▃▇▅▆▅▅▆▇▆▆▆▇▅▇▃█▆▆▆</td></tr><tr><td>train_loss</td><td>▃▆▄▇▇▅▄▆▃▅▅▆▃▅▇▂▅▄▅▆▄█▃▄▆▅▆▄▁▆▃▅▄▄▄▇▃▄▅▃</td></tr><tr><td>val_accuracy_%</td><td>▇█▇▇███▁██▇▇██▇█▇███▇██▇▇▇███▇█▇█▇█▇█▇▇█</td></tr><tr><td>val_loss</td><td>▄▃▄▄▃▃▁█▁▃▄▄▃▁▄▃▃▃▃▃▄▃▁▄▃▃▃▁▃▄▃▄▁▄▁▄▃▄▄▁</td></tr></table><br/></div><div class=\"wandb-col\"><h3>Run summary:</h3><br/><table class=\"wandb\"><tr><td>avg_train_loss</td><td>2.42285</td></tr><tr><td>avg_val_loss</td><td>2.38913</td></tr><tr><td>epoch</td><td>39</td></tr><tr><td>train_accuracy_%</td><td>10.18125</td></tr><tr><td>train_loss</td><td>116296.61571</td></tr><tr><td>val_accuracy_%</td><td>10.85</td></tr><tr><td>val_loss</td><td>28669.60467</td></tr></table><br/></div></div>"
      ],
      "text/plain": [
       "<IPython.core.display.HTML object>"
      ]
     },
     "metadata": {},
     "output_type": "display_data"
    },
    {
     "data": {
      "text/html": [
       " View run <strong style=\"color:#cdcd00\">volcanic-sweep-21</strong> at: <a href='https://wandb.ai/antvis/SanityCheck_modelSize_7conv3lin_MNIST_noblue/runs/n90s6ezj' target=\"_blank\">https://wandb.ai/antvis/SanityCheck_modelSize_7conv3lin_MNIST_noblue/runs/n90s6ezj</a><br/>Synced 4 W&B file(s), 0 media file(s), 0 artifact file(s) and 0 other file(s)"
      ],
      "text/plain": [
       "<IPython.core.display.HTML object>"
      ]
     },
     "metadata": {},
     "output_type": "display_data"
    },
    {
     "data": {
      "text/html": [
       "Find logs at: <code>./wandb/run-20231008_220834-n90s6ezj/logs</code>"
      ],
      "text/plain": [
       "<IPython.core.display.HTML object>"
      ]
     },
     "metadata": {},
     "output_type": "display_data"
    },
    {
     "name": "stderr",
     "output_type": "stream",
     "text": [
      "\u001b[34m\u001b[1mwandb\u001b[0m: Agent Starting Run: eobvy6yd with config:\n",
      "\u001b[34m\u001b[1mwandb\u001b[0m: \tepochs: 40\n",
      "\u001b[34m\u001b[1mwandb\u001b[0m: \tlearning_rate: 9.124234125777424e-05\n",
      "\u001b[34m\u001b[1mwandb\u001b[0m: \tloss_fn: CrossEntropy\n",
      "\u001b[34m\u001b[1mwandb\u001b[0m: \toptimizer: adam\n",
      "\u001b[34m\u001b[1mwandb\u001b[0m: \tweight_decay: 2e-05\n"
     ]
    },
    {
     "data": {
      "text/html": [
       "wandb version 0.15.12 is available!  To upgrade, please run:\n",
       " $ pip install wandb --upgrade"
      ],
      "text/plain": [
       "<IPython.core.display.HTML object>"
      ]
     },
     "metadata": {},
     "output_type": "display_data"
    },
    {
     "data": {
      "text/html": [
       "Tracking run with wandb version 0.15.10"
      ],
      "text/plain": [
       "<IPython.core.display.HTML object>"
      ]
     },
     "metadata": {},
     "output_type": "display_data"
    },
    {
     "data": {
      "text/html": [
       "Run data is saved locally in <code>/its/home/nn268/optics/wandb/run-20231009_022451-eobvy6yd</code>"
      ],
      "text/plain": [
       "<IPython.core.display.HTML object>"
      ]
     },
     "metadata": {},
     "output_type": "display_data"
    },
    {
     "data": {
      "text/html": [
       "Syncing run <strong><a href='https://wandb.ai/antvis/SanityCheck_modelSize_7conv3lin_MNIST_noblue/runs/eobvy6yd' target=\"_blank\">comic-sweep-22</a></strong> to <a href='https://wandb.ai/antvis/SanityCheck_modelSize_7conv3lin_MNIST_noblue' target=\"_blank\">Weights & Biases</a> (<a href='https://wandb.me/run' target=\"_blank\">docs</a>)<br/>Sweep page: <a href='https://wandb.ai/antvis/SanityCheck_modelSize_7conv3lin_MNIST_noblue/sweeps/pvczenzd' target=\"_blank\">https://wandb.ai/antvis/SanityCheck_modelSize_7conv3lin_MNIST_noblue/sweeps/pvczenzd</a>"
      ],
      "text/plain": [
       "<IPython.core.display.HTML object>"
      ]
     },
     "metadata": {},
     "output_type": "display_data"
    },
    {
     "data": {
      "text/html": [
       " View project at <a href='https://wandb.ai/antvis/SanityCheck_modelSize_7conv3lin_MNIST_noblue' target=\"_blank\">https://wandb.ai/antvis/SanityCheck_modelSize_7conv3lin_MNIST_noblue</a>"
      ],
      "text/plain": [
       "<IPython.core.display.HTML object>"
      ]
     },
     "metadata": {},
     "output_type": "display_data"
    },
    {
     "data": {
      "text/html": [
       " View sweep at <a href='https://wandb.ai/antvis/SanityCheck_modelSize_7conv3lin_MNIST_noblue/sweeps/pvczenzd' target=\"_blank\">https://wandb.ai/antvis/SanityCheck_modelSize_7conv3lin_MNIST_noblue/sweeps/pvczenzd</a>"
      ],
      "text/plain": [
       "<IPython.core.display.HTML object>"
      ]
     },
     "metadata": {},
     "output_type": "display_data"
    },
    {
     "data": {
      "text/html": [
       " View run at <a href='https://wandb.ai/antvis/SanityCheck_modelSize_7conv3lin_MNIST_noblue/runs/eobvy6yd' target=\"_blank\">https://wandb.ai/antvis/SanityCheck_modelSize_7conv3lin_MNIST_noblue/runs/eobvy6yd</a>"
      ],
      "text/plain": [
       "<IPython.core.display.HTML object>"
      ]
     },
     "metadata": {},
     "output_type": "display_data"
    },
    {
     "data": {
      "text/html": [
       "Waiting for W&B process to finish... <strong style=\"color:green\">(success).</strong>"
      ],
      "text/plain": [
       "<IPython.core.display.HTML object>"
      ]
     },
     "metadata": {},
     "output_type": "display_data"
    },
    {
     "name": "stderr",
     "output_type": "stream",
     "text": [
      "Widget Javascript not detected.  It may not be installed or enabled properly.\n"
     ]
    },
    {
     "data": {
      "application/vnd.jupyter.widget-view+json": {
       "model_id": "a9ace62cc383413681955910abceb9e7"
      }
     },
     "metadata": {},
     "output_type": "display_data"
    },
    {
     "data": {
      "text/html": [
       "<style>\n",
       "    table.wandb td:nth-child(1) { padding: 0 10px; text-align: left ; width: auto;} td:nth-child(2) {text-align: left ; width: 100%}\n",
       "    .wandb-row { display: flex; flex-direction: row; flex-wrap: wrap; justify-content: flex-start; width: 100% }\n",
       "    .wandb-col { display: flex; flex-direction: column; flex-basis: 100%; flex: 1; padding: 10px; }\n",
       "    </style>\n",
       "<div class=\"wandb-row\"><div class=\"wandb-col\"><h3>Run history:</h3><br/><table class=\"wandb\"><tr><td>avg_train_loss</td><td>▅▁▁▂▁▂▃▃▅▅▄▄▄▅▅▆▇█▇█▇▇▇▇▆▆▆▆▆▆▆▆▅▆▆▆▆▆▅▅</td></tr><tr><td>avg_val_loss</td><td>▁▂▁▃▂▃▂▁▅▃▃▃▄▄▅▇▇▆█▆▆▆▆▆▆▆▅▅▆▅▆▅▆▆▅█▅▅▅▅</td></tr><tr><td>epoch</td><td>▁▁▁▂▂▂▂▂▂▃▃▃▃▃▄▄▄▄▄▄▅▅▅▅▅▅▆▆▆▆▆▇▇▇▇▇▇███</td></tr><tr><td>train_accuracy_%</td><td>▄██▇█▇▆▆▄▄▅▅▅▄▄▃▂▁▂▁▂▂▂▂▃▃▃▃▃▃▃▃▄▃▃▃▃▃▄▄</td></tr><tr><td>train_loss</td><td>▅▁▁▂▁▂▃▃▅▅▄▄▄▅▅▆▇█▇█▇▇▇▇▆▆▆▆▆▆▆▆▅▆▆▆▆▆▅▅</td></tr><tr><td>val_accuracy_%</td><td>█▇█▆▇▆▇█▄▆▆▆▅▅▄▂▂▃▁▃▃▃▃▃▃▃▄▄▃▄▃▄▃▃▄▁▄▄▄▄</td></tr><tr><td>val_loss</td><td>▁▂▁▃▂▃▂▁▅▃▃▃▄▄▅▇▇▆█▆▆▆▆▆▆▆▅▅▆▅▆▅▆▆▅█▅▅▅▅</td></tr></table><br/></div><div class=\"wandb-col\"><h3>Run summary:</h3><br/><table class=\"wandb\"><tr><td>avg_train_loss</td><td>1.99071</td></tr><tr><td>avg_val_loss</td><td>1.95391</td></tr><tr><td>epoch</td><td>39</td></tr><tr><td>train_accuracy_%</td><td>55.23333</td></tr><tr><td>train_loss</td><td>95554.31643</td></tr><tr><td>val_accuracy_%</td><td>58.90833</td></tr><tr><td>val_loss</td><td>23446.86374</td></tr></table><br/></div></div>"
      ],
      "text/plain": [
       "<IPython.core.display.HTML object>"
      ]
     },
     "metadata": {},
     "output_type": "display_data"
    },
    {
     "data": {
      "text/html": [
       " View run <strong style=\"color:#cdcd00\">comic-sweep-22</strong> at: <a href='https://wandb.ai/antvis/SanityCheck_modelSize_7conv3lin_MNIST_noblue/runs/eobvy6yd' target=\"_blank\">https://wandb.ai/antvis/SanityCheck_modelSize_7conv3lin_MNIST_noblue/runs/eobvy6yd</a><br/>Synced 4 W&B file(s), 0 media file(s), 0 artifact file(s) and 0 other file(s)"
      ],
      "text/plain": [
       "<IPython.core.display.HTML object>"
      ]
     },
     "metadata": {},
     "output_type": "display_data"
    },
    {
     "data": {
      "text/html": [
       "Find logs at: <code>./wandb/run-20231009_022451-eobvy6yd/logs</code>"
      ],
      "text/plain": [
       "<IPython.core.display.HTML object>"
      ]
     },
     "metadata": {},
     "output_type": "display_data"
    },
    {
     "name": "stderr",
     "output_type": "stream",
     "text": [
      "\u001b[34m\u001b[1mwandb\u001b[0m: Sweep Agent: Waiting for job.\n",
      "\u001b[34m\u001b[1mwandb\u001b[0m: Job received.\n",
      "\u001b[34m\u001b[1mwandb\u001b[0m: Agent Starting Run: ewyiejyk with config:\n",
      "\u001b[34m\u001b[1mwandb\u001b[0m: \tepochs: 40\n",
      "\u001b[34m\u001b[1mwandb\u001b[0m: \tlearning_rate: 1.0602720649892252e-05\n",
      "\u001b[34m\u001b[1mwandb\u001b[0m: \tloss_fn: CrossEntropy\n",
      "\u001b[34m\u001b[1mwandb\u001b[0m: \toptimizer: adam\n",
      "\u001b[34m\u001b[1mwandb\u001b[0m: \tweight_decay: 2e-05\n"
     ]
    },
    {
     "data": {
      "text/html": [
       "wandb version 0.15.12 is available!  To upgrade, please run:\n",
       " $ pip install wandb --upgrade"
      ],
      "text/plain": [
       "<IPython.core.display.HTML object>"
      ]
     },
     "metadata": {},
     "output_type": "display_data"
    },
    {
     "data": {
      "text/html": [
       "Tracking run with wandb version 0.15.10"
      ],
      "text/plain": [
       "<IPython.core.display.HTML object>"
      ]
     },
     "metadata": {},
     "output_type": "display_data"
    },
    {
     "data": {
      "text/html": [
       "Run data is saved locally in <code>/its/home/nn268/optics/wandb/run-20231009_062234-ewyiejyk</code>"
      ],
      "text/plain": [
       "<IPython.core.display.HTML object>"
      ]
     },
     "metadata": {},
     "output_type": "display_data"
    },
    {
     "data": {
      "text/html": [
       "Syncing run <strong><a href='https://wandb.ai/antvis/SanityCheck_modelSize_7conv3lin_MNIST_noblue/runs/ewyiejyk' target=\"_blank\">pretty-sweep-23</a></strong> to <a href='https://wandb.ai/antvis/SanityCheck_modelSize_7conv3lin_MNIST_noblue' target=\"_blank\">Weights & Biases</a> (<a href='https://wandb.me/run' target=\"_blank\">docs</a>)<br/>Sweep page: <a href='https://wandb.ai/antvis/SanityCheck_modelSize_7conv3lin_MNIST_noblue/sweeps/pvczenzd' target=\"_blank\">https://wandb.ai/antvis/SanityCheck_modelSize_7conv3lin_MNIST_noblue/sweeps/pvczenzd</a>"
      ],
      "text/plain": [
       "<IPython.core.display.HTML object>"
      ]
     },
     "metadata": {},
     "output_type": "display_data"
    },
    {
     "data": {
      "text/html": [
       " View project at <a href='https://wandb.ai/antvis/SanityCheck_modelSize_7conv3lin_MNIST_noblue' target=\"_blank\">https://wandb.ai/antvis/SanityCheck_modelSize_7conv3lin_MNIST_noblue</a>"
      ],
      "text/plain": [
       "<IPython.core.display.HTML object>"
      ]
     },
     "metadata": {},
     "output_type": "display_data"
    },
    {
     "data": {
      "text/html": [
       " View sweep at <a href='https://wandb.ai/antvis/SanityCheck_modelSize_7conv3lin_MNIST_noblue/sweeps/pvczenzd' target=\"_blank\">https://wandb.ai/antvis/SanityCheck_modelSize_7conv3lin_MNIST_noblue/sweeps/pvczenzd</a>"
      ],
      "text/plain": [
       "<IPython.core.display.HTML object>"
      ]
     },
     "metadata": {},
     "output_type": "display_data"
    },
    {
     "data": {
      "text/html": [
       " View run at <a href='https://wandb.ai/antvis/SanityCheck_modelSize_7conv3lin_MNIST_noblue/runs/ewyiejyk' target=\"_blank\">https://wandb.ai/antvis/SanityCheck_modelSize_7conv3lin_MNIST_noblue/runs/ewyiejyk</a>"
      ],
      "text/plain": [
       "<IPython.core.display.HTML object>"
      ]
     },
     "metadata": {},
     "output_type": "display_data"
    },
    {
     "data": {
      "text/html": [
       "Waiting for W&B process to finish... <strong style=\"color:green\">(success).</strong>"
      ],
      "text/plain": [
       "<IPython.core.display.HTML object>"
      ]
     },
     "metadata": {},
     "output_type": "display_data"
    },
    {
     "data": {
      "text/html": [
       "<style>\n",
       "    table.wandb td:nth-child(1) { padding: 0 10px; text-align: left ; width: auto;} td:nth-child(2) {text-align: left ; width: 100%}\n",
       "    .wandb-row { display: flex; flex-direction: row; flex-wrap: wrap; justify-content: flex-start; width: 100% }\n",
       "    .wandb-col { display: flex; flex-direction: column; flex-basis: 100%; flex: 1; padding: 10px; }\n",
       "    </style>\n",
       "<div class=\"wandb-row\"><div class=\"wandb-col\"><h3>Run history:</h3><br/><table class=\"wandb\"><tr><td>avg_train_loss</td><td>█▅▄▃▃▃▃▃▃▃▂▂▂▁▁▁▁▁▁▁▁▁▁▁▁▁▁▁▁▁▁▁▁▁▁▁▁▁▁▁</td></tr><tr><td>avg_val_loss</td><td>█▅▅▄▄▄▄▄▄▄▃▂▂▂▁▁▁▁▁▁▁▁▁▁▁▁▁▁▁▁▁▁▁▁▁▁▁▁▁▁</td></tr><tr><td>epoch</td><td>▁▁▁▂▂▂▂▂▂▃▃▃▃▃▄▄▄▄▄▄▅▅▅▅▅▅▆▆▆▆▆▇▇▇▇▇▇███</td></tr><tr><td>train_accuracy_%</td><td>▁▄▅▆▆▆▆▆▆▆▇▇▇███████████████████████████</td></tr><tr><td>train_loss</td><td>█▅▄▃▃▃▃▃▃▃▂▂▂▁▁▁▁▁▁▁▁▁▁▁▁▁▁▁▁▁▁▁▁▁▁▁▁▁▁▁</td></tr><tr><td>val_accuracy_%</td><td>▁▄▄▅▅▅▅▅▅▅▆▇▇▇██████████████████████████</td></tr><tr><td>val_loss</td><td>█▅▅▄▄▄▄▄▄▄▃▂▂▂▁▁▁▁▁▁▁▁▁▁▁▁▁▁▁▁▁▁▁▁▁▁▁▁▁▁</td></tr></table><br/></div><div class=\"wandb-col\"><h3>Run summary:</h3><br/><table class=\"wandb\"><tr><td>avg_train_loss</td><td>1.56982</td></tr><tr><td>avg_val_loss</td><td>1.56447</td></tr><tr><td>epoch</td><td>39</td></tr><tr><td>train_accuracy_%</td><td>97.34375</td></tr><tr><td>train_loss</td><td>75351.43437</td></tr><tr><td>val_accuracy_%</td><td>97.91667</td></tr><tr><td>val_loss</td><td>18773.61917</td></tr></table><br/></div></div>"
      ],
      "text/plain": [
       "<IPython.core.display.HTML object>"
      ]
     },
     "metadata": {},
     "output_type": "display_data"
    },
    {
     "data": {
      "text/html": [
       " View run <strong style=\"color:#cdcd00\">pretty-sweep-23</strong> at: <a href='https://wandb.ai/antvis/SanityCheck_modelSize_7conv3lin_MNIST_noblue/runs/ewyiejyk' target=\"_blank\">https://wandb.ai/antvis/SanityCheck_modelSize_7conv3lin_MNIST_noblue/runs/ewyiejyk</a><br/>Synced 4 W&B file(s), 0 media file(s), 0 artifact file(s) and 0 other file(s)"
      ],
      "text/plain": [
       "<IPython.core.display.HTML object>"
      ]
     },
     "metadata": {},
     "output_type": "display_data"
    },
    {
     "data": {
      "text/html": [
       "Find logs at: <code>./wandb/run-20231009_062234-ewyiejyk/logs</code>"
      ],
      "text/plain": [
       "<IPython.core.display.HTML object>"
      ]
     },
     "metadata": {},
     "output_type": "display_data"
    },
    {
     "name": "stderr",
     "output_type": "stream",
     "text": [
      "\u001b[34m\u001b[1mwandb\u001b[0m: Agent Starting Run: 1z0hfpkd with config:\n",
      "\u001b[34m\u001b[1mwandb\u001b[0m: \tepochs: 40\n",
      "\u001b[34m\u001b[1mwandb\u001b[0m: \tlearning_rate: 0.0011375044729398038\n",
      "\u001b[34m\u001b[1mwandb\u001b[0m: \tloss_fn: CrossEntropy\n",
      "\u001b[34m\u001b[1mwandb\u001b[0m: \toptimizer: adam\n",
      "\u001b[34m\u001b[1mwandb\u001b[0m: \tweight_decay: 2e-05\n"
     ]
    },
    {
     "data": {
      "text/html": [
       "wandb version 0.15.12 is available!  To upgrade, please run:\n",
       " $ pip install wandb --upgrade"
      ],
      "text/plain": [
       "<IPython.core.display.HTML object>"
      ]
     },
     "metadata": {},
     "output_type": "display_data"
    },
    {
     "data": {
      "text/html": [
       "Tracking run with wandb version 0.15.10"
      ],
      "text/plain": [
       "<IPython.core.display.HTML object>"
      ]
     },
     "metadata": {},
     "output_type": "display_data"
    },
    {
     "data": {
      "text/html": [
       "Run data is saved locally in <code>/its/home/nn268/optics/wandb/run-20231009_094914-1z0hfpkd</code>"
      ],
      "text/plain": [
       "<IPython.core.display.HTML object>"
      ]
     },
     "metadata": {},
     "output_type": "display_data"
    },
    {
     "data": {
      "text/html": [
       "Syncing run <strong><a href='https://wandb.ai/antvis/SanityCheck_modelSize_7conv3lin_MNIST_noblue/runs/1z0hfpkd' target=\"_blank\">comic-sweep-24</a></strong> to <a href='https://wandb.ai/antvis/SanityCheck_modelSize_7conv3lin_MNIST_noblue' target=\"_blank\">Weights & Biases</a> (<a href='https://wandb.me/run' target=\"_blank\">docs</a>)<br/>Sweep page: <a href='https://wandb.ai/antvis/SanityCheck_modelSize_7conv3lin_MNIST_noblue/sweeps/pvczenzd' target=\"_blank\">https://wandb.ai/antvis/SanityCheck_modelSize_7conv3lin_MNIST_noblue/sweeps/pvczenzd</a>"
      ],
      "text/plain": [
       "<IPython.core.display.HTML object>"
      ]
     },
     "metadata": {},
     "output_type": "display_data"
    },
    {
     "data": {
      "text/html": [
       " View project at <a href='https://wandb.ai/antvis/SanityCheck_modelSize_7conv3lin_MNIST_noblue' target=\"_blank\">https://wandb.ai/antvis/SanityCheck_modelSize_7conv3lin_MNIST_noblue</a>"
      ],
      "text/plain": [
       "<IPython.core.display.HTML object>"
      ]
     },
     "metadata": {},
     "output_type": "display_data"
    },
    {
     "data": {
      "text/html": [
       " View sweep at <a href='https://wandb.ai/antvis/SanityCheck_modelSize_7conv3lin_MNIST_noblue/sweeps/pvczenzd' target=\"_blank\">https://wandb.ai/antvis/SanityCheck_modelSize_7conv3lin_MNIST_noblue/sweeps/pvczenzd</a>"
      ],
      "text/plain": [
       "<IPython.core.display.HTML object>"
      ]
     },
     "metadata": {},
     "output_type": "display_data"
    },
    {
     "data": {
      "text/html": [
       " View run at <a href='https://wandb.ai/antvis/SanityCheck_modelSize_7conv3lin_MNIST_noblue/runs/1z0hfpkd' target=\"_blank\">https://wandb.ai/antvis/SanityCheck_modelSize_7conv3lin_MNIST_noblue/runs/1z0hfpkd</a>"
      ],
      "text/plain": [
       "<IPython.core.display.HTML object>"
      ]
     },
     "metadata": {},
     "output_type": "display_data"
    },
    {
     "data": {
      "text/html": [
       "Waiting for W&B process to finish... <strong style=\"color:green\">(success).</strong>"
      ],
      "text/plain": [
       "<IPython.core.display.HTML object>"
      ]
     },
     "metadata": {},
     "output_type": "display_data"
    },
    {
     "name": "stderr",
     "output_type": "stream",
     "text": [
      "Widget Javascript not detected.  It may not be installed or enabled properly.\n"
     ]
    },
    {
     "data": {
      "application/vnd.jupyter.widget-view+json": {
       "model_id": "cec6605917334acd8733045d34423a41"
      }
     },
     "metadata": {},
     "output_type": "display_data"
    },
    {
     "data": {
      "text/html": [
       "<style>\n",
       "    table.wandb td:nth-child(1) { padding: 0 10px; text-align: left ; width: auto;} td:nth-child(2) {text-align: left ; width: 100%}\n",
       "    .wandb-row { display: flex; flex-direction: row; flex-wrap: wrap; justify-content: flex-start; width: 100% }\n",
       "    .wandb-col { display: flex; flex-direction: column; flex-basis: 100%; flex: 1; padding: 10px; }\n",
       "    </style>\n",
       "<div class=\"wandb-row\"><div class=\"wandb-col\"><h3>Run history:</h3><br/><table class=\"wandb\"><tr><td>avg_train_loss</td><td>▃▁▁▄▁▁▁▁▄▁▂▁▁▅▄▁▁▁▆▂▇▁▆▅█▂▁▁▂▃▁▁▂▁▆▁▁▁▄▁</td></tr><tr><td>avg_val_loss</td><td>▁▁▁▁▂▁▁█▁▁▁▁▁▁▁▁▁██▁▁▁▁█▁▁▆▁▁▁▁▁▁▁▁▁▁▁▁█</td></tr><tr><td>epoch</td><td>▁▁▁▂▂▂▂▂▂▃▃▃▃▃▄▄▄▄▄▄▅▅▅▅▅▅▆▆▆▆▆▇▇▇▇▇▇███</td></tr><tr><td>train_accuracy_%</td><td>▆▆▇▄▆▇▆▇▄▇▇▆▇▁▆▆▆▆▅▄▃▇▁▄▃▆▆▇▄▆▇▇█▆▁▇▇▇▄▆</td></tr><tr><td>train_loss</td><td>▃▁▁▄▁▁▁▁▄▁▂▁▁▅▄▁▁▁▆▂▇▁▆▅█▂▁▁▂▃▁▁▂▁▆▁▁▁▄▁</td></tr><tr><td>val_accuracy_%</td><td>▃███▃▃█▂█▃███▃▃██▃▁██▃▃▂██▃▃▃██▃███████▃</td></tr><tr><td>val_loss</td><td>▁▁▁▁▂▁▁█▁▁▁▁▁▁▁▁▁██▁▁▁▁█▁▁▆▁▁▁▁▁▁▁▁▁▁▁▁█</td></tr></table><br/></div><div class=\"wandb-col\"><h3>Run summary:</h3><br/><table class=\"wandb\"><tr><td>avg_train_loss</td><td>2.39032</td></tr><tr><td>avg_val_loss</td><td>2.44162</td></tr><tr><td>epoch</td><td>39</td></tr><tr><td>train_accuracy_%</td><td>10.95625</td></tr><tr><td>train_loss</td><td>114735.3053</td></tr><tr><td>val_accuracy_%</td><td>10.14167</td></tr><tr><td>val_loss</td><td>29299.48617</td></tr></table><br/></div></div>"
      ],
      "text/plain": [
       "<IPython.core.display.HTML object>"
      ]
     },
     "metadata": {},
     "output_type": "display_data"
    },
    {
     "data": {
      "text/html": [
       " View run <strong style=\"color:#cdcd00\">comic-sweep-24</strong> at: <a href='https://wandb.ai/antvis/SanityCheck_modelSize_7conv3lin_MNIST_noblue/runs/1z0hfpkd' target=\"_blank\">https://wandb.ai/antvis/SanityCheck_modelSize_7conv3lin_MNIST_noblue/runs/1z0hfpkd</a><br/>Synced 4 W&B file(s), 0 media file(s), 0 artifact file(s) and 0 other file(s)"
      ],
      "text/plain": [
       "<IPython.core.display.HTML object>"
      ]
     },
     "metadata": {},
     "output_type": "display_data"
    },
    {
     "data": {
      "text/html": [
       "Find logs at: <code>./wandb/run-20231009_094914-1z0hfpkd/logs</code>"
      ],
      "text/plain": [
       "<IPython.core.display.HTML object>"
      ]
     },
     "metadata": {},
     "output_type": "display_data"
    },
    {
     "name": "stderr",
     "output_type": "stream",
     "text": [
      "\u001b[34m\u001b[1mwandb\u001b[0m: Agent Starting Run: 89h22ogx with config:\n",
      "\u001b[34m\u001b[1mwandb\u001b[0m: \tepochs: 40\n",
      "\u001b[34m\u001b[1mwandb\u001b[0m: \tlearning_rate: 0.0015313604152971969\n",
      "\u001b[34m\u001b[1mwandb\u001b[0m: \tloss_fn: MSE\n",
      "\u001b[34m\u001b[1mwandb\u001b[0m: \toptimizer: adam\n",
      "\u001b[34m\u001b[1mwandb\u001b[0m: \tweight_decay: 4e-05\n"
     ]
    },
    {
     "data": {
      "text/html": [
       "wandb version 0.15.12 is available!  To upgrade, please run:\n",
       " $ pip install wandb --upgrade"
      ],
      "text/plain": [
       "<IPython.core.display.HTML object>"
      ]
     },
     "metadata": {},
     "output_type": "display_data"
    },
    {
     "data": {
      "text/html": [
       "Tracking run with wandb version 0.15.10"
      ],
      "text/plain": [
       "<IPython.core.display.HTML object>"
      ]
     },
     "metadata": {},
     "output_type": "display_data"
    },
    {
     "data": {
      "text/html": [
       "Run data is saved locally in <code>/its/home/nn268/optics/wandb/run-20231009_132316-89h22ogx</code>"
      ],
      "text/plain": [
       "<IPython.core.display.HTML object>"
      ]
     },
     "metadata": {},
     "output_type": "display_data"
    },
    {
     "data": {
      "text/html": [
       "Syncing run <strong><a href='https://wandb.ai/antvis/SanityCheck_modelSize_7conv3lin_MNIST_noblue/runs/89h22ogx' target=\"_blank\">copper-sweep-25</a></strong> to <a href='https://wandb.ai/antvis/SanityCheck_modelSize_7conv3lin_MNIST_noblue' target=\"_blank\">Weights & Biases</a> (<a href='https://wandb.me/run' target=\"_blank\">docs</a>)<br/>Sweep page: <a href='https://wandb.ai/antvis/SanityCheck_modelSize_7conv3lin_MNIST_noblue/sweeps/pvczenzd' target=\"_blank\">https://wandb.ai/antvis/SanityCheck_modelSize_7conv3lin_MNIST_noblue/sweeps/pvczenzd</a>"
      ],
      "text/plain": [
       "<IPython.core.display.HTML object>"
      ]
     },
     "metadata": {},
     "output_type": "display_data"
    },
    {
     "data": {
      "text/html": [
       " View project at <a href='https://wandb.ai/antvis/SanityCheck_modelSize_7conv3lin_MNIST_noblue' target=\"_blank\">https://wandb.ai/antvis/SanityCheck_modelSize_7conv3lin_MNIST_noblue</a>"
      ],
      "text/plain": [
       "<IPython.core.display.HTML object>"
      ]
     },
     "metadata": {},
     "output_type": "display_data"
    },
    {
     "data": {
      "text/html": [
       " View sweep at <a href='https://wandb.ai/antvis/SanityCheck_modelSize_7conv3lin_MNIST_noblue/sweeps/pvczenzd' target=\"_blank\">https://wandb.ai/antvis/SanityCheck_modelSize_7conv3lin_MNIST_noblue/sweeps/pvczenzd</a>"
      ],
      "text/plain": [
       "<IPython.core.display.HTML object>"
      ]
     },
     "metadata": {},
     "output_type": "display_data"
    },
    {
     "data": {
      "text/html": [
       " View run at <a href='https://wandb.ai/antvis/SanityCheck_modelSize_7conv3lin_MNIST_noblue/runs/89h22ogx' target=\"_blank\">https://wandb.ai/antvis/SanityCheck_modelSize_7conv3lin_MNIST_noblue/runs/89h22ogx</a>"
      ],
      "text/plain": [
       "<IPython.core.display.HTML object>"
      ]
     },
     "metadata": {},
     "output_type": "display_data"
    }
   ],
   "source": [
    "wandb.agent(sweep_id, train, count=25)"
   ]
  }
 ],
 "metadata": {
  "kernelspec": {
   "display_name": "Python 3",
   "language": "python",
   "name": "python3"
  },
  "language_info": {
   "codemirror_mode": {
    "name": "ipython",
    "version": 3
   },
   "file_extension": ".py",
   "mimetype": "text/x-python",
   "name": "python",
   "nbconvert_exporter": "python",
   "pygments_lexer": "ipython3",
   "version": "3.8.10"
  }
 },
 "nbformat": 4,
 "nbformat_minor": 4
}
