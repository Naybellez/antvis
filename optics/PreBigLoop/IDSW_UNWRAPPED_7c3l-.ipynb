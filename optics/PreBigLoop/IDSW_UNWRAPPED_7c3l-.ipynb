{
 "cells": [
  {
   "cell_type": "code",
   "execution_count": 1,
   "metadata": {},
   "outputs": [],
   "source": [
    "# Imports\n",
    "\n",
    "import cv2\n",
    "from PIL import Image\n",
    "\n",
    "from matplotlib import pyplot as plt\n",
    "import numpy as np\n",
    "import pandas as pd\n",
    "import math as maths\n",
    "\n",
    "import os\n",
    "import random\n",
    "\n",
    "from sklearn.model_selection import train_test_split\n",
    "\n",
    "import torch\n",
    "import torch.nn as nn\n",
    "from torch.nn import functional\n",
    "#from torchsummary import summary\n",
    "#import torchvision.transforms as transforms\n",
    "\n",
    "from tqdm import tqdm\n",
    "from IPython.display import clear_output\n",
    "\n",
    "import wandb\n",
    "import pprint\n",
    "\n",
    "\n",
    "from functions import import_imagedata, get_data, label_oh_tf,  Unwrap, ImageProcessor, IDSWDataSetLoader\n",
    "from architectures import vgg16net, smallnet1, smallnet2, smallnet3\n",
    "from loop_fns import loop, test_loop\n",
    "from fns4wandb import build_optimizer, set_optimizer, hp_sweep, train_model, train_log, log_test_score, set_lossfn, pipeline\n",
    "\n",
    "from architectures import build_net, smallnet3\n"
   ]
  },
  {
   "cell_type": "code",
   "execution_count": 2,
   "metadata": {},
   "outputs": [
    {
     "data": {
      "text/plain": [
       "\"\\n'learning_rate': {\\n                # a flat distribution between 0 and 0.1\\n                'distribution': 'log_uniform_values',\\n                'min': 1e-5,\\n                'max': 1e-2\\n            },\\n\""
      ]
     },
     "execution_count": 2,
     "metadata": {},
     "output_type": "execute_result"
    }
   ],
   "source": [
    "\"\"\"\n",
    "'learning_rate': {\n",
    "                # a flat distribution between 0 and 0.1\n",
    "                'distribution': 'log_uniform_values',\n",
    "                'min': 1e-5,\n",
    "                'max': 1e-2\n",
    "            },\n",
    "\"\"\""
   ]
  },
  {
   "cell_type": "code",
   "execution_count": 24,
   "metadata": {},
   "outputs": [],
   "source": [
    "\"\"\"config = {\n",
    "    'method': 'random',\n",
    "    'metric':{\n",
    "        'goal': 'minimize',\n",
    "        'name': 'val_loss'},\n",
    "    'parameters': {\n",
    "        'dropout':{\n",
    "            'values': [0.5]\n",
    "        },\n",
    "        'weight_decay':{\n",
    "            'values': [3.00E-05]\n",
    "        },\n",
    "        'epochs':{\n",
    "            'value': 120\n",
    "        },\n",
    "        'lin_layer_size': {\n",
    "            'values': [100] #, 150, 50\n",
    "        },\n",
    "        'first_lin_lay':{\n",
    "            'values':[11264]\n",
    "        },\n",
    "        'optimizer': {\n",
    "            'values': ['adam']\n",
    "        },\n",
    "            'learning_rate': {\n",
    "                'values': [9.76E-05]\n",
    "            },\n",
    "        'loss_fn': {\n",
    "            'values': ['MSE', 'CrossEntropy'] #\n",
    "        },\n",
    "        'data_set':{\n",
    "            'values':['Augmented']\n",
    "        },\n",
    "            'scheduler': {\n",
    "            'values': [0.2]\n",
    "        },\n",
    "        'ks': {\n",
    "            'values': [(3,5)]\n",
    "        },\n",
    "        'channels':{\n",
    "            'values': [3]\n",
    "        },\n",
    "        'num_classes': {\n",
    "            'values': [11]\n",
    "        },\n",
    "        'model_name' : {'values': ['vgg16net']},\n",
    "        'channels' : {'values': [3]},\n",
    "        'image_path': {\n",
    "            'values': [r'/its/home/nn268/antvis/antvis/optics/AugmentedDS_IDSW/']\n",
    "        },\n",
    "        }\n",
    "    }\n",
    "\"\"\"\n",
    "\n",
    "config = dict(\n",
    "    epochs= 120, \n",
    "    learning_rate = 9.76E-05, #9e-5,#3.0779e-5,\n",
    "    dataset= 'IDSW',\n",
    "    architecture ='CNN',\n",
    "    optimizer= 'adam',\n",
    "    weight_decay= 4e-5,\n",
    "    dropout = 0.3,\n",
    "    first_lin_lay = 248832, #59904, #11264,#248832, #3981312, #248832,\n",
    "    lin_layer_size= 100,\n",
    "    ks = (3,5),\n",
    "    in_chan = 3,\n",
    "    image_path = r'/its/home/nn268/antvis/antvis/optics/AugmentedDS_IDSW/',\n",
    "    model_name = 'vgg16net',\n",
    "    channels = 3,\n",
    "    num_classes = 11,\n",
    "    loss_fn = 'CrossEntropy',\n",
    "    scheduler = 0.5\n",
    ")\n",
    "\"\"\"\n",
    "title = f'BATCHTEST_IDSW_7c3l_150_300124'\n",
    "save_dict = {'Run' : title,\n",
    "            'Current_Epoch': 0,\n",
    "            'save_location' : r'pickles/'}\"\"\"\n",
    "#pickles\n",
    "\n",
    "\n",
    "col_dict = {\n",
    "    'colour': 'colour',\n",
    "    'size': [452,144],\n",
    "    'padding': 5\n",
    "}\n",
    "\n",
    "title = f\"IDSWAug_7c3l_E120_{col_dict['size']}_310124\"\n",
    "save_dict = {'Run' : title,\n",
    "            'Current_Epoch': 0,\n",
    "            'save_location' : r'pickles/'}\n",
    "\n",
    "# modelSize_7conv3lin_IDSW\n",
    "#sweep_id = wandb.sweep(config, project=title+f\"_{col_dict['colour']}_{col_dict['size']}_{col_dict['padding']}\")"
   ]
  },
  {
   "cell_type": "code",
   "execution_count": null,
   "metadata": {},
   "outputs": [],
   "source": [
    "\n",
    "\n",
    "\n",
    "\n",
    "\n"
   ]
  },
  {
   "cell_type": "code",
   "execution_count": 4,
   "metadata": {},
   "outputs": [
    {
     "data": {
      "text/plain": [
       "\"import pprint \\npp = pprint.PrettyPrinter()\\npp.pprint(config)\\nprint(type(config))\\npp.pprint(col_dict)\\nprint(type(col_dict))\\n\\nc = col_dict['colour']\\nprint(c)\""
      ]
     },
     "execution_count": 4,
     "metadata": {},
     "output_type": "execute_result"
    }
   ],
   "source": [
    "\"\"\"import pprint \n",
    "pp = pprint.PrettyPrinter()\n",
    "pp.pprint(config)\n",
    "print(type(config))\n",
    "pp.pprint(col_dict)\n",
    "print(type(col_dict))\n",
    "\n",
    "c = col_dict['colour']\n",
    "print(c)\"\"\""
   ]
  },
  {
   "cell_type": "code",
   "execution_count": 5,
   "metadata": {},
   "outputs": [
    {
     "name": "stdout",
     "output_type": "stream",
     "text": [
      "/its/home/nn268/antvis/antvis/optics\n"
     ]
    }
   ],
   "source": [
    "import os\n",
    "print(os.getcwd())"
   ]
  },
  {
   "cell_type": "code",
   "execution_count": 6,
   "metadata": {
    "scrolled": true
   },
   "outputs": [],
   "source": [
    "#pprint.pprint(config)"
   ]
  },
  {
   "cell_type": "code",
   "execution_count": null,
   "metadata": {},
   "outputs": [
    {
     "data": {
      "text/html": [
       "wandb version 0.16.2 is available!  To upgrade, please run:\n",
       " $ pip install wandb --upgrade"
      ],
      "text/plain": [
       "<IPython.core.display.HTML object>"
      ]
     },
     "metadata": {},
     "output_type": "display_data"
    },
    {
     "data": {
      "text/html": [
       "Tracking run with wandb version 0.16.0"
      ],
      "text/plain": [
       "<IPython.core.display.HTML object>"
      ]
     },
     "metadata": {},
     "output_type": "display_data"
    },
    {
     "data": {
      "text/html": [
       "Run data is saved locally in <code>/its/home/nn268/antvis/antvis/optics/wandb/run-20240201_133204-9r3g0mwo</code>"
      ],
      "text/plain": [
       "<IPython.core.display.HTML object>"
      ]
     },
     "metadata": {},
     "output_type": "display_data"
    },
    {
     "data": {
      "text/html": [
       "Syncing run <strong><a href='https://wandb.ai/antvis/antvis-optics_antvis_antvis_optics/runs/9r3g0mwo' target=\"_blank\">efficient-glade-61</a></strong> to <a href='https://wandb.ai/antvis/antvis-optics_antvis_antvis_optics' target=\"_blank\">Weights & Biases</a> (<a href='https://wandb.me/run' target=\"_blank\">docs</a>)<br/>"
      ],
      "text/plain": [
       "<IPython.core.display.HTML object>"
      ]
     },
     "metadata": {},
     "output_type": "display_data"
    },
    {
     "data": {
      "text/html": [
       " View project at <a href='https://wandb.ai/antvis/antvis-optics_antvis_antvis_optics' target=\"_blank\">https://wandb.ai/antvis/antvis-optics_antvis_antvis_optics</a>"
      ],
      "text/plain": [
       "<IPython.core.display.HTML object>"
      ]
     },
     "metadata": {},
     "output_type": "display_data"
    },
    {
     "data": {
      "text/html": [
       " View run at <a href='https://wandb.ai/antvis/antvis-optics_antvis_antvis_optics/runs/9r3g0mwo' target=\"_blank\">https://wandb.ai/antvis/antvis-optics_antvis_antvis_optics/runs/9r3g0mwo</a>"
      ],
      "text/plain": [
       "<IPython.core.display.HTML object>"
      ]
     },
     "metadata": {},
     "output_type": "display_data"
    },
    {
     "name": "stderr",
     "output_type": "stream",
     "text": [
      "  0%| | 0/1/its/home/nn268/.local/lib/python3.10/site-packages/torch/nn/modules/module.py:1518: UserWarning: Implicit dimension choice for softmax has been deprecated. Change the call to include dim=X as an argument.\n",
      "  return self._call_impl(*args, **kwargs)\n",
      " 33%|▎| 40/"
     ]
    }
   ],
   "source": [
    "#  image_file_path= r'/its/home/nn268/antvis/antvis/optics/AugmentedDS_IDSW/'\n",
    "\n",
    "from fns4wandb import train\n",
    "\n",
    "device = \"cuda:1\" if torch.cuda.is_available() else \"cpu\"\n",
    "\n",
    "model = train(device,col_dict, save_dict, config)\n",
    "\n",
    "\"\"\"def tr(config=None, save_dict=save_dict):\n",
    "    with wandb.init(config=config):\n",
    "        seed = random.randint(0, 50)\n",
    "        config = wandb.config\n",
    "        device = \"cuda:0\" if torch.cuda.is_available() else \"cpu\"\n",
    "        model, save_dict, x_test, y_test = hp_sweep(config, col_dict, save_dict, device, seed)\n",
    "        test_predict_list, test_labels, test_accuracy = test_loop(model, x_test, y_test, loss_fn, device, col_dict, title, config.num_classes)\n",
    "        save_dict['test_predict_list'] = [c.to('cpu') for c in test_predict_list]\n",
    "        save_dict['test_labels'] = [c.to('cpu') for c in test_labels]\n",
    "        save_dict['test_accuracy'] = test_accuracy\n",
    "        save_dict['seed'] = seed\n",
    "        title = save_dict['Run']\n",
    "        with open(f\"/its/home/nn268/antvis/antvis/optics/pickles/{title}.pkl\", 'wb+') as f:\n",
    "            pickle.dump(save_dict, f)\n",
    "\n",
    "wandb.agent(sweep_id, tr, count=25)\"\"\"\n",
    "\n",
    "#model= pipeline(config, col_dict,save_dict, title, device)"
   ]
  },
  {
   "cell_type": "code",
   "execution_count": 8,
   "metadata": {
    "scrolled": true
   },
   "outputs": [
    {
     "data": {
      "text/plain": [
       "'def tr(config=None):\\n    with wandb.init(config=config):\\n        config = wandb.config\\n        device = \"cuda:0\" if torch.cuda.is_available() else \"cpu\"\\n        model = hp_sweep(config, col_dict, save_dict, device)\\n\\nwandb.agent(sweep_id, tr, count=2)'"
      ]
     },
     "execution_count": 8,
     "metadata": {},
     "output_type": "execute_result"
    }
   ],
   "source": [
    "\"\"\"def tr(config=None):\n",
    "    with wandb.init(config=config):\n",
    "        config = wandb.config\n",
    "        device = \"cuda:0\" if torch.cuda.is_available() else \"cpu\"\n",
    "        model = hp_sweep(config, col_dict, save_dict, device)\n",
    "\n",
    "wandb.agent(sweep_id, tr, count=2)\"\"\""
   ]
  }
 ],
 "metadata": {
  "kernelspec": {
   "display_name": "Python 3 (ipykernel)",
   "language": "python",
   "name": "python3"
  },
  "language_info": {
   "codemirror_mode": {
    "name": "ipython",
    "version": 3
   },
   "file_extension": ".py",
   "mimetype": "text/x-python",
   "name": "python",
   "nbconvert_exporter": "python",
   "pygments_lexer": "ipython3",
   "version": "3.10.12"
  }
 },
 "nbformat": 4,
 "nbformat_minor": 4
}
