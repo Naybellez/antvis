{
 "cells": [
  {
   "cell_type": "code",
   "execution_count": null,
   "metadata": {},
   "outputs": [],
   "source": [
    "# SANITY CHECK\n",
    "# checking classic modal on MNIST and CIFAR10\n",
    "# checking different sized (smaller) models on these datasets too\n",
    "\n",
    "# start on wrapped images\n",
    "# then again on unwrapped images\n",
    "\n",
    "# need to be sure, my model architecture still is the best\n",
    "# this will allow me to know if my low success is because og HP or the dataset being bad"
   ]
  },
  {
   "cell_type": "code",
   "execution_count": 6,
   "metadata": {},
   "outputs": [
    {
     "name": "stdout",
     "output_type": "stream",
     "text": [
      "{'method': 'random',\n",
      " 'metric': {'goal': 'minimize', 'name': 'loss'},\n",
      " 'parameters': {'epochs': {'value': 20},\n",
      "                'learning_rate': {'distribution': 'log_uniform_values',\n",
      "                                  'max': 0.01,\n",
      "                                  'min': 1e-05},\n",
      "                'loss_fn': {'values': ['MSE', 'CrossEntropy']},\n",
      "                'optimizer': {'values': ['adam']},\n",
      "                'weight_decay': {'values': [1e-05, 2e-05, 3e-05, 4e-05]}}}\n",
      "Using cuda:0 device\n",
      "Create sweep with ID: 8okdahlw\n",
      "Sweep URL: https://wandb.ai/antvis/SanityCheck_modelSize_4conv3lin_Fashion_MNIST_colour/sweeps/8okdahlw\n"
     ]
    }
   ],
   "source": [
    "import cv2\n",
    "from PIL import Image\n",
    "\n",
    "from matplotlib import pyplot as plt\n",
    "import numpy as np\n",
    "import pandas as pd\n",
    "import math as maths\n",
    "\n",
    "import os\n",
    "import random\n",
    "\n",
    "from sklearn.model_selection import train_test_split\n",
    "\n",
    "import torch\n",
    "import torch.nn as nn\n",
    "from torch.nn import functional\n",
    "\n",
    "\n",
    "from tqdm import tqdm\n",
    "from IPython.display import clear_output\n",
    "\n",
    "import wandb\n",
    "import pprint\n",
    "\n",
    "from functions import import_imagedata, get_data, label_oh_tf,  Unwrap, ImageProcessor\n",
    "from architectures import vgg16net, smallnet1, smallnet2\n",
    "from loop_fns import loop, test_loop\n",
    "from fns4wandb import build_optimizer, set_optimizer, train_model, train_log, log_test_score\n",
    "import keras\n",
    "from keras.datasets import mnist\n",
    "from keras.datasets import fashion_mnist\n",
    "\n",
    "\n",
    "config ={\n",
    "    'method': 'random'\n",
    "}\n",
    "\n",
    "metric = {'name': 'loss',\n",
    "         'goal': 'minimize'}\n",
    "\n",
    "config['metric'] = metric\n",
    "\n",
    "param_dict ={\n",
    "    'optimizer':{\n",
    "        'values': ['adam']\n",
    "    },\n",
    "}\n",
    "\n",
    "config['parameters'] = param_dict\n",
    "\n",
    "param_dict.update({\n",
    "    'epochs': {\n",
    "        'value': 20\n",
    "    }\n",
    "})\n",
    "\n",
    "\n",
    "\n",
    "param_dict.update({\n",
    "    'learning_rate': {\n",
    "        # a flat distribution between 0 and 0.1\n",
    "        'distribution': 'log_uniform_values',\n",
    "        'min': 0.00001,\n",
    "        'max': 0.01\n",
    "      },\n",
    "    'weight_decay':{\n",
    "            'values': [1e-5,2e-5, 3e-5,4e-5]\n",
    "      },\n",
    "    'loss_fn': {\n",
    "            'values': ['MSE', 'CrossEntropy']\n",
    "        },\n",
    "    })\n",
    "\n",
    "\n",
    "pprint.pprint(config)\n",
    "\n",
    "\n",
    "col_dict = {\n",
    "    'colour': 'colour',\n",
    "    'size': [28,28],   #36,113\n",
    "}\n",
    "\n",
    "\n",
    "\n",
    "device = \"cuda:0\" if torch.cuda.is_available() else \"cpu\"\n",
    "print(f\"Using {device} device\")\n",
    "\n",
    "\n",
    "sweep_id = wandb.sweep(config, project=f\"SanityCheck_modelSize_4conv3lin_Fashion_MNIST_{col_dict['colour']}\")"
   ]
  },
  {
   "cell_type": "code",
   "execution_count": 55,
   "metadata": {},
   "outputs": [
    {
     "data": {
      "text/plain": [
       "True"
      ]
     },
     "execution_count": 55,
     "metadata": {},
     "output_type": "execute_result"
    }
   ],
   "source": [
    "wandb.login()"
   ]
  },
  {
   "cell_type": "code",
   "execution_count": 4,
   "metadata": {},
   "outputs": [
    {
     "data": {
      "text/plain": [
       "'# title, config\\ndef pipeline(hp): \\n    \\n    title = f\"{col_dict[\\'colour\\']}_Wrapped_MNIST_7c3l_3232\" #print(f\"HPS_UNwrapped_{col_dict[\\'colour\\']}\")\\n    \\n    \\n    \\n    with wandb.init(project=title, config=hp):\\n        config = wandb.config\\n        model = build_net(lin_layer_size =config.lin_layer_size,dropout =config.dropout, first_lin_lay=config.first_linear, ks= config.kernal_size,in_chan= config.first_in_channel).to(device)\\n        loss_fn = set_loss_fn(config.loss_fn)\\n        \\n        train_model(model, x_train, y_train, x_val, y_val,loss_fn, config)\\n        test_loop(model, x_test, y_test, loss_fn, device, col_dict,title)\\n        \\n    return model'"
      ]
     },
     "execution_count": 4,
     "metadata": {},
     "output_type": "execute_result"
    }
   ],
   "source": [
    "\n",
    "                            # Common functions\n",
    "\n",
    "def set_lossfn(lf):\n",
    "    if lf =='MSE':\n",
    "        loss_fn = nn.MSELoss()\n",
    "    elif lf == 'CrossEntropy':\n",
    "        loss_fn = nn.CrossEntropyLoss()\n",
    "    return loss_fn\n",
    "\n",
    "\n",
    "def train(config=None):\n",
    "    with wandb.init(config=config):\n",
    "        config = wandb.config\n",
    "        \n",
    "        (x_train, y_train), (x_test, y_test) = fashion_mnist.load_data()\n",
    "        x_train, x_val, y_train, y_val = train_test_split(x_train, y_train, test_size=0.2, shuffle=True)\n",
    "        x_train =[np.expand_dims(i, axis=2) for i in x_train]\n",
    "        x_val =[np.expand_dims(i, axis=2) for i in x_val]\n",
    "        x_test =[np.expand_dims(i, axis=2) for i in x_test]\n",
    "\n",
    "        \n",
    "        model =smallnet1(in_chan=1, f_lin_lay=8192, l_lin_lay=10).to(device) \n",
    "        if config.loss_fn == 'MSE':\n",
    "            loss_fn = nn.MSELoss()\n",
    "        elif config.loss_fn == 'CrossEntropy':\n",
    "            loss_fn = nn.CrossEntropyLoss()\n",
    "        \n",
    "        e_count = 0\n",
    "        optimizer = build_optimizer(model, config.optimizer, config.learning_rate, config.weight_decay)\n",
    "\n",
    "        \n",
    "        \n",
    "        for epoch in range(config.epochs):\n",
    "\n",
    "            t_loss, predict_list, t_num_correct, model, optimizer = loop(model, x_train, y_train, epoch, loss_fn, device, col_dict, num_classes=10,optimizer=optimizer)\n",
    "            \n",
    "            t_accuracy = (t_num_correct /len(x_train))*100\n",
    "            v_loss, __, v_num_correct= loop(model, x_val, y_val, epoch, loss_fn, device,col_dict,num_classes=10, train=False) \n",
    "            \n",
    "            v_accuracy= (v_num_correct / len(x_val))*100\n",
    "            \n",
    "            t_avg_loss =t_loss/len(x_train)\n",
    "            v_avg_loss = v_loss /len(x_val)\n",
    "            \n",
    "            e_count +=1\n",
    "            # logging\n",
    "            wandb.log({'avg_train_loss': t_avg_loss, 'epoch':epoch})\n",
    "            wandb.log({'avg_val_loss': v_avg_loss, 'epoch':epoch})\n",
    "            wandb.log({'train_loss': t_loss, 'epoch':epoch})\n",
    "            wandb.log({'val_loss': v_loss, 'epoch':epoch})\n",
    "            wandb.log({'train_accuracy_%': t_accuracy, 'epoch':epoch})\n",
    "            wandb.log({'val_accuracy_%': v_accuracy, 'epoch':epoch})\n",
    "\n",
    "    \n",
    "\"\"\"# title, config\n",
    "def pipeline(hp): \n",
    "    \n",
    "    title = f\"{col_dict['colour']}_Wrapped_MNIST_7c3l_3232\" #print(f\"HPS_UNwrapped_{col_dict['colour']}\")\n",
    "    \n",
    "    \n",
    "    \n",
    "    with wandb.init(project=title, config=hp):\n",
    "        config = wandb.config\n",
    "        model = build_net(lin_layer_size =config.lin_layer_size,dropout =config.dropout, first_lin_lay=config.first_linear, ks= config.kernal_size,in_chan= config.first_in_channel).to(device)\n",
    "        loss_fn = set_loss_fn(config.loss_fn)\n",
    "        \n",
    "        train_model(model, x_train, y_train, x_val, y_val,loss_fn, config)\n",
    "        test_loop(model, x_test, y_test, loss_fn, device, col_dict,title)\n",
    "        \n",
    "    return model\"\"\"\n",
    "        "
   ]
  },
  {
   "cell_type": "code",
   "execution_count": null,
   "metadata": {},
   "outputs": [
    {
     "name": "stderr",
     "output_type": "stream",
     "text": [
      "\u001b[34m\u001b[1mwandb\u001b[0m: Agent Starting Run: drgj7jcq with config:\n",
      "\u001b[34m\u001b[1mwandb\u001b[0m: \tepochs: 20\n",
      "\u001b[34m\u001b[1mwandb\u001b[0m: \tlearning_rate: 1.236913076874632e-05\n",
      "\u001b[34m\u001b[1mwandb\u001b[0m: \tloss_fn: MSE\n",
      "\u001b[34m\u001b[1mwandb\u001b[0m: \toptimizer: adam\n",
      "\u001b[34m\u001b[1mwandb\u001b[0m: \tweight_decay: 3e-05\n"
     ]
    },
    {
     "data": {
      "text/html": [
       "wandb version 0.15.12 is available!  To upgrade, please run:\n",
       " $ pip install wandb --upgrade"
      ],
      "text/plain": [
       "<IPython.core.display.HTML object>"
      ]
     },
     "metadata": {},
     "output_type": "display_data"
    },
    {
     "data": {
      "text/html": [
       "Tracking run with wandb version 0.15.10"
      ],
      "text/plain": [
       "<IPython.core.display.HTML object>"
      ]
     },
     "metadata": {},
     "output_type": "display_data"
    },
    {
     "data": {
      "text/html": [
       "Run data is saved locally in <code>/its/home/nn268/optics/wandb/run-20231012_084907-drgj7jcq</code>"
      ],
      "text/plain": [
       "<IPython.core.display.HTML object>"
      ]
     },
     "metadata": {},
     "output_type": "display_data"
    },
    {
     "data": {
      "text/html": [
       "Syncing run <strong><a href='https://wandb.ai/antvis/SanityCheck_modelSize_4conv3lin_Fashion_MNIST_colour/runs/drgj7jcq' target=\"_blank\">treasured-sweep-1</a></strong> to <a href='https://wandb.ai/antvis/SanityCheck_modelSize_4conv3lin_Fashion_MNIST_colour' target=\"_blank\">Weights & Biases</a> (<a href='https://wandb.me/run' target=\"_blank\">docs</a>)<br/>Sweep page: <a href='https://wandb.ai/antvis/SanityCheck_modelSize_4conv3lin_Fashion_MNIST_colour/sweeps/8okdahlw' target=\"_blank\">https://wandb.ai/antvis/SanityCheck_modelSize_4conv3lin_Fashion_MNIST_colour/sweeps/8okdahlw</a>"
      ],
      "text/plain": [
       "<IPython.core.display.HTML object>"
      ]
     },
     "metadata": {},
     "output_type": "display_data"
    },
    {
     "data": {
      "text/html": [
       " View project at <a href='https://wandb.ai/antvis/SanityCheck_modelSize_4conv3lin_Fashion_MNIST_colour' target=\"_blank\">https://wandb.ai/antvis/SanityCheck_modelSize_4conv3lin_Fashion_MNIST_colour</a>"
      ],
      "text/plain": [
       "<IPython.core.display.HTML object>"
      ]
     },
     "metadata": {},
     "output_type": "display_data"
    },
    {
     "data": {
      "text/html": [
       " View sweep at <a href='https://wandb.ai/antvis/SanityCheck_modelSize_4conv3lin_Fashion_MNIST_colour/sweeps/8okdahlw' target=\"_blank\">https://wandb.ai/antvis/SanityCheck_modelSize_4conv3lin_Fashion_MNIST_colour/sweeps/8okdahlw</a>"
      ],
      "text/plain": [
       "<IPython.core.display.HTML object>"
      ]
     },
     "metadata": {},
     "output_type": "display_data"
    },
    {
     "data": {
      "text/html": [
       " View run at <a href='https://wandb.ai/antvis/SanityCheck_modelSize_4conv3lin_Fashion_MNIST_colour/runs/drgj7jcq' target=\"_blank\">https://wandb.ai/antvis/SanityCheck_modelSize_4conv3lin_Fashion_MNIST_colour/runs/drgj7jcq</a>"
      ],
      "text/plain": [
       "<IPython.core.display.HTML object>"
      ]
     },
     "metadata": {},
     "output_type": "display_data"
    },
    {
     "data": {
      "text/html": [
       "Waiting for W&B process to finish... <strong style=\"color:green\">(success).</strong>"
      ],
      "text/plain": [
       "<IPython.core.display.HTML object>"
      ]
     },
     "metadata": {},
     "output_type": "display_data"
    },
    {
     "data": {
      "application/vnd.jupyter.widget-view+json": {
       "model_id": "e25e5659d3a149218938a5d6baa130e9"
      }
     },
     "metadata": {},
     "output_type": "display_data"
    },
    {
     "data": {
      "text/html": [
       "<style>\n",
       "    table.wandb td:nth-child(1) { padding: 0 10px; text-align: left ; width: auto;} td:nth-child(2) {text-align: left ; width: 100%}\n",
       "    .wandb-row { display: flex; flex-direction: row; flex-wrap: wrap; justify-content: flex-start; width: 100% }\n",
       "    .wandb-col { display: flex; flex-direction: column; flex-basis: 100%; flex: 1; padding: 10px; }\n",
       "    </style>\n",
       "<div class=\"wandb-row\"><div class=\"wandb-col\"><h3>Run history:</h3><br/><table class=\"wandb\"><tr><td>avg_train_loss</td><td>▃▇▇▁▂▃█▁█▄▄█▆▇▁▄▇▅▅▄</td></tr><tr><td>avg_val_loss</td><td>██▆▅██▇▆█▃▇█▇▄███▁▅█</td></tr><tr><td>epoch</td><td>▁▁▁▁▂▂▂▂▂▂▃▃▃▃▄▄▄▄▄▄▅▅▅▅▅▅▆▆▆▆▇▇▇▇▇▇████</td></tr><tr><td>train_accuracy_%</td><td>▄▂▂██▆▁▆▁▅▄▁▁▂█▄▂▄▄▆</td></tr><tr><td>train_loss</td><td>▃▇▇▁▂▃█▁█▄▄█▆▇▁▄▇▅▅▄</td></tr><tr><td>val_accuracy_%</td><td>▁▁▃▄▁▁▁▃▁▆▁▁▁▅▁▁▁█▄▁</td></tr><tr><td>val_loss</td><td>██▆▅██▇▆█▃▇█▇▄███▁▅█</td></tr></table><br/></div><div class=\"wandb-col\"><h3>Run summary:</h3><br/><table class=\"wandb\"><tr><td>avg_train_loss</td><td>2.29433</td></tr><tr><td>avg_val_loss</td><td>2.35965</td></tr><tr><td>epoch</td><td>19</td></tr><tr><td>train_accuracy_%</td><td>16.35625</td></tr><tr><td>train_loss</td><td>110127.70604</td></tr><tr><td>val_accuracy_%</td><td>10.15</td></tr><tr><td>val_loss</td><td>28315.80218</td></tr></table><br/></div></div>"
      ],
      "text/plain": [
       "<IPython.core.display.HTML object>"
      ]
     },
     "metadata": {},
     "output_type": "display_data"
    },
    {
     "data": {
      "text/html": [
       " View run <strong style=\"color:#cdcd00\">deft-sweep-2</strong> at: <a href='https://wandb.ai/antvis/SanityCheck_modelSize_4conv3lin_Fashion_MNIST_colour/runs/vac61wx4' target=\"_blank\">https://wandb.ai/antvis/SanityCheck_modelSize_4conv3lin_Fashion_MNIST_colour/runs/vac61wx4</a><br/>Synced 4 W&B file(s), 0 media file(s), 0 artifact file(s) and 0 other file(s)"
      ],
      "text/plain": [
       "<IPython.core.display.HTML object>"
      ]
     },
     "metadata": {},
     "output_type": "display_data"
    },
    {
     "data": {
      "text/html": [
       "Find logs at: <code>./wandb/run-20231012_102812-vac61wx4/logs</code>"
      ],
      "text/plain": [
       "<IPython.core.display.HTML object>"
      ]
     },
     "metadata": {},
     "output_type": "display_data"
    },
    {
     "name": "stderr",
     "output_type": "stream",
     "text": [
      "\u001b[34m\u001b[1mwandb\u001b[0m: Agent Starting Run: wjqeq1gd with config:\n",
      "\u001b[34m\u001b[1mwandb\u001b[0m: \tepochs: 20\n",
      "\u001b[34m\u001b[1mwandb\u001b[0m: \tlearning_rate: 8.505517090516597e-05\n",
      "\u001b[34m\u001b[1mwandb\u001b[0m: \tloss_fn: MSE\n",
      "\u001b[34m\u001b[1mwandb\u001b[0m: \toptimizer: adam\n",
      "\u001b[34m\u001b[1mwandb\u001b[0m: \tweight_decay: 1e-05\n"
     ]
    },
    {
     "data": {
      "text/html": [
       "wandb version 0.15.12 is available!  To upgrade, please run:\n",
       " $ pip install wandb --upgrade"
      ],
      "text/plain": [
       "<IPython.core.display.HTML object>"
      ]
     },
     "metadata": {},
     "output_type": "display_data"
    },
    {
     "data": {
      "text/html": [
       "Tracking run with wandb version 0.15.10"
      ],
      "text/plain": [
       "<IPython.core.display.HTML object>"
      ]
     },
     "metadata": {},
     "output_type": "display_data"
    },
    {
     "data": {
      "text/html": [
       "Run data is saved locally in <code>/its/home/nn268/optics/wandb/run-20231012_121034-wjqeq1gd</code>"
      ],
      "text/plain": [
       "<IPython.core.display.HTML object>"
      ]
     },
     "metadata": {},
     "output_type": "display_data"
    },
    {
     "data": {
      "text/html": [
       "Syncing run <strong><a href='https://wandb.ai/antvis/SanityCheck_modelSize_4conv3lin_Fashion_MNIST_colour/runs/wjqeq1gd' target=\"_blank\">stellar-sweep-3</a></strong> to <a href='https://wandb.ai/antvis/SanityCheck_modelSize_4conv3lin_Fashion_MNIST_colour' target=\"_blank\">Weights & Biases</a> (<a href='https://wandb.me/run' target=\"_blank\">docs</a>)<br/>Sweep page: <a href='https://wandb.ai/antvis/SanityCheck_modelSize_4conv3lin_Fashion_MNIST_colour/sweeps/8okdahlw' target=\"_blank\">https://wandb.ai/antvis/SanityCheck_modelSize_4conv3lin_Fashion_MNIST_colour/sweeps/8okdahlw</a>"
      ],
      "text/plain": [
       "<IPython.core.display.HTML object>"
      ]
     },
     "metadata": {},
     "output_type": "display_data"
    },
    {
     "data": {
      "text/html": [
       " View project at <a href='https://wandb.ai/antvis/SanityCheck_modelSize_4conv3lin_Fashion_MNIST_colour' target=\"_blank\">https://wandb.ai/antvis/SanityCheck_modelSize_4conv3lin_Fashion_MNIST_colour</a>"
      ],
      "text/plain": [
       "<IPython.core.display.HTML object>"
      ]
     },
     "metadata": {},
     "output_type": "display_data"
    },
    {
     "data": {
      "text/html": [
       " View sweep at <a href='https://wandb.ai/antvis/SanityCheck_modelSize_4conv3lin_Fashion_MNIST_colour/sweeps/8okdahlw' target=\"_blank\">https://wandb.ai/antvis/SanityCheck_modelSize_4conv3lin_Fashion_MNIST_colour/sweeps/8okdahlw</a>"
      ],
      "text/plain": [
       "<IPython.core.display.HTML object>"
      ]
     },
     "metadata": {},
     "output_type": "display_data"
    },
    {
     "data": {
      "text/html": [
       " View run at <a href='https://wandb.ai/antvis/SanityCheck_modelSize_4conv3lin_Fashion_MNIST_colour/runs/wjqeq1gd' target=\"_blank\">https://wandb.ai/antvis/SanityCheck_modelSize_4conv3lin_Fashion_MNIST_colour/runs/wjqeq1gd</a>"
      ],
      "text/plain": [
       "<IPython.core.display.HTML object>"
      ]
     },
     "metadata": {},
     "output_type": "display_data"
    },
    {
     "data": {
      "text/html": [
       "Waiting for W&B process to finish... <strong style=\"color:green\">(success).</strong>"
      ],
      "text/plain": [
       "<IPython.core.display.HTML object>"
      ]
     },
     "metadata": {},
     "output_type": "display_data"
    },
    {
     "data": {
      "application/vnd.jupyter.widget-view+json": {
       "model_id": "cf6562c2adeb4707964a7ebf5a7e2c43"
      }
     },
     "metadata": {},
     "output_type": "display_data"
    },
    {
     "data": {
      "text/html": [
       "<style>\n",
       "    table.wandb td:nth-child(1) { padding: 0 10px; text-align: left ; width: auto;} td:nth-child(2) {text-align: left ; width: 100%}\n",
       "    .wandb-row { display: flex; flex-direction: row; flex-wrap: wrap; justify-content: flex-start; width: 100% }\n",
       "    .wandb-col { display: flex; flex-direction: column; flex-basis: 100%; flex: 1; padding: 10px; }\n",
       "    </style>\n",
       "<div class=\"wandb-row\"><div class=\"wandb-col\"><h3>Run history:</h3><br/><table class=\"wandb\"><tr><td>avg_train_loss</td><td>█▅▄▃▃▂▂▂▂▂▂▂▁▁▁▁▁▁▁▁</td></tr><tr><td>avg_val_loss</td><td>█▆▅▅▄▃▃▂▂▂▂▂▂▁▁▁▂▁▁▁</td></tr><tr><td>epoch</td><td>▁▁▁▁▂▂▂▂▂▂▃▃▃▃▄▄▄▄▄▄▅▅▅▅▅▅▆▆▆▆▇▇▇▇▇▇████</td></tr><tr><td>train_accuracy_%</td><td>▁▅▅▆▆▇▇▇▇▇▇█████████</td></tr><tr><td>train_loss</td><td>█▅▄▃▃▂▂▂▂▂▂▂▁▁▁▁▁▁▁▁</td></tr><tr><td>val_accuracy_%</td><td>▁▃▄▅▅▆▆▇▇▇▇▇▇███████</td></tr><tr><td>val_loss</td><td>█▆▅▅▄▃▃▂▂▂▂▂▂▁▁▁▂▁▁▁</td></tr></table><br/></div><div class=\"wandb-col\"><h3>Run summary:</h3><br/><table class=\"wandb\"><tr><td>avg_train_loss</td><td>0.01052</td></tr><tr><td>avg_val_loss</td><td>0.01116</td></tr><tr><td>epoch</td><td>19</td></tr><tr><td>train_accuracy_%</td><td>93.00417</td></tr><tr><td>train_loss</td><td>504.97301</td></tr><tr><td>val_accuracy_%</td><td>92.71667</td></tr><tr><td>val_loss</td><td>133.87878</td></tr></table><br/></div></div>"
      ],
      "text/plain": [
       "<IPython.core.display.HTML object>"
      ]
     },
     "metadata": {},
     "output_type": "display_data"
    },
    {
     "data": {
      "text/html": [
       " View run <strong style=\"color:#cdcd00\">stellar-sweep-3</strong> at: <a href='https://wandb.ai/antvis/SanityCheck_modelSize_4conv3lin_Fashion_MNIST_colour/runs/wjqeq1gd' target=\"_blank\">https://wandb.ai/antvis/SanityCheck_modelSize_4conv3lin_Fashion_MNIST_colour/runs/wjqeq1gd</a><br/>Synced 4 W&B file(s), 0 media file(s), 0 artifact file(s) and 0 other file(s)"
      ],
      "text/plain": [
       "<IPython.core.display.HTML object>"
      ]
     },
     "metadata": {},
     "output_type": "display_data"
    },
    {
     "data": {
      "text/html": [
       "Find logs at: <code>./wandb/run-20231012_121034-wjqeq1gd/logs</code>"
      ],
      "text/plain": [
       "<IPython.core.display.HTML object>"
      ]
     },
     "metadata": {},
     "output_type": "display_data"
    },
    {
     "name": "stderr",
     "output_type": "stream",
     "text": [
      "\u001b[34m\u001b[1mwandb\u001b[0m: Agent Starting Run: ndrkh3s9 with config:\n",
      "\u001b[34m\u001b[1mwandb\u001b[0m: \tepochs: 20\n",
      "\u001b[34m\u001b[1mwandb\u001b[0m: \tlearning_rate: 0.00014531894502575705\n",
      "\u001b[34m\u001b[1mwandb\u001b[0m: \tloss_fn: MSE\n",
      "\u001b[34m\u001b[1mwandb\u001b[0m: \toptimizer: adam\n",
      "\u001b[34m\u001b[1mwandb\u001b[0m: \tweight_decay: 4e-05\n"
     ]
    },
    {
     "data": {
      "text/html": [
       "wandb version 0.15.12 is available!  To upgrade, please run:\n",
       " $ pip install wandb --upgrade"
      ],
      "text/plain": [
       "<IPython.core.display.HTML object>"
      ]
     },
     "metadata": {},
     "output_type": "display_data"
    },
    {
     "data": {
      "text/html": [
       "Tracking run with wandb version 0.15.10"
      ],
      "text/plain": [
       "<IPython.core.display.HTML object>"
      ]
     },
     "metadata": {},
     "output_type": "display_data"
    },
    {
     "data": {
      "text/html": [
       "Run data is saved locally in <code>/its/home/nn268/optics/wandb/run-20231012_133724-ndrkh3s9</code>"
      ],
      "text/plain": [
       "<IPython.core.display.HTML object>"
      ]
     },
     "metadata": {},
     "output_type": "display_data"
    },
    {
     "data": {
      "text/html": [
       "Syncing run <strong><a href='https://wandb.ai/antvis/SanityCheck_modelSize_4conv3lin_Fashion_MNIST_colour/runs/ndrkh3s9' target=\"_blank\">restful-sweep-4</a></strong> to <a href='https://wandb.ai/antvis/SanityCheck_modelSize_4conv3lin_Fashion_MNIST_colour' target=\"_blank\">Weights & Biases</a> (<a href='https://wandb.me/run' target=\"_blank\">docs</a>)<br/>Sweep page: <a href='https://wandb.ai/antvis/SanityCheck_modelSize_4conv3lin_Fashion_MNIST_colour/sweeps/8okdahlw' target=\"_blank\">https://wandb.ai/antvis/SanityCheck_modelSize_4conv3lin_Fashion_MNIST_colour/sweeps/8okdahlw</a>"
      ],
      "text/plain": [
       "<IPython.core.display.HTML object>"
      ]
     },
     "metadata": {},
     "output_type": "display_data"
    },
    {
     "data": {
      "text/html": [
       " View project at <a href='https://wandb.ai/antvis/SanityCheck_modelSize_4conv3lin_Fashion_MNIST_colour' target=\"_blank\">https://wandb.ai/antvis/SanityCheck_modelSize_4conv3lin_Fashion_MNIST_colour</a>"
      ],
      "text/plain": [
       "<IPython.core.display.HTML object>"
      ]
     },
     "metadata": {},
     "output_type": "display_data"
    },
    {
     "data": {
      "text/html": [
       " View sweep at <a href='https://wandb.ai/antvis/SanityCheck_modelSize_4conv3lin_Fashion_MNIST_colour/sweeps/8okdahlw' target=\"_blank\">https://wandb.ai/antvis/SanityCheck_modelSize_4conv3lin_Fashion_MNIST_colour/sweeps/8okdahlw</a>"
      ],
      "text/plain": [
       "<IPython.core.display.HTML object>"
      ]
     },
     "metadata": {},
     "output_type": "display_data"
    },
    {
     "data": {
      "text/html": [
       " View run at <a href='https://wandb.ai/antvis/SanityCheck_modelSize_4conv3lin_Fashion_MNIST_colour/runs/ndrkh3s9' target=\"_blank\">https://wandb.ai/antvis/SanityCheck_modelSize_4conv3lin_Fashion_MNIST_colour/runs/ndrkh3s9</a>"
      ],
      "text/plain": [
       "<IPython.core.display.HTML object>"
      ]
     },
     "metadata": {},
     "output_type": "display_data"
    },
    {
     "data": {
      "text/html": [
       "Waiting for W&B process to finish... <strong style=\"color:green\">(success).</strong>"
      ],
      "text/plain": [
       "<IPython.core.display.HTML object>"
      ]
     },
     "metadata": {},
     "output_type": "display_data"
    },
    {
     "data": {
      "application/vnd.jupyter.widget-view+json": {
       "model_id": "dd65c0df27f2465d88d6869125f602e9"
      }
     },
     "metadata": {},
     "output_type": "display_data"
    },
    {
     "data": {
      "text/html": [
       "<style>\n",
       "    table.wandb td:nth-child(1) { padding: 0 10px; text-align: left ; width: auto;} td:nth-child(2) {text-align: left ; width: 100%}\n",
       "    .wandb-row { display: flex; flex-direction: row; flex-wrap: wrap; justify-content: flex-start; width: 100% }\n",
       "    .wandb-col { display: flex; flex-direction: column; flex-basis: 100%; flex: 1; padding: 10px; }\n",
       "    </style>\n",
       "<div class=\"wandb-row\"><div class=\"wandb-col\"><h3>Run history:</h3><br/><table class=\"wandb\"><tr><td>avg_train_loss</td><td>█▄▃▃▂▂▂▂▂▂▁▁▁▁▁▁▁▁▁▁</td></tr><tr><td>avg_val_loss</td><td>█▆▄▅▃▂▂▂▂▂▁▁▂▂▂▁▁▁▁▁</td></tr><tr><td>epoch</td><td>▁▁▁▁▂▂▂▂▂▂▃▃▃▃▄▄▄▄▄▄▅▅▅▅▅▅▆▆▆▆▇▇▇▇▇▇████</td></tr><tr><td>train_accuracy_%</td><td>▁▅▆▆▇▇▇▇▇███████████</td></tr><tr><td>train_loss</td><td>█▄▃▃▂▂▂▂▂▂▁▁▁▁▁▁▁▁▁▁</td></tr><tr><td>val_accuracy_%</td><td>▁▃▅▅▆▆▇█▇▇▇█▇▇█████▇</td></tr><tr><td>val_loss</td><td>█▆▄▅▃▂▂▂▂▂▁▁▂▂▂▁▁▁▁▁</td></tr></table><br/></div><div class=\"wandb-col\"><h3>Run summary:</h3><br/><table class=\"wandb\"><tr><td>avg_train_loss</td><td>0.01368</td></tr><tr><td>avg_val_loss</td><td>0.01315</td></tr><tr><td>epoch</td><td>19</td></tr><tr><td>train_accuracy_%</td><td>90.83333</td></tr><tr><td>train_loss</td><td>656.65315</td></tr><tr><td>val_accuracy_%</td><td>90.95</td></tr><tr><td>val_loss</td><td>157.79102</td></tr></table><br/></div></div>"
      ],
      "text/plain": [
       "<IPython.core.display.HTML object>"
      ]
     },
     "metadata": {},
     "output_type": "display_data"
    },
    {
     "data": {
      "text/html": [
       " View run <strong style=\"color:#cdcd00\">restful-sweep-4</strong> at: <a href='https://wandb.ai/antvis/SanityCheck_modelSize_4conv3lin_Fashion_MNIST_colour/runs/ndrkh3s9' target=\"_blank\">https://wandb.ai/antvis/SanityCheck_modelSize_4conv3lin_Fashion_MNIST_colour/runs/ndrkh3s9</a><br/>Synced 4 W&B file(s), 0 media file(s), 0 artifact file(s) and 0 other file(s)"
      ],
      "text/plain": [
       "<IPython.core.display.HTML object>"
      ]
     },
     "metadata": {},
     "output_type": "display_data"
    },
    {
     "data": {
      "text/html": [
       "Find logs at: <code>./wandb/run-20231012_133724-ndrkh3s9/logs</code>"
      ],
      "text/plain": [
       "<IPython.core.display.HTML object>"
      ]
     },
     "metadata": {},
     "output_type": "display_data"
    },
    {
     "name": "stderr",
     "output_type": "stream",
     "text": [
      "\u001b[34m\u001b[1mwandb\u001b[0m: Agent Starting Run: xe4sitaj with config:\n",
      "\u001b[34m\u001b[1mwandb\u001b[0m: \tepochs: 20\n",
      "\u001b[34m\u001b[1mwandb\u001b[0m: \tlearning_rate: 9.391417038276073e-05\n",
      "\u001b[34m\u001b[1mwandb\u001b[0m: \tloss_fn: CrossEntropy\n",
      "\u001b[34m\u001b[1mwandb\u001b[0m: \toptimizer: adam\n",
      "\u001b[34m\u001b[1mwandb\u001b[0m: \tweight_decay: 1e-05\n"
     ]
    },
    {
     "data": {
      "text/html": [
       "wandb version 0.15.12 is available!  To upgrade, please run:\n",
       " $ pip install wandb --upgrade"
      ],
      "text/plain": [
       "<IPython.core.display.HTML object>"
      ]
     },
     "metadata": {},
     "output_type": "display_data"
    },
    {
     "data": {
      "text/html": [
       "Tracking run with wandb version 0.15.10"
      ],
      "text/plain": [
       "<IPython.core.display.HTML object>"
      ]
     },
     "metadata": {},
     "output_type": "display_data"
    },
    {
     "data": {
      "text/html": [
       "Run data is saved locally in <code>/its/home/nn268/optics/wandb/run-20231012_150530-xe4sitaj</code>"
      ],
      "text/plain": [
       "<IPython.core.display.HTML object>"
      ]
     },
     "metadata": {},
     "output_type": "display_data"
    },
    {
     "data": {
      "text/html": [
       "Syncing run <strong><a href='https://wandb.ai/antvis/SanityCheck_modelSize_4conv3lin_Fashion_MNIST_colour/runs/xe4sitaj' target=\"_blank\">lunar-sweep-5</a></strong> to <a href='https://wandb.ai/antvis/SanityCheck_modelSize_4conv3lin_Fashion_MNIST_colour' target=\"_blank\">Weights & Biases</a> (<a href='https://wandb.me/run' target=\"_blank\">docs</a>)<br/>Sweep page: <a href='https://wandb.ai/antvis/SanityCheck_modelSize_4conv3lin_Fashion_MNIST_colour/sweeps/8okdahlw' target=\"_blank\">https://wandb.ai/antvis/SanityCheck_modelSize_4conv3lin_Fashion_MNIST_colour/sweeps/8okdahlw</a>"
      ],
      "text/plain": [
       "<IPython.core.display.HTML object>"
      ]
     },
     "metadata": {},
     "output_type": "display_data"
    },
    {
     "data": {
      "text/html": [
       " View project at <a href='https://wandb.ai/antvis/SanityCheck_modelSize_4conv3lin_Fashion_MNIST_colour' target=\"_blank\">https://wandb.ai/antvis/SanityCheck_modelSize_4conv3lin_Fashion_MNIST_colour</a>"
      ],
      "text/plain": [
       "<IPython.core.display.HTML object>"
      ]
     },
     "metadata": {},
     "output_type": "display_data"
    },
    {
     "data": {
      "text/html": [
       " View sweep at <a href='https://wandb.ai/antvis/SanityCheck_modelSize_4conv3lin_Fashion_MNIST_colour/sweeps/8okdahlw' target=\"_blank\">https://wandb.ai/antvis/SanityCheck_modelSize_4conv3lin_Fashion_MNIST_colour/sweeps/8okdahlw</a>"
      ],
      "text/plain": [
       "<IPython.core.display.HTML object>"
      ]
     },
     "metadata": {},
     "output_type": "display_data"
    },
    {
     "data": {
      "text/html": [
       " View run at <a href='https://wandb.ai/antvis/SanityCheck_modelSize_4conv3lin_Fashion_MNIST_colour/runs/xe4sitaj' target=\"_blank\">https://wandb.ai/antvis/SanityCheck_modelSize_4conv3lin_Fashion_MNIST_colour/runs/xe4sitaj</a>"
      ],
      "text/plain": [
       "<IPython.core.display.HTML object>"
      ]
     },
     "metadata": {},
     "output_type": "display_data"
    },
    {
     "data": {
      "text/html": [
       "Waiting for W&B process to finish... <strong style=\"color:green\">(success).</strong>"
      ],
      "text/plain": [
       "<IPython.core.display.HTML object>"
      ]
     },
     "metadata": {},
     "output_type": "display_data"
    },
    {
     "data": {
      "application/vnd.jupyter.widget-view+json": {
       "model_id": "accdac7b074d4f59a5b3510ae30286d4"
      }
     },
     "metadata": {},
     "output_type": "display_data"
    },
    {
     "data": {
      "text/html": [
       "<style>\n",
       "    table.wandb td:nth-child(1) { padding: 0 10px; text-align: left ; width: auto;} td:nth-child(2) {text-align: left ; width: 100%}\n",
       "    .wandb-row { display: flex; flex-direction: row; flex-wrap: wrap; justify-content: flex-start; width: 100% }\n",
       "    .wandb-col { display: flex; flex-direction: column; flex-basis: 100%; flex: 1; padding: 10px; }\n",
       "    </style>\n",
       "<div class=\"wandb-row\"><div class=\"wandb-col\"><h3>Run history:</h3><br/><table class=\"wandb\"><tr><td>avg_train_loss</td><td>█▄▃▂▂▂▂▂▂▁▁▁▁▁▁▁▁▁▁▁</td></tr><tr><td>avg_val_loss</td><td>█▅▆▃▃▃▃▃▂▃▃▃▂▂▂▂▂▂▁▁</td></tr><tr><td>epoch</td><td>▁▁▁▁▂▂▂▂▂▂▃▃▃▃▄▄▄▄▄▄▅▅▅▅▅▅▆▆▆▆▇▇▇▇▇▇████</td></tr><tr><td>train_accuracy_%</td><td>▁▅▆▇▇▇▇▇▇███████████</td></tr><tr><td>train_loss</td><td>█▄▃▂▂▂▂▂▂▁▁▁▁▁▁▁▁▁▁▁</td></tr><tr><td>val_accuracy_%</td><td>▁▄▃▆▆▆▆▆▇▆▆▆▇▇▇▇▇▇██</td></tr><tr><td>val_loss</td><td>█▅▆▃▃▃▃▃▂▃▃▃▂▂▂▂▂▂▁▁</td></tr></table><br/></div><div class=\"wandb-col\"><h3>Run summary:</h3><br/><table class=\"wandb\"><tr><td>avg_train_loss</td><td>1.59516</td></tr><tr><td>avg_val_loss</td><td>1.57167</td></tr><tr><td>epoch</td><td>19</td></tr><tr><td>train_accuracy_%</td><td>86.58958</td></tr><tr><td>train_loss</td><td>76567.83204</td></tr><tr><td>val_accuracy_%</td><td>88.95</td></tr><tr><td>val_loss</td><td>18859.99218</td></tr></table><br/></div></div>"
      ],
      "text/plain": [
       "<IPython.core.display.HTML object>"
      ]
     },
     "metadata": {},
     "output_type": "display_data"
    },
    {
     "data": {
      "text/html": [
       " View run <strong style=\"color:#cdcd00\">lunar-sweep-5</strong> at: <a href='https://wandb.ai/antvis/SanityCheck_modelSize_4conv3lin_Fashion_MNIST_colour/runs/xe4sitaj' target=\"_blank\">https://wandb.ai/antvis/SanityCheck_modelSize_4conv3lin_Fashion_MNIST_colour/runs/xe4sitaj</a><br/>Synced 4 W&B file(s), 0 media file(s), 0 artifact file(s) and 0 other file(s)"
      ],
      "text/plain": [
       "<IPython.core.display.HTML object>"
      ]
     },
     "metadata": {},
     "output_type": "display_data"
    },
    {
     "data": {
      "text/html": [
       "Find logs at: <code>./wandb/run-20231012_150530-xe4sitaj/logs</code>"
      ],
      "text/plain": [
       "<IPython.core.display.HTML object>"
      ]
     },
     "metadata": {},
     "output_type": "display_data"
    },
    {
     "name": "stderr",
     "output_type": "stream",
     "text": [
      "\u001b[34m\u001b[1mwandb\u001b[0m: Agent Starting Run: o0uwwc1v with config:\n",
      "\u001b[34m\u001b[1mwandb\u001b[0m: \tepochs: 20\n",
      "\u001b[34m\u001b[1mwandb\u001b[0m: \tlearning_rate: 0.00014835488191438853\n",
      "\u001b[34m\u001b[1mwandb\u001b[0m: \tloss_fn: MSE\n",
      "\u001b[34m\u001b[1mwandb\u001b[0m: \toptimizer: adam\n",
      "\u001b[34m\u001b[1mwandb\u001b[0m: \tweight_decay: 4e-05\n"
     ]
    },
    {
     "data": {
      "text/html": [
       "wandb version 0.15.12 is available!  To upgrade, please run:\n",
       " $ pip install wandb --upgrade"
      ],
      "text/plain": [
       "<IPython.core.display.HTML object>"
      ]
     },
     "metadata": {},
     "output_type": "display_data"
    },
    {
     "data": {
      "text/html": [
       "Tracking run with wandb version 0.15.10"
      ],
      "text/plain": [
       "<IPython.core.display.HTML object>"
      ]
     },
     "metadata": {},
     "output_type": "display_data"
    },
    {
     "data": {
      "text/html": [
       "Run data is saved locally in <code>/its/home/nn268/optics/wandb/run-20231012_163421-o0uwwc1v</code>"
      ],
      "text/plain": [
       "<IPython.core.display.HTML object>"
      ]
     },
     "metadata": {},
     "output_type": "display_data"
    },
    {
     "data": {
      "text/html": [
       "Syncing run <strong><a href='https://wandb.ai/antvis/SanityCheck_modelSize_4conv3lin_Fashion_MNIST_colour/runs/o0uwwc1v' target=\"_blank\">trim-sweep-6</a></strong> to <a href='https://wandb.ai/antvis/SanityCheck_modelSize_4conv3lin_Fashion_MNIST_colour' target=\"_blank\">Weights & Biases</a> (<a href='https://wandb.me/run' target=\"_blank\">docs</a>)<br/>Sweep page: <a href='https://wandb.ai/antvis/SanityCheck_modelSize_4conv3lin_Fashion_MNIST_colour/sweeps/8okdahlw' target=\"_blank\">https://wandb.ai/antvis/SanityCheck_modelSize_4conv3lin_Fashion_MNIST_colour/sweeps/8okdahlw</a>"
      ],
      "text/plain": [
       "<IPython.core.display.HTML object>"
      ]
     },
     "metadata": {},
     "output_type": "display_data"
    },
    {
     "data": {
      "text/html": [
       " View project at <a href='https://wandb.ai/antvis/SanityCheck_modelSize_4conv3lin_Fashion_MNIST_colour' target=\"_blank\">https://wandb.ai/antvis/SanityCheck_modelSize_4conv3lin_Fashion_MNIST_colour</a>"
      ],
      "text/plain": [
       "<IPython.core.display.HTML object>"
      ]
     },
     "metadata": {},
     "output_type": "display_data"
    },
    {
     "data": {
      "text/html": [
       " View sweep at <a href='https://wandb.ai/antvis/SanityCheck_modelSize_4conv3lin_Fashion_MNIST_colour/sweeps/8okdahlw' target=\"_blank\">https://wandb.ai/antvis/SanityCheck_modelSize_4conv3lin_Fashion_MNIST_colour/sweeps/8okdahlw</a>"
      ],
      "text/plain": [
       "<IPython.core.display.HTML object>"
      ]
     },
     "metadata": {},
     "output_type": "display_data"
    },
    {
     "data": {
      "text/html": [
       " View run at <a href='https://wandb.ai/antvis/SanityCheck_modelSize_4conv3lin_Fashion_MNIST_colour/runs/o0uwwc1v' target=\"_blank\">https://wandb.ai/antvis/SanityCheck_modelSize_4conv3lin_Fashion_MNIST_colour/runs/o0uwwc1v</a>"
      ],
      "text/plain": [
       "<IPython.core.display.HTML object>"
      ]
     },
     "metadata": {},
     "output_type": "display_data"
    }
   ],
   "source": [
    "wandb.agent(sweep_id, train, count=10)"
   ]
  }
 ],
 "metadata": {
  "kernelspec": {
   "display_name": "Python 3",
   "language": "python",
   "name": "python3"
  },
  "language_info": {
   "codemirror_mode": {
    "name": "ipython",
    "version": 3
   },
   "file_extension": ".py",
   "mimetype": "text/x-python",
   "name": "python",
   "nbconvert_exporter": "python",
   "pygments_lexer": "ipython3",
   "version": "3.8.10"
  }
 },
 "nbformat": 4,
 "nbformat_minor": 4
}
