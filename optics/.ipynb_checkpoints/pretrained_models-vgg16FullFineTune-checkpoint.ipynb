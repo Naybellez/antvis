{
 "cells": [
  {
   "cell_type": "code",
   "execution_count": 22,
   "metadata": {
    "scrolled": true
   },
   "outputs": [],
   "source": [
    "import os\n",
    "import numpy as np\n",
    "from sklearn.model_selection import train_test_split\n",
    "\n",
    "from functions import import_imagedata, label_oh_tf, ImageProcessor\n",
    "import torch\n",
    "import torch.nn as nn\n",
    "import torch.nn.functional as F\n",
    "from torchvision import datasets, models, transforms\n",
    "import torch.optim as optim\n",
    "from torch.optim import lr_scheduler\n",
    "\n",
    "from sklearn.metrics import f1_score, accuracy_score, confusion_matrix, ConfusionMatrixDisplay\n",
    "from torchvision.models import vgg16\n",
    "from torchvision.models import resnet101\n",
    "\n",
    "import cv2\n",
    "\n",
    "from torch.utils.data import DataLoader\n",
    "import wandb\n",
    "from fns4wandb import train_log, build_optimizer\n",
    "from copy import deepcopy\n",
    "from tqdm import tqdm\n",
    "\n",
    "import random\n",
    "from sklearn.metrics import f1_score, accuracy_score, confusion_matrix, ConfusionMatrixDisplay\n",
    "import matplotlib.pyplot as plt\n",
    "\n",
    "from torch.utils.data import DataLoader\n",
    "import wandb\n",
    "from fns4wandb import train_log, build_optimizer\n",
    "from copy import deepcopy\n",
    "from tqdm import tqdm\n",
    "\n",
    "import pickle\n",
    "from fns4wandb import set_lossfn"
   ]
  },
  {
   "cell_type": "code",
   "execution_count": 23,
   "metadata": {},
   "outputs": [],
   "source": [
    "device = \"cuda:1\" if torch.cuda.is_available() else \"cpu\""
   ]
  },
  {
   "cell_type": "code",
   "execution_count": 24,
   "metadata": {},
   "outputs": [
    {
     "data": {
      "text/plain": [
       "VGG(\n",
       "  (features): Sequential(\n",
       "    (0): Conv2d(3, 64, kernel_size=(3, 3), stride=(1, 1), padding=(1, 1))\n",
       "    (1): ReLU(inplace=True)\n",
       "    (2): Conv2d(64, 64, kernel_size=(3, 3), stride=(1, 1), padding=(1, 1))\n",
       "    (3): ReLU(inplace=True)\n",
       "    (4): MaxPool2d(kernel_size=2, stride=2, padding=0, dilation=1, ceil_mode=False)\n",
       "    (5): Conv2d(64, 128, kernel_size=(3, 3), stride=(1, 1), padding=(1, 1))\n",
       "    (6): ReLU(inplace=True)\n",
       "    (7): Conv2d(128, 128, kernel_size=(3, 3), stride=(1, 1), padding=(1, 1))\n",
       "    (8): ReLU(inplace=True)\n",
       "    (9): MaxPool2d(kernel_size=2, stride=2, padding=0, dilation=1, ceil_mode=False)\n",
       "    (10): Conv2d(128, 256, kernel_size=(3, 3), stride=(1, 1), padding=(1, 1))\n",
       "    (11): ReLU(inplace=True)\n",
       "    (12): Conv2d(256, 256, kernel_size=(3, 3), stride=(1, 1), padding=(1, 1))\n",
       "    (13): ReLU(inplace=True)\n",
       "    (14): Conv2d(256, 256, kernel_size=(3, 3), stride=(1, 1), padding=(1, 1))\n",
       "    (15): ReLU(inplace=True)\n",
       "    (16): MaxPool2d(kernel_size=2, stride=2, padding=0, dilation=1, ceil_mode=False)\n",
       "    (17): Conv2d(256, 512, kernel_size=(3, 3), stride=(1, 1), padding=(1, 1))\n",
       "    (18): ReLU(inplace=True)\n",
       "    (19): Conv2d(512, 512, kernel_size=(3, 3), stride=(1, 1), padding=(1, 1))\n",
       "    (20): ReLU(inplace=True)\n",
       "    (21): Conv2d(512, 512, kernel_size=(3, 3), stride=(1, 1), padding=(1, 1))\n",
       "    (22): ReLU(inplace=True)\n",
       "    (23): MaxPool2d(kernel_size=2, stride=2, padding=0, dilation=1, ceil_mode=False)\n",
       "    (24): Conv2d(512, 512, kernel_size=(3, 3), stride=(1, 1), padding=(1, 1))\n",
       "    (25): ReLU(inplace=True)\n",
       "    (26): Conv2d(512, 512, kernel_size=(3, 3), stride=(1, 1), padding=(1, 1))\n",
       "    (27): ReLU(inplace=True)\n",
       "    (28): Conv2d(512, 512, kernel_size=(3, 3), stride=(1, 1), padding=(1, 1))\n",
       "    (29): ReLU(inplace=True)\n",
       "    (30): MaxPool2d(kernel_size=2, stride=2, padding=0, dilation=1, ceil_mode=False)\n",
       "  )\n",
       "  (avgpool): AdaptiveAvgPool2d(output_size=(7, 7))\n",
       "  (classifier): Sequential(\n",
       "    (0): Linear(in_features=25088, out_features=4096, bias=True)\n",
       "    (1): ReLU(inplace=True)\n",
       "    (2): Dropout(p=0.5, inplace=False)\n",
       "    (3): Linear(in_features=4096, out_features=4096, bias=True)\n",
       "    (4): ReLU(inplace=True)\n",
       "    (5): Dropout(p=0.5, inplace=False)\n",
       "  )\n",
       ")"
      ]
     },
     "execution_count": 24,
     "metadata": {},
     "output_type": "execute_result"
    }
   ],
   "source": [
    "model_vgg16 = vgg16(weights=\"IMAGENET1K_V1\")\n",
    "model_vgg16.classifier.pop(6)\n",
    "model_vgg16.to(device)\n",
    "#print(model_vgg16)"
   ]
  },
  {
   "cell_type": "code",
   "execution_count": 25,
   "metadata": {},
   "outputs": [],
   "source": [
    "def metrics(label, prediction): #TypeError: Singleton array tensor(3) cannot be considered a valid collection.\n",
    "    \n",
    "    label= np.array(label.cpu())\n",
    "\n",
    "    predictions_np = prediction.cpu().detach().numpy()\n",
    "    #y_pred' parameter of f1_score must be an array-like or a sparse matrix. Got 7 instead.\n",
    "    predicted_classes = np.argmax(predictions_np, axis=0)\n",
    "    #print('metrics Label:   ', label)\n",
    "    #print('metrics prediction   ', predicted_classes)\n",
    "    #avg_f1_score = f1_score(label, predictions_np, average='macro')\n",
    "    acc = accuracy_score(label, predicted_classes)\n",
    "    \n",
    "    return acc"
   ]
  },
  {
   "cell_type": "code",
   "execution_count": 26,
   "metadata": {},
   "outputs": [],
   "source": [
    "def preprocess_im(img_path):\n",
    "    IP = ImageProcessor(device='cpu')\n",
    "    img = cv2.imread(img_path) #\n",
    "    img = IP.blank_padding(img, (224,224))\n",
    "    img = IP.to_tensor(img).to(device)\n",
    "    return img\n"
   ]
  },
  {
   "cell_type": "code",
   "execution_count": 27,
   "metadata": {},
   "outputs": [],
   "source": [
    "# get len of \n",
    "\n",
    "file_path = r'/its/home/nn268/antvis/antvis/optics/AugmentedDS_IDSW/'\n",
    "random_seed =1\n",
    "img_len = len(os.listdir(file_path))\n",
    "\n",
    "\n",
    "#print(ids[4])\n",
    "x, y = import_imagedata(file_path)\n",
    "\n",
    "x_train, x_test, y_train, y_tests = train_test_split(x,y, test_size=0.2, train_size=0.8,\n",
    "                                 random_state=random_seed, shuffle=True)\n",
    "x_train, x_val, y_train, y_val = train_test_split(x_train,y_train, test_size=0.1, train_size=0.8,\n",
    "                                 random_state=random_seed, shuffle=True)\n"
   ]
  },
  {
   "cell_type": "code",
   "execution_count": 28,
   "metadata": {
    "scrolled": true
   },
   "outputs": [
    {
     "data": {
      "text/plain": [
       "True"
      ]
     },
     "execution_count": 28,
     "metadata": {},
     "output_type": "execute_result"
    }
   ],
   "source": [
    "wandb.login()"
   ]
  },
  {
   "cell_type": "code",
   "execution_count": 29,
   "metadata": {},
   "outputs": [],
   "source": [
    "title = f'IDSW_VGG16_fine_80_112023'\n",
    "save_dict = {'Run' : title,\n",
    "            'Current_Epoch': 0}\n",
    "                #r'/its/home/nn268/antvis/optics/\n",
    "save_location = r'pickles/'#pickles"
   ]
  },
  {
   "cell_type": "code",
   "execution_count": 30,
   "metadata": {},
   "outputs": [
    {
     "data": {
      "text/plain": [
       "'IDSW_VGG16_fine_80_112023'"
      ]
     },
     "execution_count": 30,
     "metadata": {},
     "output_type": "execute_result"
    }
   ],
   "source": [
    "save_dict['Run']"
   ]
  },
  {
   "cell_type": "code",
   "execution_count": 31,
   "metadata": {},
   "outputs": [],
   "source": [
    "class Squeeze(nn.Module):\n",
    "    def __init__(self):\n",
    "        super(Squeeze, self).__init__()\n",
    "    \n",
    "    def forward(self, x):\n",
    "        # Do your print / debug stuff here\n",
    "        x = x.squeeze(0)\n",
    "        return x"
   ]
  },
  {
   "cell_type": "code",
   "execution_count": 32,
   "metadata": {},
   "outputs": [
    {
     "name": "stdout",
     "output_type": "stream",
     "text": [
      "Create sweep with ID: obcz0eq3\n",
      "Sweep URL: https://wandb.ai/antvis/IDSW_vgg_fine_hp_80_112023/sweeps/obcz0eq3\n"
     ]
    }
   ],
   "source": [
    "\"\"\"config = dict(\n",
    "    epochs= 80, #30, \n",
    "    learning_rate =1e-6,\n",
    "    architecture ='CNN',\n",
    "    optimizer= 'adam',\n",
    "    weight_decay= 4e-5,\n",
    "    ks = (3,5),\n",
    "    scheduler=0.2,\n",
    "    f_lin_lay = 7168 #1024*7 = 7168\n",
    ")\"\"\"\n",
    "\n",
    "run_title = \"IDSW_vgg_fine_hp_80_112023\"\n",
    "\n",
    "config = {\n",
    "    'method': 'random',\n",
    "    'metric':{\n",
    "        'goal': 'minimize',\n",
    "        'name': 'val_loss'},\n",
    "    'parameters': {\n",
    "        #'dropout':{\n",
    "        #    'values': [0.5, 0.4, 0.3]\n",
    "        #},\n",
    "        'epochs':{\n",
    "            'value': 70\n",
    "        },\n",
    "\n",
    "        'first_lin_lay':{\n",
    "            'values':[248832]\n",
    "        },\n",
    "        'optimizer': {\n",
    "            'values': ['adam']\n",
    "        },\n",
    "        'learning_rate': {\n",
    "                # a flat distribution between 0 and 0.1\n",
    "                'distribution': 'log_uniform_values',\n",
    "                'min': 5e-5,\n",
    "                'max': 1e-2\n",
    "            },\n",
    "        'loss_fn': {\n",
    "            'values': ['CrossEntropy', 'MSE'] #'MSE', \n",
    "        },\n",
    "        'data_set':{\n",
    "            'values':['Augmented']\n",
    "        },\n",
    "            'scheduler': {\n",
    "            'values': [0.1, 0.01, 0.001]\n",
    "        },\n",
    "        'ks': {\n",
    "            'values': [(3,5)]\n",
    "        },\n",
    "        'channels':{\n",
    "            'values': [3]\n",
    "        },\n",
    "        'num_classes': {\n",
    "            'values': [11]\n",
    "        },\n",
    "        'model_name' : {'values': ['vgg16net_mlp']},\n",
    "        'channels' : {'values': [3]},\n",
    "        'image_path': {\n",
    "            'values': [r'/its/home/nn268/optics/AugmentedDS_IDSW/']\n",
    "        }\n",
    "        }\n",
    "    }\n",
    "\n",
    "sweep_id = wandb.sweep(config, project=f\"{run_title}\")"
   ]
  },
  {
   "cell_type": "code",
   "execution_count": 33,
   "metadata": {},
   "outputs": [],
   "source": [
    "\n",
    "\n",
    "def train_model(model,  x_train, x_val, y_train, y_val, config, best_acc=0): #train_dl, val_dl, \n",
    "    #wandb.watch(model, log='all', log_freq=10)\n",
    "    \n",
    "    loss_fn = set_lossfn(config.loss_fn) # ****\n",
    "    \n",
    "    lr = config['learning_rate'] #1e-5 #config.learning_rate\n",
    "    optimizer = torch.optim.Adam(model.parameters(), lr=lr)#build_optimizer(model, optimizer=torch.optim.Adam(model.parameters(), lr=lr))#config.optimizer, config.learning_rate, config.weight_decay)\n",
    "    scheduler = lr_scheduler.ExponentialLR(optimizer, gamma=config.scheduler, last_epoch=-1) #gamma=config.scheduler, last_epoch=-1)\n",
    "                                                                    #scheduler'\n",
    "    ####\n",
    "    \n",
    "    #model = model.to(device)\n",
    "    model.train()\n",
    "    \n",
    "    \n",
    "    #losses= []\n",
    "    #predictions = []\n",
    "    t_loss_list = []\n",
    "    v_loss_list = []\n",
    "    t_predict_list = []\n",
    "    v_predict_list = []\n",
    "    t_accuracy_list = []\n",
    "    v_accuracy_list = []\n",
    "    t_label_list = []\n",
    "    v_label_list = []\n",
    "    #labels = []\n",
    "    \n",
    "    total_epochs = 0\n",
    "    for epoch in tqdm(range(config['epochs'])): #config.epochs)):\n",
    "        print('E   ', epoch)\n",
    "        t_correct = 0\n",
    "        v_correct = 0\n",
    "    \n",
    "        if epoch == 0:\n",
    "            #model = model.to('cpu')\n",
    "            best_model = deepcopy(model)#.to(device)\n",
    "            #model = model.to(device)\n",
    "            \n",
    "            \n",
    "        #train_ids = random.shuffle(train_ids)\n",
    "        #print(type(train_ids))\n",
    "        print('training...')\n",
    "        for idx, img in enumerate(x_train): \n",
    "            model.train()\n",
    "            x = preprocess_im(img)\n",
    "\n",
    "            train_prediction = model.forward(x)\n",
    "            \n",
    "            y = label_oh_tf(y_train[idx], device=device, num_classes=11) # use same index val to index y (labels) and turn into onehot encoded label\n",
    "\n",
    "            \"\"\"\n",
    "            if idx % 1000 == 0:\n",
    "                print(idx, ' / ', len(x_train))\n",
    "                !nvidia-smi\n",
    "            \"\"\"\n",
    "            #print(train_prediction, train_label)\n",
    "        \n",
    "        \n",
    "            t_loss = loss_fn(train_prediction, y)\n",
    "\n",
    "            if train_prediction.argmax() == y.argmax():\n",
    "                t_correct+=1\n",
    "\n",
    "            \n",
    "            optimizer.zero_grad()\n",
    "            t_loss.backward()\n",
    "            \n",
    "            optimizer.step()\n",
    "            scheduler.step()\n",
    "            \n",
    "            t_loss_list.append(t_loss.to('cpu'))\n",
    "            t_predict_list.append(train_prediction.to('cpu'))\n",
    "            t_label_list.append(y.to('cpu'))\n",
    "            \n",
    "            train_acc = (t_correct / len(x_train))\n",
    "        t_accuracy_list.append(train_acc)\n",
    "            \n",
    "            \n",
    "            \n",
    "        print('validating...')\n",
    "        \n",
    "        for idx, img in enumerate(x_val):\n",
    "            model.eval()\n",
    "            x = preprocess_im(img)\n",
    "\n",
    "            val_prediction = model.forward(x)\n",
    "            \n",
    "            y = label_oh_tf(y_val[idx], device=device, num_classes=11)\n",
    "            \"\"\"\n",
    "            if idx % 100 == 0:\n",
    "                print(idx, ' / ', len(x_val))\n",
    "                !nvidia-smi\n",
    "            \"\"\"\n",
    "\n",
    "            v_loss = loss_fn(val_prediction, y)\n",
    "            \n",
    "            if val_prediction.argmax() == y.argmax():\n",
    "                v_correct +=1\n",
    "                \n",
    "\n",
    "            v_loss = v_loss.to('cpu')\n",
    "            v_loss_list.append(v_loss.item())\n",
    "            \n",
    "            \n",
    "            val_prediction = val_prediction.to('cpu')\n",
    "            v_predict_list.append(val_prediction.detach().numpy())\n",
    "            \n",
    "            v_label_list.append(y.to('cpu').detach().numpy())\n",
    "            \n",
    "        val_acc = (v_correct / len(y_val))\n",
    "        v_accuracy_list.append(val_acc)\n",
    "            \n",
    "        total_epochs += epoch\n",
    "\n",
    "        if val_acc > best_acc:\n",
    "    \n",
    "            #print('Start Of SAve -----------------------------')\n",
    "            #!nvidia-smi\n",
    "\n",
    "            best_acc = val_acc\n",
    "            \n",
    "            #model = model.to('cpu')\n",
    "            best_model = model#deepcopy(model)\n",
    "            #model = model.to(device)\n",
    "            \n",
    "\n",
    "            \n",
    "            save_dict['Current_Epoch'] += config['epochs']\n",
    "            save_dict['training_samples'] = len(x_train)\n",
    "            save_dict['validation_samples'] = len(x_val)\n",
    "            save_dict['t_loss_list'] = t_loss_list\n",
    "            save_dict['t_predict_list'] = t_predict_list  \n",
    "            save_dict['t_accuracy_list'] = t_accuracy_list  #\n",
    "            save_dict['v_loss_list'] = v_loss_list\n",
    "            save_dict['v_predict_list'] = v_predict_list  #\n",
    "            save_dict['v_accuracy_list'] = v_accuracy_list  #\n",
    "            save_dict['t_labels'] = t_label_list\n",
    "            save_dict['v_labels'] = v_label_list\n",
    "            \n",
    "            model_architecture = [nn.Sequential(\n",
    "                            model_vgg16,\n",
    "                            Squeeze(),\n",
    "                            nn.Linear(4096,11),\n",
    "                            nn.Softmax(dim=0),\n",
    "                        )]\n",
    "\n",
    "            save_dict['model.state_dict'] = model.state_dict() #to('cpu').\n",
    "            save_dict['model_architecture_untrained'] = model_architecture\n",
    "\n",
    "            title = save_dict['Run']\n",
    "            with open(f'{save_location}{title}.pkl', 'wb+') as f:\n",
    "                pickle.dump(save_dict, f)\n",
    "            \n",
    "            print('improvment in metrics. model saved')\n",
    "\n",
    "            #print('END Of SAve -----------------------------')\n",
    "            #!nvidia-smi\n",
    "\n",
    "        \n",
    "\n",
    "        if (epoch+1)%2==0:\n",
    "            train_log(t_loss, v_loss, epoch)\n",
    "            wandb.log({'train_accuracy_%': train_acc, 'epoch':epoch})\n",
    "            wandb.log({'val_accuracy_%': val_acc, 'epoch':epoch})\n",
    "            \n",
    "    model = best_model\n",
    "    #labels = zip(t_label_list, v_label_list)\n",
    "    #losses = zip(t_loss_list, v_loss_list)\n",
    "    #predictions = zip(t_predict_list, v_predict_list)\n",
    "    return model,save_dict\n",
    "\n",
    "\n",
    "\n",
    "def pipeline(config): \n",
    "    \n",
    "    vgg = nn.Sequential(\n",
    "            model_vgg16,\n",
    "            Squeeze(),\n",
    "            nn.Linear(4096,11),\n",
    "            nn.Softmax(dim=0),\n",
    "        )\n",
    "    \n",
    "    #model_vgg16.to('cpu')\n",
    "    \n",
    "    vgg.to(device)\n",
    "    \n",
    "    #!nvidia-smi\n",
    "    \n",
    "    loss_list=[]\n",
    "    #loss_fn = nn.CrossEntropyLoss()\n",
    "    #loss_fn = nn.MSELoss()\n",
    "    with wandb.init(project=title, config=config):\n",
    "        config = wandb.config\n",
    "        model = vgg\n",
    "\n",
    "        model, save_dict = train_model(model,x_train, x_val, y_train, y_val, config) #train_dl, val_dl\n",
    "\n",
    "    return model, save_dict"
   ]
  },
  {
   "cell_type": "code",
   "execution_count": 34,
   "metadata": {
    "scrolled": true
   },
   "outputs": [
    {
     "name": "stderr",
     "output_type": "stream",
     "text": [
      "\u001b[34m\u001b[1mwandb\u001b[0m: Agent Starting Run: pjpkksvw with config:\n",
      "\u001b[34m\u001b[1mwandb\u001b[0m: \tchannels: 3\n",
      "\u001b[34m\u001b[1mwandb\u001b[0m: \tdata_set: Augmented\n",
      "\u001b[34m\u001b[1mwandb\u001b[0m: \tepochs: 70\n",
      "\u001b[34m\u001b[1mwandb\u001b[0m: \tfirst_lin_lay: 248832\n",
      "\u001b[34m\u001b[1mwandb\u001b[0m: \timage_path: /its/home/nn268/optics/AugmentedDS_IDSW/\n",
      "\u001b[34m\u001b[1mwandb\u001b[0m: \tks: [3, 5]\n",
      "\u001b[34m\u001b[1mwandb\u001b[0m: \tlearning_rate: 0.0004034154581205423\n",
      "\u001b[34m\u001b[1mwandb\u001b[0m: \tloss_fn: CrossEntropy\n",
      "\u001b[34m\u001b[1mwandb\u001b[0m: \tmodel_name: vgg16net_mlp\n",
      "\u001b[34m\u001b[1mwandb\u001b[0m: \tnum_classes: 11\n",
      "\u001b[34m\u001b[1mwandb\u001b[0m: \toptimizer: adam\n",
      "\u001b[34m\u001b[1mwandb\u001b[0m: \tscheduler: 0.001\n"
     ]
    },
    {
     "data": {
      "text/html": [
       "wandb version 0.16.1 is available!  To upgrade, please run:\n",
       " $ pip install wandb --upgrade"
      ],
      "text/plain": [
       "<IPython.core.display.HTML object>"
      ]
     },
     "metadata": {},
     "output_type": "display_data"
    },
    {
     "data": {
      "text/html": [
       "Tracking run with wandb version 0.16.0"
      ],
      "text/plain": [
       "<IPython.core.display.HTML object>"
      ]
     },
     "metadata": {},
     "output_type": "display_data"
    },
    {
     "data": {
      "text/html": [
       "Run data is saved locally in <code>/its/home/nn268/antvis/antvis/optics/wandb/run-20231206_181153-pjpkksvw</code>"
      ],
      "text/plain": [
       "<IPython.core.display.HTML object>"
      ]
     },
     "metadata": {},
     "output_type": "display_data"
    },
    {
     "data": {
      "text/html": [
       "Syncing run <strong><a href='https://wandb.ai/antvis/IDSW_vgg_fine_hp_80_112023/runs/pjpkksvw' target=\"_blank\">upbeat-sweep-1</a></strong> to <a href='https://wandb.ai/antvis/IDSW_vgg_fine_hp_80_112023' target=\"_blank\">Weights & Biases</a> (<a href='https://wandb.me/run' target=\"_blank\">docs</a>)<br/>Sweep page: <a href='https://wandb.ai/antvis/IDSW_vgg_fine_hp_80_112023/sweeps/obcz0eq3' target=\"_blank\">https://wandb.ai/antvis/IDSW_vgg_fine_hp_80_112023/sweeps/obcz0eq3</a>"
      ],
      "text/plain": [
       "<IPython.core.display.HTML object>"
      ]
     },
     "metadata": {},
     "output_type": "display_data"
    },
    {
     "data": {
      "text/html": [
       " View project at <a href='https://wandb.ai/antvis/IDSW_vgg_fine_hp_80_112023' target=\"_blank\">https://wandb.ai/antvis/IDSW_vgg_fine_hp_80_112023</a>"
      ],
      "text/plain": [
       "<IPython.core.display.HTML object>"
      ]
     },
     "metadata": {},
     "output_type": "display_data"
    },
    {
     "data": {
      "text/html": [
       " View sweep at <a href='https://wandb.ai/antvis/IDSW_vgg_fine_hp_80_112023/sweeps/obcz0eq3' target=\"_blank\">https://wandb.ai/antvis/IDSW_vgg_fine_hp_80_112023/sweeps/obcz0eq3</a>"
      ],
      "text/plain": [
       "<IPython.core.display.HTML object>"
      ]
     },
     "metadata": {},
     "output_type": "display_data"
    },
    {
     "data": {
      "text/html": [
       " View run at <a href='https://wandb.ai/antvis/IDSW_vgg_fine_hp_80_112023/runs/pjpkksvw' target=\"_blank\">https://wandb.ai/antvis/IDSW_vgg_fine_hp_80_112023/runs/pjpkksvw</a>"
      ],
      "text/plain": [
       "<IPython.core.display.HTML object>"
      ]
     },
     "metadata": {},
     "output_type": "display_data"
    },
    {
     "name": "stderr",
     "output_type": "stream",
     "text": [
      "\u001b[34m\u001b[1mwandb\u001b[0m: \u001b[33mWARNING\u001b[0m Ignored wandb.init() arg project when running a sweep.\n"
     ]
    },
    {
     "data": {
      "text/html": [
       "Finishing last run (ID:pjpkksvw) before initializing another..."
      ],
      "text/plain": [
       "<IPython.core.display.HTML object>"
      ]
     },
     "metadata": {},
     "output_type": "display_data"
    },
    {
     "data": {
      "application/vnd.jupyter.widget-view+json": {
       "model_id": "",
       "version_major": 2,
       "version_minor": 0
      },
      "text/plain": [
       "VBox(children=(Label(value='0.006 MB of 0.006 MB uploaded\\r'), FloatProgress(value=1.0, max=1.0)))"
      ]
     },
     "metadata": {},
     "output_type": "display_data"
    },
    {
     "data": {
      "text/html": [
       " View run <strong style=\"color:#cdcd00\">upbeat-sweep-1</strong> at: <a href='https://wandb.ai/antvis/IDSW_vgg_fine_hp_80_112023/runs/pjpkksvw' target=\"_blank\">https://wandb.ai/antvis/IDSW_vgg_fine_hp_80_112023/runs/pjpkksvw</a><br/>Synced 5 W&B file(s), 0 media file(s), 0 artifact file(s) and 0 other file(s)"
      ],
      "text/plain": [
       "<IPython.core.display.HTML object>"
      ]
     },
     "metadata": {},
     "output_type": "display_data"
    },
    {
     "data": {
      "text/html": [
       "Find logs at: <code>./wandb/run-20231206_181153-pjpkksvw/logs</code>"
      ],
      "text/plain": [
       "<IPython.core.display.HTML object>"
      ]
     },
     "metadata": {},
     "output_type": "display_data"
    },
    {
     "data": {
      "text/html": [
       "Successfully finished last run (ID:pjpkksvw). Initializing new run:<br/>"
      ],
      "text/plain": [
       "<IPython.core.display.HTML object>"
      ]
     },
     "metadata": {},
     "output_type": "display_data"
    },
    {
     "data": {
      "application/vnd.jupyter.widget-view+json": {
       "model_id": "2a0cef1c0c7d454a89f3942270ec839a",
       "version_major": 2,
       "version_minor": 0
      },
      "text/plain": [
       "VBox(children=(Label(value='Waiting for wandb.init()...\\r'), FloatProgress(value=0.011112210411940597, max=1.0…"
      ]
     },
     "metadata": {},
     "output_type": "display_data"
    },
    {
     "data": {
      "text/html": [
       "wandb version 0.16.1 is available!  To upgrade, please run:\n",
       " $ pip install wandb --upgrade"
      ],
      "text/plain": [
       "<IPython.core.display.HTML object>"
      ]
     },
     "metadata": {},
     "output_type": "display_data"
    },
    {
     "data": {
      "text/html": [
       "Tracking run with wandb version 0.16.0"
      ],
      "text/plain": [
       "<IPython.core.display.HTML object>"
      ]
     },
     "metadata": {},
     "output_type": "display_data"
    },
    {
     "data": {
      "text/html": [
       "Run data is saved locally in <code>/its/home/nn268/antvis/antvis/optics/wandb/run-20231206_181154-pjpkksvw</code>"
      ],
      "text/plain": [
       "<IPython.core.display.HTML object>"
      ]
     },
     "metadata": {},
     "output_type": "display_data"
    },
    {
     "data": {
      "text/html": [
       "Syncing run <strong><a href='https://wandb.ai/antvis/IDSW_vgg_fine_hp_80_112023/runs/pjpkksvw' target=\"_blank\">upbeat-sweep-1</a></strong> to <a href='https://wandb.ai/antvis/IDSW_vgg_fine_hp_80_112023' target=\"_blank\">Weights & Biases</a> (<a href='https://wandb.me/run' target=\"_blank\">docs</a>)<br/>Sweep page: <a href='https://wandb.ai/antvis/IDSW_vgg_fine_hp_80_112023/sweeps/obcz0eq3' target=\"_blank\">https://wandb.ai/antvis/IDSW_vgg_fine_hp_80_112023/sweeps/obcz0eq3</a>"
      ],
      "text/plain": [
       "<IPython.core.display.HTML object>"
      ]
     },
     "metadata": {},
     "output_type": "display_data"
    },
    {
     "data": {
      "text/html": [
       " View project at <a href='https://wandb.ai/antvis/IDSW_vgg_fine_hp_80_112023' target=\"_blank\">https://wandb.ai/antvis/IDSW_vgg_fine_hp_80_112023</a>"
      ],
      "text/plain": [
       "<IPython.core.display.HTML object>"
      ]
     },
     "metadata": {},
     "output_type": "display_data"
    },
    {
     "data": {
      "text/html": [
       " View sweep at <a href='https://wandb.ai/antvis/IDSW_vgg_fine_hp_80_112023/sweeps/obcz0eq3' target=\"_blank\">https://wandb.ai/antvis/IDSW_vgg_fine_hp_80_112023/sweeps/obcz0eq3</a>"
      ],
      "text/plain": [
       "<IPython.core.display.HTML object>"
      ]
     },
     "metadata": {},
     "output_type": "display_data"
    },
    {
     "data": {
      "text/html": [
       " View run at <a href='https://wandb.ai/antvis/IDSW_vgg_fine_hp_80_112023/runs/pjpkksvw' target=\"_blank\">https://wandb.ai/antvis/IDSW_vgg_fine_hp_80_112023/runs/pjpkksvw</a>"
      ],
      "text/plain": [
       "<IPython.core.display.HTML object>"
      ]
     },
     "metadata": {},
     "output_type": "display_data"
    },
    {
     "name": "stderr",
     "output_type": "stream",
     "text": [
      "  0%| | 0/70 [00:"
     ]
    },
    {
     "name": "stdout",
     "output_type": "stream",
     "text": [
      "E    0\n",
      "training...\n",
      "validating...\n"
     ]
    },
    {
     "name": "stderr",
     "output_type": "stream",
     "text": [
      "  1%| | 1/70 [01:"
     ]
    },
    {
     "name": "stdout",
     "output_type": "stream",
     "text": [
      "improvment in metrics. model saved\n",
      "E    1\n",
      "training...\n",
      "validating...\n"
     ]
    },
    {
     "name": "stderr",
     "output_type": "stream",
     "text": [
      "  3%| | 2/70 [02:"
     ]
    },
    {
     "name": "stdout",
     "output_type": "stream",
     "text": [
      "E    2\n",
      "training...\n",
      "validating...\n"
     ]
    },
    {
     "name": "stderr",
     "output_type": "stream",
     "text": [
      "  4%| | 3/70 [04:"
     ]
    },
    {
     "name": "stdout",
     "output_type": "stream",
     "text": [
      "E    3\n",
      "training...\n",
      "validating...\n"
     ]
    },
    {
     "name": "stderr",
     "output_type": "stream",
     "text": [
      "  6%| | 4/70 [05:"
     ]
    },
    {
     "name": "stdout",
     "output_type": "stream",
     "text": [
      "E    4\n",
      "training...\n",
      "validating...\n"
     ]
    },
    {
     "name": "stderr",
     "output_type": "stream",
     "text": [
      "  7%| | 5/70 [07:"
     ]
    },
    {
     "name": "stdout",
     "output_type": "stream",
     "text": [
      "E    5\n",
      "training...\n",
      "validating...\n"
     ]
    },
    {
     "name": "stderr",
     "output_type": "stream",
     "text": [
      "  9%| | 6/70 [08:"
     ]
    },
    {
     "name": "stdout",
     "output_type": "stream",
     "text": [
      "E    6\n",
      "training...\n",
      "validating...\n"
     ]
    },
    {
     "name": "stderr",
     "output_type": "stream",
     "text": [
      " 10%| | 7/70 [10:"
     ]
    },
    {
     "name": "stdout",
     "output_type": "stream",
     "text": [
      "E    7\n",
      "training...\n",
      "validating...\n"
     ]
    },
    {
     "name": "stderr",
     "output_type": "stream",
     "text": [
      " 11%| | 8/70 [11:"
     ]
    },
    {
     "name": "stdout",
     "output_type": "stream",
     "text": [
      "E    8\n",
      "training...\n",
      "validating...\n"
     ]
    },
    {
     "name": "stderr",
     "output_type": "stream",
     "text": [
      " 13%|▏| 9/70 [12:"
     ]
    },
    {
     "name": "stdout",
     "output_type": "stream",
     "text": [
      "E    9\n",
      "training...\n",
      "validating...\n"
     ]
    },
    {
     "name": "stderr",
     "output_type": "stream",
     "text": [
      " 14%|▏| 10/70 [13"
     ]
    },
    {
     "name": "stdout",
     "output_type": "stream",
     "text": [
      "E    10\n",
      "training...\n",
      "validating...\n"
     ]
    },
    {
     "name": "stderr",
     "output_type": "stream",
     "text": [
      " 16%|▏| 11/70 [15"
     ]
    },
    {
     "name": "stdout",
     "output_type": "stream",
     "text": [
      "E    11\n",
      "training...\n",
      "validating...\n"
     ]
    },
    {
     "name": "stderr",
     "output_type": "stream",
     "text": [
      " 17%|▏| 12/70 [16"
     ]
    },
    {
     "name": "stdout",
     "output_type": "stream",
     "text": [
      "E    12\n",
      "training...\n",
      "validating...\n"
     ]
    },
    {
     "name": "stderr",
     "output_type": "stream",
     "text": [
      " 19%|▏| 13/70 [17"
     ]
    },
    {
     "name": "stdout",
     "output_type": "stream",
     "text": [
      "E    13\n",
      "training...\n",
      "validating...\n"
     ]
    },
    {
     "name": "stderr",
     "output_type": "stream",
     "text": [
      " 20%|▏| 14/70 [18"
     ]
    },
    {
     "name": "stdout",
     "output_type": "stream",
     "text": [
      "E    14\n",
      "training...\n",
      "validating...\n"
     ]
    },
    {
     "name": "stderr",
     "output_type": "stream",
     "text": [
      " 21%|▏| 15/70 [19"
     ]
    },
    {
     "name": "stdout",
     "output_type": "stream",
     "text": [
      "E    15\n",
      "training...\n",
      "validating...\n"
     ]
    },
    {
     "name": "stderr",
     "output_type": "stream",
     "text": [
      " 23%|▏| 16/70 [21"
     ]
    },
    {
     "name": "stdout",
     "output_type": "stream",
     "text": [
      "E    16\n",
      "training...\n",
      "validating...\n"
     ]
    },
    {
     "name": "stderr",
     "output_type": "stream",
     "text": [
      " 24%|▏| 17/70 [22"
     ]
    },
    {
     "name": "stdout",
     "output_type": "stream",
     "text": [
      "E    17\n",
      "training...\n",
      "validating...\n"
     ]
    },
    {
     "name": "stderr",
     "output_type": "stream",
     "text": [
      " 26%|▎| 18/70 [23"
     ]
    },
    {
     "name": "stdout",
     "output_type": "stream",
     "text": [
      "E    18\n",
      "training...\n",
      "validating...\n"
     ]
    },
    {
     "name": "stderr",
     "output_type": "stream",
     "text": [
      " 27%|▎| 19/70 [24"
     ]
    },
    {
     "name": "stdout",
     "output_type": "stream",
     "text": [
      "E    19\n",
      "training...\n",
      "validating...\n"
     ]
    },
    {
     "name": "stderr",
     "output_type": "stream",
     "text": [
      " 29%|▎| 20/70 [25"
     ]
    },
    {
     "name": "stdout",
     "output_type": "stream",
     "text": [
      "E    20\n",
      "training...\n",
      "validating...\n"
     ]
    },
    {
     "name": "stderr",
     "output_type": "stream",
     "text": [
      " 30%|▎| 21/70 [27"
     ]
    },
    {
     "name": "stdout",
     "output_type": "stream",
     "text": [
      "E    21\n",
      "training...\n",
      "validating...\n"
     ]
    },
    {
     "name": "stderr",
     "output_type": "stream",
     "text": [
      " 31%|▎| 22/70 [28"
     ]
    },
    {
     "name": "stdout",
     "output_type": "stream",
     "text": [
      "E    22\n",
      "training...\n",
      "validating...\n"
     ]
    },
    {
     "name": "stderr",
     "output_type": "stream",
     "text": [
      " 33%|▎| 23/70 [29"
     ]
    },
    {
     "name": "stdout",
     "output_type": "stream",
     "text": [
      "E    23\n",
      "training...\n",
      "validating...\n"
     ]
    },
    {
     "name": "stderr",
     "output_type": "stream",
     "text": [
      " 34%|▎| 24/70 [30"
     ]
    },
    {
     "name": "stdout",
     "output_type": "stream",
     "text": [
      "E    24\n",
      "training...\n",
      "validating...\n"
     ]
    },
    {
     "name": "stderr",
     "output_type": "stream",
     "text": [
      " 36%|▎| 25/70 [31"
     ]
    },
    {
     "name": "stdout",
     "output_type": "stream",
     "text": [
      "E    25\n",
      "training...\n",
      "validating...\n"
     ]
    },
    {
     "name": "stderr",
     "output_type": "stream",
     "text": [
      " 37%|▎| 26/70 [33"
     ]
    },
    {
     "name": "stdout",
     "output_type": "stream",
     "text": [
      "E    26\n",
      "training...\n",
      "validating...\n"
     ]
    },
    {
     "name": "stderr",
     "output_type": "stream",
     "text": [
      " 39%|▍| 27/70 [34"
     ]
    },
    {
     "name": "stdout",
     "output_type": "stream",
     "text": [
      "E    27\n",
      "training...\n",
      "validating...\n"
     ]
    },
    {
     "name": "stderr",
     "output_type": "stream",
     "text": [
      " 41%|▍| 29/70 [36"
     ]
    },
    {
     "name": "stdout",
     "output_type": "stream",
     "text": [
      "E    29\n",
      "training...\n",
      "validating...\n"
     ]
    },
    {
     "name": "stderr",
     "output_type": "stream",
     "text": [
      " 43%|▍| 30/70 [37"
     ]
    },
    {
     "name": "stdout",
     "output_type": "stream",
     "text": [
      "E    30\n",
      "training...\n",
      "validating...\n"
     ]
    },
    {
     "name": "stderr",
     "output_type": "stream",
     "text": [
      " 44%|▍| 31/70 [38"
     ]
    },
    {
     "name": "stdout",
     "output_type": "stream",
     "text": [
      "E    31\n",
      "training...\n",
      "validating...\n"
     ]
    },
    {
     "name": "stderr",
     "output_type": "stream",
     "text": [
      " 46%|▍| 32/70 [40"
     ]
    },
    {
     "name": "stdout",
     "output_type": "stream",
     "text": [
      "E    32\n",
      "training...\n",
      "validating...\n"
     ]
    },
    {
     "name": "stderr",
     "output_type": "stream",
     "text": [
      " 47%|▍| 33/70 [41"
     ]
    },
    {
     "name": "stdout",
     "output_type": "stream",
     "text": [
      "E    33\n",
      "training...\n",
      "validating...\n"
     ]
    },
    {
     "name": "stderr",
     "output_type": "stream",
     "text": [
      " 49%|▍| 34/70 [42"
     ]
    },
    {
     "name": "stdout",
     "output_type": "stream",
     "text": [
      "E    34\n",
      "training...\n",
      "validating...\n"
     ]
    },
    {
     "name": "stderr",
     "output_type": "stream",
     "text": [
      " 50%|▌| 35/70 [43"
     ]
    },
    {
     "name": "stdout",
     "output_type": "stream",
     "text": [
      "E    35\n",
      "training...\n",
      "validating...\n"
     ]
    },
    {
     "name": "stderr",
     "output_type": "stream",
     "text": [
      " 51%|▌| 36/70 [44"
     ]
    },
    {
     "name": "stdout",
     "output_type": "stream",
     "text": [
      "E    36\n",
      "training...\n",
      "validating...\n"
     ]
    },
    {
     "name": "stderr",
     "output_type": "stream",
     "text": [
      " 53%|▌| 37/70 [46"
     ]
    },
    {
     "name": "stdout",
     "output_type": "stream",
     "text": [
      "E    37\n",
      "training...\n",
      "validating...\n"
     ]
    },
    {
     "name": "stderr",
     "output_type": "stream",
     "text": [
      " 54%|▌| 38/70 [47"
     ]
    },
    {
     "name": "stdout",
     "output_type": "stream",
     "text": [
      "E    38\n",
      "training...\n",
      "validating...\n"
     ]
    },
    {
     "name": "stderr",
     "output_type": "stream",
     "text": [
      " 56%|▌| 39/70 [48"
     ]
    },
    {
     "name": "stdout",
     "output_type": "stream",
     "text": [
      "E    39\n",
      "training...\n",
      "validating...\n"
     ]
    },
    {
     "name": "stderr",
     "output_type": "stream",
     "text": [
      " 57%|▌| 40/70 [49"
     ]
    },
    {
     "name": "stdout",
     "output_type": "stream",
     "text": [
      "E    40\n",
      "training...\n",
      "validating...\n"
     ]
    },
    {
     "name": "stderr",
     "output_type": "stream",
     "text": [
      " 59%|▌| 41/70 [51"
     ]
    },
    {
     "name": "stdout",
     "output_type": "stream",
     "text": [
      "E    41\n",
      "training...\n",
      "validating...\n"
     ]
    },
    {
     "name": "stderr",
     "output_type": "stream",
     "text": [
      " 60%|▌| 42/70 [52"
     ]
    },
    {
     "name": "stdout",
     "output_type": "stream",
     "text": [
      "E    42\n",
      "training...\n",
      "validating...\n"
     ]
    },
    {
     "name": "stderr",
     "output_type": "stream",
     "text": [
      " 61%|▌| 43/70 [53"
     ]
    },
    {
     "name": "stdout",
     "output_type": "stream",
     "text": [
      "E    43\n",
      "training...\n",
      "validating...\n"
     ]
    },
    {
     "name": "stderr",
     "output_type": "stream",
     "text": [
      " 63%|▋| 44/70 [54"
     ]
    },
    {
     "name": "stdout",
     "output_type": "stream",
     "text": [
      "E    44\n",
      "training...\n",
      "validating...\n"
     ]
    },
    {
     "name": "stderr",
     "output_type": "stream",
     "text": [
      " 64%|▋| 45/70 [55"
     ]
    },
    {
     "name": "stdout",
     "output_type": "stream",
     "text": [
      "E    45\n",
      "training...\n",
      "validating...\n"
     ]
    },
    {
     "name": "stderr",
     "output_type": "stream",
     "text": [
      " 66%|▋| 46/70 [57"
     ]
    },
    {
     "name": "stdout",
     "output_type": "stream",
     "text": [
      "E    46\n",
      "training...\n",
      "validating...\n"
     ]
    },
    {
     "name": "stderr",
     "output_type": "stream",
     "text": [
      " 67%|▋| 47/70 [58"
     ]
    },
    {
     "name": "stdout",
     "output_type": "stream",
     "text": [
      "E    47\n",
      "training...\n",
      "validating...\n"
     ]
    },
    {
     "name": "stderr",
     "output_type": "stream",
     "text": [
      " 69%|▋| 48/70 [59"
     ]
    },
    {
     "name": "stdout",
     "output_type": "stream",
     "text": [
      "E    48\n",
      "training...\n",
      "validating...\n"
     ]
    },
    {
     "name": "stderr",
     "output_type": "stream",
     "text": [
      " 70%|▋| 49/70 [1:"
     ]
    },
    {
     "name": "stdout",
     "output_type": "stream",
     "text": [
      "E    49\n",
      "training...\n",
      "validating...\n"
     ]
    },
    {
     "name": "stderr",
     "output_type": "stream",
     "text": [
      " 71%|▋| 50/70 [1:"
     ]
    },
    {
     "name": "stdout",
     "output_type": "stream",
     "text": [
      "E    50\n",
      "training...\n",
      "validating...\n"
     ]
    },
    {
     "name": "stderr",
     "output_type": "stream",
     "text": [
      " 73%|▋| 51/70 [1:"
     ]
    },
    {
     "name": "stdout",
     "output_type": "stream",
     "text": [
      "E    51\n",
      "training...\n",
      "validating...\n"
     ]
    },
    {
     "name": "stderr",
     "output_type": "stream",
     "text": [
      " 74%|▋| 52/70 [1:"
     ]
    },
    {
     "name": "stdout",
     "output_type": "stream",
     "text": [
      "E    52\n",
      "training...\n",
      "validating...\n"
     ]
    },
    {
     "name": "stderr",
     "output_type": "stream",
     "text": [
      " 76%|▊| 53/70 [1:"
     ]
    },
    {
     "name": "stdout",
     "output_type": "stream",
     "text": [
      "E    53\n",
      "training...\n",
      "validating...\n"
     ]
    },
    {
     "name": "stderr",
     "output_type": "stream",
     "text": [
      " 77%|▊| 54/70 [1:"
     ]
    },
    {
     "name": "stdout",
     "output_type": "stream",
     "text": [
      "E    54\n",
      "training...\n",
      "validating...\n"
     ]
    },
    {
     "name": "stderr",
     "output_type": "stream",
     "text": [
      " 79%|▊| 55/70 [1:"
     ]
    },
    {
     "name": "stdout",
     "output_type": "stream",
     "text": [
      "E    55\n",
      "training...\n",
      "validating...\n"
     ]
    },
    {
     "name": "stderr",
     "output_type": "stream",
     "text": [
      " 80%|▊| 56/70 [1:"
     ]
    },
    {
     "name": "stdout",
     "output_type": "stream",
     "text": [
      "E    56\n",
      "training...\n",
      "validating...\n"
     ]
    },
    {
     "name": "stderr",
     "output_type": "stream",
     "text": [
      " 81%|▊| 57/70 [1:"
     ]
    },
    {
     "name": "stdout",
     "output_type": "stream",
     "text": [
      "E    57\n",
      "training...\n",
      "validating...\n"
     ]
    },
    {
     "name": "stderr",
     "output_type": "stream",
     "text": [
      " 83%|▊| 58/70 [1:"
     ]
    },
    {
     "name": "stdout",
     "output_type": "stream",
     "text": [
      "E    58\n",
      "training...\n",
      "validating...\n"
     ]
    },
    {
     "name": "stderr",
     "output_type": "stream",
     "text": [
      " 84%|▊| 59/70 [1:"
     ]
    },
    {
     "name": "stdout",
     "output_type": "stream",
     "text": [
      "E    59\n",
      "training...\n",
      "validating...\n"
     ]
    },
    {
     "name": "stderr",
     "output_type": "stream",
     "text": [
      " 86%|▊| 60/70 [1:"
     ]
    },
    {
     "name": "stdout",
     "output_type": "stream",
     "text": [
      "E    60\n",
      "training...\n",
      "validating...\n"
     ]
    },
    {
     "name": "stderr",
     "output_type": "stream",
     "text": [
      " 87%|▊| 61/70 [1:"
     ]
    },
    {
     "name": "stdout",
     "output_type": "stream",
     "text": [
      "E    61\n",
      "training...\n",
      "validating...\n"
     ]
    },
    {
     "name": "stderr",
     "output_type": "stream",
     "text": [
      " 89%|▉| 62/70 [1:"
     ]
    },
    {
     "name": "stdout",
     "output_type": "stream",
     "text": [
      "E    62\n",
      "training...\n",
      "validating...\n"
     ]
    },
    {
     "name": "stderr",
     "output_type": "stream",
     "text": [
      " 90%|▉| 63/70 [1:"
     ]
    },
    {
     "name": "stdout",
     "output_type": "stream",
     "text": [
      "E    63\n",
      "training...\n",
      "validating...\n"
     ]
    },
    {
     "name": "stderr",
     "output_type": "stream",
     "text": [
      " 91%|▉| 64/70 [1:"
     ]
    },
    {
     "name": "stdout",
     "output_type": "stream",
     "text": [
      "E    64\n",
      "training...\n",
      "validating...\n"
     ]
    },
    {
     "name": "stderr",
     "output_type": "stream",
     "text": [
      " 93%|▉| 65/70 [1:"
     ]
    },
    {
     "name": "stdout",
     "output_type": "stream",
     "text": [
      "E    65\n",
      "training...\n",
      "validating...\n"
     ]
    },
    {
     "name": "stderr",
     "output_type": "stream",
     "text": [
      " 94%|▉| 66/70 [1:"
     ]
    },
    {
     "name": "stdout",
     "output_type": "stream",
     "text": [
      "E    66\n",
      "training...\n",
      "validating...\n"
     ]
    },
    {
     "name": "stderr",
     "output_type": "stream",
     "text": [
      " 96%|▉| 67/70 [1:"
     ]
    },
    {
     "name": "stdout",
     "output_type": "stream",
     "text": [
      "E    67\n",
      "training...\n",
      "validating...\n"
     ]
    },
    {
     "name": "stderr",
     "output_type": "stream",
     "text": [
      " 97%|▉| 68/70 [1:"
     ]
    },
    {
     "name": "stdout",
     "output_type": "stream",
     "text": [
      "E    68\n",
      "training...\n",
      "validating...\n"
     ]
    },
    {
     "name": "stderr",
     "output_type": "stream",
     "text": [
      " 99%|▉| 69/70 [1:"
     ]
    },
    {
     "name": "stdout",
     "output_type": "stream",
     "text": [
      "E    69\n",
      "training...\n",
      "validating...\n"
     ]
    },
    {
     "name": "stderr",
     "output_type": "stream",
     "text": [
      "100%|█| 70/70 [1:\n"
     ]
    },
    {
     "data": {
      "application/vnd.jupyter.widget-view+json": {
       "model_id": "",
       "version_major": 2,
       "version_minor": 0
      },
      "text/plain": [
       "VBox(children=(Label(value='0.006 MB of 0.006 MB uploaded\\r'), FloatProgress(value=1.0, max=1.0)))"
      ]
     },
     "metadata": {},
     "output_type": "display_data"
    },
    {
     "data": {
      "text/html": [
       "<style>\n",
       "    table.wandb td:nth-child(1) { padding: 0 10px; text-align: left ; width: auto;} td:nth-child(2) {text-align: left ; width: 100%}\n",
       "    .wandb-row { display: flex; flex-direction: row; flex-wrap: wrap; justify-content: flex-start; width: 100% }\n",
       "    .wandb-col { display: flex; flex-direction: column; flex-basis: 100%; flex: 1; padding: 10px; }\n",
       "    </style>\n",
       "<div class=\"wandb-row\"><div class=\"wandb-col\"><h3>Run history:</h3><br/><table class=\"wandb\"><tr><td>epoch</td><td>▁▁▁▁▂▂▂▂▂▃▃▃▃▃▃▄▄▄▄▄▅▅▅▅▅▆▆▆▆▆▆▇▇▇▇▇████</td></tr><tr><td>t_loss</td><td>▇▅▄▂▄▅▅▅▇▆▄▃▇▄▁▃▅▅▆▂▅▇▇▅▆▃▃▆▆▆█▂▅▃▄</td></tr><tr><td>train_accuracy_%</td><td>▇▆▃▆▄▅▇▅▆█▅▅▄▄▆▅▅▅█▃▃▄█▄▅▆▂▃▄▁▄█▅▄▄</td></tr><tr><td>v_loss</td><td>▁▁▁▁▁▁▁▁▁▁▁▁▁▁▁▁▁▁▁▁▁▁▁▁▁▁▁▁▁▁▁▁▁▁▁</td></tr><tr><td>val_accuracy_%</td><td>▁▁▁▁▁▁▁▁▁▁▁▁▁▁▁▁▁▁▁▁▁▁▁▁▁▁▁▁▁▁▁▁▁▁▁</td></tr></table><br/></div><div class=\"wandb-col\"><h3>Run summary:</h3><br/><table class=\"wandb\"><tr><td>epoch</td><td>69</td></tr><tr><td>t_loss</td><td>2.34591</td></tr><tr><td>train_accuracy_%</td><td>0.10291</td></tr><tr><td>v_loss</td><td>2.40217</td></tr><tr><td>val_accuracy_%</td><td>0.09455</td></tr></table><br/></div></div>"
      ],
      "text/plain": [
       "<IPython.core.display.HTML object>"
      ]
     },
     "metadata": {},
     "output_type": "display_data"
    },
    {
     "data": {
      "text/html": [
       " View run <strong style=\"color:#cdcd00\">upbeat-sweep-1</strong> at: <a href='https://wandb.ai/antvis/IDSW_vgg_fine_hp_80_112023/runs/pjpkksvw' target=\"_blank\">https://wandb.ai/antvis/IDSW_vgg_fine_hp_80_112023/runs/pjpkksvw</a><br/>Synced 5 W&B file(s), 0 media file(s), 0 artifact file(s) and 0 other file(s)"
      ],
      "text/plain": [
       "<IPython.core.display.HTML object>"
      ]
     },
     "metadata": {},
     "output_type": "display_data"
    },
    {
     "data": {
      "text/html": [
       "Find logs at: <code>./wandb/run-20231206_181154-pjpkksvw/logs</code>"
      ],
      "text/plain": [
       "<IPython.core.display.HTML object>"
      ]
     },
     "metadata": {},
     "output_type": "display_data"
    },
    {
     "name": "stderr",
     "output_type": "stream",
     "text": [
      "\u001b[34m\u001b[1mwandb\u001b[0m: Agent Starting Run: uuf95b31 with config:\n",
      "\u001b[34m\u001b[1mwandb\u001b[0m: \tchannels: 3\n",
      "\u001b[34m\u001b[1mwandb\u001b[0m: \tdata_set: Augmented\n",
      "\u001b[34m\u001b[1mwandb\u001b[0m: \tepochs: 70\n",
      "\u001b[34m\u001b[1mwandb\u001b[0m: \tfirst_lin_lay: 248832\n",
      "\u001b[34m\u001b[1mwandb\u001b[0m: \timage_path: /its/home/nn268/optics/AugmentedDS_IDSW/\n",
      "\u001b[34m\u001b[1mwandb\u001b[0m: \tks: [3, 5]\n",
      "\u001b[34m\u001b[1mwandb\u001b[0m: \tlearning_rate: 9.275853043152304e-05\n",
      "\u001b[34m\u001b[1mwandb\u001b[0m: \tloss_fn: CrossEntropy\n",
      "\u001b[34m\u001b[1mwandb\u001b[0m: \tmodel_name: vgg16net_mlp\n",
      "\u001b[34m\u001b[1mwandb\u001b[0m: \tnum_classes: 11\n",
      "\u001b[34m\u001b[1mwandb\u001b[0m: \toptimizer: adam\n",
      "\u001b[34m\u001b[1mwandb\u001b[0m: \tscheduler: 0.1\n"
     ]
    },
    {
     "data": {
      "text/html": [
       "wandb version 0.16.1 is available!  To upgrade, please run:\n",
       " $ pip install wandb --upgrade"
      ],
      "text/plain": [
       "<IPython.core.display.HTML object>"
      ]
     },
     "metadata": {},
     "output_type": "display_data"
    },
    {
     "data": {
      "text/html": [
       "Tracking run with wandb version 0.16.0"
      ],
      "text/plain": [
       "<IPython.core.display.HTML object>"
      ]
     },
     "metadata": {},
     "output_type": "display_data"
    },
    {
     "data": {
      "text/html": [
       "Run data is saved locally in <code>/its/home/nn268/antvis/antvis/optics/wandb/run-20231206_193707-uuf95b31</code>"
      ],
      "text/plain": [
       "<IPython.core.display.HTML object>"
      ]
     },
     "metadata": {},
     "output_type": "display_data"
    },
    {
     "data": {
      "text/html": [
       "Syncing run <strong><a href='https://wandb.ai/antvis/IDSW_vgg_fine_hp_80_112023/runs/uuf95b31' target=\"_blank\">misty-sweep-2</a></strong> to <a href='https://wandb.ai/antvis/IDSW_vgg_fine_hp_80_112023' target=\"_blank\">Weights & Biases</a> (<a href='https://wandb.me/run' target=\"_blank\">docs</a>)<br/>Sweep page: <a href='https://wandb.ai/antvis/IDSW_vgg_fine_hp_80_112023/sweeps/obcz0eq3' target=\"_blank\">https://wandb.ai/antvis/IDSW_vgg_fine_hp_80_112023/sweeps/obcz0eq3</a>"
      ],
      "text/plain": [
       "<IPython.core.display.HTML object>"
      ]
     },
     "metadata": {},
     "output_type": "display_data"
    },
    {
     "data": {
      "text/html": [
       " View project at <a href='https://wandb.ai/antvis/IDSW_vgg_fine_hp_80_112023' target=\"_blank\">https://wandb.ai/antvis/IDSW_vgg_fine_hp_80_112023</a>"
      ],
      "text/plain": [
       "<IPython.core.display.HTML object>"
      ]
     },
     "metadata": {},
     "output_type": "display_data"
    },
    {
     "data": {
      "text/html": [
       " View sweep at <a href='https://wandb.ai/antvis/IDSW_vgg_fine_hp_80_112023/sweeps/obcz0eq3' target=\"_blank\">https://wandb.ai/antvis/IDSW_vgg_fine_hp_80_112023/sweeps/obcz0eq3</a>"
      ],
      "text/plain": [
       "<IPython.core.display.HTML object>"
      ]
     },
     "metadata": {},
     "output_type": "display_data"
    },
    {
     "data": {
      "text/html": [
       " View run at <a href='https://wandb.ai/antvis/IDSW_vgg_fine_hp_80_112023/runs/uuf95b31' target=\"_blank\">https://wandb.ai/antvis/IDSW_vgg_fine_hp_80_112023/runs/uuf95b31</a>"
      ],
      "text/plain": [
       "<IPython.core.display.HTML object>"
      ]
     },
     "metadata": {},
     "output_type": "display_data"
    },
    {
     "name": "stderr",
     "output_type": "stream",
     "text": [
      "\u001b[34m\u001b[1mwandb\u001b[0m: \u001b[33mWARNING\u001b[0m Ignored wandb.init() arg project when running a sweep.\n"
     ]
    },
    {
     "data": {
      "text/html": [
       "Finishing last run (ID:uuf95b31) before initializing another..."
      ],
      "text/plain": [
       "<IPython.core.display.HTML object>"
      ]
     },
     "metadata": {},
     "output_type": "display_data"
    },
    {
     "data": {
      "application/vnd.jupyter.widget-view+json": {
       "model_id": "",
       "version_major": 2,
       "version_minor": 0
      },
      "text/plain": [
       "VBox(children=(Label(value='0.006 MB of 0.006 MB uploaded\\r'), FloatProgress(value=1.0, max=1.0)))"
      ]
     },
     "metadata": {},
     "output_type": "display_data"
    },
    {
     "data": {
      "text/html": [
       " View run <strong style=\"color:#cdcd00\">misty-sweep-2</strong> at: <a href='https://wandb.ai/antvis/IDSW_vgg_fine_hp_80_112023/runs/uuf95b31' target=\"_blank\">https://wandb.ai/antvis/IDSW_vgg_fine_hp_80_112023/runs/uuf95b31</a><br/>Synced 5 W&B file(s), 0 media file(s), 0 artifact file(s) and 0 other file(s)"
      ],
      "text/plain": [
       "<IPython.core.display.HTML object>"
      ]
     },
     "metadata": {},
     "output_type": "display_data"
    },
    {
     "data": {
      "text/html": [
       "Find logs at: <code>./wandb/run-20231206_193707-uuf95b31/logs</code>"
      ],
      "text/plain": [
       "<IPython.core.display.HTML object>"
      ]
     },
     "metadata": {},
     "output_type": "display_data"
    },
    {
     "data": {
      "text/html": [
       "Successfully finished last run (ID:uuf95b31). Initializing new run:<br/>"
      ],
      "text/plain": [
       "<IPython.core.display.HTML object>"
      ]
     },
     "metadata": {},
     "output_type": "display_data"
    },
    {
     "data": {
      "application/vnd.jupyter.widget-view+json": {
       "model_id": "d8db43b04dd343aa92c8d7a68ed1ac02",
       "version_major": 2,
       "version_minor": 0
      },
      "text/plain": [
       "VBox(children=(Label(value='Waiting for wandb.init()...\\r'), FloatProgress(value=0.011112111510657188, max=1.0…"
      ]
     },
     "metadata": {},
     "output_type": "display_data"
    },
    {
     "name": "stderr",
     "output_type": "stream",
     "text": [
      "Thread WriterThread:\n",
      "Traceback (most recent call last):\n",
      "  File \"/its/home/nn268/.local/lib/python3.10/site-packages/wandb/sdk/internal/internal_util.py\", line 49, in run\n",
      "    self._run()\n",
      "  File \"/its/home/nn268/.local/lib/python3.10/site-packages/wandb/sdk/internal/internal_util.py\", line 100, in _run\n",
      "    self._process(record)\n",
      "  File \"/its/home/nn268/.local/lib/python3.10/site-packages/wandb/sdk/internal/internal.py\", line 380, in _process\n",
      "    self._wm.write(record)\n",
      "  File \"/its/home/nn268/.local/lib/python3.10/site-packages/wandb/sdk/internal/writer.py\", line 154, in write\n",
      "    write_handler(record)\n",
      "  File \"/its/home/nn268/.local/lib/python3.10/site-packages/wandb/sdk/internal/writer.py\", line 131, in _write\n",
      "    self.open()\n",
      "  File \"/its/home/nn268/.local/lib/python3.10/site-packages/wandb/sdk/internal/writer.py\", line 71, in open\n",
      "    self._ds.open_for_write(self._settings.sync_file)\n",
      "  File \"/its/home/nn268/.local/lib/python3.10/site-packages/wandb/sdk/internal/datastore.py\", line 87, in open_for_write\n",
      "    self._fp = open(fname, open_flags)\n",
      "FileExistsError: [Errno 17] File exists: '/its/home/nn268/antvis/antvis/optics/wandb/run-20231206_193707-uuf95b31/run-uuf95b31.wandb'\n",
      "wandb: ERROR Internal wandb error: file data was not synced\n",
      "Traceback (most recent call last):\n",
      "  File \"/tmp/ipykernel_3028376/1426131372.py\", line 6, in tr\n",
      "    model, save_dict = pipeline(config)\n",
      "  File \"/tmp/ipykernel_3028376/703131281.py\", line 192, in pipeline\n",
      "    with wandb.init(project=title, config=config):\n",
      "  File \"/its/home/nn268/.local/lib/python3.10/site-packages/wandb/sdk/wandb_init.py\", line 1185, in init\n",
      "    raise e\n",
      "  File \"/its/home/nn268/.local/lib/python3.10/site-packages/wandb/sdk/wandb_init.py\", line 1166, in init\n",
      "    run = wi.init()\n",
      "  File \"/its/home/nn268/.local/lib/python3.10/site-packages/wandb/sdk/wandb_init.py\", line 752, in init\n",
      "    result = run_init_handle.wait(\n",
      "  File \"/its/home/nn268/.local/lib/python3.10/site-packages/wandb/sdk/lib/mailbox.py\", line 281, in wait\n",
      "    raise MailboxError(\"transport failed\")\n",
      "wandb.sdk.lib.mailbox.MailboxError: transport failed\n",
      "\u001b[34m\u001b[1mwandb\u001b[0m: \u001b[32m\u001b[41mERROR\u001b[0m Run uuf95b31 errored: BrokenPipeError(32, 'Broken pipe')\n"
     ]
    },
    {
     "name": "stdout",
     "output_type": "stream",
     "text": [
      "Problem at: /tmp/ipykernel_3028376/703131281.py 192 pipeline\n"
     ]
    },
    {
     "name": "stderr",
     "output_type": "stream",
     "text": [
      "\u001b[34m\u001b[1mwandb\u001b[0m: Agent Starting Run: olvy6185 with config:\n",
      "\u001b[34m\u001b[1mwandb\u001b[0m: \tchannels: 3\n",
      "\u001b[34m\u001b[1mwandb\u001b[0m: \tdata_set: Augmented\n",
      "\u001b[34m\u001b[1mwandb\u001b[0m: \tepochs: 70\n",
      "\u001b[34m\u001b[1mwandb\u001b[0m: \tfirst_lin_lay: 248832\n",
      "\u001b[34m\u001b[1mwandb\u001b[0m: \timage_path: /its/home/nn268/optics/AugmentedDS_IDSW/\n",
      "\u001b[34m\u001b[1mwandb\u001b[0m: \tks: [3, 5]\n",
      "\u001b[34m\u001b[1mwandb\u001b[0m: \tlearning_rate: 0.006234636632765919\n",
      "\u001b[34m\u001b[1mwandb\u001b[0m: \tloss_fn: CrossEntropy\n",
      "\u001b[34m\u001b[1mwandb\u001b[0m: \tmodel_name: vgg16net_mlp\n",
      "\u001b[34m\u001b[1mwandb\u001b[0m: \tnum_classes: 11\n",
      "\u001b[34m\u001b[1mwandb\u001b[0m: \toptimizer: adam\n",
      "\u001b[34m\u001b[1mwandb\u001b[0m: \tscheduler: 0.001\n"
     ]
    },
    {
     "data": {
      "text/html": [
       "wandb version 0.16.1 is available!  To upgrade, please run:\n",
       " $ pip install wandb --upgrade"
      ],
      "text/plain": [
       "<IPython.core.display.HTML object>"
      ]
     },
     "metadata": {},
     "output_type": "display_data"
    },
    {
     "data": {
      "text/html": [
       "Tracking run with wandb version 0.16.0"
      ],
      "text/plain": [
       "<IPython.core.display.HTML object>"
      ]
     },
     "metadata": {},
     "output_type": "display_data"
    },
    {
     "data": {
      "text/html": [
       "Run data is saved locally in <code>/its/home/nn268/antvis/antvis/optics/wandb/run-20231206_193727-olvy6185</code>"
      ],
      "text/plain": [
       "<IPython.core.display.HTML object>"
      ]
     },
     "metadata": {},
     "output_type": "display_data"
    },
    {
     "data": {
      "text/html": [
       "Syncing run <strong><a href='https://wandb.ai/antvis/IDSW_vgg_fine_hp_80_112023/runs/olvy6185' target=\"_blank\">summer-sweep-3</a></strong> to <a href='https://wandb.ai/antvis/IDSW_vgg_fine_hp_80_112023' target=\"_blank\">Weights & Biases</a> (<a href='https://wandb.me/run' target=\"_blank\">docs</a>)<br/>Sweep page: <a href='https://wandb.ai/antvis/IDSW_vgg_fine_hp_80_112023/sweeps/obcz0eq3' target=\"_blank\">https://wandb.ai/antvis/IDSW_vgg_fine_hp_80_112023/sweeps/obcz0eq3</a>"
      ],
      "text/plain": [
       "<IPython.core.display.HTML object>"
      ]
     },
     "metadata": {},
     "output_type": "display_data"
    },
    {
     "data": {
      "text/html": [
       " View project at <a href='https://wandb.ai/antvis/IDSW_vgg_fine_hp_80_112023' target=\"_blank\">https://wandb.ai/antvis/IDSW_vgg_fine_hp_80_112023</a>"
      ],
      "text/plain": [
       "<IPython.core.display.HTML object>"
      ]
     },
     "metadata": {},
     "output_type": "display_data"
    },
    {
     "data": {
      "text/html": [
       " View sweep at <a href='https://wandb.ai/antvis/IDSW_vgg_fine_hp_80_112023/sweeps/obcz0eq3' target=\"_blank\">https://wandb.ai/antvis/IDSW_vgg_fine_hp_80_112023/sweeps/obcz0eq3</a>"
      ],
      "text/plain": [
       "<IPython.core.display.HTML object>"
      ]
     },
     "metadata": {},
     "output_type": "display_data"
    },
    {
     "data": {
      "text/html": [
       " View run at <a href='https://wandb.ai/antvis/IDSW_vgg_fine_hp_80_112023/runs/olvy6185' target=\"_blank\">https://wandb.ai/antvis/IDSW_vgg_fine_hp_80_112023/runs/olvy6185</a>"
      ],
      "text/plain": [
       "<IPython.core.display.HTML object>"
      ]
     },
     "metadata": {},
     "output_type": "display_data"
    },
    {
     "name": "stderr",
     "output_type": "stream",
     "text": [
      "\u001b[34m\u001b[1mwandb\u001b[0m: \u001b[33mWARNING\u001b[0m Ignored wandb.init() arg project when running a sweep.\n"
     ]
    },
    {
     "data": {
      "text/html": [
       "Finishing last run (ID:olvy6185) before initializing another..."
      ],
      "text/plain": [
       "<IPython.core.display.HTML object>"
      ]
     },
     "metadata": {},
     "output_type": "display_data"
    },
    {
     "data": {
      "application/vnd.jupyter.widget-view+json": {
       "model_id": "",
       "version_major": 2,
       "version_minor": 0
      },
      "text/plain": [
       "VBox(children=(Label(value='0.006 MB of 0.006 MB uploaded\\r'), FloatProgress(value=1.0, max=1.0)))"
      ]
     },
     "metadata": {},
     "output_type": "display_data"
    },
    {
     "data": {
      "text/html": [
       " View run <strong style=\"color:#cdcd00\">summer-sweep-3</strong> at: <a href='https://wandb.ai/antvis/IDSW_vgg_fine_hp_80_112023/runs/olvy6185' target=\"_blank\">https://wandb.ai/antvis/IDSW_vgg_fine_hp_80_112023/runs/olvy6185</a><br/>Synced 5 W&B file(s), 0 media file(s), 0 artifact file(s) and 0 other file(s)"
      ],
      "text/plain": [
       "<IPython.core.display.HTML object>"
      ]
     },
     "metadata": {},
     "output_type": "display_data"
    },
    {
     "data": {
      "text/html": [
       "Find logs at: <code>./wandb/run-20231206_193727-olvy6185/logs</code>"
      ],
      "text/plain": [
       "<IPython.core.display.HTML object>"
      ]
     },
     "metadata": {},
     "output_type": "display_data"
    },
    {
     "data": {
      "text/html": [
       "Successfully finished last run (ID:olvy6185). Initializing new run:<br/>"
      ],
      "text/plain": [
       "<IPython.core.display.HTML object>"
      ]
     },
     "metadata": {},
     "output_type": "display_data"
    },
    {
     "data": {
      "application/vnd.jupyter.widget-view+json": {
       "model_id": "611e878ac2e44892bca69ea6bdc1e9f4",
       "version_major": 2,
       "version_minor": 0
      },
      "text/plain": [
       "VBox(children=(Label(value='Waiting for wandb.init()...\\r'), FloatProgress(value=0.011112560122273862, max=1.0…"
      ]
     },
     "metadata": {},
     "output_type": "display_data"
    },
    {
     "name": "stderr",
     "output_type": "stream",
     "text": [
      "Thread WriterThread:\n",
      "Traceback (most recent call last):\n",
      "  File \"/its/home/nn268/.local/lib/python3.10/site-packages/wandb/sdk/internal/internal_util.py\", line 49, in run\n",
      "    self._run()\n",
      "  File \"/its/home/nn268/.local/lib/python3.10/site-packages/wandb/sdk/internal/internal_util.py\", line 100, in _run\n",
      "    self._process(record)\n",
      "  File \"/its/home/nn268/.local/lib/python3.10/site-packages/wandb/sdk/internal/internal.py\", line 380, in _process\n",
      "    self._wm.write(record)\n",
      "  File \"/its/home/nn268/.local/lib/python3.10/site-packages/wandb/sdk/internal/writer.py\", line 154, in write\n",
      "    write_handler(record)\n",
      "  File \"/its/home/nn268/.local/lib/python3.10/site-packages/wandb/sdk/internal/writer.py\", line 131, in _write\n",
      "    self.open()\n",
      "  File \"/its/home/nn268/.local/lib/python3.10/site-packages/wandb/sdk/internal/writer.py\", line 71, in open\n",
      "    self._ds.open_for_write(self._settings.sync_file)\n",
      "  File \"/its/home/nn268/.local/lib/python3.10/site-packages/wandb/sdk/internal/datastore.py\", line 87, in open_for_write\n",
      "    self._fp = open(fname, open_flags)\n",
      "FileExistsError: [Errno 17] File exists: '/its/home/nn268/antvis/antvis/optics/wandb/run-20231206_193727-olvy6185/run-olvy6185.wandb'\n",
      "wandb: ERROR Internal wandb error: file data was not synced\n",
      "Traceback (most recent call last):\n",
      "  File \"/tmp/ipykernel_3028376/1426131372.py\", line 6, in tr\n",
      "    model, save_dict = pipeline(config)\n",
      "  File \"/tmp/ipykernel_3028376/703131281.py\", line 192, in pipeline\n",
      "    with wandb.init(project=title, config=config):\n",
      "  File \"/its/home/nn268/.local/lib/python3.10/site-packages/wandb/sdk/wandb_init.py\", line 1185, in init\n",
      "    raise e\n",
      "  File \"/its/home/nn268/.local/lib/python3.10/site-packages/wandb/sdk/wandb_init.py\", line 1166, in init\n",
      "    run = wi.init()\n",
      "  File \"/its/home/nn268/.local/lib/python3.10/site-packages/wandb/sdk/wandb_init.py\", line 752, in init\n",
      "    result = run_init_handle.wait(\n",
      "  File \"/its/home/nn268/.local/lib/python3.10/site-packages/wandb/sdk/lib/mailbox.py\", line 281, in wait\n",
      "    raise MailboxError(\"transport failed\")\n",
      "wandb.sdk.lib.mailbox.MailboxError: transport failed\n",
      "\u001b[34m\u001b[1mwandb\u001b[0m: \u001b[32m\u001b[41mERROR\u001b[0m Run olvy6185 errored: BrokenPipeError(32, 'Broken pipe')\n"
     ]
    },
    {
     "name": "stdout",
     "output_type": "stream",
     "text": [
      "Problem at: /tmp/ipykernel_3028376/703131281.py 192 pipeline\n"
     ]
    },
    {
     "name": "stderr",
     "output_type": "stream",
     "text": [
      "\u001b[34m\u001b[1mwandb\u001b[0m: Agent Starting Run: yyrx9qgr with config:\n",
      "\u001b[34m\u001b[1mwandb\u001b[0m: \tchannels: 3\n",
      "\u001b[34m\u001b[1mwandb\u001b[0m: \tdata_set: Augmented\n",
      "\u001b[34m\u001b[1mwandb\u001b[0m: \tepochs: 70\n",
      "\u001b[34m\u001b[1mwandb\u001b[0m: \tfirst_lin_lay: 248832\n",
      "\u001b[34m\u001b[1mwandb\u001b[0m: \timage_path: /its/home/nn268/optics/AugmentedDS_IDSW/\n",
      "\u001b[34m\u001b[1mwandb\u001b[0m: \tks: [3, 5]\n",
      "\u001b[34m\u001b[1mwandb\u001b[0m: \tlearning_rate: 6.639535582435433e-05\n",
      "\u001b[34m\u001b[1mwandb\u001b[0m: \tloss_fn: CrossEntropy\n",
      "\u001b[34m\u001b[1mwandb\u001b[0m: \tmodel_name: vgg16net_mlp\n",
      "\u001b[34m\u001b[1mwandb\u001b[0m: \tnum_classes: 11\n",
      "\u001b[34m\u001b[1mwandb\u001b[0m: \toptimizer: adam\n",
      "\u001b[34m\u001b[1mwandb\u001b[0m: \tscheduler: 0.1\n"
     ]
    },
    {
     "data": {
      "text/html": [
       "wandb version 0.16.1 is available!  To upgrade, please run:\n",
       " $ pip install wandb --upgrade"
      ],
      "text/plain": [
       "<IPython.core.display.HTML object>"
      ]
     },
     "metadata": {},
     "output_type": "display_data"
    },
    {
     "data": {
      "text/html": [
       "Tracking run with wandb version 0.16.0"
      ],
      "text/plain": [
       "<IPython.core.display.HTML object>"
      ]
     },
     "metadata": {},
     "output_type": "display_data"
    },
    {
     "data": {
      "text/html": [
       "Run data is saved locally in <code>/its/home/nn268/antvis/antvis/optics/wandb/run-20231206_193748-yyrx9qgr</code>"
      ],
      "text/plain": [
       "<IPython.core.display.HTML object>"
      ]
     },
     "metadata": {},
     "output_type": "display_data"
    },
    {
     "data": {
      "text/html": [
       "Syncing run <strong><a href='https://wandb.ai/antvis/IDSW_vgg_fine_hp_80_112023/runs/yyrx9qgr' target=\"_blank\">honest-sweep-4</a></strong> to <a href='https://wandb.ai/antvis/IDSW_vgg_fine_hp_80_112023' target=\"_blank\">Weights & Biases</a> (<a href='https://wandb.me/run' target=\"_blank\">docs</a>)<br/>Sweep page: <a href='https://wandb.ai/antvis/IDSW_vgg_fine_hp_80_112023/sweeps/obcz0eq3' target=\"_blank\">https://wandb.ai/antvis/IDSW_vgg_fine_hp_80_112023/sweeps/obcz0eq3</a>"
      ],
      "text/plain": [
       "<IPython.core.display.HTML object>"
      ]
     },
     "metadata": {},
     "output_type": "display_data"
    },
    {
     "data": {
      "text/html": [
       " View project at <a href='https://wandb.ai/antvis/IDSW_vgg_fine_hp_80_112023' target=\"_blank\">https://wandb.ai/antvis/IDSW_vgg_fine_hp_80_112023</a>"
      ],
      "text/plain": [
       "<IPython.core.display.HTML object>"
      ]
     },
     "metadata": {},
     "output_type": "display_data"
    },
    {
     "data": {
      "text/html": [
       " View sweep at <a href='https://wandb.ai/antvis/IDSW_vgg_fine_hp_80_112023/sweeps/obcz0eq3' target=\"_blank\">https://wandb.ai/antvis/IDSW_vgg_fine_hp_80_112023/sweeps/obcz0eq3</a>"
      ],
      "text/plain": [
       "<IPython.core.display.HTML object>"
      ]
     },
     "metadata": {},
     "output_type": "display_data"
    },
    {
     "data": {
      "text/html": [
       " View run at <a href='https://wandb.ai/antvis/IDSW_vgg_fine_hp_80_112023/runs/yyrx9qgr' target=\"_blank\">https://wandb.ai/antvis/IDSW_vgg_fine_hp_80_112023/runs/yyrx9qgr</a>"
      ],
      "text/plain": [
       "<IPython.core.display.HTML object>"
      ]
     },
     "metadata": {},
     "output_type": "display_data"
    },
    {
     "name": "stderr",
     "output_type": "stream",
     "text": [
      "\u001b[34m\u001b[1mwandb\u001b[0m: \u001b[33mWARNING\u001b[0m Ignored wandb.init() arg project when running a sweep.\n"
     ]
    },
    {
     "data": {
      "text/html": [
       "Finishing last run (ID:yyrx9qgr) before initializing another..."
      ],
      "text/plain": [
       "<IPython.core.display.HTML object>"
      ]
     },
     "metadata": {},
     "output_type": "display_data"
    },
    {
     "data": {
      "application/vnd.jupyter.widget-view+json": {
       "model_id": "",
       "version_major": 2,
       "version_minor": 0
      },
      "text/plain": [
       "VBox(children=(Label(value='0.006 MB of 0.006 MB uploaded\\r'), FloatProgress(value=1.0, max=1.0)))"
      ]
     },
     "metadata": {},
     "output_type": "display_data"
    },
    {
     "data": {
      "text/html": [
       " View run <strong style=\"color:#cdcd00\">honest-sweep-4</strong> at: <a href='https://wandb.ai/antvis/IDSW_vgg_fine_hp_80_112023/runs/yyrx9qgr' target=\"_blank\">https://wandb.ai/antvis/IDSW_vgg_fine_hp_80_112023/runs/yyrx9qgr</a><br/>Synced 5 W&B file(s), 0 media file(s), 0 artifact file(s) and 0 other file(s)"
      ],
      "text/plain": [
       "<IPython.core.display.HTML object>"
      ]
     },
     "metadata": {},
     "output_type": "display_data"
    },
    {
     "data": {
      "text/html": [
       "Find logs at: <code>./wandb/run-20231206_193748-yyrx9qgr/logs</code>"
      ],
      "text/plain": [
       "<IPython.core.display.HTML object>"
      ]
     },
     "metadata": {},
     "output_type": "display_data"
    },
    {
     "data": {
      "text/html": [
       "Successfully finished last run (ID:yyrx9qgr). Initializing new run:<br/>"
      ],
      "text/plain": [
       "<IPython.core.display.HTML object>"
      ]
     },
     "metadata": {},
     "output_type": "display_data"
    },
    {
     "data": {
      "application/vnd.jupyter.widget-view+json": {
       "model_id": "edc461c6363b42879cdf82b62d53ab19",
       "version_major": 2,
       "version_minor": 0
      },
      "text/plain": [
       "VBox(children=(Label(value='Waiting for wandb.init()...\\r'), FloatProgress(value=0.011112217365815821, max=1.0…"
      ]
     },
     "metadata": {},
     "output_type": "display_data"
    },
    {
     "name": "stderr",
     "output_type": "stream",
     "text": [
      "Thread WriterThread:\n",
      "Traceback (most recent call last):\n",
      "  File \"/its/home/nn268/.local/lib/python3.10/site-packages/wandb/sdk/internal/internal_util.py\", line 49, in run\n",
      "    self._run()\n",
      "  File \"/its/home/nn268/.local/lib/python3.10/site-packages/wandb/sdk/internal/internal_util.py\", line 100, in _run\n",
      "    self._process(record)\n",
      "  File \"/its/home/nn268/.local/lib/python3.10/site-packages/wandb/sdk/internal/internal.py\", line 380, in _process\n",
      "    self._wm.write(record)\n",
      "  File \"/its/home/nn268/.local/lib/python3.10/site-packages/wandb/sdk/internal/writer.py\", line 154, in write\n",
      "    write_handler(record)\n",
      "  File \"/its/home/nn268/.local/lib/python3.10/site-packages/wandb/sdk/internal/writer.py\", line 131, in _write\n",
      "    self.open()\n",
      "  File \"/its/home/nn268/.local/lib/python3.10/site-packages/wandb/sdk/internal/writer.py\", line 71, in open\n",
      "    self._ds.open_for_write(self._settings.sync_file)\n",
      "  File \"/its/home/nn268/.local/lib/python3.10/site-packages/wandb/sdk/internal/datastore.py\", line 87, in open_for_write\n",
      "    self._fp = open(fname, open_flags)\n",
      "FileExistsError: [Errno 17] File exists: '/its/home/nn268/antvis/antvis/optics/wandb/run-20231206_193748-yyrx9qgr/run-yyrx9qgr.wandb'\n",
      "wandb: ERROR Internal wandb error: file data was not synced\n",
      "Traceback (most recent call last):\n",
      "  File \"/tmp/ipykernel_3028376/1426131372.py\", line 6, in tr\n",
      "    model, save_dict = pipeline(config)\n",
      "  File \"/tmp/ipykernel_3028376/703131281.py\", line 192, in pipeline\n",
      "    with wandb.init(project=title, config=config):\n",
      "  File \"/its/home/nn268/.local/lib/python3.10/site-packages/wandb/sdk/wandb_init.py\", line 1185, in init\n",
      "    raise e\n",
      "  File \"/its/home/nn268/.local/lib/python3.10/site-packages/wandb/sdk/wandb_init.py\", line 1166, in init\n",
      "    run = wi.init()\n",
      "  File \"/its/home/nn268/.local/lib/python3.10/site-packages/wandb/sdk/wandb_init.py\", line 752, in init\n",
      "    result = run_init_handle.wait(\n",
      "  File \"/its/home/nn268/.local/lib/python3.10/site-packages/wandb/sdk/lib/mailbox.py\", line 281, in wait\n",
      "    raise MailboxError(\"transport failed\")\n",
      "wandb.sdk.lib.mailbox.MailboxError: transport failed\n",
      "\u001b[34m\u001b[1mwandb\u001b[0m: \u001b[32m\u001b[41mERROR\u001b[0m Run yyrx9qgr errored: BrokenPipeError(32, 'Broken pipe')\n"
     ]
    },
    {
     "name": "stdout",
     "output_type": "stream",
     "text": [
      "Problem at: /tmp/ipykernel_3028376/703131281.py 192 pipeline\n"
     ]
    },
    {
     "name": "stderr",
     "output_type": "stream",
     "text": [
      "\u001b[34m\u001b[1mwandb\u001b[0m: Agent Starting Run: ec9xw5a1 with config:\n",
      "\u001b[34m\u001b[1mwandb\u001b[0m: \tchannels: 3\n",
      "\u001b[34m\u001b[1mwandb\u001b[0m: \tdata_set: Augmented\n",
      "\u001b[34m\u001b[1mwandb\u001b[0m: \tepochs: 70\n",
      "\u001b[34m\u001b[1mwandb\u001b[0m: \tfirst_lin_lay: 248832\n",
      "\u001b[34m\u001b[1mwandb\u001b[0m: \timage_path: /its/home/nn268/optics/AugmentedDS_IDSW/\n",
      "\u001b[34m\u001b[1mwandb\u001b[0m: \tks: [3, 5]\n",
      "\u001b[34m\u001b[1mwandb\u001b[0m: \tlearning_rate: 0.0007756808611351511\n",
      "\u001b[34m\u001b[1mwandb\u001b[0m: \tloss_fn: MSE\n",
      "\u001b[34m\u001b[1mwandb\u001b[0m: \tmodel_name: vgg16net_mlp\n",
      "\u001b[34m\u001b[1mwandb\u001b[0m: \tnum_classes: 11\n",
      "\u001b[34m\u001b[1mwandb\u001b[0m: \toptimizer: adam\n",
      "\u001b[34m\u001b[1mwandb\u001b[0m: \tscheduler: 0.001\n"
     ]
    },
    {
     "data": {
      "text/html": [
       "wandb version 0.16.1 is available!  To upgrade, please run:\n",
       " $ pip install wandb --upgrade"
      ],
      "text/plain": [
       "<IPython.core.display.HTML object>"
      ]
     },
     "metadata": {},
     "output_type": "display_data"
    },
    {
     "data": {
      "text/html": [
       "Tracking run with wandb version 0.16.0"
      ],
      "text/plain": [
       "<IPython.core.display.HTML object>"
      ]
     },
     "metadata": {},
     "output_type": "display_data"
    },
    {
     "data": {
      "text/html": [
       "Run data is saved locally in <code>/its/home/nn268/antvis/antvis/optics/wandb/run-20231206_193808-ec9xw5a1</code>"
      ],
      "text/plain": [
       "<IPython.core.display.HTML object>"
      ]
     },
     "metadata": {},
     "output_type": "display_data"
    },
    {
     "data": {
      "text/html": [
       "Syncing run <strong><a href='https://wandb.ai/antvis/IDSW_vgg_fine_hp_80_112023/runs/ec9xw5a1' target=\"_blank\">atomic-sweep-5</a></strong> to <a href='https://wandb.ai/antvis/IDSW_vgg_fine_hp_80_112023' target=\"_blank\">Weights & Biases</a> (<a href='https://wandb.me/run' target=\"_blank\">docs</a>)<br/>Sweep page: <a href='https://wandb.ai/antvis/IDSW_vgg_fine_hp_80_112023/sweeps/obcz0eq3' target=\"_blank\">https://wandb.ai/antvis/IDSW_vgg_fine_hp_80_112023/sweeps/obcz0eq3</a>"
      ],
      "text/plain": [
       "<IPython.core.display.HTML object>"
      ]
     },
     "metadata": {},
     "output_type": "display_data"
    },
    {
     "data": {
      "text/html": [
       " View project at <a href='https://wandb.ai/antvis/IDSW_vgg_fine_hp_80_112023' target=\"_blank\">https://wandb.ai/antvis/IDSW_vgg_fine_hp_80_112023</a>"
      ],
      "text/plain": [
       "<IPython.core.display.HTML object>"
      ]
     },
     "metadata": {},
     "output_type": "display_data"
    },
    {
     "data": {
      "text/html": [
       " View sweep at <a href='https://wandb.ai/antvis/IDSW_vgg_fine_hp_80_112023/sweeps/obcz0eq3' target=\"_blank\">https://wandb.ai/antvis/IDSW_vgg_fine_hp_80_112023/sweeps/obcz0eq3</a>"
      ],
      "text/plain": [
       "<IPython.core.display.HTML object>"
      ]
     },
     "metadata": {},
     "output_type": "display_data"
    },
    {
     "data": {
      "text/html": [
       " View run at <a href='https://wandb.ai/antvis/IDSW_vgg_fine_hp_80_112023/runs/ec9xw5a1' target=\"_blank\">https://wandb.ai/antvis/IDSW_vgg_fine_hp_80_112023/runs/ec9xw5a1</a>"
      ],
      "text/plain": [
       "<IPython.core.display.HTML object>"
      ]
     },
     "metadata": {},
     "output_type": "display_data"
    },
    {
     "name": "stderr",
     "output_type": "stream",
     "text": [
      "\u001b[34m\u001b[1mwandb\u001b[0m: \u001b[33mWARNING\u001b[0m Ignored wandb.init() arg project when running a sweep.\n"
     ]
    },
    {
     "data": {
      "text/html": [
       "Finishing last run (ID:ec9xw5a1) before initializing another..."
      ],
      "text/plain": [
       "<IPython.core.display.HTML object>"
      ]
     },
     "metadata": {},
     "output_type": "display_data"
    },
    {
     "data": {
      "application/vnd.jupyter.widget-view+json": {
       "model_id": "",
       "version_major": 2,
       "version_minor": 0
      },
      "text/plain": [
       "VBox(children=(Label(value='0.006 MB of 0.006 MB uploaded\\r'), FloatProgress(value=1.0, max=1.0)))"
      ]
     },
     "metadata": {},
     "output_type": "display_data"
    },
    {
     "data": {
      "text/html": [
       " View run <strong style=\"color:#cdcd00\">atomic-sweep-5</strong> at: <a href='https://wandb.ai/antvis/IDSW_vgg_fine_hp_80_112023/runs/ec9xw5a1' target=\"_blank\">https://wandb.ai/antvis/IDSW_vgg_fine_hp_80_112023/runs/ec9xw5a1</a><br/>Synced 5 W&B file(s), 0 media file(s), 0 artifact file(s) and 0 other file(s)"
      ],
      "text/plain": [
       "<IPython.core.display.HTML object>"
      ]
     },
     "metadata": {},
     "output_type": "display_data"
    },
    {
     "data": {
      "text/html": [
       "Find logs at: <code>./wandb/run-20231206_193808-ec9xw5a1/logs</code>"
      ],
      "text/plain": [
       "<IPython.core.display.HTML object>"
      ]
     },
     "metadata": {},
     "output_type": "display_data"
    },
    {
     "data": {
      "text/html": [
       "Successfully finished last run (ID:ec9xw5a1). Initializing new run:<br/>"
      ],
      "text/plain": [
       "<IPython.core.display.HTML object>"
      ]
     },
     "metadata": {},
     "output_type": "display_data"
    },
    {
     "data": {
      "application/vnd.jupyter.widget-view+json": {
       "model_id": "d9bcd2d7e6ff4b21b47a92a7286390dd",
       "version_major": 2,
       "version_minor": 0
      },
      "text/plain": [
       "VBox(children=(Label(value='Waiting for wandb.init()...\\r'), FloatProgress(value=0.011112710999117956, max=1.0…"
      ]
     },
     "metadata": {},
     "output_type": "display_data"
    },
    {
     "data": {
      "text/html": [
       "wandb version 0.16.1 is available!  To upgrade, please run:\n",
       " $ pip install wandb --upgrade"
      ],
      "text/plain": [
       "<IPython.core.display.HTML object>"
      ]
     },
     "metadata": {},
     "output_type": "display_data"
    },
    {
     "data": {
      "text/html": [
       "Tracking run with wandb version 0.16.0"
      ],
      "text/plain": [
       "<IPython.core.display.HTML object>"
      ]
     },
     "metadata": {},
     "output_type": "display_data"
    },
    {
     "data": {
      "text/html": [
       "Run data is saved locally in <code>/its/home/nn268/antvis/antvis/optics/wandb/run-20231206_193809-ec9xw5a1</code>"
      ],
      "text/plain": [
       "<IPython.core.display.HTML object>"
      ]
     },
     "metadata": {},
     "output_type": "display_data"
    },
    {
     "data": {
      "text/html": [
       "Syncing run <strong><a href='https://wandb.ai/antvis/IDSW_vgg_fine_hp_80_112023/runs/ec9xw5a1' target=\"_blank\">atomic-sweep-5</a></strong> to <a href='https://wandb.ai/antvis/IDSW_vgg_fine_hp_80_112023' target=\"_blank\">Weights & Biases</a> (<a href='https://wandb.me/run' target=\"_blank\">docs</a>)<br/>Sweep page: <a href='https://wandb.ai/antvis/IDSW_vgg_fine_hp_80_112023/sweeps/obcz0eq3' target=\"_blank\">https://wandb.ai/antvis/IDSW_vgg_fine_hp_80_112023/sweeps/obcz0eq3</a>"
      ],
      "text/plain": [
       "<IPython.core.display.HTML object>"
      ]
     },
     "metadata": {},
     "output_type": "display_data"
    },
    {
     "data": {
      "text/html": [
       " View project at <a href='https://wandb.ai/antvis/IDSW_vgg_fine_hp_80_112023' target=\"_blank\">https://wandb.ai/antvis/IDSW_vgg_fine_hp_80_112023</a>"
      ],
      "text/plain": [
       "<IPython.core.display.HTML object>"
      ]
     },
     "metadata": {},
     "output_type": "display_data"
    },
    {
     "data": {
      "text/html": [
       " View sweep at <a href='https://wandb.ai/antvis/IDSW_vgg_fine_hp_80_112023/sweeps/obcz0eq3' target=\"_blank\">https://wandb.ai/antvis/IDSW_vgg_fine_hp_80_112023/sweeps/obcz0eq3</a>"
      ],
      "text/plain": [
       "<IPython.core.display.HTML object>"
      ]
     },
     "metadata": {},
     "output_type": "display_data"
    },
    {
     "data": {
      "text/html": [
       " View run at <a href='https://wandb.ai/antvis/IDSW_vgg_fine_hp_80_112023/runs/ec9xw5a1' target=\"_blank\">https://wandb.ai/antvis/IDSW_vgg_fine_hp_80_112023/runs/ec9xw5a1</a>"
      ],
      "text/plain": [
       "<IPython.core.display.HTML object>"
      ]
     },
     "metadata": {},
     "output_type": "display_data"
    },
    {
     "name": "stderr",
     "output_type": "stream",
     "text": [
      "  0%| | 0/70 [00:"
     ]
    },
    {
     "name": "stdout",
     "output_type": "stream",
     "text": [
      "E    0\n",
      "training...\n",
      "validating...\n"
     ]
    },
    {
     "name": "stderr",
     "output_type": "stream",
     "text": [
      "  1%| | 1/70 [01:"
     ]
    },
    {
     "name": "stdout",
     "output_type": "stream",
     "text": [
      "improvment in metrics. model saved\n",
      "E    1\n",
      "training...\n",
      "validating...\n"
     ]
    },
    {
     "name": "stderr",
     "output_type": "stream",
     "text": [
      "  3%| | 2/70 [02:"
     ]
    },
    {
     "name": "stdout",
     "output_type": "stream",
     "text": [
      "E    2\n",
      "training...\n",
      "validating...\n"
     ]
    },
    {
     "name": "stderr",
     "output_type": "stream",
     "text": [
      "  4%| | 3/70 [03:"
     ]
    },
    {
     "name": "stdout",
     "output_type": "stream",
     "text": [
      "E    3\n",
      "training...\n",
      "validating...\n"
     ]
    },
    {
     "name": "stderr",
     "output_type": "stream",
     "text": [
      "  6%| | 4/70 [04:"
     ]
    },
    {
     "name": "stdout",
     "output_type": "stream",
     "text": [
      "E    4\n",
      "training...\n",
      "validating...\n"
     ]
    },
    {
     "name": "stderr",
     "output_type": "stream",
     "text": [
      "  7%| | 5/70 [05:"
     ]
    },
    {
     "name": "stdout",
     "output_type": "stream",
     "text": [
      "E    5\n",
      "training...\n",
      "validating...\n"
     ]
    },
    {
     "name": "stderr",
     "output_type": "stream",
     "text": [
      " 11%| | 8/70 [08:"
     ]
    },
    {
     "name": "stdout",
     "output_type": "stream",
     "text": [
      "E    8\n",
      "training...\n",
      "validating...\n"
     ]
    },
    {
     "name": "stderr",
     "output_type": "stream",
     "text": [
      " 13%|▏| 9/70 [09:"
     ]
    },
    {
     "name": "stdout",
     "output_type": "stream",
     "text": [
      "E    9\n",
      "training...\n",
      "validating...\n"
     ]
    },
    {
     "name": "stderr",
     "output_type": "stream",
     "text": [
      " 14%|▏| 10/70 [10"
     ]
    },
    {
     "name": "stdout",
     "output_type": "stream",
     "text": [
      "E    10\n",
      "training...\n",
      "validating...\n"
     ]
    },
    {
     "name": "stderr",
     "output_type": "stream",
     "text": [
      " 16%|▏| 11/70 [11"
     ]
    },
    {
     "name": "stdout",
     "output_type": "stream",
     "text": [
      "E    11\n",
      "training...\n",
      "validating...\n"
     ]
    },
    {
     "name": "stderr",
     "output_type": "stream",
     "text": [
      " 17%|▏| 12/70 [12"
     ]
    },
    {
     "name": "stdout",
     "output_type": "stream",
     "text": [
      "E    12\n",
      "training...\n",
      "validating...\n"
     ]
    },
    {
     "name": "stderr",
     "output_type": "stream",
     "text": [
      " 19%|▏| 13/70 [13"
     ]
    },
    {
     "name": "stdout",
     "output_type": "stream",
     "text": [
      "E    13\n",
      "training...\n",
      "validating...\n"
     ]
    },
    {
     "name": "stderr",
     "output_type": "stream",
     "text": [
      " 20%|▏| 14/70 [14"
     ]
    },
    {
     "name": "stdout",
     "output_type": "stream",
     "text": [
      "E    14\n",
      "training...\n",
      "validating...\n"
     ]
    },
    {
     "name": "stderr",
     "output_type": "stream",
     "text": [
      " 21%|▏| 15/70 [15"
     ]
    },
    {
     "name": "stdout",
     "output_type": "stream",
     "text": [
      "E    15\n",
      "training...\n",
      "validating...\n"
     ]
    },
    {
     "name": "stderr",
     "output_type": "stream",
     "text": [
      " 23%|▏| 16/70 [16"
     ]
    },
    {
     "name": "stdout",
     "output_type": "stream",
     "text": [
      "E    16\n",
      "training...\n",
      "validating...\n"
     ]
    },
    {
     "name": "stderr",
     "output_type": "stream",
     "text": [
      " 24%|▏| 17/70 [17"
     ]
    },
    {
     "name": "stdout",
     "output_type": "stream",
     "text": [
      "E    17\n",
      "training...\n",
      "validating...\n"
     ]
    },
    {
     "name": "stderr",
     "output_type": "stream",
     "text": [
      " 26%|▎| 18/70 [18"
     ]
    },
    {
     "name": "stdout",
     "output_type": "stream",
     "text": [
      "E    18\n",
      "training...\n",
      "validating...\n"
     ]
    },
    {
     "name": "stderr",
     "output_type": "stream",
     "text": [
      " 27%|▎| 19/70 [19"
     ]
    },
    {
     "name": "stdout",
     "output_type": "stream",
     "text": [
      "E    19\n",
      "training...\n",
      "validating...\n"
     ]
    },
    {
     "name": "stderr",
     "output_type": "stream",
     "text": [
      " 29%|▎| 20/70 [20"
     ]
    },
    {
     "name": "stdout",
     "output_type": "stream",
     "text": [
      "E    20\n",
      "training...\n",
      "validating...\n"
     ]
    },
    {
     "name": "stderr",
     "output_type": "stream",
     "text": [
      " 30%|▎| 21/70 [21"
     ]
    },
    {
     "name": "stdout",
     "output_type": "stream",
     "text": [
      "E    21\n",
      "training...\n",
      "validating...\n"
     ]
    },
    {
     "name": "stderr",
     "output_type": "stream",
     "text": [
      " 31%|▎| 22/70 [22"
     ]
    },
    {
     "name": "stdout",
     "output_type": "stream",
     "text": [
      "E    22\n",
      "training...\n",
      "validating...\n"
     ]
    },
    {
     "name": "stderr",
     "output_type": "stream",
     "text": [
      " 33%|▎| 23/70 [23"
     ]
    },
    {
     "name": "stdout",
     "output_type": "stream",
     "text": [
      "E    23\n",
      "training...\n",
      "validating...\n"
     ]
    },
    {
     "name": "stderr",
     "output_type": "stream",
     "text": [
      " 34%|▎| 24/70 [24"
     ]
    },
    {
     "name": "stdout",
     "output_type": "stream",
     "text": [
      "E    24\n",
      "training...\n",
      "validating...\n"
     ]
    },
    {
     "name": "stderr",
     "output_type": "stream",
     "text": [
      " 36%|▎| 25/70 [25"
     ]
    },
    {
     "name": "stdout",
     "output_type": "stream",
     "text": [
      "E    25\n",
      "training...\n",
      "validating...\n"
     ]
    },
    {
     "name": "stderr",
     "output_type": "stream",
     "text": [
      " 37%|▎| 26/70 [26"
     ]
    },
    {
     "name": "stdout",
     "output_type": "stream",
     "text": [
      "E    26\n",
      "training...\n",
      "validating...\n"
     ]
    },
    {
     "name": "stderr",
     "output_type": "stream",
     "text": [
      " 39%|▍| 27/70 [27"
     ]
    },
    {
     "name": "stdout",
     "output_type": "stream",
     "text": [
      "E    27\n",
      "training...\n",
      "validating...\n"
     ]
    },
    {
     "name": "stderr",
     "output_type": "stream",
     "text": [
      " 40%|▍| 28/70 [28"
     ]
    },
    {
     "name": "stdout",
     "output_type": "stream",
     "text": [
      "E    28\n",
      "training...\n",
      "validating...\n"
     ]
    },
    {
     "name": "stderr",
     "output_type": "stream",
     "text": [
      " 41%|▍| 29/70 [29"
     ]
    },
    {
     "name": "stdout",
     "output_type": "stream",
     "text": [
      "E    29\n",
      "training...\n",
      "validating...\n"
     ]
    },
    {
     "name": "stderr",
     "output_type": "stream",
     "text": [
      " 43%|▍| 30/70 [30"
     ]
    },
    {
     "name": "stdout",
     "output_type": "stream",
     "text": [
      "E    30\n",
      "training...\n",
      "validating...\n"
     ]
    },
    {
     "name": "stderr",
     "output_type": "stream",
     "text": [
      " 44%|▍| 31/70 [31"
     ]
    },
    {
     "name": "stdout",
     "output_type": "stream",
     "text": [
      "E    31\n",
      "training...\n",
      "validating...\n"
     ]
    },
    {
     "name": "stderr",
     "output_type": "stream",
     "text": [
      " 46%|▍| 32/70 [32"
     ]
    },
    {
     "name": "stdout",
     "output_type": "stream",
     "text": [
      "E    32\n",
      "training...\n",
      "validating...\n"
     ]
    },
    {
     "name": "stderr",
     "output_type": "stream",
     "text": [
      " 47%|▍| 33/70 [33"
     ]
    },
    {
     "name": "stdout",
     "output_type": "stream",
     "text": [
      "E    33\n",
      "training...\n",
      "validating...\n"
     ]
    },
    {
     "name": "stderr",
     "output_type": "stream",
     "text": [
      " 49%|▍| 34/70 [34"
     ]
    },
    {
     "name": "stdout",
     "output_type": "stream",
     "text": [
      "E    34\n",
      "training...\n",
      "validating...\n"
     ]
    },
    {
     "name": "stderr",
     "output_type": "stream",
     "text": [
      " 50%|▌| 35/70 [35"
     ]
    },
    {
     "name": "stdout",
     "output_type": "stream",
     "text": [
      "E    35\n",
      "training...\n",
      "validating...\n"
     ]
    },
    {
     "name": "stderr",
     "output_type": "stream",
     "text": [
      " 51%|▌| 36/70 [36"
     ]
    },
    {
     "name": "stdout",
     "output_type": "stream",
     "text": [
      "E    36\n",
      "training...\n",
      "validating...\n"
     ]
    },
    {
     "name": "stderr",
     "output_type": "stream",
     "text": [
      " 53%|▌| 37/70 [37"
     ]
    },
    {
     "name": "stdout",
     "output_type": "stream",
     "text": [
      "E    37\n",
      "training...\n",
      "validating...\n"
     ]
    },
    {
     "name": "stderr",
     "output_type": "stream",
     "text": [
      " 54%|▌| 38/70 [38"
     ]
    },
    {
     "name": "stdout",
     "output_type": "stream",
     "text": [
      "E    38\n",
      "training...\n",
      "validating...\n"
     ]
    },
    {
     "name": "stderr",
     "output_type": "stream",
     "text": [
      " 56%|▌| 39/70 [39"
     ]
    },
    {
     "name": "stdout",
     "output_type": "stream",
     "text": [
      "E    39\n",
      "training...\n",
      "validating...\n"
     ]
    },
    {
     "name": "stderr",
     "output_type": "stream",
     "text": [
      " 57%|▌| 40/70 [40"
     ]
    },
    {
     "name": "stdout",
     "output_type": "stream",
     "text": [
      "E    40\n",
      "training...\n",
      "validating...\n"
     ]
    },
    {
     "name": "stderr",
     "output_type": "stream",
     "text": [
      " 59%|▌| 41/70 [41"
     ]
    },
    {
     "name": "stdout",
     "output_type": "stream",
     "text": [
      "E    41\n",
      "training...\n",
      "validating...\n"
     ]
    },
    {
     "name": "stderr",
     "output_type": "stream",
     "text": [
      " 60%|▌| 42/70 [42"
     ]
    },
    {
     "name": "stdout",
     "output_type": "stream",
     "text": [
      "E    42\n",
      "training...\n",
      "validating...\n"
     ]
    },
    {
     "name": "stderr",
     "output_type": "stream",
     "text": [
      " 61%|▌| 43/70 [43"
     ]
    },
    {
     "name": "stdout",
     "output_type": "stream",
     "text": [
      "E    43\n",
      "training...\n",
      "validating...\n"
     ]
    },
    {
     "name": "stderr",
     "output_type": "stream",
     "text": [
      " 63%|▋| 44/70 [44"
     ]
    },
    {
     "name": "stdout",
     "output_type": "stream",
     "text": [
      "E    44\n",
      "training...\n",
      "validating...\n"
     ]
    },
    {
     "name": "stderr",
     "output_type": "stream",
     "text": [
      " 64%|▋| 45/70 [45"
     ]
    },
    {
     "name": "stdout",
     "output_type": "stream",
     "text": [
      "E    45\n",
      "training...\n",
      "validating...\n"
     ]
    },
    {
     "name": "stderr",
     "output_type": "stream",
     "text": [
      " 66%|▋| 46/70 [46"
     ]
    },
    {
     "name": "stdout",
     "output_type": "stream",
     "text": [
      "E    46\n",
      "training...\n",
      "validating...\n"
     ]
    },
    {
     "name": "stderr",
     "output_type": "stream",
     "text": [
      " 67%|▋| 47/70 [47"
     ]
    },
    {
     "name": "stdout",
     "output_type": "stream",
     "text": [
      "E    47\n",
      "training...\n",
      "validating...\n"
     ]
    },
    {
     "name": "stderr",
     "output_type": "stream",
     "text": [
      " 69%|▋| 48/70 [48"
     ]
    },
    {
     "name": "stdout",
     "output_type": "stream",
     "text": [
      "E    48\n",
      "training...\n",
      "validating...\n"
     ]
    },
    {
     "name": "stderr",
     "output_type": "stream",
     "text": [
      " 70%|▋| 49/70 [49"
     ]
    },
    {
     "name": "stdout",
     "output_type": "stream",
     "text": [
      "E    49\n",
      "training...\n",
      "validating...\n"
     ]
    },
    {
     "name": "stderr",
     "output_type": "stream",
     "text": [
      " 71%|▋| 50/70 [50"
     ]
    },
    {
     "name": "stdout",
     "output_type": "stream",
     "text": [
      "E    50\n",
      "training...\n",
      "validating...\n"
     ]
    },
    {
     "name": "stderr",
     "output_type": "stream",
     "text": [
      " 73%|▋| 51/70 [51"
     ]
    },
    {
     "name": "stdout",
     "output_type": "stream",
     "text": [
      "E    51\n",
      "training...\n",
      "validating...\n"
     ]
    },
    {
     "name": "stderr",
     "output_type": "stream",
     "text": [
      " 74%|▋| 52/70 [52"
     ]
    },
    {
     "name": "stdout",
     "output_type": "stream",
     "text": [
      "E    52\n",
      "training...\n",
      "validating...\n"
     ]
    },
    {
     "name": "stderr",
     "output_type": "stream",
     "text": [
      " 76%|▊| 53/70 [53"
     ]
    },
    {
     "name": "stdout",
     "output_type": "stream",
     "text": [
      "E    53\n",
      "training...\n",
      "validating...\n"
     ]
    },
    {
     "name": "stderr",
     "output_type": "stream",
     "text": [
      " 77%|▊| 54/70 [54"
     ]
    },
    {
     "name": "stdout",
     "output_type": "stream",
     "text": [
      "E    54\n",
      "training...\n",
      "validating...\n"
     ]
    },
    {
     "name": "stderr",
     "output_type": "stream",
     "text": [
      " 79%|▊| 55/70 [55"
     ]
    },
    {
     "name": "stdout",
     "output_type": "stream",
     "text": [
      "E    55\n",
      "training...\n",
      "validating...\n"
     ]
    },
    {
     "name": "stderr",
     "output_type": "stream",
     "text": [
      " 80%|▊| 56/70 [56"
     ]
    },
    {
     "name": "stdout",
     "output_type": "stream",
     "text": [
      "E    56\n",
      "training...\n",
      "validating...\n"
     ]
    },
    {
     "name": "stderr",
     "output_type": "stream",
     "text": [
      " 81%|▊| 57/70 [57"
     ]
    },
    {
     "name": "stdout",
     "output_type": "stream",
     "text": [
      "E    57\n",
      "training...\n",
      "validating...\n"
     ]
    },
    {
     "name": "stderr",
     "output_type": "stream",
     "text": [
      " 83%|▊| 58/70 [58"
     ]
    },
    {
     "name": "stdout",
     "output_type": "stream",
     "text": [
      "E    58\n",
      "training...\n",
      "validating...\n"
     ]
    },
    {
     "name": "stderr",
     "output_type": "stream",
     "text": [
      " 84%|▊| 59/70 [1:"
     ]
    },
    {
     "name": "stdout",
     "output_type": "stream",
     "text": [
      "E    59\n",
      "training...\n",
      "validating...\n"
     ]
    },
    {
     "name": "stderr",
     "output_type": "stream",
     "text": [
      " 86%|▊| 60/70 [1:"
     ]
    },
    {
     "name": "stdout",
     "output_type": "stream",
     "text": [
      "E    60\n",
      "training...\n",
      "validating...\n"
     ]
    },
    {
     "name": "stderr",
     "output_type": "stream",
     "text": [
      " 87%|▊| 61/70 [1:"
     ]
    },
    {
     "name": "stdout",
     "output_type": "stream",
     "text": [
      "E    61\n",
      "training...\n",
      "validating...\n"
     ]
    },
    {
     "name": "stderr",
     "output_type": "stream",
     "text": [
      " 89%|▉| 62/70 [1:"
     ]
    },
    {
     "name": "stdout",
     "output_type": "stream",
     "text": [
      "E    62\n",
      "training...\n",
      "validating...\n"
     ]
    },
    {
     "name": "stderr",
     "output_type": "stream",
     "text": [
      " 90%|▉| 63/70 [1:"
     ]
    },
    {
     "name": "stdout",
     "output_type": "stream",
     "text": [
      "E    63\n",
      "training...\n",
      "validating...\n"
     ]
    },
    {
     "name": "stderr",
     "output_type": "stream",
     "text": [
      " 91%|▉| 64/70 [1:"
     ]
    },
    {
     "name": "stdout",
     "output_type": "stream",
     "text": [
      "E    64\n",
      "training...\n",
      "validating...\n"
     ]
    },
    {
     "name": "stderr",
     "output_type": "stream",
     "text": [
      " 93%|▉| 65/70 [1:"
     ]
    },
    {
     "name": "stdout",
     "output_type": "stream",
     "text": [
      "E    65\n",
      "training...\n",
      "validating...\n"
     ]
    },
    {
     "name": "stderr",
     "output_type": "stream",
     "text": [
      " 94%|▉| 66/70 [1:"
     ]
    },
    {
     "name": "stdout",
     "output_type": "stream",
     "text": [
      "E    66\n",
      "training...\n",
      "validating...\n"
     ]
    },
    {
     "name": "stderr",
     "output_type": "stream",
     "text": [
      " 96%|▉| 67/70 [1:"
     ]
    },
    {
     "name": "stdout",
     "output_type": "stream",
     "text": [
      "E    67\n",
      "training...\n",
      "validating...\n"
     ]
    },
    {
     "name": "stderr",
     "output_type": "stream",
     "text": [
      " 97%|▉| 68/70 [1:"
     ]
    },
    {
     "name": "stdout",
     "output_type": "stream",
     "text": [
      "E    68\n",
      "training...\n",
      "validating...\n"
     ]
    },
    {
     "name": "stderr",
     "output_type": "stream",
     "text": [
      " 99%|▉| 69/70 [1:"
     ]
    },
    {
     "name": "stdout",
     "output_type": "stream",
     "text": [
      "E    69\n",
      "training...\n",
      "validating...\n"
     ]
    },
    {
     "name": "stderr",
     "output_type": "stream",
     "text": [
      "100%|█| 70/70 [1:\n"
     ]
    },
    {
     "data": {
      "application/vnd.jupyter.widget-view+json": {
       "model_id": "",
       "version_major": 2,
       "version_minor": 0
      },
      "text/plain": [
       "VBox(children=(Label(value='0.006 MB of 0.006 MB uploaded\\r'), FloatProgress(value=1.0, max=1.0)))"
      ]
     },
     "metadata": {},
     "output_type": "display_data"
    },
    {
     "data": {
      "text/html": [
       "<style>\n",
       "    table.wandb td:nth-child(1) { padding: 0 10px; text-align: left ; width: auto;} td:nth-child(2) {text-align: left ; width: 100%}\n",
       "    .wandb-row { display: flex; flex-direction: row; flex-wrap: wrap; justify-content: flex-start; width: 100% }\n",
       "    .wandb-col { display: flex; flex-direction: column; flex-basis: 100%; flex: 1; padding: 10px; }\n",
       "    </style>\n",
       "<div class=\"wandb-row\"><div class=\"wandb-col\"><h3>Run history:</h3><br/><table class=\"wandb\"><tr><td>epoch</td><td>▁▁▁▁▂▂▂▂▂▃▃▃▃▃▃▄▄▄▄▄▅▅▅▅▅▆▆▆▆▆▆▇▇▇▇▇████</td></tr><tr><td>t_loss</td><td>▇▅▆▆▅▅█▁█▆▆▆▆▂▃▅▇▆▆▅▇▇▃▅▆▅▆▇▇▁▇▃▅▆▅</td></tr><tr><td>train_accuracy_%</td><td>▅▆▅▆▃▅▃▄▄▆▆▃▄█▃▁▅▅▃▄▄▄▅▄▇▄▁▄█▄▅▃▄▃▃</td></tr><tr><td>v_loss</td><td>▁▁▁▁▁▁▁▁▁▁▁▁▁▁▁▁▁▁▁▁▁▁▁▁▁▁▁▁▁▁▁▁▁▁▁</td></tr><tr><td>val_accuracy_%</td><td>▁▁▁▁▁▁▁▁▁▁▁▁▁▁▁▁▁▁▁▁▁▁▁▁▁▁▁▁▁▁▁▁▁▁▁</td></tr></table><br/></div><div class=\"wandb-col\"><h3>Run summary:</h3><br/><table class=\"wandb\"><tr><td>epoch</td><td>69</td></tr><tr><td>t_loss</td><td>0.05452</td></tr><tr><td>train_accuracy_%</td><td>0.10291</td></tr><tr><td>v_loss</td><td>0.09206</td></tr><tr><td>val_accuracy_%</td><td>0.09455</td></tr></table><br/></div></div>"
      ],
      "text/plain": [
       "<IPython.core.display.HTML object>"
      ]
     },
     "metadata": {},
     "output_type": "display_data"
    },
    {
     "data": {
      "text/html": [
       " View run <strong style=\"color:#cdcd00\">atomic-sweep-5</strong> at: <a href='https://wandb.ai/antvis/IDSW_vgg_fine_hp_80_112023/runs/ec9xw5a1' target=\"_blank\">https://wandb.ai/antvis/IDSW_vgg_fine_hp_80_112023/runs/ec9xw5a1</a><br/>Synced 5 W&B file(s), 0 media file(s), 0 artifact file(s) and 0 other file(s)"
      ],
      "text/plain": [
       "<IPython.core.display.HTML object>"
      ]
     },
     "metadata": {},
     "output_type": "display_data"
    },
    {
     "data": {
      "text/html": [
       "Find logs at: <code>./wandb/run-20231206_193809-ec9xw5a1/logs</code>"
      ],
      "text/plain": [
       "<IPython.core.display.HTML object>"
      ]
     },
     "metadata": {},
     "output_type": "display_data"
    },
    {
     "name": "stderr",
     "output_type": "stream",
     "text": [
      "\u001b[34m\u001b[1mwandb\u001b[0m: Agent Starting Run: pqk84dp8 with config:\n",
      "\u001b[34m\u001b[1mwandb\u001b[0m: \tchannels: 3\n",
      "\u001b[34m\u001b[1mwandb\u001b[0m: \tdata_set: Augmented\n",
      "\u001b[34m\u001b[1mwandb\u001b[0m: \tepochs: 70\n",
      "\u001b[34m\u001b[1mwandb\u001b[0m: \tfirst_lin_lay: 248832\n",
      "\u001b[34m\u001b[1mwandb\u001b[0m: \timage_path: /its/home/nn268/optics/AugmentedDS_IDSW/\n",
      "\u001b[34m\u001b[1mwandb\u001b[0m: \tks: [3, 5]\n",
      "\u001b[34m\u001b[1mwandb\u001b[0m: \tlearning_rate: 0.00010086727055239513\n",
      "\u001b[34m\u001b[1mwandb\u001b[0m: \tloss_fn: CrossEntropy\n",
      "\u001b[34m\u001b[1mwandb\u001b[0m: \tmodel_name: vgg16net_mlp\n",
      "\u001b[34m\u001b[1mwandb\u001b[0m: \tnum_classes: 11\n",
      "\u001b[34m\u001b[1mwandb\u001b[0m: \toptimizer: adam\n",
      "\u001b[34m\u001b[1mwandb\u001b[0m: \tscheduler: 0.001\n"
     ]
    },
    {
     "data": {
      "text/html": [
       "wandb version 0.16.1 is available!  To upgrade, please run:\n",
       " $ pip install wandb --upgrade"
      ],
      "text/plain": [
       "<IPython.core.display.HTML object>"
      ]
     },
     "metadata": {},
     "output_type": "display_data"
    },
    {
     "data": {
      "text/html": [
       "Tracking run with wandb version 0.16.0"
      ],
      "text/plain": [
       "<IPython.core.display.HTML object>"
      ]
     },
     "metadata": {},
     "output_type": "display_data"
    },
    {
     "data": {
      "text/html": [
       "Run data is saved locally in <code>/its/home/nn268/antvis/antvis/optics/wandb/run-20231206_204953-pqk84dp8</code>"
      ],
      "text/plain": [
       "<IPython.core.display.HTML object>"
      ]
     },
     "metadata": {},
     "output_type": "display_data"
    },
    {
     "data": {
      "text/html": [
       "Syncing run <strong><a href='https://wandb.ai/antvis/IDSW_vgg_fine_hp_80_112023/runs/pqk84dp8' target=\"_blank\">azure-sweep-6</a></strong> to <a href='https://wandb.ai/antvis/IDSW_vgg_fine_hp_80_112023' target=\"_blank\">Weights & Biases</a> (<a href='https://wandb.me/run' target=\"_blank\">docs</a>)<br/>Sweep page: <a href='https://wandb.ai/antvis/IDSW_vgg_fine_hp_80_112023/sweeps/obcz0eq3' target=\"_blank\">https://wandb.ai/antvis/IDSW_vgg_fine_hp_80_112023/sweeps/obcz0eq3</a>"
      ],
      "text/plain": [
       "<IPython.core.display.HTML object>"
      ]
     },
     "metadata": {},
     "output_type": "display_data"
    },
    {
     "data": {
      "text/html": [
       " View project at <a href='https://wandb.ai/antvis/IDSW_vgg_fine_hp_80_112023' target=\"_blank\">https://wandb.ai/antvis/IDSW_vgg_fine_hp_80_112023</a>"
      ],
      "text/plain": [
       "<IPython.core.display.HTML object>"
      ]
     },
     "metadata": {},
     "output_type": "display_data"
    },
    {
     "data": {
      "text/html": [
       " View sweep at <a href='https://wandb.ai/antvis/IDSW_vgg_fine_hp_80_112023/sweeps/obcz0eq3' target=\"_blank\">https://wandb.ai/antvis/IDSW_vgg_fine_hp_80_112023/sweeps/obcz0eq3</a>"
      ],
      "text/plain": [
       "<IPython.core.display.HTML object>"
      ]
     },
     "metadata": {},
     "output_type": "display_data"
    },
    {
     "data": {
      "text/html": [
       " View run at <a href='https://wandb.ai/antvis/IDSW_vgg_fine_hp_80_112023/runs/pqk84dp8' target=\"_blank\">https://wandb.ai/antvis/IDSW_vgg_fine_hp_80_112023/runs/pqk84dp8</a>"
      ],
      "text/plain": [
       "<IPython.core.display.HTML object>"
      ]
     },
     "metadata": {},
     "output_type": "display_data"
    },
    {
     "name": "stderr",
     "output_type": "stream",
     "text": [
      "\u001b[34m\u001b[1mwandb\u001b[0m: \u001b[33mWARNING\u001b[0m Ignored wandb.init() arg project when running a sweep.\n"
     ]
    },
    {
     "data": {
      "text/html": [
       "Finishing last run (ID:pqk84dp8) before initializing another..."
      ],
      "text/plain": [
       "<IPython.core.display.HTML object>"
      ]
     },
     "metadata": {},
     "output_type": "display_data"
    },
    {
     "data": {
      "application/vnd.jupyter.widget-view+json": {
       "model_id": "",
       "version_major": 2,
       "version_minor": 0
      },
      "text/plain": [
       "VBox(children=(Label(value='0.006 MB of 0.006 MB uploaded\\r'), FloatProgress(value=1.0, max=1.0)))"
      ]
     },
     "metadata": {},
     "output_type": "display_data"
    },
    {
     "data": {
      "text/html": [
       " View run <strong style=\"color:#cdcd00\">azure-sweep-6</strong> at: <a href='https://wandb.ai/antvis/IDSW_vgg_fine_hp_80_112023/runs/pqk84dp8' target=\"_blank\">https://wandb.ai/antvis/IDSW_vgg_fine_hp_80_112023/runs/pqk84dp8</a><br/>Synced 5 W&B file(s), 0 media file(s), 0 artifact file(s) and 0 other file(s)"
      ],
      "text/plain": [
       "<IPython.core.display.HTML object>"
      ]
     },
     "metadata": {},
     "output_type": "display_data"
    },
    {
     "data": {
      "text/html": [
       "Find logs at: <code>./wandb/run-20231206_204953-pqk84dp8/logs</code>"
      ],
      "text/plain": [
       "<IPython.core.display.HTML object>"
      ]
     },
     "metadata": {},
     "output_type": "display_data"
    },
    {
     "data": {
      "text/html": [
       "Successfully finished last run (ID:pqk84dp8). Initializing new run:<br/>"
      ],
      "text/plain": [
       "<IPython.core.display.HTML object>"
      ]
     },
     "metadata": {},
     "output_type": "display_data"
    },
    {
     "data": {
      "application/vnd.jupyter.widget-view+json": {
       "model_id": "35425d85d6524115952c76729083dec2",
       "version_major": 2,
       "version_minor": 0
      },
      "text/plain": [
       "VBox(children=(Label(value='Waiting for wandb.init()...\\r'), FloatProgress(value=0.01111218427799435, max=1.0)…"
      ]
     },
     "metadata": {},
     "output_type": "display_data"
    },
    {
     "data": {
      "text/html": [
       "wandb version 0.16.1 is available!  To upgrade, please run:\n",
       " $ pip install wandb --upgrade"
      ],
      "text/plain": [
       "<IPython.core.display.HTML object>"
      ]
     },
     "metadata": {},
     "output_type": "display_data"
    },
    {
     "data": {
      "text/html": [
       "Tracking run with wandb version 0.16.0"
      ],
      "text/plain": [
       "<IPython.core.display.HTML object>"
      ]
     },
     "metadata": {},
     "output_type": "display_data"
    },
    {
     "data": {
      "text/html": [
       "Run data is saved locally in <code>/its/home/nn268/antvis/antvis/optics/wandb/run-20231206_204954-pqk84dp8</code>"
      ],
      "text/plain": [
       "<IPython.core.display.HTML object>"
      ]
     },
     "metadata": {},
     "output_type": "display_data"
    },
    {
     "data": {
      "text/html": [
       "Syncing run <strong><a href='https://wandb.ai/antvis/IDSW_vgg_fine_hp_80_112023/runs/pqk84dp8' target=\"_blank\">azure-sweep-6</a></strong> to <a href='https://wandb.ai/antvis/IDSW_vgg_fine_hp_80_112023' target=\"_blank\">Weights & Biases</a> (<a href='https://wandb.me/run' target=\"_blank\">docs</a>)<br/>Sweep page: <a href='https://wandb.ai/antvis/IDSW_vgg_fine_hp_80_112023/sweeps/obcz0eq3' target=\"_blank\">https://wandb.ai/antvis/IDSW_vgg_fine_hp_80_112023/sweeps/obcz0eq3</a>"
      ],
      "text/plain": [
       "<IPython.core.display.HTML object>"
      ]
     },
     "metadata": {},
     "output_type": "display_data"
    },
    {
     "data": {
      "text/html": [
       " View project at <a href='https://wandb.ai/antvis/IDSW_vgg_fine_hp_80_112023' target=\"_blank\">https://wandb.ai/antvis/IDSW_vgg_fine_hp_80_112023</a>"
      ],
      "text/plain": [
       "<IPython.core.display.HTML object>"
      ]
     },
     "metadata": {},
     "output_type": "display_data"
    },
    {
     "data": {
      "text/html": [
       " View sweep at <a href='https://wandb.ai/antvis/IDSW_vgg_fine_hp_80_112023/sweeps/obcz0eq3' target=\"_blank\">https://wandb.ai/antvis/IDSW_vgg_fine_hp_80_112023/sweeps/obcz0eq3</a>"
      ],
      "text/plain": [
       "<IPython.core.display.HTML object>"
      ]
     },
     "metadata": {},
     "output_type": "display_data"
    },
    {
     "data": {
      "text/html": [
       " View run at <a href='https://wandb.ai/antvis/IDSW_vgg_fine_hp_80_112023/runs/pqk84dp8' target=\"_blank\">https://wandb.ai/antvis/IDSW_vgg_fine_hp_80_112023/runs/pqk84dp8</a>"
      ],
      "text/plain": [
       "<IPython.core.display.HTML object>"
      ]
     },
     "metadata": {},
     "output_type": "display_data"
    },
    {
     "name": "stderr",
     "output_type": "stream",
     "text": [
      "  0%| | 0/70 [00:"
     ]
    },
    {
     "name": "stdout",
     "output_type": "stream",
     "text": [
      "E    0\n",
      "training...\n",
      "validating...\n"
     ]
    },
    {
     "name": "stderr",
     "output_type": "stream",
     "text": [
      "  1%| | 1/70 [01:"
     ]
    },
    {
     "name": "stdout",
     "output_type": "stream",
     "text": [
      "improvment in metrics. model saved\n",
      "E    1\n",
      "training...\n",
      "validating...\n"
     ]
    },
    {
     "name": "stderr",
     "output_type": "stream",
     "text": [
      "  3%| | 2/70 [02:"
     ]
    },
    {
     "name": "stdout",
     "output_type": "stream",
     "text": [
      "E    2\n",
      "training...\n",
      "validating...\n"
     ]
    },
    {
     "name": "stderr",
     "output_type": "stream",
     "text": [
      "  4%| | 3/70 [03:"
     ]
    },
    {
     "name": "stdout",
     "output_type": "stream",
     "text": [
      "E    3\n",
      "training...\n",
      "validating...\n"
     ]
    },
    {
     "name": "stderr",
     "output_type": "stream",
     "text": [
      "  6%| | 4/70 [04:"
     ]
    },
    {
     "name": "stdout",
     "output_type": "stream",
     "text": [
      "E    4\n",
      "training...\n",
      "validating...\n"
     ]
    },
    {
     "name": "stderr",
     "output_type": "stream",
     "text": [
      "  7%| | 5/70 [05:"
     ]
    },
    {
     "name": "stdout",
     "output_type": "stream",
     "text": [
      "E    5\n",
      "training...\n",
      "validating...\n"
     ]
    },
    {
     "name": "stderr",
     "output_type": "stream",
     "text": [
      "  9%| | 6/70 [06:"
     ]
    },
    {
     "name": "stdout",
     "output_type": "stream",
     "text": [
      "E    6\n",
      "training...\n",
      "validating...\n"
     ]
    },
    {
     "name": "stderr",
     "output_type": "stream",
     "text": [
      " 10%| | 7/70 [07:"
     ]
    },
    {
     "name": "stdout",
     "output_type": "stream",
     "text": [
      "E    7\n",
      "training...\n",
      "validating...\n"
     ]
    },
    {
     "name": "stderr",
     "output_type": "stream",
     "text": [
      " 11%| | 8/70 [08:"
     ]
    },
    {
     "name": "stdout",
     "output_type": "stream",
     "text": [
      "E    8\n",
      "training...\n",
      "validating...\n"
     ]
    },
    {
     "name": "stderr",
     "output_type": "stream",
     "text": [
      " 13%|▏| 9/70 [09:"
     ]
    },
    {
     "name": "stdout",
     "output_type": "stream",
     "text": [
      "E    9\n",
      "training...\n",
      "validating...\n"
     ]
    },
    {
     "name": "stderr",
     "output_type": "stream",
     "text": [
      " 14%|▏| 10/70 [10"
     ]
    },
    {
     "name": "stdout",
     "output_type": "stream",
     "text": [
      "E    10\n",
      "training...\n",
      "validating...\n"
     ]
    },
    {
     "name": "stderr",
     "output_type": "stream",
     "text": [
      " 16%|▏| 11/70 [11"
     ]
    },
    {
     "name": "stdout",
     "output_type": "stream",
     "text": [
      "E    11\n",
      "training...\n",
      "validating...\n"
     ]
    },
    {
     "name": "stderr",
     "output_type": "stream",
     "text": [
      " 17%|▏| 12/70 [12"
     ]
    },
    {
     "name": "stdout",
     "output_type": "stream",
     "text": [
      "E    12\n",
      "training...\n",
      "validating...\n"
     ]
    },
    {
     "name": "stderr",
     "output_type": "stream",
     "text": [
      " 19%|▏| 13/70 [13"
     ]
    },
    {
     "name": "stdout",
     "output_type": "stream",
     "text": [
      "E    13\n",
      "training...\n",
      "validating...\n"
     ]
    },
    {
     "name": "stderr",
     "output_type": "stream",
     "text": [
      " 20%|▏| 14/70 [14"
     ]
    },
    {
     "name": "stdout",
     "output_type": "stream",
     "text": [
      "E    14\n",
      "training...\n",
      "validating...\n"
     ]
    },
    {
     "name": "stderr",
     "output_type": "stream",
     "text": [
      " 21%|▏| 15/70 [15"
     ]
    },
    {
     "name": "stdout",
     "output_type": "stream",
     "text": [
      "E    15\n",
      "training...\n",
      "validating...\n"
     ]
    },
    {
     "name": "stderr",
     "output_type": "stream",
     "text": [
      " 23%|▏| 16/70 [16"
     ]
    },
    {
     "name": "stdout",
     "output_type": "stream",
     "text": [
      "E    16\n",
      "training...\n",
      "validating...\n"
     ]
    },
    {
     "name": "stderr",
     "output_type": "stream",
     "text": [
      " 24%|▏| 17/70 [17"
     ]
    },
    {
     "name": "stdout",
     "output_type": "stream",
     "text": [
      "E    17\n",
      "training...\n",
      "validating...\n"
     ]
    },
    {
     "name": "stderr",
     "output_type": "stream",
     "text": [
      " 26%|▎| 18/70 [18"
     ]
    },
    {
     "name": "stdout",
     "output_type": "stream",
     "text": [
      "E    18\n",
      "training...\n",
      "validating...\n"
     ]
    },
    {
     "name": "stderr",
     "output_type": "stream",
     "text": [
      " 27%|▎| 19/70 [19"
     ]
    },
    {
     "name": "stdout",
     "output_type": "stream",
     "text": [
      "E    19\n",
      "training...\n",
      "validating...\n"
     ]
    },
    {
     "name": "stderr",
     "output_type": "stream",
     "text": [
      " 29%|▎| 20/70 [20"
     ]
    },
    {
     "name": "stdout",
     "output_type": "stream",
     "text": [
      "E    20\n",
      "training...\n",
      "validating...\n"
     ]
    },
    {
     "name": "stderr",
     "output_type": "stream",
     "text": [
      " 30%|▎| 21/70 [21"
     ]
    },
    {
     "name": "stdout",
     "output_type": "stream",
     "text": [
      "E    21\n",
      "training...\n",
      "validating...\n"
     ]
    },
    {
     "name": "stderr",
     "output_type": "stream",
     "text": [
      " 31%|▎| 22/70 [22"
     ]
    },
    {
     "name": "stdout",
     "output_type": "stream",
     "text": [
      "E    22\n",
      "training...\n",
      "validating...\n"
     ]
    },
    {
     "name": "stderr",
     "output_type": "stream",
     "text": [
      " 33%|▎| 23/70 [23"
     ]
    },
    {
     "name": "stdout",
     "output_type": "stream",
     "text": [
      "E    23\n",
      "training...\n",
      "validating...\n"
     ]
    },
    {
     "name": "stderr",
     "output_type": "stream",
     "text": [
      " 34%|▎| 24/70 [24"
     ]
    },
    {
     "name": "stdout",
     "output_type": "stream",
     "text": [
      "E    24\n",
      "training...\n",
      "validating...\n"
     ]
    },
    {
     "name": "stderr",
     "output_type": "stream",
     "text": [
      " 36%|▎| 25/70 [25"
     ]
    },
    {
     "name": "stdout",
     "output_type": "stream",
     "text": [
      "E    25\n",
      "training...\n",
      "validating...\n"
     ]
    },
    {
     "name": "stderr",
     "output_type": "stream",
     "text": [
      " 37%|▎| 26/70 [26"
     ]
    },
    {
     "name": "stdout",
     "output_type": "stream",
     "text": [
      "E    26\n",
      "training...\n",
      "validating...\n"
     ]
    },
    {
     "name": "stderr",
     "output_type": "stream",
     "text": [
      " 39%|▍| 27/70 [27"
     ]
    },
    {
     "name": "stdout",
     "output_type": "stream",
     "text": [
      "E    27\n",
      "training...\n",
      "validating...\n"
     ]
    },
    {
     "name": "stderr",
     "output_type": "stream",
     "text": [
      " 40%|▍| 28/70 [28"
     ]
    },
    {
     "name": "stdout",
     "output_type": "stream",
     "text": [
      "E    28\n",
      "training...\n",
      "validating...\n"
     ]
    },
    {
     "name": "stderr",
     "output_type": "stream",
     "text": [
      " 41%|▍| 29/70 [29"
     ]
    },
    {
     "name": "stdout",
     "output_type": "stream",
     "text": [
      "E    29\n",
      "training...\n",
      "validating...\n"
     ]
    },
    {
     "name": "stderr",
     "output_type": "stream",
     "text": [
      " 43%|▍| 30/70 [30"
     ]
    },
    {
     "name": "stdout",
     "output_type": "stream",
     "text": [
      "E    30\n",
      "training...\n",
      "validating...\n"
     ]
    },
    {
     "name": "stderr",
     "output_type": "stream",
     "text": [
      " 44%|▍| 31/70 [31"
     ]
    },
    {
     "name": "stdout",
     "output_type": "stream",
     "text": [
      "E    31\n",
      "training...\n",
      "validating...\n"
     ]
    },
    {
     "name": "stderr",
     "output_type": "stream",
     "text": [
      " 46%|▍| 32/70 [32"
     ]
    },
    {
     "name": "stdout",
     "output_type": "stream",
     "text": [
      "E    32\n",
      "training...\n",
      "validating...\n"
     ]
    },
    {
     "name": "stderr",
     "output_type": "stream",
     "text": [
      " 47%|▍| 33/70 [33"
     ]
    },
    {
     "name": "stdout",
     "output_type": "stream",
     "text": [
      "E    33\n",
      "training...\n",
      "validating...\n"
     ]
    },
    {
     "name": "stderr",
     "output_type": "stream",
     "text": [
      " 49%|▍| 34/70 [34"
     ]
    },
    {
     "name": "stdout",
     "output_type": "stream",
     "text": [
      "E    34\n",
      "training...\n",
      "validating...\n"
     ]
    },
    {
     "name": "stderr",
     "output_type": "stream",
     "text": [
      " 50%|▌| 35/70 [35"
     ]
    },
    {
     "name": "stdout",
     "output_type": "stream",
     "text": [
      "E    35\n",
      "training...\n",
      "validating...\n"
     ]
    },
    {
     "name": "stderr",
     "output_type": "stream",
     "text": [
      " 51%|▌| 36/70 [36"
     ]
    },
    {
     "name": "stdout",
     "output_type": "stream",
     "text": [
      "E    36\n",
      "training...\n",
      "validating...\n"
     ]
    },
    {
     "name": "stderr",
     "output_type": "stream",
     "text": [
      " 53%|▌| 37/70 [37"
     ]
    },
    {
     "name": "stdout",
     "output_type": "stream",
     "text": [
      "E    37\n",
      "training...\n",
      "validating...\n"
     ]
    },
    {
     "name": "stderr",
     "output_type": "stream",
     "text": [
      " 54%|▌| 38/70 [38"
     ]
    },
    {
     "name": "stdout",
     "output_type": "stream",
     "text": [
      "E    38\n",
      "training...\n",
      "validating...\n"
     ]
    },
    {
     "name": "stderr",
     "output_type": "stream",
     "text": [
      " 56%|▌| 39/70 [39"
     ]
    },
    {
     "name": "stdout",
     "output_type": "stream",
     "text": [
      "E    39\n",
      "training...\n",
      "validating...\n"
     ]
    },
    {
     "name": "stderr",
     "output_type": "stream",
     "text": [
      " 57%|▌| 40/70 [40"
     ]
    },
    {
     "name": "stdout",
     "output_type": "stream",
     "text": [
      "E    40\n",
      "training...\n",
      "validating...\n"
     ]
    },
    {
     "name": "stderr",
     "output_type": "stream",
     "text": [
      " 59%|▌| 41/70 [41"
     ]
    },
    {
     "name": "stdout",
     "output_type": "stream",
     "text": [
      "E    41\n",
      "training...\n",
      "validating...\n"
     ]
    },
    {
     "name": "stderr",
     "output_type": "stream",
     "text": [
      " 60%|▌| 42/70 [42"
     ]
    },
    {
     "name": "stdout",
     "output_type": "stream",
     "text": [
      "E    42\n",
      "training...\n",
      "validating...\n"
     ]
    },
    {
     "name": "stderr",
     "output_type": "stream",
     "text": [
      " 61%|▌| 43/70 [43"
     ]
    },
    {
     "name": "stdout",
     "output_type": "stream",
     "text": [
      "E    43\n",
      "training...\n",
      "validating...\n"
     ]
    },
    {
     "name": "stderr",
     "output_type": "stream",
     "text": [
      " 63%|▋| 44/70 [44"
     ]
    },
    {
     "name": "stdout",
     "output_type": "stream",
     "text": [
      "E    44\n",
      "training...\n",
      "validating...\n"
     ]
    },
    {
     "name": "stderr",
     "output_type": "stream",
     "text": [
      " 64%|▋| 45/70 [45"
     ]
    },
    {
     "name": "stdout",
     "output_type": "stream",
     "text": [
      "E    45\n",
      "training...\n",
      "validating...\n"
     ]
    },
    {
     "name": "stderr",
     "output_type": "stream",
     "text": [
      " 66%|▋| 46/70 [46"
     ]
    },
    {
     "name": "stdout",
     "output_type": "stream",
     "text": [
      "E    46\n",
      "training...\n",
      "validating...\n"
     ]
    },
    {
     "name": "stderr",
     "output_type": "stream",
     "text": [
      " 67%|▋| 47/70 [47"
     ]
    },
    {
     "name": "stdout",
     "output_type": "stream",
     "text": [
      "E    47\n",
      "training...\n",
      "validating...\n"
     ]
    },
    {
     "name": "stderr",
     "output_type": "stream",
     "text": [
      " 69%|▋| 48/70 [48"
     ]
    },
    {
     "name": "stdout",
     "output_type": "stream",
     "text": [
      "E    48\n",
      "training...\n",
      "validating...\n"
     ]
    },
    {
     "name": "stderr",
     "output_type": "stream",
     "text": [
      " 70%|▋| 49/70 [49"
     ]
    },
    {
     "name": "stdout",
     "output_type": "stream",
     "text": [
      "E    49\n",
      "training...\n",
      "validating...\n"
     ]
    },
    {
     "name": "stderr",
     "output_type": "stream",
     "text": [
      " 71%|▋| 50/70 [50"
     ]
    },
    {
     "name": "stdout",
     "output_type": "stream",
     "text": [
      "E    50\n",
      "training...\n",
      "validating...\n"
     ]
    },
    {
     "name": "stderr",
     "output_type": "stream",
     "text": [
      " 73%|▋| 51/70 [51"
     ]
    },
    {
     "name": "stdout",
     "output_type": "stream",
     "text": [
      "E    51\n",
      "training...\n",
      "validating...\n"
     ]
    },
    {
     "name": "stderr",
     "output_type": "stream",
     "text": [
      " 74%|▋| 52/70 [52"
     ]
    },
    {
     "name": "stdout",
     "output_type": "stream",
     "text": [
      "E    52\n",
      "training...\n",
      "validating...\n"
     ]
    },
    {
     "name": "stderr",
     "output_type": "stream",
     "text": [
      " 76%|▊| 53/70 [54"
     ]
    },
    {
     "name": "stdout",
     "output_type": "stream",
     "text": [
      "E    53\n",
      "training...\n",
      "validating...\n"
     ]
    },
    {
     "name": "stderr",
     "output_type": "stream",
     "text": [
      " 77%|▊| 54/70 [55"
     ]
    },
    {
     "name": "stdout",
     "output_type": "stream",
     "text": [
      "E    54\n",
      "training...\n",
      "validating...\n"
     ]
    },
    {
     "name": "stderr",
     "output_type": "stream",
     "text": [
      " 79%|▊| 55/70 [56"
     ]
    },
    {
     "name": "stdout",
     "output_type": "stream",
     "text": [
      "E    55\n",
      "training...\n",
      "validating...\n"
     ]
    },
    {
     "name": "stderr",
     "output_type": "stream",
     "text": [
      " 80%|▊| 56/70 [57"
     ]
    },
    {
     "name": "stdout",
     "output_type": "stream",
     "text": [
      "E    56\n",
      "training...\n",
      "validating...\n"
     ]
    },
    {
     "name": "stderr",
     "output_type": "stream",
     "text": [
      " 81%|▊| 57/70 [58"
     ]
    },
    {
     "name": "stdout",
     "output_type": "stream",
     "text": [
      "E    57\n",
      "training...\n",
      "validating...\n"
     ]
    },
    {
     "name": "stderr",
     "output_type": "stream",
     "text": [
      " 83%|▊| 58/70 [59"
     ]
    },
    {
     "name": "stdout",
     "output_type": "stream",
     "text": [
      "E    58\n",
      "training...\n",
      "validating...\n"
     ]
    },
    {
     "name": "stderr",
     "output_type": "stream",
     "text": [
      " 84%|▊| 59/70 [1:"
     ]
    },
    {
     "name": "stdout",
     "output_type": "stream",
     "text": [
      "E    59\n",
      "training...\n",
      "validating...\n"
     ]
    },
    {
     "name": "stderr",
     "output_type": "stream",
     "text": [
      " 86%|▊| 60/70 [1:"
     ]
    },
    {
     "name": "stdout",
     "output_type": "stream",
     "text": [
      "E    60\n",
      "training...\n",
      "validating...\n"
     ]
    },
    {
     "name": "stderr",
     "output_type": "stream",
     "text": [
      " 87%|▊| 61/70 [1:"
     ]
    },
    {
     "name": "stdout",
     "output_type": "stream",
     "text": [
      "E    61\n",
      "training...\n",
      "validating...\n"
     ]
    },
    {
     "name": "stderr",
     "output_type": "stream",
     "text": [
      " 89%|▉| 62/70 [1:"
     ]
    },
    {
     "name": "stdout",
     "output_type": "stream",
     "text": [
      "E    62\n",
      "training...\n",
      "validating...\n"
     ]
    },
    {
     "name": "stderr",
     "output_type": "stream",
     "text": [
      " 90%|▉| 63/70 [1:"
     ]
    },
    {
     "name": "stdout",
     "output_type": "stream",
     "text": [
      "E    63\n",
      "training...\n",
      "validating...\n"
     ]
    },
    {
     "name": "stderr",
     "output_type": "stream",
     "text": [
      " 91%|▉| 64/70 [1:"
     ]
    },
    {
     "name": "stdout",
     "output_type": "stream",
     "text": [
      "E    64\n",
      "training...\n",
      "validating...\n"
     ]
    },
    {
     "name": "stderr",
     "output_type": "stream",
     "text": [
      " 93%|▉| 65/70 [1:"
     ]
    },
    {
     "name": "stdout",
     "output_type": "stream",
     "text": [
      "E    65\n",
      "training...\n",
      "validating...\n"
     ]
    },
    {
     "name": "stderr",
     "output_type": "stream",
     "text": [
      " 94%|▉| 66/70 [1:"
     ]
    },
    {
     "name": "stdout",
     "output_type": "stream",
     "text": [
      "E    66\n",
      "training...\n",
      "validating...\n"
     ]
    },
    {
     "name": "stderr",
     "output_type": "stream",
     "text": [
      " 96%|▉| 67/70 [1:"
     ]
    },
    {
     "name": "stdout",
     "output_type": "stream",
     "text": [
      "E    67\n",
      "training...\n",
      "validating...\n"
     ]
    },
    {
     "name": "stderr",
     "output_type": "stream",
     "text": [
      " 97%|▉| 68/70 [1:"
     ]
    },
    {
     "name": "stdout",
     "output_type": "stream",
     "text": [
      "E    68\n",
      "training...\n",
      "validating...\n"
     ]
    },
    {
     "name": "stderr",
     "output_type": "stream",
     "text": [
      " 99%|▉| 69/70 [1:"
     ]
    },
    {
     "name": "stdout",
     "output_type": "stream",
     "text": [
      "E    69\n",
      "training...\n",
      "validating...\n"
     ]
    },
    {
     "name": "stderr",
     "output_type": "stream",
     "text": [
      "100%|█| 70/70 [1:\n"
     ]
    },
    {
     "data": {
      "application/vnd.jupyter.widget-view+json": {
       "model_id": "",
       "version_major": 2,
       "version_minor": 0
      },
      "text/plain": [
       "VBox(children=(Label(value='0.006 MB of 0.006 MB uploaded\\r'), FloatProgress(value=1.0, max=1.0)))"
      ]
     },
     "metadata": {},
     "output_type": "display_data"
    },
    {
     "data": {
      "text/html": [
       "<style>\n",
       "    table.wandb td:nth-child(1) { padding: 0 10px; text-align: left ; width: auto;} td:nth-child(2) {text-align: left ; width: 100%}\n",
       "    .wandb-row { display: flex; flex-direction: row; flex-wrap: wrap; justify-content: flex-start; width: 100% }\n",
       "    .wandb-col { display: flex; flex-direction: column; flex-basis: 100%; flex: 1; padding: 10px; }\n",
       "    </style>\n",
       "<div class=\"wandb-row\"><div class=\"wandb-col\"><h3>Run history:</h3><br/><table class=\"wandb\"><tr><td>epoch</td><td>▁▁▁▁▂▂▂▂▂▃▃▃▃▃▃▄▄▄▄▄▅▅▅▅▅▆▆▆▆▆▆▇▇▇▇▇████</td></tr><tr><td>t_loss</td><td>▆▇▁▄▄▇▃▄▇▆▇▇▇▆▅▆▆▃▆▄▇▆▄▆▆▇█▇▆▁▅▅▅▇▆</td></tr><tr><td>train_accuracy_%</td><td>▂▅▆▁▇▇▆▄▆▅▇▅▆▄██▅▃▆▄▅▆▆▄▃▇▆▇█▅▃▄▄▂▃</td></tr><tr><td>v_loss</td><td>▁▁▁▁▁▁▁▁▁▁▁▁▁▁▁▁▁▁▁▁▁▁▁▁▁▁▁▁▁▁▁▁▁▁▁</td></tr><tr><td>val_accuracy_%</td><td>▁▁▁▁▁▁▁▁▁▁▁▁▁▁▁▁▁▁▁▁▁▁▁▁▁▁▁▁▁▁▁▁▁▁▁</td></tr></table><br/></div><div class=\"wandb-col\"><h3>Run summary:</h3><br/><table class=\"wandb\"><tr><td>epoch</td><td>69</td></tr><tr><td>t_loss</td><td>2.34744</td></tr><tr><td>train_accuracy_%</td><td>0.09335</td></tr><tr><td>v_loss</td><td>2.41384</td></tr><tr><td>val_accuracy_%</td><td>0.09455</td></tr></table><br/></div></div>"
      ],
      "text/plain": [
       "<IPython.core.display.HTML object>"
      ]
     },
     "metadata": {},
     "output_type": "display_data"
    },
    {
     "data": {
      "text/html": [
       " View run <strong style=\"color:#cdcd00\">azure-sweep-6</strong> at: <a href='https://wandb.ai/antvis/IDSW_vgg_fine_hp_80_112023/runs/pqk84dp8' target=\"_blank\">https://wandb.ai/antvis/IDSW_vgg_fine_hp_80_112023/runs/pqk84dp8</a><br/>Synced 5 W&B file(s), 0 media file(s), 0 artifact file(s) and 0 other file(s)"
      ],
      "text/plain": [
       "<IPython.core.display.HTML object>"
      ]
     },
     "metadata": {},
     "output_type": "display_data"
    },
    {
     "data": {
      "text/html": [
       "Find logs at: <code>./wandb/run-20231206_204954-pqk84dp8/logs</code>"
      ],
      "text/plain": [
       "<IPython.core.display.HTML object>"
      ]
     },
     "metadata": {},
     "output_type": "display_data"
    },
    {
     "name": "stderr",
     "output_type": "stream",
     "text": [
      "\u001b[34m\u001b[1mwandb\u001b[0m: Agent Starting Run: ho0ybkun with config:\n",
      "\u001b[34m\u001b[1mwandb\u001b[0m: \tchannels: 3\n",
      "\u001b[34m\u001b[1mwandb\u001b[0m: \tdata_set: Augmented\n",
      "\u001b[34m\u001b[1mwandb\u001b[0m: \tepochs: 70\n",
      "\u001b[34m\u001b[1mwandb\u001b[0m: \tfirst_lin_lay: 248832\n",
      "\u001b[34m\u001b[1mwandb\u001b[0m: \timage_path: /its/home/nn268/optics/AugmentedDS_IDSW/\n",
      "\u001b[34m\u001b[1mwandb\u001b[0m: \tks: [3, 5]\n",
      "\u001b[34m\u001b[1mwandb\u001b[0m: \tlearning_rate: 0.0001876746841442105\n",
      "\u001b[34m\u001b[1mwandb\u001b[0m: \tloss_fn: MSE\n",
      "\u001b[34m\u001b[1mwandb\u001b[0m: \tmodel_name: vgg16net_mlp\n",
      "\u001b[34m\u001b[1mwandb\u001b[0m: \tnum_classes: 11\n",
      "\u001b[34m\u001b[1mwandb\u001b[0m: \toptimizer: adam\n",
      "\u001b[34m\u001b[1mwandb\u001b[0m: \tscheduler: 0.1\n"
     ]
    },
    {
     "data": {
      "text/html": [
       "wandb version 0.16.1 is available!  To upgrade, please run:\n",
       " $ pip install wandb --upgrade"
      ],
      "text/plain": [
       "<IPython.core.display.HTML object>"
      ]
     },
     "metadata": {},
     "output_type": "display_data"
    },
    {
     "data": {
      "text/html": [
       "Tracking run with wandb version 0.16.0"
      ],
      "text/plain": [
       "<IPython.core.display.HTML object>"
      ]
     },
     "metadata": {},
     "output_type": "display_data"
    },
    {
     "data": {
      "text/html": [
       "Run data is saved locally in <code>/its/home/nn268/antvis/antvis/optics/wandb/run-20231206_220144-ho0ybkun</code>"
      ],
      "text/plain": [
       "<IPython.core.display.HTML object>"
      ]
     },
     "metadata": {},
     "output_type": "display_data"
    },
    {
     "data": {
      "text/html": [
       "Syncing run <strong><a href='https://wandb.ai/antvis/IDSW_vgg_fine_hp_80_112023/runs/ho0ybkun' target=\"_blank\">whole-sweep-7</a></strong> to <a href='https://wandb.ai/antvis/IDSW_vgg_fine_hp_80_112023' target=\"_blank\">Weights & Biases</a> (<a href='https://wandb.me/run' target=\"_blank\">docs</a>)<br/>Sweep page: <a href='https://wandb.ai/antvis/IDSW_vgg_fine_hp_80_112023/sweeps/obcz0eq3' target=\"_blank\">https://wandb.ai/antvis/IDSW_vgg_fine_hp_80_112023/sweeps/obcz0eq3</a>"
      ],
      "text/plain": [
       "<IPython.core.display.HTML object>"
      ]
     },
     "metadata": {},
     "output_type": "display_data"
    },
    {
     "data": {
      "text/html": [
       " View project at <a href='https://wandb.ai/antvis/IDSW_vgg_fine_hp_80_112023' target=\"_blank\">https://wandb.ai/antvis/IDSW_vgg_fine_hp_80_112023</a>"
      ],
      "text/plain": [
       "<IPython.core.display.HTML object>"
      ]
     },
     "metadata": {},
     "output_type": "display_data"
    },
    {
     "data": {
      "text/html": [
       " View sweep at <a href='https://wandb.ai/antvis/IDSW_vgg_fine_hp_80_112023/sweeps/obcz0eq3' target=\"_blank\">https://wandb.ai/antvis/IDSW_vgg_fine_hp_80_112023/sweeps/obcz0eq3</a>"
      ],
      "text/plain": [
       "<IPython.core.display.HTML object>"
      ]
     },
     "metadata": {},
     "output_type": "display_data"
    },
    {
     "data": {
      "text/html": [
       " View run at <a href='https://wandb.ai/antvis/IDSW_vgg_fine_hp_80_112023/runs/ho0ybkun' target=\"_blank\">https://wandb.ai/antvis/IDSW_vgg_fine_hp_80_112023/runs/ho0ybkun</a>"
      ],
      "text/plain": [
       "<IPython.core.display.HTML object>"
      ]
     },
     "metadata": {},
     "output_type": "display_data"
    },
    {
     "name": "stderr",
     "output_type": "stream",
     "text": [
      "\u001b[34m\u001b[1mwandb\u001b[0m: \u001b[33mWARNING\u001b[0m Ignored wandb.init() arg project when running a sweep.\n"
     ]
    },
    {
     "data": {
      "text/html": [
       "Finishing last run (ID:ho0ybkun) before initializing another..."
      ],
      "text/plain": [
       "<IPython.core.display.HTML object>"
      ]
     },
     "metadata": {},
     "output_type": "display_data"
    },
    {
     "data": {
      "application/vnd.jupyter.widget-view+json": {
       "model_id": "",
       "version_major": 2,
       "version_minor": 0
      },
      "text/plain": [
       "VBox(children=(Label(value='0.006 MB of 0.006 MB uploaded\\r'), FloatProgress(value=1.0, max=1.0)))"
      ]
     },
     "metadata": {},
     "output_type": "display_data"
    },
    {
     "data": {
      "text/html": [
       " View run <strong style=\"color:#cdcd00\">whole-sweep-7</strong> at: <a href='https://wandb.ai/antvis/IDSW_vgg_fine_hp_80_112023/runs/ho0ybkun' target=\"_blank\">https://wandb.ai/antvis/IDSW_vgg_fine_hp_80_112023/runs/ho0ybkun</a><br/>Synced 5 W&B file(s), 0 media file(s), 0 artifact file(s) and 0 other file(s)"
      ],
      "text/plain": [
       "<IPython.core.display.HTML object>"
      ]
     },
     "metadata": {},
     "output_type": "display_data"
    },
    {
     "data": {
      "text/html": [
       "Find logs at: <code>./wandb/run-20231206_220144-ho0ybkun/logs</code>"
      ],
      "text/plain": [
       "<IPython.core.display.HTML object>"
      ]
     },
     "metadata": {},
     "output_type": "display_data"
    },
    {
     "data": {
      "text/html": [
       "Successfully finished last run (ID:ho0ybkun). Initializing new run:<br/>"
      ],
      "text/plain": [
       "<IPython.core.display.HTML object>"
      ]
     },
     "metadata": {},
     "output_type": "display_data"
    },
    {
     "data": {
      "application/vnd.jupyter.widget-view+json": {
       "model_id": "706e8ca68e06425fada6118e8bc85903",
       "version_major": 2,
       "version_minor": 0
      },
      "text/plain": [
       "VBox(children=(Label(value='Waiting for wandb.init()...\\r'), FloatProgress(value=0.011112610755177835, max=1.0…"
      ]
     },
     "metadata": {},
     "output_type": "display_data"
    },
    {
     "name": "stderr",
     "output_type": "stream",
     "text": [
      "Thread WriterThread:\n",
      "Traceback (most recent call last):\n",
      "  File \"/its/home/nn268/.local/lib/python3.10/site-packages/wandb/sdk/internal/internal_util.py\", line 49, in run\n",
      "    self._run()\n",
      "  File \"/its/home/nn268/.local/lib/python3.10/site-packages/wandb/sdk/internal/internal_util.py\", line 100, in _run\n",
      "    self._process(record)\n",
      "  File \"/its/home/nn268/.local/lib/python3.10/site-packages/wandb/sdk/internal/internal.py\", line 380, in _process\n",
      "    self._wm.write(record)\n",
      "  File \"/its/home/nn268/.local/lib/python3.10/site-packages/wandb/sdk/internal/writer.py\", line 154, in write\n",
      "    write_handler(record)\n",
      "  File \"/its/home/nn268/.local/lib/python3.10/site-packages/wandb/sdk/internal/writer.py\", line 131, in _write\n",
      "    self.open()\n",
      "  File \"/its/home/nn268/.local/lib/python3.10/site-packages/wandb/sdk/internal/writer.py\", line 71, in open\n",
      "    self._ds.open_for_write(self._settings.sync_file)\n",
      "  File \"/its/home/nn268/.local/lib/python3.10/site-packages/wandb/sdk/internal/datastore.py\", line 87, in open_for_write\n",
      "    self._fp = open(fname, open_flags)\n",
      "FileExistsError: [Errno 17] File exists: '/its/home/nn268/antvis/antvis/optics/wandb/run-20231206_220144-ho0ybkun/run-ho0ybkun.wandb'\n",
      "wandb: ERROR Internal wandb error: file data was not synced\n",
      "Traceback (most recent call last):\n",
      "  File \"/tmp/ipykernel_3028376/1426131372.py\", line 6, in tr\n",
      "    model, save_dict = pipeline(config)\n",
      "  File \"/tmp/ipykernel_3028376/703131281.py\", line 192, in pipeline\n",
      "    with wandb.init(project=title, config=config):\n",
      "  File \"/its/home/nn268/.local/lib/python3.10/site-packages/wandb/sdk/wandb_init.py\", line 1185, in init\n",
      "    raise e\n",
      "  File \"/its/home/nn268/.local/lib/python3.10/site-packages/wandb/sdk/wandb_init.py\", line 1166, in init\n",
      "    run = wi.init()\n",
      "  File \"/its/home/nn268/.local/lib/python3.10/site-packages/wandb/sdk/wandb_init.py\", line 752, in init\n",
      "    result = run_init_handle.wait(\n",
      "  File \"/its/home/nn268/.local/lib/python3.10/site-packages/wandb/sdk/lib/mailbox.py\", line 281, in wait\n",
      "    raise MailboxError(\"transport failed\")\n",
      "wandb.sdk.lib.mailbox.MailboxError: transport failed\n",
      "\u001b[34m\u001b[1mwandb\u001b[0m: \u001b[32m\u001b[41mERROR\u001b[0m Run ho0ybkun errored: BrokenPipeError(32, 'Broken pipe')\n"
     ]
    },
    {
     "name": "stdout",
     "output_type": "stream",
     "text": [
      "Problem at: /tmp/ipykernel_3028376/703131281.py 192 pipeline\n"
     ]
    },
    {
     "name": "stderr",
     "output_type": "stream",
     "text": [
      "\u001b[34m\u001b[1mwandb\u001b[0m: Agent Starting Run: 6r34cz6f with config:\n",
      "\u001b[34m\u001b[1mwandb\u001b[0m: \tchannels: 3\n",
      "\u001b[34m\u001b[1mwandb\u001b[0m: \tdata_set: Augmented\n",
      "\u001b[34m\u001b[1mwandb\u001b[0m: \tepochs: 70\n",
      "\u001b[34m\u001b[1mwandb\u001b[0m: \tfirst_lin_lay: 248832\n",
      "\u001b[34m\u001b[1mwandb\u001b[0m: \timage_path: /its/home/nn268/optics/AugmentedDS_IDSW/\n",
      "\u001b[34m\u001b[1mwandb\u001b[0m: \tks: [3, 5]\n",
      "\u001b[34m\u001b[1mwandb\u001b[0m: \tlearning_rate: 0.0005839835634723046\n",
      "\u001b[34m\u001b[1mwandb\u001b[0m: \tloss_fn: MSE\n",
      "\u001b[34m\u001b[1mwandb\u001b[0m: \tmodel_name: vgg16net_mlp\n",
      "\u001b[34m\u001b[1mwandb\u001b[0m: \tnum_classes: 11\n",
      "\u001b[34m\u001b[1mwandb\u001b[0m: \toptimizer: adam\n",
      "\u001b[34m\u001b[1mwandb\u001b[0m: \tscheduler: 0.001\n"
     ]
    },
    {
     "data": {
      "text/html": [
       "wandb version 0.16.1 is available!  To upgrade, please run:\n",
       " $ pip install wandb --upgrade"
      ],
      "text/plain": [
       "<IPython.core.display.HTML object>"
      ]
     },
     "metadata": {},
     "output_type": "display_data"
    },
    {
     "data": {
      "text/html": [
       "Tracking run with wandb version 0.16.0"
      ],
      "text/plain": [
       "<IPython.core.display.HTML object>"
      ]
     },
     "metadata": {},
     "output_type": "display_data"
    },
    {
     "data": {
      "text/html": [
       "Run data is saved locally in <code>/its/home/nn268/antvis/antvis/optics/wandb/run-20231206_220204-6r34cz6f</code>"
      ],
      "text/plain": [
       "<IPython.core.display.HTML object>"
      ]
     },
     "metadata": {},
     "output_type": "display_data"
    },
    {
     "data": {
      "text/html": [
       "Syncing run <strong><a href='https://wandb.ai/antvis/IDSW_vgg_fine_hp_80_112023/runs/6r34cz6f' target=\"_blank\">azure-sweep-8</a></strong> to <a href='https://wandb.ai/antvis/IDSW_vgg_fine_hp_80_112023' target=\"_blank\">Weights & Biases</a> (<a href='https://wandb.me/run' target=\"_blank\">docs</a>)<br/>Sweep page: <a href='https://wandb.ai/antvis/IDSW_vgg_fine_hp_80_112023/sweeps/obcz0eq3' target=\"_blank\">https://wandb.ai/antvis/IDSW_vgg_fine_hp_80_112023/sweeps/obcz0eq3</a>"
      ],
      "text/plain": [
       "<IPython.core.display.HTML object>"
      ]
     },
     "metadata": {},
     "output_type": "display_data"
    },
    {
     "data": {
      "text/html": [
       " View project at <a href='https://wandb.ai/antvis/IDSW_vgg_fine_hp_80_112023' target=\"_blank\">https://wandb.ai/antvis/IDSW_vgg_fine_hp_80_112023</a>"
      ],
      "text/plain": [
       "<IPython.core.display.HTML object>"
      ]
     },
     "metadata": {},
     "output_type": "display_data"
    },
    {
     "data": {
      "text/html": [
       " View sweep at <a href='https://wandb.ai/antvis/IDSW_vgg_fine_hp_80_112023/sweeps/obcz0eq3' target=\"_blank\">https://wandb.ai/antvis/IDSW_vgg_fine_hp_80_112023/sweeps/obcz0eq3</a>"
      ],
      "text/plain": [
       "<IPython.core.display.HTML object>"
      ]
     },
     "metadata": {},
     "output_type": "display_data"
    },
    {
     "data": {
      "text/html": [
       " View run at <a href='https://wandb.ai/antvis/IDSW_vgg_fine_hp_80_112023/runs/6r34cz6f' target=\"_blank\">https://wandb.ai/antvis/IDSW_vgg_fine_hp_80_112023/runs/6r34cz6f</a>"
      ],
      "text/plain": [
       "<IPython.core.display.HTML object>"
      ]
     },
     "metadata": {},
     "output_type": "display_data"
    },
    {
     "name": "stderr",
     "output_type": "stream",
     "text": [
      "\u001b[34m\u001b[1mwandb\u001b[0m: \u001b[33mWARNING\u001b[0m Ignored wandb.init() arg project when running a sweep.\n"
     ]
    },
    {
     "data": {
      "text/html": [
       "Finishing last run (ID:6r34cz6f) before initializing another..."
      ],
      "text/plain": [
       "<IPython.core.display.HTML object>"
      ]
     },
     "metadata": {},
     "output_type": "display_data"
    },
    {
     "data": {
      "application/vnd.jupyter.widget-view+json": {
       "model_id": "",
       "version_major": 2,
       "version_minor": 0
      },
      "text/plain": [
       "VBox(children=(Label(value='0.006 MB of 0.006 MB uploaded\\r'), FloatProgress(value=1.0, max=1.0)))"
      ]
     },
     "metadata": {},
     "output_type": "display_data"
    },
    {
     "data": {
      "text/html": [
       " View run <strong style=\"color:#cdcd00\">azure-sweep-8</strong> at: <a href='https://wandb.ai/antvis/IDSW_vgg_fine_hp_80_112023/runs/6r34cz6f' target=\"_blank\">https://wandb.ai/antvis/IDSW_vgg_fine_hp_80_112023/runs/6r34cz6f</a><br/>Synced 5 W&B file(s), 0 media file(s), 0 artifact file(s) and 0 other file(s)"
      ],
      "text/plain": [
       "<IPython.core.display.HTML object>"
      ]
     },
     "metadata": {},
     "output_type": "display_data"
    },
    {
     "data": {
      "text/html": [
       "Find logs at: <code>./wandb/run-20231206_220204-6r34cz6f/logs</code>"
      ],
      "text/plain": [
       "<IPython.core.display.HTML object>"
      ]
     },
     "metadata": {},
     "output_type": "display_data"
    },
    {
     "data": {
      "text/html": [
       "Successfully finished last run (ID:6r34cz6f). Initializing new run:<br/>"
      ],
      "text/plain": [
       "<IPython.core.display.HTML object>"
      ]
     },
     "metadata": {},
     "output_type": "display_data"
    },
    {
     "data": {
      "application/vnd.jupyter.widget-view+json": {
       "model_id": "3e8f4db057e643c9adfe8d9a83188ea8",
       "version_major": 2,
       "version_minor": 0
      },
      "text/plain": [
       "VBox(children=(Label(value='Waiting for wandb.init()...\\r'), FloatProgress(value=0.011112158600654867, max=1.0…"
      ]
     },
     "metadata": {},
     "output_type": "display_data"
    },
    {
     "data": {
      "text/html": [
       "wandb version 0.16.1 is available!  To upgrade, please run:\n",
       " $ pip install wandb --upgrade"
      ],
      "text/plain": [
       "<IPython.core.display.HTML object>"
      ]
     },
     "metadata": {},
     "output_type": "display_data"
    },
    {
     "data": {
      "text/html": [
       "Tracking run with wandb version 0.16.0"
      ],
      "text/plain": [
       "<IPython.core.display.HTML object>"
      ]
     },
     "metadata": {},
     "output_type": "display_data"
    },
    {
     "data": {
      "text/html": [
       "Run data is saved locally in <code>/its/home/nn268/antvis/antvis/optics/wandb/run-20231206_220205-6r34cz6f</code>"
      ],
      "text/plain": [
       "<IPython.core.display.HTML object>"
      ]
     },
     "metadata": {},
     "output_type": "display_data"
    },
    {
     "data": {
      "text/html": [
       "Syncing run <strong><a href='https://wandb.ai/antvis/IDSW_vgg_fine_hp_80_112023/runs/6r34cz6f' target=\"_blank\">azure-sweep-8</a></strong> to <a href='https://wandb.ai/antvis/IDSW_vgg_fine_hp_80_112023' target=\"_blank\">Weights & Biases</a> (<a href='https://wandb.me/run' target=\"_blank\">docs</a>)<br/>Sweep page: <a href='https://wandb.ai/antvis/IDSW_vgg_fine_hp_80_112023/sweeps/obcz0eq3' target=\"_blank\">https://wandb.ai/antvis/IDSW_vgg_fine_hp_80_112023/sweeps/obcz0eq3</a>"
      ],
      "text/plain": [
       "<IPython.core.display.HTML object>"
      ]
     },
     "metadata": {},
     "output_type": "display_data"
    },
    {
     "data": {
      "text/html": [
       " View project at <a href='https://wandb.ai/antvis/IDSW_vgg_fine_hp_80_112023' target=\"_blank\">https://wandb.ai/antvis/IDSW_vgg_fine_hp_80_112023</a>"
      ],
      "text/plain": [
       "<IPython.core.display.HTML object>"
      ]
     },
     "metadata": {},
     "output_type": "display_data"
    },
    {
     "data": {
      "text/html": [
       " View sweep at <a href='https://wandb.ai/antvis/IDSW_vgg_fine_hp_80_112023/sweeps/obcz0eq3' target=\"_blank\">https://wandb.ai/antvis/IDSW_vgg_fine_hp_80_112023/sweeps/obcz0eq3</a>"
      ],
      "text/plain": [
       "<IPython.core.display.HTML object>"
      ]
     },
     "metadata": {},
     "output_type": "display_data"
    },
    {
     "data": {
      "text/html": [
       " View run at <a href='https://wandb.ai/antvis/IDSW_vgg_fine_hp_80_112023/runs/6r34cz6f' target=\"_blank\">https://wandb.ai/antvis/IDSW_vgg_fine_hp_80_112023/runs/6r34cz6f</a>"
      ],
      "text/plain": [
       "<IPython.core.display.HTML object>"
      ]
     },
     "metadata": {},
     "output_type": "display_data"
    },
    {
     "name": "stderr",
     "output_type": "stream",
     "text": [
      "  0%| | 0/70 [00:"
     ]
    },
    {
     "name": "stdout",
     "output_type": "stream",
     "text": [
      "E    0\n",
      "training...\n",
      "validating...\n"
     ]
    },
    {
     "name": "stderr",
     "output_type": "stream",
     "text": [
      "  1%| | 1/70 [01:"
     ]
    },
    {
     "name": "stdout",
     "output_type": "stream",
     "text": [
      "improvment in metrics. model saved\n",
      "E    1\n",
      "training...\n",
      "validating...\n"
     ]
    },
    {
     "name": "stderr",
     "output_type": "stream",
     "text": [
      "  3%| | 2/70 [02:"
     ]
    },
    {
     "name": "stdout",
     "output_type": "stream",
     "text": [
      "E    2\n",
      "training...\n",
      "validating...\n"
     ]
    },
    {
     "name": "stderr",
     "output_type": "stream",
     "text": [
      "  4%| | 3/70 [03:"
     ]
    },
    {
     "name": "stdout",
     "output_type": "stream",
     "text": [
      "E    3\n",
      "training...\n",
      "validating...\n"
     ]
    },
    {
     "name": "stderr",
     "output_type": "stream",
     "text": [
      "  6%| | 4/70 [04:"
     ]
    },
    {
     "name": "stdout",
     "output_type": "stream",
     "text": [
      "E    4\n",
      "training...\n",
      "validating...\n"
     ]
    },
    {
     "name": "stderr",
     "output_type": "stream",
     "text": [
      "  7%| | 5/70 [05:"
     ]
    },
    {
     "name": "stdout",
     "output_type": "stream",
     "text": [
      "E    5\n",
      "training...\n",
      "validating...\n"
     ]
    },
    {
     "name": "stderr",
     "output_type": "stream",
     "text": [
      "  9%| | 6/70 [06:"
     ]
    },
    {
     "name": "stdout",
     "output_type": "stream",
     "text": [
      "E    6\n",
      "training...\n",
      "validating...\n"
     ]
    },
    {
     "name": "stderr",
     "output_type": "stream",
     "text": [
      " 10%| | 7/70 [07:"
     ]
    },
    {
     "name": "stdout",
     "output_type": "stream",
     "text": [
      "E    7\n",
      "training...\n",
      "validating...\n"
     ]
    },
    {
     "name": "stderr",
     "output_type": "stream",
     "text": [
      " 11%| | 8/70 [08:"
     ]
    },
    {
     "name": "stdout",
     "output_type": "stream",
     "text": [
      "E    8\n",
      "training...\n",
      "validating...\n"
     ]
    },
    {
     "name": "stderr",
     "output_type": "stream",
     "text": [
      " 13%|▏| 9/70 [09:"
     ]
    },
    {
     "name": "stdout",
     "output_type": "stream",
     "text": [
      "E    9\n",
      "training...\n",
      "validating...\n"
     ]
    },
    {
     "name": "stderr",
     "output_type": "stream",
     "text": [
      " 14%|▏| 10/70 [10"
     ]
    },
    {
     "name": "stdout",
     "output_type": "stream",
     "text": [
      "E    10\n",
      "training...\n",
      "validating...\n"
     ]
    },
    {
     "name": "stderr",
     "output_type": "stream",
     "text": [
      " 16%|▏| 11/70 [11"
     ]
    },
    {
     "name": "stdout",
     "output_type": "stream",
     "text": [
      "E    11\n",
      "training...\n",
      "validating...\n"
     ]
    },
    {
     "name": "stderr",
     "output_type": "stream",
     "text": [
      " 17%|▏| 12/70 [12"
     ]
    },
    {
     "name": "stdout",
     "output_type": "stream",
     "text": [
      "E    12\n",
      "training...\n",
      "validating...\n"
     ]
    },
    {
     "name": "stderr",
     "output_type": "stream",
     "text": [
      " 19%|▏| 13/70 [13"
     ]
    },
    {
     "name": "stdout",
     "output_type": "stream",
     "text": [
      "E    13\n",
      "training...\n",
      "validating...\n"
     ]
    },
    {
     "name": "stderr",
     "output_type": "stream",
     "text": [
      " 20%|▏| 14/70 [14"
     ]
    },
    {
     "name": "stdout",
     "output_type": "stream",
     "text": [
      "E    14\n",
      "training...\n",
      "validating...\n"
     ]
    },
    {
     "name": "stderr",
     "output_type": "stream",
     "text": [
      " 21%|▏| 15/70 [15"
     ]
    },
    {
     "name": "stdout",
     "output_type": "stream",
     "text": [
      "E    15\n",
      "training...\n",
      "validating...\n"
     ]
    },
    {
     "name": "stderr",
     "output_type": "stream",
     "text": [
      " 23%|▏| 16/70 [16"
     ]
    },
    {
     "name": "stdout",
     "output_type": "stream",
     "text": [
      "E    16\n",
      "training...\n",
      "validating...\n"
     ]
    },
    {
     "name": "stderr",
     "output_type": "stream",
     "text": [
      " 24%|▏| 17/70 [17"
     ]
    },
    {
     "name": "stdout",
     "output_type": "stream",
     "text": [
      "E    17\n",
      "training...\n",
      "validating...\n"
     ]
    },
    {
     "name": "stderr",
     "output_type": "stream",
     "text": [
      " 26%|▎| 18/70 [18"
     ]
    },
    {
     "name": "stdout",
     "output_type": "stream",
     "text": [
      "E    18\n",
      "training...\n",
      "validating...\n"
     ]
    },
    {
     "name": "stderr",
     "output_type": "stream",
     "text": [
      " 27%|▎| 19/70 [19"
     ]
    },
    {
     "name": "stdout",
     "output_type": "stream",
     "text": [
      "E    19\n",
      "training...\n",
      "validating...\n"
     ]
    },
    {
     "name": "stderr",
     "output_type": "stream",
     "text": [
      " 29%|▎| 20/70 [21"
     ]
    },
    {
     "name": "stdout",
     "output_type": "stream",
     "text": [
      "E    20\n",
      "training...\n",
      "validating...\n"
     ]
    },
    {
     "name": "stderr",
     "output_type": "stream",
     "text": [
      " 30%|▎| 21/70 [22"
     ]
    },
    {
     "name": "stdout",
     "output_type": "stream",
     "text": [
      "E    21\n",
      "training...\n",
      "validating...\n"
     ]
    },
    {
     "name": "stderr",
     "output_type": "stream",
     "text": [
      " 31%|▎| 22/70 [23"
     ]
    },
    {
     "name": "stdout",
     "output_type": "stream",
     "text": [
      "E    22\n",
      "training...\n",
      "validating...\n"
     ]
    },
    {
     "name": "stderr",
     "output_type": "stream",
     "text": [
      " 33%|▎| 23/70 [24"
     ]
    },
    {
     "name": "stdout",
     "output_type": "stream",
     "text": [
      "E    23\n",
      "training...\n",
      "validating...\n"
     ]
    },
    {
     "name": "stderr",
     "output_type": "stream",
     "text": [
      " 34%|▎| 24/70 [25"
     ]
    },
    {
     "name": "stdout",
     "output_type": "stream",
     "text": [
      "E    24\n",
      "training...\n",
      "validating...\n"
     ]
    },
    {
     "name": "stderr",
     "output_type": "stream",
     "text": [
      " 36%|▎| 25/70 [26"
     ]
    },
    {
     "name": "stdout",
     "output_type": "stream",
     "text": [
      "E    25\n",
      "training...\n",
      "validating...\n"
     ]
    },
    {
     "name": "stderr",
     "output_type": "stream",
     "text": [
      " 37%|▎| 26/70 [27"
     ]
    },
    {
     "name": "stdout",
     "output_type": "stream",
     "text": [
      "E    26\n",
      "training...\n",
      "validating...\n"
     ]
    },
    {
     "name": "stderr",
     "output_type": "stream",
     "text": [
      " 39%|▍| 27/70 [28"
     ]
    },
    {
     "name": "stdout",
     "output_type": "stream",
     "text": [
      "E    27\n",
      "training...\n",
      "validating...\n"
     ]
    },
    {
     "name": "stderr",
     "output_type": "stream",
     "text": [
      " 40%|▍| 28/70 [29"
     ]
    },
    {
     "name": "stdout",
     "output_type": "stream",
     "text": [
      "E    28\n",
      "training...\n",
      "validating...\n"
     ]
    },
    {
     "name": "stderr",
     "output_type": "stream",
     "text": [
      " 41%|▍| 29/70 [30"
     ]
    },
    {
     "name": "stdout",
     "output_type": "stream",
     "text": [
      "E    29\n",
      "training...\n",
      "validating...\n"
     ]
    },
    {
     "name": "stderr",
     "output_type": "stream",
     "text": [
      " 43%|▍| 30/70 [31"
     ]
    },
    {
     "name": "stdout",
     "output_type": "stream",
     "text": [
      "E    30\n",
      "training...\n",
      "validating...\n"
     ]
    },
    {
     "name": "stderr",
     "output_type": "stream",
     "text": [
      " 44%|▍| 31/70 [32"
     ]
    },
    {
     "name": "stdout",
     "output_type": "stream",
     "text": [
      "E    31\n",
      "training...\n",
      "validating...\n"
     ]
    },
    {
     "name": "stderr",
     "output_type": "stream",
     "text": [
      " 46%|▍| 32/70 [33"
     ]
    },
    {
     "name": "stdout",
     "output_type": "stream",
     "text": [
      "E    32\n",
      "training...\n",
      "validating...\n"
     ]
    },
    {
     "name": "stderr",
     "output_type": "stream",
     "text": [
      " 47%|▍| 33/70 [34"
     ]
    },
    {
     "name": "stdout",
     "output_type": "stream",
     "text": [
      "E    33\n",
      "training...\n",
      "validating...\n"
     ]
    },
    {
     "name": "stderr",
     "output_type": "stream",
     "text": [
      " 49%|▍| 34/70 [34"
     ]
    },
    {
     "name": "stdout",
     "output_type": "stream",
     "text": [
      "E    34\n",
      "training...\n",
      "validating...\n"
     ]
    },
    {
     "name": "stderr",
     "output_type": "stream",
     "text": [
      " 50%|▌| 35/70 [35"
     ]
    },
    {
     "name": "stdout",
     "output_type": "stream",
     "text": [
      "E    35\n",
      "training...\n",
      "validating...\n"
     ]
    },
    {
     "name": "stderr",
     "output_type": "stream",
     "text": [
      " 51%|▌| 36/70 [37"
     ]
    },
    {
     "name": "stdout",
     "output_type": "stream",
     "text": [
      "E    36\n",
      "training...\n",
      "validating...\n"
     ]
    },
    {
     "name": "stderr",
     "output_type": "stream",
     "text": [
      " 53%|▌| 37/70 [38"
     ]
    },
    {
     "name": "stdout",
     "output_type": "stream",
     "text": [
      "E    37\n",
      "training...\n",
      "validating...\n"
     ]
    },
    {
     "name": "stderr",
     "output_type": "stream",
     "text": [
      " 54%|▌| 38/70 [39"
     ]
    },
    {
     "name": "stdout",
     "output_type": "stream",
     "text": [
      "E    38\n",
      "training...\n",
      "validating...\n"
     ]
    },
    {
     "name": "stderr",
     "output_type": "stream",
     "text": [
      " 56%|▌| 39/70 [40"
     ]
    },
    {
     "name": "stdout",
     "output_type": "stream",
     "text": [
      "E    39\n",
      "training...\n",
      "validating...\n"
     ]
    },
    {
     "name": "stderr",
     "output_type": "stream",
     "text": [
      " 57%|▌| 40/70 [41"
     ]
    },
    {
     "name": "stdout",
     "output_type": "stream",
     "text": [
      "E    40\n",
      "training...\n",
      "validating...\n"
     ]
    },
    {
     "name": "stderr",
     "output_type": "stream",
     "text": [
      " 59%|▌| 41/70 [42"
     ]
    },
    {
     "name": "stdout",
     "output_type": "stream",
     "text": [
      "E    41\n",
      "training...\n",
      "validating...\n"
     ]
    },
    {
     "name": "stderr",
     "output_type": "stream",
     "text": [
      " 60%|▌| 42/70 [43"
     ]
    },
    {
     "name": "stdout",
     "output_type": "stream",
     "text": [
      "E    42\n",
      "training...\n",
      "validating...\n"
     ]
    },
    {
     "name": "stderr",
     "output_type": "stream",
     "text": [
      " 61%|▌| 43/70 [44"
     ]
    },
    {
     "name": "stdout",
     "output_type": "stream",
     "text": [
      "E    43\n",
      "training...\n",
      "validating...\n"
     ]
    },
    {
     "name": "stderr",
     "output_type": "stream",
     "text": [
      " 63%|▋| 44/70 [45"
     ]
    },
    {
     "name": "stdout",
     "output_type": "stream",
     "text": [
      "E    44\n",
      "training...\n",
      "validating...\n"
     ]
    },
    {
     "name": "stderr",
     "output_type": "stream",
     "text": [
      " 64%|▋| 45/70 [46"
     ]
    },
    {
     "name": "stdout",
     "output_type": "stream",
     "text": [
      "E    45\n",
      "training...\n",
      "validating...\n"
     ]
    },
    {
     "name": "stderr",
     "output_type": "stream",
     "text": [
      " 66%|▋| 46/70 [47"
     ]
    },
    {
     "name": "stdout",
     "output_type": "stream",
     "text": [
      "E    46\n",
      "training...\n",
      "validating...\n"
     ]
    },
    {
     "name": "stderr",
     "output_type": "stream",
     "text": [
      " 67%|▋| 47/70 [48"
     ]
    },
    {
     "name": "stdout",
     "output_type": "stream",
     "text": [
      "E    47\n",
      "training...\n",
      "validating...\n"
     ]
    },
    {
     "name": "stderr",
     "output_type": "stream",
     "text": [
      " 69%|▋| 48/70 [49"
     ]
    },
    {
     "name": "stdout",
     "output_type": "stream",
     "text": [
      "E    48\n",
      "training...\n",
      "validating...\n"
     ]
    },
    {
     "name": "stderr",
     "output_type": "stream",
     "text": [
      " 70%|▋| 49/70 [50"
     ]
    },
    {
     "name": "stdout",
     "output_type": "stream",
     "text": [
      "E    49\n",
      "training...\n",
      "validating...\n"
     ]
    },
    {
     "name": "stderr",
     "output_type": "stream",
     "text": [
      " 71%|▋| 50/70 [51"
     ]
    },
    {
     "name": "stdout",
     "output_type": "stream",
     "text": [
      "E    50\n",
      "training...\n",
      "validating...\n"
     ]
    },
    {
     "name": "stderr",
     "output_type": "stream",
     "text": [
      " 73%|▋| 51/70 [52"
     ]
    },
    {
     "name": "stdout",
     "output_type": "stream",
     "text": [
      "E    51\n",
      "training...\n",
      "validating...\n"
     ]
    },
    {
     "name": "stderr",
     "output_type": "stream",
     "text": [
      " 74%|▋| 52/70 [53"
     ]
    },
    {
     "name": "stdout",
     "output_type": "stream",
     "text": [
      "E    52\n",
      "training...\n",
      "validating...\n"
     ]
    },
    {
     "name": "stderr",
     "output_type": "stream",
     "text": [
      " 76%|▊| 53/70 [54"
     ]
    },
    {
     "name": "stdout",
     "output_type": "stream",
     "text": [
      "E    53\n",
      "training...\n",
      "validating...\n"
     ]
    },
    {
     "name": "stderr",
     "output_type": "stream",
     "text": [
      " 77%|▊| 54/70 [55"
     ]
    },
    {
     "name": "stdout",
     "output_type": "stream",
     "text": [
      "E    54\n",
      "training...\n",
      "validating...\n"
     ]
    },
    {
     "name": "stderr",
     "output_type": "stream",
     "text": [
      " 79%|▊| 55/70 [56"
     ]
    },
    {
     "name": "stdout",
     "output_type": "stream",
     "text": [
      "E    55\n",
      "training...\n",
      "validating...\n"
     ]
    },
    {
     "name": "stderr",
     "output_type": "stream",
     "text": [
      " 80%|▊| 56/70 [57"
     ]
    },
    {
     "name": "stdout",
     "output_type": "stream",
     "text": [
      "E    56\n",
      "training...\n",
      "validating...\n"
     ]
    },
    {
     "name": "stderr",
     "output_type": "stream",
     "text": [
      " 81%|▊| 57/70 [58"
     ]
    },
    {
     "name": "stdout",
     "output_type": "stream",
     "text": [
      "E    57\n",
      "training...\n",
      "validating...\n"
     ]
    },
    {
     "name": "stderr",
     "output_type": "stream",
     "text": [
      " 83%|▊| 58/70 [59"
     ]
    },
    {
     "name": "stdout",
     "output_type": "stream",
     "text": [
      "E    58\n",
      "training...\n",
      "validating...\n"
     ]
    },
    {
     "name": "stderr",
     "output_type": "stream",
     "text": [
      " 84%|▊| 59/70 [1:"
     ]
    },
    {
     "name": "stdout",
     "output_type": "stream",
     "text": [
      "E    59\n",
      "training...\n",
      "validating...\n"
     ]
    },
    {
     "name": "stderr",
     "output_type": "stream",
     "text": [
      " 86%|▊| 60/70 [1:"
     ]
    },
    {
     "name": "stdout",
     "output_type": "stream",
     "text": [
      "E    60\n",
      "training...\n",
      "validating...\n"
     ]
    },
    {
     "name": "stderr",
     "output_type": "stream",
     "text": [
      " 87%|▊| 61/70 [1:"
     ]
    },
    {
     "name": "stdout",
     "output_type": "stream",
     "text": [
      "E    61\n",
      "training...\n",
      "validating...\n"
     ]
    },
    {
     "name": "stderr",
     "output_type": "stream",
     "text": [
      " 89%|▉| 62/70 [1:"
     ]
    },
    {
     "name": "stdout",
     "output_type": "stream",
     "text": [
      "E    62\n",
      "training...\n",
      "validating...\n"
     ]
    },
    {
     "name": "stderr",
     "output_type": "stream",
     "text": [
      " 90%|▉| 63/70 [1:"
     ]
    },
    {
     "name": "stdout",
     "output_type": "stream",
     "text": [
      "E    63\n",
      "training...\n",
      "validating...\n"
     ]
    },
    {
     "name": "stderr",
     "output_type": "stream",
     "text": [
      " 91%|▉| 64/70 [1:"
     ]
    },
    {
     "name": "stdout",
     "output_type": "stream",
     "text": [
      "E    64\n",
      "training...\n",
      "validating...\n"
     ]
    },
    {
     "name": "stderr",
     "output_type": "stream",
     "text": [
      " 93%|▉| 65/70 [1:"
     ]
    },
    {
     "name": "stdout",
     "output_type": "stream",
     "text": [
      "E    65\n",
      "training...\n",
      "validating...\n"
     ]
    },
    {
     "name": "stderr",
     "output_type": "stream",
     "text": [
      " 94%|▉| 66/70 [1:"
     ]
    },
    {
     "name": "stdout",
     "output_type": "stream",
     "text": [
      "E    66\n",
      "training...\n",
      "validating...\n"
     ]
    },
    {
     "name": "stderr",
     "output_type": "stream",
     "text": [
      " 96%|▉| 67/70 [1:"
     ]
    },
    {
     "name": "stdout",
     "output_type": "stream",
     "text": [
      "E    67\n",
      "training...\n",
      "validating...\n"
     ]
    },
    {
     "name": "stderr",
     "output_type": "stream",
     "text": [
      " 97%|▉| 68/70 [1:"
     ]
    },
    {
     "name": "stdout",
     "output_type": "stream",
     "text": [
      "E    68\n",
      "training...\n",
      "validating...\n"
     ]
    },
    {
     "name": "stderr",
     "output_type": "stream",
     "text": [
      " 99%|▉| 69/70 [1:"
     ]
    },
    {
     "name": "stdout",
     "output_type": "stream",
     "text": [
      "E    69\n",
      "training...\n",
      "validating...\n"
     ]
    },
    {
     "name": "stderr",
     "output_type": "stream",
     "text": [
      "100%|█| 70/70 [1:\n"
     ]
    },
    {
     "data": {
      "application/vnd.jupyter.widget-view+json": {
       "model_id": "",
       "version_major": 2,
       "version_minor": 0
      },
      "text/plain": [
       "VBox(children=(Label(value='0.006 MB of 0.006 MB uploaded\\r'), FloatProgress(value=1.0, max=1.0)))"
      ]
     },
     "metadata": {},
     "output_type": "display_data"
    },
    {
     "data": {
      "text/html": [
       "<style>\n",
       "    table.wandb td:nth-child(1) { padding: 0 10px; text-align: left ; width: auto;} td:nth-child(2) {text-align: left ; width: 100%}\n",
       "    .wandb-row { display: flex; flex-direction: row; flex-wrap: wrap; justify-content: flex-start; width: 100% }\n",
       "    .wandb-col { display: flex; flex-direction: column; flex-basis: 100%; flex: 1; padding: 10px; }\n",
       "    </style>\n",
       "<div class=\"wandb-row\"><div class=\"wandb-col\"><h3>Run history:</h3><br/><table class=\"wandb\"><tr><td>epoch</td><td>▁▁▁▁▂▂▂▂▂▃▃▃▃▃▃▄▄▄▄▄▅▅▅▅▅▆▆▆▆▆▆▇▇▇▇▇████</td></tr><tr><td>t_loss</td><td>▄▄▅▅▅▄▅▇▇█▅▄▇▄▇▅▁▅▁▅▅▅▄▄▅▆▆▅▆▃▄▄▅▅▅</td></tr><tr><td>train_accuracy_%</td><td>▆▅█▆▆▄▃▄▅▆▄▇▄▄▅▄▅▅▆▃▇▄▅▄▅▃▆▇▇▇▆▅▅▇▁</td></tr><tr><td>v_loss</td><td>▁▁▁▁▁▁▁▁▁▁▁▁▁▁▁▁▁▁▁▁▁▁▁▁▁▁▁▁▁▁▁▁▁▁▁</td></tr><tr><td>val_accuracy_%</td><td>▁▁▁▁▁▁▁▁▁▁▁▁▁▁▁▁▁▁▁▁▁▁▁▁▁▁▁▁▁▁▁▁▁▁▁</td></tr></table><br/></div><div class=\"wandb-col\"><h3>Run summary:</h3><br/><table class=\"wandb\"><tr><td>epoch</td><td>69</td></tr><tr><td>t_loss</td><td>0.0752</td></tr><tr><td>train_accuracy_%</td><td>0.08925</td></tr><tr><td>v_loss</td><td>0.08335</td></tr><tr><td>val_accuracy_%</td><td>0.09455</td></tr></table><br/></div></div>"
      ],
      "text/plain": [
       "<IPython.core.display.HTML object>"
      ]
     },
     "metadata": {},
     "output_type": "display_data"
    },
    {
     "data": {
      "text/html": [
       " View run <strong style=\"color:#cdcd00\">azure-sweep-8</strong> at: <a href='https://wandb.ai/antvis/IDSW_vgg_fine_hp_80_112023/runs/6r34cz6f' target=\"_blank\">https://wandb.ai/antvis/IDSW_vgg_fine_hp_80_112023/runs/6r34cz6f</a><br/>Synced 5 W&B file(s), 0 media file(s), 0 artifact file(s) and 0 other file(s)"
      ],
      "text/plain": [
       "<IPython.core.display.HTML object>"
      ]
     },
     "metadata": {},
     "output_type": "display_data"
    },
    {
     "data": {
      "text/html": [
       "Find logs at: <code>./wandb/run-20231206_220205-6r34cz6f/logs</code>"
      ],
      "text/plain": [
       "<IPython.core.display.HTML object>"
      ]
     },
     "metadata": {},
     "output_type": "display_data"
    },
    {
     "name": "stderr",
     "output_type": "stream",
     "text": [
      "\u001b[34m\u001b[1mwandb\u001b[0m: Agent Starting Run: qresm4lh with config:\n",
      "\u001b[34m\u001b[1mwandb\u001b[0m: \tchannels: 3\n",
      "\u001b[34m\u001b[1mwandb\u001b[0m: \tdata_set: Augmented\n",
      "\u001b[34m\u001b[1mwandb\u001b[0m: \tepochs: 70\n",
      "\u001b[34m\u001b[1mwandb\u001b[0m: \tfirst_lin_lay: 248832\n",
      "\u001b[34m\u001b[1mwandb\u001b[0m: \timage_path: /its/home/nn268/optics/AugmentedDS_IDSW/\n",
      "\u001b[34m\u001b[1mwandb\u001b[0m: \tks: [3, 5]\n",
      "\u001b[34m\u001b[1mwandb\u001b[0m: \tlearning_rate: 0.00017973670341587245\n",
      "\u001b[34m\u001b[1mwandb\u001b[0m: \tloss_fn: MSE\n",
      "\u001b[34m\u001b[1mwandb\u001b[0m: \tmodel_name: vgg16net_mlp\n",
      "\u001b[34m\u001b[1mwandb\u001b[0m: \tnum_classes: 11\n",
      "\u001b[34m\u001b[1mwandb\u001b[0m: \toptimizer: adam\n",
      "\u001b[34m\u001b[1mwandb\u001b[0m: \tscheduler: 0.01\n"
     ]
    },
    {
     "data": {
      "text/html": [
       "wandb version 0.16.1 is available!  To upgrade, please run:\n",
       " $ pip install wandb --upgrade"
      ],
      "text/plain": [
       "<IPython.core.display.HTML object>"
      ]
     },
     "metadata": {},
     "output_type": "display_data"
    },
    {
     "data": {
      "text/html": [
       "Tracking run with wandb version 0.16.0"
      ],
      "text/plain": [
       "<IPython.core.display.HTML object>"
      ]
     },
     "metadata": {},
     "output_type": "display_data"
    },
    {
     "data": {
      "text/html": [
       "Run data is saved locally in <code>/its/home/nn268/antvis/antvis/optics/wandb/run-20231206_231347-qresm4lh</code>"
      ],
      "text/plain": [
       "<IPython.core.display.HTML object>"
      ]
     },
     "metadata": {},
     "output_type": "display_data"
    },
    {
     "data": {
      "text/html": [
       "Syncing run <strong><a href='https://wandb.ai/antvis/IDSW_vgg_fine_hp_80_112023/runs/qresm4lh' target=\"_blank\">noble-sweep-9</a></strong> to <a href='https://wandb.ai/antvis/IDSW_vgg_fine_hp_80_112023' target=\"_blank\">Weights & Biases</a> (<a href='https://wandb.me/run' target=\"_blank\">docs</a>)<br/>Sweep page: <a href='https://wandb.ai/antvis/IDSW_vgg_fine_hp_80_112023/sweeps/obcz0eq3' target=\"_blank\">https://wandb.ai/antvis/IDSW_vgg_fine_hp_80_112023/sweeps/obcz0eq3</a>"
      ],
      "text/plain": [
       "<IPython.core.display.HTML object>"
      ]
     },
     "metadata": {},
     "output_type": "display_data"
    },
    {
     "data": {
      "text/html": [
       " View project at <a href='https://wandb.ai/antvis/IDSW_vgg_fine_hp_80_112023' target=\"_blank\">https://wandb.ai/antvis/IDSW_vgg_fine_hp_80_112023</a>"
      ],
      "text/plain": [
       "<IPython.core.display.HTML object>"
      ]
     },
     "metadata": {},
     "output_type": "display_data"
    },
    {
     "data": {
      "text/html": [
       " View sweep at <a href='https://wandb.ai/antvis/IDSW_vgg_fine_hp_80_112023/sweeps/obcz0eq3' target=\"_blank\">https://wandb.ai/antvis/IDSW_vgg_fine_hp_80_112023/sweeps/obcz0eq3</a>"
      ],
      "text/plain": [
       "<IPython.core.display.HTML object>"
      ]
     },
     "metadata": {},
     "output_type": "display_data"
    },
    {
     "data": {
      "text/html": [
       " View run at <a href='https://wandb.ai/antvis/IDSW_vgg_fine_hp_80_112023/runs/qresm4lh' target=\"_blank\">https://wandb.ai/antvis/IDSW_vgg_fine_hp_80_112023/runs/qresm4lh</a>"
      ],
      "text/plain": [
       "<IPython.core.display.HTML object>"
      ]
     },
     "metadata": {},
     "output_type": "display_data"
    },
    {
     "name": "stderr",
     "output_type": "stream",
     "text": [
      "\u001b[34m\u001b[1mwandb\u001b[0m: \u001b[33mWARNING\u001b[0m Ignored wandb.init() arg project when running a sweep.\n"
     ]
    },
    {
     "data": {
      "text/html": [
       "Finishing last run (ID:qresm4lh) before initializing another..."
      ],
      "text/plain": [
       "<IPython.core.display.HTML object>"
      ]
     },
     "metadata": {},
     "output_type": "display_data"
    },
    {
     "data": {
      "application/vnd.jupyter.widget-view+json": {
       "model_id": "",
       "version_major": 2,
       "version_minor": 0
      },
      "text/plain": [
       "VBox(children=(Label(value='0.006 MB of 0.006 MB uploaded\\r'), FloatProgress(value=1.0, max=1.0)))"
      ]
     },
     "metadata": {},
     "output_type": "display_data"
    },
    {
     "data": {
      "text/html": [
       " View run <strong style=\"color:#cdcd00\">noble-sweep-9</strong> at: <a href='https://wandb.ai/antvis/IDSW_vgg_fine_hp_80_112023/runs/qresm4lh' target=\"_blank\">https://wandb.ai/antvis/IDSW_vgg_fine_hp_80_112023/runs/qresm4lh</a><br/>Synced 5 W&B file(s), 0 media file(s), 0 artifact file(s) and 0 other file(s)"
      ],
      "text/plain": [
       "<IPython.core.display.HTML object>"
      ]
     },
     "metadata": {},
     "output_type": "display_data"
    },
    {
     "data": {
      "text/html": [
       "Find logs at: <code>./wandb/run-20231206_231347-qresm4lh/logs</code>"
      ],
      "text/plain": [
       "<IPython.core.display.HTML object>"
      ]
     },
     "metadata": {},
     "output_type": "display_data"
    },
    {
     "data": {
      "text/html": [
       "Successfully finished last run (ID:qresm4lh). Initializing new run:<br/>"
      ],
      "text/plain": [
       "<IPython.core.display.HTML object>"
      ]
     },
     "metadata": {},
     "output_type": "display_data"
    },
    {
     "data": {
      "application/vnd.jupyter.widget-view+json": {
       "model_id": "c2311f6b66e742fbaf920b418fb65939",
       "version_major": 2,
       "version_minor": 0
      },
      "text/plain": [
       "VBox(children=(Label(value='Waiting for wandb.init()...\\r'), FloatProgress(value=0.011112161266565737, max=1.0…"
      ]
     },
     "metadata": {},
     "output_type": "display_data"
    },
    {
     "data": {
      "text/html": [
       "wandb version 0.16.1 is available!  To upgrade, please run:\n",
       " $ pip install wandb --upgrade"
      ],
      "text/plain": [
       "<IPython.core.display.HTML object>"
      ]
     },
     "metadata": {},
     "output_type": "display_data"
    },
    {
     "data": {
      "text/html": [
       "Tracking run with wandb version 0.16.0"
      ],
      "text/plain": [
       "<IPython.core.display.HTML object>"
      ]
     },
     "metadata": {},
     "output_type": "display_data"
    },
    {
     "data": {
      "text/html": [
       "Run data is saved locally in <code>/its/home/nn268/antvis/antvis/optics/wandb/run-20231206_231348-qresm4lh</code>"
      ],
      "text/plain": [
       "<IPython.core.display.HTML object>"
      ]
     },
     "metadata": {},
     "output_type": "display_data"
    },
    {
     "data": {
      "text/html": [
       "Syncing run <strong><a href='https://wandb.ai/antvis/IDSW_vgg_fine_hp_80_112023/runs/qresm4lh' target=\"_blank\">noble-sweep-9</a></strong> to <a href='https://wandb.ai/antvis/IDSW_vgg_fine_hp_80_112023' target=\"_blank\">Weights & Biases</a> (<a href='https://wandb.me/run' target=\"_blank\">docs</a>)<br/>Sweep page: <a href='https://wandb.ai/antvis/IDSW_vgg_fine_hp_80_112023/sweeps/obcz0eq3' target=\"_blank\">https://wandb.ai/antvis/IDSW_vgg_fine_hp_80_112023/sweeps/obcz0eq3</a>"
      ],
      "text/plain": [
       "<IPython.core.display.HTML object>"
      ]
     },
     "metadata": {},
     "output_type": "display_data"
    },
    {
     "data": {
      "text/html": [
       " View project at <a href='https://wandb.ai/antvis/IDSW_vgg_fine_hp_80_112023' target=\"_blank\">https://wandb.ai/antvis/IDSW_vgg_fine_hp_80_112023</a>"
      ],
      "text/plain": [
       "<IPython.core.display.HTML object>"
      ]
     },
     "metadata": {},
     "output_type": "display_data"
    },
    {
     "data": {
      "text/html": [
       " View sweep at <a href='https://wandb.ai/antvis/IDSW_vgg_fine_hp_80_112023/sweeps/obcz0eq3' target=\"_blank\">https://wandb.ai/antvis/IDSW_vgg_fine_hp_80_112023/sweeps/obcz0eq3</a>"
      ],
      "text/plain": [
       "<IPython.core.display.HTML object>"
      ]
     },
     "metadata": {},
     "output_type": "display_data"
    },
    {
     "data": {
      "text/html": [
       " View run at <a href='https://wandb.ai/antvis/IDSW_vgg_fine_hp_80_112023/runs/qresm4lh' target=\"_blank\">https://wandb.ai/antvis/IDSW_vgg_fine_hp_80_112023/runs/qresm4lh</a>"
      ],
      "text/plain": [
       "<IPython.core.display.HTML object>"
      ]
     },
     "metadata": {},
     "output_type": "display_data"
    },
    {
     "name": "stderr",
     "output_type": "stream",
     "text": [
      "  0%| | 0/70 [00:"
     ]
    },
    {
     "name": "stdout",
     "output_type": "stream",
     "text": [
      "E    0\n",
      "training...\n",
      "validating...\n"
     ]
    },
    {
     "name": "stderr",
     "output_type": "stream",
     "text": [
      "  1%| | 1/70 [01:"
     ]
    },
    {
     "name": "stdout",
     "output_type": "stream",
     "text": [
      "improvment in metrics. model saved\n",
      "E    1\n",
      "training...\n",
      "validating...\n"
     ]
    },
    {
     "name": "stderr",
     "output_type": "stream",
     "text": [
      "  3%| | 2/70 [02:"
     ]
    },
    {
     "name": "stdout",
     "output_type": "stream",
     "text": [
      "E    2\n",
      "training...\n",
      "validating...\n"
     ]
    },
    {
     "name": "stderr",
     "output_type": "stream",
     "text": [
      "  4%| | 3/70 [03:"
     ]
    },
    {
     "name": "stdout",
     "output_type": "stream",
     "text": [
      "E    3\n",
      "training...\n",
      "validating...\n"
     ]
    },
    {
     "name": "stderr",
     "output_type": "stream",
     "text": [
      "  6%| | 4/70 [04:"
     ]
    },
    {
     "name": "stdout",
     "output_type": "stream",
     "text": [
      "E    4\n",
      "training...\n",
      "validating...\n"
     ]
    },
    {
     "name": "stderr",
     "output_type": "stream",
     "text": [
      "  7%| | 5/70 [05:"
     ]
    },
    {
     "name": "stdout",
     "output_type": "stream",
     "text": [
      "E    5\n",
      "training...\n",
      "validating...\n"
     ]
    },
    {
     "name": "stderr",
     "output_type": "stream",
     "text": [
      "  9%| | 6/70 [06:"
     ]
    },
    {
     "name": "stdout",
     "output_type": "stream",
     "text": [
      "E    6\n",
      "training...\n",
      "validating...\n"
     ]
    },
    {
     "name": "stderr",
     "output_type": "stream",
     "text": [
      " 10%| | 7/70 [07:"
     ]
    },
    {
     "name": "stdout",
     "output_type": "stream",
     "text": [
      "E    7\n",
      "training...\n",
      "validating...\n"
     ]
    },
    {
     "name": "stderr",
     "output_type": "stream",
     "text": [
      " 11%| | 8/70 [08:"
     ]
    },
    {
     "name": "stdout",
     "output_type": "stream",
     "text": [
      "E    8\n",
      "training...\n",
      "validating...\n"
     ]
    },
    {
     "name": "stderr",
     "output_type": "stream",
     "text": [
      " 13%|▏| 9/70 [09:"
     ]
    },
    {
     "name": "stdout",
     "output_type": "stream",
     "text": [
      "E    9\n",
      "training...\n",
      "validating...\n"
     ]
    },
    {
     "name": "stderr",
     "output_type": "stream",
     "text": [
      " 14%|▏| 10/70 [10"
     ]
    },
    {
     "name": "stdout",
     "output_type": "stream",
     "text": [
      "E    10\n",
      "training...\n",
      "validating...\n"
     ]
    },
    {
     "name": "stderr",
     "output_type": "stream",
     "text": [
      " 16%|▏| 11/70 [11"
     ]
    },
    {
     "name": "stdout",
     "output_type": "stream",
     "text": [
      "E    11\n",
      "training...\n",
      "validating...\n"
     ]
    },
    {
     "name": "stderr",
     "output_type": "stream",
     "text": [
      " 17%|▏| 12/70 [12"
     ]
    },
    {
     "name": "stdout",
     "output_type": "stream",
     "text": [
      "E    12\n",
      "training...\n",
      "validating...\n"
     ]
    },
    {
     "name": "stderr",
     "output_type": "stream",
     "text": [
      " 19%|▏| 13/70 [13"
     ]
    },
    {
     "name": "stdout",
     "output_type": "stream",
     "text": [
      "E    13\n",
      "training...\n",
      "validating...\n"
     ]
    },
    {
     "name": "stderr",
     "output_type": "stream",
     "text": [
      " 20%|▏| 14/70 [14"
     ]
    },
    {
     "name": "stdout",
     "output_type": "stream",
     "text": [
      "E    14\n",
      "training...\n",
      "validating...\n"
     ]
    },
    {
     "name": "stderr",
     "output_type": "stream",
     "text": [
      " 21%|▏| 15/70 [15"
     ]
    },
    {
     "name": "stdout",
     "output_type": "stream",
     "text": [
      "E    15\n",
      "training...\n",
      "validating...\n"
     ]
    },
    {
     "name": "stderr",
     "output_type": "stream",
     "text": [
      " 23%|▏| 16/70 [16"
     ]
    },
    {
     "name": "stdout",
     "output_type": "stream",
     "text": [
      "E    16\n",
      "training...\n",
      "validating...\n"
     ]
    },
    {
     "name": "stderr",
     "output_type": "stream",
     "text": [
      " 24%|▏| 17/70 [17"
     ]
    },
    {
     "name": "stdout",
     "output_type": "stream",
     "text": [
      "E    17\n",
      "training...\n",
      "validating...\n"
     ]
    },
    {
     "name": "stderr",
     "output_type": "stream",
     "text": [
      " 26%|▎| 18/70 [18"
     ]
    },
    {
     "name": "stdout",
     "output_type": "stream",
     "text": [
      "E    18\n",
      "training...\n",
      "validating...\n"
     ]
    },
    {
     "name": "stderr",
     "output_type": "stream",
     "text": [
      " 27%|▎| 19/70 [19"
     ]
    },
    {
     "name": "stdout",
     "output_type": "stream",
     "text": [
      "E    19\n",
      "training...\n",
      "validating...\n"
     ]
    },
    {
     "name": "stderr",
     "output_type": "stream",
     "text": [
      " 29%|▎| 20/70 [20"
     ]
    },
    {
     "name": "stdout",
     "output_type": "stream",
     "text": [
      "E    20\n",
      "training...\n",
      "validating...\n"
     ]
    },
    {
     "name": "stderr",
     "output_type": "stream",
     "text": [
      " 30%|▎| 21/70 [22"
     ]
    },
    {
     "name": "stdout",
     "output_type": "stream",
     "text": [
      "E    21\n",
      "training...\n",
      "validating...\n"
     ]
    },
    {
     "name": "stderr",
     "output_type": "stream",
     "text": [
      " 31%|▎| 22/70 [23"
     ]
    },
    {
     "name": "stdout",
     "output_type": "stream",
     "text": [
      "E    22\n",
      "training...\n",
      "validating...\n"
     ]
    },
    {
     "name": "stderr",
     "output_type": "stream",
     "text": [
      " 33%|▎| 23/70 [24"
     ]
    },
    {
     "name": "stdout",
     "output_type": "stream",
     "text": [
      "E    23\n",
      "training...\n",
      "validating...\n"
     ]
    },
    {
     "name": "stderr",
     "output_type": "stream",
     "text": [
      " 34%|▎| 24/70 [25"
     ]
    },
    {
     "name": "stdout",
     "output_type": "stream",
     "text": [
      "E    24\n",
      "training...\n",
      "validating...\n"
     ]
    },
    {
     "name": "stderr",
     "output_type": "stream",
     "text": [
      " 36%|▎| 25/70 [26"
     ]
    },
    {
     "name": "stdout",
     "output_type": "stream",
     "text": [
      "E    25\n",
      "training...\n",
      "validating...\n"
     ]
    },
    {
     "name": "stderr",
     "output_type": "stream",
     "text": [
      " 37%|▎| 26/70 [27"
     ]
    },
    {
     "name": "stdout",
     "output_type": "stream",
     "text": [
      "E    26\n",
      "training...\n",
      "validating...\n"
     ]
    },
    {
     "name": "stderr",
     "output_type": "stream",
     "text": [
      " 39%|▍| 27/70 [28"
     ]
    },
    {
     "name": "stdout",
     "output_type": "stream",
     "text": [
      "E    27\n",
      "training...\n",
      "validating...\n"
     ]
    },
    {
     "name": "stderr",
     "output_type": "stream",
     "text": [
      " 40%|▍| 28/70 [29"
     ]
    },
    {
     "name": "stdout",
     "output_type": "stream",
     "text": [
      "E    28\n",
      "training...\n",
      "validating...\n"
     ]
    },
    {
     "name": "stderr",
     "output_type": "stream",
     "text": [
      " 41%|▍| 29/70 [30"
     ]
    },
    {
     "name": "stdout",
     "output_type": "stream",
     "text": [
      "E    29\n",
      "training...\n",
      "validating...\n"
     ]
    },
    {
     "name": "stderr",
     "output_type": "stream",
     "text": [
      " 43%|▍| 30/70 [31"
     ]
    },
    {
     "name": "stdout",
     "output_type": "stream",
     "text": [
      "E    30\n",
      "training...\n",
      "validating...\n"
     ]
    },
    {
     "name": "stderr",
     "output_type": "stream",
     "text": [
      " 44%|▍| 31/70 [32"
     ]
    },
    {
     "name": "stdout",
     "output_type": "stream",
     "text": [
      "E    31\n",
      "training...\n",
      "validating...\n"
     ]
    },
    {
     "name": "stderr",
     "output_type": "stream",
     "text": [
      " 46%|▍| 32/70 [33"
     ]
    },
    {
     "name": "stdout",
     "output_type": "stream",
     "text": [
      "E    32\n",
      "training...\n",
      "validating...\n"
     ]
    },
    {
     "name": "stderr",
     "output_type": "stream",
     "text": [
      " 47%|▍| 33/70 [34"
     ]
    },
    {
     "name": "stdout",
     "output_type": "stream",
     "text": [
      "E    33\n",
      "training...\n",
      "validating...\n"
     ]
    },
    {
     "name": "stderr",
     "output_type": "stream",
     "text": [
      " 49%|▍| 34/70 [35"
     ]
    },
    {
     "name": "stdout",
     "output_type": "stream",
     "text": [
      "E    34\n",
      "training...\n",
      "validating...\n"
     ]
    },
    {
     "name": "stderr",
     "output_type": "stream",
     "text": [
      " 50%|▌| 35/70 [36"
     ]
    },
    {
     "name": "stdout",
     "output_type": "stream",
     "text": [
      "E    35\n",
      "training...\n",
      "validating...\n"
     ]
    },
    {
     "name": "stderr",
     "output_type": "stream",
     "text": [
      " 51%|▌| 36/70 [37"
     ]
    },
    {
     "name": "stdout",
     "output_type": "stream",
     "text": [
      "E    36\n",
      "training...\n",
      "validating...\n"
     ]
    },
    {
     "name": "stderr",
     "output_type": "stream",
     "text": [
      " 53%|▌| 37/70 [38"
     ]
    },
    {
     "name": "stdout",
     "output_type": "stream",
     "text": [
      "E    37\n",
      "training...\n",
      "validating...\n"
     ]
    },
    {
     "name": "stderr",
     "output_type": "stream",
     "text": [
      " 54%|▌| 38/70 [39"
     ]
    },
    {
     "name": "stdout",
     "output_type": "stream",
     "text": [
      "E    38\n",
      "training...\n",
      "validating...\n"
     ]
    },
    {
     "name": "stderr",
     "output_type": "stream",
     "text": [
      " 56%|▌| 39/70 [40"
     ]
    },
    {
     "name": "stdout",
     "output_type": "stream",
     "text": [
      "E    39\n",
      "training...\n",
      "validating...\n"
     ]
    },
    {
     "name": "stderr",
     "output_type": "stream",
     "text": [
      " 57%|▌| 40/70 [41"
     ]
    },
    {
     "name": "stdout",
     "output_type": "stream",
     "text": [
      "E    40\n",
      "training...\n",
      "validating...\n"
     ]
    },
    {
     "name": "stderr",
     "output_type": "stream",
     "text": [
      " 59%|▌| 41/70 [42"
     ]
    },
    {
     "name": "stdout",
     "output_type": "stream",
     "text": [
      "E    41\n",
      "training...\n",
      "validating...\n"
     ]
    },
    {
     "name": "stderr",
     "output_type": "stream",
     "text": [
      " 60%|▌| 42/70 [43"
     ]
    },
    {
     "name": "stdout",
     "output_type": "stream",
     "text": [
      "E    42\n",
      "training...\n",
      "validating...\n"
     ]
    },
    {
     "name": "stderr",
     "output_type": "stream",
     "text": [
      " 61%|▌| 43/70 [44"
     ]
    },
    {
     "name": "stdout",
     "output_type": "stream",
     "text": [
      "E    43\n",
      "training...\n",
      "validating...\n"
     ]
    },
    {
     "name": "stderr",
     "output_type": "stream",
     "text": [
      " 63%|▋| 44/70 [45"
     ]
    },
    {
     "name": "stdout",
     "output_type": "stream",
     "text": [
      "E    44\n",
      "training...\n",
      "validating...\n"
     ]
    },
    {
     "name": "stderr",
     "output_type": "stream",
     "text": [
      " 64%|▋| 45/70 [46"
     ]
    },
    {
     "name": "stdout",
     "output_type": "stream",
     "text": [
      "E    45\n",
      "training...\n",
      "validating...\n"
     ]
    },
    {
     "name": "stderr",
     "output_type": "stream",
     "text": [
      " 66%|▋| 46/70 [47"
     ]
    },
    {
     "name": "stdout",
     "output_type": "stream",
     "text": [
      "E    46\n",
      "training...\n",
      "validating...\n"
     ]
    },
    {
     "name": "stderr",
     "output_type": "stream",
     "text": [
      " 67%|▋| 47/70 [48"
     ]
    },
    {
     "name": "stdout",
     "output_type": "stream",
     "text": [
      "E    47\n",
      "training...\n",
      "validating...\n"
     ]
    },
    {
     "name": "stderr",
     "output_type": "stream",
     "text": [
      " 69%|▋| 48/70 [49"
     ]
    },
    {
     "name": "stdout",
     "output_type": "stream",
     "text": [
      "E    48\n",
      "training...\n",
      "validating...\n"
     ]
    },
    {
     "name": "stderr",
     "output_type": "stream",
     "text": [
      " 70%|▋| 49/70 [50"
     ]
    },
    {
     "name": "stdout",
     "output_type": "stream",
     "text": [
      "E    49\n",
      "training...\n",
      "validating...\n"
     ]
    },
    {
     "name": "stderr",
     "output_type": "stream",
     "text": [
      " 71%|▋| 50/70 [51"
     ]
    },
    {
     "name": "stdout",
     "output_type": "stream",
     "text": [
      "E    50\n",
      "training...\n",
      "validating...\n"
     ]
    },
    {
     "name": "stderr",
     "output_type": "stream",
     "text": [
      " 73%|▋| 51/70 [52"
     ]
    },
    {
     "name": "stdout",
     "output_type": "stream",
     "text": [
      "E    51\n",
      "training...\n",
      "validating...\n"
     ]
    },
    {
     "name": "stderr",
     "output_type": "stream",
     "text": [
      " 74%|▋| 52/70 [53"
     ]
    },
    {
     "name": "stdout",
     "output_type": "stream",
     "text": [
      "E    52\n",
      "training...\n",
      "validating...\n"
     ]
    },
    {
     "name": "stderr",
     "output_type": "stream",
     "text": [
      " 76%|▊| 53/70 [54"
     ]
    },
    {
     "name": "stdout",
     "output_type": "stream",
     "text": [
      "E    53\n",
      "training...\n",
      "validating...\n"
     ]
    },
    {
     "name": "stderr",
     "output_type": "stream",
     "text": [
      " 77%|▊| 54/70 [55"
     ]
    },
    {
     "name": "stdout",
     "output_type": "stream",
     "text": [
      "E    54\n",
      "training...\n",
      "validating...\n"
     ]
    },
    {
     "name": "stderr",
     "output_type": "stream",
     "text": [
      " 79%|▊| 55/70 [56"
     ]
    },
    {
     "name": "stdout",
     "output_type": "stream",
     "text": [
      "E    55\n",
      "training...\n",
      "validating...\n"
     ]
    },
    {
     "name": "stderr",
     "output_type": "stream",
     "text": [
      " 80%|▊| 56/70 [57"
     ]
    },
    {
     "name": "stdout",
     "output_type": "stream",
     "text": [
      "E    56\n",
      "training...\n",
      "validating...\n"
     ]
    },
    {
     "name": "stderr",
     "output_type": "stream",
     "text": [
      " 81%|▊| 57/70 [58"
     ]
    },
    {
     "name": "stdout",
     "output_type": "stream",
     "text": [
      "E    57\n",
      "training...\n",
      "validating...\n"
     ]
    },
    {
     "name": "stderr",
     "output_type": "stream",
     "text": [
      " 83%|▊| 58/70 [59"
     ]
    },
    {
     "name": "stdout",
     "output_type": "stream",
     "text": [
      "E    58\n",
      "training...\n",
      "validating...\n"
     ]
    },
    {
     "name": "stderr",
     "output_type": "stream",
     "text": [
      " 84%|▊| 59/70 [1:"
     ]
    },
    {
     "name": "stdout",
     "output_type": "stream",
     "text": [
      "E    59\n",
      "training...\n",
      "validating...\n"
     ]
    },
    {
     "name": "stderr",
     "output_type": "stream",
     "text": [
      " 86%|▊| 60/70 [1:"
     ]
    },
    {
     "name": "stdout",
     "output_type": "stream",
     "text": [
      "E    60\n",
      "training...\n",
      "validating...\n"
     ]
    },
    {
     "name": "stderr",
     "output_type": "stream",
     "text": [
      " 87%|▊| 61/70 [1:"
     ]
    },
    {
     "name": "stdout",
     "output_type": "stream",
     "text": [
      "E    61\n",
      "training...\n",
      "validating...\n"
     ]
    },
    {
     "name": "stderr",
     "output_type": "stream",
     "text": [
      " 89%|▉| 62/70 [1:"
     ]
    },
    {
     "name": "stdout",
     "output_type": "stream",
     "text": [
      "E    62\n",
      "training...\n",
      "validating...\n"
     ]
    },
    {
     "name": "stderr",
     "output_type": "stream",
     "text": [
      " 90%|▉| 63/70 [1:"
     ]
    },
    {
     "name": "stdout",
     "output_type": "stream",
     "text": [
      "E    63\n",
      "training...\n",
      "validating...\n"
     ]
    },
    {
     "name": "stderr",
     "output_type": "stream",
     "text": [
      " 91%|▉| 64/70 [1:"
     ]
    },
    {
     "name": "stdout",
     "output_type": "stream",
     "text": [
      "E    64\n",
      "training...\n",
      "validating...\n"
     ]
    },
    {
     "name": "stderr",
     "output_type": "stream",
     "text": [
      " 93%|▉| 65/70 [1:"
     ]
    },
    {
     "name": "stdout",
     "output_type": "stream",
     "text": [
      "E    65\n",
      "training...\n",
      "validating...\n"
     ]
    },
    {
     "name": "stderr",
     "output_type": "stream",
     "text": [
      " 94%|▉| 66/70 [1:"
     ]
    },
    {
     "name": "stdout",
     "output_type": "stream",
     "text": [
      "E    66\n",
      "training...\n",
      "validating...\n"
     ]
    },
    {
     "name": "stderr",
     "output_type": "stream",
     "text": [
      " 96%|▉| 67/70 [1:"
     ]
    },
    {
     "name": "stdout",
     "output_type": "stream",
     "text": [
      "E    67\n",
      "training...\n",
      "validating...\n"
     ]
    },
    {
     "name": "stderr",
     "output_type": "stream",
     "text": [
      " 97%|▉| 68/70 [1:"
     ]
    },
    {
     "name": "stdout",
     "output_type": "stream",
     "text": [
      "E    68\n",
      "training...\n",
      "validating...\n"
     ]
    },
    {
     "name": "stderr",
     "output_type": "stream",
     "text": [
      " 99%|▉| 69/70 [1:"
     ]
    },
    {
     "name": "stdout",
     "output_type": "stream",
     "text": [
      "E    69\n",
      "training...\n",
      "validating...\n"
     ]
    },
    {
     "name": "stderr",
     "output_type": "stream",
     "text": [
      "100%|█| 70/70 [1:\n"
     ]
    },
    {
     "data": {
      "application/vnd.jupyter.widget-view+json": {
       "model_id": "",
       "version_major": 2,
       "version_minor": 0
      },
      "text/plain": [
       "VBox(children=(Label(value='0.006 MB of 0.006 MB uploaded\\r'), FloatProgress(value=1.0, max=1.0)))"
      ]
     },
     "metadata": {},
     "output_type": "display_data"
    },
    {
     "data": {
      "text/html": [
       "<style>\n",
       "    table.wandb td:nth-child(1) { padding: 0 10px; text-align: left ; width: auto;} td:nth-child(2) {text-align: left ; width: 100%}\n",
       "    .wandb-row { display: flex; flex-direction: row; flex-wrap: wrap; justify-content: flex-start; width: 100% }\n",
       "    .wandb-col { display: flex; flex-direction: column; flex-basis: 100%; flex: 1; padding: 10px; }\n",
       "    </style>\n",
       "<div class=\"wandb-row\"><div class=\"wandb-col\"><h3>Run history:</h3><br/><table class=\"wandb\"><tr><td>epoch</td><td>▁▁▁▁▂▂▂▂▂▃▃▃▃▃▃▄▄▄▄▄▅▅▅▅▅▆▆▆▆▆▆▇▇▇▇▇████</td></tr><tr><td>t_loss</td><td>▆▇▁▄▇▅▄▇▇▄▄▅▄▅▆▆▄▃▅▂▆▂▆█▃▄▄▆▅▆▃▆▇█▇</td></tr><tr><td>train_accuracy_%</td><td>▇▃▂▅▂▆▅▆▅▁▄▅▄▆▂▅▄▅▅▇▅█▃▆▅▂▃▅▅█▆▁▇▄▄</td></tr><tr><td>v_loss</td><td>▁▁▁▁▁▁▁▁▁▁▁▁▁▁▁▁▁▁▁▁▁▁▁▁▁▁▁▁▁▁▁▁▁▁▁</td></tr><tr><td>val_accuracy_%</td><td>▁▁▁▁▁▁▁▁▁▁▁▁▁▁▁▁▁▁▁▁▁▁▁▁▁▁▁▁▁▁▁▁▁▁▁</td></tr></table><br/></div><div class=\"wandb-col\"><h3>Run summary:</h3><br/><table class=\"wandb\"><tr><td>epoch</td><td>69</td></tr><tr><td>t_loss</td><td>0.08325</td></tr><tr><td>train_accuracy_%</td><td>0.08333</td></tr><tr><td>v_loss</td><td>0.08124</td></tr><tr><td>val_accuracy_%</td><td>0.09455</td></tr></table><br/></div></div>"
      ],
      "text/plain": [
       "<IPython.core.display.HTML object>"
      ]
     },
     "metadata": {},
     "output_type": "display_data"
    },
    {
     "data": {
      "text/html": [
       " View run <strong style=\"color:#cdcd00\">noble-sweep-9</strong> at: <a href='https://wandb.ai/antvis/IDSW_vgg_fine_hp_80_112023/runs/qresm4lh' target=\"_blank\">https://wandb.ai/antvis/IDSW_vgg_fine_hp_80_112023/runs/qresm4lh</a><br/>Synced 5 W&B file(s), 0 media file(s), 0 artifact file(s) and 0 other file(s)"
      ],
      "text/plain": [
       "<IPython.core.display.HTML object>"
      ]
     },
     "metadata": {},
     "output_type": "display_data"
    },
    {
     "data": {
      "text/html": [
       "Find logs at: <code>./wandb/run-20231206_231348-qresm4lh/logs</code>"
      ],
      "text/plain": [
       "<IPython.core.display.HTML object>"
      ]
     },
     "metadata": {},
     "output_type": "display_data"
    },
    {
     "name": "stderr",
     "output_type": "stream",
     "text": [
      "\u001b[34m\u001b[1mwandb\u001b[0m: Agent Starting Run: 1ycm0c2x with config:\n",
      "\u001b[34m\u001b[1mwandb\u001b[0m: \tchannels: 3\n",
      "\u001b[34m\u001b[1mwandb\u001b[0m: \tdata_set: Augmented\n",
      "\u001b[34m\u001b[1mwandb\u001b[0m: \tepochs: 70\n",
      "\u001b[34m\u001b[1mwandb\u001b[0m: \tfirst_lin_lay: 248832\n",
      "\u001b[34m\u001b[1mwandb\u001b[0m: \timage_path: /its/home/nn268/optics/AugmentedDS_IDSW/\n",
      "\u001b[34m\u001b[1mwandb\u001b[0m: \tks: [3, 5]\n",
      "\u001b[34m\u001b[1mwandb\u001b[0m: \tlearning_rate: 0.0010043085696471697\n",
      "\u001b[34m\u001b[1mwandb\u001b[0m: \tloss_fn: MSE\n",
      "\u001b[34m\u001b[1mwandb\u001b[0m: \tmodel_name: vgg16net_mlp\n",
      "\u001b[34m\u001b[1mwandb\u001b[0m: \tnum_classes: 11\n",
      "\u001b[34m\u001b[1mwandb\u001b[0m: \toptimizer: adam\n",
      "\u001b[34m\u001b[1mwandb\u001b[0m: \tscheduler: 0.001\n"
     ]
    },
    {
     "data": {
      "text/html": [
       "wandb version 0.16.1 is available!  To upgrade, please run:\n",
       " $ pip install wandb --upgrade"
      ],
      "text/plain": [
       "<IPython.core.display.HTML object>"
      ]
     },
     "metadata": {},
     "output_type": "display_data"
    },
    {
     "data": {
      "text/html": [
       "Tracking run with wandb version 0.16.0"
      ],
      "text/plain": [
       "<IPython.core.display.HTML object>"
      ]
     },
     "metadata": {},
     "output_type": "display_data"
    },
    {
     "data": {
      "text/html": [
       "Run data is saved locally in <code>/its/home/nn268/antvis/antvis/optics/wandb/run-20231207_002603-1ycm0c2x</code>"
      ],
      "text/plain": [
       "<IPython.core.display.HTML object>"
      ]
     },
     "metadata": {},
     "output_type": "display_data"
    },
    {
     "data": {
      "text/html": [
       "Syncing run <strong><a href='https://wandb.ai/antvis/IDSW_vgg_fine_hp_80_112023/runs/1ycm0c2x' target=\"_blank\">lucky-sweep-10</a></strong> to <a href='https://wandb.ai/antvis/IDSW_vgg_fine_hp_80_112023' target=\"_blank\">Weights & Biases</a> (<a href='https://wandb.me/run' target=\"_blank\">docs</a>)<br/>Sweep page: <a href='https://wandb.ai/antvis/IDSW_vgg_fine_hp_80_112023/sweeps/obcz0eq3' target=\"_blank\">https://wandb.ai/antvis/IDSW_vgg_fine_hp_80_112023/sweeps/obcz0eq3</a>"
      ],
      "text/plain": [
       "<IPython.core.display.HTML object>"
      ]
     },
     "metadata": {},
     "output_type": "display_data"
    },
    {
     "data": {
      "text/html": [
       " View project at <a href='https://wandb.ai/antvis/IDSW_vgg_fine_hp_80_112023' target=\"_blank\">https://wandb.ai/antvis/IDSW_vgg_fine_hp_80_112023</a>"
      ],
      "text/plain": [
       "<IPython.core.display.HTML object>"
      ]
     },
     "metadata": {},
     "output_type": "display_data"
    },
    {
     "data": {
      "text/html": [
       " View sweep at <a href='https://wandb.ai/antvis/IDSW_vgg_fine_hp_80_112023/sweeps/obcz0eq3' target=\"_blank\">https://wandb.ai/antvis/IDSW_vgg_fine_hp_80_112023/sweeps/obcz0eq3</a>"
      ],
      "text/plain": [
       "<IPython.core.display.HTML object>"
      ]
     },
     "metadata": {},
     "output_type": "display_data"
    },
    {
     "data": {
      "text/html": [
       " View run at <a href='https://wandb.ai/antvis/IDSW_vgg_fine_hp_80_112023/runs/1ycm0c2x' target=\"_blank\">https://wandb.ai/antvis/IDSW_vgg_fine_hp_80_112023/runs/1ycm0c2x</a>"
      ],
      "text/plain": [
       "<IPython.core.display.HTML object>"
      ]
     },
     "metadata": {},
     "output_type": "display_data"
    },
    {
     "name": "stderr",
     "output_type": "stream",
     "text": [
      "\u001b[34m\u001b[1mwandb\u001b[0m: \u001b[33mWARNING\u001b[0m Ignored wandb.init() arg project when running a sweep.\n"
     ]
    },
    {
     "data": {
      "text/html": [
       "Finishing last run (ID:1ycm0c2x) before initializing another..."
      ],
      "text/plain": [
       "<IPython.core.display.HTML object>"
      ]
     },
     "metadata": {},
     "output_type": "display_data"
    },
    {
     "data": {
      "application/vnd.jupyter.widget-view+json": {
       "model_id": "",
       "version_major": 2,
       "version_minor": 0
      },
      "text/plain": [
       "VBox(children=(Label(value='0.006 MB of 0.006 MB uploaded\\r'), FloatProgress(value=1.0, max=1.0)))"
      ]
     },
     "metadata": {},
     "output_type": "display_data"
    },
    {
     "data": {
      "text/html": [
       " View run <strong style=\"color:#cdcd00\">lucky-sweep-10</strong> at: <a href='https://wandb.ai/antvis/IDSW_vgg_fine_hp_80_112023/runs/1ycm0c2x' target=\"_blank\">https://wandb.ai/antvis/IDSW_vgg_fine_hp_80_112023/runs/1ycm0c2x</a><br/>Synced 5 W&B file(s), 0 media file(s), 0 artifact file(s) and 0 other file(s)"
      ],
      "text/plain": [
       "<IPython.core.display.HTML object>"
      ]
     },
     "metadata": {},
     "output_type": "display_data"
    },
    {
     "data": {
      "text/html": [
       "Find logs at: <code>./wandb/run-20231207_002603-1ycm0c2x/logs</code>"
      ],
      "text/plain": [
       "<IPython.core.display.HTML object>"
      ]
     },
     "metadata": {},
     "output_type": "display_data"
    },
    {
     "data": {
      "text/html": [
       "Successfully finished last run (ID:1ycm0c2x). Initializing new run:<br/>"
      ],
      "text/plain": [
       "<IPython.core.display.HTML object>"
      ]
     },
     "metadata": {},
     "output_type": "display_data"
    },
    {
     "data": {
      "application/vnd.jupyter.widget-view+json": {
       "model_id": "cacd6688895e4613a2921113af37ef53",
       "version_major": 2,
       "version_minor": 0
      },
      "text/plain": [
       "VBox(children=(Label(value='Waiting for wandb.init()...\\r'), FloatProgress(value=0.011112205021911197, max=1.0…"
      ]
     },
     "metadata": {},
     "output_type": "display_data"
    },
    {
     "data": {
      "text/html": [
       "wandb version 0.16.1 is available!  To upgrade, please run:\n",
       " $ pip install wandb --upgrade"
      ],
      "text/plain": [
       "<IPython.core.display.HTML object>"
      ]
     },
     "metadata": {},
     "output_type": "display_data"
    },
    {
     "data": {
      "text/html": [
       "Tracking run with wandb version 0.16.0"
      ],
      "text/plain": [
       "<IPython.core.display.HTML object>"
      ]
     },
     "metadata": {},
     "output_type": "display_data"
    },
    {
     "data": {
      "text/html": [
       "Run data is saved locally in <code>/its/home/nn268/antvis/antvis/optics/wandb/run-20231207_002604-1ycm0c2x</code>"
      ],
      "text/plain": [
       "<IPython.core.display.HTML object>"
      ]
     },
     "metadata": {},
     "output_type": "display_data"
    },
    {
     "data": {
      "text/html": [
       "Syncing run <strong><a href='https://wandb.ai/antvis/IDSW_vgg_fine_hp_80_112023/runs/1ycm0c2x' target=\"_blank\">lucky-sweep-10</a></strong> to <a href='https://wandb.ai/antvis/IDSW_vgg_fine_hp_80_112023' target=\"_blank\">Weights & Biases</a> (<a href='https://wandb.me/run' target=\"_blank\">docs</a>)<br/>Sweep page: <a href='https://wandb.ai/antvis/IDSW_vgg_fine_hp_80_112023/sweeps/obcz0eq3' target=\"_blank\">https://wandb.ai/antvis/IDSW_vgg_fine_hp_80_112023/sweeps/obcz0eq3</a>"
      ],
      "text/plain": [
       "<IPython.core.display.HTML object>"
      ]
     },
     "metadata": {},
     "output_type": "display_data"
    },
    {
     "data": {
      "text/html": [
       " View project at <a href='https://wandb.ai/antvis/IDSW_vgg_fine_hp_80_112023' target=\"_blank\">https://wandb.ai/antvis/IDSW_vgg_fine_hp_80_112023</a>"
      ],
      "text/plain": [
       "<IPython.core.display.HTML object>"
      ]
     },
     "metadata": {},
     "output_type": "display_data"
    },
    {
     "data": {
      "text/html": [
       " View sweep at <a href='https://wandb.ai/antvis/IDSW_vgg_fine_hp_80_112023/sweeps/obcz0eq3' target=\"_blank\">https://wandb.ai/antvis/IDSW_vgg_fine_hp_80_112023/sweeps/obcz0eq3</a>"
      ],
      "text/plain": [
       "<IPython.core.display.HTML object>"
      ]
     },
     "metadata": {},
     "output_type": "display_data"
    },
    {
     "data": {
      "text/html": [
       " View run at <a href='https://wandb.ai/antvis/IDSW_vgg_fine_hp_80_112023/runs/1ycm0c2x' target=\"_blank\">https://wandb.ai/antvis/IDSW_vgg_fine_hp_80_112023/runs/1ycm0c2x</a>"
      ],
      "text/plain": [
       "<IPython.core.display.HTML object>"
      ]
     },
     "metadata": {},
     "output_type": "display_data"
    },
    {
     "name": "stderr",
     "output_type": "stream",
     "text": [
      "  0%| | 0/70 [00:"
     ]
    },
    {
     "name": "stdout",
     "output_type": "stream",
     "text": [
      "E    0\n",
      "training...\n",
      "validating...\n"
     ]
    },
    {
     "name": "stderr",
     "output_type": "stream",
     "text": [
      "  1%| | 1/70 [01:"
     ]
    },
    {
     "name": "stdout",
     "output_type": "stream",
     "text": [
      "improvment in metrics. model saved\n",
      "E    1\n",
      "training...\n",
      "validating...\n"
     ]
    },
    {
     "name": "stderr",
     "output_type": "stream",
     "text": [
      "  3%| | 2/70 [02:"
     ]
    },
    {
     "name": "stdout",
     "output_type": "stream",
     "text": [
      "E    2\n",
      "training...\n",
      "validating...\n"
     ]
    },
    {
     "name": "stderr",
     "output_type": "stream",
     "text": [
      "  4%| | 3/70 [03:"
     ]
    },
    {
     "name": "stdout",
     "output_type": "stream",
     "text": [
      "E    3\n",
      "training...\n",
      "validating...\n"
     ]
    },
    {
     "name": "stderr",
     "output_type": "stream",
     "text": [
      "  6%| | 4/70 [04:"
     ]
    },
    {
     "name": "stdout",
     "output_type": "stream",
     "text": [
      "E    4\n",
      "training...\n",
      "validating...\n"
     ]
    },
    {
     "name": "stderr",
     "output_type": "stream",
     "text": [
      "  7%| | 5/70 [05:"
     ]
    },
    {
     "name": "stdout",
     "output_type": "stream",
     "text": [
      "E    5\n",
      "training...\n",
      "validating...\n"
     ]
    },
    {
     "name": "stderr",
     "output_type": "stream",
     "text": [
      "  9%| | 6/70 [06:"
     ]
    },
    {
     "name": "stdout",
     "output_type": "stream",
     "text": [
      "E    6\n",
      "training...\n",
      "validating...\n"
     ]
    },
    {
     "name": "stderr",
     "output_type": "stream",
     "text": [
      " 10%| | 7/70 [07:"
     ]
    },
    {
     "name": "stdout",
     "output_type": "stream",
     "text": [
      "E    7\n",
      "training...\n",
      "validating...\n"
     ]
    },
    {
     "name": "stderr",
     "output_type": "stream",
     "text": [
      " 11%| | 8/70 [08:"
     ]
    },
    {
     "name": "stdout",
     "output_type": "stream",
     "text": [
      "E    8\n",
      "training...\n",
      "validating...\n"
     ]
    },
    {
     "name": "stderr",
     "output_type": "stream",
     "text": [
      " 13%|▏| 9/70 [09:"
     ]
    },
    {
     "name": "stdout",
     "output_type": "stream",
     "text": [
      "E    9\n",
      "training...\n",
      "validating...\n"
     ]
    },
    {
     "name": "stderr",
     "output_type": "stream",
     "text": [
      " 14%|▏| 10/70 [11"
     ]
    },
    {
     "name": "stdout",
     "output_type": "stream",
     "text": [
      "E    10\n",
      "training...\n",
      "validating...\n"
     ]
    },
    {
     "name": "stderr",
     "output_type": "stream",
     "text": [
      " 16%|▏| 11/70 [12"
     ]
    },
    {
     "name": "stdout",
     "output_type": "stream",
     "text": [
      "E    11\n",
      "training...\n",
      "validating...\n"
     ]
    },
    {
     "name": "stderr",
     "output_type": "stream",
     "text": [
      " 17%|▏| 12/70 [13"
     ]
    },
    {
     "name": "stdout",
     "output_type": "stream",
     "text": [
      "E    12\n",
      "training...\n",
      "validating...\n"
     ]
    },
    {
     "name": "stderr",
     "output_type": "stream",
     "text": [
      " 19%|▏| 13/70 [14"
     ]
    },
    {
     "name": "stdout",
     "output_type": "stream",
     "text": [
      "E    13\n",
      "training...\n",
      "validating...\n"
     ]
    },
    {
     "name": "stderr",
     "output_type": "stream",
     "text": [
      " 20%|▏| 14/70 [15"
     ]
    },
    {
     "name": "stdout",
     "output_type": "stream",
     "text": [
      "E    14\n",
      "training...\n",
      "validating...\n"
     ]
    },
    {
     "name": "stderr",
     "output_type": "stream",
     "text": [
      " 21%|▏| 15/70 [16"
     ]
    },
    {
     "name": "stdout",
     "output_type": "stream",
     "text": [
      "E    15\n",
      "training...\n",
      "validating...\n"
     ]
    },
    {
     "name": "stderr",
     "output_type": "stream",
     "text": [
      " 23%|▏| 16/70 [17"
     ]
    },
    {
     "name": "stdout",
     "output_type": "stream",
     "text": [
      "E    16\n",
      "training...\n",
      "validating...\n"
     ]
    },
    {
     "name": "stderr",
     "output_type": "stream",
     "text": [
      " 24%|▏| 17/70 [19"
     ]
    },
    {
     "name": "stdout",
     "output_type": "stream",
     "text": [
      "E    17\n",
      "training...\n",
      "validating...\n"
     ]
    },
    {
     "name": "stderr",
     "output_type": "stream",
     "text": [
      " 26%|▎| 18/70 [20"
     ]
    },
    {
     "name": "stdout",
     "output_type": "stream",
     "text": [
      "E    18\n",
      "training...\n",
      "validating...\n"
     ]
    },
    {
     "name": "stderr",
     "output_type": "stream",
     "text": [
      " 27%|▎| 19/70 [21"
     ]
    },
    {
     "name": "stdout",
     "output_type": "stream",
     "text": [
      "E    19\n",
      "training...\n",
      "validating...\n"
     ]
    },
    {
     "name": "stderr",
     "output_type": "stream",
     "text": [
      " 29%|▎| 20/70 [22"
     ]
    },
    {
     "name": "stdout",
     "output_type": "stream",
     "text": [
      "E    20\n",
      "training...\n",
      "validating...\n"
     ]
    },
    {
     "name": "stderr",
     "output_type": "stream",
     "text": [
      " 30%|▎| 21/70 [23"
     ]
    },
    {
     "name": "stdout",
     "output_type": "stream",
     "text": [
      "E    21\n",
      "training...\n",
      "validating...\n"
     ]
    },
    {
     "name": "stderr",
     "output_type": "stream",
     "text": [
      " 31%|▎| 22/70 [24"
     ]
    },
    {
     "name": "stdout",
     "output_type": "stream",
     "text": [
      "E    22\n",
      "training...\n",
      "validating...\n"
     ]
    },
    {
     "name": "stderr",
     "output_type": "stream",
     "text": [
      " 33%|▎| 23/70 [25"
     ]
    },
    {
     "name": "stdout",
     "output_type": "stream",
     "text": [
      "E    23\n",
      "training...\n",
      "validating...\n"
     ]
    },
    {
     "name": "stderr",
     "output_type": "stream",
     "text": [
      " 34%|▎| 24/70 [26"
     ]
    },
    {
     "name": "stdout",
     "output_type": "stream",
     "text": [
      "E    24\n",
      "training...\n",
      "validating...\n"
     ]
    },
    {
     "name": "stderr",
     "output_type": "stream",
     "text": [
      " 36%|▎| 25/70 [28"
     ]
    },
    {
     "name": "stdout",
     "output_type": "stream",
     "text": [
      "E    25\n",
      "training...\n",
      "validating...\n"
     ]
    },
    {
     "name": "stderr",
     "output_type": "stream",
     "text": [
      " 37%|▎| 26/70 [29"
     ]
    },
    {
     "name": "stdout",
     "output_type": "stream",
     "text": [
      "E    26\n",
      "training...\n",
      "validating...\n"
     ]
    },
    {
     "name": "stderr",
     "output_type": "stream",
     "text": [
      " 39%|▍| 27/70 [30"
     ]
    },
    {
     "name": "stdout",
     "output_type": "stream",
     "text": [
      "E    27\n",
      "training...\n",
      "validating...\n"
     ]
    },
    {
     "name": "stderr",
     "output_type": "stream",
     "text": [
      " 40%|▍| 28/70 [31"
     ]
    },
    {
     "name": "stdout",
     "output_type": "stream",
     "text": [
      "E    28\n",
      "training...\n",
      "validating...\n"
     ]
    },
    {
     "name": "stderr",
     "output_type": "stream",
     "text": [
      " 41%|▍| 29/70 [32"
     ]
    },
    {
     "name": "stdout",
     "output_type": "stream",
     "text": [
      "E    29\n",
      "training...\n",
      "validating...\n"
     ]
    },
    {
     "name": "stderr",
     "output_type": "stream",
     "text": [
      " 43%|▍| 30/70 [33"
     ]
    },
    {
     "name": "stdout",
     "output_type": "stream",
     "text": [
      "E    30\n",
      "training...\n",
      "validating...\n"
     ]
    },
    {
     "name": "stderr",
     "output_type": "stream",
     "text": [
      " 44%|▍| 31/70 [34"
     ]
    },
    {
     "name": "stdout",
     "output_type": "stream",
     "text": [
      "E    31\n",
      "training...\n",
      "validating...\n"
     ]
    },
    {
     "name": "stderr",
     "output_type": "stream",
     "text": [
      " 46%|▍| 32/70 [35"
     ]
    },
    {
     "name": "stdout",
     "output_type": "stream",
     "text": [
      "E    32\n",
      "training...\n",
      "validating...\n"
     ]
    },
    {
     "name": "stderr",
     "output_type": "stream",
     "text": [
      " 47%|▍| 33/70 [36"
     ]
    },
    {
     "name": "stdout",
     "output_type": "stream",
     "text": [
      "E    33\n",
      "training...\n",
      "validating...\n"
     ]
    },
    {
     "name": "stderr",
     "output_type": "stream",
     "text": [
      " 49%|▍| 34/70 [38"
     ]
    },
    {
     "name": "stdout",
     "output_type": "stream",
     "text": [
      "E    34\n",
      "training...\n",
      "validating...\n"
     ]
    },
    {
     "name": "stderr",
     "output_type": "stream",
     "text": [
      " 50%|▌| 35/70 [39"
     ]
    },
    {
     "name": "stdout",
     "output_type": "stream",
     "text": [
      "E    35\n",
      "training...\n",
      "validating...\n"
     ]
    },
    {
     "name": "stderr",
     "output_type": "stream",
     "text": [
      " 51%|▌| 36/70 [40"
     ]
    },
    {
     "name": "stdout",
     "output_type": "stream",
     "text": [
      "E    36\n",
      "training...\n",
      "validating...\n"
     ]
    },
    {
     "name": "stderr",
     "output_type": "stream",
     "text": [
      " 53%|▌| 37/70 [41"
     ]
    },
    {
     "name": "stdout",
     "output_type": "stream",
     "text": [
      "E    37\n",
      "training...\n",
      "validating...\n"
     ]
    },
    {
     "name": "stderr",
     "output_type": "stream",
     "text": [
      " 54%|▌| 38/70 [41"
     ]
    },
    {
     "name": "stdout",
     "output_type": "stream",
     "text": [
      "E    38\n",
      "training...\n",
      "validating...\n"
     ]
    },
    {
     "name": "stderr",
     "output_type": "stream",
     "text": [
      " 56%|▌| 39/70 [42"
     ]
    },
    {
     "name": "stdout",
     "output_type": "stream",
     "text": [
      "E    39\n",
      "training...\n",
      "validating...\n"
     ]
    },
    {
     "name": "stderr",
     "output_type": "stream",
     "text": [
      " 57%|▌| 40/70 [43"
     ]
    },
    {
     "name": "stdout",
     "output_type": "stream",
     "text": [
      "E    40\n",
      "training...\n",
      "validating...\n"
     ]
    },
    {
     "name": "stderr",
     "output_type": "stream",
     "text": [
      " 59%|▌| 41/70 [44"
     ]
    },
    {
     "name": "stdout",
     "output_type": "stream",
     "text": [
      "E    41\n",
      "training...\n",
      "validating...\n"
     ]
    },
    {
     "name": "stderr",
     "output_type": "stream",
     "text": [
      " 60%|▌| 42/70 [44"
     ]
    },
    {
     "name": "stdout",
     "output_type": "stream",
     "text": [
      "E    42\n",
      "training...\n",
      "validating...\n"
     ]
    },
    {
     "name": "stderr",
     "output_type": "stream",
     "text": [
      " 61%|▌| 43/70 [45"
     ]
    },
    {
     "name": "stdout",
     "output_type": "stream",
     "text": [
      "E    43\n",
      "training...\n",
      "validating...\n"
     ]
    },
    {
     "name": "stderr",
     "output_type": "stream",
     "text": [
      " 63%|▋| 44/70 [46"
     ]
    },
    {
     "name": "stdout",
     "output_type": "stream",
     "text": [
      "E    44\n",
      "training...\n",
      "validating...\n"
     ]
    },
    {
     "name": "stderr",
     "output_type": "stream",
     "text": [
      " 64%|▋| 45/70 [46"
     ]
    },
    {
     "name": "stdout",
     "output_type": "stream",
     "text": [
      "E    45\n",
      "training...\n",
      "validating...\n"
     ]
    },
    {
     "name": "stderr",
     "output_type": "stream",
     "text": [
      " 66%|▋| 46/70 [47"
     ]
    },
    {
     "name": "stdout",
     "output_type": "stream",
     "text": [
      "E    46\n",
      "training...\n",
      "validating...\n"
     ]
    },
    {
     "name": "stderr",
     "output_type": "stream",
     "text": [
      " 67%|▋| 47/70 [48"
     ]
    },
    {
     "name": "stdout",
     "output_type": "stream",
     "text": [
      "E    47\n",
      "training...\n",
      "validating...\n"
     ]
    },
    {
     "name": "stderr",
     "output_type": "stream",
     "text": [
      " 69%|▋| 48/70 [49"
     ]
    },
    {
     "name": "stdout",
     "output_type": "stream",
     "text": [
      "E    48\n",
      "training...\n",
      "validating...\n"
     ]
    },
    {
     "name": "stderr",
     "output_type": "stream",
     "text": [
      " 70%|▋| 49/70 [49"
     ]
    },
    {
     "name": "stdout",
     "output_type": "stream",
     "text": [
      "E    49\n",
      "training...\n",
      "validating...\n"
     ]
    },
    {
     "name": "stderr",
     "output_type": "stream",
     "text": [
      " 71%|▋| 50/70 [50"
     ]
    },
    {
     "name": "stdout",
     "output_type": "stream",
     "text": [
      "E    50\n",
      "training...\n",
      "validating...\n"
     ]
    },
    {
     "name": "stderr",
     "output_type": "stream",
     "text": [
      " 73%|▋| 51/70 [51"
     ]
    },
    {
     "name": "stdout",
     "output_type": "stream",
     "text": [
      "E    51\n",
      "training...\n",
      "validating...\n"
     ]
    },
    {
     "name": "stderr",
     "output_type": "stream",
     "text": [
      " 74%|▋| 52/70 [52"
     ]
    },
    {
     "name": "stdout",
     "output_type": "stream",
     "text": [
      "E    52\n",
      "training...\n",
      "validating...\n"
     ]
    },
    {
     "name": "stderr",
     "output_type": "stream",
     "text": [
      " 76%|▊| 53/70 [52"
     ]
    },
    {
     "name": "stdout",
     "output_type": "stream",
     "text": [
      "E    53\n",
      "training...\n",
      "validating...\n"
     ]
    },
    {
     "name": "stderr",
     "output_type": "stream",
     "text": [
      " 77%|▊| 54/70 [53"
     ]
    },
    {
     "name": "stdout",
     "output_type": "stream",
     "text": [
      "E    54\n",
      "training...\n",
      "validating...\n"
     ]
    },
    {
     "name": "stderr",
     "output_type": "stream",
     "text": [
      " 79%|▊| 55/70 [54"
     ]
    },
    {
     "name": "stdout",
     "output_type": "stream",
     "text": [
      "E    55\n",
      "training...\n",
      "validating...\n"
     ]
    },
    {
     "name": "stderr",
     "output_type": "stream",
     "text": [
      " 80%|▊| 56/70 [54"
     ]
    },
    {
     "name": "stdout",
     "output_type": "stream",
     "text": [
      "E    56\n",
      "training...\n",
      "validating...\n"
     ]
    },
    {
     "name": "stderr",
     "output_type": "stream",
     "text": [
      " 81%|▊| 57/70 [55"
     ]
    },
    {
     "name": "stdout",
     "output_type": "stream",
     "text": [
      "E    57\n",
      "training...\n",
      "validating...\n"
     ]
    },
    {
     "name": "stderr",
     "output_type": "stream",
     "text": [
      " 83%|▊| 58/70 [56"
     ]
    },
    {
     "name": "stdout",
     "output_type": "stream",
     "text": [
      "E    58\n",
      "training...\n",
      "validating...\n"
     ]
    },
    {
     "name": "stderr",
     "output_type": "stream",
     "text": [
      " 84%|▊| 59/70 [57"
     ]
    },
    {
     "name": "stdout",
     "output_type": "stream",
     "text": [
      "E    59\n",
      "training...\n",
      "validating...\n"
     ]
    },
    {
     "name": "stderr",
     "output_type": "stream",
     "text": [
      " 86%|▊| 60/70 [57"
     ]
    },
    {
     "name": "stdout",
     "output_type": "stream",
     "text": [
      "E    60\n",
      "training...\n",
      "validating...\n"
     ]
    },
    {
     "name": "stderr",
     "output_type": "stream",
     "text": [
      " 87%|▊| 61/70 [58"
     ]
    },
    {
     "name": "stdout",
     "output_type": "stream",
     "text": [
      "E    61\n",
      "training...\n",
      "validating...\n"
     ]
    },
    {
     "name": "stderr",
     "output_type": "stream",
     "text": [
      " 89%|▉| 62/70 [59"
     ]
    },
    {
     "name": "stdout",
     "output_type": "stream",
     "text": [
      "E    62\n",
      "training...\n",
      "validating...\n"
     ]
    },
    {
     "name": "stderr",
     "output_type": "stream",
     "text": [
      " 90%|▉| 63/70 [1:"
     ]
    },
    {
     "name": "stdout",
     "output_type": "stream",
     "text": [
      "E    63\n",
      "training...\n",
      "validating...\n"
     ]
    },
    {
     "name": "stderr",
     "output_type": "stream",
     "text": [
      " 91%|▉| 64/70 [1:"
     ]
    },
    {
     "name": "stdout",
     "output_type": "stream",
     "text": [
      "E    64\n",
      "training...\n",
      "validating...\n"
     ]
    },
    {
     "name": "stderr",
     "output_type": "stream",
     "text": [
      " 93%|▉| 65/70 [1:"
     ]
    },
    {
     "name": "stdout",
     "output_type": "stream",
     "text": [
      "E    65\n",
      "training...\n",
      "validating...\n"
     ]
    },
    {
     "name": "stderr",
     "output_type": "stream",
     "text": [
      " 94%|▉| 66/70 [1:"
     ]
    },
    {
     "name": "stdout",
     "output_type": "stream",
     "text": [
      "E    66\n",
      "training...\n",
      "validating...\n"
     ]
    },
    {
     "name": "stderr",
     "output_type": "stream",
     "text": [
      " 96%|▉| 67/70 [1:"
     ]
    },
    {
     "name": "stdout",
     "output_type": "stream",
     "text": [
      "E    67\n",
      "training...\n",
      "validating...\n"
     ]
    },
    {
     "name": "stderr",
     "output_type": "stream",
     "text": [
      " 97%|▉| 68/70 [1:"
     ]
    },
    {
     "name": "stdout",
     "output_type": "stream",
     "text": [
      "E    68\n",
      "training...\n",
      "validating...\n"
     ]
    },
    {
     "name": "stderr",
     "output_type": "stream",
     "text": [
      " 99%|▉| 69/70 [1:"
     ]
    },
    {
     "name": "stdout",
     "output_type": "stream",
     "text": [
      "E    69\n",
      "training...\n",
      "validating...\n"
     ]
    },
    {
     "name": "stderr",
     "output_type": "stream",
     "text": [
      "100%|█| 70/70 [1:\n"
     ]
    },
    {
     "data": {
      "application/vnd.jupyter.widget-view+json": {
       "model_id": "",
       "version_major": 2,
       "version_minor": 0
      },
      "text/plain": [
       "VBox(children=(Label(value='0.006 MB of 0.006 MB uploaded\\r'), FloatProgress(value=1.0, max=1.0)))"
      ]
     },
     "metadata": {},
     "output_type": "display_data"
    },
    {
     "data": {
      "text/html": [
       "<style>\n",
       "    table.wandb td:nth-child(1) { padding: 0 10px; text-align: left ; width: auto;} td:nth-child(2) {text-align: left ; width: 100%}\n",
       "    .wandb-row { display: flex; flex-direction: row; flex-wrap: wrap; justify-content: flex-start; width: 100% }\n",
       "    .wandb-col { display: flex; flex-direction: column; flex-basis: 100%; flex: 1; padding: 10px; }\n",
       "    </style>\n",
       "<div class=\"wandb-row\"><div class=\"wandb-col\"><h3>Run history:</h3><br/><table class=\"wandb\"><tr><td>epoch</td><td>▁▁▁▁▂▂▂▂▂▃▃▃▃▃▃▄▄▄▄▄▅▅▅▅▅▆▆▆▆▆▆▇▇▇▇▇████</td></tr><tr><td>t_loss</td><td>▃▂▃▃▂▄▅▇▃▄▆█▇▂▄▅▄▆▇▆▅▇▂▅▁▄██▆▄▅█▃▂▆</td></tr><tr><td>train_accuracy_%</td><td>▆█▆▃▁▃▆▆▆▆▃▆▆▆▆▃▆▃▆▆▃▆▆▆▆▆▆▆▆▆▆▆▃█▁</td></tr><tr><td>v_loss</td><td>▁▁▁▁▁▁▁▁▁▁▁▁▁▁▁▁▁▁▁▁▁▁▁▁▁▁▁▁▁▁▁▁▁▁▁</td></tr><tr><td>val_accuracy_%</td><td>▁▁▁▁▁▁▁▁▁▁▁▁▁▁▁▁▁▁▁▁▁▁▁▁▁▁▁▁▁▁▁▁▁▁▁</td></tr></table><br/></div><div class=\"wandb-col\"><h3>Run summary:</h3><br/><table class=\"wandb\"><tr><td>epoch</td><td>69</td></tr><tr><td>t_loss</td><td>0.06279</td></tr><tr><td>train_accuracy_%</td><td>0.10428</td></tr><tr><td>v_loss</td><td>0.08518</td></tr><tr><td>val_accuracy_%</td><td>0.09455</td></tr></table><br/></div></div>"
      ],
      "text/plain": [
       "<IPython.core.display.HTML object>"
      ]
     },
     "metadata": {},
     "output_type": "display_data"
    },
    {
     "data": {
      "text/html": [
       " View run <strong style=\"color:#cdcd00\">lucky-sweep-10</strong> at: <a href='https://wandb.ai/antvis/IDSW_vgg_fine_hp_80_112023/runs/1ycm0c2x' target=\"_blank\">https://wandb.ai/antvis/IDSW_vgg_fine_hp_80_112023/runs/1ycm0c2x</a><br/>Synced 5 W&B file(s), 0 media file(s), 0 artifact file(s) and 0 other file(s)"
      ],
      "text/plain": [
       "<IPython.core.display.HTML object>"
      ]
     },
     "metadata": {},
     "output_type": "display_data"
    },
    {
     "data": {
      "text/html": [
       "Find logs at: <code>./wandb/run-20231207_002604-1ycm0c2x/logs</code>"
      ],
      "text/plain": [
       "<IPython.core.display.HTML object>"
      ]
     },
     "metadata": {},
     "output_type": "display_data"
    },
    {
     "name": "stderr",
     "output_type": "stream",
     "text": [
      "\u001b[34m\u001b[1mwandb\u001b[0m: Agent Starting Run: 9zesmem3 with config:\n",
      "\u001b[34m\u001b[1mwandb\u001b[0m: \tchannels: 3\n",
      "\u001b[34m\u001b[1mwandb\u001b[0m: \tdata_set: Augmented\n",
      "\u001b[34m\u001b[1mwandb\u001b[0m: \tepochs: 70\n",
      "\u001b[34m\u001b[1mwandb\u001b[0m: \tfirst_lin_lay: 248832\n",
      "\u001b[34m\u001b[1mwandb\u001b[0m: \timage_path: /its/home/nn268/optics/AugmentedDS_IDSW/\n",
      "\u001b[34m\u001b[1mwandb\u001b[0m: \tks: [3, 5]\n",
      "\u001b[34m\u001b[1mwandb\u001b[0m: \tlearning_rate: 8.332771967627576e-05\n",
      "\u001b[34m\u001b[1mwandb\u001b[0m: \tloss_fn: CrossEntropy\n",
      "\u001b[34m\u001b[1mwandb\u001b[0m: \tmodel_name: vgg16net_mlp\n",
      "\u001b[34m\u001b[1mwandb\u001b[0m: \tnum_classes: 11\n",
      "\u001b[34m\u001b[1mwandb\u001b[0m: \toptimizer: adam\n",
      "\u001b[34m\u001b[1mwandb\u001b[0m: \tscheduler: 0.001\n"
     ]
    },
    {
     "data": {
      "application/vnd.jupyter.widget-view+json": {
       "model_id": "a2f6a4742e0f42b3bc4a031c3c25083d",
       "version_major": 2,
       "version_minor": 0
      },
      "text/plain": [
       "VBox(children=(Label(value='Waiting for wandb.init()...\\r'), FloatProgress(value=0.011112496944972211, max=1.0…"
      ]
     },
     "metadata": {},
     "output_type": "display_data"
    },
    {
     "data": {
      "text/html": [
       "wandb version 0.16.1 is available!  To upgrade, please run:\n",
       " $ pip install wandb --upgrade"
      ],
      "text/plain": [
       "<IPython.core.display.HTML object>"
      ]
     },
     "metadata": {},
     "output_type": "display_data"
    },
    {
     "data": {
      "text/html": [
       "Tracking run with wandb version 0.16.0"
      ],
      "text/plain": [
       "<IPython.core.display.HTML object>"
      ]
     },
     "metadata": {},
     "output_type": "display_data"
    },
    {
     "data": {
      "text/html": [
       "Run data is saved locally in <code>/its/home/nn268/antvis/antvis/optics/wandb/run-20231207_013126-9zesmem3</code>"
      ],
      "text/plain": [
       "<IPython.core.display.HTML object>"
      ]
     },
     "metadata": {},
     "output_type": "display_data"
    },
    {
     "data": {
      "text/html": [
       "Syncing run <strong><a href='https://wandb.ai/antvis/IDSW_vgg_fine_hp_80_112023/runs/9zesmem3' target=\"_blank\">peach-sweep-11</a></strong> to <a href='https://wandb.ai/antvis/IDSW_vgg_fine_hp_80_112023' target=\"_blank\">Weights & Biases</a> (<a href='https://wandb.me/run' target=\"_blank\">docs</a>)<br/>Sweep page: <a href='https://wandb.ai/antvis/IDSW_vgg_fine_hp_80_112023/sweeps/obcz0eq3' target=\"_blank\">https://wandb.ai/antvis/IDSW_vgg_fine_hp_80_112023/sweeps/obcz0eq3</a>"
      ],
      "text/plain": [
       "<IPython.core.display.HTML object>"
      ]
     },
     "metadata": {},
     "output_type": "display_data"
    },
    {
     "data": {
      "text/html": [
       " View project at <a href='https://wandb.ai/antvis/IDSW_vgg_fine_hp_80_112023' target=\"_blank\">https://wandb.ai/antvis/IDSW_vgg_fine_hp_80_112023</a>"
      ],
      "text/plain": [
       "<IPython.core.display.HTML object>"
      ]
     },
     "metadata": {},
     "output_type": "display_data"
    },
    {
     "data": {
      "text/html": [
       " View sweep at <a href='https://wandb.ai/antvis/IDSW_vgg_fine_hp_80_112023/sweeps/obcz0eq3' target=\"_blank\">https://wandb.ai/antvis/IDSW_vgg_fine_hp_80_112023/sweeps/obcz0eq3</a>"
      ],
      "text/plain": [
       "<IPython.core.display.HTML object>"
      ]
     },
     "metadata": {},
     "output_type": "display_data"
    },
    {
     "data": {
      "text/html": [
       " View run at <a href='https://wandb.ai/antvis/IDSW_vgg_fine_hp_80_112023/runs/9zesmem3' target=\"_blank\">https://wandb.ai/antvis/IDSW_vgg_fine_hp_80_112023/runs/9zesmem3</a>"
      ],
      "text/plain": [
       "<IPython.core.display.HTML object>"
      ]
     },
     "metadata": {},
     "output_type": "display_data"
    },
    {
     "name": "stderr",
     "output_type": "stream",
     "text": [
      "\u001b[34m\u001b[1mwandb\u001b[0m: \u001b[33mWARNING\u001b[0m Ignored wandb.init() arg project when running a sweep.\n"
     ]
    },
    {
     "data": {
      "text/html": [
       "Finishing last run (ID:9zesmem3) before initializing another..."
      ],
      "text/plain": [
       "<IPython.core.display.HTML object>"
      ]
     },
     "metadata": {},
     "output_type": "display_data"
    },
    {
     "data": {
      "application/vnd.jupyter.widget-view+json": {
       "model_id": "",
       "version_major": 2,
       "version_minor": 0
      },
      "text/plain": [
       "VBox(children=(Label(value='0.006 MB of 0.006 MB uploaded\\r'), FloatProgress(value=1.0, max=1.0)))"
      ]
     },
     "metadata": {},
     "output_type": "display_data"
    },
    {
     "data": {
      "text/html": [
       " View run <strong style=\"color:#cdcd00\">peach-sweep-11</strong> at: <a href='https://wandb.ai/antvis/IDSW_vgg_fine_hp_80_112023/runs/9zesmem3' target=\"_blank\">https://wandb.ai/antvis/IDSW_vgg_fine_hp_80_112023/runs/9zesmem3</a><br/>Synced 5 W&B file(s), 0 media file(s), 0 artifact file(s) and 0 other file(s)"
      ],
      "text/plain": [
       "<IPython.core.display.HTML object>"
      ]
     },
     "metadata": {},
     "output_type": "display_data"
    },
    {
     "data": {
      "text/html": [
       "Find logs at: <code>./wandb/run-20231207_013126-9zesmem3/logs</code>"
      ],
      "text/plain": [
       "<IPython.core.display.HTML object>"
      ]
     },
     "metadata": {},
     "output_type": "display_data"
    },
    {
     "data": {
      "text/html": [
       "Successfully finished last run (ID:9zesmem3). Initializing new run:<br/>"
      ],
      "text/plain": [
       "<IPython.core.display.HTML object>"
      ]
     },
     "metadata": {},
     "output_type": "display_data"
    },
    {
     "data": {
      "application/vnd.jupyter.widget-view+json": {
       "model_id": "9ff357bbea894790ac574659fd998843",
       "version_major": 2,
       "version_minor": 0
      },
      "text/plain": [
       "VBox(children=(Label(value='Waiting for wandb.init()...\\r'), FloatProgress(value=0.01111274501050098, max=1.0)…"
      ]
     },
     "metadata": {},
     "output_type": "display_data"
    },
    {
     "data": {
      "text/html": [
       "wandb version 0.16.1 is available!  To upgrade, please run:\n",
       " $ pip install wandb --upgrade"
      ],
      "text/plain": [
       "<IPython.core.display.HTML object>"
      ]
     },
     "metadata": {},
     "output_type": "display_data"
    },
    {
     "data": {
      "text/html": [
       "Tracking run with wandb version 0.16.0"
      ],
      "text/plain": [
       "<IPython.core.display.HTML object>"
      ]
     },
     "metadata": {},
     "output_type": "display_data"
    },
    {
     "data": {
      "text/html": [
       "Run data is saved locally in <code>/its/home/nn268/antvis/antvis/optics/wandb/run-20231207_013129-9zesmem3</code>"
      ],
      "text/plain": [
       "<IPython.core.display.HTML object>"
      ]
     },
     "metadata": {},
     "output_type": "display_data"
    },
    {
     "data": {
      "text/html": [
       "Syncing run <strong><a href='https://wandb.ai/antvis/IDSW_vgg_fine_hp_80_112023/runs/9zesmem3' target=\"_blank\">peach-sweep-11</a></strong> to <a href='https://wandb.ai/antvis/IDSW_vgg_fine_hp_80_112023' target=\"_blank\">Weights & Biases</a> (<a href='https://wandb.me/run' target=\"_blank\">docs</a>)<br/>Sweep page: <a href='https://wandb.ai/antvis/IDSW_vgg_fine_hp_80_112023/sweeps/obcz0eq3' target=\"_blank\">https://wandb.ai/antvis/IDSW_vgg_fine_hp_80_112023/sweeps/obcz0eq3</a>"
      ],
      "text/plain": [
       "<IPython.core.display.HTML object>"
      ]
     },
     "metadata": {},
     "output_type": "display_data"
    },
    {
     "data": {
      "text/html": [
       " View project at <a href='https://wandb.ai/antvis/IDSW_vgg_fine_hp_80_112023' target=\"_blank\">https://wandb.ai/antvis/IDSW_vgg_fine_hp_80_112023</a>"
      ],
      "text/plain": [
       "<IPython.core.display.HTML object>"
      ]
     },
     "metadata": {},
     "output_type": "display_data"
    },
    {
     "data": {
      "text/html": [
       " View sweep at <a href='https://wandb.ai/antvis/IDSW_vgg_fine_hp_80_112023/sweeps/obcz0eq3' target=\"_blank\">https://wandb.ai/antvis/IDSW_vgg_fine_hp_80_112023/sweeps/obcz0eq3</a>"
      ],
      "text/plain": [
       "<IPython.core.display.HTML object>"
      ]
     },
     "metadata": {},
     "output_type": "display_data"
    },
    {
     "data": {
      "text/html": [
       " View run at <a href='https://wandb.ai/antvis/IDSW_vgg_fine_hp_80_112023/runs/9zesmem3' target=\"_blank\">https://wandb.ai/antvis/IDSW_vgg_fine_hp_80_112023/runs/9zesmem3</a>"
      ],
      "text/plain": [
       "<IPython.core.display.HTML object>"
      ]
     },
     "metadata": {},
     "output_type": "display_data"
    },
    {
     "name": "stderr",
     "output_type": "stream",
     "text": [
      "  0%| | 0/70 [00:"
     ]
    },
    {
     "name": "stdout",
     "output_type": "stream",
     "text": [
      "E    0\n",
      "training...\n",
      "validating...\n"
     ]
    },
    {
     "name": "stderr",
     "output_type": "stream",
     "text": [
      "  1%| | 1/70 [00:"
     ]
    },
    {
     "name": "stdout",
     "output_type": "stream",
     "text": [
      "improvment in metrics. model saved\n",
      "E    1\n",
      "training...\n",
      "validating...\n"
     ]
    },
    {
     "name": "stderr",
     "output_type": "stream",
     "text": [
      "  3%| | 2/70 [01:"
     ]
    },
    {
     "name": "stdout",
     "output_type": "stream",
     "text": [
      "E    2\n",
      "training...\n",
      "validating...\n"
     ]
    },
    {
     "name": "stderr",
     "output_type": "stream",
     "text": [
      "  4%| | 3/70 [02:"
     ]
    },
    {
     "name": "stdout",
     "output_type": "stream",
     "text": [
      "E    3\n",
      "training...\n",
      "validating...\n"
     ]
    },
    {
     "name": "stderr",
     "output_type": "stream",
     "text": [
      "  6%| | 4/70 [03:"
     ]
    },
    {
     "name": "stdout",
     "output_type": "stream",
     "text": [
      "E    4\n",
      "training...\n",
      "validating...\n"
     ]
    },
    {
     "name": "stderr",
     "output_type": "stream",
     "text": [
      "  7%| | 5/70 [03:"
     ]
    },
    {
     "name": "stdout",
     "output_type": "stream",
     "text": [
      "E    5\n",
      "training...\n",
      "validating...\n"
     ]
    },
    {
     "name": "stderr",
     "output_type": "stream",
     "text": [
      "  9%| | 6/70 [04:"
     ]
    },
    {
     "name": "stdout",
     "output_type": "stream",
     "text": [
      "E    6\n",
      "training...\n",
      "validating...\n"
     ]
    },
    {
     "name": "stderr",
     "output_type": "stream",
     "text": [
      " 10%| | 7/70 [05:"
     ]
    },
    {
     "name": "stdout",
     "output_type": "stream",
     "text": [
      "E    7\n",
      "training...\n",
      "validating...\n"
     ]
    },
    {
     "name": "stderr",
     "output_type": "stream",
     "text": [
      " 11%| | 8/70 [06:"
     ]
    },
    {
     "name": "stdout",
     "output_type": "stream",
     "text": [
      "E    8\n",
      "training...\n",
      "validating...\n"
     ]
    },
    {
     "name": "stderr",
     "output_type": "stream",
     "text": [
      " 13%|▏| 9/70 [06:"
     ]
    },
    {
     "name": "stdout",
     "output_type": "stream",
     "text": [
      "E    9\n",
      "training...\n",
      "validating...\n"
     ]
    },
    {
     "name": "stderr",
     "output_type": "stream",
     "text": [
      " 14%|▏| 10/70 [07"
     ]
    },
    {
     "name": "stdout",
     "output_type": "stream",
     "text": [
      "E    10\n",
      "training...\n",
      "validating...\n"
     ]
    },
    {
     "name": "stderr",
     "output_type": "stream",
     "text": [
      " 16%|▏| 11/70 [08"
     ]
    },
    {
     "name": "stdout",
     "output_type": "stream",
     "text": [
      "E    11\n",
      "training...\n",
      "validating...\n"
     ]
    },
    {
     "name": "stderr",
     "output_type": "stream",
     "text": [
      " 17%|▏| 12/70 [09"
     ]
    },
    {
     "name": "stdout",
     "output_type": "stream",
     "text": [
      "E    12\n",
      "training...\n",
      "validating...\n"
     ]
    },
    {
     "name": "stderr",
     "output_type": "stream",
     "text": [
      " 19%|▏| 13/70 [09"
     ]
    },
    {
     "name": "stdout",
     "output_type": "stream",
     "text": [
      "E    13\n",
      "training...\n",
      "validating...\n"
     ]
    },
    {
     "name": "stderr",
     "output_type": "stream",
     "text": [
      " 20%|▏| 14/70 [10"
     ]
    },
    {
     "name": "stdout",
     "output_type": "stream",
     "text": [
      "E    14\n",
      "training...\n",
      "validating...\n"
     ]
    },
    {
     "name": "stderr",
     "output_type": "stream",
     "text": [
      " 21%|▏| 15/70 [11"
     ]
    },
    {
     "name": "stdout",
     "output_type": "stream",
     "text": [
      "E    15\n",
      "training...\n",
      "validating...\n"
     ]
    },
    {
     "name": "stderr",
     "output_type": "stream",
     "text": [
      " 23%|▏| 16/70 [12"
     ]
    },
    {
     "name": "stdout",
     "output_type": "stream",
     "text": [
      "E    16\n",
      "training...\n",
      "validating...\n"
     ]
    },
    {
     "name": "stderr",
     "output_type": "stream",
     "text": [
      " 24%|▏| 17/70 [12"
     ]
    },
    {
     "name": "stdout",
     "output_type": "stream",
     "text": [
      "E    17\n",
      "training...\n",
      "validating...\n"
     ]
    },
    {
     "name": "stderr",
     "output_type": "stream",
     "text": [
      " 26%|▎| 18/70 [13"
     ]
    },
    {
     "name": "stdout",
     "output_type": "stream",
     "text": [
      "E    18\n",
      "training...\n",
      "validating...\n"
     ]
    },
    {
     "name": "stderr",
     "output_type": "stream",
     "text": [
      " 27%|▎| 19/70 [14"
     ]
    },
    {
     "name": "stdout",
     "output_type": "stream",
     "text": [
      "E    19\n",
      "training...\n",
      "validating...\n"
     ]
    },
    {
     "name": "stderr",
     "output_type": "stream",
     "text": [
      " 29%|▎| 20/70 [15"
     ]
    },
    {
     "name": "stdout",
     "output_type": "stream",
     "text": [
      "E    20\n",
      "training...\n",
      "validating...\n"
     ]
    },
    {
     "name": "stderr",
     "output_type": "stream",
     "text": [
      " 30%|▎| 21/70 [15"
     ]
    },
    {
     "name": "stdout",
     "output_type": "stream",
     "text": [
      "E    21\n",
      "training...\n",
      "validating...\n"
     ]
    },
    {
     "name": "stderr",
     "output_type": "stream",
     "text": [
      " 31%|▎| 22/70 [16"
     ]
    },
    {
     "name": "stdout",
     "output_type": "stream",
     "text": [
      "E    22\n",
      "training...\n",
      "validating...\n"
     ]
    },
    {
     "name": "stderr",
     "output_type": "stream",
     "text": [
      " 33%|▎| 23/70 [17"
     ]
    },
    {
     "name": "stdout",
     "output_type": "stream",
     "text": [
      "E    23\n",
      "training...\n",
      "validating...\n"
     ]
    },
    {
     "name": "stderr",
     "output_type": "stream",
     "text": [
      " 34%|▎| 24/70 [18"
     ]
    },
    {
     "name": "stdout",
     "output_type": "stream",
     "text": [
      "E    24\n",
      "training...\n",
      "validating...\n"
     ]
    },
    {
     "name": "stderr",
     "output_type": "stream",
     "text": [
      " 36%|▎| 25/70 [18"
     ]
    },
    {
     "name": "stdout",
     "output_type": "stream",
     "text": [
      "E    25\n",
      "training...\n",
      "validating...\n"
     ]
    },
    {
     "name": "stderr",
     "output_type": "stream",
     "text": [
      " 37%|▎| 26/70 [19"
     ]
    },
    {
     "name": "stdout",
     "output_type": "stream",
     "text": [
      "E    26\n",
      "training...\n",
      "validating...\n"
     ]
    },
    {
     "name": "stderr",
     "output_type": "stream",
     "text": [
      " 39%|▍| 27/70 [20"
     ]
    },
    {
     "name": "stdout",
     "output_type": "stream",
     "text": [
      "E    27\n",
      "training...\n",
      "validating...\n"
     ]
    },
    {
     "name": "stderr",
     "output_type": "stream",
     "text": [
      " 40%|▍| 28/70 [20"
     ]
    },
    {
     "name": "stdout",
     "output_type": "stream",
     "text": [
      "E    28\n",
      "training...\n",
      "validating...\n"
     ]
    },
    {
     "name": "stderr",
     "output_type": "stream",
     "text": [
      " 41%|▍| 29/70 [21"
     ]
    },
    {
     "name": "stdout",
     "output_type": "stream",
     "text": [
      "E    29\n",
      "training...\n",
      "validating...\n"
     ]
    },
    {
     "name": "stderr",
     "output_type": "stream",
     "text": [
      " 43%|▍| 30/70 [22"
     ]
    },
    {
     "name": "stdout",
     "output_type": "stream",
     "text": [
      "E    30\n",
      "training...\n",
      "validating...\n"
     ]
    },
    {
     "name": "stderr",
     "output_type": "stream",
     "text": [
      " 44%|▍| 31/70 [23"
     ]
    },
    {
     "name": "stdout",
     "output_type": "stream",
     "text": [
      "E    31\n",
      "training...\n",
      "validating...\n"
     ]
    },
    {
     "name": "stderr",
     "output_type": "stream",
     "text": [
      " 46%|▍| 32/70 [23"
     ]
    },
    {
     "name": "stdout",
     "output_type": "stream",
     "text": [
      "E    32\n",
      "training...\n",
      "validating...\n"
     ]
    },
    {
     "name": "stderr",
     "output_type": "stream",
     "text": [
      " 47%|▍| 33/70 [24"
     ]
    },
    {
     "name": "stdout",
     "output_type": "stream",
     "text": [
      "E    33\n",
      "training...\n",
      "validating...\n"
     ]
    },
    {
     "name": "stderr",
     "output_type": "stream",
     "text": [
      " 49%|▍| 34/70 [25"
     ]
    },
    {
     "name": "stdout",
     "output_type": "stream",
     "text": [
      "E    34\n",
      "training...\n",
      "validating...\n"
     ]
    },
    {
     "name": "stderr",
     "output_type": "stream",
     "text": [
      " 50%|▌| 35/70 [25"
     ]
    },
    {
     "name": "stdout",
     "output_type": "stream",
     "text": [
      "E    35\n",
      "training...\n",
      "validating...\n"
     ]
    },
    {
     "name": "stderr",
     "output_type": "stream",
     "text": [
      " 51%|▌| 36/70 [26"
     ]
    },
    {
     "name": "stdout",
     "output_type": "stream",
     "text": [
      "E    36\n",
      "training...\n",
      "validating...\n"
     ]
    },
    {
     "name": "stderr",
     "output_type": "stream",
     "text": [
      " 53%|▌| 37/70 [27"
     ]
    },
    {
     "name": "stdout",
     "output_type": "stream",
     "text": [
      "E    37\n",
      "training...\n",
      "validating...\n"
     ]
    },
    {
     "name": "stderr",
     "output_type": "stream",
     "text": [
      " 54%|▌| 38/70 [28"
     ]
    },
    {
     "name": "stdout",
     "output_type": "stream",
     "text": [
      "E    38\n",
      "training...\n",
      "validating...\n"
     ]
    },
    {
     "name": "stderr",
     "output_type": "stream",
     "text": [
      " 56%|▌| 39/70 [28"
     ]
    },
    {
     "name": "stdout",
     "output_type": "stream",
     "text": [
      "E    39\n",
      "training...\n",
      "validating...\n"
     ]
    },
    {
     "name": "stderr",
     "output_type": "stream",
     "text": [
      " 57%|▌| 40/70 [29"
     ]
    },
    {
     "name": "stdout",
     "output_type": "stream",
     "text": [
      "E    40\n",
      "training...\n",
      "validating...\n"
     ]
    },
    {
     "name": "stderr",
     "output_type": "stream",
     "text": [
      " 59%|▌| 41/70 [30"
     ]
    },
    {
     "name": "stdout",
     "output_type": "stream",
     "text": [
      "E    41\n",
      "training...\n",
      "validating...\n"
     ]
    },
    {
     "name": "stderr",
     "output_type": "stream",
     "text": [
      " 60%|▌| 42/70 [31"
     ]
    },
    {
     "name": "stdout",
     "output_type": "stream",
     "text": [
      "E    42\n",
      "training...\n",
      "validating...\n"
     ]
    },
    {
     "name": "stderr",
     "output_type": "stream",
     "text": [
      " 61%|▌| 43/70 [31"
     ]
    },
    {
     "name": "stdout",
     "output_type": "stream",
     "text": [
      "E    43\n",
      "training...\n",
      "validating...\n"
     ]
    },
    {
     "name": "stderr",
     "output_type": "stream",
     "text": [
      " 63%|▋| 44/70 [32"
     ]
    },
    {
     "name": "stdout",
     "output_type": "stream",
     "text": [
      "E    44\n",
      "training...\n",
      "validating...\n"
     ]
    },
    {
     "name": "stderr",
     "output_type": "stream",
     "text": [
      " 64%|▋| 45/70 [33"
     ]
    },
    {
     "name": "stdout",
     "output_type": "stream",
     "text": [
      "E    45\n",
      "training...\n",
      "validating...\n"
     ]
    },
    {
     "name": "stderr",
     "output_type": "stream",
     "text": [
      " 66%|▋| 46/70 [33"
     ]
    },
    {
     "name": "stdout",
     "output_type": "stream",
     "text": [
      "E    46\n",
      "training...\n",
      "validating...\n"
     ]
    },
    {
     "name": "stderr",
     "output_type": "stream",
     "text": [
      " 67%|▋| 47/70 [34"
     ]
    },
    {
     "name": "stdout",
     "output_type": "stream",
     "text": [
      "E    47\n",
      "training...\n",
      "validating...\n"
     ]
    },
    {
     "name": "stderr",
     "output_type": "stream",
     "text": [
      " 69%|▋| 48/70 [35"
     ]
    },
    {
     "name": "stdout",
     "output_type": "stream",
     "text": [
      "E    48\n",
      "training...\n",
      "validating...\n"
     ]
    },
    {
     "name": "stderr",
     "output_type": "stream",
     "text": [
      " 70%|▋| 49/70 [36"
     ]
    },
    {
     "name": "stdout",
     "output_type": "stream",
     "text": [
      "E    49\n",
      "training...\n",
      "validating...\n"
     ]
    },
    {
     "name": "stderr",
     "output_type": "stream",
     "text": [
      " 71%|▋| 50/70 [36"
     ]
    },
    {
     "name": "stdout",
     "output_type": "stream",
     "text": [
      "E    50\n",
      "training...\n",
      "validating...\n"
     ]
    },
    {
     "name": "stderr",
     "output_type": "stream",
     "text": [
      " 73%|▋| 51/70 [37"
     ]
    },
    {
     "name": "stdout",
     "output_type": "stream",
     "text": [
      "E    51\n",
      "training...\n",
      "validating...\n"
     ]
    },
    {
     "name": "stderr",
     "output_type": "stream",
     "text": [
      " 74%|▋| 52/70 [38"
     ]
    },
    {
     "name": "stdout",
     "output_type": "stream",
     "text": [
      "E    52\n",
      "training...\n",
      "validating...\n"
     ]
    },
    {
     "name": "stderr",
     "output_type": "stream",
     "text": [
      " 76%|▊| 53/70 [39"
     ]
    },
    {
     "name": "stdout",
     "output_type": "stream",
     "text": [
      "E    53\n",
      "training...\n",
      "validating...\n"
     ]
    },
    {
     "name": "stderr",
     "output_type": "stream",
     "text": [
      " 77%|▊| 54/70 [39"
     ]
    },
    {
     "name": "stdout",
     "output_type": "stream",
     "text": [
      "E    54\n",
      "training...\n",
      "validating...\n"
     ]
    },
    {
     "name": "stderr",
     "output_type": "stream",
     "text": [
      " 79%|▊| 55/70 [40"
     ]
    },
    {
     "name": "stdout",
     "output_type": "stream",
     "text": [
      "E    55\n",
      "training...\n",
      "validating...\n"
     ]
    },
    {
     "name": "stderr",
     "output_type": "stream",
     "text": [
      " 80%|▊| 56/70 [41"
     ]
    },
    {
     "name": "stdout",
     "output_type": "stream",
     "text": [
      "E    56\n",
      "training...\n",
      "validating...\n"
     ]
    },
    {
     "name": "stderr",
     "output_type": "stream",
     "text": [
      " 81%|▊| 57/70 [41"
     ]
    },
    {
     "name": "stdout",
     "output_type": "stream",
     "text": [
      "E    57\n",
      "training...\n",
      "validating...\n"
     ]
    },
    {
     "name": "stderr",
     "output_type": "stream",
     "text": [
      " 83%|▊| 58/70 [42"
     ]
    },
    {
     "name": "stdout",
     "output_type": "stream",
     "text": [
      "E    58\n",
      "training...\n",
      "validating...\n"
     ]
    },
    {
     "name": "stderr",
     "output_type": "stream",
     "text": [
      " 84%|▊| 59/70 [43"
     ]
    },
    {
     "name": "stdout",
     "output_type": "stream",
     "text": [
      "E    59\n",
      "training...\n",
      "validating...\n"
     ]
    },
    {
     "name": "stderr",
     "output_type": "stream",
     "text": [
      " 86%|▊| 60/70 [44"
     ]
    },
    {
     "name": "stdout",
     "output_type": "stream",
     "text": [
      "E    60\n",
      "training...\n",
      "validating...\n"
     ]
    },
    {
     "name": "stderr",
     "output_type": "stream",
     "text": [
      " 87%|▊| 61/70 [44"
     ]
    },
    {
     "name": "stdout",
     "output_type": "stream",
     "text": [
      "E    61\n",
      "training...\n",
      "validating...\n"
     ]
    },
    {
     "name": "stderr",
     "output_type": "stream",
     "text": [
      " 89%|▉| 62/70 [45"
     ]
    },
    {
     "name": "stdout",
     "output_type": "stream",
     "text": [
      "E    62\n",
      "training...\n",
      "validating...\n"
     ]
    },
    {
     "name": "stderr",
     "output_type": "stream",
     "text": [
      " 90%|▉| 63/70 [46"
     ]
    },
    {
     "name": "stdout",
     "output_type": "stream",
     "text": [
      "E    63\n",
      "training...\n",
      "validating...\n"
     ]
    },
    {
     "name": "stderr",
     "output_type": "stream",
     "text": [
      " 91%|▉| 64/70 [46"
     ]
    },
    {
     "name": "stdout",
     "output_type": "stream",
     "text": [
      "E    64\n",
      "training...\n",
      "validating...\n"
     ]
    },
    {
     "name": "stderr",
     "output_type": "stream",
     "text": [
      " 93%|▉| 65/70 [47"
     ]
    },
    {
     "name": "stdout",
     "output_type": "stream",
     "text": [
      "E    65\n",
      "training...\n",
      "validating...\n"
     ]
    },
    {
     "name": "stderr",
     "output_type": "stream",
     "text": [
      " 94%|▉| 66/70 [48"
     ]
    },
    {
     "name": "stdout",
     "output_type": "stream",
     "text": [
      "E    66\n",
      "training...\n",
      "validating...\n"
     ]
    },
    {
     "name": "stderr",
     "output_type": "stream",
     "text": [
      " 96%|▉| 67/70 [49"
     ]
    },
    {
     "name": "stdout",
     "output_type": "stream",
     "text": [
      "E    67\n",
      "training...\n",
      "validating...\n"
     ]
    },
    {
     "name": "stderr",
     "output_type": "stream",
     "text": [
      " 97%|▉| 68/70 [49"
     ]
    },
    {
     "name": "stdout",
     "output_type": "stream",
     "text": [
      "E    68\n",
      "training...\n",
      "validating...\n"
     ]
    },
    {
     "name": "stderr",
     "output_type": "stream",
     "text": [
      " 99%|▉| 69/70 [50"
     ]
    },
    {
     "name": "stdout",
     "output_type": "stream",
     "text": [
      "E    69\n",
      "training...\n",
      "validating...\n"
     ]
    },
    {
     "name": "stderr",
     "output_type": "stream",
     "text": [
      "100%|█| 70/70 [51\n"
     ]
    },
    {
     "data": {
      "application/vnd.jupyter.widget-view+json": {
       "model_id": "",
       "version_major": 2,
       "version_minor": 0
      },
      "text/plain": [
       "VBox(children=(Label(value='0.006 MB of 0.006 MB uploaded\\r'), FloatProgress(value=1.0, max=1.0)))"
      ]
     },
     "metadata": {},
     "output_type": "display_data"
    },
    {
     "data": {
      "text/html": [
       "<style>\n",
       "    table.wandb td:nth-child(1) { padding: 0 10px; text-align: left ; width: auto;} td:nth-child(2) {text-align: left ; width: 100%}\n",
       "    .wandb-row { display: flex; flex-direction: row; flex-wrap: wrap; justify-content: flex-start; width: 100% }\n",
       "    .wandb-col { display: flex; flex-direction: column; flex-basis: 100%; flex: 1; padding: 10px; }\n",
       "    </style>\n",
       "<div class=\"wandb-row\"><div class=\"wandb-col\"><h3>Run history:</h3><br/><table class=\"wandb\"><tr><td>epoch</td><td>▁▁▁▁▂▂▂▂▂▃▃▃▃▃▃▄▄▄▄▄▅▅▅▅▅▆▆▆▆▆▆▇▇▇▇▇████</td></tr><tr><td>t_loss</td><td>▆▂▆▅▄▅▂▄▅▄▃▆▅▅▅▆▄▁▆▂█▇▅▆▄▂▄▅▇▂▃▅▃▆▇</td></tr><tr><td>train_accuracy_%</td><td>▅█▇▄▇▄▄▇▃▆▃▇▄▆▂▂▅▃▆▇▇▃▆▂▇▃▇▂▁▃█▅▄▃▂</td></tr><tr><td>v_loss</td><td>▁▁▁▁▁▁▁▁▁▁▁▁▁▁▁▁▁▁▁▁▁▁▁▁▁▁▁▁▁▁▁▁▁▁▁</td></tr><tr><td>val_accuracy_%</td><td>▁▁▁▁▁▁▁▁▁▁▁▁▁▁▁▁▁▁▁▁▁▁▁▁▁▁▁▁▁▁▁▁▁▁▁</td></tr></table><br/></div><div class=\"wandb-col\"><h3>Run summary:</h3><br/><table class=\"wandb\"><tr><td>epoch</td><td>69</td></tr><tr><td>t_loss</td><td>2.39706</td></tr><tr><td>train_accuracy_%</td><td>0.08652</td></tr><tr><td>v_loss</td><td>2.39454</td></tr><tr><td>val_accuracy_%</td><td>0.09455</td></tr></table><br/></div></div>"
      ],
      "text/plain": [
       "<IPython.core.display.HTML object>"
      ]
     },
     "metadata": {},
     "output_type": "display_data"
    },
    {
     "data": {
      "text/html": [
       " View run <strong style=\"color:#cdcd00\">peach-sweep-11</strong> at: <a href='https://wandb.ai/antvis/IDSW_vgg_fine_hp_80_112023/runs/9zesmem3' target=\"_blank\">https://wandb.ai/antvis/IDSW_vgg_fine_hp_80_112023/runs/9zesmem3</a><br/>Synced 5 W&B file(s), 0 media file(s), 0 artifact file(s) and 0 other file(s)"
      ],
      "text/plain": [
       "<IPython.core.display.HTML object>"
      ]
     },
     "metadata": {},
     "output_type": "display_data"
    },
    {
     "data": {
      "text/html": [
       "Find logs at: <code>./wandb/run-20231207_013129-9zesmem3/logs</code>"
      ],
      "text/plain": [
       "<IPython.core.display.HTML object>"
      ]
     },
     "metadata": {},
     "output_type": "display_data"
    },
    {
     "name": "stderr",
     "output_type": "stream",
     "text": [
      "\u001b[34m\u001b[1mwandb\u001b[0m: Agent Starting Run: h15xuwlm with config:\n",
      "\u001b[34m\u001b[1mwandb\u001b[0m: \tchannels: 3\n",
      "\u001b[34m\u001b[1mwandb\u001b[0m: \tdata_set: Augmented\n",
      "\u001b[34m\u001b[1mwandb\u001b[0m: \tepochs: 70\n",
      "\u001b[34m\u001b[1mwandb\u001b[0m: \tfirst_lin_lay: 248832\n",
      "\u001b[34m\u001b[1mwandb\u001b[0m: \timage_path: /its/home/nn268/optics/AugmentedDS_IDSW/\n",
      "\u001b[34m\u001b[1mwandb\u001b[0m: \tks: [3, 5]\n",
      "\u001b[34m\u001b[1mwandb\u001b[0m: \tlearning_rate: 0.0006168225068091437\n",
      "\u001b[34m\u001b[1mwandb\u001b[0m: \tloss_fn: MSE\n",
      "\u001b[34m\u001b[1mwandb\u001b[0m: \tmodel_name: vgg16net_mlp\n",
      "\u001b[34m\u001b[1mwandb\u001b[0m: \tnum_classes: 11\n",
      "\u001b[34m\u001b[1mwandb\u001b[0m: \toptimizer: adam\n",
      "\u001b[34m\u001b[1mwandb\u001b[0m: \tscheduler: 0.01\n"
     ]
    },
    {
     "data": {
      "text/html": [
       "wandb version 0.16.1 is available!  To upgrade, please run:\n",
       " $ pip install wandb --upgrade"
      ],
      "text/plain": [
       "<IPython.core.display.HTML object>"
      ]
     },
     "metadata": {},
     "output_type": "display_data"
    },
    {
     "data": {
      "text/html": [
       "Tracking run with wandb version 0.16.0"
      ],
      "text/plain": [
       "<IPython.core.display.HTML object>"
      ]
     },
     "metadata": {},
     "output_type": "display_data"
    },
    {
     "data": {
      "text/html": [
       "Run data is saved locally in <code>/its/home/nn268/antvis/antvis/optics/wandb/run-20231207_022301-h15xuwlm</code>"
      ],
      "text/plain": [
       "<IPython.core.display.HTML object>"
      ]
     },
     "metadata": {},
     "output_type": "display_data"
    },
    {
     "data": {
      "text/html": [
       "Syncing run <strong><a href='https://wandb.ai/antvis/IDSW_vgg_fine_hp_80_112023/runs/h15xuwlm' target=\"_blank\">lucky-sweep-12</a></strong> to <a href='https://wandb.ai/antvis/IDSW_vgg_fine_hp_80_112023' target=\"_blank\">Weights & Biases</a> (<a href='https://wandb.me/run' target=\"_blank\">docs</a>)<br/>Sweep page: <a href='https://wandb.ai/antvis/IDSW_vgg_fine_hp_80_112023/sweeps/obcz0eq3' target=\"_blank\">https://wandb.ai/antvis/IDSW_vgg_fine_hp_80_112023/sweeps/obcz0eq3</a>"
      ],
      "text/plain": [
       "<IPython.core.display.HTML object>"
      ]
     },
     "metadata": {},
     "output_type": "display_data"
    },
    {
     "data": {
      "text/html": [
       " View project at <a href='https://wandb.ai/antvis/IDSW_vgg_fine_hp_80_112023' target=\"_blank\">https://wandb.ai/antvis/IDSW_vgg_fine_hp_80_112023</a>"
      ],
      "text/plain": [
       "<IPython.core.display.HTML object>"
      ]
     },
     "metadata": {},
     "output_type": "display_data"
    },
    {
     "data": {
      "text/html": [
       " View sweep at <a href='https://wandb.ai/antvis/IDSW_vgg_fine_hp_80_112023/sweeps/obcz0eq3' target=\"_blank\">https://wandb.ai/antvis/IDSW_vgg_fine_hp_80_112023/sweeps/obcz0eq3</a>"
      ],
      "text/plain": [
       "<IPython.core.display.HTML object>"
      ]
     },
     "metadata": {},
     "output_type": "display_data"
    },
    {
     "data": {
      "text/html": [
       " View run at <a href='https://wandb.ai/antvis/IDSW_vgg_fine_hp_80_112023/runs/h15xuwlm' target=\"_blank\">https://wandb.ai/antvis/IDSW_vgg_fine_hp_80_112023/runs/h15xuwlm</a>"
      ],
      "text/plain": [
       "<IPython.core.display.HTML object>"
      ]
     },
     "metadata": {},
     "output_type": "display_data"
    },
    {
     "name": "stderr",
     "output_type": "stream",
     "text": [
      "\u001b[34m\u001b[1mwandb\u001b[0m: \u001b[33mWARNING\u001b[0m Ignored wandb.init() arg project when running a sweep.\n"
     ]
    },
    {
     "data": {
      "text/html": [
       "Finishing last run (ID:h15xuwlm) before initializing another..."
      ],
      "text/plain": [
       "<IPython.core.display.HTML object>"
      ]
     },
     "metadata": {},
     "output_type": "display_data"
    },
    {
     "data": {
      "application/vnd.jupyter.widget-view+json": {
       "model_id": "",
       "version_major": 2,
       "version_minor": 0
      },
      "text/plain": [
       "VBox(children=(Label(value='0.006 MB of 0.006 MB uploaded\\r'), FloatProgress(value=1.0, max=1.0)))"
      ]
     },
     "metadata": {},
     "output_type": "display_data"
    },
    {
     "data": {
      "text/html": [
       " View run <strong style=\"color:#cdcd00\">lucky-sweep-12</strong> at: <a href='https://wandb.ai/antvis/IDSW_vgg_fine_hp_80_112023/runs/h15xuwlm' target=\"_blank\">https://wandb.ai/antvis/IDSW_vgg_fine_hp_80_112023/runs/h15xuwlm</a><br/>Synced 5 W&B file(s), 0 media file(s), 0 artifact file(s) and 0 other file(s)"
      ],
      "text/plain": [
       "<IPython.core.display.HTML object>"
      ]
     },
     "metadata": {},
     "output_type": "display_data"
    },
    {
     "data": {
      "text/html": [
       "Find logs at: <code>./wandb/run-20231207_022301-h15xuwlm/logs</code>"
      ],
      "text/plain": [
       "<IPython.core.display.HTML object>"
      ]
     },
     "metadata": {},
     "output_type": "display_data"
    },
    {
     "data": {
      "text/html": [
       "Successfully finished last run (ID:h15xuwlm). Initializing new run:<br/>"
      ],
      "text/plain": [
       "<IPython.core.display.HTML object>"
      ]
     },
     "metadata": {},
     "output_type": "display_data"
    },
    {
     "data": {
      "application/vnd.jupyter.widget-view+json": {
       "model_id": "636f83b805d8410f942c95dc49099015",
       "version_major": 2,
       "version_minor": 0
      },
      "text/plain": [
       "VBox(children=(Label(value='Waiting for wandb.init()...\\r'), FloatProgress(value=0.011112680399997367, max=1.0…"
      ]
     },
     "metadata": {},
     "output_type": "display_data"
    },
    {
     "data": {
      "text/html": [
       "wandb version 0.16.1 is available!  To upgrade, please run:\n",
       " $ pip install wandb --upgrade"
      ],
      "text/plain": [
       "<IPython.core.display.HTML object>"
      ]
     },
     "metadata": {},
     "output_type": "display_data"
    },
    {
     "data": {
      "text/html": [
       "Tracking run with wandb version 0.16.0"
      ],
      "text/plain": [
       "<IPython.core.display.HTML object>"
      ]
     },
     "metadata": {},
     "output_type": "display_data"
    },
    {
     "data": {
      "text/html": [
       "Run data is saved locally in <code>/its/home/nn268/antvis/antvis/optics/wandb/run-20231207_022302-h15xuwlm</code>"
      ],
      "text/plain": [
       "<IPython.core.display.HTML object>"
      ]
     },
     "metadata": {},
     "output_type": "display_data"
    },
    {
     "data": {
      "text/html": [
       "Syncing run <strong><a href='https://wandb.ai/antvis/IDSW_vgg_fine_hp_80_112023/runs/h15xuwlm' target=\"_blank\">lucky-sweep-12</a></strong> to <a href='https://wandb.ai/antvis/IDSW_vgg_fine_hp_80_112023' target=\"_blank\">Weights & Biases</a> (<a href='https://wandb.me/run' target=\"_blank\">docs</a>)<br/>Sweep page: <a href='https://wandb.ai/antvis/IDSW_vgg_fine_hp_80_112023/sweeps/obcz0eq3' target=\"_blank\">https://wandb.ai/antvis/IDSW_vgg_fine_hp_80_112023/sweeps/obcz0eq3</a>"
      ],
      "text/plain": [
       "<IPython.core.display.HTML object>"
      ]
     },
     "metadata": {},
     "output_type": "display_data"
    },
    {
     "data": {
      "text/html": [
       " View project at <a href='https://wandb.ai/antvis/IDSW_vgg_fine_hp_80_112023' target=\"_blank\">https://wandb.ai/antvis/IDSW_vgg_fine_hp_80_112023</a>"
      ],
      "text/plain": [
       "<IPython.core.display.HTML object>"
      ]
     },
     "metadata": {},
     "output_type": "display_data"
    },
    {
     "data": {
      "text/html": [
       " View sweep at <a href='https://wandb.ai/antvis/IDSW_vgg_fine_hp_80_112023/sweeps/obcz0eq3' target=\"_blank\">https://wandb.ai/antvis/IDSW_vgg_fine_hp_80_112023/sweeps/obcz0eq3</a>"
      ],
      "text/plain": [
       "<IPython.core.display.HTML object>"
      ]
     },
     "metadata": {},
     "output_type": "display_data"
    },
    {
     "data": {
      "text/html": [
       " View run at <a href='https://wandb.ai/antvis/IDSW_vgg_fine_hp_80_112023/runs/h15xuwlm' target=\"_blank\">https://wandb.ai/antvis/IDSW_vgg_fine_hp_80_112023/runs/h15xuwlm</a>"
      ],
      "text/plain": [
       "<IPython.core.display.HTML object>"
      ]
     },
     "metadata": {},
     "output_type": "display_data"
    },
    {
     "name": "stderr",
     "output_type": "stream",
     "text": [
      "  0%| | 0/70 [00:"
     ]
    },
    {
     "name": "stdout",
     "output_type": "stream",
     "text": [
      "E    0\n",
      "training...\n",
      "validating...\n"
     ]
    },
    {
     "name": "stderr",
     "output_type": "stream",
     "text": [
      "  1%| | 1/70 [00:"
     ]
    },
    {
     "name": "stdout",
     "output_type": "stream",
     "text": [
      "improvment in metrics. model saved\n",
      "E    1\n",
      "training...\n",
      "validating...\n"
     ]
    },
    {
     "name": "stderr",
     "output_type": "stream",
     "text": [
      "  3%| | 2/70 [01:"
     ]
    },
    {
     "name": "stdout",
     "output_type": "stream",
     "text": [
      "E    2\n",
      "training...\n",
      "validating...\n"
     ]
    },
    {
     "name": "stderr",
     "output_type": "stream",
     "text": [
      "  4%| | 3/70 [02:"
     ]
    },
    {
     "name": "stdout",
     "output_type": "stream",
     "text": [
      "E    3\n",
      "training...\n",
      "validating...\n"
     ]
    },
    {
     "name": "stderr",
     "output_type": "stream",
     "text": [
      "  6%| | 4/70 [03:"
     ]
    },
    {
     "name": "stdout",
     "output_type": "stream",
     "text": [
      "E    4\n",
      "training...\n",
      "validating...\n"
     ]
    },
    {
     "name": "stderr",
     "output_type": "stream",
     "text": [
      "  7%| | 5/70 [03:"
     ]
    },
    {
     "name": "stdout",
     "output_type": "stream",
     "text": [
      "E    5\n",
      "training...\n",
      "validating...\n"
     ]
    },
    {
     "name": "stderr",
     "output_type": "stream",
     "text": [
      "  9%| | 6/70 [04:"
     ]
    },
    {
     "name": "stdout",
     "output_type": "stream",
     "text": [
      "E    6\n",
      "training...\n",
      "validating...\n"
     ]
    },
    {
     "name": "stderr",
     "output_type": "stream",
     "text": [
      " 10%| | 7/70 [05:"
     ]
    },
    {
     "name": "stdout",
     "output_type": "stream",
     "text": [
      "E    7\n",
      "training...\n",
      "validating...\n"
     ]
    },
    {
     "name": "stderr",
     "output_type": "stream",
     "text": [
      " 11%| | 8/70 [06:"
     ]
    },
    {
     "name": "stdout",
     "output_type": "stream",
     "text": [
      "E    8\n",
      "training...\n",
      "validating...\n"
     ]
    },
    {
     "name": "stderr",
     "output_type": "stream",
     "text": [
      " 13%|▏| 9/70 [06:"
     ]
    },
    {
     "name": "stdout",
     "output_type": "stream",
     "text": [
      "E    9\n",
      "training...\n",
      "validating...\n"
     ]
    },
    {
     "name": "stderr",
     "output_type": "stream",
     "text": [
      " 14%|▏| 10/70 [07"
     ]
    },
    {
     "name": "stdout",
     "output_type": "stream",
     "text": [
      "E    10\n",
      "training...\n",
      "validating...\n"
     ]
    },
    {
     "name": "stderr",
     "output_type": "stream",
     "text": [
      " 16%|▏| 11/70 [08"
     ]
    },
    {
     "name": "stdout",
     "output_type": "stream",
     "text": [
      "E    11\n",
      "training...\n",
      "validating...\n"
     ]
    },
    {
     "name": "stderr",
     "output_type": "stream",
     "text": [
      " 17%|▏| 12/70 [08"
     ]
    },
    {
     "name": "stdout",
     "output_type": "stream",
     "text": [
      "E    12\n",
      "training...\n",
      "validating...\n"
     ]
    },
    {
     "name": "stderr",
     "output_type": "stream",
     "text": [
      " 19%|▏| 13/70 [09"
     ]
    },
    {
     "name": "stdout",
     "output_type": "stream",
     "text": [
      "E    13\n",
      "training...\n",
      "validating...\n"
     ]
    },
    {
     "name": "stderr",
     "output_type": "stream",
     "text": [
      " 20%|▏| 14/70 [10"
     ]
    },
    {
     "name": "stdout",
     "output_type": "stream",
     "text": [
      "E    14\n",
      "training...\n",
      "validating...\n"
     ]
    },
    {
     "name": "stderr",
     "output_type": "stream",
     "text": [
      " 21%|▏| 15/70 [11"
     ]
    },
    {
     "name": "stdout",
     "output_type": "stream",
     "text": [
      "E    15\n",
      "training...\n",
      "validating...\n"
     ]
    },
    {
     "name": "stderr",
     "output_type": "stream",
     "text": [
      " 23%|▏| 16/70 [11"
     ]
    },
    {
     "name": "stdout",
     "output_type": "stream",
     "text": [
      "E    16\n",
      "training...\n",
      "validating...\n"
     ]
    },
    {
     "name": "stderr",
     "output_type": "stream",
     "text": [
      " 24%|▏| 17/70 [12"
     ]
    },
    {
     "name": "stdout",
     "output_type": "stream",
     "text": [
      "E    17\n",
      "training...\n",
      "validating...\n"
     ]
    },
    {
     "name": "stderr",
     "output_type": "stream",
     "text": [
      " 26%|▎| 18/70 [13"
     ]
    },
    {
     "name": "stdout",
     "output_type": "stream",
     "text": [
      "E    18\n",
      "training...\n",
      "validating...\n"
     ]
    },
    {
     "name": "stderr",
     "output_type": "stream",
     "text": [
      " 27%|▎| 19/70 [14"
     ]
    },
    {
     "name": "stdout",
     "output_type": "stream",
     "text": [
      "E    19\n",
      "training...\n",
      "validating...\n"
     ]
    },
    {
     "name": "stderr",
     "output_type": "stream",
     "text": [
      " 29%|▎| 20/70 [14"
     ]
    },
    {
     "name": "stdout",
     "output_type": "stream",
     "text": [
      "E    20\n",
      "training...\n",
      "validating...\n"
     ]
    },
    {
     "name": "stderr",
     "output_type": "stream",
     "text": [
      " 30%|▎| 21/70 [15"
     ]
    },
    {
     "name": "stdout",
     "output_type": "stream",
     "text": [
      "E    21\n",
      "training...\n",
      "validating...\n"
     ]
    },
    {
     "name": "stderr",
     "output_type": "stream",
     "text": [
      " 31%|▎| 22/70 [16"
     ]
    },
    {
     "name": "stdout",
     "output_type": "stream",
     "text": [
      "E    22\n",
      "training...\n",
      "validating...\n"
     ]
    },
    {
     "name": "stderr",
     "output_type": "stream",
     "text": [
      " 33%|▎| 23/70 [16"
     ]
    },
    {
     "name": "stdout",
     "output_type": "stream",
     "text": [
      "E    23\n",
      "training...\n",
      "validating...\n"
     ]
    },
    {
     "name": "stderr",
     "output_type": "stream",
     "text": [
      " 34%|▎| 24/70 [17"
     ]
    },
    {
     "name": "stdout",
     "output_type": "stream",
     "text": [
      "E    24\n",
      "training...\n",
      "validating...\n"
     ]
    },
    {
     "name": "stderr",
     "output_type": "stream",
     "text": [
      " 36%|▎| 25/70 [18"
     ]
    },
    {
     "name": "stdout",
     "output_type": "stream",
     "text": [
      "E    25\n",
      "training...\n",
      "validating...\n"
     ]
    },
    {
     "name": "stderr",
     "output_type": "stream",
     "text": [
      " 37%|▎| 26/70 [19"
     ]
    },
    {
     "name": "stdout",
     "output_type": "stream",
     "text": [
      "E    26\n",
      "training...\n",
      "validating...\n"
     ]
    },
    {
     "name": "stderr",
     "output_type": "stream",
     "text": [
      " 39%|▍| 27/70 [19"
     ]
    },
    {
     "name": "stdout",
     "output_type": "stream",
     "text": [
      "E    27\n",
      "training...\n",
      "validating...\n"
     ]
    },
    {
     "name": "stderr",
     "output_type": "stream",
     "text": [
      " 40%|▍| 28/70 [20"
     ]
    },
    {
     "name": "stdout",
     "output_type": "stream",
     "text": [
      "E    28\n",
      "training...\n",
      "validating...\n"
     ]
    },
    {
     "name": "stderr",
     "output_type": "stream",
     "text": [
      " 41%|▍| 29/70 [21"
     ]
    },
    {
     "name": "stdout",
     "output_type": "stream",
     "text": [
      "E    29\n",
      "training...\n",
      "validating...\n"
     ]
    },
    {
     "name": "stderr",
     "output_type": "stream",
     "text": [
      " 43%|▍| 30/70 [22"
     ]
    },
    {
     "name": "stdout",
     "output_type": "stream",
     "text": [
      "E    30\n",
      "training...\n",
      "validating...\n"
     ]
    },
    {
     "name": "stderr",
     "output_type": "stream",
     "text": [
      " 44%|▍| 31/70 [22"
     ]
    },
    {
     "name": "stdout",
     "output_type": "stream",
     "text": [
      "E    31\n",
      "training...\n",
      "validating...\n"
     ]
    },
    {
     "name": "stderr",
     "output_type": "stream",
     "text": [
      " 46%|▍| 32/70 [23"
     ]
    },
    {
     "name": "stdout",
     "output_type": "stream",
     "text": [
      "E    32\n",
      "training...\n",
      "validating...\n"
     ]
    },
    {
     "name": "stderr",
     "output_type": "stream",
     "text": [
      " 47%|▍| 33/70 [24"
     ]
    },
    {
     "name": "stdout",
     "output_type": "stream",
     "text": [
      "E    33\n",
      "training...\n",
      "validating...\n"
     ]
    },
    {
     "name": "stderr",
     "output_type": "stream",
     "text": [
      " 49%|▍| 34/70 [24"
     ]
    },
    {
     "name": "stdout",
     "output_type": "stream",
     "text": [
      "E    34\n",
      "training...\n",
      "validating...\n"
     ]
    },
    {
     "name": "stderr",
     "output_type": "stream",
     "text": [
      " 50%|▌| 35/70 [25"
     ]
    },
    {
     "name": "stdout",
     "output_type": "stream",
     "text": [
      "E    35\n",
      "training...\n",
      "validating...\n"
     ]
    },
    {
     "name": "stderr",
     "output_type": "stream",
     "text": [
      " 51%|▌| 36/70 [26"
     ]
    },
    {
     "name": "stdout",
     "output_type": "stream",
     "text": [
      "E    36\n",
      "training...\n",
      "validating...\n"
     ]
    },
    {
     "name": "stderr",
     "output_type": "stream",
     "text": [
      " 53%|▌| 37/70 [27"
     ]
    },
    {
     "name": "stdout",
     "output_type": "stream",
     "text": [
      "E    37\n",
      "training...\n",
      "validating...\n"
     ]
    },
    {
     "name": "stderr",
     "output_type": "stream",
     "text": [
      " 54%|▌| 38/70 [27"
     ]
    },
    {
     "name": "stdout",
     "output_type": "stream",
     "text": [
      "E    38\n",
      "training...\n",
      "validating...\n"
     ]
    },
    {
     "name": "stderr",
     "output_type": "stream",
     "text": [
      " 56%|▌| 39/70 [28"
     ]
    },
    {
     "name": "stdout",
     "output_type": "stream",
     "text": [
      "E    39\n",
      "training...\n",
      "validating...\n"
     ]
    },
    {
     "name": "stderr",
     "output_type": "stream",
     "text": [
      " 57%|▌| 40/70 [29"
     ]
    },
    {
     "name": "stdout",
     "output_type": "stream",
     "text": [
      "E    40\n",
      "training...\n",
      "validating...\n"
     ]
    },
    {
     "name": "stderr",
     "output_type": "stream",
     "text": [
      " 59%|▌| 41/70 [29"
     ]
    },
    {
     "name": "stdout",
     "output_type": "stream",
     "text": [
      "E    41\n",
      "training...\n",
      "validating...\n"
     ]
    },
    {
     "name": "stderr",
     "output_type": "stream",
     "text": [
      " 60%|▌| 42/70 [30"
     ]
    },
    {
     "name": "stdout",
     "output_type": "stream",
     "text": [
      "E    42\n",
      "training...\n",
      "validating...\n"
     ]
    },
    {
     "name": "stderr",
     "output_type": "stream",
     "text": [
      " 61%|▌| 43/70 [31"
     ]
    },
    {
     "name": "stdout",
     "output_type": "stream",
     "text": [
      "E    43\n",
      "training...\n",
      "validating...\n"
     ]
    },
    {
     "name": "stderr",
     "output_type": "stream",
     "text": [
      " 63%|▋| 44/70 [32"
     ]
    },
    {
     "name": "stdout",
     "output_type": "stream",
     "text": [
      "E    44\n",
      "training...\n",
      "validating...\n"
     ]
    },
    {
     "name": "stderr",
     "output_type": "stream",
     "text": [
      " 64%|▋| 45/70 [32"
     ]
    },
    {
     "name": "stdout",
     "output_type": "stream",
     "text": [
      "E    45\n",
      "training...\n",
      "validating...\n"
     ]
    },
    {
     "name": "stderr",
     "output_type": "stream",
     "text": [
      " 66%|▋| 46/70 [33"
     ]
    },
    {
     "name": "stdout",
     "output_type": "stream",
     "text": [
      "E    46\n",
      "training...\n",
      "validating...\n"
     ]
    },
    {
     "name": "stderr",
     "output_type": "stream",
     "text": [
      " 67%|▋| 47/70 [34"
     ]
    },
    {
     "name": "stdout",
     "output_type": "stream",
     "text": [
      "E    47\n",
      "training...\n",
      "validating...\n"
     ]
    },
    {
     "name": "stderr",
     "output_type": "stream",
     "text": [
      " 69%|▋| 48/70 [34"
     ]
    },
    {
     "name": "stdout",
     "output_type": "stream",
     "text": [
      "E    48\n",
      "training...\n",
      "validating...\n"
     ]
    },
    {
     "name": "stderr",
     "output_type": "stream",
     "text": [
      " 70%|▋| 49/70 [35"
     ]
    },
    {
     "name": "stdout",
     "output_type": "stream",
     "text": [
      "E    49\n",
      "training...\n",
      "validating...\n"
     ]
    },
    {
     "name": "stderr",
     "output_type": "stream",
     "text": [
      " 71%|▋| 50/70 [36"
     ]
    },
    {
     "name": "stdout",
     "output_type": "stream",
     "text": [
      "E    50\n",
      "training...\n",
      "validating...\n"
     ]
    },
    {
     "name": "stderr",
     "output_type": "stream",
     "text": [
      " 73%|▋| 51/70 [37"
     ]
    },
    {
     "name": "stdout",
     "output_type": "stream",
     "text": [
      "E    51\n",
      "training...\n",
      "validating...\n"
     ]
    },
    {
     "name": "stderr",
     "output_type": "stream",
     "text": [
      " 74%|▋| 52/70 [37"
     ]
    },
    {
     "name": "stdout",
     "output_type": "stream",
     "text": [
      "E    52\n",
      "training...\n",
      "validating...\n"
     ]
    },
    {
     "name": "stderr",
     "output_type": "stream",
     "text": [
      " 76%|▊| 53/70 [38"
     ]
    },
    {
     "name": "stdout",
     "output_type": "stream",
     "text": [
      "E    53\n",
      "training...\n",
      "validating...\n"
     ]
    },
    {
     "name": "stderr",
     "output_type": "stream",
     "text": [
      " 77%|▊| 54/70 [39"
     ]
    },
    {
     "name": "stdout",
     "output_type": "stream",
     "text": [
      "E    54\n",
      "training...\n",
      "validating...\n"
     ]
    },
    {
     "name": "stderr",
     "output_type": "stream",
     "text": [
      " 79%|▊| 55/70 [40"
     ]
    },
    {
     "name": "stdout",
     "output_type": "stream",
     "text": [
      "E    55\n",
      "training...\n",
      "validating...\n"
     ]
    },
    {
     "name": "stderr",
     "output_type": "stream",
     "text": [
      " 80%|▊| 56/70 [40"
     ]
    },
    {
     "name": "stdout",
     "output_type": "stream",
     "text": [
      "E    56\n",
      "training...\n",
      "validating...\n"
     ]
    },
    {
     "name": "stderr",
     "output_type": "stream",
     "text": [
      " 81%|▊| 57/70 [41"
     ]
    },
    {
     "name": "stdout",
     "output_type": "stream",
     "text": [
      "E    57\n",
      "training...\n",
      "validating...\n"
     ]
    },
    {
     "name": "stderr",
     "output_type": "stream",
     "text": [
      " 83%|▊| 58/70 [42"
     ]
    },
    {
     "name": "stdout",
     "output_type": "stream",
     "text": [
      "E    58\n",
      "training...\n",
      "validating...\n"
     ]
    },
    {
     "name": "stderr",
     "output_type": "stream",
     "text": [
      " 84%|▊| 59/70 [42"
     ]
    },
    {
     "name": "stdout",
     "output_type": "stream",
     "text": [
      "E    59\n",
      "training...\n",
      "validating...\n"
     ]
    },
    {
     "name": "stderr",
     "output_type": "stream",
     "text": [
      " 86%|▊| 60/70 [43"
     ]
    },
    {
     "name": "stdout",
     "output_type": "stream",
     "text": [
      "E    60\n",
      "training...\n",
      "validating...\n"
     ]
    },
    {
     "name": "stderr",
     "output_type": "stream",
     "text": [
      " 87%|▊| 61/70 [44"
     ]
    },
    {
     "name": "stdout",
     "output_type": "stream",
     "text": [
      "E    61\n",
      "training...\n",
      "validating...\n"
     ]
    },
    {
     "name": "stderr",
     "output_type": "stream",
     "text": [
      " 89%|▉| 62/70 [45"
     ]
    },
    {
     "name": "stdout",
     "output_type": "stream",
     "text": [
      "E    62\n",
      "training...\n",
      "validating...\n"
     ]
    },
    {
     "name": "stderr",
     "output_type": "stream",
     "text": [
      " 90%|▉| 63/70 [45"
     ]
    },
    {
     "name": "stdout",
     "output_type": "stream",
     "text": [
      "E    63\n",
      "training...\n",
      "validating...\n"
     ]
    },
    {
     "name": "stderr",
     "output_type": "stream",
     "text": [
      " 91%|▉| 64/70 [46"
     ]
    },
    {
     "name": "stdout",
     "output_type": "stream",
     "text": [
      "E    64\n",
      "training...\n",
      "validating...\n"
     ]
    },
    {
     "name": "stderr",
     "output_type": "stream",
     "text": [
      " 93%|▉| 65/70 [47"
     ]
    },
    {
     "name": "stdout",
     "output_type": "stream",
     "text": [
      "E    65\n",
      "training...\n",
      "validating...\n"
     ]
    },
    {
     "name": "stderr",
     "output_type": "stream",
     "text": [
      " 94%|▉| 66/70 [47"
     ]
    },
    {
     "name": "stdout",
     "output_type": "stream",
     "text": [
      "E    66\n",
      "training...\n",
      "validating...\n"
     ]
    },
    {
     "name": "stderr",
     "output_type": "stream",
     "text": [
      " 96%|▉| 67/70 [48"
     ]
    },
    {
     "name": "stdout",
     "output_type": "stream",
     "text": [
      "E    67\n",
      "training...\n",
      "validating...\n"
     ]
    },
    {
     "name": "stderr",
     "output_type": "stream",
     "text": [
      " 97%|▉| 68/70 [49"
     ]
    },
    {
     "name": "stdout",
     "output_type": "stream",
     "text": [
      "E    68\n",
      "training...\n",
      "validating...\n"
     ]
    },
    {
     "name": "stderr",
     "output_type": "stream",
     "text": [
      " 99%|▉| 69/70 [50"
     ]
    },
    {
     "name": "stdout",
     "output_type": "stream",
     "text": [
      "E    69\n",
      "training...\n",
      "validating...\n"
     ]
    },
    {
     "name": "stderr",
     "output_type": "stream",
     "text": [
      "100%|█| 70/70 [50\n"
     ]
    },
    {
     "data": {
      "application/vnd.jupyter.widget-view+json": {
       "model_id": "",
       "version_major": 2,
       "version_minor": 0
      },
      "text/plain": [
       "VBox(children=(Label(value='0.006 MB of 0.006 MB uploaded\\r'), FloatProgress(value=1.0, max=1.0)))"
      ]
     },
     "metadata": {},
     "output_type": "display_data"
    },
    {
     "data": {
      "text/html": [
       "<style>\n",
       "    table.wandb td:nth-child(1) { padding: 0 10px; text-align: left ; width: auto;} td:nth-child(2) {text-align: left ; width: 100%}\n",
       "    .wandb-row { display: flex; flex-direction: row; flex-wrap: wrap; justify-content: flex-start; width: 100% }\n",
       "    .wandb-col { display: flex; flex-direction: column; flex-basis: 100%; flex: 1; padding: 10px; }\n",
       "    </style>\n",
       "<div class=\"wandb-row\"><div class=\"wandb-col\"><h3>Run history:</h3><br/><table class=\"wandb\"><tr><td>epoch</td><td>▁▁▁▁▂▂▂▂▂▃▃▃▃▃▃▄▄▄▄▄▅▅▅▅▅▆▆▆▆▆▆▇▇▇▇▇████</td></tr><tr><td>t_loss</td><td>▅▄▄▄▅▄▄▃█▃▂▁▅▄▇▆▄▅█▅▅▄▄▆▅▄▃▇▃▃▅▇▄▄▇</td></tr><tr><td>train_accuracy_%</td><td>▄▂▂▁▃█▄▄▅▄▄▄▄▄▄▄▅▅▄▅▅▄▃▅▅▃▄▃▄▂▄▃▅▄▄</td></tr><tr><td>v_loss</td><td>▁▁▁▁▁▁▁▁▁▁▁▁▁▁▁▁▁▁▁▁▁▁▁▁▁▁▁▁▁▁▁▁▁▁▁</td></tr><tr><td>val_accuracy_%</td><td>▁▁▁▁▁▁▁▁▁▁▁▁▁▁▁▁▁▁▁▁▁▁▁▁▁▁▁▁▁▁▁▁▁▁▁</td></tr></table><br/></div><div class=\"wandb-col\"><h3>Run summary:</h3><br/><table class=\"wandb\"><tr><td>epoch</td><td>69</td></tr><tr><td>t_loss</td><td>0.07758</td></tr><tr><td>train_accuracy_%</td><td>0.10519</td></tr><tr><td>v_loss</td><td>0.08577</td></tr><tr><td>val_accuracy_%</td><td>0.09455</td></tr></table><br/></div></div>"
      ],
      "text/plain": [
       "<IPython.core.display.HTML object>"
      ]
     },
     "metadata": {},
     "output_type": "display_data"
    },
    {
     "data": {
      "text/html": [
       " View run <strong style=\"color:#cdcd00\">lucky-sweep-12</strong> at: <a href='https://wandb.ai/antvis/IDSW_vgg_fine_hp_80_112023/runs/h15xuwlm' target=\"_blank\">https://wandb.ai/antvis/IDSW_vgg_fine_hp_80_112023/runs/h15xuwlm</a><br/>Synced 5 W&B file(s), 0 media file(s), 0 artifact file(s) and 0 other file(s)"
      ],
      "text/plain": [
       "<IPython.core.display.HTML object>"
      ]
     },
     "metadata": {},
     "output_type": "display_data"
    },
    {
     "data": {
      "text/html": [
       "Find logs at: <code>./wandb/run-20231207_022302-h15xuwlm/logs</code>"
      ],
      "text/plain": [
       "<IPython.core.display.HTML object>"
      ]
     },
     "metadata": {},
     "output_type": "display_data"
    },
    {
     "name": "stderr",
     "output_type": "stream",
     "text": [
      "\u001b[34m\u001b[1mwandb\u001b[0m: Agent Starting Run: 9nnllo4b with config:\n",
      "\u001b[34m\u001b[1mwandb\u001b[0m: \tchannels: 3\n",
      "\u001b[34m\u001b[1mwandb\u001b[0m: \tdata_set: Augmented\n",
      "\u001b[34m\u001b[1mwandb\u001b[0m: \tepochs: 70\n",
      "\u001b[34m\u001b[1mwandb\u001b[0m: \tfirst_lin_lay: 248832\n",
      "\u001b[34m\u001b[1mwandb\u001b[0m: \timage_path: /its/home/nn268/optics/AugmentedDS_IDSW/\n",
      "\u001b[34m\u001b[1mwandb\u001b[0m: \tks: [3, 5]\n",
      "\u001b[34m\u001b[1mwandb\u001b[0m: \tlearning_rate: 0.00394558009831797\n",
      "\u001b[34m\u001b[1mwandb\u001b[0m: \tloss_fn: MSE\n",
      "\u001b[34m\u001b[1mwandb\u001b[0m: \tmodel_name: vgg16net_mlp\n",
      "\u001b[34m\u001b[1mwandb\u001b[0m: \tnum_classes: 11\n",
      "\u001b[34m\u001b[1mwandb\u001b[0m: \toptimizer: adam\n",
      "\u001b[34m\u001b[1mwandb\u001b[0m: \tscheduler: 0.1\n"
     ]
    },
    {
     "data": {
      "text/html": [
       "wandb version 0.16.1 is available!  To upgrade, please run:\n",
       " $ pip install wandb --upgrade"
      ],
      "text/plain": [
       "<IPython.core.display.HTML object>"
      ]
     },
     "metadata": {},
     "output_type": "display_data"
    },
    {
     "data": {
      "text/html": [
       "Tracking run with wandb version 0.16.0"
      ],
      "text/plain": [
       "<IPython.core.display.HTML object>"
      ]
     },
     "metadata": {},
     "output_type": "display_data"
    },
    {
     "data": {
      "text/html": [
       "Run data is saved locally in <code>/its/home/nn268/antvis/antvis/optics/wandb/run-20231207_031404-9nnllo4b</code>"
      ],
      "text/plain": [
       "<IPython.core.display.HTML object>"
      ]
     },
     "metadata": {},
     "output_type": "display_data"
    },
    {
     "data": {
      "text/html": [
       "Syncing run <strong><a href='https://wandb.ai/antvis/IDSW_vgg_fine_hp_80_112023/runs/9nnllo4b' target=\"_blank\">solar-sweep-13</a></strong> to <a href='https://wandb.ai/antvis/IDSW_vgg_fine_hp_80_112023' target=\"_blank\">Weights & Biases</a> (<a href='https://wandb.me/run' target=\"_blank\">docs</a>)<br/>Sweep page: <a href='https://wandb.ai/antvis/IDSW_vgg_fine_hp_80_112023/sweeps/obcz0eq3' target=\"_blank\">https://wandb.ai/antvis/IDSW_vgg_fine_hp_80_112023/sweeps/obcz0eq3</a>"
      ],
      "text/plain": [
       "<IPython.core.display.HTML object>"
      ]
     },
     "metadata": {},
     "output_type": "display_data"
    },
    {
     "data": {
      "text/html": [
       " View project at <a href='https://wandb.ai/antvis/IDSW_vgg_fine_hp_80_112023' target=\"_blank\">https://wandb.ai/antvis/IDSW_vgg_fine_hp_80_112023</a>"
      ],
      "text/plain": [
       "<IPython.core.display.HTML object>"
      ]
     },
     "metadata": {},
     "output_type": "display_data"
    },
    {
     "data": {
      "text/html": [
       " View sweep at <a href='https://wandb.ai/antvis/IDSW_vgg_fine_hp_80_112023/sweeps/obcz0eq3' target=\"_blank\">https://wandb.ai/antvis/IDSW_vgg_fine_hp_80_112023/sweeps/obcz0eq3</a>"
      ],
      "text/plain": [
       "<IPython.core.display.HTML object>"
      ]
     },
     "metadata": {},
     "output_type": "display_data"
    },
    {
     "data": {
      "text/html": [
       " View run at <a href='https://wandb.ai/antvis/IDSW_vgg_fine_hp_80_112023/runs/9nnllo4b' target=\"_blank\">https://wandb.ai/antvis/IDSW_vgg_fine_hp_80_112023/runs/9nnllo4b</a>"
      ],
      "text/plain": [
       "<IPython.core.display.HTML object>"
      ]
     },
     "metadata": {},
     "output_type": "display_data"
    },
    {
     "name": "stderr",
     "output_type": "stream",
     "text": [
      "\u001b[34m\u001b[1mwandb\u001b[0m: \u001b[33mWARNING\u001b[0m Ignored wandb.init() arg project when running a sweep.\n"
     ]
    },
    {
     "data": {
      "text/html": [
       "Finishing last run (ID:9nnllo4b) before initializing another..."
      ],
      "text/plain": [
       "<IPython.core.display.HTML object>"
      ]
     },
     "metadata": {},
     "output_type": "display_data"
    },
    {
     "data": {
      "application/vnd.jupyter.widget-view+json": {
       "model_id": "",
       "version_major": 2,
       "version_minor": 0
      },
      "text/plain": [
       "VBox(children=(Label(value='0.006 MB of 0.006 MB uploaded\\r'), FloatProgress(value=1.0, max=1.0)))"
      ]
     },
     "metadata": {},
     "output_type": "display_data"
    },
    {
     "data": {
      "text/html": [
       " View run <strong style=\"color:#cdcd00\">solar-sweep-13</strong> at: <a href='https://wandb.ai/antvis/IDSW_vgg_fine_hp_80_112023/runs/9nnllo4b' target=\"_blank\">https://wandb.ai/antvis/IDSW_vgg_fine_hp_80_112023/runs/9nnllo4b</a><br/>Synced 5 W&B file(s), 0 media file(s), 0 artifact file(s) and 0 other file(s)"
      ],
      "text/plain": [
       "<IPython.core.display.HTML object>"
      ]
     },
     "metadata": {},
     "output_type": "display_data"
    },
    {
     "data": {
      "text/html": [
       "Find logs at: <code>./wandb/run-20231207_031404-9nnllo4b/logs</code>"
      ],
      "text/plain": [
       "<IPython.core.display.HTML object>"
      ]
     },
     "metadata": {},
     "output_type": "display_data"
    },
    {
     "data": {
      "text/html": [
       "Successfully finished last run (ID:9nnllo4b). Initializing new run:<br/>"
      ],
      "text/plain": [
       "<IPython.core.display.HTML object>"
      ]
     },
     "metadata": {},
     "output_type": "display_data"
    },
    {
     "data": {
      "application/vnd.jupyter.widget-view+json": {
       "model_id": "153aa06f177349558c3b8fcef8fa96ea",
       "version_major": 2,
       "version_minor": 0
      },
      "text/plain": [
       "VBox(children=(Label(value='Waiting for wandb.init()...\\r'), FloatProgress(value=0.011112442766574936, max=1.0…"
      ]
     },
     "metadata": {},
     "output_type": "display_data"
    },
    {
     "data": {
      "text/html": [
       "wandb version 0.16.1 is available!  To upgrade, please run:\n",
       " $ pip install wandb --upgrade"
      ],
      "text/plain": [
       "<IPython.core.display.HTML object>"
      ]
     },
     "metadata": {},
     "output_type": "display_data"
    },
    {
     "data": {
      "text/html": [
       "Tracking run with wandb version 0.16.0"
      ],
      "text/plain": [
       "<IPython.core.display.HTML object>"
      ]
     },
     "metadata": {},
     "output_type": "display_data"
    },
    {
     "data": {
      "text/html": [
       "Run data is saved locally in <code>/its/home/nn268/antvis/antvis/optics/wandb/run-20231207_031405-9nnllo4b</code>"
      ],
      "text/plain": [
       "<IPython.core.display.HTML object>"
      ]
     },
     "metadata": {},
     "output_type": "display_data"
    },
    {
     "data": {
      "text/html": [
       "Syncing run <strong><a href='https://wandb.ai/antvis/IDSW_vgg_fine_hp_80_112023/runs/9nnllo4b' target=\"_blank\">solar-sweep-13</a></strong> to <a href='https://wandb.ai/antvis/IDSW_vgg_fine_hp_80_112023' target=\"_blank\">Weights & Biases</a> (<a href='https://wandb.me/run' target=\"_blank\">docs</a>)<br/>Sweep page: <a href='https://wandb.ai/antvis/IDSW_vgg_fine_hp_80_112023/sweeps/obcz0eq3' target=\"_blank\">https://wandb.ai/antvis/IDSW_vgg_fine_hp_80_112023/sweeps/obcz0eq3</a>"
      ],
      "text/plain": [
       "<IPython.core.display.HTML object>"
      ]
     },
     "metadata": {},
     "output_type": "display_data"
    },
    {
     "data": {
      "text/html": [
       " View project at <a href='https://wandb.ai/antvis/IDSW_vgg_fine_hp_80_112023' target=\"_blank\">https://wandb.ai/antvis/IDSW_vgg_fine_hp_80_112023</a>"
      ],
      "text/plain": [
       "<IPython.core.display.HTML object>"
      ]
     },
     "metadata": {},
     "output_type": "display_data"
    },
    {
     "data": {
      "text/html": [
       " View sweep at <a href='https://wandb.ai/antvis/IDSW_vgg_fine_hp_80_112023/sweeps/obcz0eq3' target=\"_blank\">https://wandb.ai/antvis/IDSW_vgg_fine_hp_80_112023/sweeps/obcz0eq3</a>"
      ],
      "text/plain": [
       "<IPython.core.display.HTML object>"
      ]
     },
     "metadata": {},
     "output_type": "display_data"
    },
    {
     "data": {
      "text/html": [
       " View run at <a href='https://wandb.ai/antvis/IDSW_vgg_fine_hp_80_112023/runs/9nnllo4b' target=\"_blank\">https://wandb.ai/antvis/IDSW_vgg_fine_hp_80_112023/runs/9nnllo4b</a>"
      ],
      "text/plain": [
       "<IPython.core.display.HTML object>"
      ]
     },
     "metadata": {},
     "output_type": "display_data"
    },
    {
     "name": "stderr",
     "output_type": "stream",
     "text": [
      "  0%| | 0/70 [00:"
     ]
    },
    {
     "name": "stdout",
     "output_type": "stream",
     "text": [
      "E    0\n",
      "training...\n",
      "validating...\n"
     ]
    },
    {
     "name": "stderr",
     "output_type": "stream",
     "text": [
      "  1%| | 1/70 [00:"
     ]
    },
    {
     "name": "stdout",
     "output_type": "stream",
     "text": [
      "improvment in metrics. model saved\n",
      "E    1\n",
      "training...\n",
      "validating...\n"
     ]
    },
    {
     "name": "stderr",
     "output_type": "stream",
     "text": [
      "  3%| | 2/70 [01:"
     ]
    },
    {
     "name": "stdout",
     "output_type": "stream",
     "text": [
      "E    2\n",
      "training...\n",
      "validating...\n"
     ]
    },
    {
     "name": "stderr",
     "output_type": "stream",
     "text": [
      "  4%| | 3/70 [02:"
     ]
    },
    {
     "name": "stdout",
     "output_type": "stream",
     "text": [
      "E    3\n",
      "training...\n",
      "validating...\n"
     ]
    },
    {
     "name": "stderr",
     "output_type": "stream",
     "text": [
      "  6%| | 4/70 [03:"
     ]
    },
    {
     "name": "stdout",
     "output_type": "stream",
     "text": [
      "E    4\n",
      "training...\n",
      "validating...\n"
     ]
    },
    {
     "name": "stderr",
     "output_type": "stream",
     "text": [
      "  7%| | 5/70 [03:"
     ]
    },
    {
     "name": "stdout",
     "output_type": "stream",
     "text": [
      "E    5\n",
      "training...\n",
      "validating...\n"
     ]
    },
    {
     "name": "stderr",
     "output_type": "stream",
     "text": [
      "  9%| | 6/70 [04:"
     ]
    },
    {
     "name": "stdout",
     "output_type": "stream",
     "text": [
      "E    6\n",
      "training...\n",
      "validating...\n"
     ]
    },
    {
     "name": "stderr",
     "output_type": "stream",
     "text": [
      " 10%| | 7/70 [05:"
     ]
    },
    {
     "name": "stdout",
     "output_type": "stream",
     "text": [
      "E    7\n",
      "training...\n",
      "validating...\n"
     ]
    },
    {
     "name": "stderr",
     "output_type": "stream",
     "text": [
      " 11%| | 8/70 [06:"
     ]
    },
    {
     "name": "stdout",
     "output_type": "stream",
     "text": [
      "E    8\n",
      "training...\n",
      "validating...\n"
     ]
    },
    {
     "name": "stderr",
     "output_type": "stream",
     "text": [
      " 13%|▏| 9/70 [06:"
     ]
    },
    {
     "name": "stdout",
     "output_type": "stream",
     "text": [
      "E    9\n",
      "training...\n",
      "validating...\n"
     ]
    },
    {
     "name": "stderr",
     "output_type": "stream",
     "text": [
      " 14%|▏| 10/70 [07"
     ]
    },
    {
     "name": "stdout",
     "output_type": "stream",
     "text": [
      "E    10\n",
      "training...\n",
      "validating...\n"
     ]
    },
    {
     "name": "stderr",
     "output_type": "stream",
     "text": [
      " 16%|▏| 11/70 [08"
     ]
    },
    {
     "name": "stdout",
     "output_type": "stream",
     "text": [
      "E    11\n",
      "training...\n",
      "validating...\n"
     ]
    },
    {
     "name": "stderr",
     "output_type": "stream",
     "text": [
      " 17%|▏| 12/70 [08"
     ]
    },
    {
     "name": "stdout",
     "output_type": "stream",
     "text": [
      "E    12\n",
      "training...\n",
      "validating...\n"
     ]
    },
    {
     "name": "stderr",
     "output_type": "stream",
     "text": [
      " 19%|▏| 13/70 [09"
     ]
    },
    {
     "name": "stdout",
     "output_type": "stream",
     "text": [
      "E    13\n",
      "training...\n",
      "validating...\n"
     ]
    },
    {
     "name": "stderr",
     "output_type": "stream",
     "text": [
      " 20%|▏| 14/70 [10"
     ]
    },
    {
     "name": "stdout",
     "output_type": "stream",
     "text": [
      "E    14\n",
      "training...\n",
      "validating...\n"
     ]
    },
    {
     "name": "stderr",
     "output_type": "stream",
     "text": [
      " 21%|▏| 15/70 [11"
     ]
    },
    {
     "name": "stdout",
     "output_type": "stream",
     "text": [
      "E    15\n",
      "training...\n",
      "validating...\n"
     ]
    },
    {
     "name": "stderr",
     "output_type": "stream",
     "text": [
      " 23%|▏| 16/70 [11"
     ]
    },
    {
     "name": "stdout",
     "output_type": "stream",
     "text": [
      "E    16\n",
      "training...\n",
      "validating...\n"
     ]
    },
    {
     "name": "stderr",
     "output_type": "stream",
     "text": [
      " 24%|▏| 17/70 [12"
     ]
    },
    {
     "name": "stdout",
     "output_type": "stream",
     "text": [
      "E    17\n",
      "training...\n",
      "validating...\n"
     ]
    },
    {
     "name": "stderr",
     "output_type": "stream",
     "text": [
      " 26%|▎| 18/70 [13"
     ]
    },
    {
     "name": "stdout",
     "output_type": "stream",
     "text": [
      "E    18\n",
      "training...\n",
      "validating...\n"
     ]
    },
    {
     "name": "stderr",
     "output_type": "stream",
     "text": [
      " 27%|▎| 19/70 [14"
     ]
    },
    {
     "name": "stdout",
     "output_type": "stream",
     "text": [
      "E    19\n",
      "training...\n",
      "validating...\n"
     ]
    },
    {
     "name": "stderr",
     "output_type": "stream",
     "text": [
      " 29%|▎| 20/70 [14"
     ]
    },
    {
     "name": "stdout",
     "output_type": "stream",
     "text": [
      "E    20\n",
      "training...\n",
      "validating...\n"
     ]
    },
    {
     "name": "stderr",
     "output_type": "stream",
     "text": [
      " 30%|▎| 21/70 [15"
     ]
    },
    {
     "name": "stdout",
     "output_type": "stream",
     "text": [
      "E    21\n",
      "training...\n",
      "validating...\n"
     ]
    },
    {
     "name": "stderr",
     "output_type": "stream",
     "text": [
      " 31%|▎| 22/70 [16"
     ]
    },
    {
     "name": "stdout",
     "output_type": "stream",
     "text": [
      "E    22\n",
      "training...\n",
      "validating...\n"
     ]
    },
    {
     "name": "stderr",
     "output_type": "stream",
     "text": [
      " 33%|▎| 23/70 [17"
     ]
    },
    {
     "name": "stdout",
     "output_type": "stream",
     "text": [
      "E    23\n",
      "training...\n",
      "validating...\n"
     ]
    },
    {
     "name": "stderr",
     "output_type": "stream",
     "text": [
      " 34%|▎| 24/70 [17"
     ]
    },
    {
     "name": "stdout",
     "output_type": "stream",
     "text": [
      "E    24\n",
      "training...\n",
      "validating...\n"
     ]
    },
    {
     "name": "stderr",
     "output_type": "stream",
     "text": [
      " 36%|▎| 25/70 [18"
     ]
    },
    {
     "name": "stdout",
     "output_type": "stream",
     "text": [
      "E    25\n",
      "training...\n",
      "validating...\n"
     ]
    },
    {
     "name": "stderr",
     "output_type": "stream",
     "text": [
      " 37%|▎| 26/70 [19"
     ]
    },
    {
     "name": "stdout",
     "output_type": "stream",
     "text": [
      "E    26\n",
      "training...\n",
      "validating...\n"
     ]
    },
    {
     "name": "stderr",
     "output_type": "stream",
     "text": [
      " 39%|▍| 27/70 [19"
     ]
    },
    {
     "name": "stdout",
     "output_type": "stream",
     "text": [
      "E    27\n",
      "training...\n",
      "validating...\n"
     ]
    },
    {
     "name": "stderr",
     "output_type": "stream",
     "text": [
      " 40%|▍| 28/70 [20"
     ]
    },
    {
     "name": "stdout",
     "output_type": "stream",
     "text": [
      "E    28\n",
      "training...\n",
      "validating...\n"
     ]
    },
    {
     "name": "stderr",
     "output_type": "stream",
     "text": [
      " 41%|▍| 29/70 [21"
     ]
    },
    {
     "name": "stdout",
     "output_type": "stream",
     "text": [
      "E    29\n",
      "training...\n",
      "validating...\n"
     ]
    },
    {
     "name": "stderr",
     "output_type": "stream",
     "text": [
      " 43%|▍| 30/70 [22"
     ]
    },
    {
     "name": "stdout",
     "output_type": "stream",
     "text": [
      "E    30\n",
      "training...\n",
      "validating...\n"
     ]
    },
    {
     "name": "stderr",
     "output_type": "stream",
     "text": [
      " 44%|▍| 31/70 [22"
     ]
    },
    {
     "name": "stdout",
     "output_type": "stream",
     "text": [
      "E    31\n",
      "training...\n",
      "validating...\n"
     ]
    },
    {
     "name": "stderr",
     "output_type": "stream",
     "text": [
      " 46%|▍| 32/70 [23"
     ]
    },
    {
     "name": "stdout",
     "output_type": "stream",
     "text": [
      "E    32\n",
      "training...\n",
      "validating...\n"
     ]
    },
    {
     "name": "stderr",
     "output_type": "stream",
     "text": [
      " 47%|▍| 33/70 [24"
     ]
    },
    {
     "name": "stdout",
     "output_type": "stream",
     "text": [
      "E    33\n",
      "training...\n",
      "validating...\n"
     ]
    },
    {
     "name": "stderr",
     "output_type": "stream",
     "text": [
      " 49%|▍| 34/70 [24"
     ]
    },
    {
     "name": "stdout",
     "output_type": "stream",
     "text": [
      "E    34\n",
      "training...\n",
      "validating...\n"
     ]
    },
    {
     "name": "stderr",
     "output_type": "stream",
     "text": [
      " 50%|▌| 35/70 [25"
     ]
    },
    {
     "name": "stdout",
     "output_type": "stream",
     "text": [
      "E    35\n",
      "training...\n",
      "validating...\n"
     ]
    },
    {
     "name": "stderr",
     "output_type": "stream",
     "text": [
      " 51%|▌| 36/70 [26"
     ]
    },
    {
     "name": "stdout",
     "output_type": "stream",
     "text": [
      "E    36\n",
      "training...\n",
      "validating...\n"
     ]
    },
    {
     "name": "stderr",
     "output_type": "stream",
     "text": [
      " 53%|▌| 37/70 [27"
     ]
    },
    {
     "name": "stdout",
     "output_type": "stream",
     "text": [
      "E    37\n",
      "training...\n",
      "validating...\n"
     ]
    },
    {
     "name": "stderr",
     "output_type": "stream",
     "text": [
      " 54%|▌| 38/70 [27"
     ]
    },
    {
     "name": "stdout",
     "output_type": "stream",
     "text": [
      "E    38\n",
      "training...\n",
      "validating...\n"
     ]
    },
    {
     "name": "stderr",
     "output_type": "stream",
     "text": [
      " 56%|▌| 39/70 [28"
     ]
    },
    {
     "name": "stdout",
     "output_type": "stream",
     "text": [
      "E    39\n",
      "training...\n",
      "validating...\n"
     ]
    },
    {
     "name": "stderr",
     "output_type": "stream",
     "text": [
      " 57%|▌| 40/70 [29"
     ]
    },
    {
     "name": "stdout",
     "output_type": "stream",
     "text": [
      "E    40\n",
      "training...\n",
      "validating...\n"
     ]
    },
    {
     "name": "stderr",
     "output_type": "stream",
     "text": [
      " 59%|▌| 41/70 [29"
     ]
    },
    {
     "name": "stdout",
     "output_type": "stream",
     "text": [
      "E    41\n",
      "training...\n",
      "validating...\n"
     ]
    },
    {
     "name": "stderr",
     "output_type": "stream",
     "text": [
      " 60%|▌| 42/70 [30"
     ]
    },
    {
     "name": "stdout",
     "output_type": "stream",
     "text": [
      "E    42\n",
      "training...\n",
      "validating...\n"
     ]
    },
    {
     "name": "stderr",
     "output_type": "stream",
     "text": [
      " 61%|▌| 43/70 [31"
     ]
    },
    {
     "name": "stdout",
     "output_type": "stream",
     "text": [
      "E    43\n",
      "training...\n",
      "validating...\n"
     ]
    },
    {
     "name": "stderr",
     "output_type": "stream",
     "text": [
      " 63%|▋| 44/70 [32"
     ]
    },
    {
     "name": "stdout",
     "output_type": "stream",
     "text": [
      "E    44\n",
      "training...\n",
      "validating...\n"
     ]
    },
    {
     "name": "stderr",
     "output_type": "stream",
     "text": [
      " 64%|▋| 45/70 [32"
     ]
    },
    {
     "name": "stdout",
     "output_type": "stream",
     "text": [
      "E    45\n",
      "training...\n",
      "validating...\n"
     ]
    },
    {
     "name": "stderr",
     "output_type": "stream",
     "text": [
      " 66%|▋| 46/70 [33"
     ]
    },
    {
     "name": "stdout",
     "output_type": "stream",
     "text": [
      "E    46\n",
      "training...\n",
      "validating...\n"
     ]
    },
    {
     "name": "stderr",
     "output_type": "stream",
     "text": [
      " 67%|▋| 47/70 [34"
     ]
    },
    {
     "name": "stdout",
     "output_type": "stream",
     "text": [
      "E    47\n",
      "training...\n",
      "validating...\n"
     ]
    },
    {
     "name": "stderr",
     "output_type": "stream",
     "text": [
      " 69%|▋| 48/70 [34"
     ]
    },
    {
     "name": "stdout",
     "output_type": "stream",
     "text": [
      "E    48\n",
      "training...\n",
      "validating...\n"
     ]
    },
    {
     "name": "stderr",
     "output_type": "stream",
     "text": [
      " 70%|▋| 49/70 [35"
     ]
    },
    {
     "name": "stdout",
     "output_type": "stream",
     "text": [
      "E    49\n",
      "training...\n",
      "validating...\n"
     ]
    },
    {
     "name": "stderr",
     "output_type": "stream",
     "text": [
      " 71%|▋| 50/70 [36"
     ]
    },
    {
     "name": "stdout",
     "output_type": "stream",
     "text": [
      "E    50\n",
      "training...\n",
      "validating...\n"
     ]
    },
    {
     "name": "stderr",
     "output_type": "stream",
     "text": [
      " 73%|▋| 51/70 [37"
     ]
    },
    {
     "name": "stdout",
     "output_type": "stream",
     "text": [
      "E    51\n",
      "training...\n",
      "validating...\n"
     ]
    },
    {
     "name": "stderr",
     "output_type": "stream",
     "text": [
      " 74%|▋| 52/70 [37"
     ]
    },
    {
     "name": "stdout",
     "output_type": "stream",
     "text": [
      "E    52\n",
      "training...\n",
      "validating...\n"
     ]
    },
    {
     "name": "stderr",
     "output_type": "stream",
     "text": [
      " 76%|▊| 53/70 [38"
     ]
    },
    {
     "name": "stdout",
     "output_type": "stream",
     "text": [
      "E    53\n",
      "training...\n",
      "validating...\n"
     ]
    },
    {
     "name": "stderr",
     "output_type": "stream",
     "text": [
      " 77%|▊| 54/70 [39"
     ]
    },
    {
     "name": "stdout",
     "output_type": "stream",
     "text": [
      "E    54\n",
      "training...\n",
      "validating...\n"
     ]
    },
    {
     "name": "stderr",
     "output_type": "stream",
     "text": [
      " 79%|▊| 55/70 [39"
     ]
    },
    {
     "name": "stdout",
     "output_type": "stream",
     "text": [
      "E    55\n",
      "training...\n",
      "validating...\n"
     ]
    },
    {
     "name": "stderr",
     "output_type": "stream",
     "text": [
      " 80%|▊| 56/70 [40"
     ]
    },
    {
     "name": "stdout",
     "output_type": "stream",
     "text": [
      "E    56\n",
      "training...\n",
      "validating...\n"
     ]
    },
    {
     "name": "stderr",
     "output_type": "stream",
     "text": [
      " 81%|▊| 57/70 [41"
     ]
    },
    {
     "name": "stdout",
     "output_type": "stream",
     "text": [
      "E    57\n",
      "training...\n",
      "validating...\n"
     ]
    },
    {
     "name": "stderr",
     "output_type": "stream",
     "text": [
      " 83%|▊| 58/70 [42"
     ]
    },
    {
     "name": "stdout",
     "output_type": "stream",
     "text": [
      "E    58\n",
      "training...\n",
      "validating...\n"
     ]
    },
    {
     "name": "stderr",
     "output_type": "stream",
     "text": [
      " 84%|▊| 59/70 [42"
     ]
    },
    {
     "name": "stdout",
     "output_type": "stream",
     "text": [
      "E    59\n",
      "training...\n",
      "validating...\n"
     ]
    },
    {
     "name": "stderr",
     "output_type": "stream",
     "text": [
      " 86%|▊| 60/70 [43"
     ]
    },
    {
     "name": "stdout",
     "output_type": "stream",
     "text": [
      "E    60\n",
      "training...\n",
      "validating...\n"
     ]
    },
    {
     "name": "stderr",
     "output_type": "stream",
     "text": [
      " 87%|▊| 61/70 [44"
     ]
    },
    {
     "name": "stdout",
     "output_type": "stream",
     "text": [
      "E    61\n",
      "training...\n",
      "validating...\n"
     ]
    },
    {
     "name": "stderr",
     "output_type": "stream",
     "text": [
      " 89%|▉| 62/70 [44"
     ]
    },
    {
     "name": "stdout",
     "output_type": "stream",
     "text": [
      "E    62\n",
      "training...\n",
      "validating...\n"
     ]
    },
    {
     "name": "stderr",
     "output_type": "stream",
     "text": [
      " 90%|▉| 63/70 [45"
     ]
    },
    {
     "name": "stdout",
     "output_type": "stream",
     "text": [
      "E    63\n",
      "training...\n",
      "validating...\n"
     ]
    },
    {
     "name": "stderr",
     "output_type": "stream",
     "text": [
      " 91%|▉| 64/70 [46"
     ]
    },
    {
     "name": "stdout",
     "output_type": "stream",
     "text": [
      "E    64\n",
      "training...\n",
      "validating...\n"
     ]
    },
    {
     "name": "stderr",
     "output_type": "stream",
     "text": [
      " 93%|▉| 65/70 [47"
     ]
    },
    {
     "name": "stdout",
     "output_type": "stream",
     "text": [
      "E    65\n",
      "training...\n",
      "validating...\n"
     ]
    },
    {
     "name": "stderr",
     "output_type": "stream",
     "text": [
      " 94%|▉| 66/70 [47"
     ]
    },
    {
     "name": "stdout",
     "output_type": "stream",
     "text": [
      "E    66\n",
      "training...\n",
      "validating...\n"
     ]
    },
    {
     "name": "stderr",
     "output_type": "stream",
     "text": [
      " 96%|▉| 67/70 [48"
     ]
    },
    {
     "name": "stdout",
     "output_type": "stream",
     "text": [
      "E    67\n",
      "training...\n",
      "validating...\n"
     ]
    },
    {
     "name": "stderr",
     "output_type": "stream",
     "text": [
      " 97%|▉| 68/70 [49"
     ]
    },
    {
     "name": "stdout",
     "output_type": "stream",
     "text": [
      "E    68\n",
      "training...\n",
      "validating...\n"
     ]
    },
    {
     "name": "stderr",
     "output_type": "stream",
     "text": [
      " 99%|▉| 69/70 [50"
     ]
    },
    {
     "name": "stdout",
     "output_type": "stream",
     "text": [
      "E    69\n",
      "training...\n",
      "validating...\n"
     ]
    },
    {
     "name": "stderr",
     "output_type": "stream",
     "text": [
      "100%|█| 70/70 [50\n"
     ]
    },
    {
     "data": {
      "application/vnd.jupyter.widget-view+json": {
       "model_id": "",
       "version_major": 2,
       "version_minor": 0
      },
      "text/plain": [
       "VBox(children=(Label(value='0.006 MB of 0.006 MB uploaded\\r'), FloatProgress(value=1.0, max=1.0)))"
      ]
     },
     "metadata": {},
     "output_type": "display_data"
    },
    {
     "data": {
      "text/html": [
       "<style>\n",
       "    table.wandb td:nth-child(1) { padding: 0 10px; text-align: left ; width: auto;} td:nth-child(2) {text-align: left ; width: 100%}\n",
       "    .wandb-row { display: flex; flex-direction: row; flex-wrap: wrap; justify-content: flex-start; width: 100% }\n",
       "    .wandb-col { display: flex; flex-direction: column; flex-basis: 100%; flex: 1; padding: 10px; }\n",
       "    </style>\n",
       "<div class=\"wandb-row\"><div class=\"wandb-col\"><h3>Run history:</h3><br/><table class=\"wandb\"><tr><td>epoch</td><td>▁▁▁▁▂▂▂▂▂▃▃▃▃▃▃▄▄▄▄▄▅▅▅▅▅▆▆▆▆▆▆▇▇▇▇▇████</td></tr><tr><td>t_loss</td><td>▁▁▁▁▁▁▁▁▁▁▁▁▁▁▁▁▁▁▁▁▁▁▁▁▁▁▁▁▁▁▁▁▁▁▁</td></tr><tr><td>train_accuracy_%</td><td>▁▁▁▁▁▁▁▁▁▁▁▁▁▁▁▁▁▁▁▁▁▁▁▁▁▁▁▁▁▁▁▁▁▁▁</td></tr><tr><td>v_loss</td><td>▁▁▁▁▁▁▁▁▁▁▁▁▁▁▁▁▁▁▁▁▁▁▁▁▁▁▁▁▁▁▁▁▁▁▁</td></tr><tr><td>val_accuracy_%</td><td>▁▁▁▁▁▁▁▁▁▁▁▁▁▁▁▁▁▁▁▁▁▁▁▁▁▁▁▁▁▁▁▁▁▁▁</td></tr></table><br/></div><div class=\"wandb-col\"><h3>Run summary:</h3><br/><table class=\"wandb\"><tr><td>epoch</td><td>69</td></tr><tr><td>t_loss</td><td>0.0</td></tr><tr><td>train_accuracy_%</td><td>0.10519</td></tr><tr><td>v_loss</td><td>0.18182</td></tr><tr><td>val_accuracy_%</td><td>0.09455</td></tr></table><br/></div></div>"
      ],
      "text/plain": [
       "<IPython.core.display.HTML object>"
      ]
     },
     "metadata": {},
     "output_type": "display_data"
    },
    {
     "data": {
      "text/html": [
       " View run <strong style=\"color:#cdcd00\">solar-sweep-13</strong> at: <a href='https://wandb.ai/antvis/IDSW_vgg_fine_hp_80_112023/runs/9nnllo4b' target=\"_blank\">https://wandb.ai/antvis/IDSW_vgg_fine_hp_80_112023/runs/9nnllo4b</a><br/>Synced 5 W&B file(s), 0 media file(s), 0 artifact file(s) and 0 other file(s)"
      ],
      "text/plain": [
       "<IPython.core.display.HTML object>"
      ]
     },
     "metadata": {},
     "output_type": "display_data"
    },
    {
     "data": {
      "text/html": [
       "Find logs at: <code>./wandb/run-20231207_031405-9nnllo4b/logs</code>"
      ],
      "text/plain": [
       "<IPython.core.display.HTML object>"
      ]
     },
     "metadata": {},
     "output_type": "display_data"
    },
    {
     "name": "stderr",
     "output_type": "stream",
     "text": [
      "\u001b[34m\u001b[1mwandb\u001b[0m: Agent Starting Run: z2u3xqry with config:\n",
      "\u001b[34m\u001b[1mwandb\u001b[0m: \tchannels: 3\n",
      "\u001b[34m\u001b[1mwandb\u001b[0m: \tdata_set: Augmented\n",
      "\u001b[34m\u001b[1mwandb\u001b[0m: \tepochs: 70\n",
      "\u001b[34m\u001b[1mwandb\u001b[0m: \tfirst_lin_lay: 248832\n",
      "\u001b[34m\u001b[1mwandb\u001b[0m: \timage_path: /its/home/nn268/optics/AugmentedDS_IDSW/\n",
      "\u001b[34m\u001b[1mwandb\u001b[0m: \tks: [3, 5]\n",
      "\u001b[34m\u001b[1mwandb\u001b[0m: \tlearning_rate: 0.0010179008047277963\n",
      "\u001b[34m\u001b[1mwandb\u001b[0m: \tloss_fn: MSE\n",
      "\u001b[34m\u001b[1mwandb\u001b[0m: \tmodel_name: vgg16net_mlp\n",
      "\u001b[34m\u001b[1mwandb\u001b[0m: \tnum_classes: 11\n",
      "\u001b[34m\u001b[1mwandb\u001b[0m: \toptimizer: adam\n",
      "\u001b[34m\u001b[1mwandb\u001b[0m: \tscheduler: 0.01\n"
     ]
    },
    {
     "data": {
      "text/html": [
       "wandb version 0.16.1 is available!  To upgrade, please run:\n",
       " $ pip install wandb --upgrade"
      ],
      "text/plain": [
       "<IPython.core.display.HTML object>"
      ]
     },
     "metadata": {},
     "output_type": "display_data"
    },
    {
     "data": {
      "text/html": [
       "Tracking run with wandb version 0.16.0"
      ],
      "text/plain": [
       "<IPython.core.display.HTML object>"
      ]
     },
     "metadata": {},
     "output_type": "display_data"
    },
    {
     "data": {
      "text/html": [
       "Run data is saved locally in <code>/its/home/nn268/antvis/antvis/optics/wandb/run-20231207_040502-z2u3xqry</code>"
      ],
      "text/plain": [
       "<IPython.core.display.HTML object>"
      ]
     },
     "metadata": {},
     "output_type": "display_data"
    },
    {
     "data": {
      "text/html": [
       "Syncing run <strong><a href='https://wandb.ai/antvis/IDSW_vgg_fine_hp_80_112023/runs/z2u3xqry' target=\"_blank\">charmed-sweep-14</a></strong> to <a href='https://wandb.ai/antvis/IDSW_vgg_fine_hp_80_112023' target=\"_blank\">Weights & Biases</a> (<a href='https://wandb.me/run' target=\"_blank\">docs</a>)<br/>Sweep page: <a href='https://wandb.ai/antvis/IDSW_vgg_fine_hp_80_112023/sweeps/obcz0eq3' target=\"_blank\">https://wandb.ai/antvis/IDSW_vgg_fine_hp_80_112023/sweeps/obcz0eq3</a>"
      ],
      "text/plain": [
       "<IPython.core.display.HTML object>"
      ]
     },
     "metadata": {},
     "output_type": "display_data"
    },
    {
     "data": {
      "text/html": [
       " View project at <a href='https://wandb.ai/antvis/IDSW_vgg_fine_hp_80_112023' target=\"_blank\">https://wandb.ai/antvis/IDSW_vgg_fine_hp_80_112023</a>"
      ],
      "text/plain": [
       "<IPython.core.display.HTML object>"
      ]
     },
     "metadata": {},
     "output_type": "display_data"
    },
    {
     "data": {
      "text/html": [
       " View sweep at <a href='https://wandb.ai/antvis/IDSW_vgg_fine_hp_80_112023/sweeps/obcz0eq3' target=\"_blank\">https://wandb.ai/antvis/IDSW_vgg_fine_hp_80_112023/sweeps/obcz0eq3</a>"
      ],
      "text/plain": [
       "<IPython.core.display.HTML object>"
      ]
     },
     "metadata": {},
     "output_type": "display_data"
    },
    {
     "data": {
      "text/html": [
       " View run at <a href='https://wandb.ai/antvis/IDSW_vgg_fine_hp_80_112023/runs/z2u3xqry' target=\"_blank\">https://wandb.ai/antvis/IDSW_vgg_fine_hp_80_112023/runs/z2u3xqry</a>"
      ],
      "text/plain": [
       "<IPython.core.display.HTML object>"
      ]
     },
     "metadata": {},
     "output_type": "display_data"
    },
    {
     "name": "stderr",
     "output_type": "stream",
     "text": [
      "\u001b[34m\u001b[1mwandb\u001b[0m: \u001b[33mWARNING\u001b[0m Ignored wandb.init() arg project when running a sweep.\n"
     ]
    },
    {
     "data": {
      "text/html": [
       "Finishing last run (ID:z2u3xqry) before initializing another..."
      ],
      "text/plain": [
       "<IPython.core.display.HTML object>"
      ]
     },
     "metadata": {},
     "output_type": "display_data"
    },
    {
     "data": {
      "application/vnd.jupyter.widget-view+json": {
       "model_id": "",
       "version_major": 2,
       "version_minor": 0
      },
      "text/plain": [
       "VBox(children=(Label(value='0.006 MB of 0.006 MB uploaded\\r'), FloatProgress(value=1.0, max=1.0)))"
      ]
     },
     "metadata": {},
     "output_type": "display_data"
    },
    {
     "data": {
      "text/html": [
       " View run <strong style=\"color:#cdcd00\">charmed-sweep-14</strong> at: <a href='https://wandb.ai/antvis/IDSW_vgg_fine_hp_80_112023/runs/z2u3xqry' target=\"_blank\">https://wandb.ai/antvis/IDSW_vgg_fine_hp_80_112023/runs/z2u3xqry</a><br/>Synced 5 W&B file(s), 0 media file(s), 0 artifact file(s) and 0 other file(s)"
      ],
      "text/plain": [
       "<IPython.core.display.HTML object>"
      ]
     },
     "metadata": {},
     "output_type": "display_data"
    },
    {
     "data": {
      "text/html": [
       "Find logs at: <code>./wandb/run-20231207_040502-z2u3xqry/logs</code>"
      ],
      "text/plain": [
       "<IPython.core.display.HTML object>"
      ]
     },
     "metadata": {},
     "output_type": "display_data"
    },
    {
     "data": {
      "text/html": [
       "Successfully finished last run (ID:z2u3xqry). Initializing new run:<br/>"
      ],
      "text/plain": [
       "<IPython.core.display.HTML object>"
      ]
     },
     "metadata": {},
     "output_type": "display_data"
    },
    {
     "data": {
      "application/vnd.jupyter.widget-view+json": {
       "model_id": "640a1b0297474ebbb24b79585ecf87a8",
       "version_major": 2,
       "version_minor": 0
      },
      "text/plain": [
       "VBox(children=(Label(value='Waiting for wandb.init()...\\r'), FloatProgress(value=0.01111271471147322, max=1.0)…"
      ]
     },
     "metadata": {},
     "output_type": "display_data"
    },
    {
     "data": {
      "text/html": [
       "wandb version 0.16.1 is available!  To upgrade, please run:\n",
       " $ pip install wandb --upgrade"
      ],
      "text/plain": [
       "<IPython.core.display.HTML object>"
      ]
     },
     "metadata": {},
     "output_type": "display_data"
    },
    {
     "data": {
      "text/html": [
       "Tracking run with wandb version 0.16.0"
      ],
      "text/plain": [
       "<IPython.core.display.HTML object>"
      ]
     },
     "metadata": {},
     "output_type": "display_data"
    },
    {
     "data": {
      "text/html": [
       "Run data is saved locally in <code>/its/home/nn268/antvis/antvis/optics/wandb/run-20231207_040503-z2u3xqry</code>"
      ],
      "text/plain": [
       "<IPython.core.display.HTML object>"
      ]
     },
     "metadata": {},
     "output_type": "display_data"
    },
    {
     "data": {
      "text/html": [
       "Syncing run <strong><a href='https://wandb.ai/antvis/IDSW_vgg_fine_hp_80_112023/runs/z2u3xqry' target=\"_blank\">charmed-sweep-14</a></strong> to <a href='https://wandb.ai/antvis/IDSW_vgg_fine_hp_80_112023' target=\"_blank\">Weights & Biases</a> (<a href='https://wandb.me/run' target=\"_blank\">docs</a>)<br/>Sweep page: <a href='https://wandb.ai/antvis/IDSW_vgg_fine_hp_80_112023/sweeps/obcz0eq3' target=\"_blank\">https://wandb.ai/antvis/IDSW_vgg_fine_hp_80_112023/sweeps/obcz0eq3</a>"
      ],
      "text/plain": [
       "<IPython.core.display.HTML object>"
      ]
     },
     "metadata": {},
     "output_type": "display_data"
    },
    {
     "data": {
      "text/html": [
       " View project at <a href='https://wandb.ai/antvis/IDSW_vgg_fine_hp_80_112023' target=\"_blank\">https://wandb.ai/antvis/IDSW_vgg_fine_hp_80_112023</a>"
      ],
      "text/plain": [
       "<IPython.core.display.HTML object>"
      ]
     },
     "metadata": {},
     "output_type": "display_data"
    },
    {
     "data": {
      "text/html": [
       " View sweep at <a href='https://wandb.ai/antvis/IDSW_vgg_fine_hp_80_112023/sweeps/obcz0eq3' target=\"_blank\">https://wandb.ai/antvis/IDSW_vgg_fine_hp_80_112023/sweeps/obcz0eq3</a>"
      ],
      "text/plain": [
       "<IPython.core.display.HTML object>"
      ]
     },
     "metadata": {},
     "output_type": "display_data"
    },
    {
     "data": {
      "text/html": [
       " View run at <a href='https://wandb.ai/antvis/IDSW_vgg_fine_hp_80_112023/runs/z2u3xqry' target=\"_blank\">https://wandb.ai/antvis/IDSW_vgg_fine_hp_80_112023/runs/z2u3xqry</a>"
      ],
      "text/plain": [
       "<IPython.core.display.HTML object>"
      ]
     },
     "metadata": {},
     "output_type": "display_data"
    },
    {
     "name": "stderr",
     "output_type": "stream",
     "text": [
      "  0%| | 0/70 [00:"
     ]
    },
    {
     "name": "stdout",
     "output_type": "stream",
     "text": [
      "E    0\n",
      "training...\n",
      "validating...\n"
     ]
    },
    {
     "name": "stderr",
     "output_type": "stream",
     "text": [
      "  1%| | 1/70 [00:"
     ]
    },
    {
     "name": "stdout",
     "output_type": "stream",
     "text": [
      "improvment in metrics. model saved\n",
      "E    1\n",
      "training...\n",
      "validating...\n"
     ]
    },
    {
     "name": "stderr",
     "output_type": "stream",
     "text": [
      "  3%| | 2/70 [01:"
     ]
    },
    {
     "name": "stdout",
     "output_type": "stream",
     "text": [
      "E    2\n",
      "training...\n",
      "validating...\n"
     ]
    },
    {
     "name": "stderr",
     "output_type": "stream",
     "text": [
      "  4%| | 3/70 [02:"
     ]
    },
    {
     "name": "stdout",
     "output_type": "stream",
     "text": [
      "E    3\n",
      "training...\n",
      "validating...\n"
     ]
    },
    {
     "name": "stderr",
     "output_type": "stream",
     "text": [
      "  6%| | 4/70 [03:"
     ]
    },
    {
     "name": "stdout",
     "output_type": "stream",
     "text": [
      "E    4\n",
      "training...\n",
      "validating...\n"
     ]
    },
    {
     "name": "stderr",
     "output_type": "stream",
     "text": [
      "  7%| | 5/70 [03:"
     ]
    },
    {
     "name": "stdout",
     "output_type": "stream",
     "text": [
      "E    5\n",
      "training...\n",
      "validating...\n"
     ]
    },
    {
     "name": "stderr",
     "output_type": "stream",
     "text": [
      "  9%| | 6/70 [04:"
     ]
    },
    {
     "name": "stdout",
     "output_type": "stream",
     "text": [
      "E    6\n",
      "training...\n",
      "validating...\n"
     ]
    },
    {
     "name": "stderr",
     "output_type": "stream",
     "text": [
      " 10%| | 7/70 [05:"
     ]
    },
    {
     "name": "stdout",
     "output_type": "stream",
     "text": [
      "E    7\n",
      "training...\n",
      "validating...\n"
     ]
    },
    {
     "name": "stderr",
     "output_type": "stream",
     "text": [
      " 11%| | 8/70 [06:"
     ]
    },
    {
     "name": "stdout",
     "output_type": "stream",
     "text": [
      "E    8\n",
      "training...\n",
      "validating...\n"
     ]
    },
    {
     "name": "stderr",
     "output_type": "stream",
     "text": [
      " 13%|▏| 9/70 [06:"
     ]
    },
    {
     "name": "stdout",
     "output_type": "stream",
     "text": [
      "E    9\n",
      "training...\n",
      "validating...\n"
     ]
    },
    {
     "name": "stderr",
     "output_type": "stream",
     "text": [
      " 14%|▏| 10/70 [07"
     ]
    },
    {
     "name": "stdout",
     "output_type": "stream",
     "text": [
      "E    10\n",
      "training...\n",
      "validating...\n"
     ]
    },
    {
     "name": "stderr",
     "output_type": "stream",
     "text": [
      " 16%|▏| 11/70 [08"
     ]
    },
    {
     "name": "stdout",
     "output_type": "stream",
     "text": [
      "E    11\n",
      "training...\n",
      "validating...\n"
     ]
    },
    {
     "name": "stderr",
     "output_type": "stream",
     "text": [
      " 17%|▏| 12/70 [09"
     ]
    },
    {
     "name": "stdout",
     "output_type": "stream",
     "text": [
      "E    12\n",
      "training...\n",
      "validating...\n"
     ]
    },
    {
     "name": "stderr",
     "output_type": "stream",
     "text": [
      " 19%|▏| 13/70 [09"
     ]
    },
    {
     "name": "stdout",
     "output_type": "stream",
     "text": [
      "E    13\n",
      "training...\n",
      "validating...\n"
     ]
    },
    {
     "name": "stderr",
     "output_type": "stream",
     "text": [
      " 20%|▏| 14/70 [10"
     ]
    },
    {
     "name": "stdout",
     "output_type": "stream",
     "text": [
      "E    14\n",
      "training...\n",
      "validating...\n"
     ]
    },
    {
     "name": "stderr",
     "output_type": "stream",
     "text": [
      " 21%|▏| 15/70 [11"
     ]
    },
    {
     "name": "stdout",
     "output_type": "stream",
     "text": [
      "E    15\n",
      "training...\n",
      "validating...\n"
     ]
    },
    {
     "name": "stderr",
     "output_type": "stream",
     "text": [
      " 23%|▏| 16/70 [11"
     ]
    },
    {
     "name": "stdout",
     "output_type": "stream",
     "text": [
      "E    16\n",
      "training...\n",
      "validating...\n"
     ]
    },
    {
     "name": "stderr",
     "output_type": "stream",
     "text": [
      " 24%|▏| 17/70 [12"
     ]
    },
    {
     "name": "stdout",
     "output_type": "stream",
     "text": [
      "E    17\n",
      "training...\n",
      "validating...\n"
     ]
    },
    {
     "name": "stderr",
     "output_type": "stream",
     "text": [
      " 26%|▎| 18/70 [13"
     ]
    },
    {
     "name": "stdout",
     "output_type": "stream",
     "text": [
      "E    18\n",
      "training...\n",
      "validating...\n"
     ]
    },
    {
     "name": "stderr",
     "output_type": "stream",
     "text": [
      " 27%|▎| 19/70 [14"
     ]
    },
    {
     "name": "stdout",
     "output_type": "stream",
     "text": [
      "E    19\n",
      "training...\n",
      "validating...\n"
     ]
    },
    {
     "name": "stderr",
     "output_type": "stream",
     "text": [
      " 29%|▎| 20/70 [14"
     ]
    },
    {
     "name": "stdout",
     "output_type": "stream",
     "text": [
      "E    20\n",
      "training...\n",
      "validating...\n"
     ]
    },
    {
     "name": "stderr",
     "output_type": "stream",
     "text": [
      " 30%|▎| 21/70 [15"
     ]
    },
    {
     "name": "stdout",
     "output_type": "stream",
     "text": [
      "E    21\n",
      "training...\n",
      "validating...\n"
     ]
    },
    {
     "name": "stderr",
     "output_type": "stream",
     "text": [
      " 31%|▎| 22/70 [16"
     ]
    },
    {
     "name": "stdout",
     "output_type": "stream",
     "text": [
      "E    22\n",
      "training...\n",
      "validating...\n"
     ]
    },
    {
     "name": "stderr",
     "output_type": "stream",
     "text": [
      " 33%|▎| 23/70 [17"
     ]
    },
    {
     "name": "stdout",
     "output_type": "stream",
     "text": [
      "E    23\n",
      "training...\n",
      "validating...\n"
     ]
    },
    {
     "name": "stderr",
     "output_type": "stream",
     "text": [
      " 34%|▎| 24/70 [17"
     ]
    },
    {
     "name": "stdout",
     "output_type": "stream",
     "text": [
      "E    24\n",
      "training...\n",
      "validating...\n"
     ]
    },
    {
     "name": "stderr",
     "output_type": "stream",
     "text": [
      " 36%|▎| 25/70 [18"
     ]
    },
    {
     "name": "stdout",
     "output_type": "stream",
     "text": [
      "E    25\n",
      "training...\n",
      "validating...\n"
     ]
    },
    {
     "name": "stderr",
     "output_type": "stream",
     "text": [
      " 37%|▎| 26/70 [19"
     ]
    },
    {
     "name": "stdout",
     "output_type": "stream",
     "text": [
      "E    26\n",
      "training...\n",
      "validating...\n"
     ]
    },
    {
     "name": "stderr",
     "output_type": "stream",
     "text": [
      " 39%|▍| 27/70 [20"
     ]
    },
    {
     "name": "stdout",
     "output_type": "stream",
     "text": [
      "E    27\n",
      "training...\n",
      "validating...\n"
     ]
    },
    {
     "name": "stderr",
     "output_type": "stream",
     "text": [
      " 40%|▍| 28/70 [20"
     ]
    },
    {
     "name": "stdout",
     "output_type": "stream",
     "text": [
      "E    28\n",
      "training...\n",
      "validating...\n"
     ]
    },
    {
     "name": "stderr",
     "output_type": "stream",
     "text": [
      " 41%|▍| 29/70 [21"
     ]
    },
    {
     "name": "stdout",
     "output_type": "stream",
     "text": [
      "E    29\n",
      "training...\n",
      "validating...\n"
     ]
    },
    {
     "name": "stderr",
     "output_type": "stream",
     "text": [
      " 43%|▍| 30/70 [22"
     ]
    },
    {
     "name": "stdout",
     "output_type": "stream",
     "text": [
      "E    30\n",
      "training...\n",
      "validating...\n"
     ]
    },
    {
     "name": "stderr",
     "output_type": "stream",
     "text": [
      " 44%|▍| 31/70 [22"
     ]
    },
    {
     "name": "stdout",
     "output_type": "stream",
     "text": [
      "E    31\n",
      "training...\n",
      "validating...\n"
     ]
    },
    {
     "name": "stderr",
     "output_type": "stream",
     "text": [
      " 46%|▍| 32/70 [23"
     ]
    },
    {
     "name": "stdout",
     "output_type": "stream",
     "text": [
      "E    32\n",
      "training...\n",
      "validating...\n"
     ]
    },
    {
     "name": "stderr",
     "output_type": "stream",
     "text": [
      " 47%|▍| 33/70 [24"
     ]
    },
    {
     "name": "stdout",
     "output_type": "stream",
     "text": [
      "E    33\n",
      "training...\n",
      "validating...\n"
     ]
    },
    {
     "name": "stderr",
     "output_type": "stream",
     "text": [
      " 49%|▍| 34/70 [25"
     ]
    },
    {
     "name": "stdout",
     "output_type": "stream",
     "text": [
      "E    34\n",
      "training...\n",
      "validating...\n"
     ]
    },
    {
     "name": "stderr",
     "output_type": "stream",
     "text": [
      " 50%|▌| 35/70 [25"
     ]
    },
    {
     "name": "stdout",
     "output_type": "stream",
     "text": [
      "E    35\n",
      "training...\n",
      "validating...\n"
     ]
    },
    {
     "name": "stderr",
     "output_type": "stream",
     "text": [
      " 51%|▌| 36/70 [26"
     ]
    },
    {
     "name": "stdout",
     "output_type": "stream",
     "text": [
      "E    36\n",
      "training...\n",
      "validating...\n"
     ]
    },
    {
     "name": "stderr",
     "output_type": "stream",
     "text": [
      " 53%|▌| 37/70 [27"
     ]
    },
    {
     "name": "stdout",
     "output_type": "stream",
     "text": [
      "E    37\n",
      "training...\n",
      "validating...\n"
     ]
    },
    {
     "name": "stderr",
     "output_type": "stream",
     "text": [
      " 54%|▌| 38/70 [27"
     ]
    },
    {
     "name": "stdout",
     "output_type": "stream",
     "text": [
      "E    38\n",
      "training...\n",
      "validating...\n"
     ]
    },
    {
     "name": "stderr",
     "output_type": "stream",
     "text": [
      " 56%|▌| 39/70 [28"
     ]
    },
    {
     "name": "stdout",
     "output_type": "stream",
     "text": [
      "E    39\n",
      "training...\n",
      "validating...\n"
     ]
    },
    {
     "name": "stderr",
     "output_type": "stream",
     "text": [
      " 57%|▌| 40/70 [29"
     ]
    },
    {
     "name": "stdout",
     "output_type": "stream",
     "text": [
      "E    40\n",
      "training...\n",
      "validating...\n"
     ]
    },
    {
     "name": "stderr",
     "output_type": "stream",
     "text": [
      " 59%|▌| 41/70 [30"
     ]
    },
    {
     "name": "stdout",
     "output_type": "stream",
     "text": [
      "E    41\n",
      "training...\n",
      "validating...\n"
     ]
    },
    {
     "name": "stderr",
     "output_type": "stream",
     "text": [
      " 60%|▌| 42/70 [30"
     ]
    },
    {
     "name": "stdout",
     "output_type": "stream",
     "text": [
      "E    42\n",
      "training...\n",
      "validating...\n"
     ]
    },
    {
     "name": "stderr",
     "output_type": "stream",
     "text": [
      " 61%|▌| 43/70 [31"
     ]
    },
    {
     "name": "stdout",
     "output_type": "stream",
     "text": [
      "E    43\n",
      "training...\n",
      "validating...\n"
     ]
    },
    {
     "name": "stderr",
     "output_type": "stream",
     "text": [
      " 63%|▋| 44/70 [32"
     ]
    },
    {
     "name": "stdout",
     "output_type": "stream",
     "text": [
      "E    44\n",
      "training...\n",
      "validating...\n"
     ]
    },
    {
     "name": "stderr",
     "output_type": "stream",
     "text": [
      " 64%|▋| 45/70 [33"
     ]
    },
    {
     "name": "stdout",
     "output_type": "stream",
     "text": [
      "E    45\n",
      "training...\n",
      "validating...\n"
     ]
    },
    {
     "name": "stderr",
     "output_type": "stream",
     "text": [
      " 66%|▋| 46/70 [33"
     ]
    },
    {
     "name": "stdout",
     "output_type": "stream",
     "text": [
      "E    46\n",
      "training...\n",
      "validating...\n"
     ]
    },
    {
     "name": "stderr",
     "output_type": "stream",
     "text": [
      " 67%|▋| 47/70 [34"
     ]
    },
    {
     "name": "stdout",
     "output_type": "stream",
     "text": [
      "E    47\n",
      "training...\n",
      "validating...\n"
     ]
    },
    {
     "name": "stderr",
     "output_type": "stream",
     "text": [
      " 69%|▋| 48/70 [35"
     ]
    },
    {
     "name": "stdout",
     "output_type": "stream",
     "text": [
      "E    48\n",
      "training...\n",
      "validating...\n"
     ]
    },
    {
     "name": "stderr",
     "output_type": "stream",
     "text": [
      " 70%|▋| 49/70 [35"
     ]
    },
    {
     "name": "stdout",
     "output_type": "stream",
     "text": [
      "E    49\n",
      "training...\n",
      "validating...\n"
     ]
    },
    {
     "name": "stderr",
     "output_type": "stream",
     "text": [
      " 71%|▋| 50/70 [36"
     ]
    },
    {
     "name": "stdout",
     "output_type": "stream",
     "text": [
      "E    50\n",
      "training...\n",
      "validating...\n"
     ]
    },
    {
     "name": "stderr",
     "output_type": "stream",
     "text": [
      " 73%|▋| 51/70 [37"
     ]
    },
    {
     "name": "stdout",
     "output_type": "stream",
     "text": [
      "E    51\n",
      "training...\n",
      "validating...\n"
     ]
    },
    {
     "name": "stderr",
     "output_type": "stream",
     "text": [
      " 74%|▋| 52/70 [38"
     ]
    },
    {
     "name": "stdout",
     "output_type": "stream",
     "text": [
      "E    52\n",
      "training...\n",
      "validating...\n"
     ]
    },
    {
     "name": "stderr",
     "output_type": "stream",
     "text": [
      " 76%|▊| 53/70 [38"
     ]
    },
    {
     "name": "stdout",
     "output_type": "stream",
     "text": [
      "E    53\n",
      "training...\n",
      "validating...\n"
     ]
    },
    {
     "name": "stderr",
     "output_type": "stream",
     "text": [
      " 77%|▊| 54/70 [39"
     ]
    },
    {
     "name": "stdout",
     "output_type": "stream",
     "text": [
      "E    54\n",
      "training...\n",
      "validating...\n"
     ]
    },
    {
     "name": "stderr",
     "output_type": "stream",
     "text": [
      " 79%|▊| 55/70 [40"
     ]
    },
    {
     "name": "stdout",
     "output_type": "stream",
     "text": [
      "E    55\n",
      "training...\n",
      "validating...\n"
     ]
    },
    {
     "name": "stderr",
     "output_type": "stream",
     "text": [
      " 80%|▊| 56/70 [40"
     ]
    },
    {
     "name": "stdout",
     "output_type": "stream",
     "text": [
      "E    56\n",
      "training...\n",
      "validating...\n"
     ]
    },
    {
     "name": "stderr",
     "output_type": "stream",
     "text": [
      " 81%|▊| 57/70 [41"
     ]
    },
    {
     "name": "stdout",
     "output_type": "stream",
     "text": [
      "E    57\n",
      "training...\n",
      "validating...\n"
     ]
    },
    {
     "name": "stderr",
     "output_type": "stream",
     "text": [
      " 83%|▊| 58/70 [42"
     ]
    },
    {
     "name": "stdout",
     "output_type": "stream",
     "text": [
      "E    58\n",
      "training...\n",
      "validating...\n"
     ]
    },
    {
     "name": "stderr",
     "output_type": "stream",
     "text": [
      " 84%|▊| 59/70 [43"
     ]
    },
    {
     "name": "stdout",
     "output_type": "stream",
     "text": [
      "E    59\n",
      "training...\n",
      "validating...\n"
     ]
    },
    {
     "name": "stderr",
     "output_type": "stream",
     "text": [
      " 86%|▊| 60/70 [43"
     ]
    },
    {
     "name": "stdout",
     "output_type": "stream",
     "text": [
      "E    60\n",
      "training...\n",
      "validating...\n"
     ]
    },
    {
     "name": "stderr",
     "output_type": "stream",
     "text": [
      " 87%|▊| 61/70 [44"
     ]
    },
    {
     "name": "stdout",
     "output_type": "stream",
     "text": [
      "E    61\n",
      "training...\n",
      "validating...\n"
     ]
    },
    {
     "name": "stderr",
     "output_type": "stream",
     "text": [
      " 89%|▉| 62/70 [45"
     ]
    },
    {
     "name": "stdout",
     "output_type": "stream",
     "text": [
      "E    62\n",
      "training...\n",
      "validating...\n"
     ]
    },
    {
     "name": "stderr",
     "output_type": "stream",
     "text": [
      " 90%|▉| 63/70 [45"
     ]
    },
    {
     "name": "stdout",
     "output_type": "stream",
     "text": [
      "E    63\n",
      "training...\n",
      "validating...\n"
     ]
    },
    {
     "name": "stderr",
     "output_type": "stream",
     "text": [
      " 91%|▉| 64/70 [46"
     ]
    },
    {
     "name": "stdout",
     "output_type": "stream",
     "text": [
      "E    64\n",
      "training...\n",
      "validating...\n"
     ]
    },
    {
     "name": "stderr",
     "output_type": "stream",
     "text": [
      " 93%|▉| 65/70 [47"
     ]
    },
    {
     "name": "stdout",
     "output_type": "stream",
     "text": [
      "E    65\n",
      "training...\n",
      "validating...\n"
     ]
    },
    {
     "name": "stderr",
     "output_type": "stream",
     "text": [
      " 94%|▉| 66/70 [48"
     ]
    },
    {
     "name": "stdout",
     "output_type": "stream",
     "text": [
      "E    66\n",
      "training...\n",
      "validating...\n"
     ]
    },
    {
     "name": "stderr",
     "output_type": "stream",
     "text": [
      " 96%|▉| 67/70 [48"
     ]
    },
    {
     "name": "stdout",
     "output_type": "stream",
     "text": [
      "E    67\n",
      "training...\n",
      "validating...\n"
     ]
    },
    {
     "name": "stderr",
     "output_type": "stream",
     "text": [
      " 97%|▉| 68/70 [49"
     ]
    },
    {
     "name": "stdout",
     "output_type": "stream",
     "text": [
      "E    68\n",
      "training...\n",
      "validating...\n"
     ]
    },
    {
     "name": "stderr",
     "output_type": "stream",
     "text": [
      " 99%|▉| 69/70 [50"
     ]
    },
    {
     "name": "stdout",
     "output_type": "stream",
     "text": [
      "E    69\n",
      "training...\n",
      "validating...\n"
     ]
    },
    {
     "name": "stderr",
     "output_type": "stream",
     "text": [
      "100%|█| 70/70 [50\n"
     ]
    },
    {
     "data": {
      "application/vnd.jupyter.widget-view+json": {
       "model_id": "",
       "version_major": 2,
       "version_minor": 0
      },
      "text/plain": [
       "VBox(children=(Label(value='0.006 MB of 0.006 MB uploaded\\r'), FloatProgress(value=1.0, max=1.0)))"
      ]
     },
     "metadata": {},
     "output_type": "display_data"
    },
    {
     "data": {
      "text/html": [
       "<style>\n",
       "    table.wandb td:nth-child(1) { padding: 0 10px; text-align: left ; width: auto;} td:nth-child(2) {text-align: left ; width: 100%}\n",
       "    .wandb-row { display: flex; flex-direction: row; flex-wrap: wrap; justify-content: flex-start; width: 100% }\n",
       "    .wandb-col { display: flex; flex-direction: column; flex-basis: 100%; flex: 1; padding: 10px; }\n",
       "    </style>\n",
       "<div class=\"wandb-row\"><div class=\"wandb-col\"><h3>Run history:</h3><br/><table class=\"wandb\"><tr><td>epoch</td><td>▁▁▁▁▂▂▂▂▂▃▃▃▃▃▃▄▄▄▄▄▅▅▅▅▅▆▆▆▆▆▆▇▇▇▇▇████</td></tr><tr><td>t_loss</td><td>▁███▁█████▁███▁████▁█████▁▁██▁█████</td></tr><tr><td>train_accuracy_%</td><td>▁▅▇▆▆▇▆▆▅▇▂█▅▄▂▅▃▅▃▇▅▆▄▂▂▇▇▄▅▅▂▃▁█▃</td></tr><tr><td>v_loss</td><td>▁▁▁▁▁▁▁▁▁▁▁▁▁▁▁▁▁▁▁▁▁▁▁▁▁▁▁▁▁▁▁▁▁▁▁</td></tr><tr><td>val_accuracy_%</td><td>▁▁▁▁▁▁▁▁▁▁▁▁▁▁▁▁▁▁▁▁▁▁▁▁▁▁▁▁▁▁▁▁▁▁▁</td></tr></table><br/></div><div class=\"wandb-col\"><h3>Run summary:</h3><br/><table class=\"wandb\"><tr><td>epoch</td><td>69</td></tr><tr><td>t_loss</td><td>0.18182</td></tr><tr><td>train_accuracy_%</td><td>0.09244</td></tr><tr><td>v_loss</td><td>0.18182</td></tr><tr><td>val_accuracy_%</td><td>0.10182</td></tr></table><br/></div></div>"
      ],
      "text/plain": [
       "<IPython.core.display.HTML object>"
      ]
     },
     "metadata": {},
     "output_type": "display_data"
    },
    {
     "data": {
      "text/html": [
       " View run <strong style=\"color:#cdcd00\">charmed-sweep-14</strong> at: <a href='https://wandb.ai/antvis/IDSW_vgg_fine_hp_80_112023/runs/z2u3xqry' target=\"_blank\">https://wandb.ai/antvis/IDSW_vgg_fine_hp_80_112023/runs/z2u3xqry</a><br/>Synced 5 W&B file(s), 0 media file(s), 0 artifact file(s) and 0 other file(s)"
      ],
      "text/plain": [
       "<IPython.core.display.HTML object>"
      ]
     },
     "metadata": {},
     "output_type": "display_data"
    },
    {
     "data": {
      "text/html": [
       "Find logs at: <code>./wandb/run-20231207_040503-z2u3xqry/logs</code>"
      ],
      "text/plain": [
       "<IPython.core.display.HTML object>"
      ]
     },
     "metadata": {},
     "output_type": "display_data"
    },
    {
     "name": "stderr",
     "output_type": "stream",
     "text": [
      "\u001b[34m\u001b[1mwandb\u001b[0m: Agent Starting Run: yxw8g9d4 with config:\n",
      "\u001b[34m\u001b[1mwandb\u001b[0m: \tchannels: 3\n",
      "\u001b[34m\u001b[1mwandb\u001b[0m: \tdata_set: Augmented\n",
      "\u001b[34m\u001b[1mwandb\u001b[0m: \tepochs: 70\n",
      "\u001b[34m\u001b[1mwandb\u001b[0m: \tfirst_lin_lay: 248832\n",
      "\u001b[34m\u001b[1mwandb\u001b[0m: \timage_path: /its/home/nn268/optics/AugmentedDS_IDSW/\n",
      "\u001b[34m\u001b[1mwandb\u001b[0m: \tks: [3, 5]\n",
      "\u001b[34m\u001b[1mwandb\u001b[0m: \tlearning_rate: 0.00022936481883394528\n",
      "\u001b[34m\u001b[1mwandb\u001b[0m: \tloss_fn: CrossEntropy\n",
      "\u001b[34m\u001b[1mwandb\u001b[0m: \tmodel_name: vgg16net_mlp\n",
      "\u001b[34m\u001b[1mwandb\u001b[0m: \tnum_classes: 11\n",
      "\u001b[34m\u001b[1mwandb\u001b[0m: \toptimizer: adam\n",
      "\u001b[34m\u001b[1mwandb\u001b[0m: \tscheduler: 0.001\n"
     ]
    },
    {
     "data": {
      "text/html": [
       "wandb version 0.16.1 is available!  To upgrade, please run:\n",
       " $ pip install wandb --upgrade"
      ],
      "text/plain": [
       "<IPython.core.display.HTML object>"
      ]
     },
     "metadata": {},
     "output_type": "display_data"
    },
    {
     "data": {
      "text/html": [
       "Tracking run with wandb version 0.16.0"
      ],
      "text/plain": [
       "<IPython.core.display.HTML object>"
      ]
     },
     "metadata": {},
     "output_type": "display_data"
    },
    {
     "data": {
      "text/html": [
       "Run data is saved locally in <code>/its/home/nn268/antvis/antvis/optics/wandb/run-20231207_045620-yxw8g9d4</code>"
      ],
      "text/plain": [
       "<IPython.core.display.HTML object>"
      ]
     },
     "metadata": {},
     "output_type": "display_data"
    },
    {
     "data": {
      "text/html": [
       "Syncing run <strong><a href='https://wandb.ai/antvis/IDSW_vgg_fine_hp_80_112023/runs/yxw8g9d4' target=\"_blank\">visionary-sweep-15</a></strong> to <a href='https://wandb.ai/antvis/IDSW_vgg_fine_hp_80_112023' target=\"_blank\">Weights & Biases</a> (<a href='https://wandb.me/run' target=\"_blank\">docs</a>)<br/>Sweep page: <a href='https://wandb.ai/antvis/IDSW_vgg_fine_hp_80_112023/sweeps/obcz0eq3' target=\"_blank\">https://wandb.ai/antvis/IDSW_vgg_fine_hp_80_112023/sweeps/obcz0eq3</a>"
      ],
      "text/plain": [
       "<IPython.core.display.HTML object>"
      ]
     },
     "metadata": {},
     "output_type": "display_data"
    },
    {
     "data": {
      "text/html": [
       " View project at <a href='https://wandb.ai/antvis/IDSW_vgg_fine_hp_80_112023' target=\"_blank\">https://wandb.ai/antvis/IDSW_vgg_fine_hp_80_112023</a>"
      ],
      "text/plain": [
       "<IPython.core.display.HTML object>"
      ]
     },
     "metadata": {},
     "output_type": "display_data"
    },
    {
     "data": {
      "text/html": [
       " View sweep at <a href='https://wandb.ai/antvis/IDSW_vgg_fine_hp_80_112023/sweeps/obcz0eq3' target=\"_blank\">https://wandb.ai/antvis/IDSW_vgg_fine_hp_80_112023/sweeps/obcz0eq3</a>"
      ],
      "text/plain": [
       "<IPython.core.display.HTML object>"
      ]
     },
     "metadata": {},
     "output_type": "display_data"
    },
    {
     "data": {
      "text/html": [
       " View run at <a href='https://wandb.ai/antvis/IDSW_vgg_fine_hp_80_112023/runs/yxw8g9d4' target=\"_blank\">https://wandb.ai/antvis/IDSW_vgg_fine_hp_80_112023/runs/yxw8g9d4</a>"
      ],
      "text/plain": [
       "<IPython.core.display.HTML object>"
      ]
     },
     "metadata": {},
     "output_type": "display_data"
    },
    {
     "name": "stderr",
     "output_type": "stream",
     "text": [
      "\u001b[34m\u001b[1mwandb\u001b[0m: \u001b[33mWARNING\u001b[0m Ignored wandb.init() arg project when running a sweep.\n"
     ]
    },
    {
     "data": {
      "text/html": [
       "Finishing last run (ID:yxw8g9d4) before initializing another..."
      ],
      "text/plain": [
       "<IPython.core.display.HTML object>"
      ]
     },
     "metadata": {},
     "output_type": "display_data"
    },
    {
     "data": {
      "application/vnd.jupyter.widget-view+json": {
       "model_id": "",
       "version_major": 2,
       "version_minor": 0
      },
      "text/plain": [
       "VBox(children=(Label(value='0.006 MB of 0.006 MB uploaded\\r'), FloatProgress(value=1.0, max=1.0)))"
      ]
     },
     "metadata": {},
     "output_type": "display_data"
    },
    {
     "data": {
      "text/html": [
       " View run <strong style=\"color:#cdcd00\">visionary-sweep-15</strong> at: <a href='https://wandb.ai/antvis/IDSW_vgg_fine_hp_80_112023/runs/yxw8g9d4' target=\"_blank\">https://wandb.ai/antvis/IDSW_vgg_fine_hp_80_112023/runs/yxw8g9d4</a><br/>Synced 5 W&B file(s), 0 media file(s), 0 artifact file(s) and 0 other file(s)"
      ],
      "text/plain": [
       "<IPython.core.display.HTML object>"
      ]
     },
     "metadata": {},
     "output_type": "display_data"
    },
    {
     "data": {
      "text/html": [
       "Find logs at: <code>./wandb/run-20231207_045620-yxw8g9d4/logs</code>"
      ],
      "text/plain": [
       "<IPython.core.display.HTML object>"
      ]
     },
     "metadata": {},
     "output_type": "display_data"
    },
    {
     "data": {
      "text/html": [
       "Successfully finished last run (ID:yxw8g9d4). Initializing new run:<br/>"
      ],
      "text/plain": [
       "<IPython.core.display.HTML object>"
      ]
     },
     "metadata": {},
     "output_type": "display_data"
    },
    {
     "data": {
      "application/vnd.jupyter.widget-view+json": {
       "model_id": "8de89182c2424e11a497daa1b45d1746",
       "version_major": 2,
       "version_minor": 0
      },
      "text/plain": [
       "VBox(children=(Label(value='Waiting for wandb.init()...\\r'), FloatProgress(value=0.011112612355241759, max=1.0…"
      ]
     },
     "metadata": {},
     "output_type": "display_data"
    },
    {
     "data": {
      "text/html": [
       "wandb version 0.16.1 is available!  To upgrade, please run:\n",
       " $ pip install wandb --upgrade"
      ],
      "text/plain": [
       "<IPython.core.display.HTML object>"
      ]
     },
     "metadata": {},
     "output_type": "display_data"
    },
    {
     "data": {
      "text/html": [
       "Tracking run with wandb version 0.16.0"
      ],
      "text/plain": [
       "<IPython.core.display.HTML object>"
      ]
     },
     "metadata": {},
     "output_type": "display_data"
    },
    {
     "data": {
      "text/html": [
       "Run data is saved locally in <code>/its/home/nn268/antvis/antvis/optics/wandb/run-20231207_045621-yxw8g9d4</code>"
      ],
      "text/plain": [
       "<IPython.core.display.HTML object>"
      ]
     },
     "metadata": {},
     "output_type": "display_data"
    },
    {
     "data": {
      "text/html": [
       "Syncing run <strong><a href='https://wandb.ai/antvis/IDSW_vgg_fine_hp_80_112023/runs/yxw8g9d4' target=\"_blank\">visionary-sweep-15</a></strong> to <a href='https://wandb.ai/antvis/IDSW_vgg_fine_hp_80_112023' target=\"_blank\">Weights & Biases</a> (<a href='https://wandb.me/run' target=\"_blank\">docs</a>)<br/>Sweep page: <a href='https://wandb.ai/antvis/IDSW_vgg_fine_hp_80_112023/sweeps/obcz0eq3' target=\"_blank\">https://wandb.ai/antvis/IDSW_vgg_fine_hp_80_112023/sweeps/obcz0eq3</a>"
      ],
      "text/plain": [
       "<IPython.core.display.HTML object>"
      ]
     },
     "metadata": {},
     "output_type": "display_data"
    },
    {
     "data": {
      "text/html": [
       " View project at <a href='https://wandb.ai/antvis/IDSW_vgg_fine_hp_80_112023' target=\"_blank\">https://wandb.ai/antvis/IDSW_vgg_fine_hp_80_112023</a>"
      ],
      "text/plain": [
       "<IPython.core.display.HTML object>"
      ]
     },
     "metadata": {},
     "output_type": "display_data"
    },
    {
     "data": {
      "text/html": [
       " View sweep at <a href='https://wandb.ai/antvis/IDSW_vgg_fine_hp_80_112023/sweeps/obcz0eq3' target=\"_blank\">https://wandb.ai/antvis/IDSW_vgg_fine_hp_80_112023/sweeps/obcz0eq3</a>"
      ],
      "text/plain": [
       "<IPython.core.display.HTML object>"
      ]
     },
     "metadata": {},
     "output_type": "display_data"
    },
    {
     "data": {
      "text/html": [
       " View run at <a href='https://wandb.ai/antvis/IDSW_vgg_fine_hp_80_112023/runs/yxw8g9d4' target=\"_blank\">https://wandb.ai/antvis/IDSW_vgg_fine_hp_80_112023/runs/yxw8g9d4</a>"
      ],
      "text/plain": [
       "<IPython.core.display.HTML object>"
      ]
     },
     "metadata": {},
     "output_type": "display_data"
    },
    {
     "name": "stderr",
     "output_type": "stream",
     "text": [
      "  0%| | 0/70 [00:"
     ]
    },
    {
     "name": "stdout",
     "output_type": "stream",
     "text": [
      "E    0\n",
      "training...\n",
      "validating...\n"
     ]
    },
    {
     "name": "stderr",
     "output_type": "stream",
     "text": [
      "  1%| | 1/70 [00:"
     ]
    },
    {
     "name": "stdout",
     "output_type": "stream",
     "text": [
      "improvment in metrics. model saved\n",
      "E    1\n",
      "training...\n",
      "validating...\n"
     ]
    },
    {
     "name": "stderr",
     "output_type": "stream",
     "text": [
      "  3%| | 2/70 [01:"
     ]
    },
    {
     "name": "stdout",
     "output_type": "stream",
     "text": [
      "E    2\n",
      "training...\n",
      "validating...\n"
     ]
    },
    {
     "name": "stderr",
     "output_type": "stream",
     "text": [
      "  4%| | 3/70 [02:"
     ]
    },
    {
     "name": "stdout",
     "output_type": "stream",
     "text": [
      "E    3\n",
      "training...\n",
      "validating...\n"
     ]
    },
    {
     "name": "stderr",
     "output_type": "stream",
     "text": [
      "  6%| | 4/70 [03:"
     ]
    },
    {
     "name": "stdout",
     "output_type": "stream",
     "text": [
      "E    4\n",
      "training...\n",
      "validating...\n"
     ]
    },
    {
     "name": "stderr",
     "output_type": "stream",
     "text": [
      "  7%| | 5/70 [03:"
     ]
    },
    {
     "name": "stdout",
     "output_type": "stream",
     "text": [
      "E    5\n",
      "training...\n",
      "validating...\n"
     ]
    },
    {
     "name": "stderr",
     "output_type": "stream",
     "text": [
      "  9%| | 6/70 [04:"
     ]
    },
    {
     "name": "stdout",
     "output_type": "stream",
     "text": [
      "E    6\n",
      "training...\n",
      "validating...\n"
     ]
    },
    {
     "name": "stderr",
     "output_type": "stream",
     "text": [
      " 10%| | 7/70 [05:"
     ]
    },
    {
     "name": "stdout",
     "output_type": "stream",
     "text": [
      "E    7\n",
      "training...\n",
      "validating...\n"
     ]
    },
    {
     "name": "stderr",
     "output_type": "stream",
     "text": [
      " 11%| | 8/70 [06:"
     ]
    },
    {
     "name": "stdout",
     "output_type": "stream",
     "text": [
      "E    8\n",
      "training...\n",
      "validating...\n"
     ]
    },
    {
     "name": "stderr",
     "output_type": "stream",
     "text": [
      " 13%|▏| 9/70 [06:"
     ]
    },
    {
     "name": "stdout",
     "output_type": "stream",
     "text": [
      "E    9\n",
      "training...\n",
      "validating...\n"
     ]
    },
    {
     "name": "stderr",
     "output_type": "stream",
     "text": [
      " 14%|▏| 10/70 [07"
     ]
    },
    {
     "name": "stdout",
     "output_type": "stream",
     "text": [
      "E    10\n",
      "training...\n",
      "validating...\n"
     ]
    },
    {
     "name": "stderr",
     "output_type": "stream",
     "text": [
      " 16%|▏| 11/70 [08"
     ]
    },
    {
     "name": "stdout",
     "output_type": "stream",
     "text": [
      "E    11\n",
      "training...\n",
      "validating...\n"
     ]
    },
    {
     "name": "stderr",
     "output_type": "stream",
     "text": [
      " 17%|▏| 12/70 [09"
     ]
    },
    {
     "name": "stdout",
     "output_type": "stream",
     "text": [
      "E    12\n",
      "training...\n",
      "validating...\n"
     ]
    },
    {
     "name": "stderr",
     "output_type": "stream",
     "text": [
      " 19%|▏| 13/70 [09"
     ]
    },
    {
     "name": "stdout",
     "output_type": "stream",
     "text": [
      "E    13\n",
      "training...\n",
      "validating...\n"
     ]
    },
    {
     "name": "stderr",
     "output_type": "stream",
     "text": [
      " 20%|▏| 14/70 [10"
     ]
    },
    {
     "name": "stdout",
     "output_type": "stream",
     "text": [
      "E    14\n",
      "training...\n",
      "validating...\n"
     ]
    },
    {
     "name": "stderr",
     "output_type": "stream",
     "text": [
      " 21%|▏| 15/70 [11"
     ]
    },
    {
     "name": "stdout",
     "output_type": "stream",
     "text": [
      "E    15\n",
      "training...\n",
      "validating...\n"
     ]
    },
    {
     "name": "stderr",
     "output_type": "stream",
     "text": [
      " 23%|▏| 16/70 [12"
     ]
    },
    {
     "name": "stdout",
     "output_type": "stream",
     "text": [
      "E    16\n",
      "training...\n",
      "validating...\n"
     ]
    },
    {
     "name": "stderr",
     "output_type": "stream",
     "text": [
      " 24%|▏| 17/70 [12"
     ]
    },
    {
     "name": "stdout",
     "output_type": "stream",
     "text": [
      "E    17\n",
      "training...\n",
      "validating...\n"
     ]
    },
    {
     "name": "stderr",
     "output_type": "stream",
     "text": [
      " 26%|▎| 18/70 [13"
     ]
    },
    {
     "name": "stdout",
     "output_type": "stream",
     "text": [
      "E    18\n",
      "training...\n",
      "validating...\n"
     ]
    },
    {
     "name": "stderr",
     "output_type": "stream",
     "text": [
      " 27%|▎| 19/70 [14"
     ]
    },
    {
     "name": "stdout",
     "output_type": "stream",
     "text": [
      "E    19\n",
      "training...\n",
      "validating...\n"
     ]
    },
    {
     "name": "stderr",
     "output_type": "stream",
     "text": [
      " 29%|▎| 20/70 [15"
     ]
    },
    {
     "name": "stdout",
     "output_type": "stream",
     "text": [
      "E    20\n",
      "training...\n",
      "validating...\n"
     ]
    },
    {
     "name": "stderr",
     "output_type": "stream",
     "text": [
      " 30%|▎| 21/70 [15"
     ]
    },
    {
     "name": "stdout",
     "output_type": "stream",
     "text": [
      "E    21\n",
      "training...\n",
      "validating...\n"
     ]
    },
    {
     "name": "stderr",
     "output_type": "stream",
     "text": [
      " 31%|▎| 22/70 [16"
     ]
    },
    {
     "name": "stdout",
     "output_type": "stream",
     "text": [
      "E    22\n",
      "training...\n",
      "validating...\n"
     ]
    },
    {
     "name": "stderr",
     "output_type": "stream",
     "text": [
      " 33%|▎| 23/70 [17"
     ]
    },
    {
     "name": "stdout",
     "output_type": "stream",
     "text": [
      "E    23\n",
      "training...\n",
      "validating...\n"
     ]
    },
    {
     "name": "stderr",
     "output_type": "stream",
     "text": [
      " 34%|▎| 24/70 [17"
     ]
    },
    {
     "name": "stdout",
     "output_type": "stream",
     "text": [
      "E    24\n",
      "training...\n",
      "validating...\n"
     ]
    },
    {
     "name": "stderr",
     "output_type": "stream",
     "text": [
      " 36%|▎| 25/70 [18"
     ]
    },
    {
     "name": "stdout",
     "output_type": "stream",
     "text": [
      "E    25\n",
      "training...\n",
      "validating...\n"
     ]
    },
    {
     "name": "stderr",
     "output_type": "stream",
     "text": [
      " 37%|▎| 26/70 [19"
     ]
    },
    {
     "name": "stdout",
     "output_type": "stream",
     "text": [
      "E    26\n",
      "training...\n",
      "validating...\n"
     ]
    },
    {
     "name": "stderr",
     "output_type": "stream",
     "text": [
      " 39%|▍| 27/70 [20"
     ]
    },
    {
     "name": "stdout",
     "output_type": "stream",
     "text": [
      "E    27\n",
      "training...\n",
      "validating...\n"
     ]
    },
    {
     "name": "stderr",
     "output_type": "stream",
     "text": [
      " 40%|▍| 28/70 [20"
     ]
    },
    {
     "name": "stdout",
     "output_type": "stream",
     "text": [
      "E    28\n",
      "training...\n",
      "validating...\n"
     ]
    },
    {
     "name": "stderr",
     "output_type": "stream",
     "text": [
      " 41%|▍| 29/70 [21"
     ]
    },
    {
     "name": "stdout",
     "output_type": "stream",
     "text": [
      "E    29\n",
      "training...\n",
      "validating...\n"
     ]
    },
    {
     "name": "stderr",
     "output_type": "stream",
     "text": [
      " 43%|▍| 30/70 [22"
     ]
    },
    {
     "name": "stdout",
     "output_type": "stream",
     "text": [
      "E    30\n",
      "training...\n",
      "validating...\n"
     ]
    },
    {
     "name": "stderr",
     "output_type": "stream",
     "text": [
      " 44%|▍| 31/70 [23"
     ]
    },
    {
     "name": "stdout",
     "output_type": "stream",
     "text": [
      "E    31\n",
      "training...\n",
      "validating...\n"
     ]
    },
    {
     "name": "stderr",
     "output_type": "stream",
     "text": [
      " 46%|▍| 32/70 [23"
     ]
    },
    {
     "name": "stdout",
     "output_type": "stream",
     "text": [
      "E    32\n",
      "training...\n",
      "validating...\n"
     ]
    },
    {
     "name": "stderr",
     "output_type": "stream",
     "text": [
      " 47%|▍| 33/70 [24"
     ]
    },
    {
     "name": "stdout",
     "output_type": "stream",
     "text": [
      "E    33\n",
      "training...\n",
      "validating...\n"
     ]
    },
    {
     "name": "stderr",
     "output_type": "stream",
     "text": [
      " 49%|▍| 34/70 [25"
     ]
    },
    {
     "name": "stdout",
     "output_type": "stream",
     "text": [
      "E    34\n",
      "training...\n",
      "validating...\n"
     ]
    },
    {
     "name": "stderr",
     "output_type": "stream",
     "text": [
      " 50%|▌| 35/70 [25"
     ]
    },
    {
     "name": "stdout",
     "output_type": "stream",
     "text": [
      "E    35\n",
      "training...\n",
      "validating...\n"
     ]
    },
    {
     "name": "stderr",
     "output_type": "stream",
     "text": [
      " 51%|▌| 36/70 [26"
     ]
    },
    {
     "name": "stdout",
     "output_type": "stream",
     "text": [
      "E    36\n",
      "training...\n",
      "validating...\n"
     ]
    },
    {
     "name": "stderr",
     "output_type": "stream",
     "text": [
      " 53%|▌| 37/70 [27"
     ]
    },
    {
     "name": "stdout",
     "output_type": "stream",
     "text": [
      "E    37\n",
      "training...\n",
      "validating...\n"
     ]
    },
    {
     "name": "stderr",
     "output_type": "stream",
     "text": [
      " 54%|▌| 38/70 [28"
     ]
    },
    {
     "name": "stdout",
     "output_type": "stream",
     "text": [
      "E    38\n",
      "training...\n",
      "validating...\n"
     ]
    },
    {
     "name": "stderr",
     "output_type": "stream",
     "text": [
      " 56%|▌| 39/70 [28"
     ]
    },
    {
     "name": "stdout",
     "output_type": "stream",
     "text": [
      "E    39\n",
      "training...\n",
      "validating...\n"
     ]
    },
    {
     "name": "stderr",
     "output_type": "stream",
     "text": [
      " 57%|▌| 40/70 [29"
     ]
    },
    {
     "name": "stdout",
     "output_type": "stream",
     "text": [
      "E    40\n",
      "training...\n",
      "validating...\n"
     ]
    },
    {
     "name": "stderr",
     "output_type": "stream",
     "text": [
      " 59%|▌| 41/70 [30"
     ]
    },
    {
     "name": "stdout",
     "output_type": "stream",
     "text": [
      "E    41\n",
      "training...\n",
      "validating...\n"
     ]
    },
    {
     "name": "stderr",
     "output_type": "stream",
     "text": [
      " 60%|▌| 42/70 [31"
     ]
    },
    {
     "name": "stdout",
     "output_type": "stream",
     "text": [
      "E    42\n",
      "training...\n",
      "validating...\n"
     ]
    },
    {
     "name": "stderr",
     "output_type": "stream",
     "text": [
      " 61%|▌| 43/70 [31"
     ]
    },
    {
     "name": "stdout",
     "output_type": "stream",
     "text": [
      "E    43\n",
      "training...\n",
      "validating...\n"
     ]
    },
    {
     "name": "stderr",
     "output_type": "stream",
     "text": [
      " 63%|▋| 44/70 [32"
     ]
    },
    {
     "name": "stdout",
     "output_type": "stream",
     "text": [
      "E    44\n",
      "training...\n",
      "validating...\n"
     ]
    },
    {
     "name": "stderr",
     "output_type": "stream",
     "text": [
      " 64%|▋| 45/70 [33"
     ]
    },
    {
     "name": "stdout",
     "output_type": "stream",
     "text": [
      "E    45\n",
      "training...\n",
      "validating...\n"
     ]
    },
    {
     "name": "stderr",
     "output_type": "stream",
     "text": [
      " 66%|▋| 46/70 [33"
     ]
    },
    {
     "name": "stdout",
     "output_type": "stream",
     "text": [
      "E    46\n",
      "training...\n",
      "validating...\n"
     ]
    },
    {
     "name": "stderr",
     "output_type": "stream",
     "text": [
      " 67%|▋| 47/70 [34"
     ]
    },
    {
     "name": "stdout",
     "output_type": "stream",
     "text": [
      "E    47\n",
      "training...\n",
      "validating...\n"
     ]
    },
    {
     "name": "stderr",
     "output_type": "stream",
     "text": [
      " 69%|▋| 48/70 [35"
     ]
    },
    {
     "name": "stdout",
     "output_type": "stream",
     "text": [
      "E    48\n",
      "training...\n",
      "validating...\n"
     ]
    },
    {
     "name": "stderr",
     "output_type": "stream",
     "text": [
      " 70%|▋| 49/70 [36"
     ]
    },
    {
     "name": "stdout",
     "output_type": "stream",
     "text": [
      "E    49\n",
      "training...\n",
      "validating...\n"
     ]
    },
    {
     "name": "stderr",
     "output_type": "stream",
     "text": [
      " 71%|▋| 50/70 [36"
     ]
    },
    {
     "name": "stdout",
     "output_type": "stream",
     "text": [
      "E    50\n",
      "training...\n",
      "validating...\n"
     ]
    },
    {
     "name": "stderr",
     "output_type": "stream",
     "text": [
      " 73%|▋| 51/70 [37"
     ]
    },
    {
     "name": "stdout",
     "output_type": "stream",
     "text": [
      "E    51\n",
      "training...\n",
      "validating...\n"
     ]
    },
    {
     "name": "stderr",
     "output_type": "stream",
     "text": [
      " 74%|▋| 52/70 [38"
     ]
    },
    {
     "name": "stdout",
     "output_type": "stream",
     "text": [
      "E    52\n",
      "training...\n",
      "validating...\n"
     ]
    },
    {
     "name": "stderr",
     "output_type": "stream",
     "text": [
      " 76%|▊| 53/70 [38"
     ]
    },
    {
     "name": "stdout",
     "output_type": "stream",
     "text": [
      "E    53\n",
      "training...\n",
      "validating...\n"
     ]
    },
    {
     "name": "stderr",
     "output_type": "stream",
     "text": [
      " 77%|▊| 54/70 [39"
     ]
    },
    {
     "name": "stdout",
     "output_type": "stream",
     "text": [
      "E    54\n",
      "training...\n",
      "validating...\n"
     ]
    },
    {
     "name": "stderr",
     "output_type": "stream",
     "text": [
      " 79%|▊| 55/70 [40"
     ]
    },
    {
     "name": "stdout",
     "output_type": "stream",
     "text": [
      "E    55\n",
      "training...\n",
      "validating...\n"
     ]
    },
    {
     "name": "stderr",
     "output_type": "stream",
     "text": [
      " 80%|▊| 56/70 [41"
     ]
    },
    {
     "name": "stdout",
     "output_type": "stream",
     "text": [
      "E    56\n",
      "training...\n",
      "validating...\n"
     ]
    },
    {
     "name": "stderr",
     "output_type": "stream",
     "text": [
      " 81%|▊| 57/70 [41"
     ]
    },
    {
     "name": "stdout",
     "output_type": "stream",
     "text": [
      "E    57\n",
      "training...\n",
      "validating...\n"
     ]
    },
    {
     "name": "stderr",
     "output_type": "stream",
     "text": [
      " 83%|▊| 58/70 [42"
     ]
    },
    {
     "name": "stdout",
     "output_type": "stream",
     "text": [
      "E    58\n",
      "training...\n",
      "validating...\n"
     ]
    },
    {
     "name": "stderr",
     "output_type": "stream",
     "text": [
      " 84%|▊| 59/70 [43"
     ]
    },
    {
     "name": "stdout",
     "output_type": "stream",
     "text": [
      "E    59\n",
      "training...\n",
      "validating...\n"
     ]
    },
    {
     "name": "stderr",
     "output_type": "stream",
     "text": [
      " 86%|▊| 60/70 [44"
     ]
    },
    {
     "name": "stdout",
     "output_type": "stream",
     "text": [
      "E    60\n",
      "training...\n",
      "validating...\n"
     ]
    },
    {
     "name": "stderr",
     "output_type": "stream",
     "text": [
      " 87%|▊| 61/70 [44"
     ]
    },
    {
     "name": "stdout",
     "output_type": "stream",
     "text": [
      "E    61\n",
      "training...\n",
      "validating...\n"
     ]
    },
    {
     "name": "stderr",
     "output_type": "stream",
     "text": [
      " 89%|▉| 62/70 [45"
     ]
    },
    {
     "name": "stdout",
     "output_type": "stream",
     "text": [
      "E    62\n",
      "training...\n",
      "validating...\n"
     ]
    },
    {
     "name": "stderr",
     "output_type": "stream",
     "text": [
      " 90%|▉| 63/70 [46"
     ]
    },
    {
     "name": "stdout",
     "output_type": "stream",
     "text": [
      "E    63\n",
      "training...\n",
      "validating...\n"
     ]
    },
    {
     "name": "stderr",
     "output_type": "stream",
     "text": [
      " 91%|▉| 64/70 [46"
     ]
    },
    {
     "name": "stdout",
     "output_type": "stream",
     "text": [
      "E    64\n",
      "training...\n",
      "validating...\n"
     ]
    },
    {
     "name": "stderr",
     "output_type": "stream",
     "text": [
      " 93%|▉| 65/70 [47"
     ]
    },
    {
     "name": "stdout",
     "output_type": "stream",
     "text": [
      "E    65\n",
      "training...\n",
      "validating...\n"
     ]
    },
    {
     "name": "stderr",
     "output_type": "stream",
     "text": [
      " 94%|▉| 66/70 [48"
     ]
    },
    {
     "name": "stdout",
     "output_type": "stream",
     "text": [
      "E    66\n",
      "training...\n",
      "validating...\n"
     ]
    },
    {
     "name": "stderr",
     "output_type": "stream",
     "text": [
      " 96%|▉| 67/70 [49"
     ]
    },
    {
     "name": "stdout",
     "output_type": "stream",
     "text": [
      "E    67\n",
      "training...\n",
      "validating...\n"
     ]
    },
    {
     "name": "stderr",
     "output_type": "stream",
     "text": [
      " 97%|▉| 68/70 [49"
     ]
    },
    {
     "name": "stdout",
     "output_type": "stream",
     "text": [
      "E    68\n",
      "training...\n",
      "validating...\n"
     ]
    },
    {
     "name": "stderr",
     "output_type": "stream",
     "text": [
      " 99%|▉| 69/70 [50"
     ]
    },
    {
     "name": "stdout",
     "output_type": "stream",
     "text": [
      "E    69\n",
      "training...\n",
      "validating...\n"
     ]
    },
    {
     "name": "stderr",
     "output_type": "stream",
     "text": [
      "100%|█| 70/70 [51\n"
     ]
    },
    {
     "data": {
      "application/vnd.jupyter.widget-view+json": {
       "model_id": "",
       "version_major": 2,
       "version_minor": 0
      },
      "text/plain": [
       "VBox(children=(Label(value='0.006 MB of 0.006 MB uploaded\\r'), FloatProgress(value=1.0, max=1.0)))"
      ]
     },
     "metadata": {},
     "output_type": "display_data"
    },
    {
     "data": {
      "text/html": [
       "<style>\n",
       "    table.wandb td:nth-child(1) { padding: 0 10px; text-align: left ; width: auto;} td:nth-child(2) {text-align: left ; width: 100%}\n",
       "    .wandb-row { display: flex; flex-direction: row; flex-wrap: wrap; justify-content: flex-start; width: 100% }\n",
       "    .wandb-col { display: flex; flex-direction: column; flex-basis: 100%; flex: 1; padding: 10px; }\n",
       "    </style>\n",
       "<div class=\"wandb-row\"><div class=\"wandb-col\"><h3>Run history:</h3><br/><table class=\"wandb\"><tr><td>epoch</td><td>▁▁▁▁▂▂▂▂▂▃▃▃▃▃▃▄▄▄▄▄▅▅▅▅▅▆▆▆▆▆▆▇▇▇▇▇████</td></tr><tr><td>t_loss</td><td>▁██████████████▁███████████████████</td></tr><tr><td>train_accuracy_%</td><td>▄▄▁▁▃▃▆▄▆▂▄▃▄▆▄▂▄█▅▅▁▃▁▄▃▁▃▅▃▂█▆▅▁▂</td></tr><tr><td>v_loss</td><td>▁▁▁▁▁▁▁▁▁▁▁▁▁▁▁▁▁▁▁▁▁▁▁▁▁▁▁▁▁▁▁▁▁▁▁</td></tr><tr><td>val_accuracy_%</td><td>▁▁▁▁▁▁▁▁▁▁▁▁▁▁▁▁▁▁▁▁▁▁▁▁▁▁▁▁▁▁▁▁▁▁▁</td></tr></table><br/></div><div class=\"wandb-col\"><h3>Run summary:</h3><br/><table class=\"wandb\"><tr><td>epoch</td><td>69</td></tr><tr><td>t_loss</td><td>2.54304</td></tr><tr><td>train_accuracy_%</td><td>0.08652</td></tr><tr><td>v_loss</td><td>2.54304</td></tr><tr><td>val_accuracy_%</td><td>0.08</td></tr></table><br/></div></div>"
      ],
      "text/plain": [
       "<IPython.core.display.HTML object>"
      ]
     },
     "metadata": {},
     "output_type": "display_data"
    },
    {
     "data": {
      "text/html": [
       " View run <strong style=\"color:#cdcd00\">visionary-sweep-15</strong> at: <a href='https://wandb.ai/antvis/IDSW_vgg_fine_hp_80_112023/runs/yxw8g9d4' target=\"_blank\">https://wandb.ai/antvis/IDSW_vgg_fine_hp_80_112023/runs/yxw8g9d4</a><br/>Synced 5 W&B file(s), 0 media file(s), 0 artifact file(s) and 0 other file(s)"
      ],
      "text/plain": [
       "<IPython.core.display.HTML object>"
      ]
     },
     "metadata": {},
     "output_type": "display_data"
    },
    {
     "data": {
      "text/html": [
       "Find logs at: <code>./wandb/run-20231207_045621-yxw8g9d4/logs</code>"
      ],
      "text/plain": [
       "<IPython.core.display.HTML object>"
      ]
     },
     "metadata": {},
     "output_type": "display_data"
    },
    {
     "name": "stderr",
     "output_type": "stream",
     "text": [
      "\u001b[34m\u001b[1mwandb\u001b[0m: Agent Starting Run: 9tz605wk with config:\n",
      "\u001b[34m\u001b[1mwandb\u001b[0m: \tchannels: 3\n",
      "\u001b[34m\u001b[1mwandb\u001b[0m: \tdata_set: Augmented\n",
      "\u001b[34m\u001b[1mwandb\u001b[0m: \tepochs: 70\n",
      "\u001b[34m\u001b[1mwandb\u001b[0m: \tfirst_lin_lay: 248832\n",
      "\u001b[34m\u001b[1mwandb\u001b[0m: \timage_path: /its/home/nn268/optics/AugmentedDS_IDSW/\n",
      "\u001b[34m\u001b[1mwandb\u001b[0m: \tks: [3, 5]\n",
      "\u001b[34m\u001b[1mwandb\u001b[0m: \tlearning_rate: 0.00014270304932462047\n",
      "\u001b[34m\u001b[1mwandb\u001b[0m: \tloss_fn: CrossEntropy\n",
      "\u001b[34m\u001b[1mwandb\u001b[0m: \tmodel_name: vgg16net_mlp\n",
      "\u001b[34m\u001b[1mwandb\u001b[0m: \tnum_classes: 11\n",
      "\u001b[34m\u001b[1mwandb\u001b[0m: \toptimizer: adam\n",
      "\u001b[34m\u001b[1mwandb\u001b[0m: \tscheduler: 0.01\n"
     ]
    },
    {
     "data": {
      "text/html": [
       "wandb version 0.16.1 is available!  To upgrade, please run:\n",
       " $ pip install wandb --upgrade"
      ],
      "text/plain": [
       "<IPython.core.display.HTML object>"
      ]
     },
     "metadata": {},
     "output_type": "display_data"
    },
    {
     "data": {
      "text/html": [
       "Tracking run with wandb version 0.16.0"
      ],
      "text/plain": [
       "<IPython.core.display.HTML object>"
      ]
     },
     "metadata": {},
     "output_type": "display_data"
    },
    {
     "data": {
      "text/html": [
       "Run data is saved locally in <code>/its/home/nn268/antvis/antvis/optics/wandb/run-20231207_054754-9tz605wk</code>"
      ],
      "text/plain": [
       "<IPython.core.display.HTML object>"
      ]
     },
     "metadata": {},
     "output_type": "display_data"
    },
    {
     "data": {
      "text/html": [
       "Syncing run <strong><a href='https://wandb.ai/antvis/IDSW_vgg_fine_hp_80_112023/runs/9tz605wk' target=\"_blank\">vital-sweep-16</a></strong> to <a href='https://wandb.ai/antvis/IDSW_vgg_fine_hp_80_112023' target=\"_blank\">Weights & Biases</a> (<a href='https://wandb.me/run' target=\"_blank\">docs</a>)<br/>Sweep page: <a href='https://wandb.ai/antvis/IDSW_vgg_fine_hp_80_112023/sweeps/obcz0eq3' target=\"_blank\">https://wandb.ai/antvis/IDSW_vgg_fine_hp_80_112023/sweeps/obcz0eq3</a>"
      ],
      "text/plain": [
       "<IPython.core.display.HTML object>"
      ]
     },
     "metadata": {},
     "output_type": "display_data"
    },
    {
     "data": {
      "text/html": [
       " View project at <a href='https://wandb.ai/antvis/IDSW_vgg_fine_hp_80_112023' target=\"_blank\">https://wandb.ai/antvis/IDSW_vgg_fine_hp_80_112023</a>"
      ],
      "text/plain": [
       "<IPython.core.display.HTML object>"
      ]
     },
     "metadata": {},
     "output_type": "display_data"
    },
    {
     "data": {
      "text/html": [
       " View sweep at <a href='https://wandb.ai/antvis/IDSW_vgg_fine_hp_80_112023/sweeps/obcz0eq3' target=\"_blank\">https://wandb.ai/antvis/IDSW_vgg_fine_hp_80_112023/sweeps/obcz0eq3</a>"
      ],
      "text/plain": [
       "<IPython.core.display.HTML object>"
      ]
     },
     "metadata": {},
     "output_type": "display_data"
    },
    {
     "data": {
      "text/html": [
       " View run at <a href='https://wandb.ai/antvis/IDSW_vgg_fine_hp_80_112023/runs/9tz605wk' target=\"_blank\">https://wandb.ai/antvis/IDSW_vgg_fine_hp_80_112023/runs/9tz605wk</a>"
      ],
      "text/plain": [
       "<IPython.core.display.HTML object>"
      ]
     },
     "metadata": {},
     "output_type": "display_data"
    },
    {
     "name": "stderr",
     "output_type": "stream",
     "text": [
      "\u001b[34m\u001b[1mwandb\u001b[0m: \u001b[33mWARNING\u001b[0m Ignored wandb.init() arg project when running a sweep.\n"
     ]
    },
    {
     "data": {
      "text/html": [
       "Finishing last run (ID:9tz605wk) before initializing another..."
      ],
      "text/plain": [
       "<IPython.core.display.HTML object>"
      ]
     },
     "metadata": {},
     "output_type": "display_data"
    },
    {
     "data": {
      "application/vnd.jupyter.widget-view+json": {
       "model_id": "",
       "version_major": 2,
       "version_minor": 0
      },
      "text/plain": [
       "VBox(children=(Label(value='0.006 MB of 0.006 MB uploaded\\r'), FloatProgress(value=1.0, max=1.0)))"
      ]
     },
     "metadata": {},
     "output_type": "display_data"
    },
    {
     "data": {
      "text/html": [
       " View run <strong style=\"color:#cdcd00\">vital-sweep-16</strong> at: <a href='https://wandb.ai/antvis/IDSW_vgg_fine_hp_80_112023/runs/9tz605wk' target=\"_blank\">https://wandb.ai/antvis/IDSW_vgg_fine_hp_80_112023/runs/9tz605wk</a><br/>Synced 5 W&B file(s), 0 media file(s), 0 artifact file(s) and 0 other file(s)"
      ],
      "text/plain": [
       "<IPython.core.display.HTML object>"
      ]
     },
     "metadata": {},
     "output_type": "display_data"
    },
    {
     "data": {
      "text/html": [
       "Find logs at: <code>./wandb/run-20231207_054754-9tz605wk/logs</code>"
      ],
      "text/plain": [
       "<IPython.core.display.HTML object>"
      ]
     },
     "metadata": {},
     "output_type": "display_data"
    },
    {
     "data": {
      "text/html": [
       "Successfully finished last run (ID:9tz605wk). Initializing new run:<br/>"
      ],
      "text/plain": [
       "<IPython.core.display.HTML object>"
      ]
     },
     "metadata": {},
     "output_type": "display_data"
    },
    {
     "data": {
      "application/vnd.jupyter.widget-view+json": {
       "model_id": "905b715475774cf3b218fa6d9f73c12b",
       "version_major": 2,
       "version_minor": 0
      },
      "text/plain": [
       "VBox(children=(Label(value='Waiting for wandb.init()...\\r'), FloatProgress(value=0.011112659900552697, max=1.0…"
      ]
     },
     "metadata": {},
     "output_type": "display_data"
    },
    {
     "name": "stderr",
     "output_type": "stream",
     "text": [
      "Thread WriterThread:\n",
      "Traceback (most recent call last):\n",
      "  File \"/its/home/nn268/.local/lib/python3.10/site-packages/wandb/sdk/internal/internal_util.py\", line 49, in run\n",
      "    self._run()\n",
      "  File \"/its/home/nn268/.local/lib/python3.10/site-packages/wandb/sdk/internal/internal_util.py\", line 100, in _run\n",
      "    self._process(record)\n",
      "  File \"/its/home/nn268/.local/lib/python3.10/site-packages/wandb/sdk/internal/internal.py\", line 380, in _process\n",
      "    self._wm.write(record)\n",
      "  File \"/its/home/nn268/.local/lib/python3.10/site-packages/wandb/sdk/internal/writer.py\", line 154, in write\n",
      "    write_handler(record)\n",
      "  File \"/its/home/nn268/.local/lib/python3.10/site-packages/wandb/sdk/internal/writer.py\", line 131, in _write\n",
      "    self.open()\n",
      "  File \"/its/home/nn268/.local/lib/python3.10/site-packages/wandb/sdk/internal/writer.py\", line 71, in open\n",
      "    self._ds.open_for_write(self._settings.sync_file)\n",
      "  File \"/its/home/nn268/.local/lib/python3.10/site-packages/wandb/sdk/internal/datastore.py\", line 87, in open_for_write\n",
      "    self._fp = open(fname, open_flags)\n",
      "FileExistsError: [Errno 17] File exists: '/its/home/nn268/antvis/antvis/optics/wandb/run-20231207_054754-9tz605wk/run-9tz605wk.wandb'\n",
      "wandb: ERROR Internal wandb error: file data was not synced\n",
      "Traceback (most recent call last):\n",
      "  File \"/tmp/ipykernel_3028376/1426131372.py\", line 6, in tr\n",
      "    model, save_dict = pipeline(config)\n",
      "  File \"/tmp/ipykernel_3028376/703131281.py\", line 192, in pipeline\n",
      "    with wandb.init(project=title, config=config):\n",
      "  File \"/its/home/nn268/.local/lib/python3.10/site-packages/wandb/sdk/wandb_init.py\", line 1185, in init\n",
      "    raise e\n",
      "  File \"/its/home/nn268/.local/lib/python3.10/site-packages/wandb/sdk/wandb_init.py\", line 1166, in init\n",
      "    run = wi.init()\n",
      "  File \"/its/home/nn268/.local/lib/python3.10/site-packages/wandb/sdk/wandb_init.py\", line 752, in init\n",
      "    result = run_init_handle.wait(\n",
      "  File \"/its/home/nn268/.local/lib/python3.10/site-packages/wandb/sdk/lib/mailbox.py\", line 281, in wait\n",
      "    raise MailboxError(\"transport failed\")\n",
      "wandb.sdk.lib.mailbox.MailboxError: transport failed\n",
      "\u001b[34m\u001b[1mwandb\u001b[0m: \u001b[32m\u001b[41mERROR\u001b[0m Run 9tz605wk errored: BrokenPipeError(32, 'Broken pipe')\n"
     ]
    },
    {
     "name": "stdout",
     "output_type": "stream",
     "text": [
      "Problem at: /tmp/ipykernel_3028376/703131281.py 192 pipeline\n"
     ]
    },
    {
     "name": "stderr",
     "output_type": "stream",
     "text": [
      "\u001b[34m\u001b[1mwandb\u001b[0m: Agent Starting Run: 8grr76kj with config:\n",
      "\u001b[34m\u001b[1mwandb\u001b[0m: \tchannels: 3\n",
      "\u001b[34m\u001b[1mwandb\u001b[0m: \tdata_set: Augmented\n",
      "\u001b[34m\u001b[1mwandb\u001b[0m: \tepochs: 70\n",
      "\u001b[34m\u001b[1mwandb\u001b[0m: \tfirst_lin_lay: 248832\n",
      "\u001b[34m\u001b[1mwandb\u001b[0m: \timage_path: /its/home/nn268/optics/AugmentedDS_IDSW/\n",
      "\u001b[34m\u001b[1mwandb\u001b[0m: \tks: [3, 5]\n",
      "\u001b[34m\u001b[1mwandb\u001b[0m: \tlearning_rate: 5.742798904072966e-05\n",
      "\u001b[34m\u001b[1mwandb\u001b[0m: \tloss_fn: MSE\n",
      "\u001b[34m\u001b[1mwandb\u001b[0m: \tmodel_name: vgg16net_mlp\n",
      "\u001b[34m\u001b[1mwandb\u001b[0m: \tnum_classes: 11\n",
      "\u001b[34m\u001b[1mwandb\u001b[0m: \toptimizer: adam\n",
      "\u001b[34m\u001b[1mwandb\u001b[0m: \tscheduler: 0.001\n"
     ]
    },
    {
     "data": {
      "text/html": [
       "wandb version 0.16.1 is available!  To upgrade, please run:\n",
       " $ pip install wandb --upgrade"
      ],
      "text/plain": [
       "<IPython.core.display.HTML object>"
      ]
     },
     "metadata": {},
     "output_type": "display_data"
    },
    {
     "data": {
      "text/html": [
       "Tracking run with wandb version 0.16.0"
      ],
      "text/plain": [
       "<IPython.core.display.HTML object>"
      ]
     },
     "metadata": {},
     "output_type": "display_data"
    },
    {
     "data": {
      "text/html": [
       "Run data is saved locally in <code>/its/home/nn268/antvis/antvis/optics/wandb/run-20231207_054814-8grr76kj</code>"
      ],
      "text/plain": [
       "<IPython.core.display.HTML object>"
      ]
     },
     "metadata": {},
     "output_type": "display_data"
    },
    {
     "data": {
      "text/html": [
       "Syncing run <strong><a href='https://wandb.ai/antvis/IDSW_vgg_fine_hp_80_112023/runs/8grr76kj' target=\"_blank\">swift-sweep-17</a></strong> to <a href='https://wandb.ai/antvis/IDSW_vgg_fine_hp_80_112023' target=\"_blank\">Weights & Biases</a> (<a href='https://wandb.me/run' target=\"_blank\">docs</a>)<br/>Sweep page: <a href='https://wandb.ai/antvis/IDSW_vgg_fine_hp_80_112023/sweeps/obcz0eq3' target=\"_blank\">https://wandb.ai/antvis/IDSW_vgg_fine_hp_80_112023/sweeps/obcz0eq3</a>"
      ],
      "text/plain": [
       "<IPython.core.display.HTML object>"
      ]
     },
     "metadata": {},
     "output_type": "display_data"
    },
    {
     "data": {
      "text/html": [
       " View project at <a href='https://wandb.ai/antvis/IDSW_vgg_fine_hp_80_112023' target=\"_blank\">https://wandb.ai/antvis/IDSW_vgg_fine_hp_80_112023</a>"
      ],
      "text/plain": [
       "<IPython.core.display.HTML object>"
      ]
     },
     "metadata": {},
     "output_type": "display_data"
    },
    {
     "data": {
      "text/html": [
       " View sweep at <a href='https://wandb.ai/antvis/IDSW_vgg_fine_hp_80_112023/sweeps/obcz0eq3' target=\"_blank\">https://wandb.ai/antvis/IDSW_vgg_fine_hp_80_112023/sweeps/obcz0eq3</a>"
      ],
      "text/plain": [
       "<IPython.core.display.HTML object>"
      ]
     },
     "metadata": {},
     "output_type": "display_data"
    },
    {
     "data": {
      "text/html": [
       " View run at <a href='https://wandb.ai/antvis/IDSW_vgg_fine_hp_80_112023/runs/8grr76kj' target=\"_blank\">https://wandb.ai/antvis/IDSW_vgg_fine_hp_80_112023/runs/8grr76kj</a>"
      ],
      "text/plain": [
       "<IPython.core.display.HTML object>"
      ]
     },
     "metadata": {},
     "output_type": "display_data"
    },
    {
     "name": "stderr",
     "output_type": "stream",
     "text": [
      "\u001b[34m\u001b[1mwandb\u001b[0m: \u001b[33mWARNING\u001b[0m Ignored wandb.init() arg project when running a sweep.\n"
     ]
    },
    {
     "data": {
      "text/html": [
       "Finishing last run (ID:8grr76kj) before initializing another..."
      ],
      "text/plain": [
       "<IPython.core.display.HTML object>"
      ]
     },
     "metadata": {},
     "output_type": "display_data"
    },
    {
     "data": {
      "application/vnd.jupyter.widget-view+json": {
       "model_id": "",
       "version_major": 2,
       "version_minor": 0
      },
      "text/plain": [
       "VBox(children=(Label(value='0.006 MB of 0.006 MB uploaded\\r'), FloatProgress(value=1.0, max=1.0)))"
      ]
     },
     "metadata": {},
     "output_type": "display_data"
    },
    {
     "data": {
      "text/html": [
       " View run <strong style=\"color:#cdcd00\">swift-sweep-17</strong> at: <a href='https://wandb.ai/antvis/IDSW_vgg_fine_hp_80_112023/runs/8grr76kj' target=\"_blank\">https://wandb.ai/antvis/IDSW_vgg_fine_hp_80_112023/runs/8grr76kj</a><br/>Synced 5 W&B file(s), 0 media file(s), 0 artifact file(s) and 0 other file(s)"
      ],
      "text/plain": [
       "<IPython.core.display.HTML object>"
      ]
     },
     "metadata": {},
     "output_type": "display_data"
    },
    {
     "data": {
      "text/html": [
       "Find logs at: <code>./wandb/run-20231207_054814-8grr76kj/logs</code>"
      ],
      "text/plain": [
       "<IPython.core.display.HTML object>"
      ]
     },
     "metadata": {},
     "output_type": "display_data"
    },
    {
     "data": {
      "text/html": [
       "Successfully finished last run (ID:8grr76kj). Initializing new run:<br/>"
      ],
      "text/plain": [
       "<IPython.core.display.HTML object>"
      ]
     },
     "metadata": {},
     "output_type": "display_data"
    },
    {
     "data": {
      "application/vnd.jupyter.widget-view+json": {
       "model_id": "e587c13f480a4ed09ecb46fe7d9cdc5d",
       "version_major": 2,
       "version_minor": 0
      },
      "text/plain": [
       "VBox(children=(Label(value='Waiting for wandb.init()...\\r'), FloatProgress(value=0.011112795922801726, max=1.0…"
      ]
     },
     "metadata": {},
     "output_type": "display_data"
    },
    {
     "data": {
      "text/html": [
       "wandb version 0.16.1 is available!  To upgrade, please run:\n",
       " $ pip install wandb --upgrade"
      ],
      "text/plain": [
       "<IPython.core.display.HTML object>"
      ]
     },
     "metadata": {},
     "output_type": "display_data"
    },
    {
     "data": {
      "text/html": [
       "Tracking run with wandb version 0.16.0"
      ],
      "text/plain": [
       "<IPython.core.display.HTML object>"
      ]
     },
     "metadata": {},
     "output_type": "display_data"
    },
    {
     "data": {
      "text/html": [
       "Run data is saved locally in <code>/its/home/nn268/antvis/antvis/optics/wandb/run-20231207_054815-8grr76kj</code>"
      ],
      "text/plain": [
       "<IPython.core.display.HTML object>"
      ]
     },
     "metadata": {},
     "output_type": "display_data"
    },
    {
     "data": {
      "text/html": [
       "Syncing run <strong><a href='https://wandb.ai/antvis/IDSW_vgg_fine_hp_80_112023/runs/8grr76kj' target=\"_blank\">swift-sweep-17</a></strong> to <a href='https://wandb.ai/antvis/IDSW_vgg_fine_hp_80_112023' target=\"_blank\">Weights & Biases</a> (<a href='https://wandb.me/run' target=\"_blank\">docs</a>)<br/>Sweep page: <a href='https://wandb.ai/antvis/IDSW_vgg_fine_hp_80_112023/sweeps/obcz0eq3' target=\"_blank\">https://wandb.ai/antvis/IDSW_vgg_fine_hp_80_112023/sweeps/obcz0eq3</a>"
      ],
      "text/plain": [
       "<IPython.core.display.HTML object>"
      ]
     },
     "metadata": {},
     "output_type": "display_data"
    },
    {
     "data": {
      "text/html": [
       " View project at <a href='https://wandb.ai/antvis/IDSW_vgg_fine_hp_80_112023' target=\"_blank\">https://wandb.ai/antvis/IDSW_vgg_fine_hp_80_112023</a>"
      ],
      "text/plain": [
       "<IPython.core.display.HTML object>"
      ]
     },
     "metadata": {},
     "output_type": "display_data"
    },
    {
     "data": {
      "text/html": [
       " View sweep at <a href='https://wandb.ai/antvis/IDSW_vgg_fine_hp_80_112023/sweeps/obcz0eq3' target=\"_blank\">https://wandb.ai/antvis/IDSW_vgg_fine_hp_80_112023/sweeps/obcz0eq3</a>"
      ],
      "text/plain": [
       "<IPython.core.display.HTML object>"
      ]
     },
     "metadata": {},
     "output_type": "display_data"
    },
    {
     "data": {
      "text/html": [
       " View run at <a href='https://wandb.ai/antvis/IDSW_vgg_fine_hp_80_112023/runs/8grr76kj' target=\"_blank\">https://wandb.ai/antvis/IDSW_vgg_fine_hp_80_112023/runs/8grr76kj</a>"
      ],
      "text/plain": [
       "<IPython.core.display.HTML object>"
      ]
     },
     "metadata": {},
     "output_type": "display_data"
    },
    {
     "name": "stderr",
     "output_type": "stream",
     "text": [
      "  0%| | 0/70 [00:"
     ]
    },
    {
     "name": "stdout",
     "output_type": "stream",
     "text": [
      "E    0\n",
      "training...\n",
      "validating...\n"
     ]
    },
    {
     "name": "stderr",
     "output_type": "stream",
     "text": [
      "  1%| | 1/70 [00:"
     ]
    },
    {
     "name": "stdout",
     "output_type": "stream",
     "text": [
      "improvment in metrics. model saved\n",
      "E    1\n",
      "training...\n",
      "validating...\n"
     ]
    },
    {
     "name": "stderr",
     "output_type": "stream",
     "text": [
      "  3%| | 2/70 [01:"
     ]
    },
    {
     "name": "stdout",
     "output_type": "stream",
     "text": [
      "E    2\n",
      "training...\n",
      "validating...\n"
     ]
    },
    {
     "name": "stderr",
     "output_type": "stream",
     "text": [
      "  4%| | 3/70 [02:"
     ]
    },
    {
     "name": "stdout",
     "output_type": "stream",
     "text": [
      "E    3\n",
      "training...\n",
      "validating...\n"
     ]
    },
    {
     "name": "stderr",
     "output_type": "stream",
     "text": [
      "  6%| | 4/70 [03:"
     ]
    },
    {
     "name": "stdout",
     "output_type": "stream",
     "text": [
      "E    4\n",
      "training...\n",
      "validating...\n"
     ]
    },
    {
     "name": "stderr",
     "output_type": "stream",
     "text": [
      "  7%| | 5/70 [03:"
     ]
    },
    {
     "name": "stdout",
     "output_type": "stream",
     "text": [
      "E    5\n",
      "training...\n",
      "validating...\n"
     ]
    },
    {
     "name": "stderr",
     "output_type": "stream",
     "text": [
      "  9%| | 6/70 [04:"
     ]
    },
    {
     "name": "stdout",
     "output_type": "stream",
     "text": [
      "E    6\n",
      "training...\n",
      "validating...\n"
     ]
    },
    {
     "name": "stderr",
     "output_type": "stream",
     "text": [
      " 10%| | 7/70 [05:"
     ]
    },
    {
     "name": "stdout",
     "output_type": "stream",
     "text": [
      "E    7\n",
      "training...\n",
      "validating...\n"
     ]
    },
    {
     "name": "stderr",
     "output_type": "stream",
     "text": [
      " 11%| | 8/70 [06:"
     ]
    },
    {
     "name": "stdout",
     "output_type": "stream",
     "text": [
      "E    8\n",
      "training...\n",
      "validating...\n"
     ]
    },
    {
     "name": "stderr",
     "output_type": "stream",
     "text": [
      " 13%|▏| 9/70 [06:"
     ]
    },
    {
     "name": "stdout",
     "output_type": "stream",
     "text": [
      "E    9\n",
      "training...\n",
      "validating...\n"
     ]
    },
    {
     "name": "stderr",
     "output_type": "stream",
     "text": [
      " 14%|▏| 10/70 [07"
     ]
    },
    {
     "name": "stdout",
     "output_type": "stream",
     "text": [
      "E    10\n",
      "training...\n",
      "validating...\n"
     ]
    },
    {
     "name": "stderr",
     "output_type": "stream",
     "text": [
      " 16%|▏| 11/70 [08"
     ]
    },
    {
     "name": "stdout",
     "output_type": "stream",
     "text": [
      "E    11\n",
      "training...\n",
      "validating...\n"
     ]
    },
    {
     "name": "stderr",
     "output_type": "stream",
     "text": [
      " 17%|▏| 12/70 [08"
     ]
    },
    {
     "name": "stdout",
     "output_type": "stream",
     "text": [
      "E    12\n",
      "training...\n",
      "validating...\n"
     ]
    },
    {
     "name": "stderr",
     "output_type": "stream",
     "text": [
      " 19%|▏| 13/70 [09"
     ]
    },
    {
     "name": "stdout",
     "output_type": "stream",
     "text": [
      "E    13\n",
      "training...\n",
      "validating...\n"
     ]
    },
    {
     "name": "stderr",
     "output_type": "stream",
     "text": [
      " 20%|▏| 14/70 [10"
     ]
    },
    {
     "name": "stdout",
     "output_type": "stream",
     "text": [
      "E    14\n",
      "training...\n",
      "validating...\n"
     ]
    },
    {
     "name": "stderr",
     "output_type": "stream",
     "text": [
      " 21%|▏| 15/70 [11"
     ]
    },
    {
     "name": "stdout",
     "output_type": "stream",
     "text": [
      "E    15\n",
      "training...\n",
      "validating...\n"
     ]
    },
    {
     "name": "stderr",
     "output_type": "stream",
     "text": [
      " 23%|▏| 16/70 [11"
     ]
    },
    {
     "name": "stdout",
     "output_type": "stream",
     "text": [
      "E    16\n",
      "training...\n",
      "validating...\n"
     ]
    },
    {
     "name": "stderr",
     "output_type": "stream",
     "text": [
      " 24%|▏| 17/70 [12"
     ]
    },
    {
     "name": "stdout",
     "output_type": "stream",
     "text": [
      "E    17\n",
      "training...\n",
      "validating...\n"
     ]
    },
    {
     "name": "stderr",
     "output_type": "stream",
     "text": [
      " 26%|▎| 18/70 [13"
     ]
    },
    {
     "name": "stdout",
     "output_type": "stream",
     "text": [
      "E    18\n",
      "training...\n",
      "validating...\n"
     ]
    },
    {
     "name": "stderr",
     "output_type": "stream",
     "text": [
      " 27%|▎| 19/70 [14"
     ]
    },
    {
     "name": "stdout",
     "output_type": "stream",
     "text": [
      "E    19\n",
      "training...\n",
      "validating...\n"
     ]
    },
    {
     "name": "stderr",
     "output_type": "stream",
     "text": [
      " 29%|▎| 20/70 [14"
     ]
    },
    {
     "name": "stdout",
     "output_type": "stream",
     "text": [
      "E    20\n",
      "training...\n",
      "validating...\n"
     ]
    },
    {
     "name": "stderr",
     "output_type": "stream",
     "text": [
      " 30%|▎| 21/70 [15"
     ]
    },
    {
     "name": "stdout",
     "output_type": "stream",
     "text": [
      "E    21\n",
      "training...\n",
      "validating...\n"
     ]
    },
    {
     "name": "stderr",
     "output_type": "stream",
     "text": [
      " 31%|▎| 22/70 [16"
     ]
    },
    {
     "name": "stdout",
     "output_type": "stream",
     "text": [
      "E    22\n",
      "training...\n",
      "validating...\n"
     ]
    },
    {
     "name": "stderr",
     "output_type": "stream",
     "text": [
      " 33%|▎| 23/70 [17"
     ]
    },
    {
     "name": "stdout",
     "output_type": "stream",
     "text": [
      "E    23\n",
      "training...\n",
      "validating...\n"
     ]
    },
    {
     "name": "stderr",
     "output_type": "stream",
     "text": [
      " 34%|▎| 24/70 [17"
     ]
    },
    {
     "name": "stdout",
     "output_type": "stream",
     "text": [
      "E    24\n",
      "training...\n",
      "validating...\n"
     ]
    },
    {
     "name": "stderr",
     "output_type": "stream",
     "text": [
      " 36%|▎| 25/70 [18"
     ]
    },
    {
     "name": "stdout",
     "output_type": "stream",
     "text": [
      "E    25\n",
      "training...\n",
      "validating...\n"
     ]
    },
    {
     "name": "stderr",
     "output_type": "stream",
     "text": [
      " 37%|▎| 26/70 [19"
     ]
    },
    {
     "name": "stdout",
     "output_type": "stream",
     "text": [
      "E    26\n",
      "training...\n",
      "validating...\n"
     ]
    },
    {
     "name": "stderr",
     "output_type": "stream",
     "text": [
      " 39%|▍| 27/70 [19"
     ]
    },
    {
     "name": "stdout",
     "output_type": "stream",
     "text": [
      "E    27\n",
      "training...\n",
      "validating...\n"
     ]
    },
    {
     "name": "stderr",
     "output_type": "stream",
     "text": [
      " 40%|▍| 28/70 [20"
     ]
    },
    {
     "name": "stdout",
     "output_type": "stream",
     "text": [
      "E    28\n",
      "training...\n",
      "validating...\n"
     ]
    },
    {
     "name": "stderr",
     "output_type": "stream",
     "text": [
      " 41%|▍| 29/70 [21"
     ]
    },
    {
     "name": "stdout",
     "output_type": "stream",
     "text": [
      "E    29\n",
      "training...\n",
      "validating...\n"
     ]
    },
    {
     "name": "stderr",
     "output_type": "stream",
     "text": [
      " 43%|▍| 30/70 [22"
     ]
    },
    {
     "name": "stdout",
     "output_type": "stream",
     "text": [
      "E    30\n",
      "training...\n",
      "validating...\n"
     ]
    },
    {
     "name": "stderr",
     "output_type": "stream",
     "text": [
      " 44%|▍| 31/70 [22"
     ]
    },
    {
     "name": "stdout",
     "output_type": "stream",
     "text": [
      "E    31\n",
      "training...\n",
      "validating...\n"
     ]
    },
    {
     "name": "stderr",
     "output_type": "stream",
     "text": [
      " 46%|▍| 32/70 [23"
     ]
    },
    {
     "name": "stdout",
     "output_type": "stream",
     "text": [
      "E    32\n",
      "training...\n",
      "validating...\n"
     ]
    },
    {
     "name": "stderr",
     "output_type": "stream",
     "text": [
      " 47%|▍| 33/70 [24"
     ]
    },
    {
     "name": "stdout",
     "output_type": "stream",
     "text": [
      "E    33\n",
      "training...\n",
      "validating...\n"
     ]
    },
    {
     "name": "stderr",
     "output_type": "stream",
     "text": [
      " 49%|▍| 34/70 [24"
     ]
    },
    {
     "name": "stdout",
     "output_type": "stream",
     "text": [
      "E    34\n",
      "training...\n",
      "validating...\n"
     ]
    },
    {
     "name": "stderr",
     "output_type": "stream",
     "text": [
      " 50%|▌| 35/70 [25"
     ]
    },
    {
     "name": "stdout",
     "output_type": "stream",
     "text": [
      "E    35\n",
      "training...\n",
      "validating...\n"
     ]
    },
    {
     "name": "stderr",
     "output_type": "stream",
     "text": [
      " 51%|▌| 36/70 [26"
     ]
    },
    {
     "name": "stdout",
     "output_type": "stream",
     "text": [
      "E    36\n",
      "training...\n",
      "validating...\n"
     ]
    },
    {
     "name": "stderr",
     "output_type": "stream",
     "text": [
      " 53%|▌| 37/70 [27"
     ]
    },
    {
     "name": "stdout",
     "output_type": "stream",
     "text": [
      "E    37\n",
      "training...\n",
      "validating...\n"
     ]
    },
    {
     "name": "stderr",
     "output_type": "stream",
     "text": [
      " 54%|▌| 38/70 [27"
     ]
    },
    {
     "name": "stdout",
     "output_type": "stream",
     "text": [
      "E    38\n",
      "training...\n",
      "validating...\n"
     ]
    },
    {
     "name": "stderr",
     "output_type": "stream",
     "text": [
      " 56%|▌| 39/70 [28"
     ]
    },
    {
     "name": "stdout",
     "output_type": "stream",
     "text": [
      "E    39\n",
      "training...\n",
      "validating...\n"
     ]
    },
    {
     "name": "stderr",
     "output_type": "stream",
     "text": [
      " 57%|▌| 40/70 [29"
     ]
    },
    {
     "name": "stdout",
     "output_type": "stream",
     "text": [
      "E    40\n",
      "training...\n",
      "validating...\n"
     ]
    },
    {
     "name": "stderr",
     "output_type": "stream",
     "text": [
      " 59%|▌| 41/70 [30"
     ]
    },
    {
     "name": "stdout",
     "output_type": "stream",
     "text": [
      "E    41\n",
      "training...\n",
      "validating...\n"
     ]
    },
    {
     "name": "stderr",
     "output_type": "stream",
     "text": [
      " 60%|▌| 42/70 [30"
     ]
    },
    {
     "name": "stdout",
     "output_type": "stream",
     "text": [
      "E    42\n",
      "training...\n",
      "validating...\n"
     ]
    },
    {
     "name": "stderr",
     "output_type": "stream",
     "text": [
      " 61%|▌| 43/70 [31"
     ]
    },
    {
     "name": "stdout",
     "output_type": "stream",
     "text": [
      "E    43\n",
      "training...\n",
      "validating...\n"
     ]
    },
    {
     "name": "stderr",
     "output_type": "stream",
     "text": [
      " 63%|▋| 44/70 [32"
     ]
    },
    {
     "name": "stdout",
     "output_type": "stream",
     "text": [
      "E    44\n",
      "training...\n",
      "validating...\n"
     ]
    },
    {
     "name": "stderr",
     "output_type": "stream",
     "text": [
      " 64%|▋| 45/70 [32"
     ]
    },
    {
     "name": "stdout",
     "output_type": "stream",
     "text": [
      "E    45\n",
      "training...\n",
      "validating...\n"
     ]
    },
    {
     "name": "stderr",
     "output_type": "stream",
     "text": [
      " 66%|▋| 46/70 [33"
     ]
    },
    {
     "name": "stdout",
     "output_type": "stream",
     "text": [
      "E    46\n",
      "training...\n",
      "validating...\n"
     ]
    },
    {
     "name": "stderr",
     "output_type": "stream",
     "text": [
      " 67%|▋| 47/70 [34"
     ]
    },
    {
     "name": "stdout",
     "output_type": "stream",
     "text": [
      "E    47\n",
      "training...\n",
      "validating...\n"
     ]
    },
    {
     "name": "stderr",
     "output_type": "stream",
     "text": [
      " 69%|▋| 48/70 [35"
     ]
    },
    {
     "name": "stdout",
     "output_type": "stream",
     "text": [
      "E    48\n",
      "training...\n",
      "validating...\n"
     ]
    },
    {
     "name": "stderr",
     "output_type": "stream",
     "text": [
      " 70%|▋| 49/70 [35"
     ]
    },
    {
     "name": "stdout",
     "output_type": "stream",
     "text": [
      "E    49\n",
      "training...\n",
      "validating...\n"
     ]
    },
    {
     "name": "stderr",
     "output_type": "stream",
     "text": [
      " 71%|▋| 50/70 [36"
     ]
    },
    {
     "name": "stdout",
     "output_type": "stream",
     "text": [
      "E    50\n",
      "training...\n",
      "validating...\n"
     ]
    },
    {
     "name": "stderr",
     "output_type": "stream",
     "text": [
      " 73%|▋| 51/70 [37"
     ]
    },
    {
     "name": "stdout",
     "output_type": "stream",
     "text": [
      "E    51\n",
      "training...\n",
      "validating...\n"
     ]
    },
    {
     "name": "stderr",
     "output_type": "stream",
     "text": [
      " 74%|▋| 52/70 [37"
     ]
    },
    {
     "name": "stdout",
     "output_type": "stream",
     "text": [
      "E    52\n",
      "training...\n",
      "validating...\n"
     ]
    },
    {
     "name": "stderr",
     "output_type": "stream",
     "text": [
      " 76%|▊| 53/70 [38"
     ]
    },
    {
     "name": "stdout",
     "output_type": "stream",
     "text": [
      "E    53\n",
      "training...\n",
      "validating...\n"
     ]
    },
    {
     "name": "stderr",
     "output_type": "stream",
     "text": [
      " 77%|▊| 54/70 [39"
     ]
    },
    {
     "name": "stdout",
     "output_type": "stream",
     "text": [
      "E    54\n",
      "training...\n",
      "validating...\n"
     ]
    },
    {
     "name": "stderr",
     "output_type": "stream",
     "text": [
      " 79%|▊| 55/70 [40"
     ]
    },
    {
     "name": "stdout",
     "output_type": "stream",
     "text": [
      "E    55\n",
      "training...\n",
      "validating...\n"
     ]
    },
    {
     "name": "stderr",
     "output_type": "stream",
     "text": [
      " 80%|▊| 56/70 [40"
     ]
    },
    {
     "name": "stdout",
     "output_type": "stream",
     "text": [
      "E    56\n",
      "training...\n",
      "validating...\n"
     ]
    },
    {
     "name": "stderr",
     "output_type": "stream",
     "text": [
      " 81%|▊| 57/70 [41"
     ]
    },
    {
     "name": "stdout",
     "output_type": "stream",
     "text": [
      "E    57\n",
      "training...\n",
      "validating...\n"
     ]
    },
    {
     "name": "stderr",
     "output_type": "stream",
     "text": [
      " 83%|▊| 58/70 [42"
     ]
    },
    {
     "name": "stdout",
     "output_type": "stream",
     "text": [
      "E    58\n",
      "training...\n",
      "validating...\n"
     ]
    },
    {
     "name": "stderr",
     "output_type": "stream",
     "text": [
      " 84%|▊| 59/70 [42"
     ]
    },
    {
     "name": "stdout",
     "output_type": "stream",
     "text": [
      "E    59\n",
      "training...\n",
      "validating...\n"
     ]
    },
    {
     "name": "stderr",
     "output_type": "stream",
     "text": [
      " 86%|▊| 60/70 [43"
     ]
    },
    {
     "name": "stdout",
     "output_type": "stream",
     "text": [
      "E    60\n",
      "training...\n",
      "validating...\n"
     ]
    },
    {
     "name": "stderr",
     "output_type": "stream",
     "text": [
      " 87%|▊| 61/70 [44"
     ]
    },
    {
     "name": "stdout",
     "output_type": "stream",
     "text": [
      "E    61\n",
      "training...\n",
      "validating...\n"
     ]
    },
    {
     "name": "stderr",
     "output_type": "stream",
     "text": [
      " 89%|▉| 62/70 [45"
     ]
    },
    {
     "name": "stdout",
     "output_type": "stream",
     "text": [
      "E    62\n",
      "training...\n",
      "validating...\n"
     ]
    },
    {
     "name": "stderr",
     "output_type": "stream",
     "text": [
      " 90%|▉| 63/70 [45"
     ]
    },
    {
     "name": "stdout",
     "output_type": "stream",
     "text": [
      "E    63\n",
      "training...\n",
      "validating...\n"
     ]
    },
    {
     "name": "stderr",
     "output_type": "stream",
     "text": [
      " 91%|▉| 64/70 [46"
     ]
    },
    {
     "name": "stdout",
     "output_type": "stream",
     "text": [
      "E    64\n",
      "training...\n",
      "validating...\n"
     ]
    },
    {
     "name": "stderr",
     "output_type": "stream",
     "text": [
      " 93%|▉| 65/70 [47"
     ]
    },
    {
     "name": "stdout",
     "output_type": "stream",
     "text": [
      "E    65\n",
      "training...\n",
      "validating...\n"
     ]
    },
    {
     "name": "stderr",
     "output_type": "stream",
     "text": [
      " 94%|▉| 66/70 [47"
     ]
    },
    {
     "name": "stdout",
     "output_type": "stream",
     "text": [
      "E    66\n",
      "training...\n",
      "validating...\n"
     ]
    },
    {
     "name": "stderr",
     "output_type": "stream",
     "text": [
      " 96%|▉| 67/70 [48"
     ]
    },
    {
     "name": "stdout",
     "output_type": "stream",
     "text": [
      "E    67\n",
      "training...\n",
      "validating...\n"
     ]
    },
    {
     "name": "stderr",
     "output_type": "stream",
     "text": [
      " 97%|▉| 68/70 [49"
     ]
    },
    {
     "name": "stdout",
     "output_type": "stream",
     "text": [
      "E    68\n",
      "training...\n",
      "validating...\n"
     ]
    },
    {
     "name": "stderr",
     "output_type": "stream",
     "text": [
      " 99%|▉| 69/70 [50"
     ]
    },
    {
     "name": "stdout",
     "output_type": "stream",
     "text": [
      "E    69\n",
      "training...\n",
      "validating...\n"
     ]
    },
    {
     "name": "stderr",
     "output_type": "stream",
     "text": [
      "100%|█| 70/70 [50\n"
     ]
    },
    {
     "data": {
      "application/vnd.jupyter.widget-view+json": {
       "model_id": "",
       "version_major": 2,
       "version_minor": 0
      },
      "text/plain": [
       "VBox(children=(Label(value='0.006 MB of 0.006 MB uploaded\\r'), FloatProgress(value=1.0, max=1.0)))"
      ]
     },
     "metadata": {},
     "output_type": "display_data"
    },
    {
     "data": {
      "text/html": [
       "<style>\n",
       "    table.wandb td:nth-child(1) { padding: 0 10px; text-align: left ; width: auto;} td:nth-child(2) {text-align: left ; width: 100%}\n",
       "    .wandb-row { display: flex; flex-direction: row; flex-wrap: wrap; justify-content: flex-start; width: 100% }\n",
       "    .wandb-col { display: flex; flex-direction: column; flex-basis: 100%; flex: 1; padding: 10px; }\n",
       "    </style>\n",
       "<div class=\"wandb-row\"><div class=\"wandb-col\"><h3>Run history:</h3><br/><table class=\"wandb\"><tr><td>epoch</td><td>▁▁▁▁▂▂▂▂▂▃▃▃▃▃▃▄▄▄▄▄▅▅▅▅▅▆▆▆▆▆▆▇▇▇▇▇████</td></tr><tr><td>t_loss</td><td>█████████████████████▁▁████████████</td></tr><tr><td>train_accuracy_%</td><td>▆█▁▄▆▄▃▆▅▂▄▁▂▅▄▃█▄▅▇▇▃▄▅▃▅▂▄▆▄▁▃▅▅▇</td></tr><tr><td>v_loss</td><td>▁▁▁▁▁▁▁▁▁▁▁▁▁▁▁▁▁▁▁▁▁▁▁▁▁▁▁▁▁▁▁▁▁▁▁</td></tr><tr><td>val_accuracy_%</td><td>▁▁▁▁▁▁▁▁▁▁▁▁▁▁▁▁▁▁▁▁▁▁▁▁▁▁▁▁▁▁▁▁▁▁▁</td></tr></table><br/></div><div class=\"wandb-col\"><h3>Run summary:</h3><br/><table class=\"wandb\"><tr><td>epoch</td><td>69</td></tr><tr><td>t_loss</td><td>0.18182</td></tr><tr><td>train_accuracy_%</td><td>0.09836</td></tr><tr><td>v_loss</td><td>0.18182</td></tr><tr><td>val_accuracy_%</td><td>0.08</td></tr></table><br/></div></div>"
      ],
      "text/plain": [
       "<IPython.core.display.HTML object>"
      ]
     },
     "metadata": {},
     "output_type": "display_data"
    },
    {
     "data": {
      "text/html": [
       " View run <strong style=\"color:#cdcd00\">swift-sweep-17</strong> at: <a href='https://wandb.ai/antvis/IDSW_vgg_fine_hp_80_112023/runs/8grr76kj' target=\"_blank\">https://wandb.ai/antvis/IDSW_vgg_fine_hp_80_112023/runs/8grr76kj</a><br/>Synced 5 W&B file(s), 0 media file(s), 0 artifact file(s) and 0 other file(s)"
      ],
      "text/plain": [
       "<IPython.core.display.HTML object>"
      ]
     },
     "metadata": {},
     "output_type": "display_data"
    },
    {
     "data": {
      "text/html": [
       "Find logs at: <code>./wandb/run-20231207_054815-8grr76kj/logs</code>"
      ],
      "text/plain": [
       "<IPython.core.display.HTML object>"
      ]
     },
     "metadata": {},
     "output_type": "display_data"
    },
    {
     "name": "stderr",
     "output_type": "stream",
     "text": [
      "\u001b[34m\u001b[1mwandb\u001b[0m: Sweep Agent: Waiting for job.\n",
      "\u001b[34m\u001b[1mwandb\u001b[0m: Job received.\n",
      "\u001b[34m\u001b[1mwandb\u001b[0m: Agent Starting Run: 6tdm7uzo with config:\n",
      "\u001b[34m\u001b[1mwandb\u001b[0m: \tchannels: 3\n",
      "\u001b[34m\u001b[1mwandb\u001b[0m: \tdata_set: Augmented\n",
      "\u001b[34m\u001b[1mwandb\u001b[0m: \tepochs: 70\n",
      "\u001b[34m\u001b[1mwandb\u001b[0m: \tfirst_lin_lay: 248832\n",
      "\u001b[34m\u001b[1mwandb\u001b[0m: \timage_path: /its/home/nn268/optics/AugmentedDS_IDSW/\n",
      "\u001b[34m\u001b[1mwandb\u001b[0m: \tks: [3, 5]\n",
      "\u001b[34m\u001b[1mwandb\u001b[0m: \tlearning_rate: 0.0015962059569801668\n",
      "\u001b[34m\u001b[1mwandb\u001b[0m: \tloss_fn: CrossEntropy\n",
      "\u001b[34m\u001b[1mwandb\u001b[0m: \tmodel_name: vgg16net_mlp\n",
      "\u001b[34m\u001b[1mwandb\u001b[0m: \tnum_classes: 11\n",
      "\u001b[34m\u001b[1mwandb\u001b[0m: \toptimizer: adam\n",
      "\u001b[34m\u001b[1mwandb\u001b[0m: \tscheduler: 0.01\n"
     ]
    },
    {
     "data": {
      "text/html": [
       "wandb version 0.16.1 is available!  To upgrade, please run:\n",
       " $ pip install wandb --upgrade"
      ],
      "text/plain": [
       "<IPython.core.display.HTML object>"
      ]
     },
     "metadata": {},
     "output_type": "display_data"
    },
    {
     "data": {
      "text/html": [
       "Tracking run with wandb version 0.16.0"
      ],
      "text/plain": [
       "<IPython.core.display.HTML object>"
      ]
     },
     "metadata": {},
     "output_type": "display_data"
    },
    {
     "data": {
      "text/html": [
       "Run data is saved locally in <code>/its/home/nn268/antvis/antvis/optics/wandb/run-20231207_063926-6tdm7uzo</code>"
      ],
      "text/plain": [
       "<IPython.core.display.HTML object>"
      ]
     },
     "metadata": {},
     "output_type": "display_data"
    },
    {
     "data": {
      "text/html": [
       "Syncing run <strong><a href='https://wandb.ai/antvis/IDSW_vgg_fine_hp_80_112023/runs/6tdm7uzo' target=\"_blank\">revived-sweep-18</a></strong> to <a href='https://wandb.ai/antvis/IDSW_vgg_fine_hp_80_112023' target=\"_blank\">Weights & Biases</a> (<a href='https://wandb.me/run' target=\"_blank\">docs</a>)<br/>Sweep page: <a href='https://wandb.ai/antvis/IDSW_vgg_fine_hp_80_112023/sweeps/obcz0eq3' target=\"_blank\">https://wandb.ai/antvis/IDSW_vgg_fine_hp_80_112023/sweeps/obcz0eq3</a>"
      ],
      "text/plain": [
       "<IPython.core.display.HTML object>"
      ]
     },
     "metadata": {},
     "output_type": "display_data"
    },
    {
     "data": {
      "text/html": [
       " View project at <a href='https://wandb.ai/antvis/IDSW_vgg_fine_hp_80_112023' target=\"_blank\">https://wandb.ai/antvis/IDSW_vgg_fine_hp_80_112023</a>"
      ],
      "text/plain": [
       "<IPython.core.display.HTML object>"
      ]
     },
     "metadata": {},
     "output_type": "display_data"
    },
    {
     "data": {
      "text/html": [
       " View sweep at <a href='https://wandb.ai/antvis/IDSW_vgg_fine_hp_80_112023/sweeps/obcz0eq3' target=\"_blank\">https://wandb.ai/antvis/IDSW_vgg_fine_hp_80_112023/sweeps/obcz0eq3</a>"
      ],
      "text/plain": [
       "<IPython.core.display.HTML object>"
      ]
     },
     "metadata": {},
     "output_type": "display_data"
    },
    {
     "data": {
      "text/html": [
       " View run at <a href='https://wandb.ai/antvis/IDSW_vgg_fine_hp_80_112023/runs/6tdm7uzo' target=\"_blank\">https://wandb.ai/antvis/IDSW_vgg_fine_hp_80_112023/runs/6tdm7uzo</a>"
      ],
      "text/plain": [
       "<IPython.core.display.HTML object>"
      ]
     },
     "metadata": {},
     "output_type": "display_data"
    },
    {
     "name": "stderr",
     "output_type": "stream",
     "text": [
      "\u001b[34m\u001b[1mwandb\u001b[0m: \u001b[33mWARNING\u001b[0m Ignored wandb.init() arg project when running a sweep.\n"
     ]
    },
    {
     "data": {
      "text/html": [
       "Finishing last run (ID:6tdm7uzo) before initializing another..."
      ],
      "text/plain": [
       "<IPython.core.display.HTML object>"
      ]
     },
     "metadata": {},
     "output_type": "display_data"
    },
    {
     "data": {
      "application/vnd.jupyter.widget-view+json": {
       "model_id": "",
       "version_major": 2,
       "version_minor": 0
      },
      "text/plain": [
       "VBox(children=(Label(value='0.006 MB of 0.006 MB uploaded\\r'), FloatProgress(value=1.0, max=1.0)))"
      ]
     },
     "metadata": {},
     "output_type": "display_data"
    },
    {
     "data": {
      "text/html": [
       " View run <strong style=\"color:#cdcd00\">revived-sweep-18</strong> at: <a href='https://wandb.ai/antvis/IDSW_vgg_fine_hp_80_112023/runs/6tdm7uzo' target=\"_blank\">https://wandb.ai/antvis/IDSW_vgg_fine_hp_80_112023/runs/6tdm7uzo</a><br/>Synced 5 W&B file(s), 0 media file(s), 0 artifact file(s) and 0 other file(s)"
      ],
      "text/plain": [
       "<IPython.core.display.HTML object>"
      ]
     },
     "metadata": {},
     "output_type": "display_data"
    },
    {
     "data": {
      "text/html": [
       "Find logs at: <code>./wandb/run-20231207_063926-6tdm7uzo/logs</code>"
      ],
      "text/plain": [
       "<IPython.core.display.HTML object>"
      ]
     },
     "metadata": {},
     "output_type": "display_data"
    },
    {
     "data": {
      "text/html": [
       "Successfully finished last run (ID:6tdm7uzo). Initializing new run:<br/>"
      ],
      "text/plain": [
       "<IPython.core.display.HTML object>"
      ]
     },
     "metadata": {},
     "output_type": "display_data"
    },
    {
     "data": {
      "application/vnd.jupyter.widget-view+json": {
       "model_id": "e86e3b280b6b45abb2b5b8b976526e4e",
       "version_major": 2,
       "version_minor": 0
      },
      "text/plain": [
       "VBox(children=(Label(value='Waiting for wandb.init()...\\r'), FloatProgress(value=0.011113698755960084, max=1.0…"
      ]
     },
     "metadata": {},
     "output_type": "display_data"
    },
    {
     "name": "stderr",
     "output_type": "stream",
     "text": [
      "Thread WriterThread:\n",
      "Traceback (most recent call last):\n",
      "  File \"/its/home/nn268/.local/lib/python3.10/site-packages/wandb/sdk/internal/internal_util.py\", line 49, in run\n",
      "    self._run()\n",
      "  File \"/its/home/nn268/.local/lib/python3.10/site-packages/wandb/sdk/internal/internal_util.py\", line 100, in _run\n",
      "    self._process(record)\n",
      "  File \"/its/home/nn268/.local/lib/python3.10/site-packages/wandb/sdk/internal/internal.py\", line 380, in _process\n",
      "    self._wm.write(record)\n",
      "  File \"/its/home/nn268/.local/lib/python3.10/site-packages/wandb/sdk/internal/writer.py\", line 154, in write\n",
      "    write_handler(record)\n",
      "  File \"/its/home/nn268/.local/lib/python3.10/site-packages/wandb/sdk/internal/writer.py\", line 131, in _write\n",
      "    self.open()\n",
      "  File \"/its/home/nn268/.local/lib/python3.10/site-packages/wandb/sdk/internal/writer.py\", line 71, in open\n",
      "    self._ds.open_for_write(self._settings.sync_file)\n",
      "  File \"/its/home/nn268/.local/lib/python3.10/site-packages/wandb/sdk/internal/datastore.py\", line 87, in open_for_write\n",
      "    self._fp = open(fname, open_flags)\n",
      "FileExistsError: [Errno 17] File exists: '/its/home/nn268/antvis/antvis/optics/wandb/run-20231207_063926-6tdm7uzo/run-6tdm7uzo.wandb'\n",
      "wandb: ERROR Internal wandb error: file data was not synced\n",
      "Traceback (most recent call last):\n",
      "  File \"/tmp/ipykernel_3028376/1426131372.py\", line 6, in tr\n",
      "    model, save_dict = pipeline(config)\n",
      "  File \"/tmp/ipykernel_3028376/703131281.py\", line 192, in pipeline\n",
      "    with wandb.init(project=title, config=config):\n",
      "  File \"/its/home/nn268/.local/lib/python3.10/site-packages/wandb/sdk/wandb_init.py\", line 1185, in init\n",
      "    raise e\n",
      "  File \"/its/home/nn268/.local/lib/python3.10/site-packages/wandb/sdk/wandb_init.py\", line 1166, in init\n",
      "    run = wi.init()\n",
      "  File \"/its/home/nn268/.local/lib/python3.10/site-packages/wandb/sdk/wandb_init.py\", line 752, in init\n",
      "    result = run_init_handle.wait(\n",
      "  File \"/its/home/nn268/.local/lib/python3.10/site-packages/wandb/sdk/lib/mailbox.py\", line 281, in wait\n",
      "    raise MailboxError(\"transport failed\")\n",
      "wandb.sdk.lib.mailbox.MailboxError: transport failed\n",
      "\u001b[34m\u001b[1mwandb\u001b[0m: \u001b[32m\u001b[41mERROR\u001b[0m Run 6tdm7uzo errored: BrokenPipeError(32, 'Broken pipe')\n"
     ]
    },
    {
     "name": "stdout",
     "output_type": "stream",
     "text": [
      "Problem at: /tmp/ipykernel_3028376/703131281.py 192 pipeline\n"
     ]
    },
    {
     "name": "stderr",
     "output_type": "stream",
     "text": [
      "\u001b[34m\u001b[1mwandb\u001b[0m: Agent Starting Run: 7ccfce96 with config:\n",
      "\u001b[34m\u001b[1mwandb\u001b[0m: \tchannels: 3\n",
      "\u001b[34m\u001b[1mwandb\u001b[0m: \tdata_set: Augmented\n",
      "\u001b[34m\u001b[1mwandb\u001b[0m: \tepochs: 70\n",
      "\u001b[34m\u001b[1mwandb\u001b[0m: \tfirst_lin_lay: 248832\n",
      "\u001b[34m\u001b[1mwandb\u001b[0m: \timage_path: /its/home/nn268/optics/AugmentedDS_IDSW/\n",
      "\u001b[34m\u001b[1mwandb\u001b[0m: \tks: [3, 5]\n",
      "\u001b[34m\u001b[1mwandb\u001b[0m: \tlearning_rate: 0.0013321097241828731\n",
      "\u001b[34m\u001b[1mwandb\u001b[0m: \tloss_fn: CrossEntropy\n",
      "\u001b[34m\u001b[1mwandb\u001b[0m: \tmodel_name: vgg16net_mlp\n",
      "\u001b[34m\u001b[1mwandb\u001b[0m: \tnum_classes: 11\n",
      "\u001b[34m\u001b[1mwandb\u001b[0m: \toptimizer: adam\n",
      "\u001b[34m\u001b[1mwandb\u001b[0m: \tscheduler: 0.01\n"
     ]
    },
    {
     "data": {
      "text/html": [
       "wandb version 0.16.1 is available!  To upgrade, please run:\n",
       " $ pip install wandb --upgrade"
      ],
      "text/plain": [
       "<IPython.core.display.HTML object>"
      ]
     },
     "metadata": {},
     "output_type": "display_data"
    },
    {
     "data": {
      "text/html": [
       "Tracking run with wandb version 0.16.0"
      ],
      "text/plain": [
       "<IPython.core.display.HTML object>"
      ]
     },
     "metadata": {},
     "output_type": "display_data"
    },
    {
     "data": {
      "text/html": [
       "Run data is saved locally in <code>/its/home/nn268/antvis/antvis/optics/wandb/run-20231207_063946-7ccfce96</code>"
      ],
      "text/plain": [
       "<IPython.core.display.HTML object>"
      ]
     },
     "metadata": {},
     "output_type": "display_data"
    },
    {
     "data": {
      "text/html": [
       "Syncing run <strong><a href='https://wandb.ai/antvis/IDSW_vgg_fine_hp_80_112023/runs/7ccfce96' target=\"_blank\">icy-sweep-19</a></strong> to <a href='https://wandb.ai/antvis/IDSW_vgg_fine_hp_80_112023' target=\"_blank\">Weights & Biases</a> (<a href='https://wandb.me/run' target=\"_blank\">docs</a>)<br/>Sweep page: <a href='https://wandb.ai/antvis/IDSW_vgg_fine_hp_80_112023/sweeps/obcz0eq3' target=\"_blank\">https://wandb.ai/antvis/IDSW_vgg_fine_hp_80_112023/sweeps/obcz0eq3</a>"
      ],
      "text/plain": [
       "<IPython.core.display.HTML object>"
      ]
     },
     "metadata": {},
     "output_type": "display_data"
    },
    {
     "name": "stderr",
     "output_type": "stream",
     "text": [
      "IOPub message rate exceeded.\n",
      "The Jupyter server will temporarily stop sending output\n",
      "to the client in order to avoid crashing it.\n",
      "To change this limit, set the config variable\n",
      "`--ServerApp.iopub_msg_rate_limit`.\n",
      "\n",
      "Current values:\n",
      "ServerApp.iopub_msg_rate_limit=1000.0 (msgs/sec)\n",
      "ServerApp.rate_limit_window=3.0 (secs)\n",
      "\n"
     ]
    }
   ],
   "source": [
    "#model,save_dict = pipeline(config) #7,168\n",
    "\n",
    "def tr(config=None):\n",
    "    with wandb.init(config=config):\n",
    "        config = wandb.config\n",
    "        model, save_dict = pipeline(config)\n",
    "        \n",
    "\n",
    "wandb.agent(sweep_id, tr, count=20)"
   ]
  },
  {
   "cell_type": "code",
   "execution_count": 35,
   "metadata": {},
   "outputs": [
    {
     "name": "stdout",
     "output_type": "stream",
     "text": [
      "Thu Dec  7 07:31:18 2023       \n",
      "+---------------------------------------------------------------------------------------+\n",
      "| NVIDIA-SMI 545.23.08              Driver Version: 545.23.08    CUDA Version: 12.3     |\n",
      "|-----------------------------------------+----------------------+----------------------+\n",
      "| GPU  Name                 Persistence-M | Bus-Id        Disp.A | Volatile Uncorr. ECC |\n",
      "| Fan  Temp   Perf          Pwr:Usage/Cap |         Memory-Usage | GPU-Util  Compute M. |\n",
      "|                                         |                      |               MIG M. |\n",
      "|=========================================+======================+======================|\n",
      "|   0  NVIDIA GeForce RTX 4090        On  | 00000000:17:00.0 Off |                  Off |\n",
      "| 38%   51C    P2              65W / 450W |   8640MiB / 24564MiB |      0%      Default |\n",
      "|                                         |                      |                  N/A |\n",
      "+-----------------------------------------+----------------------+----------------------+\n",
      "|   1  NVIDIA GeForce RTX 4090        On  | 00000000:4E:00.0 Off |                  Off |\n",
      "| 30%   33C    P2              60W / 450W |  17233MiB / 24564MiB |     10%      Default |\n",
      "|                                         |                      |                  N/A |\n",
      "+-----------------------------------------+----------------------+----------------------+\n",
      "                                                                                         \n",
      "+---------------------------------------------------------------------------------------+\n",
      "| Processes:                                                                            |\n",
      "|  GPU   GI   CI        PID   Type   Process name                            GPU Memory |\n",
      "|        ID   ID                                                             Usage      |\n",
      "|=======================================================================================|\n",
      "|    0   N/A  N/A   3028376      C   /usr/bin/python3                           8630MiB |\n",
      "|    1   N/A  N/A   1431183      C   /usr/bin/python3                           1482MiB |\n",
      "|    1   N/A  N/A   3047650      C   /usr/bin/python3                           1246MiB |\n",
      "|    1   N/A  N/A   3048185      C   /usr/bin/python3                           1302MiB |\n",
      "|    1   N/A  N/A   3048600      C   /usr/bin/python3                            612MiB |\n",
      "|    1   N/A  N/A   3050530      C   /usr/bin/python3                           7568MiB |\n",
      "|    1   N/A  N/A   3070485      C   /usr/bin/python3                           1374MiB |\n",
      "|    1   N/A  N/A   3071034      C   /usr/bin/python3                           3618MiB |\n",
      "+---------------------------------------------------------------------------------------+\n"
     ]
    }
   ],
   "source": [
    "!nvidia-smi"
   ]
  },
  {
   "cell_type": "code",
   "execution_count": 36,
   "metadata": {},
   "outputs": [],
   "source": [
    "# confusion matrix\n",
    "\n",
    "\n",
    "def plot_confusion(predictions:list, actual:list, title:str):\n",
    "    predict_list = [int(t.argmax()) for t in predictions]\n",
    "    actual = [int(l.argmax()) for l in actual]\n",
    "\n",
    "    actual = np.array(actual)\n",
    "    predict_list = np.array(predict_list)\n",
    "\n",
    "\n",
    "    #FixedLocator locations (3), usually from a call to set_ticks, does not match the number of labels (11).\n",
    "    print(f'\\n     {title}')\n",
    "    train_epoch_matrix = confusion_matrix(actual, predict_list, labels= [0,1,2,3,4,5,6,7,8,9,10])\n",
    "    disp= ConfusionMatrixDisplay(train_epoch_matrix, display_labels=[0,1,2,3,4,5,6,7,8,9,10])\n",
    "    disp.plot()\n",
    "    plt.show()\n"
   ]
  },
  {
   "cell_type": "code",
   "execution_count": 37,
   "metadata": {},
   "outputs": [
    {
     "name": "stdout",
     "output_type": "stream",
     "text": [
      "\n",
      "     Train Confusion Matrix\n"
     ]
    },
    {
     "data": {
      "image/png": "[encoded data removed]",
      "text/plain": [
       "<Figure size 640x480 with 2 Axes>"
      ]
     },
     "metadata": {},
     "output_type": "display_data"
    },
    {
     "name": "stdout",
     "output_type": "stream",
     "text": [
      "\n",
      "     Validation Confusion Matrix\n"
     ]
    },
    {
     "data": {
      "image/png": "[encoded data removed]",
      "text/plain": [
       "<Figure size 640x480 with 2 Axes>"
      ]
     },
     "metadata": {},
     "output_type": "display_data"
    }
   ],
   "source": [
    "t_predict = save_dict['t_predict_list']\n",
    "t_labels = save_dict['t_labels']\n",
    "\n",
    "v_predict = save_dict['v_predict_list'] # WHY IS THERE NOTHING IN V OREDICT LIST!\n",
    "v_labels = save_dict['v_labels']\n",
    "\n",
    "plot_confusion(t_predict, t_labels, 'Train Confusion Matrix')\n",
    "plot_confusion(v_predict, v_labels, 'Validation Confusion Matrix')"
   ]
  },
  {
   "cell_type": "code",
   "execution_count": 38,
   "metadata": {},
   "outputs": [],
   "source": [
    "class PrintLayer(nn.Module):\n",
    "    def __init__(self):\n",
    "        super(PrintLayer, self).__init__()\n",
    "    \n",
    "    def forward(self, x):\n",
    "        # Do your print / debug stuff here\n",
    "        print(x)\n",
    "        return x"
   ]
  },
  {
   "cell_type": "code",
   "execution_count": 39,
   "metadata": {},
   "outputs": [],
   "source": [
    "model =nn.Sequential(\n",
    "    PrintLayer(),\n",
    "    model_vgg16,\n",
    "    PrintLayer(),\n",
    "    Squeeze(),\n",
    "    PrintLayer(),\n",
    "    nn.Linear(4096,11),\n",
    "    PrintLayer(),\n",
    "    nn.Softmax(dim=0),\n",
    "    PrintLayer()\n",
    "\n",
    ").to(device)"
   ]
  },
  {
   "cell_type": "code",
   "execution_count": 40,
   "metadata": {},
   "outputs": [
    {
     "data": {
      "text/plain": [
       "True"
      ]
     },
     "execution_count": 40,
     "metadata": {},
     "output_type": "execute_result"
    }
   ],
   "source": [
    "\n",
    "vgg = nn.Sequential(\n",
    "        model_vgg16,\n",
    "        Squeeze(),\n",
    "        nn.Linear(4096,11),\n",
    "        nn.Softmax(dim=0),\n",
    "    )\n",
    "\n",
    "#model_vgg16.to('cpu')\n",
    "\n",
    "vgg.to(device)\n",
    "next(vgg.parameters()).is_cuda"
   ]
  },
  {
   "cell_type": "code",
   "execution_count": 41,
   "metadata": {},
   "outputs": [
    {
     "name": "stdout",
     "output_type": "stream",
     "text": [
      "tensor([[[[0.0668, 0.0668, 0.0668,  ..., 0.0668, 0.0668, 0.0668],\n",
      "          [0.0668, 0.0668, 0.0668,  ..., 0.0668, 0.0668, 0.0668],\n",
      "          [0.0668, 0.0668, 0.0668,  ..., 0.0668, 0.0668, 0.0668],\n",
      "          ...,\n",
      "          [0.0668, 0.0668, 0.0668,  ..., 0.0668, 0.0668, 0.0668],\n",
      "          [0.0668, 0.0668, 0.0668,  ..., 0.0668, 0.0668, 0.0668],\n",
      "          [0.0668, 0.0668, 0.0668,  ..., 0.0668, 0.0668, 0.0668]],\n",
      "\n",
      "         [[0.0668, 0.0668, 0.0668,  ..., 0.0668, 0.0668, 0.0668],\n",
      "          [0.0668, 0.0668, 0.0668,  ..., 0.0668, 0.0668, 0.0668],\n",
      "          [0.0668, 0.0668, 0.0668,  ..., 0.0668, 0.0668, 0.0668],\n",
      "          ...,\n",
      "          [0.0668, 0.0668, 0.0668,  ..., 0.0668, 0.0668, 0.0668],\n",
      "          [0.0668, 0.0668, 0.0668,  ..., 0.0668, 0.0668, 0.0668],\n",
      "          [0.0668, 0.0668, 0.0668,  ..., 0.0668, 0.0668, 0.0668]],\n",
      "\n",
      "         [[0.0668, 0.0668, 0.0668,  ..., 0.0668, 0.0668, 0.0668],\n",
      "          [0.0668, 0.0668, 0.0668,  ..., 0.0668, 0.0668, 0.0668],\n",
      "          [0.0668, 0.0668, 0.0668,  ..., 0.0668, 0.0668, 0.0668],\n",
      "          ...,\n",
      "          [0.0668, 0.0668, 0.0668,  ..., 0.0668, 0.0668, 0.0668],\n",
      "          [0.0668, 0.0668, 0.0668,  ..., 0.0668, 0.0668, 0.0668],\n",
      "          [0.0668, 0.0668, 0.0668,  ..., 0.0668, 0.0668, 0.0668]]]],\n",
      "       device='cuda:0')\n",
      "tensor([[0., 0., 0.,  ..., 0., 0., 0.]], device='cuda:0',\n",
      "       grad_fn=<ReluBackward0>)\n",
      "tensor([0., 0., 0.,  ..., 0., 0., 0.], device='cuda:0',\n",
      "       grad_fn=<SqueezeBackward1>)\n",
      "tensor([ -658.6010,  -755.5794,  -321.2706,  -296.7071,  -368.1927,  -557.2966,\n",
      "        -1500.3920,  -228.5047,   816.5117,   279.7158,   220.2519],\n",
      "       device='cuda:0', grad_fn=<ViewBackward0>)\n",
      "tensor([0., 0., 0., 0., 0., 0., 0., 0., 1., 0., 0.], device='cuda:0',\n",
      "       grad_fn=<SoftmaxBackward0>)\n"
     ]
    }
   ],
   "source": [
    "\n",
    "x = preprocess_im(x_train[0])\n",
    "\n",
    "\n",
    "train_prediction = model.forward(x)"
   ]
  },
  {
   "cell_type": "code",
   "execution_count": 42,
   "metadata": {},
   "outputs": [
    {
     "data": {
      "text/plain": [
       "OrderedDict([('1.features.0.weight',\n",
       "              tensor([[[[-5.4649e-01,  1.4994e-01,  5.3620e-01],\n",
       "                        [-5.7588e-01,  3.6379e-01,  7.7175e-01],\n",
       "                        [-6.8298e-01, -4.0777e-02,  4.9133e-01]],\n",
       "              \n",
       "                       [[ 1.8273e-01,  1.7104e-02, -7.4172e-02],\n",
       "                        [ 5.1333e-02, -6.3081e-02, -2.5311e-01],\n",
       "                        [ 1.3964e-01, -1.6554e-01, -1.2502e-01]],\n",
       "              \n",
       "                       [[ 3.2027e-01, -1.5867e-01, -4.2028e-01],\n",
       "                        [ 4.8243e-01, -7.5437e-02, -4.8035e-01],\n",
       "                        [ 6.3927e-01,  2.6549e-02, -2.7029e-01]]],\n",
       "              \n",
       "              \n",
       "                      [[[ 2.2998e-01,  1.2410e-01,  1.8390e-01],\n",
       "                        [-4.3061e-01, -2.4604e-01,  2.5217e-01],\n",
       "                        [-2.5321e-01,  1.4765e-01,  4.0496e-04]],\n",
       "              \n",
       "                       [[-1.4332e-01, -2.2158e-01,  1.4792e-01],\n",
       "                        [-8.4382e-01, -3.5431e-01,  5.6986e-01],\n",
       "                        [-2.4450e-01,  5.2515e-01,  5.4504e-01]],\n",
       "              \n",
       "                       [[-3.1688e-01, -3.7303e-01, -1.2512e-01],\n",
       "                        [-4.7400e-01, -1.5758e-01,  3.5178e-01],\n",
       "                        [ 5.1838e-02,  5.9271e-01,  5.0169e-01]]],\n",
       "              \n",
       "              \n",
       "                      [[[ 1.8306e-01,  5.2659e-01,  1.4976e-02],\n",
       "                        [-2.6594e-01, -7.1199e-01,  3.1803e-01],\n",
       "                        [-7.0650e-02, -2.1569e-01,  3.3965e-01]],\n",
       "              \n",
       "                       [[ 3.1434e-01,  6.7581e-01,  2.5647e-02],\n",
       "                        [-4.6097e-01, -1.0646e+00,  3.4012e-01],\n",
       "                        [-7.5181e-02, -3.0012e-01,  5.4971e-01]],\n",
       "              \n",
       "                       [[ 3.2082e-01,  4.2845e-01, -3.4466e-01],\n",
       "                        [ 9.1457e-02, -4.5947e-01,  1.6905e-02],\n",
       "                        [ 1.0993e-01, -1.4073e-01, -1.0663e-02]]],\n",
       "              \n",
       "              \n",
       "                      ...,\n",
       "              \n",
       "              \n",
       "                      [[[ 7.9638e-02,  1.2897e-01,  3.4360e-02],\n",
       "                        [ 2.2323e-01,  2.4884e-01, -4.4596e-02],\n",
       "                        [ 4.8386e-02,  3.0275e-02,  1.9572e-02]],\n",
       "              \n",
       "                       [[-1.8123e-01, -6.5371e-02, -5.1564e-03],\n",
       "                        [-4.6890e-02,  9.0791e-03, -1.2679e-01],\n",
       "                        [-6.2594e-02, -6.2530e-02,  4.6283e-02]],\n",
       "              \n",
       "                       [[-2.2342e-01, -1.1726e-01, -2.1367e-02],\n",
       "                        [-9.7161e-02, -1.3098e-02,  3.0043e-03],\n",
       "                        [-2.4109e-02,  3.4010e-03,  1.4487e-01]]],\n",
       "              \n",
       "              \n",
       "                      [[[ 1.6520e-02, -3.2225e-02, -3.8450e-03],\n",
       "                        [-6.8206e-02, -1.9445e-01, -1.4166e-01],\n",
       "                        [-6.9528e-02, -1.8340e-01, -1.7422e-01]],\n",
       "              \n",
       "                       [[ 4.2781e-02, -6.7529e-02, -7.0309e-03],\n",
       "                        [ 1.1765e-02, -1.4958e-01, -1.2361e-01],\n",
       "                        [ 1.0205e-02, -1.0393e-01, -1.1742e-01]],\n",
       "              \n",
       "                       [[ 1.2661e-01,  8.5046e-02,  1.3066e-01],\n",
       "                        [ 1.7585e-01,  1.1288e-01,  1.1937e-01],\n",
       "                        [ 1.4656e-01,  9.8892e-02,  1.0348e-01]]],\n",
       "              \n",
       "              \n",
       "                      [[[ 2.6291e-02, -1.1349e-01, -2.6977e-01],\n",
       "                        [ 2.7370e-01, -4.3278e-02, -2.6060e-01],\n",
       "                        [ 3.4284e-01,  2.4354e-02, -6.1586e-02]],\n",
       "              \n",
       "                       [[ 2.4476e-01,  1.5790e-01, -1.8021e-01],\n",
       "                        [ 3.8674e-01,  2.6544e-02, -3.5780e-01],\n",
       "                        [ 1.8711e-01, -2.0466e-01, -3.0282e-01]],\n",
       "              \n",
       "                       [[ 4.5444e-01,  4.2836e-01,  2.7764e-01],\n",
       "                        [ 1.5756e-01, -6.4011e-02, -1.9785e-01],\n",
       "                        [-2.0109e-01, -4.6199e-01, -4.3301e-01]]]])),\n",
       "             ('1.features.0.bias',\n",
       "              tensor([ 0.4106,  0.3837,  0.4695, -0.3228,  0.4006, -0.3953,  0.4010, -0.5496,\n",
       "                       0.2638, -0.7602, -0.3508,  0.2283, -1.3239, -0.1694,  0.3883, -0.1026,\n",
       "                       0.0498, -0.6995,  0.1600,  0.5608,  0.3062,  0.3476,  0.1100,  0.4607,\n",
       "                       0.1303,  0.0748, -0.0525, -0.5638,  0.1509, -0.3890, -0.0670,  0.0625,\n",
       "                       0.2704,  0.3331,  0.5715, -1.2640, -0.8368, -0.9485,  0.1394,  0.2785,\n",
       "                       0.1792, -0.5325,  0.3456, -0.0844, -1.0248, -0.6912, -0.7711,  0.2624,\n",
       "                       0.4074, -0.4802, -0.3066,  0.5844, -1.3325,  0.4856, -0.8160,  0.2422,\n",
       "                       0.2259,  0.4928,  0.5494,  0.5270, -0.2182,  0.0138, -0.5516,  0.2049])),\n",
       "             ('1.features.2.weight',\n",
       "              tensor([[[[-2.5971e-02, -9.3885e-02, -1.2796e-01],\n",
       "                        [ 1.1456e-02, -7.8848e-02, -1.6233e-01],\n",
       "                        [ 3.5651e-02, -6.1167e-02, -1.2707e-01]],\n",
       "              \n",
       "                       [[ 5.2041e-02, -2.2953e-02, -4.6492e-02],\n",
       "                        [ 7.4764e-02,  1.2888e-02, -1.3704e-02],\n",
       "                        [ 7.4554e-02,  4.3629e-02,  2.0863e-02]],\n",
       "              \n",
       "                       [[ 7.5335e-02,  9.9058e-03, -4.2726e-02],\n",
       "                        [ 8.8641e-02,  5.3825e-02,  2.9881e-03],\n",
       "                        [ 1.3153e-02,  2.6986e-02,  1.0548e-02]],\n",
       "              \n",
       "                       ...,\n",
       "              \n",
       "                       [[ 3.0288e-02,  2.4310e-02, -6.9424e-03],\n",
       "                        [ 2.8130e-02,  6.7442e-03, -3.2106e-02],\n",
       "                        [ 2.2765e-02,  3.9568e-02, -1.1121e-02]],\n",
       "              \n",
       "                       [[ 2.1684e-02,  4.1812e-02,  5.8284e-02],\n",
       "                        [ 2.7431e-02,  3.6847e-02,  3.4335e-02],\n",
       "                        [-9.4839e-03,  1.9745e-02,  5.0264e-02]],\n",
       "              \n",
       "                       [[ 2.6405e-02, -1.6753e-02, -9.4728e-02],\n",
       "                        [-5.2521e-02, -6.6693e-02, -7.2965e-02],\n",
       "                        [-3.2873e-02, -2.0817e-02,  1.2633e-04]]],\n",
       "              \n",
       "              \n",
       "                      [[[-1.6628e-02, -7.3333e-02, -1.3032e-01],\n",
       "                        [-4.0718e-02, -7.7161e-02, -1.3730e-01],\n",
       "                        [-4.5243e-02, -1.0292e-01, -1.5700e-01]],\n",
       "              \n",
       "                       [[-1.0219e-02,  5.3249e-02,  1.9652e-02],\n",
       "                        [ 1.5277e-02,  1.4488e-02, -1.1332e-02],\n",
       "                        [-2.4019e-03, -2.8016e-02, -3.1183e-02]],\n",
       "              \n",
       "                       [[ 1.1449e-02, -9.4484e-03, -3.9652e-02],\n",
       "                        [-2.1733e-02,  1.9643e-02, -7.7522e-02],\n",
       "                        [ 1.5007e-02,  6.7903e-03,  1.3739e-02]],\n",
       "              \n",
       "                       ...,\n",
       "              \n",
       "                       [[ 4.0628e-02,  4.0392e-02,  2.4983e-02],\n",
       "                        [ 1.4732e-02,  7.2637e-03, -1.0272e-02],\n",
       "                        [ 2.3239e-02,  2.0356e-02, -2.6239e-02]],\n",
       "              \n",
       "                       [[-2.2844e-02,  2.5371e-03, -2.1714e-02],\n",
       "                        [ 3.9534e-04, -6.4903e-03,  1.6979e-02],\n",
       "                        [-4.7200e-03, -2.2301e-02, -2.1298e-02]],\n",
       "              \n",
       "                       [[-2.6090e-02, -2.2031e-02,  3.2220e-02],\n",
       "                        [-5.3392e-02, -5.1093e-02,  7.5077e-02],\n",
       "                        [-6.7789e-02, -3.3645e-02,  4.6188e-02]]],\n",
       "              \n",
       "              \n",
       "                      [[[ 1.6377e-02,  2.9838e-02,  5.8993e-02],\n",
       "                        [-2.1969e-02, -1.1076e-02,  3.3445e-02],\n",
       "                        [ 1.6817e-02,  1.4172e-02,  3.3281e-02]],\n",
       "              \n",
       "                       [[-7.5425e-02, -8.3726e-02, -5.0635e-02],\n",
       "                        [-4.3259e-02, -1.0629e-01, -5.7994e-03],\n",
       "                        [ 3.9739e-02,  2.8400e-02,  1.1512e-01]],\n",
       "              \n",
       "                       [[-3.8519e-02, -1.1496e-02, -5.4451e-03],\n",
       "                        [ 3.2851e-02,  5.0380e-02,  2.1967e-02],\n",
       "                        [ 9.2037e-02,  1.3109e-01,  7.7394e-02]],\n",
       "              \n",
       "                       ...,\n",
       "              \n",
       "                       [[ 3.9959e-03,  1.6021e-02, -1.6379e-02],\n",
       "                        [-6.3332e-03, -1.0210e-02,  6.7376e-04],\n",
       "                        [ 9.2731e-03,  4.6862e-03, -3.1864e-02]],\n",
       "              \n",
       "                       [[-7.9354e-03, -5.8610e-03, -7.6292e-05],\n",
       "                        [ 6.8661e-04, -6.0019e-03,  1.0119e-02],\n",
       "                        [ 3.0581e-02,  1.6821e-02,  3.2570e-02]],\n",
       "              \n",
       "                       [[ 6.3220e-02, -3.5706e-03,  4.2143e-02],\n",
       "                        [-1.6923e-02, -4.4964e-02,  4.4143e-02],\n",
       "                        [ 2.7006e-02,  1.1348e-02,  3.8896e-02]]],\n",
       "              \n",
       "              \n",
       "                      ...,\n",
       "              \n",
       "              \n",
       "                      [[[-4.5464e-02, -2.9275e-02,  1.0282e-02],\n",
       "                        [-4.6952e-02, -4.5904e-02,  2.1202e-02],\n",
       "                        [-4.3815e-02, -2.1301e-02, -2.1338e-02]],\n",
       "              \n",
       "                       [[-1.9359e-02,  1.5948e-02, -6.3554e-02],\n",
       "                        [ 3.0096e-02,  3.2123e-02, -6.0869e-02],\n",
       "                        [-1.4547e-02,  5.8296e-03, -5.9815e-02]],\n",
       "              \n",
       "                       [[-2.7915e-02, -2.1738e-02, -5.1691e-02],\n",
       "                        [ 1.0889e-02, -4.8446e-02, -5.1129e-02],\n",
       "                        [-3.9741e-02,  4.1137e-03,  3.8964e-02]],\n",
       "              \n",
       "                       ...,\n",
       "              \n",
       "                       [[-1.9130e-03,  1.0995e-03, -7.4082e-03],\n",
       "                        [ 1.8428e-03,  1.0076e-02,  2.0530e-02],\n",
       "                        [ 1.1709e-02,  8.5908e-03,  3.4073e-02]],\n",
       "              \n",
       "                       [[ 8.9195e-03,  3.2807e-02,  3.9282e-02],\n",
       "                        [-2.5044e-03,  1.7645e-03,  1.4056e-02],\n",
       "                        [-5.4708e-03,  9.5572e-03,  2.8639e-02]],\n",
       "              \n",
       "                       [[-3.0241e-02, -6.7225e-02, -7.4299e-02],\n",
       "                        [-3.6222e-02, -7.2893e-03,  6.4795e-02],\n",
       "                        [-1.6392e-02,  6.0891e-02,  1.3229e-01]]],\n",
       "              \n",
       "              \n",
       "                      [[[ 3.8256e-02,  3.5616e-02,  1.5158e-02],\n",
       "                        [ 3.8234e-02,  2.7419e-02,  1.4678e-02],\n",
       "                        [-6.9382e-03,  1.9064e-02, -4.6506e-03]],\n",
       "              \n",
       "                       [[ 2.9017e-02, -1.8503e-02,  8.7883e-03],\n",
       "                        [-6.0680e-02, -4.8742e-02, -2.9738e-02],\n",
       "                        [-3.3313e-02,  1.5588e-02, -1.4219e-02]],\n",
       "              \n",
       "                       [[-1.0073e-01, -1.0096e-01, -1.3425e-01],\n",
       "                        [ 7.1151e-02, -9.5837e-03, -7.6077e-02],\n",
       "                        [ 1.6863e-01,  1.8140e-01,  3.1871e-02]],\n",
       "              \n",
       "                       ...,\n",
       "              \n",
       "                       [[ 2.7130e-02,  3.1712e-02,  4.2271e-03],\n",
       "                        [-3.8084e-03,  2.1903e-02,  1.8320e-02],\n",
       "                        [-4.5944e-03, -2.9124e-02,  7.4975e-04]],\n",
       "              \n",
       "                       [[ 7.1959e-03, -5.1528e-03,  5.1333e-03],\n",
       "                        [-8.6466e-04,  1.2417e-02,  2.0805e-02],\n",
       "                        [ 2.4862e-03, -1.3194e-02,  3.6563e-03]],\n",
       "              \n",
       "                       [[ 3.0422e-02,  8.7017e-03,  2.9719e-02],\n",
       "                        [-1.0532e-02,  5.7754e-02,  3.2601e-02],\n",
       "                        [-2.2712e-02,  1.4472e-02, -1.5166e-02]]],\n",
       "              \n",
       "              \n",
       "                      [[[-6.2058e-02,  1.5718e-02,  8.4158e-02],\n",
       "                        [ 1.5259e-02, -2.8483e-02,  5.7673e-02],\n",
       "                        [-3.3474e-02, -2.6065e-02,  7.0320e-02]],\n",
       "              \n",
       "                       [[ 6.1351e-02, -1.8706e-01,  1.0461e-01],\n",
       "                        [-1.8263e-01,  1.8146e-02,  2.5237e-01],\n",
       "                        [-7.6780e-04,  3.3635e-02, -8.4889e-02]],\n",
       "              \n",
       "                       [[-1.4415e-01, -1.2485e-01,  1.8139e-01],\n",
       "                        [-1.5284e-01,  1.5620e-01,  8.9023e-02],\n",
       "                        [ 9.9886e-02,  9.0084e-02, -2.8737e-02]],\n",
       "              \n",
       "                       ...,\n",
       "              \n",
       "                       [[ 1.7150e-02,  3.5867e-02, -4.8940e-03],\n",
       "                        [ 5.3126e-02, -6.3140e-03, -2.9627e-02],\n",
       "                        [ 1.9316e-02, -2.5265e-02,  3.1548e-02]],\n",
       "              \n",
       "                       [[ 3.1006e-02,  2.8481e-02,  5.2361e-03],\n",
       "                        [ 3.8914e-03, -1.8899e-02, -2.1819e-02],\n",
       "                        [-8.4505e-03, -3.6632e-02, -1.9476e-02]],\n",
       "              \n",
       "                       [[ 2.8729e-02,  5.0555e-02,  7.3739e-02],\n",
       "                        [ 1.5997e-02,  3.6933e-02, -5.2360e-02],\n",
       "                        [ 3.1703e-02, -8.9077e-02, -3.5605e-02]]]])),\n",
       "             ('1.features.2.bias',\n",
       "              tensor([ 0.0067, -0.0856,  0.6215, -0.0808,  0.2388, -0.0425,  0.1317, -0.0339,\n",
       "                      -0.1488,  0.3087, -0.0349, -0.2588,  0.0979, -0.2283,  0.0288, -0.0904,\n",
       "                       0.1190, -0.0371, -0.0167, -0.0235,  0.0554,  0.1417,  0.0398, -0.4511,\n",
       "                       0.0099, -0.0170, -0.4296, -0.1458,  0.3867, -0.0359,  0.1164, -0.3556,\n",
       "                      -0.0196, -0.0257,  0.6536, -0.0585, -0.0230, -0.2285,  0.0888, -0.4975,\n",
       "                       0.1874,  0.0868,  0.3445, -0.0908,  0.1888, -0.2027, -0.0463, -0.1613,\n",
       "                       0.3987,  0.2125,  0.1864, -0.1150, -0.0767, -0.1302,  0.1356,  0.0991,\n",
       "                       0.5425,  0.5157,  0.0539, -0.8229,  0.4400, -0.3698, -0.3285, -0.1164])),\n",
       "             ('1.features.5.weight',\n",
       "              tensor([[[[-6.3548e-02,  1.1932e-02, -3.9092e-02],\n",
       "                        [-5.3325e-02, -5.6736e-02, -1.2528e-01],\n",
       "                        [-1.3824e-02, -5.2813e-02, -8.1569e-02]],\n",
       "              \n",
       "                       [[-5.1361e-02, -3.2515e-02, -3.0128e-02],\n",
       "                        [-3.1994e-02, -3.4589e-02,  2.4283e-03],\n",
       "                        [-4.1960e-03, -1.3180e-02,  1.3642e-02]],\n",
       "              \n",
       "                       [[-3.0644e-02,  5.3677e-02,  5.3398e-02],\n",
       "                        [-3.9412e-02,  1.4505e-01, -3.3760e-02],\n",
       "                        [-2.9670e-02,  2.3021e-02, -3.0271e-02]],\n",
       "              \n",
       "                       ...,\n",
       "              \n",
       "                       [[-2.3000e-02, -1.2201e-02, -4.2528e-03],\n",
       "                        [-1.9321e-02, -4.3134e-02, -5.5873e-04],\n",
       "                        [-4.2867e-02, -1.4233e-02, -1.3526e-02]],\n",
       "              \n",
       "                       [[-2.7698e-02, -1.6312e-02, -2.3137e-02],\n",
       "                        [ 2.7924e-02,  3.4068e-02, -4.5055e-02],\n",
       "                        [ 4.9343e-02,  1.1931e-02, -3.7526e-03]],\n",
       "              \n",
       "                       [[ 1.4084e-02,  2.0005e-02, -4.2436e-03],\n",
       "                        [ 5.2466e-03,  7.6553e-02, -3.4049e-03],\n",
       "                        [-3.4129e-02,  6.0309e-02, -8.2926e-03]]],\n",
       "              \n",
       "              \n",
       "                      [[[ 4.6907e-03, -2.4321e-02, -1.9604e-02],\n",
       "                        [-1.0056e-02, -3.2810e-02, -3.6576e-02],\n",
       "                        [ 5.6812e-04,  2.9445e-03, -4.2831e-02]],\n",
       "              \n",
       "                       [[-2.5932e-02, -7.4210e-03, -1.0710e-03],\n",
       "                        [-3.6027e-02, -3.1019e-02,  1.6969e-02],\n",
       "                        [ 7.9869e-03, -1.3138e-05,  2.4341e-02]],\n",
       "              \n",
       "                       [[-4.9287e-02, -9.1363e-03,  6.3308e-02],\n",
       "                        [-1.4413e-01,  9.6405e-02,  1.8575e-01],\n",
       "                        [-4.5726e-02,  9.5672e-03,  8.1357e-02]],\n",
       "              \n",
       "                       ...,\n",
       "              \n",
       "                       [[ 1.4957e-02, -2.7738e-02, -4.9568e-02],\n",
       "                        [ 2.3973e-02, -2.3895e-02, -6.5836e-03],\n",
       "                        [ 5.9873e-02,  2.1132e-02, -1.5224e-02]],\n",
       "              \n",
       "                       [[-5.0367e-02, -2.8040e-02, -2.8949e-02],\n",
       "                        [-2.9307e-02, -5.2448e-02,  3.6980e-02],\n",
       "                        [ 4.7027e-02, -1.9588e-02, -2.9147e-02]],\n",
       "              \n",
       "                       [[-3.2615e-03,  9.5059e-03,  2.5749e-02],\n",
       "                        [-4.4665e-02,  1.4282e-02, -1.3393e-02],\n",
       "                        [ 4.7986e-02,  1.3022e-01, -4.4035e-02]]],\n",
       "              \n",
       "              \n",
       "                      [[[ 2.9934e-02, -2.1260e-02, -8.5359e-04],\n",
       "                        [ 1.0028e-02,  7.8401e-02, -5.0227e-02],\n",
       "                        [-5.4668e-02,  4.0828e-02,  3.0101e-03]],\n",
       "              \n",
       "                       [[ 1.5186e-02,  7.3118e-03,  4.4179e-02],\n",
       "                        [-4.4370e-03,  4.8569e-02,  4.4840e-02],\n",
       "                        [-7.0973e-02,  4.1363e-02,  1.4820e-02]],\n",
       "              \n",
       "                       [[-5.0274e-02,  3.6420e-02,  1.4974e-02],\n",
       "                        [-5.4034e-02,  3.3245e-02, -2.3922e-02],\n",
       "                        [ 6.9860e-03,  6.0114e-02, -2.3149e-02]],\n",
       "              \n",
       "                       ...,\n",
       "              \n",
       "                       [[ 1.1792e-02, -2.2788e-02, -2.0085e-04],\n",
       "                        [-6.1670e-02, -5.5936e-02, -3.8149e-02],\n",
       "                        [ 3.8406e-02, -9.7790e-03, -1.4222e-03]],\n",
       "              \n",
       "                       [[-4.3785e-02, -2.2271e-02, -6.0565e-02],\n",
       "                        [-2.6830e-02,  1.4196e-02, -2.5581e-02],\n",
       "                        [ 1.6534e-02, -4.6654e-02, -3.3297e-02]],\n",
       "              \n",
       "                       [[ 2.0604e-02,  1.0619e-03,  1.7759e-02],\n",
       "                        [-4.5153e-02,  8.5261e-02,  1.6889e-02],\n",
       "                        [ 9.8820e-04, -6.0612e-02, -1.7335e-02]]],\n",
       "              \n",
       "              \n",
       "                      ...,\n",
       "              \n",
       "              \n",
       "                      [[[ 1.0117e-02, -6.2081e-03, -1.5993e-02],\n",
       "                        [-1.2145e-02,  4.6602e-02, -3.7898e-02],\n",
       "                        [-2.4465e-02, -2.5692e-02,  9.3269e-04]],\n",
       "              \n",
       "                       [[-5.7828e-02, -5.2442e-02,  1.4297e-02],\n",
       "                        [-3.0575e-02, -6.0238e-02,  2.9713e-02],\n",
       "                        [ 1.1308e-02, -2.1317e-02,  8.2461e-03]],\n",
       "              \n",
       "                       [[ 1.8887e-02,  2.7840e-01,  2.1783e-01],\n",
       "                        [-8.9498e-02, -1.4048e-02,  7.0780e-02],\n",
       "                        [-1.4606e-01, -1.0937e-01, -7.6610e-02]],\n",
       "              \n",
       "                       ...,\n",
       "              \n",
       "                       [[-8.5158e-03,  5.0580e-02,  8.1550e-03],\n",
       "                        [-8.3287e-03, -3.8522e-02, -4.4384e-02],\n",
       "                        [ 3.0769e-02,  5.2761e-02, -3.3069e-03]],\n",
       "              \n",
       "                       [[-1.8004e-03,  1.0409e-01, -1.1714e-02],\n",
       "                        [-4.2629e-02, -1.3826e-01,  1.4409e-02],\n",
       "                        [-4.2179e-02, -2.5577e-02, -2.5139e-02]],\n",
       "              \n",
       "                       [[-9.4795e-02,  1.2619e-02, -3.0344e-02],\n",
       "                        [-3.4999e-02,  1.6561e-01, -2.3134e-02],\n",
       "                        [-1.2965e-02,  7.8823e-02,  7.9459e-02]]],\n",
       "              \n",
       "              \n",
       "                      [[[ 7.9093e-02,  5.5448e-02,  2.6897e-02],\n",
       "                        [ 2.2137e-02,  2.1258e-02, -1.9523e-02],\n",
       "                        [-1.7297e-02, -8.6707e-02, -1.8842e-02]],\n",
       "              \n",
       "                       [[-4.0649e-02, -1.8013e-02,  6.6370e-03],\n",
       "                        [-5.6822e-03, -1.4390e-02,  2.5715e-02],\n",
       "                        [ 4.7891e-02,  5.9090e-03,  2.6680e-02]],\n",
       "              \n",
       "                       [[ 8.9209e-02,  7.2482e-02,  3.7342e-02],\n",
       "                        [-1.0675e-01,  1.0508e-01,  1.7426e-01],\n",
       "                        [-2.9531e-02, -3.6078e-02,  5.7048e-02]],\n",
       "              \n",
       "                       ...,\n",
       "              \n",
       "                       [[-6.3557e-02,  4.0472e-02,  5.3240e-02],\n",
       "                        [-4.3761e-02, -2.4301e-02,  2.9110e-02],\n",
       "                        [-3.8008e-04,  3.3345e-02,  5.7502e-03]],\n",
       "              \n",
       "                       [[-2.1079e-03,  4.7423e-03, -6.3601e-02],\n",
       "                        [-4.5512e-02, -2.2471e-02,  1.2709e-02],\n",
       "                        [ 7.5412e-02,  6.6151e-02,  1.2596e-02]],\n",
       "              \n",
       "                       [[ 8.0616e-02,  4.4889e-02,  1.6392e-01],\n",
       "                        [-3.5984e-02, -1.7136e-01,  3.7379e-02],\n",
       "                        [-5.2634e-02, -1.0221e-02,  2.6588e-02]]],\n",
       "              \n",
       "              \n",
       "                      [[[-8.6566e-03, -2.8672e-03,  2.9119e-02],\n",
       "                        [ 6.7155e-02, -6.7775e-02, -5.2015e-02],\n",
       "                        [ 7.5682e-02,  7.6227e-02, -3.8185e-02]],\n",
       "              \n",
       "                       [[-2.4969e-03,  7.4841e-03,  3.0452e-02],\n",
       "                        [ 1.7060e-02, -8.3162e-03,  3.1447e-02],\n",
       "                        [-6.0040e-03, -2.5422e-02, -9.1708e-03]],\n",
       "              \n",
       "                       [[-9.4977e-02, -2.2740e-01, -4.9594e-02],\n",
       "                        [ 8.0603e-02,  6.9783e-03, -5.6959e-02],\n",
       "                        [ 1.5451e-01,  2.5508e-01,  1.4724e-01]],\n",
       "              \n",
       "                       ...,\n",
       "              \n",
       "                       [[-3.8822e-03, -4.5818e-02, -3.6353e-03],\n",
       "                        [ 1.5541e-02, -3.6125e-02,  6.8408e-03],\n",
       "                        [ 3.9892e-02,  4.8252e-04,  1.6367e-02]],\n",
       "              \n",
       "                       [[-6.1917e-02, -1.9592e-01, -9.0981e-02],\n",
       "                        [ 1.3368e-01,  8.3426e-02, -9.1896e-02],\n",
       "                        [ 6.8253e-03,  3.7101e-02,  2.5558e-02]],\n",
       "              \n",
       "                       [[ 7.2584e-02, -2.9107e-02,  1.4331e-02],\n",
       "                        [ 2.1376e-04, -1.0433e-01,  5.2014e-02],\n",
       "                        [ 2.6562e-02, -5.8105e-02,  5.0056e-02]]]])),\n",
       "             ('1.features.5.bias',\n",
       "              tensor([ 0.0881, -0.0126,  0.1379,  0.0174,  0.0573, -0.0777,  0.0293,  0.0864,\n",
       "                       0.1770,  0.0785,  0.0637, -0.0119,  0.1670,  0.0116,  0.0396,  0.1839,\n",
       "                      -0.0633,  0.1319,  0.1767,  0.2421,  0.0242, -0.0342,  0.1824,  0.0456,\n",
       "                       0.1447,  0.0280,  0.0996,  0.1376, -0.0710, -0.0220,  0.0937,  0.0611,\n",
       "                       0.1418,  0.2028,  0.1031,  0.0893,  0.0112,  0.2670,  0.0829,  0.0565,\n",
       "                       0.3206, -0.0606,  0.1572,  0.0682,  0.1738,  0.1759, -0.0609,  0.1406,\n",
       "                       0.0117, -0.0651,  0.0602,  0.1442,  0.1123,  0.0449,  0.2720,  0.0772,\n",
       "                      -0.1202,  0.1614, -0.0710, -0.0042,  0.1478,  0.1661,  0.0209,  0.1101,\n",
       "                      -0.0888,  0.2160,  0.0592,  0.0162,  0.1694, -0.2019, -0.0028,  0.0246,\n",
       "                      -0.1789,  0.0760,  0.0331, -0.1106,  0.0628,  0.0550,  0.0039,  0.0630,\n",
       "                      -0.2563,  0.0760, -0.0616,  0.0606, -0.0618,  0.1235, -0.1720,  0.0666,\n",
       "                       0.0363, -0.0760,  0.0487, -0.2062,  0.1882, -0.0957, -0.0902,  0.1672,\n",
       "                       0.1579,  0.2207,  0.1312, -0.0302, -0.0896,  0.0030,  0.0049, -0.0815,\n",
       "                      -0.0235,  0.0292,  0.1617, -0.0278, -0.0077,  0.1300,  0.1951,  0.1637,\n",
       "                       0.0299,  0.0871,  0.1557, -0.1433,  0.0901,  0.0450, -0.0826,  0.1240,\n",
       "                       0.0878,  0.2000,  0.0720, -0.0151, -0.0169,  0.0763,  0.0803,  0.1516])),\n",
       "             ('1.features.7.weight',\n",
       "              tensor([[[[ 2.4191e-02, -1.9852e-02, -1.0961e-02],\n",
       "                        [-1.2689e-02, -4.5722e-03,  8.0629e-03],\n",
       "                        [ 3.2800e-03,  1.8973e-02,  3.9218e-02]],\n",
       "              \n",
       "                       [[-5.7441e-02, -3.3104e-02,  8.2614e-03],\n",
       "                        [-2.3255e-02, -2.0701e-02, -1.7712e-02],\n",
       "                        [ 1.6208e-02, -1.0619e-02, -3.9556e-03]],\n",
       "              \n",
       "                       [[ 1.5889e-02, -5.4502e-03,  3.0682e-03],\n",
       "                        [-5.6123e-02, -1.9513e-02,  9.2653e-03],\n",
       "                        [-4.7132e-02,  2.4446e-02,  8.7985e-02]],\n",
       "              \n",
       "                       ...,\n",
       "              \n",
       "                       [[-2.3524e-02, -2.5833e-02, -4.0253e-03],\n",
       "                        [-5.8711e-03, -1.5969e-02,  5.5152e-02],\n",
       "                        [-2.4232e-02,  3.3658e-02,  6.1404e-02]],\n",
       "              \n",
       "                       [[ 7.7055e-02,  4.1027e-02,  3.8192e-02],\n",
       "                        [ 3.1061e-02,  3.8143e-02,  5.3293e-03],\n",
       "                        [-8.8298e-02, -7.6762e-02, -6.6002e-02]],\n",
       "              \n",
       "                       [[-5.4891e-02, -2.0342e-02,  5.2616e-03],\n",
       "                        [-1.8742e-02,  3.4493e-03,  2.2561e-03],\n",
       "                        [ 6.7461e-02,  6.3554e-02,  2.6658e-02]]],\n",
       "              \n",
       "              \n",
       "                      [[[ 1.2168e-02,  1.7006e-02,  3.8637e-02],\n",
       "                        [ 1.5617e-02,  6.5499e-03,  3.3277e-02],\n",
       "                        [ 4.8796e-02,  4.9340e-02,  2.1732e-02]],\n",
       "              \n",
       "                       [[-1.1137e-02,  1.6866e-03,  1.5773e-03],\n",
       "                        [-1.1686e-02, -5.5404e-03, -3.1337e-02],\n",
       "                        [-2.1396e-02,  7.6260e-03, -2.5348e-02]],\n",
       "              \n",
       "                       [[ 1.2051e-02,  1.6078e-03, -2.6882e-02],\n",
       "                        [ 3.7459e-02,  3.0679e-02,  2.2596e-02],\n",
       "                        [ 3.4093e-02,  3.5218e-02, -3.0193e-02]],\n",
       "              \n",
       "                       ...,\n",
       "              \n",
       "                       [[ 1.6444e-02, -2.4677e-02, -7.3582e-03],\n",
       "                        [ 1.0892e-02,  1.8414e-03, -4.7396e-02],\n",
       "                        [ 2.4886e-02, -2.8697e-02,  5.8839e-03]],\n",
       "              \n",
       "                       [[-1.5722e-02, -5.3631e-03, -4.5381e-03],\n",
       "                        [-4.6119e-03, -2.9695e-02,  7.8239e-03],\n",
       "                        [ 1.0823e-03, -3.5857e-02,  4.2940e-03]],\n",
       "              \n",
       "                       [[-3.6848e-02, -5.1258e-02, -7.6871e-02],\n",
       "                        [-4.5309e-02, -6.0198e-02, -8.3336e-02],\n",
       "                        [ 5.8542e-02,  5.3232e-04, -1.2193e-01]]],\n",
       "              \n",
       "              \n",
       "                      [[[-3.7932e-02,  6.2203e-02, -1.5773e-02],\n",
       "                        [-4.8390e-02, -5.3280e-02, -5.5357e-02],\n",
       "                        [-1.3765e-03, -2.2444e-02,  8.1542e-03]],\n",
       "              \n",
       "                       [[ 1.5990e-02, -3.7186e-02, -3.4420e-02],\n",
       "                        [-6.0308e-02, -1.3266e-01, -8.8110e-02],\n",
       "                        [ 1.4989e-02, -4.0467e-02, -1.7072e-02]],\n",
       "              \n",
       "                       [[-1.0787e-02, -3.1981e-03, -3.5094e-04],\n",
       "                        [ 5.5088e-02,  1.3800e-01,  1.6071e-02],\n",
       "                        [-6.7215e-02, -1.6663e-02, -4.1399e-02]],\n",
       "              \n",
       "                       ...,\n",
       "              \n",
       "                       [[ 2.2100e-02,  3.9047e-02, -3.6310e-02],\n",
       "                        [-2.2942e-02, -5.7454e-03, -3.7330e-02],\n",
       "                        [-5.1980e-02, -8.7684e-02,  7.1108e-02]],\n",
       "              \n",
       "                       [[-8.0146e-02, -5.3945e-02,  5.1891e-02],\n",
       "                        [-7.7216e-02,  3.7055e-03,  5.9434e-02],\n",
       "                        [-1.0164e-02, -1.6167e-02,  8.8831e-02]],\n",
       "              \n",
       "                       [[-4.9402e-02,  2.2062e-02, -1.8080e-02],\n",
       "                        [-2.4947e-03, -1.9218e-03, -2.4468e-03],\n",
       "                        [ 2.7086e-02,  2.4070e-02,  4.4668e-02]]],\n",
       "              \n",
       "              \n",
       "                      ...,\n",
       "              \n",
       "              \n",
       "                      [[[ 1.2312e-02,  5.3213e-02,  2.2881e-02],\n",
       "                        [ 5.6013e-02,  2.0169e-02, -1.2769e-02],\n",
       "                        [ 2.8608e-02, -3.8536e-02, -6.2358e-02]],\n",
       "              \n",
       "                       [[-7.5705e-02, -5.0858e-02, -2.3395e-02],\n",
       "                        [-1.1387e-02, -1.4802e-02, -6.8980e-02],\n",
       "                        [ 1.3357e-03, -1.8414e-02, -6.2993e-02]],\n",
       "              \n",
       "                       [[-1.6909e-02,  2.9214e-02, -8.7994e-03],\n",
       "                        [ 4.6448e-02, -2.7168e-03, -1.0382e-01],\n",
       "                        [ 7.3676e-03, -4.1376e-02, -1.2829e-02]],\n",
       "              \n",
       "                       ...,\n",
       "              \n",
       "                       [[ 6.5366e-02,  5.2600e-02, -8.0596e-03],\n",
       "                        [ 4.2814e-02,  1.2997e-04, -9.3423e-02],\n",
       "                        [ 6.4188e-02, -4.1571e-02, -9.0867e-02]],\n",
       "              \n",
       "                       [[-9.0777e-02, -4.9477e-02, -5.7409e-02],\n",
       "                        [-3.6257e-02, -3.7871e-03,  2.0454e-02],\n",
       "                        [-4.5083e-04,  2.0903e-02,  4.8223e-02]],\n",
       "              \n",
       "                       [[-3.0975e-02, -8.6734e-02, -5.4051e-02],\n",
       "                        [-1.9160e-02, -7.1911e-02, -5.3039e-02],\n",
       "                        [-3.9089e-02, -5.7759e-02,  9.8711e-03]]],\n",
       "              \n",
       "              \n",
       "                      [[[-2.1517e-02, -2.6395e-02, -6.8177e-02],\n",
       "                        [-1.4165e-02, -2.4561e-02, -2.2340e-02],\n",
       "                        [-1.8293e-02, -1.8923e-02, -1.0353e-02]],\n",
       "              \n",
       "                       [[-3.4542e-02, -3.2483e-02, -2.0584e-02],\n",
       "                        [-5.4995e-02, -1.2552e-02, -6.3937e-03],\n",
       "                        [-4.0004e-02, -3.0130e-02, -1.0846e-02]],\n",
       "              \n",
       "                       [[-5.7149e-02, -5.6485e-02, -2.3768e-02],\n",
       "                        [-2.7626e-02, -7.5047e-03,  9.5778e-03],\n",
       "                        [-3.5236e-02, -1.2067e-02,  8.3386e-04]],\n",
       "              \n",
       "                       ...,\n",
       "              \n",
       "                       [[ 1.0175e-01,  2.8614e-02, -2.0797e-02],\n",
       "                        [ 5.5543e-02,  2.5019e-03, -2.1647e-02],\n",
       "                        [ 2.7605e-02, -9.6800e-03, -4.1913e-02]],\n",
       "              \n",
       "                       [[-7.2700e-02, -4.7830e-02, -1.9886e-02],\n",
       "                        [-7.0665e-02, -5.6476e-02, -2.5932e-02],\n",
       "                        [-2.5325e-02, -4.7414e-03, -6.0725e-03]],\n",
       "              \n",
       "                       [[-1.9243e-02, -1.4943e-02, -1.4026e-03],\n",
       "                        [-2.3828e-03, -2.5673e-02,  7.0461e-03],\n",
       "                        [-3.1291e-03, -1.1805e-04,  7.8172e-03]]],\n",
       "              \n",
       "              \n",
       "                      [[[-7.3962e-03,  1.1977e-02, -7.5080e-03],\n",
       "                        [-6.1527e-03,  3.3639e-03,  2.3725e-02],\n",
       "                        [ 4.4565e-03,  4.0127e-02,  6.3350e-03]],\n",
       "              \n",
       "                       [[-1.2193e-02,  1.2780e-02,  1.9616e-02],\n",
       "                        [-5.8665e-03,  2.0149e-02, -9.5818e-03],\n",
       "                        [ 3.9975e-03,  1.3715e-02, -1.9656e-03]],\n",
       "              \n",
       "                       [[-7.3337e-03,  1.9827e-02, -2.6895e-02],\n",
       "                        [-3.1461e-02,  3.3276e-02, -3.1134e-02],\n",
       "                        [-2.1514e-02, -3.9743e-03, -4.1859e-02]],\n",
       "              \n",
       "                       ...,\n",
       "              \n",
       "                       [[-1.9363e-02,  7.7481e-03, -2.8458e-02],\n",
       "                        [-4.2397e-03,  3.6127e-02, -3.0102e-02],\n",
       "                        [-3.4413e-02, -3.2846e-03, -2.3112e-02]],\n",
       "              \n",
       "                       [[ 4.6265e-02, -7.8243e-03, -9.9839e-03],\n",
       "                        [ 2.9504e-02,  1.0778e-02,  3.0852e-02],\n",
       "                        [-1.7832e-02, -2.1193e-02,  3.4721e-03]],\n",
       "              \n",
       "                       [[ 4.6544e-02,  5.2385e-02, -1.0211e-02],\n",
       "                        [-4.8283e-03, -1.9226e-02, -1.3054e-02],\n",
       "                        [-5.1810e-03, -3.6354e-03,  1.9006e-02]]]])),\n",
       "             ('1.features.7.bias',\n",
       "              tensor([-2.9244e-02,  3.6822e-01, -1.1581e-01, -1.2367e-01, -3.4213e-02,\n",
       "                      -1.8257e-01,  2.6083e-01,  4.2898e-03,  9.5235e-02, -1.3568e-01,\n",
       "                      -1.3897e-01, -7.5678e-02, -4.4312e-02, -1.0518e-02,  1.4225e-01,\n",
       "                       1.5100e-01,  1.2048e-01, -2.5851e-01, -5.9291e-03,  2.5478e-01,\n",
       "                      -1.3797e-01,  8.6009e-02,  4.2644e-02,  8.3791e-02,  9.1544e-01,\n",
       "                       1.7116e-01,  2.5944e-01, -2.1043e-02,  1.4247e-01,  5.4934e-02,\n",
       "                       5.4753e-02,  1.1998e-01, -1.3110e-01,  1.7951e-01, -3.8083e-02,\n",
       "                      -6.8375e-02, -1.3147e-02, -3.2321e-03, -2.6757e-01,  1.8498e-01,\n",
       "                      -1.8203e-02, -1.1437e-02,  4.5412e-02, -1.3628e-01,  3.7835e-02,\n",
       "                      -2.7096e-01, -5.0474e-02,  4.1413e-02, -3.4647e-02, -1.9218e-03,\n",
       "                      -9.0403e-02,  1.1494e-01, -2.1691e-01,  2.5732e-01,  8.7382e-02,\n",
       "                      -9.1019e-02, -4.7997e-03,  3.1544e-02,  1.7192e-02, -8.7287e-02,\n",
       "                       1.2775e-01,  1.2624e-01,  4.8558e-02,  2.0310e-01,  3.2935e-02,\n",
       "                       3.7378e-02, -2.2885e-02,  1.3639e-02, -6.2140e-02,  1.3598e-02,\n",
       "                       9.4023e-02,  4.7757e-04, -6.9372e-02,  8.6655e-02,  1.1173e-01,\n",
       "                       2.2855e-01,  2.6687e-01,  1.3659e-02,  2.9447e-03,  1.9580e-02,\n",
       "                      -3.6173e-02,  1.1196e-01, -2.7739e-02, -1.7014e-01, -6.5792e-02,\n",
       "                       1.6201e-01, -1.1583e-02,  1.3974e-02, -7.8853e-02, -1.1746e-01,\n",
       "                      -5.7625e-03,  9.1075e-03, -1.7239e-01,  3.0656e-02, -5.9682e-02,\n",
       "                       6.2143e-02, -1.8191e-02, -5.5088e-03, -2.2128e-01,  3.5918e-01,\n",
       "                       7.1711e-02,  8.5301e-02, -1.2672e-01,  2.4099e-02,  2.7818e-01,\n",
       "                       3.1215e-02, -2.1339e-02,  9.2642e-02,  1.8836e-01,  5.3320e-02,\n",
       "                       1.8038e-01, -3.1592e-01,  3.8081e-02,  2.6003e-01, -5.5641e-02,\n",
       "                      -9.6557e-02, -2.3964e-01,  5.7522e-02, -6.1628e-02,  3.4699e-02,\n",
       "                      -1.9318e-01, -1.0035e-01,  2.7947e-01,  1.7472e-01,  2.5767e-01,\n",
       "                      -3.9760e-02,  5.6908e-02,  2.1460e-01])),\n",
       "             ('1.features.10.weight',\n",
       "              tensor([[[[-1.4007e-02, -2.4758e-03,  1.7165e-02],\n",
       "                        [-2.3779e-02, -3.4387e-02, -1.2339e-02],\n",
       "                        [-5.7205e-02, -5.8738e-02, -1.1186e-02]],\n",
       "              \n",
       "                       [[ 1.7648e-02,  1.6227e-02,  1.9039e-02],\n",
       "                        [ 6.1813e-03,  1.0615e-02,  1.9880e-02],\n",
       "                        [ 7.9173e-03, -1.4894e-02,  1.1314e-02]],\n",
       "              \n",
       "                       [[ 4.5776e-02,  8.0326e-03, -3.4564e-03],\n",
       "                        [-3.6431e-04,  8.4609e-03, -3.3386e-04],\n",
       "                        [ 2.8731e-02,  1.6470e-04,  1.7804e-02]],\n",
       "              \n",
       "                       ...,\n",
       "              \n",
       "                       [[-2.3556e-02,  1.8936e-02,  1.8955e-02],\n",
       "                        [-7.0976e-02, -1.2295e-02,  2.1619e-02],\n",
       "                        [-1.1036e-01, -7.1080e-02, -1.7893e-03]],\n",
       "              \n",
       "                       [[ 3.9349e-02,  4.1186e-02,  4.4336e-02],\n",
       "                        [-5.9756e-03,  1.1562e-02,  3.0797e-02],\n",
       "                        [-3.5570e-02, -1.2359e-02,  2.6311e-03]],\n",
       "              \n",
       "                       [[-2.3235e-02,  3.5898e-03, -1.0363e-02],\n",
       "                        [-1.9104e-02,  1.1270e-02,  1.3857e-02],\n",
       "                        [-3.3367e-02, -4.6364e-06, -5.7288e-03]]],\n",
       "              \n",
       "              \n",
       "                      [[[-6.7480e-03, -2.3798e-02, -2.7710e-02],\n",
       "                        [ 6.9877e-03, -1.0475e-02, -2.3067e-02],\n",
       "                        [-3.7577e-02, -3.4434e-02, -1.6440e-02]],\n",
       "              \n",
       "                       [[ 8.6437e-03,  3.9164e-04,  1.1417e-02],\n",
       "                        [ 2.0713e-02,  1.7730e-02,  2.2498e-03],\n",
       "                        [ 2.0494e-02,  1.0201e-02, -1.3749e-02]],\n",
       "              \n",
       "                       [[ 5.5186e-02,  7.8404e-02,  7.9011e-02],\n",
       "                        [ 8.9460e-02,  3.2166e-01,  1.6191e-01],\n",
       "                        [ 8.1067e-02,  2.1470e-01,  1.2892e-01]],\n",
       "              \n",
       "                       ...,\n",
       "              \n",
       "                       [[ 6.8936e-03, -2.7665e-02, -1.6128e-02],\n",
       "                        [-1.9069e-02, -4.2343e-02, -4.9848e-02],\n",
       "                        [-3.4384e-02, -4.6451e-02, -1.7303e-02]],\n",
       "              \n",
       "                       [[ 4.0106e-02,  1.1601e-02,  8.1965e-03],\n",
       "                        [ 2.8691e-02, -1.5287e-02, -1.1131e-02],\n",
       "                        [-5.7256e-03, -1.9450e-02, -2.4323e-02]],\n",
       "              \n",
       "                       [[ 4.8223e-03,  1.0425e-02,  4.5479e-03],\n",
       "                        [ 4.9760e-02,  1.0987e-02,  1.5894e-02],\n",
       "                        [-3.4841e-04, -9.4001e-03, -5.6284e-03]]],\n",
       "              \n",
       "              \n",
       "                      [[[-1.4166e-02, -2.9578e-02,  3.7494e-03],\n",
       "                        [-3.9782e-02, -5.2025e-02,  1.8663e-02],\n",
       "                        [-2.7759e-02, -6.1420e-02,  1.8463e-02]],\n",
       "              \n",
       "                       [[ 5.2177e-02,  9.6799e-04,  9.9778e-03],\n",
       "                        [-7.2480e-03, -4.1763e-02,  5.0160e-02],\n",
       "                        [-2.1078e-03, -1.6015e-02,  4.6184e-02]],\n",
       "              \n",
       "                       [[ 3.2157e-02,  6.5497e-02, -6.1690e-03],\n",
       "                        [ 8.2877e-02, -5.4399e-04,  7.4602e-03],\n",
       "                        [ 6.3707e-02, -7.6725e-04,  1.1554e-02]],\n",
       "              \n",
       "                       ...,\n",
       "              \n",
       "                       [[-2.4038e-02,  4.4736e-02, -5.1002e-03],\n",
       "                        [-3.3205e-02, -1.4633e-02, -2.2015e-02],\n",
       "                        [-4.8763e-03, -2.1839e-02,  1.4546e-02]],\n",
       "              \n",
       "                       [[-7.0485e-03,  5.7650e-03, -1.1393e-02],\n",
       "                        [ 5.8405e-03,  2.8317e-02, -2.6411e-03],\n",
       "                        [-1.9971e-02,  3.8507e-02, -3.0113e-02]],\n",
       "              \n",
       "                       [[-9.6577e-03, -3.2950e-02, -5.9884e-02],\n",
       "                        [ 1.1795e-02,  1.1419e-02, -3.2860e-02],\n",
       "                        [-1.3539e-02,  3.9244e-04, -4.8575e-03]]],\n",
       "              \n",
       "              \n",
       "                      ...,\n",
       "              \n",
       "              \n",
       "                      [[[ 1.4446e-02,  7.2828e-03, -3.6086e-02],\n",
       "                        [ 1.6368e-03, -5.1122e-03, -3.2015e-02],\n",
       "                        [ 1.4135e-02, -9.3389e-04, -2.5761e-02]],\n",
       "              \n",
       "                       [[-1.6623e-02,  1.1753e-02,  1.8275e-02],\n",
       "                        [ 2.2146e-02,  3.0441e-02,  7.7434e-03],\n",
       "                        [ 1.5411e-02,  1.9760e-02, -2.3545e-02]],\n",
       "              \n",
       "                       [[ 4.4830e-02,  3.9709e-02, -6.1440e-03],\n",
       "                        [ 3.2652e-02,  2.8282e-02,  2.4439e-02],\n",
       "                        [ 1.9893e-03, -3.0406e-02, -1.7646e-02]],\n",
       "              \n",
       "                       ...,\n",
       "              \n",
       "                       [[-2.8847e-02, -3.3404e-02, -4.9857e-03],\n",
       "                        [ 1.6002e-02, -4.5043e-02, -2.8420e-02],\n",
       "                        [ 2.8632e-02, -1.8314e-02, -2.6121e-02]],\n",
       "              \n",
       "                       [[ 4.2028e-02,  5.4875e-02,  3.7711e-02],\n",
       "                        [ 1.3709e-02,  1.3408e-02,  3.0942e-03],\n",
       "                        [-1.3772e-03, -1.1569e-02, -9.6739e-03]],\n",
       "              \n",
       "                       [[ 1.8122e-02,  6.5923e-03, -2.0027e-02],\n",
       "                        [ 3.8804e-02,  4.2087e-02,  2.2759e-02],\n",
       "                        [ 2.5992e-02,  5.3105e-02,  2.6383e-02]]],\n",
       "              \n",
       "              \n",
       "                      [[[ 4.6909e-02,  4.5786e-02,  4.9382e-02],\n",
       "                        [ 3.4212e-02,  1.6203e-02, -5.5281e-03],\n",
       "                        [ 2.3666e-02, -1.2712e-02, -1.7715e-02]],\n",
       "              \n",
       "                       [[ 3.8658e-02,  4.8109e-02, -1.4195e-02],\n",
       "                        [ 3.4521e-02,  3.4799e-02, -7.7025e-04],\n",
       "                        [ 1.0436e-02,  1.7865e-02, -3.3302e-02]],\n",
       "              \n",
       "                       [[-2.1016e-02,  1.1981e-02,  3.7347e-03],\n",
       "                        [-1.5771e-02, -4.4359e-02, -2.1006e-02],\n",
       "                        [-2.4899e-02, -6.0029e-03,  1.1386e-02]],\n",
       "              \n",
       "                       ...,\n",
       "              \n",
       "                       [[ 8.7709e-03,  2.9575e-03,  9.7251e-03],\n",
       "                        [ 2.2328e-02,  1.8381e-02,  4.2298e-02],\n",
       "                        [ 2.3203e-02,  5.1671e-02,  7.8091e-03]],\n",
       "              \n",
       "                       [[ 1.3587e-02,  8.5872e-03,  6.7842e-03],\n",
       "                        [ 3.8343e-03, -2.5390e-02, -1.8790e-02],\n",
       "                        [-5.8626e-03, -2.8260e-02, -1.0274e-04]],\n",
       "              \n",
       "                       [[-7.1008e-03,  1.5085e-02, -1.3923e-02],\n",
       "                        [ 4.3796e-02,  3.5501e-02,  1.8566e-02],\n",
       "                        [-6.1096e-03, -2.2465e-02, -1.7366e-02]]],\n",
       "              \n",
       "              \n",
       "                      [[[-5.1658e-03, -4.0657e-02, -3.8135e-02],\n",
       "                        [-2.3608e-02, -1.4098e-02,  2.6837e-02],\n",
       "                        [-5.5198e-03, -9.0307e-03, -3.7373e-03]],\n",
       "              \n",
       "                       [[ 2.9801e-02,  3.2179e-03, -1.3037e-02],\n",
       "                        [ 6.1162e-02,  4.9628e-02, -1.6593e-02],\n",
       "                        [ 4.4171e-03,  3.5242e-02, -2.0186e-02]],\n",
       "              \n",
       "                       [[-2.7091e-02, -3.2669e-02, -4.8620e-02],\n",
       "                        [ 1.7188e-02, -6.3617e-03, -1.0601e-02],\n",
       "                        [ 4.9472e-03, -5.0724e-02, -2.2117e-02]],\n",
       "              \n",
       "                       ...,\n",
       "              \n",
       "                       [[ 5.7834e-04, -3.5790e-02, -2.1106e-02],\n",
       "                        [-1.9650e-02, -3.3912e-03, -4.0855e-03],\n",
       "                        [-3.2499e-02,  2.2817e-02,  2.9889e-02]],\n",
       "              \n",
       "                       [[ 2.3847e-02, -7.0819e-04,  5.3188e-04],\n",
       "                        [ 1.9236e-02,  3.5023e-03, -2.5066e-02],\n",
       "                        [ 1.4481e-04,  1.2203e-02, -8.7053e-03]],\n",
       "              \n",
       "                       [[-6.2798e-03, -1.4435e-02, -4.6503e-04],\n",
       "                        [ 2.7812e-02,  4.5378e-02,  6.2296e-02],\n",
       "                        [-3.6758e-02, -4.0840e-02, -1.7593e-02]]]])),\n",
       "             ('1.features.10.bias',\n",
       "              tensor([ 1.6429e-02,  3.8569e-02, -6.6754e-02,  8.6846e-02, -4.4781e-02,\n",
       "                      -1.1013e-01,  3.8902e-02,  5.5566e-02, -9.5166e-02,  5.4116e-02,\n",
       "                      -6.6375e-02,  1.2620e-01,  4.0414e-02,  3.4166e-01,  7.8684e-02,\n",
       "                       2.0107e-01, -1.8163e-02,  2.3766e-02,  2.7777e-02,  6.2991e-02,\n",
       "                       2.5984e-01,  2.6385e-02, -1.6653e-02,  2.4777e-01, -2.2551e-02,\n",
       "                      -2.8716e-02,  1.7733e-01,  9.8240e-02, -4.0393e-02, -7.4416e-02,\n",
       "                       1.4062e-01,  1.1608e-01,  1.2027e-01, -1.8960e-01,  4.9288e-02,\n",
       "                       1.0945e-02, -1.0196e-01,  3.9212e-02, -3.8815e-02, -4.9541e-02,\n",
       "                      -4.9548e-02,  1.7797e-02, -4.0938e-02, -2.8164e-01,  4.7846e-02,\n",
       "                      -5.7474e-03,  7.6388e-02,  1.8444e-02, -6.3177e-02, -5.3651e-02,\n",
       "                       2.6726e-02,  9.2692e-03,  7.4161e-02, -1.6256e-01, -1.6459e-02,\n",
       "                       2.6403e-01, -8.4377e-02, -8.4696e-02,  1.1362e-01,  1.6091e-01,\n",
       "                       6.4052e-02, -7.4158e-02, -3.9956e-02,  6.9397e-03,  4.4313e-02,\n",
       "                       1.3392e-01, -3.6954e-02,  1.1802e-01, -1.6117e-01,  1.0843e-01,\n",
       "                       2.5687e-01,  6.8849e-02,  2.4624e-04, -1.0745e-01,  6.6739e-02,\n",
       "                       1.8979e-01,  1.3059e-02,  2.4936e-02,  3.1791e-03,  2.7289e-02,\n",
       "                       2.1407e-02,  1.0397e-01, -1.8461e-02,  9.7883e-02, -1.0561e-02,\n",
       "                      -1.2515e-02,  1.6592e-01,  8.0179e-02, -2.4592e-02,  1.7321e-01,\n",
       "                       1.7591e-01,  3.7715e-02, -5.0248e-02,  8.2749e-02, -5.0626e-02,\n",
       "                       7.1183e-02, -7.2239e-02,  1.6184e-01, -7.8718e-02,  8.9856e-02,\n",
       "                       9.4743e-03,  1.8081e-01,  6.2927e-02,  1.2479e-02, -1.8433e-02,\n",
       "                      -8.0994e-03, -5.1978e-02,  1.8009e-02,  2.6072e-02, -6.4155e-02,\n",
       "                       5.7590e-02,  4.5117e-02,  5.7923e-02,  4.4833e-02,  4.8827e-02,\n",
       "                       4.5739e-03, -9.6326e-02,  3.2765e-01,  3.0080e-02, -2.7571e-02,\n",
       "                       2.9006e-02,  2.3061e-02,  9.8345e-02, -2.6753e-02,  1.1076e-01,\n",
       "                       6.1956e-02, -1.6521e-02, -1.1671e-01, -1.0776e-01, -1.0650e-02,\n",
       "                      -3.1127e-02, -2.3007e-02, -2.2116e-02,  1.8493e-01, -3.9275e-02,\n",
       "                       9.5358e-02,  3.6824e-02, -8.3492e-02,  8.7663e-02,  1.8248e-01,\n",
       "                      -2.3282e-02,  1.2820e-01, -1.7024e-03, -1.8139e-01, -3.7952e-02,\n",
       "                      -5.2734e-04, -3.7376e-02,  1.1202e-02, -1.0518e-02,  9.3713e-02,\n",
       "                       1.0779e-01,  2.3749e-01,  3.4243e-02,  1.4610e-02, -1.6384e-02,\n",
       "                       7.1156e-03,  1.0664e-01, -6.3231e-02, -1.3537e-01,  4.4031e-03,\n",
       "                       3.6503e-02,  2.6201e-02, -2.9595e-02, -1.2008e-02, -1.0002e-01,\n",
       "                       1.9291e-02, -5.4244e-02,  3.3089e-02, -9.9961e-02, -2.1356e-04,\n",
       "                      -4.1732e-03,  9.4530e-02,  2.0746e-02,  3.1527e-02,  1.4587e-01,\n",
       "                      -3.1823e-02, -2.9263e-02, -1.3696e-01,  3.2753e-02,  2.4491e-02,\n",
       "                       1.1297e-01,  2.9490e-02, -2.2794e-02,  4.1123e-02,  1.3011e-01,\n",
       "                      -1.4541e-01,  6.2322e-02,  8.6622e-02,  2.1907e-02,  1.0966e-01,\n",
       "                       7.3239e-02,  8.6751e-02,  3.3437e-02, -2.7341e-02, -7.9321e-03,\n",
       "                      -3.7310e-02, -4.7332e-02,  1.2443e-01,  5.4067e-02,  3.8495e-02,\n",
       "                      -1.2657e-01,  1.1903e-01, -1.2429e-01,  2.6909e-02, -8.7539e-02,\n",
       "                       1.1968e-01,  6.2831e-02, -4.6064e-03, -2.6281e-02, -6.6331e-02,\n",
       "                       2.7610e-01, -6.9949e-02,  1.3018e-01, -1.5693e-02,  1.0165e-01,\n",
       "                      -1.4947e-01, -7.9844e-02,  1.8952e-01,  1.2213e-02,  7.4697e-02,\n",
       "                      -1.5086e-01,  3.9352e-02, -3.3164e-02,  1.8672e-01, -1.6213e-02,\n",
       "                      -8.0222e-03, -1.0627e-01,  4.2564e-03, -4.7032e-02,  6.5784e-02,\n",
       "                      -1.4219e-02,  5.0612e-02,  5.3053e-02,  1.7576e-01,  6.1382e-02,\n",
       "                       2.8113e-02,  5.5856e-02, -2.1526e-02, -4.3444e-02,  6.0996e-02,\n",
       "                      -1.0243e-02, -9.0462e-02, -7.0530e-02,  1.4319e-01, -7.5232e-02,\n",
       "                      -1.9700e-02, -2.5600e-02, -1.2322e-01, -7.4473e-02,  1.0507e-01,\n",
       "                      -8.0634e-02, -1.4330e-01, -3.7829e-02,  8.3663e-02,  1.1796e-01,\n",
       "                       9.9966e-02])),\n",
       "             ('1.features.12.weight',\n",
       "              tensor([[[[ 1.1052e-02,  4.8703e-02,  2.1610e-02],\n",
       "                        [-1.9898e-02,  1.2545e-02,  1.2936e-03],\n",
       "                        [-9.0332e-02, -4.5993e-02, -3.0393e-02]],\n",
       "              \n",
       "                       [[ 4.0077e-03, -5.5191e-03,  1.4701e-03],\n",
       "                        [ 1.4815e-05, -9.2652e-03,  1.5029e-02],\n",
       "                        [-3.3989e-02, -9.3133e-03, -9.1031e-03]],\n",
       "              \n",
       "                       [[-5.5788e-02,  2.5933e-02,  6.3251e-02],\n",
       "                        [-7.4028e-02, -2.7732e-03, -1.6202e-02],\n",
       "                        [-1.6459e-02,  5.0504e-02,  1.4223e-02]],\n",
       "              \n",
       "                       ...,\n",
       "              \n",
       "                       [[ 8.3591e-04,  3.9403e-03,  9.9138e-03],\n",
       "                        [-3.8078e-03,  3.3938e-03,  6.0433e-04],\n",
       "                        [-1.5432e-02, -1.9977e-02, -1.3565e-02]],\n",
       "              \n",
       "                       [[ 9.6853e-03, -3.8513e-02, -5.7593e-02],\n",
       "                        [-1.3729e-02, -1.1511e-02, -4.1108e-02],\n",
       "                        [-2.0620e-02,  6.0410e-02, -8.3567e-03]],\n",
       "              \n",
       "                       [[ 1.2841e-02,  8.0085e-02,  2.9069e-02],\n",
       "                        [-2.2392e-02,  4.2166e-02, -1.8921e-02],\n",
       "                        [-1.5559e-02, -1.6328e-02, -1.2095e-02]]],\n",
       "              \n",
       "              \n",
       "                      [[[ 3.9739e-02,  2.5131e-02,  1.9366e-02],\n",
       "                        [ 5.0052e-03,  2.3144e-02,  3.3159e-02],\n",
       "                        [ 6.3328e-03,  7.2752e-03,  1.1019e-02]],\n",
       "              \n",
       "                       [[ 4.7722e-02,  6.1610e-02,  9.2880e-02],\n",
       "                        [-8.9373e-03, -1.7135e-02,  2.8753e-02],\n",
       "                        [ 1.1449e-02, -2.9548e-02, -1.6444e-02]],\n",
       "              \n",
       "                       [[ 1.1589e-02, -4.3020e-03,  1.3147e-02],\n",
       "                        [ 2.3308e-02,  1.2196e-02,  1.2033e-02],\n",
       "                        [ 2.8904e-02,  3.7016e-03,  3.3041e-02]],\n",
       "              \n",
       "                       ...,\n",
       "              \n",
       "                       [[ 2.1273e-02,  1.3878e-02, -2.5862e-03],\n",
       "                        [-3.2220e-05,  5.2180e-03,  1.0760e-03],\n",
       "                        [-9.9061e-04, -1.4946e-03,  1.5907e-02]],\n",
       "              \n",
       "                       [[ 8.7670e-03, -1.1718e-02,  1.4356e-02],\n",
       "                        [-1.3971e-02, -1.9559e-02,  1.0222e-02],\n",
       "                        [-1.3113e-02, -1.2293e-03,  5.2848e-03]],\n",
       "              \n",
       "                       [[-1.3029e-02,  2.0519e-02,  2.3255e-03],\n",
       "                        [ 3.7045e-03,  1.9395e-03,  9.2776e-03],\n",
       "                        [-2.4584e-02, -2.4542e-02, -7.9876e-03]]],\n",
       "              \n",
       "              \n",
       "                      [[[-1.1900e-02, -1.0310e-02, -7.9426e-03],\n",
       "                        [-1.2197e-02, -2.0570e-02, -1.5959e-02],\n",
       "                        [-3.1443e-02, -1.9623e-02, -2.5834e-02]],\n",
       "              \n",
       "                       [[-1.2508e-02, -2.6818e-02, -1.9685e-02],\n",
       "                        [ 1.4408e-02, -1.6205e-02, -1.9179e-02],\n",
       "                        [ 7.8530e-03, -9.0435e-03, -1.5256e-02]],\n",
       "              \n",
       "                       [[ 1.9278e-02,  1.2933e-02,  1.1125e-02],\n",
       "                        [ 1.8739e-02, -1.2354e-02,  8.3328e-03],\n",
       "                        [-1.1350e-02, -3.1239e-02,  1.0335e-02]],\n",
       "              \n",
       "                       ...,\n",
       "              \n",
       "                       [[ 2.7230e-03,  7.1970e-03,  1.1097e-02],\n",
       "                        [ 5.7210e-03,  2.5088e-02,  6.1457e-04],\n",
       "                        [ 7.1324e-03, -8.3437e-03,  5.8832e-03]],\n",
       "              \n",
       "                       [[-3.6393e-04,  5.7739e-04, -1.0519e-02],\n",
       "                        [-9.0267e-05, -1.9856e-02, -2.5326e-02],\n",
       "                        [-1.0751e-02,  8.1050e-03,  1.0942e-02]],\n",
       "              \n",
       "                       [[ 5.3927e-03, -8.2872e-03, -2.1597e-02],\n",
       "                        [ 1.8672e-02, -7.0141e-03,  1.3315e-02],\n",
       "                        [ 9.1066e-04, -2.1158e-02, -7.4579e-03]]],\n",
       "              \n",
       "              \n",
       "                      ...,\n",
       "              \n",
       "              \n",
       "                      [[[-2.8793e-02, -1.0669e-02,  1.1443e-02],\n",
       "                        [-2.0153e-02, -3.2284e-02, -2.7616e-03],\n",
       "                        [-3.3778e-03, -3.1480e-02, -2.2138e-02]],\n",
       "              \n",
       "                       [[ 7.1122e-03, -1.2904e-02, -3.1436e-03],\n",
       "                        [ 2.2526e-02,  1.2930e-02,  1.3817e-02],\n",
       "                        [ 3.2759e-02,  2.7940e-02,  3.6749e-02]],\n",
       "              \n",
       "                       [[ 1.9349e-03, -4.3921e-02,  4.0964e-02],\n",
       "                        [-2.2703e-02, -5.2678e-02,  2.5481e-02],\n",
       "                        [-4.4226e-02, -7.5516e-03,  2.6670e-02]],\n",
       "              \n",
       "                       ...,\n",
       "              \n",
       "                       [[-5.8667e-03, -1.2565e-04,  1.8459e-02],\n",
       "                        [-9.2053e-03, -1.5484e-02,  3.0769e-02],\n",
       "                        [ 2.2138e-02,  9.3042e-04, -6.6641e-03]],\n",
       "              \n",
       "                       [[-2.7665e-03, -2.9783e-04,  3.6518e-02],\n",
       "                        [-4.4659e-03,  2.0104e-02,  3.0818e-02],\n",
       "                        [-3.9007e-02, -7.3146e-03,  6.9723e-03]],\n",
       "              \n",
       "                       [[-4.8271e-02,  1.0284e-01,  2.4644e-02],\n",
       "                        [-6.1719e-02,  4.8826e-02,  1.5618e-02],\n",
       "                        [-5.1510e-02, -3.3073e-02, -4.9894e-02]]],\n",
       "              \n",
       "              \n",
       "                      [[[-4.5191e-02, -9.1368e-03, -5.5825e-02],\n",
       "                        [-2.4115e-02,  9.0564e-03, -3.4375e-02],\n",
       "                        [-3.8429e-02, -1.9997e-02, -4.2885e-02]],\n",
       "              \n",
       "                       [[-2.6110e-03, -1.3528e-03, -5.7697e-03],\n",
       "                        [-1.7447e-02, -1.3143e-03, -1.6677e-03],\n",
       "                        [ 5.9564e-03,  1.3798e-02,  1.4922e-02]],\n",
       "              \n",
       "                       [[ 3.2047e-02, -1.5042e-04, -2.1031e-02],\n",
       "                        [ 2.1275e-02, -2.5629e-02, -1.8020e-02],\n",
       "                        [ 8.1198e-03, -1.6622e-02,  1.9613e-03]],\n",
       "              \n",
       "                       ...,\n",
       "              \n",
       "                       [[ 1.4759e-02,  8.2828e-04, -4.9935e-03],\n",
       "                        [ 7.4519e-04,  1.5842e-02, -1.2823e-02],\n",
       "                        [-5.3126e-03,  7.9679e-03, -1.9014e-03]],\n",
       "              \n",
       "                       [[-4.3949e-02, -1.9112e-02,  3.3711e-02],\n",
       "                        [ 1.2029e-02,  2.3651e-02,  6.7286e-02],\n",
       "                        [ 1.1267e-02,  4.6591e-02,  6.0301e-02]],\n",
       "              \n",
       "                       [[-3.3205e-02,  8.0008e-03, -3.1689e-02],\n",
       "                        [-2.6099e-02,  6.3462e-02,  7.1041e-03],\n",
       "                        [-9.1442e-03,  5.3001e-02,  2.2757e-02]]],\n",
       "              \n",
       "              \n",
       "                      [[[-4.9663e-02,  3.5124e-03, -2.6823e-02],\n",
       "                        [-5.3139e-02, -1.8037e-02, -4.9305e-02],\n",
       "                        [-4.3488e-02, -5.5671e-03, -2.0938e-02]],\n",
       "              \n",
       "                       [[-1.8782e-02,  7.9881e-03,  2.1505e-02],\n",
       "                        [ 6.0002e-05,  1.9374e-02,  2.6177e-02],\n",
       "                        [-4.8061e-03, -6.1399e-03, -1.1460e-02]],\n",
       "              \n",
       "                       [[-3.9333e-03,  1.4308e-02,  2.7063e-03],\n",
       "                        [-3.5370e-02, -9.4641e-03, -4.1157e-02],\n",
       "                        [-1.0759e-02, -1.3525e-02, -2.6207e-02]],\n",
       "              \n",
       "                       ...,\n",
       "              \n",
       "                       [[-1.2923e-02, -1.2631e-02, -2.7673e-02],\n",
       "                        [-1.2298e-03, -1.3108e-02, -2.6601e-02],\n",
       "                        [-1.1001e-02,  1.1374e-02,  2.4215e-02]],\n",
       "              \n",
       "                       [[-2.2679e-02, -2.0506e-02, -1.2639e-02],\n",
       "                        [-3.1569e-02, -2.0087e-02, -3.4702e-02],\n",
       "                        [-2.5826e-02, -4.3274e-03, -1.6954e-02]],\n",
       "              \n",
       "                       [[-2.8708e-02, -3.1620e-02, -4.5957e-02],\n",
       "                        [-2.4910e-02, -1.4884e-02, -2.4123e-02],\n",
       "                        [-2.2396e-02,  4.5461e-03,  2.3179e-03]]]])),\n",
       "             ('1.features.12.bias',\n",
       "              tensor([ 0.0049,  0.0047,  0.0877,  0.0444, -0.0461,  0.0485, -0.0018,  0.0589,\n",
       "                       0.0849,  0.0929,  0.0670,  0.2052, -0.1907, -0.0173, -0.0274, -0.0140,\n",
       "                      -0.0167,  0.0398, -0.0374,  0.2311,  0.1044,  0.0628,  0.0169,  0.1344,\n",
       "                      -0.1338,  0.0244,  0.2134,  0.0159,  0.0762,  0.1671, -0.1141,  0.1276,\n",
       "                       0.0347,  0.1307,  0.0030,  0.0722,  0.1633,  0.2269,  0.1589, -0.0075,\n",
       "                      -0.0291,  0.1370,  0.1530,  0.0847,  0.1450, -0.0457,  0.0731,  0.0236,\n",
       "                       0.1114,  0.2603,  0.1023, -0.0204, -0.0188,  0.1226,  0.0395, -0.1436,\n",
       "                      -0.0258,  0.0160,  0.0546, -0.0145,  0.0254,  0.0367,  0.0243,  0.0060,\n",
       "                      -0.0032,  0.1228,  0.0266,  0.1013, -0.0226,  0.1502,  0.0846,  0.1413,\n",
       "                       0.2334,  0.0419, -0.0593,  0.0123,  0.0450, -0.0268,  0.0582,  0.0246,\n",
       "                       0.0143, -0.1280, -0.0347,  0.0784,  0.0699,  0.0048,  0.0655,  0.1117,\n",
       "                       0.1338, -0.0172,  0.2871,  0.1585, -0.1832, -0.0099, -0.0003,  0.0816,\n",
       "                       0.0361,  0.0387,  0.0795,  0.1126,  0.1592, -0.0192,  0.1201, -0.0071,\n",
       "                       0.0095,  0.0937,  0.0522, -0.1010,  0.0638,  0.0902, -0.0699, -0.0129,\n",
       "                       0.1156, -0.1312,  0.0247,  0.0850,  0.0795,  0.0219,  0.1221, -0.0377,\n",
       "                       0.0729,  0.0241,  0.0224, -0.0620,  0.1862,  0.0165,  0.1042,  0.1008,\n",
       "                      -0.1115,  0.0533,  0.1001,  0.0498,  0.1032,  0.1156,  0.0201, -0.0759,\n",
       "                      -0.0130,  0.0808,  0.0252, -0.0694,  0.1071,  0.1326,  0.0421,  0.0749,\n",
       "                       0.0288,  0.0613,  0.0687, -0.0013,  0.0416, -0.0768,  0.0365,  0.0435,\n",
       "                      -0.0150,  0.0501, -0.0428,  0.0350,  0.0083, -0.0180, -0.0105,  0.1074,\n",
       "                       0.0006,  0.0569, -0.0885, -0.0744, -0.1605, -0.0284,  0.1936,  0.0396,\n",
       "                       0.1798,  0.1019,  0.0358,  0.0765,  0.0513,  0.1169,  0.0365,  0.0025,\n",
       "                      -0.0426, -0.0018,  0.0066,  0.1793,  0.0758,  0.0412,  0.0497,  0.0038,\n",
       "                       0.1343,  0.0175, -0.0285,  0.0826,  0.0461, -0.0344,  0.0503,  0.1059,\n",
       "                       0.0540,  0.1704, -0.0576,  0.1113, -0.0426,  0.0311, -0.0316,  0.1136,\n",
       "                       0.1344, -0.0401,  0.0797,  0.0352,  0.0526,  0.1126, -0.0324,  0.2120,\n",
       "                       0.0534,  0.0684, -0.1034,  0.1218,  0.0406,  0.0233,  0.0661,  0.1333,\n",
       "                      -0.0690,  0.0960, -0.0061, -0.0980,  0.1334, -0.0972,  0.0727,  0.0334,\n",
       "                       0.0401, -0.0839,  0.0578,  0.0512,  0.0861,  0.0031, -0.0161,  0.0441,\n",
       "                      -0.1036,  0.0129,  0.1126,  0.0348,  0.0356,  0.1064,  0.0201,  0.0509,\n",
       "                      -0.1880,  0.1622,  0.0387, -0.0350,  0.1859,  0.0204,  0.0277,  0.0960,\n",
       "                      -0.0087,  0.0415, -0.0135,  0.0216,  0.1356,  0.0622, -0.0124,  0.0548])),\n",
       "             ('1.features.14.weight',\n",
       "              tensor([[[[-1.2028e-02, -1.3322e-03, -2.5487e-02],\n",
       "                        [-2.0147e-02,  5.8605e-03, -5.6045e-03],\n",
       "                        [-1.0517e-02,  1.1858e-02, -7.9231e-03]],\n",
       "              \n",
       "                       [[-2.0950e-02,  6.5511e-03, -1.8896e-02],\n",
       "                        [ 1.0435e-02, -4.9759e-03, -2.3754e-02],\n",
       "                        [ 3.4402e-02, -6.7341e-03, -4.7621e-03]],\n",
       "              \n",
       "                       [[ 2.9098e-03, -9.5570e-03,  2.9836e-02],\n",
       "                        [ 3.8305e-02,  2.7657e-02,  1.6502e-02],\n",
       "                        [ 5.1114e-02,  3.9900e-02,  2.7292e-02]],\n",
       "              \n",
       "                       ...,\n",
       "              \n",
       "                       [[ 4.4037e-03, -4.4939e-03, -1.0342e-02],\n",
       "                        [-1.0298e-02,  1.9478e-02,  1.2364e-02],\n",
       "                        [-3.6732e-02,  3.0070e-03,  2.0560e-02]],\n",
       "              \n",
       "                       [[-2.5136e-02, -3.9710e-02, -2.3327e-02],\n",
       "                        [-5.0319e-02, -5.0417e-02, -4.3238e-02],\n",
       "                        [-4.4434e-02, -3.8495e-02, -2.1474e-02]],\n",
       "              \n",
       "                       [[ 2.0593e-02,  2.5437e-02,  6.6616e-03],\n",
       "                        [ 5.2097e-04,  8.0676e-03,  2.3913e-02],\n",
       "                        [ 9.1628e-03,  6.3598e-03,  2.9889e-02]]],\n",
       "              \n",
       "              \n",
       "                      [[[ 4.8693e-03, -2.9852e-02, -1.8374e-02],\n",
       "                        [-6.5567e-03, -1.1077e-02, -1.4982e-02],\n",
       "                        [-5.3614e-03, -4.6283e-03,  1.9077e-02]],\n",
       "              \n",
       "                       [[ 2.1666e-02,  1.6408e-02,  4.3931e-03],\n",
       "                        [ 6.1200e-03, -1.3232e-02, -1.5433e-02],\n",
       "                        [-2.9620e-02, -4.5750e-02, -4.2818e-02]],\n",
       "              \n",
       "                       [[-1.1281e-02, -1.4117e-02, -4.6359e-02],\n",
       "                        [ 2.3377e-02,  1.1541e-02, -3.0636e-03],\n",
       "                        [ 4.1808e-02,  4.4240e-02,  3.7058e-03]],\n",
       "              \n",
       "                       ...,\n",
       "              \n",
       "                       [[-7.0474e-03,  1.6548e-02,  1.4965e-02],\n",
       "                        [-1.9878e-02, -6.5237e-03, -8.2478e-03],\n",
       "                        [-4.3514e-02, -4.9112e-02, -5.3717e-02]],\n",
       "              \n",
       "                       [[-9.2234e-03, -1.8728e-02, -1.8894e-02],\n",
       "                        [-1.2700e-02, -3.5728e-02, -4.1967e-02],\n",
       "                        [ 4.4919e-03, -2.5266e-02, -1.4882e-02]],\n",
       "              \n",
       "                       [[ 7.5237e-04, -1.4499e-02,  9.4907e-03],\n",
       "                        [-1.0333e-02,  2.2313e-03,  1.4011e-02],\n",
       "                        [-9.0890e-03, -2.1858e-02, -2.2494e-02]]],\n",
       "              \n",
       "              \n",
       "                      [[[-4.9104e-03, -1.2454e-02, -1.5521e-02],\n",
       "                        [-1.1442e-02,  1.1915e-02, -1.2710e-02],\n",
       "                        [-6.4705e-03,  4.4251e-03, -1.0359e-02]],\n",
       "              \n",
       "                       [[ 4.4096e-03,  1.6391e-02,  7.9758e-03],\n",
       "                        [ 8.9786e-03, -3.2623e-03, -1.2117e-02],\n",
       "                        [-1.4258e-02, -3.1441e-02, -2.3781e-02]],\n",
       "              \n",
       "                       [[-2.3077e-02, -1.4179e-02,  4.3403e-03],\n",
       "                        [-2.0937e-02,  1.7004e-02, -4.4272e-04],\n",
       "                        [ 1.4771e-02,  3.1426e-02,  5.5390e-03]],\n",
       "              \n",
       "                       ...,\n",
       "              \n",
       "                       [[-3.1079e-02, -3.2935e-02,  9.5806e-03],\n",
       "                        [-3.7412e-03, -3.6334e-02,  2.5158e-02],\n",
       "                        [-3.0562e-03, -5.0638e-02,  6.2610e-03]],\n",
       "              \n",
       "                       [[-2.3106e-02, -2.9235e-02, -1.1276e-02],\n",
       "                        [-1.5855e-02, -5.3185e-02, -2.8863e-02],\n",
       "                        [-1.9087e-02, -3.7957e-02, -2.9398e-02]],\n",
       "              \n",
       "                       [[ 1.2318e-03,  3.4424e-03, -8.1856e-03],\n",
       "                        [ 1.1175e-02,  2.3087e-02, -1.2295e-03],\n",
       "                        [ 3.1632e-02,  9.9162e-02,  1.1167e-02]]],\n",
       "              \n",
       "              \n",
       "                      ...,\n",
       "              \n",
       "              \n",
       "                      [[[-9.4015e-03, -4.1672e-03, -2.0772e-03],\n",
       "                        [-1.5672e-02, -6.7617e-03, -1.1615e-02],\n",
       "                        [ 1.8749e-02,  4.5233e-02,  6.6262e-03]],\n",
       "              \n",
       "                       [[ 3.9674e-02,  6.1595e-02,  3.0448e-02],\n",
       "                        [ 2.5003e-04, -7.4416e-03,  2.6244e-02],\n",
       "                        [ 2.3496e-02,  7.6340e-03,  1.3704e-02]],\n",
       "              \n",
       "                       [[-3.4967e-03, -1.0367e-02, -1.7023e-02],\n",
       "                        [ 1.5831e-02,  2.8967e-04,  2.4627e-03],\n",
       "                        [ 2.9365e-02,  3.5201e-02,  4.3228e-02]],\n",
       "              \n",
       "                       ...,\n",
       "              \n",
       "                       [[-2.1984e-02,  2.0046e-02,  2.6205e-02],\n",
       "                        [-3.1124e-02, -5.0019e-02, -4.7243e-03],\n",
       "                        [ 1.3898e-02, -1.6068e-02, -3.7282e-02]],\n",
       "              \n",
       "                       [[-3.4808e-02, -4.4953e-02, -1.4555e-02],\n",
       "                        [-9.1070e-03, -8.4370e-03,  3.3195e-05],\n",
       "                        [ 5.2422e-03,  2.5506e-02,  3.3293e-02]],\n",
       "              \n",
       "                       [[-1.6675e-02, -2.2223e-02,  6.3143e-03],\n",
       "                        [-9.6027e-03, -1.2019e-02, -7.3357e-03],\n",
       "                        [ 3.7716e-02,  5.2936e-03,  1.0373e-02]]],\n",
       "              \n",
       "              \n",
       "                      [[[-1.4769e-03,  9.6044e-03, -1.5820e-02],\n",
       "                        [ 1.8731e-02,  1.2786e-02, -1.3399e-02],\n",
       "                        [ 1.3942e-02,  8.4276e-03, -1.8047e-02]],\n",
       "              \n",
       "                       [[-2.4035e-03, -1.5381e-02,  1.8711e-02],\n",
       "                        [ 3.1369e-02,  1.0875e-03,  1.8606e-02],\n",
       "                        [ 3.1375e-02,  3.1507e-02,  2.5750e-02]],\n",
       "              \n",
       "                       [[ 1.5053e-02, -1.9974e-03,  2.3334e-03],\n",
       "                        [ 1.5939e-02,  3.8776e-03,  4.6451e-03],\n",
       "                        [ 5.3905e-03, -1.2226e-02,  1.3426e-02]],\n",
       "              \n",
       "                       ...,\n",
       "              \n",
       "                       [[ 2.1502e-02,  1.8818e-02, -1.1724e-02],\n",
       "                        [-1.6284e-02,  1.0372e-02, -1.6563e-02],\n",
       "                        [-6.8834e-03,  1.0386e-02, -1.7669e-02]],\n",
       "              \n",
       "                       [[ 1.3056e-02, -1.8228e-02, -1.1621e-02],\n",
       "                        [ 1.3019e-02, -7.6602e-03, -5.8207e-03],\n",
       "                        [ 2.9629e-02, -1.2289e-02,  6.9818e-03]],\n",
       "              \n",
       "                       [[-6.9196e-03, -2.9970e-02, -3.3678e-03],\n",
       "                        [-4.6268e-02, -5.4458e-02,  7.2381e-04],\n",
       "                        [-4.8718e-02, -3.9557e-02,  3.5889e-03]]],\n",
       "              \n",
       "              \n",
       "                      [[[-9.7400e-03, -5.2073e-02, -1.2842e-02],\n",
       "                        [-1.6940e-02, -5.4473e-02, -1.9393e-02],\n",
       "                        [ 3.2922e-02,  1.1727e-02, -8.3503e-03]],\n",
       "              \n",
       "                       [[ 4.9112e-02,  1.4015e-02,  5.3027e-03],\n",
       "                        [ 2.0618e-02,  3.3845e-02,  4.0397e-03],\n",
       "                        [ 7.5479e-03,  5.2896e-03,  2.9344e-02]],\n",
       "              \n",
       "                       [[ 1.7471e-02,  1.0425e-03,  1.0677e-02],\n",
       "                        [ 3.7101e-02, -1.3003e-02, -1.4281e-02],\n",
       "                        [ 3.9727e-02, -4.1459e-03, -2.7420e-02]],\n",
       "              \n",
       "                       ...,\n",
       "              \n",
       "                       [[-6.8923e-03,  7.7995e-03,  1.2249e-02],\n",
       "                        [ 1.0769e-03,  6.1719e-03,  1.0801e-02],\n",
       "                        [-1.0493e-02, -2.6034e-03, -1.5437e-02]],\n",
       "              \n",
       "                       [[-2.0882e-02, -7.5636e-02, -7.3872e-02],\n",
       "                        [-2.5407e-03, -3.5149e-02, -4.2501e-02],\n",
       "                        [ 1.7465e-02, -1.0666e-02, -3.1035e-02]],\n",
       "              \n",
       "                       [[-1.1745e-02, -1.0928e-02,  1.5274e-02],\n",
       "                        [-1.4124e-02, -4.8146e-03,  1.2651e-02],\n",
       "                        [-8.3379e-03, -2.1082e-02, -5.4669e-04]]]])),\n",
       "             ('1.features.14.bias',\n",
       "              tensor([ 1.5764e-01,  2.9531e-03,  6.1584e-03,  5.6070e-02,  7.2044e-02,\n",
       "                       3.1994e-02,  3.4738e-02,  1.9174e-01, -7.4717e-02, -4.7176e-02,\n",
       "                       1.3830e-02, -7.5142e-02, -1.7205e-01,  6.2375e-05,  2.5283e-01,\n",
       "                       1.2133e-01, -3.5798e-02, -9.9016e-02,  1.0916e-01,  3.5226e-01,\n",
       "                      -1.1593e-01, -1.7649e-01,  2.7077e-02,  7.9268e-02,  6.7641e-02,\n",
       "                       1.8242e-01,  1.9706e-02, -9.4084e-02, -4.2959e-02, -1.2783e-01,\n",
       "                       5.8849e-02, -1.9544e-02,  2.5754e-02, -5.7637e-04,  8.8182e-03,\n",
       "                       3.7747e-01, -6.1478e-02, -2.4867e-02,  1.4717e-01,  4.6690e-02,\n",
       "                       2.0731e-03, -8.0149e-02,  1.7784e-02,  1.3330e-01,  1.8694e-02,\n",
       "                      -2.8764e-02,  2.7109e-02,  2.4031e-01,  5.2559e-02,  1.0381e-03,\n",
       "                      -4.3003e-02, -8.1956e-02,  5.9543e-02,  3.9381e-02, -5.5768e-02,\n",
       "                       2.7799e-01, -1.1188e-02,  3.3510e-02,  4.4497e-02,  1.1741e-02,\n",
       "                       1.9653e-01, -1.1301e-02,  1.1299e-01, -5.0448e-02,  2.0653e-02,\n",
       "                       2.5768e-02,  6.4336e-02,  1.4625e-01, -1.4295e-01,  3.8499e-02,\n",
       "                       1.8608e-01,  3.7887e-02, -9.0670e-03,  1.0625e-01,  6.3639e-02,\n",
       "                       8.0462e-02, -2.4024e-02, -4.7196e-03, -8.0894e-02, -2.2729e-02,\n",
       "                       1.1348e-01, -6.3500e-02, -8.3920e-02, -3.0127e-02, -6.1452e-02,\n",
       "                       3.7749e-01,  4.1644e-03,  4.6174e-01, -1.1267e-01,  4.6344e-02,\n",
       "                      -8.0284e-02, -4.8263e-03, -1.5015e-01,  8.9627e-05,  2.0307e-02,\n",
       "                       2.2221e-01, -3.1830e-02, -1.0410e-01,  2.8819e-02,  2.4849e-02,\n",
       "                      -2.0418e-03,  1.2961e-02, -1.4530e-02, -2.3683e-02,  1.9682e-02,\n",
       "                      -1.5378e-01,  8.7441e-02, -1.5795e-02, -4.1462e-02,  3.9087e-02,\n",
       "                      -1.1217e-02, -6.3019e-02,  1.1446e-03, -6.0907e-02, -1.0198e-02,\n",
       "                       2.6680e-02,  3.2903e-01, -1.5301e-02,  1.3126e-01,  2.5816e-02,\n",
       "                       1.3911e-01, -7.9381e-02, -7.6600e-02,  3.2355e-03, -1.0715e-01,\n",
       "                       5.7592e-02, -2.7833e-02,  3.0418e-01, -6.7085e-02,  2.3641e-02,\n",
       "                       1.0689e-01, -4.7457e-03, -3.6918e-02, -5.8795e-02, -1.1137e-01,\n",
       "                       7.4667e-02, -4.4160e-02,  2.8006e-01,  1.4267e-02, -2.0915e-02,\n",
       "                      -5.4663e-02,  2.8992e-02,  1.9405e-02,  1.9466e-01,  1.4412e-02,\n",
       "                      -6.2299e-02, -4.4410e-02,  2.1003e-01,  3.1757e-02,  1.0336e-01,\n",
       "                       4.8666e-02, -5.3105e-03, -8.5394e-02, -1.1292e-02, -3.6697e-02,\n",
       "                      -3.4452e-04,  1.8179e-01, -4.5611e-03,  3.0787e-02,  2.3691e-01,\n",
       "                       5.4759e-02,  3.8603e-03, -1.3509e-01, -1.3225e-02,  1.8438e-01,\n",
       "                      -5.4992e-02, -9.4979e-02, -8.8770e-02,  4.3021e-02,  1.1451e-01,\n",
       "                      -1.1354e-01,  2.6055e-02, -8.2897e-02,  9.9024e-02, -1.5765e-01,\n",
       "                      -7.5235e-02, -1.3323e-02, -2.0486e-02,  8.2224e-02, -3.9573e-02,\n",
       "                       1.3143e-03,  6.3085e-02, -3.4612e-02,  2.2697e-01, -1.0300e-01,\n",
       "                       1.9658e-03,  3.0685e-03, -4.8066e-02, -8.0144e-02,  4.2903e-02,\n",
       "                      -1.7320e-02,  2.3156e-01, -4.9010e-02, -1.5267e-02, -3.2692e-02,\n",
       "                      -2.6300e-02,  2.8483e-02, -1.0218e-01, -3.6691e-04,  3.3275e-01,\n",
       "                      -4.2297e-02,  3.3795e-01,  1.4081e-02, -7.1378e-02,  4.4038e-02,\n",
       "                       8.2580e-02,  3.8225e-02,  1.8982e-01,  3.0361e-02, -5.5475e-02,\n",
       "                       1.5236e-01,  3.4365e-02,  1.3199e-01, -1.0804e-01, -4.8064e-02,\n",
       "                       3.9701e-02, -9.5591e-02,  7.9037e-02,  7.5846e-02,  8.5711e-02,\n",
       "                      -3.2466e-02, -1.3524e-02, -6.3492e-03, -5.9990e-03, -2.1459e-02,\n",
       "                       1.2947e-02, -1.3136e-01,  1.1809e-01, -1.2263e-01, -8.3672e-02,\n",
       "                      -7.9727e-02, -4.4450e-02,  5.5884e-02,  1.7302e-01, -2.9973e-02,\n",
       "                      -3.2530e-02,  1.1956e-02,  1.2364e-01, -9.0680e-03,  1.3573e-01,\n",
       "                      -4.0388e-02,  2.3574e-02, -7.3213e-02,  7.2363e-02,  7.0776e-02,\n",
       "                       3.0409e-02,  3.1238e-02, -2.9240e-02, -2.8966e-02,  1.5230e-01,\n",
       "                       5.2525e-02, -2.0162e-02, -6.7819e-02, -3.2740e-02, -1.3927e-01,\n",
       "                      -1.9032e-01])),\n",
       "             ('1.features.17.weight',\n",
       "              tensor([[[[-1.2127e-02, -1.7657e-02, -3.4463e-03],\n",
       "                        [-4.7557e-03,  4.5075e-03, -9.1211e-03],\n",
       "                        [-1.9163e-03,  5.8962e-03,  1.2478e-02]],\n",
       "              \n",
       "                       [[ 1.8530e-02,  1.4756e-02,  1.7615e-02],\n",
       "                        [-1.9649e-03, -1.9910e-03,  4.6352e-03],\n",
       "                        [-5.6948e-03,  6.1152e-03, -1.5475e-02]],\n",
       "              \n",
       "                       [[-1.3272e-02, -1.6889e-02, -7.6880e-04],\n",
       "                        [ 1.1152e-02,  5.3279e-03,  1.3926e-03],\n",
       "                        [ 5.7492e-03,  1.3809e-02,  1.4609e-02]],\n",
       "              \n",
       "                       ...,\n",
       "              \n",
       "                       [[ 6.3147e-02,  6.6183e-02,  6.6387e-02],\n",
       "                        [ 4.0137e-02, -6.7046e-03,  5.5579e-02],\n",
       "                        [ 6.5287e-02,  4.8068e-02,  1.4723e-02]],\n",
       "              \n",
       "                       [[ 1.5952e-02, -1.6243e-02, -2.2167e-02],\n",
       "                        [ 8.5604e-03,  1.4889e-02, -8.2607e-03],\n",
       "                        [ 1.8569e-02,  1.2404e-02, -1.4707e-02]],\n",
       "              \n",
       "                       [[-2.3456e-02, -7.0431e-03,  1.0081e-02],\n",
       "                        [-1.0641e-02, -2.0546e-02,  2.5293e-02],\n",
       "                        [ 1.4448e-02,  2.3200e-03, -1.5443e-02]]],\n",
       "              \n",
       "              \n",
       "                      [[[-1.1281e-02, -1.6520e-02, -3.1793e-03],\n",
       "                        [-2.6053e-02, -4.3859e-02, -2.9387e-02],\n",
       "                        [-2.7462e-02, -2.3962e-02, -8.1058e-03]],\n",
       "              \n",
       "                       [[-3.7772e-02, -1.4340e-02, -2.0013e-02],\n",
       "                        [-3.4733e-02, -1.8162e-02, -1.0124e-02],\n",
       "                        [-1.7046e-02, -1.3849e-02,  2.0731e-03]],\n",
       "              \n",
       "                       [[ 1.1467e-02, -1.2456e-02,  1.6792e-02],\n",
       "                        [ 5.0979e-02,  7.6663e-03,  2.1316e-02],\n",
       "                        [ 5.7799e-02,  3.1587e-02,  1.9890e-02]],\n",
       "              \n",
       "                       ...,\n",
       "              \n",
       "                       [[-6.3007e-03, -5.8666e-03,  2.4744e-02],\n",
       "                        [-8.1871e-03, -1.1972e-02,  1.7095e-02],\n",
       "                        [ 2.5227e-02, -1.9412e-02, -2.8049e-03]],\n",
       "              \n",
       "                       [[ 1.6234e-02, -3.4470e-02, -1.4160e-02],\n",
       "                        [ 2.6344e-03, -3.5605e-02, -4.0918e-02],\n",
       "                        [ 3.2230e-03, -1.3359e-02, -1.6670e-02]],\n",
       "              \n",
       "                       [[-2.9766e-02, -1.9451e-02, -1.1094e-02],\n",
       "                        [-2.5945e-02, -5.0842e-02, -2.1507e-02],\n",
       "                        [-3.4198e-02, -3.6201e-02, -3.0691e-02]]],\n",
       "              \n",
       "              \n",
       "                      [[[ 6.2157e-03,  2.8060e-02,  3.3829e-02],\n",
       "                        [ 2.6262e-03, -1.2710e-02, -1.5703e-03],\n",
       "                        [-9.0350e-03, -1.4063e-02, -3.4197e-03]],\n",
       "              \n",
       "                       [[-2.5183e-02, -1.9336e-02, -2.5171e-02],\n",
       "                        [-1.7061e-02, -9.8728e-03, -4.6192e-03],\n",
       "                        [ 1.0146e-02, -1.4276e-03,  9.7548e-03]],\n",
       "              \n",
       "                       [[-9.6412e-03, -1.0297e-02,  1.0965e-02],\n",
       "                        [ 1.6272e-02, -1.3962e-02,  2.6135e-03],\n",
       "                        [ 3.4287e-02, -4.8441e-03,  1.2307e-03]],\n",
       "              \n",
       "                       ...,\n",
       "              \n",
       "                       [[-1.8547e-02, -1.8680e-02, -2.6964e-02],\n",
       "                        [-3.8073e-02, -3.6911e-02, -4.6612e-02],\n",
       "                        [-1.6143e-02,  4.8588e-02,  7.8650e-02]],\n",
       "              \n",
       "                       [[ 2.2885e-03,  6.3586e-03,  2.1993e-03],\n",
       "                        [-4.3690e-02, -5.4237e-03, -1.4872e-02],\n",
       "                        [-2.4695e-02, -2.4917e-02,  7.7862e-03]],\n",
       "              \n",
       "                       [[ 1.2897e-04, -1.1399e-02,  1.9959e-03],\n",
       "                        [ 4.8531e-02,  3.0663e-02, -2.1651e-02],\n",
       "                        [ 1.2381e-02,  1.0668e-02, -2.2856e-02]]],\n",
       "              \n",
       "              \n",
       "                      ...,\n",
       "              \n",
       "              \n",
       "                      [[[ 6.7194e-03, -9.3906e-03,  1.0723e-03],\n",
       "                        [-5.1799e-03, -6.4491e-03,  1.3201e-02],\n",
       "                        [-1.9257e-03,  2.5569e-03,  2.9218e-03]],\n",
       "              \n",
       "                       [[-4.1898e-02, -3.9784e-02, -1.5750e-02],\n",
       "                        [-3.3622e-02, -1.2213e-02, -9.3653e-03],\n",
       "                        [-8.3443e-03,  7.2879e-03,  2.8790e-03]],\n",
       "              \n",
       "                       [[ 6.6576e-03,  1.9851e-02,  3.1404e-02],\n",
       "                        [-1.1140e-02, -5.4961e-03,  3.1635e-02],\n",
       "                        [-8.5238e-03, -1.0475e-02, -4.6913e-03]],\n",
       "              \n",
       "                       ...,\n",
       "              \n",
       "                       [[ 1.7102e-02,  4.6507e-02,  9.1973e-03],\n",
       "                        [ 3.0998e-03,  1.2644e-03, -3.6948e-03],\n",
       "                        [-1.2760e-03,  1.2130e-02, -5.0915e-03]],\n",
       "              \n",
       "                       [[-6.9039e-03,  6.3574e-03,  1.6824e-02],\n",
       "                        [-2.9717e-02, -2.2547e-02,  7.5128e-03],\n",
       "                        [ 7.8945e-04, -2.6405e-02, -7.0685e-03]],\n",
       "              \n",
       "                       [[ 5.8054e-03,  1.1143e-02,  6.1070e-05],\n",
       "                        [-7.0917e-03, -2.5854e-02, -2.3747e-02],\n",
       "                        [-3.1791e-02, -1.6616e-02, -1.4183e-02]]],\n",
       "              \n",
       "              \n",
       "                      [[[ 4.7227e-02,  1.9756e-02,  2.7166e-02],\n",
       "                        [-4.5656e-03, -6.1636e-03,  1.1521e-02],\n",
       "                        [ 1.1254e-02,  6.8929e-03,  6.2800e-03]],\n",
       "              \n",
       "                       [[ 2.7955e-04, -9.2498e-03,  9.7683e-03],\n",
       "                        [-6.4913e-03, -1.8792e-02, -4.4050e-03],\n",
       "                        [ 1.3865e-02,  1.5044e-03,  1.4968e-02]],\n",
       "              \n",
       "                       [[ 2.2274e-03, -1.1290e-02, -1.7261e-03],\n",
       "                        [-2.1752e-03, -2.2186e-02, -9.9485e-03],\n",
       "                        [-2.2768e-02, -1.2907e-02, -8.6802e-03]],\n",
       "              \n",
       "                       ...,\n",
       "              \n",
       "                       [[ 4.4311e-02,  2.4473e-02,  1.1614e-02],\n",
       "                        [ 8.5742e-03, -2.6621e-02, -2.9206e-02],\n",
       "                        [ 2.1027e-03, -9.0757e-03, -1.9658e-02]],\n",
       "              \n",
       "                       [[ 5.0531e-03, -3.9802e-02, -2.6290e-02],\n",
       "                        [-2.0283e-02, -4.4033e-02, -1.2617e-02],\n",
       "                        [-1.9325e-02, -3.1265e-02, -4.1686e-04]],\n",
       "              \n",
       "                       [[ 6.1449e-03, -3.5588e-03,  5.2404e-03],\n",
       "                        [-2.1330e-02, -3.2422e-02, -1.8546e-02],\n",
       "                        [-3.3684e-02, -1.5455e-02, -2.0878e-02]]],\n",
       "              \n",
       "              \n",
       "                      [[[-8.6464e-04, -3.3378e-03, -1.2393e-02],\n",
       "                        [-1.8944e-03,  4.4319e-03, -3.0897e-02],\n",
       "                        [ 9.7788e-03, -2.7647e-03,  2.5823e-03]],\n",
       "              \n",
       "                       [[-1.0174e-02, -1.7008e-02,  4.2766e-04],\n",
       "                        [ 5.2880e-03, -7.1893e-03,  2.2437e-02],\n",
       "                        [ 5.7758e-03,  1.1057e-02,  2.5913e-02]],\n",
       "              \n",
       "                       [[-1.5651e-02, -4.0551e-02, -3.5056e-02],\n",
       "                        [-2.1823e-02, -3.5462e-02, -2.3067e-02],\n",
       "                        [-6.1443e-03, -2.0159e-02, -4.9583e-03]],\n",
       "              \n",
       "                       ...,\n",
       "              \n",
       "                       [[ 1.0493e-02, -6.3896e-03, -1.8643e-02],\n",
       "                        [-6.7935e-03, -3.0713e-02, -2.5141e-02],\n",
       "                        [-2.6477e-02, -4.3271e-02, -2.4203e-02]],\n",
       "              \n",
       "                       [[-2.3390e-03, -1.7304e-02, -2.7204e-02],\n",
       "                        [-5.9558e-03, -4.1544e-02, -2.7774e-02],\n",
       "                        [-1.4294e-02, -2.7828e-02, -8.3153e-03]],\n",
       "              \n",
       "                       [[-1.0261e-02, -1.3345e-02, -1.7436e-03],\n",
       "                        [-1.1033e-02, -1.5129e-02,  1.5094e-02],\n",
       "                        [-2.7124e-02,  5.9259e-03,  2.5223e-02]]]])),\n",
       "             ('1.features.17.bias',\n",
       "              tensor([ 5.9250e-02, -7.4544e-03, -9.1169e-02,  6.4211e-02,  5.1122e-02,\n",
       "                       1.8061e-01,  1.1977e-01,  3.8812e-02,  1.3380e-01, -1.3419e-01,\n",
       "                       2.9513e-01,  7.0421e-03, -2.4024e-02, -2.5094e-02, -8.2413e-02,\n",
       "                      -1.3034e-01, -2.4366e-02,  9.6815e-03,  4.2821e-02,  1.8294e-02,\n",
       "                       7.4563e-02,  5.8885e-02, -4.5667e-02,  3.3350e-02,  6.8475e-03,\n",
       "                      -6.6807e-02, -2.9088e-02, -2.4629e-02,  7.2778e-02,  2.4477e-02,\n",
       "                      -4.1569e-02, -1.7430e-02, -5.1565e-02, -1.3925e-01, -9.1910e-02,\n",
       "                      -1.7771e-02, -3.0176e-02, -7.9501e-03,  1.0608e-01, -3.4119e-02,\n",
       "                       1.1185e-02, -1.8528e-02, -5.0359e-02, -5.1063e-02, -6.5105e-02,\n",
       "                      -1.5662e-01, -8.8502e-02, -4.1676e-02, -6.6737e-02,  4.0902e-01,\n",
       "                      -1.7571e-02,  1.1560e-03, -1.0422e-01, -4.3452e-02,  1.8661e-03,\n",
       "                      -1.9073e-02,  6.7896e-02, -5.4461e-02,  7.9769e-03,  5.6867e-02,\n",
       "                       9.5680e-04, -3.8431e-03,  6.2416e-02, -5.6842e-02,  5.1732e-02,\n",
       "                       4.9948e-02,  3.0394e-03,  2.5467e-01, -3.1713e-02, -3.2222e-01,\n",
       "                      -8.5361e-02, -8.3933e-02,  5.3074e-02,  1.5186e-01,  1.5314e-01,\n",
       "                       9.2041e-02,  4.0908e-02, -9.8259e-02, -4.1314e-02, -7.2074e-02,\n",
       "                       6.8530e-02, -6.8539e-02,  8.7749e-02, -4.3960e-02, -1.9425e-02,\n",
       "                      -3.4292e-02, -2.2220e-01, -1.4714e-02, -8.2570e-03,  3.4845e-02,\n",
       "                       5.8919e-02,  4.1794e-02,  3.0679e-02, -1.2704e-02, -3.4562e-02,\n",
       "                       7.7984e-02, -1.8886e-02,  2.5538e-02,  5.2239e-02, -7.7999e-02,\n",
       "                      -1.2959e-01,  1.2071e-02, -3.1369e-02, -7.2102e-02,  1.9093e-02,\n",
       "                       2.6583e-02,  1.1154e-02,  7.5477e-03,  6.6415e-03,  1.3794e-02,\n",
       "                       1.0226e-02,  1.5852e-02, -4.4043e-02,  2.9800e-01,  7.1847e-02,\n",
       "                       1.2100e-01,  2.9481e-01,  5.6765e-03, -9.1611e-02, -5.3886e-02,\n",
       "                      -5.2353e-02,  4.5010e-02, -2.2030e-03, -4.1243e-02, -2.8185e-02,\n",
       "                       7.7748e-02,  3.5393e-02,  2.1189e-01, -5.3740e-02,  8.6228e-02,\n",
       "                       1.9983e-02, -1.0559e-02, -5.0988e-03, -5.2249e-02,  1.3606e-02,\n",
       "                       4.7909e-02, -2.4968e-02, -1.6497e-01,  1.5369e-02,  1.1179e-01,\n",
       "                      -7.8183e-03,  2.4265e-02, -1.0078e-01,  5.7069e-03,  7.0938e-02,\n",
       "                      -1.6332e-02, -7.6273e-02, -7.0070e-02, -2.1355e-01,  1.5563e-01,\n",
       "                      -2.3965e-02,  2.8436e-01,  1.2764e-01, -7.8280e-02, -6.9068e-02,\n",
       "                      -9.1196e-03,  2.7183e-01, -1.5301e-02,  5.9198e-02, -2.0870e-02,\n",
       "                      -4.8787e-02, -6.6931e-02, -2.2924e-02,  5.6722e-02, -1.8065e-01,\n",
       "                      -8.4776e-03, -7.7630e-02,  1.7184e-01,  6.3484e-02, -5.2134e-02,\n",
       "                      -1.8636e-01,  2.9837e-02, -2.0870e-02,  1.4302e-01,  3.8238e-02,\n",
       "                      -5.0512e-02,  1.1592e-01,  1.2235e-02,  9.0161e-02,  3.4501e-02,\n",
       "                      -3.0006e-03,  1.7584e-02,  6.0811e-03, -2.0359e-03, -4.6528e-02,\n",
       "                      -1.5830e-01,  1.4886e-01,  1.3198e-01,  7.6241e-02,  4.6891e-02,\n",
       "                      -1.1001e-01,  7.8126e-02,  1.7714e-01,  1.3775e-02,  4.0384e-02,\n",
       "                      -1.4763e-01,  2.8617e-01, -3.3523e-02,  3.2293e-02,  2.2704e-01,\n",
       "                       2.1792e-01,  3.1700e-02, -1.9041e-02,  6.4513e-02, -8.8818e-03,\n",
       "                       3.7706e-02,  2.1605e-01, -7.5309e-02, -1.1624e-01, -5.0595e-02,\n",
       "                      -1.2849e-01, -7.7347e-05,  4.5942e-01, -9.3166e-02, -4.0190e-02,\n",
       "                       1.1949e-01,  4.7962e-02, -1.4939e-02, -1.0497e-02,  1.5379e-02,\n",
       "                      -1.3246e-01, -2.8200e-02, -4.9071e-02, -7.9091e-02, -3.7741e-02,\n",
       "                       2.0644e-02,  7.3331e-02, -4.5771e-02, -1.4240e-02, -9.9512e-03,\n",
       "                      -1.1803e-01,  1.0046e-02, -1.3148e-01, -5.2895e-02, -1.4001e-03,\n",
       "                      -8.3560e-02,  3.3078e-02,  2.8159e-03, -7.7463e-02,  8.0694e-02,\n",
       "                      -2.5234e-02,  3.0283e-02, -4.8991e-02,  8.4480e-03,  2.5068e-02,\n",
       "                      -2.2707e-02, -1.1349e-02, -1.8143e-01, -3.4268e-02, -1.3154e-02,\n",
       "                      -2.5009e-01,  3.8804e-03, -4.1265e-02,  1.5778e-01,  7.5785e-02,\n",
       "                       3.6275e-02, -1.5391e-01,  9.9220e-02,  9.2249e-02, -4.8963e-02,\n",
       "                      -3.7797e-02,  1.2894e-01, -7.3417e-03,  5.0962e-02, -3.7696e-02,\n",
       "                       1.1872e-02,  1.0302e-03,  1.0190e-01, -4.6659e-02, -7.0384e-02,\n",
       "                       3.1815e-02,  1.1209e-01, -1.3898e-01, -3.6280e-03,  8.2987e-04,\n",
       "                       3.8738e-03, -5.0293e-02, -5.0501e-03, -8.4059e-03,  9.5073e-02,\n",
       "                      -2.5769e-02, -9.0455e-02, -5.3746e-02,  2.1623e-01, -4.0000e-02,\n",
       "                       2.5190e-02, -4.9580e-02,  1.5974e-02,  7.7585e-02, -8.7569e-02,\n",
       "                       8.0445e-03, -2.0747e-02, -2.1873e-01,  9.8182e-02, -1.3006e-01,\n",
       "                      -1.8528e-01, -3.6976e-02,  5.0470e-02,  1.9035e-02,  2.0180e-02,\n",
       "                      -1.2502e-02,  1.4237e-01, -2.3767e-03, -1.6920e-03,  8.3941e-02,\n",
       "                      -1.2302e-01, -3.6537e-02, -2.8675e-02,  2.4596e-01, -1.3490e-01,\n",
       "                      -3.9196e-02, -3.2612e-02,  5.9717e-02,  3.0920e-02,  1.1731e-01,\n",
       "                      -3.5952e-03, -9.5019e-02,  6.9531e-02,  1.5891e-02,  1.6178e-01,\n",
       "                       2.6394e-03, -9.4897e-02,  2.3098e-02,  1.1121e-02,  4.2254e-03,\n",
       "                       3.1190e-01, -1.9511e-02, -6.2400e-02,  7.0220e-03, -9.9042e-02,\n",
       "                      -3.5797e-03, -1.1731e-02, -1.4083e-02,  3.7619e-02,  1.0847e-01,\n",
       "                       2.8056e-01, -7.6521e-02,  3.8291e-02,  1.2314e-01,  1.5510e-02,\n",
       "                      -1.3255e-01, -1.6038e-01, -4.1117e-02, -9.5192e-02, -9.3201e-02,\n",
       "                       8.4636e-02, -3.5130e-02,  7.1274e-02,  1.1822e-01, -9.0245e-02,\n",
       "                      -7.0712e-02,  7.3507e-02, -1.4459e-01,  5.9564e-02,  5.2945e-02,\n",
       "                      -9.7588e-02, -1.1949e-01, -2.0688e-02,  3.7893e-02, -6.4156e-02,\n",
       "                       1.6341e-01,  8.5190e-02, -1.9455e-01, -1.1940e-02, -6.7313e-03,\n",
       "                       4.6664e-02,  1.5274e-01, -1.1479e-01,  1.3135e-01,  3.0125e-02,\n",
       "                       1.0177e-01, -1.7293e-03,  1.9962e-01, -2.7741e-02, -1.6569e-02,\n",
       "                       1.1124e-01, -8.5973e-02, -8.7516e-02, -6.2489e-02, -1.7417e-01,\n",
       "                       4.6227e-02, -4.8246e-02, -1.1193e-01,  2.6792e-01, -1.8042e-02,\n",
       "                       3.0751e-02,  1.3819e-01, -4.5124e-02,  3.8620e-02,  1.7326e-01,\n",
       "                      -5.5276e-02, -7.6841e-02,  8.3409e-02,  8.3589e-02, -9.3045e-02,\n",
       "                      -5.5992e-02, -5.1522e-02, -3.7768e-02, -3.9262e-02, -2.7852e-02,\n",
       "                       1.6906e-01, -5.9216e-02, -4.0493e-02,  4.4528e-02,  3.9402e-03,\n",
       "                       1.1667e-01, -1.0056e-01,  1.0611e-01, -3.4385e-02,  3.6519e-02,\n",
       "                      -7.5833e-02, -8.4419e-02,  4.7694e-02,  4.9445e-02, -1.2395e-01,\n",
       "                      -1.1079e-01, -5.8203e-02,  2.4261e-02,  2.7026e-02,  8.7859e-03,\n",
       "                      -1.1573e-02,  1.1053e-01,  5.0678e-02,  7.2215e-02,  4.8416e-02,\n",
       "                       1.0476e-01, -5.7442e-02,  1.9981e-01, -5.5500e-02,  2.1479e-01,\n",
       "                       7.3218e-02,  6.9329e-02, -5.2720e-02, -1.0445e-02, -6.5096e-02,\n",
       "                       2.0018e-01, -4.5118e-02,  6.7830e-02, -1.5954e-01, -4.0416e-02,\n",
       "                       3.2394e-02, -8.4083e-02, -1.5195e-02, -7.0871e-02,  1.8142e-01,\n",
       "                      -3.8580e-02,  3.7867e-02, -9.8760e-03,  5.1516e-02, -6.0605e-02,\n",
       "                      -1.1010e-01,  2.1804e-01, -2.2413e-02,  5.0416e-03,  2.9368e-02,\n",
       "                      -1.0045e-02, -1.7252e-01, -8.8641e-02,  1.0305e-01,  3.0410e-01,\n",
       "                      -1.0070e-01, -8.8479e-02, -1.5673e-02, -1.8087e-02, -4.0432e-02,\n",
       "                      -2.8048e-02, -7.5063e-02,  1.8333e-02, -6.8164e-02,  2.6221e-02,\n",
       "                      -6.4974e-02,  4.4416e-02, -6.9777e-02,  9.6513e-03, -4.2180e-02,\n",
       "                      -7.9885e-02, -1.7109e-01, -5.2134e-02, -1.5098e-01,  5.0619e-02,\n",
       "                       7.6061e-03, -7.4590e-02, -8.6450e-02,  3.0065e-03,  1.1544e-01,\n",
       "                       3.0577e-02, -1.6895e-01,  1.3394e-01,  1.0718e-01, -1.3071e-01,\n",
       "                       5.9763e-02,  4.8922e-03, -6.9849e-02, -3.7619e-03, -7.5142e-02,\n",
       "                       2.9760e-02, -4.8750e-02, -3.0635e-02, -6.8294e-02,  4.1643e-01,\n",
       "                      -7.6327e-02,  3.7386e-02,  2.1381e-01, -2.3190e-02, -5.0367e-03,\n",
       "                      -9.1601e-02,  8.3171e-04, -8.5304e-02,  7.0376e-02, -8.3625e-02,\n",
       "                      -5.2992e-02, -1.2465e-02])),\n",
       "             ('1.features.19.weight',\n",
       "              tensor([[[[-4.6712e-03, -1.3271e-02, -1.0391e-02],\n",
       "                        [ 3.6458e-03, -5.3573e-03, -1.9323e-02],\n",
       "                        [ 1.7231e-02, -1.1143e-02, -2.4472e-02]],\n",
       "              \n",
       "                       [[ 1.6509e-02,  1.2496e-02,  2.6922e-02],\n",
       "                        [ 5.4701e-03,  1.0493e-02,  9.0557e-03],\n",
       "                        [ 2.3179e-02,  2.4063e-02,  1.6532e-02]],\n",
       "              \n",
       "                       [[-1.3548e-02, -2.1291e-02, -2.7219e-02],\n",
       "                        [ 1.9632e-02,  1.0264e-02, -1.9043e-02],\n",
       "                        [ 1.7902e-02, -6.3415e-03, -3.3360e-02]],\n",
       "              \n",
       "                       ...,\n",
       "              \n",
       "                       [[-2.7743e-02, -1.8943e-02, -3.6328e-02],\n",
       "                        [-2.6864e-02, -3.1875e-02, -2.7120e-02],\n",
       "                        [-2.6235e-02, -1.8223e-02, -1.9489e-02]],\n",
       "              \n",
       "                       [[-6.2307e-03, -1.4615e-02, -1.3810e-02],\n",
       "                        [-7.2443e-03, -1.1482e-03, -6.8585e-03],\n",
       "                        [ 1.0492e-02, -5.5182e-04, -7.4661e-03]],\n",
       "              \n",
       "                       [[-9.6255e-03,  2.3615e-03,  3.3331e-03],\n",
       "                        [ 1.3827e-03,  1.7132e-02,  1.4411e-02],\n",
       "                        [-1.0458e-02,  2.0425e-02,  7.0017e-03]]],\n",
       "              \n",
       "              \n",
       "                      [[[ 8.5523e-03, -2.0642e-02, -1.8539e-02],\n",
       "                        [-5.9565e-04,  2.7074e-03,  2.3442e-02],\n",
       "                        [-1.9514e-02,  1.5046e-02,  2.8288e-02]],\n",
       "              \n",
       "                       [[ 4.2183e-03, -1.1594e-02, -4.1405e-03],\n",
       "                        [ 1.0760e-02, -1.2135e-03,  1.1047e-02],\n",
       "                        [ 3.6633e-03,  6.9817e-03,  1.9736e-02]],\n",
       "              \n",
       "                       [[-3.8001e-02, -1.4251e-02,  2.6339e-03],\n",
       "                        [-3.6620e-02,  2.2680e-02,  3.3290e-02],\n",
       "                        [-1.1168e-02,  1.2441e-02, -4.9946e-03]],\n",
       "              \n",
       "                       ...,\n",
       "              \n",
       "                       [[ 3.6353e-03, -6.7736e-03, -2.4854e-02],\n",
       "                        [ 1.3153e-02, -2.0692e-02, -2.6806e-02],\n",
       "                        [-3.1290e-03, -1.4516e-02, -5.3051e-03]],\n",
       "              \n",
       "                       [[ 2.3085e-02,  9.9584e-03, -7.8475e-03],\n",
       "                        [ 6.6155e-03, -8.8540e-03, -3.7607e-03],\n",
       "                        [-2.0468e-02, -9.8451e-03, -5.6028e-03]],\n",
       "              \n",
       "                       [[-2.1098e-02,  8.4911e-03,  4.5399e-03],\n",
       "                        [-6.5009e-03,  1.3128e-02,  4.7686e-03],\n",
       "                        [-1.4960e-02, -1.4051e-03, -2.7837e-04]]],\n",
       "              \n",
       "              \n",
       "                      [[[-3.4829e-03,  4.2668e-03,  2.5179e-02],\n",
       "                        [-2.6423e-03, -7.5268e-03,  4.8919e-03],\n",
       "                        [ 1.5222e-02,  8.5414e-03,  1.5657e-02]],\n",
       "              \n",
       "                       [[ 2.7695e-02,  1.8536e-02,  1.9947e-02],\n",
       "                        [ 1.1234e-02,  1.5481e-02, -9.1307e-04],\n",
       "                        [-1.3780e-02, -2.8383e-03, -6.4859e-03]],\n",
       "              \n",
       "                       [[ 1.7056e-02, -6.0747e-03,  3.6020e-03],\n",
       "                        [ 1.2026e-02,  3.2844e-03,  4.7319e-03],\n",
       "                        [ 7.5354e-03,  1.0282e-02,  1.5694e-02]],\n",
       "              \n",
       "                       ...,\n",
       "              \n",
       "                       [[ 1.2401e-02, -6.1247e-03, -2.4592e-02],\n",
       "                        [ 1.9908e-02,  1.0935e-02,  1.6905e-03],\n",
       "                        [-1.0643e-02, -4.4086e-03, -1.8644e-03]],\n",
       "              \n",
       "                       [[-2.1681e-02, -9.0153e-03, -1.1782e-02],\n",
       "                        [-7.9374e-03, -8.5797e-03, -5.3578e-03],\n",
       "                        [-3.1852e-03, -4.7506e-03, -4.3215e-03]],\n",
       "              \n",
       "                       [[ 1.4105e-04,  1.0764e-02,  1.0362e-02],\n",
       "                        [-6.3696e-04,  3.1806e-03,  1.3776e-02],\n",
       "                        [ 3.3542e-03, -7.4889e-04,  1.0693e-02]]],\n",
       "              \n",
       "              \n",
       "                      ...,\n",
       "              \n",
       "              \n",
       "                      [[[-1.8170e-02, -8.0334e-03, -1.3490e-02],\n",
       "                        [ 1.2707e-03,  2.1121e-02,  1.3709e-02],\n",
       "                        [ 1.4484e-02,  3.4325e-02,  3.8935e-02]],\n",
       "              \n",
       "                       [[ 1.4264e-02,  8.5367e-03,  1.4731e-02],\n",
       "                        [-1.9458e-02,  5.2762e-03,  1.8353e-02],\n",
       "                        [-1.7451e-02, -9.7217e-03, -3.9796e-03]],\n",
       "              \n",
       "                       [[-1.2174e-02, -1.7518e-02, -2.7118e-02],\n",
       "                        [-7.6405e-03, -1.4983e-02, -1.3804e-02],\n",
       "                        [-4.7516e-03, -6.5351e-03,  3.5071e-03]],\n",
       "              \n",
       "                       ...,\n",
       "              \n",
       "                       [[ 8.3369e-05, -2.2360e-03, -9.4523e-03],\n",
       "                        [-1.0943e-02, -1.2044e-02, -1.3229e-02],\n",
       "                        [-2.7644e-02, -2.4704e-02, -1.1092e-02]],\n",
       "              \n",
       "                       [[ 7.5924e-03, -3.0227e-04,  1.9684e-02],\n",
       "                        [-1.9764e-02, -1.7977e-02, -1.1356e-02],\n",
       "                        [-3.0759e-02, -3.1638e-02, -1.1150e-02]],\n",
       "              \n",
       "                       [[ 1.5071e-02,  4.8286e-03, -6.5609e-03],\n",
       "                        [-8.5156e-03, -6.5368e-03, -1.1269e-02],\n",
       "                        [-1.9926e-02, -1.0541e-02, -1.8140e-02]]],\n",
       "              \n",
       "              \n",
       "                      [[[ 1.9538e-03, -4.6376e-03, -1.7796e-02],\n",
       "                        [ 2.1596e-02,  1.8706e-02, -6.8928e-04],\n",
       "                        [ 1.2777e-02,  4.2798e-03,  7.6957e-03]],\n",
       "              \n",
       "                       [[-3.6397e-03, -1.6381e-02,  1.9860e-02],\n",
       "                        [-3.3740e-03,  1.6016e-03,  1.5669e-02],\n",
       "                        [-2.2516e-03, -4.7783e-03, -6.0670e-03]],\n",
       "              \n",
       "                       [[ 3.1886e-02,  2.9177e-02,  3.0744e-02],\n",
       "                        [-1.6345e-02, -1.2136e-02,  2.9862e-02],\n",
       "                        [-2.1954e-02, -9.7724e-03,  2.0866e-02]],\n",
       "              \n",
       "                       ...,\n",
       "              \n",
       "                       [[-1.9813e-02, -1.5771e-02,  8.9097e-03],\n",
       "                        [-1.4812e-02, -2.4163e-02,  1.3419e-03],\n",
       "                        [-1.6058e-02, -3.3179e-02, -2.4722e-03]],\n",
       "              \n",
       "                       [[ 2.0486e-02,  1.7394e-02,  3.7120e-02],\n",
       "                        [ 1.5204e-02,  1.3720e-02,  1.4742e-02],\n",
       "                        [ 6.0806e-03,  6.9483e-03,  4.8763e-04]],\n",
       "              \n",
       "                       [[-1.2885e-03,  3.3161e-03,  1.6505e-02],\n",
       "                        [-1.8384e-02,  2.4597e-03,  2.9132e-02],\n",
       "                        [-2.2410e-02, -2.3015e-02,  1.4484e-02]]],\n",
       "              \n",
       "              \n",
       "                      [[[-9.9624e-03, -5.2550e-03,  9.3189e-03],\n",
       "                        [-4.4396e-03, -1.2839e-02, -6.6279e-03],\n",
       "                        [-5.6746e-03, -1.3330e-02,  1.0199e-02]],\n",
       "              \n",
       "                       [[ 1.3718e-02,  1.3465e-02,  1.9703e-02],\n",
       "                        [ 9.3828e-03,  4.3403e-02,  4.0656e-02],\n",
       "                        [-1.7159e-02,  8.0563e-03,  3.4450e-03]],\n",
       "              \n",
       "                       [[-1.5223e-03,  3.1755e-02,  2.9220e-02],\n",
       "                        [ 9.8952e-03,  1.4006e-02,  2.5458e-03],\n",
       "                        [-5.5672e-03, -8.5133e-03, -5.9735e-03]],\n",
       "              \n",
       "                       ...,\n",
       "              \n",
       "                       [[-8.9381e-04, -1.4342e-03,  2.0334e-02],\n",
       "                        [-1.3424e-02, -1.4380e-02,  2.3356e-02],\n",
       "                        [-1.1290e-02, -1.5281e-02, -9.1222e-03]],\n",
       "              \n",
       "                       [[ 1.0671e-02,  2.3404e-02,  1.8994e-02],\n",
       "                        [-1.5805e-02,  1.0451e-03,  1.1810e-03],\n",
       "                        [-1.1484e-02, -1.9965e-02, -1.3707e-02]],\n",
       "              \n",
       "                       [[ 2.5665e-02,  2.4434e-02,  1.5593e-02],\n",
       "                        [-2.4105e-03, -8.4700e-03, -4.9609e-03],\n",
       "                        [-2.3476e-02, -1.9197e-02, -2.3337e-03]]]])),\n",
       "             ('1.features.19.bias',\n",
       "              tensor([-1.1837e-01,  7.6660e-03,  1.1514e-01,  9.9418e-03, -7.9244e-02,\n",
       "                      -3.9408e-02,  2.0749e-02,  1.7622e-02, -2.6147e-02, -1.9022e-02,\n",
       "                       3.8910e-02,  5.5021e-02, -3.7195e-02, -6.7741e-02, -2.3936e-02,\n",
       "                       6.8366e-02,  1.3598e-01,  7.8734e-03,  1.0044e-01,  1.2236e-01,\n",
       "                       9.0207e-02, -1.5786e-01, -8.3198e-02,  7.4662e-02,  3.9995e-02,\n",
       "                       3.2871e-02, -4.8258e-02,  5.3930e-02,  9.9576e-02, -1.2821e+00,\n",
       "                      -4.9316e-03,  4.4023e-02,  6.8561e-02,  1.0102e-01,  2.2582e-01,\n",
       "                       2.2724e-03,  3.1355e-02,  8.2567e-02,  1.3284e-01,  1.4270e-01,\n",
       "                       1.4084e-01,  3.5255e-02, -1.4375e-01,  2.5616e-02, -7.1618e-02,\n",
       "                      -1.3842e-01,  3.7146e-02,  9.9703e-02,  8.3273e-02,  8.3152e-02,\n",
       "                       1.3184e-01,  4.9796e-02,  8.8424e-03,  1.4524e-01, -7.2308e-02,\n",
       "                       4.1269e-02, -2.2313e-03,  1.6713e-01, -8.7703e-02,  7.0792e-02,\n",
       "                       8.9340e-02,  9.1529e-03, -1.7359e-01,  1.0434e-01,  1.8772e-01,\n",
       "                       5.4457e-02, -3.3206e-02,  2.9617e-02,  2.4384e-01,  1.0755e-01,\n",
       "                       5.1784e-02,  7.6808e-02,  9.5276e-02,  6.0759e-03, -4.7036e-02,\n",
       "                      -3.8198e-02,  2.7664e-01,  8.1002e-03, -3.4641e-03,  2.0114e-01,\n",
       "                      -2.5845e-03,  9.6634e-04, -2.2623e-01,  2.2560e-01,  2.9008e-02,\n",
       "                      -1.0324e-01,  6.8794e-02, -3.3600e-02,  8.9358e-02, -2.2778e-02,\n",
       "                       1.3123e-01, -8.7608e-03, -2.0826e-01, -5.1302e-02,  2.9661e-01,\n",
       "                      -5.9959e-02, -8.3769e-03, -4.2385e-02,  4.1968e-02,  4.9126e-02,\n",
       "                       1.9768e-01, -1.9459e-01,  4.9151e-02, -2.4237e-02,  6.4211e-02,\n",
       "                      -9.0173e-02,  1.2823e-01,  5.8475e-02, -4.3021e-02,  5.4981e-03,\n",
       "                       4.3770e-03,  9.1381e-02,  6.0940e-02,  3.3071e-01,  1.0339e-01,\n",
       "                       1.1557e-02,  1.0207e-01, -5.2139e-02,  1.7090e-01,  1.6243e-01,\n",
       "                       1.7436e-01, -3.7269e-03,  8.4176e-02,  1.2609e-01,  1.5707e-02,\n",
       "                       6.0623e-02,  1.3642e-01, -2.8168e-01,  2.1757e-01, -3.9991e-02,\n",
       "                       8.0861e-02,  4.4679e-02, -5.9695e-02,  2.7509e-01,  8.7086e-02,\n",
       "                       4.1399e-02,  1.3856e-01,  3.1119e-02,  1.8372e-02,  1.5760e-02,\n",
       "                       1.0130e-02,  2.2695e-01, -3.7478e-02, -3.2785e-02,  3.1806e-02,\n",
       "                       2.2176e-02,  2.3212e-01, -3.1369e-02,  8.4740e-02,  1.0298e-01,\n",
       "                       8.0658e-02,  1.5839e-02,  9.7349e-02,  4.5829e-02, -2.3121e-01,\n",
       "                       9.0797e-02,  5.1372e-02, -9.9880e-02,  6.1656e-02,  9.7700e-02,\n",
       "                       8.6007e-02,  1.4158e-02,  4.0013e-02,  1.0742e-01,  1.6472e-02,\n",
       "                      -1.1057e-01,  3.8866e-01, -6.0840e-02,  1.1841e-01, -1.6461e-01,\n",
       "                       1.3027e-01,  1.7405e-01,  1.1316e-02, -5.7805e-02,  1.7741e-01,\n",
       "                       8.7040e-02,  1.9039e-01,  3.4594e-02,  2.4112e-02,  5.8346e-02,\n",
       "                      -2.1290e-01,  3.3561e-02, -1.3986e-02,  2.7160e-02,  1.0082e-01,\n",
       "                      -5.4888e-02, -2.1305e-02,  7.5159e-02,  1.8080e-01,  1.7753e-04,\n",
       "                      -1.0141e-01, -2.0983e-02, -4.8539e-03,  6.5372e-02,  1.3088e-02,\n",
       "                      -4.1286e-03,  4.6864e-02,  9.1105e-02,  1.2498e-01,  3.6370e-02,\n",
       "                       7.3375e-02,  1.1986e-01, -5.6277e-02,  1.2984e-01,  9.9006e-02,\n",
       "                       1.1091e-01,  2.9311e-02,  1.4507e-01, -3.2249e-02,  3.8399e-02,\n",
       "                       1.1807e-01,  1.7721e-02,  7.4532e-02, -1.9362e-01,  5.9949e-02,\n",
       "                      -7.0017e-02, -2.8843e-02,  1.4692e-01,  1.4801e-01, -8.3872e-01,\n",
       "                       8.0609e-02,  1.1055e-01,  3.3043e-02,  8.7110e-02, -1.2018e-01,\n",
       "                       1.2918e-01,  1.5384e-01, -3.8055e-02,  8.5739e-02,  1.6335e-01,\n",
       "                       1.2732e-01, -2.6438e-03,  8.1731e-02, -4.3713e-02, -1.2955e-01,\n",
       "                       5.7324e-03, -1.4008e-01,  1.7667e-01,  8.8505e-02,  7.2805e-03,\n",
       "                       9.5343e-02,  7.2761e-02,  1.0527e-01,  3.8485e-04,  2.1010e-01,\n",
       "                       5.9018e-02,  7.3021e-02,  9.3311e-02, -2.7692e-02, -4.8525e-02,\n",
       "                      -6.2252e-02,  1.0504e-01,  2.9151e-02, -2.0312e-01,  5.4586e-02,\n",
       "                       1.2256e-01, -5.4774e-03, -4.0313e-03, -3.3138e-02,  1.4077e-01,\n",
       "                       1.2021e-01,  1.3934e-03,  2.6699e-01,  1.4896e-01,  8.4387e-02,\n",
       "                      -4.4017e-01,  2.3175e-02,  5.8472e-02, -1.2649e-01, -2.9774e-01,\n",
       "                       1.1869e-01,  6.9519e-02,  1.6353e-03,  9.2925e-02, -1.3346e-02,\n",
       "                       7.8841e-02,  4.6475e-02, -3.0260e-02,  1.5855e-01,  6.7183e-02,\n",
       "                       6.5492e-02,  7.4906e-02,  2.3463e-02,  1.4229e-01, -9.7701e-03,\n",
       "                       1.0515e-01, -7.6428e-02, -1.2919e-03,  2.0188e-01, -9.9896e-02,\n",
       "                      -9.6465e-02,  9.1138e-02, -8.0497e-03, -1.1056e-01,  8.8315e-02,\n",
       "                       3.9815e-02,  3.3819e-01,  1.2181e-01,  1.8201e-01, -1.0195e-01,\n",
       "                      -1.1672e-01,  1.3242e-01,  3.5408e-02,  1.1191e-01,  3.4143e-02,\n",
       "                       1.8897e-01,  7.3127e-02,  4.4501e-02, -1.0142e-01, -1.1820e-02,\n",
       "                      -1.4804e-01, -9.6131e-02,  3.7328e-01,  6.3161e-02,  6.9128e-03,\n",
       "                       7.5177e-02,  1.3991e-02, -2.9111e-02,  1.5272e-02,  2.5291e-02,\n",
       "                       1.4297e-01, -4.8956e-02, -3.3820e-02,  1.8402e-02, -4.5338e-02,\n",
       "                       1.1660e-02,  1.3564e-01,  1.4650e-01,  7.2028e-02, -7.6669e-03,\n",
       "                      -7.0182e-02,  6.2317e-02,  1.4382e-01, -3.6360e-01,  2.2848e-01,\n",
       "                       5.3970e-02,  4.8110e-02,  1.8652e-02,  6.7981e-02,  2.2099e-01,\n",
       "                      -4.8289e-02,  1.1624e-01, -5.9932e-02,  1.1818e-01,  1.0269e-01,\n",
       "                       7.1746e-02,  1.6199e-01,  9.6821e-02,  9.4330e-02,  2.3691e-02,\n",
       "                       5.1023e-02,  2.6762e-01,  3.0746e-02,  1.0590e-01,  7.1936e-02,\n",
       "                       2.1328e-01, -2.6466e-01,  5.1412e-02,  4.2970e-02,  2.7456e-02,\n",
       "                       7.8440e-02, -2.1258e-01, -2.7118e-02, -1.7860e-01, -1.3098e-01,\n",
       "                       1.9392e-01,  9.6916e-02,  2.7816e-02,  1.7196e-02,  3.7331e-02,\n",
       "                       6.6309e-02,  1.4636e-01,  1.6485e-01,  6.2494e-02,  1.5986e-01,\n",
       "                       4.5035e-02, -1.8262e-01,  3.6059e-02,  3.2439e-02,  1.4867e-02,\n",
       "                      -1.8045e-01,  1.7961e-01,  1.7176e-01, -1.0987e-02,  1.4606e-01,\n",
       "                       4.8066e-02,  5.4938e-02,  1.2202e-01, -9.3715e-03,  1.3361e-01,\n",
       "                      -3.3107e-01,  9.5193e-02, -1.2897e-02,  1.2512e-01,  1.4384e-01,\n",
       "                       1.2946e-01, -1.4153e-02,  7.5016e-02, -1.8083e-01,  3.4945e-02,\n",
       "                       5.4353e-02,  7.9425e-02,  1.0535e-01,  4.2011e-02,  1.1223e-01,\n",
       "                      -5.2881e-03, -9.8456e-02, -1.0727e-01,  2.0928e-01,  1.0257e-01,\n",
       "                       9.5612e-02,  5.1086e-02,  4.4144e-02,  4.8134e-02, -4.0679e-02,\n",
       "                      -2.7823e-02, -5.1146e-02,  3.9174e-02,  7.6711e-02,  1.4627e-01,\n",
       "                       1.6910e-01,  7.1092e-02,  2.4626e-02,  6.8727e-02, -1.0990e-01,\n",
       "                      -3.1703e-02,  1.1428e-01,  2.9083e-02, -3.1611e-02,  1.7512e-01,\n",
       "                       8.8957e-02,  2.2209e-01, -2.3047e-02, -1.7446e-02,  3.4264e-02,\n",
       "                      -1.1582e-02,  2.8518e-02,  4.0694e-02,  5.2657e-02, -1.5290e-01,\n",
       "                       5.4096e-02,  3.1860e-02,  1.9442e-01,  7.6835e-03,  5.2754e-03,\n",
       "                       1.2938e-01,  1.3297e-01,  1.4859e-01,  9.3329e-02,  8.4661e-02,\n",
       "                      -1.1443e-01, -2.1982e-02,  8.2994e-03,  1.6683e-01,  4.9499e-01,\n",
       "                      -1.4069e-01,  6.0762e-02, -1.3538e-02, -9.3168e-02,  1.0212e-02,\n",
       "                       4.2166e-02, -7.0550e-02, -2.1018e-02,  1.0853e-02,  1.2648e-02,\n",
       "                      -5.2425e-02, -1.7179e-01,  7.6496e-02,  1.6796e-01, -1.6624e-01,\n",
       "                      -2.7637e-02,  7.0632e-02,  2.4580e-01,  1.9963e-01, -1.9452e-02,\n",
       "                       4.9351e-02,  1.5895e-01,  4.5032e-02,  1.8138e-01, -3.7511e-01,\n",
       "                       1.3588e-01,  1.4549e-01,  1.0533e-01,  1.5508e-01,  9.4124e-02,\n",
       "                       1.1237e-01, -1.2707e-01,  8.7929e-03, -1.6792e-01,  1.2769e-01,\n",
       "                      -6.4378e-03,  2.7972e-02,  3.9131e-03,  1.4993e-01,  8.8209e-02,\n",
       "                       1.2516e-01,  1.1571e-02, -4.4131e-02, -2.0945e-02, -2.1824e-01,\n",
       "                       5.1912e-03,  1.4950e-01,  4.6791e-03,  6.6683e-02,  8.3494e-03,\n",
       "                       1.5809e-01,  1.0471e-01,  1.3496e-01,  3.6296e-02,  1.1968e-01,\n",
       "                       1.6365e-01, -4.6624e-03])),\n",
       "             ('1.features.21.weight',\n",
       "              tensor([[[[-3.5184e-02, -3.5977e-02, -2.2497e-02],\n",
       "                        [-3.2822e-02, -3.0077e-02, -1.5026e-02],\n",
       "                        [-3.1609e-02, -1.9345e-02, -1.1360e-02]],\n",
       "              \n",
       "                       [[-6.7787e-03, -5.1631e-03, -1.1498e-02],\n",
       "                        [-3.1353e-03, -9.5856e-03, -1.1940e-02],\n",
       "                        [-1.6923e-02, -1.5893e-02, -9.2058e-03]],\n",
       "              \n",
       "                       [[ 2.1921e-02,  2.2875e-03, -1.1987e-02],\n",
       "                        [ 1.2719e-02,  4.9898e-03, -1.6787e-02],\n",
       "                        [ 9.4326e-03, -6.1217e-03, -1.7533e-02]],\n",
       "              \n",
       "                       ...,\n",
       "              \n",
       "                       [[ 1.2845e-02,  6.2391e-03,  5.5353e-03],\n",
       "                        [ 2.8350e-02,  3.0498e-02,  2.2511e-02],\n",
       "                        [ 5.1922e-02,  5.0426e-02,  5.2568e-02]],\n",
       "              \n",
       "                       [[ 1.4548e-02,  6.1526e-03,  1.0333e-02],\n",
       "                        [-6.6427e-03, -1.0473e-02, -9.7405e-03],\n",
       "                        [-1.4727e-02, -1.1895e-02, -8.4088e-03]],\n",
       "              \n",
       "                       [[-7.5200e-03, -8.6918e-03, -7.7642e-03],\n",
       "                        [-2.1090e-02, -1.2527e-02, -1.4423e-02],\n",
       "                        [-1.6424e-02, -1.0873e-02, -6.5119e-03]]],\n",
       "              \n",
       "              \n",
       "                      [[[ 2.6195e-02,  2.1874e-02,  7.1724e-03],\n",
       "                        [ 1.0036e-02,  9.2145e-03, -1.0754e-03],\n",
       "                        [ 2.8348e-02,  2.5231e-02,  1.8362e-02]],\n",
       "              \n",
       "                       [[-1.2389e-02, -1.5770e-02, -1.0366e-02],\n",
       "                        [-1.2269e-02, -1.3018e-03, -9.6259e-03],\n",
       "                        [-1.7218e-02, -1.2967e-03, -6.5743e-03]],\n",
       "              \n",
       "                       [[ 7.2200e-03,  2.3289e-03, -2.8271e-03],\n",
       "                        [ 2.2181e-02,  3.5829e-03,  8.4913e-03],\n",
       "                        [-2.5981e-03,  5.2565e-03, -3.4991e-03]],\n",
       "              \n",
       "                       ...,\n",
       "              \n",
       "                       [[ 2.6225e-03, -1.6306e-03,  2.4717e-04],\n",
       "                        [-6.9031e-03, -2.3942e-02, -2.7061e-03],\n",
       "                        [-1.4113e-02, -2.2129e-02, -2.1538e-02]],\n",
       "              \n",
       "                       [[-3.1242e-03, -4.7208e-03,  1.0640e-02],\n",
       "                        [ 3.3105e-03, -8.4906e-03,  7.6566e-03],\n",
       "                        [ 1.0280e-02, -5.3163e-03,  1.8328e-02]],\n",
       "              \n",
       "                       [[ 8.1603e-03,  1.3160e-03,  2.0370e-02],\n",
       "                        [ 7.9864e-04, -1.7150e-02,  6.6608e-05],\n",
       "                        [ 1.5975e-02,  1.3047e-02,  4.3964e-03]]],\n",
       "              \n",
       "              \n",
       "                      [[[-1.7159e-02, -1.8071e-02, -1.5760e-02],\n",
       "                        [ 1.6697e-02, -6.8729e-04,  1.3311e-02],\n",
       "                        [ 1.4995e-02,  4.1197e-03,  3.1664e-03]],\n",
       "              \n",
       "                       [[-1.3139e-02, -9.7894e-03, -2.3400e-02],\n",
       "                        [-2.6996e-02, -2.5088e-02, -1.2344e-02],\n",
       "                        [-9.4086e-04,  9.0006e-04,  2.2438e-02]],\n",
       "              \n",
       "                       [[ 2.9034e-02,  2.8487e-02,  2.4188e-02],\n",
       "                        [ 2.6856e-02,  2.7405e-02,  5.0175e-03],\n",
       "                        [ 1.7747e-04,  1.2989e-02, -6.5639e-03]],\n",
       "              \n",
       "                       ...,\n",
       "              \n",
       "                       [[-5.1319e-03,  7.9917e-03,  8.1696e-03],\n",
       "                        [-5.7524e-03, -2.6187e-03, -6.0516e-03],\n",
       "                        [-3.1349e-03, -4.0651e-04, -8.3809e-03]],\n",
       "              \n",
       "                       [[ 1.3471e-02,  6.9368e-04,  1.3877e-04],\n",
       "                        [ 1.3323e-03,  3.0553e-03, -4.9967e-03],\n",
       "                        [ 1.5565e-02, -1.6916e-03,  8.6547e-03]],\n",
       "              \n",
       "                       [[-3.2615e-03,  2.2800e-03,  2.0341e-03],\n",
       "                        [ 7.6751e-03, -1.0983e-02,  1.4363e-03],\n",
       "                        [-1.0273e-02, -3.4732e-03, -1.1613e-04]]],\n",
       "              \n",
       "              \n",
       "                      ...,\n",
       "              \n",
       "              \n",
       "                      [[[-1.7462e-02, -3.9853e-02, -3.8012e-02],\n",
       "                        [-2.3514e-02, -3.9676e-02, -2.4918e-02],\n",
       "                        [-5.9588e-03, -1.7447e-02,  6.3525e-04]],\n",
       "              \n",
       "                       [[ 2.7953e-02,  1.4143e-02,  7.9178e-03],\n",
       "                        [ 1.7874e-02, -1.9178e-03,  5.2144e-03],\n",
       "                        [-1.2640e-03, -8.9551e-03, -4.2262e-03]],\n",
       "              \n",
       "                       [[ 3.9625e-03, -7.1443e-04,  7.8348e-03],\n",
       "                        [ 1.8644e-02,  3.3558e-02,  2.7063e-02],\n",
       "                        [ 3.0909e-02,  2.3468e-02,  2.0894e-02]],\n",
       "              \n",
       "                       ...,\n",
       "              \n",
       "                       [[ 2.3200e-03,  8.7639e-03,  3.3612e-03],\n",
       "                        [ 9.8495e-03,  3.4145e-03,  1.4664e-03],\n",
       "                        [ 1.6354e-02, -2.2094e-03, -9.5702e-03]],\n",
       "              \n",
       "                       [[-1.0888e-02, -1.0541e-02, -6.1127e-03],\n",
       "                        [-7.8722e-03, -8.6858e-03, -1.5555e-02],\n",
       "                        [-1.1397e-02, -1.1361e-02, -2.8073e-03]],\n",
       "              \n",
       "                       [[-1.3096e-02, -3.1618e-02, -2.5536e-02],\n",
       "                        [-4.8419e-03, -1.3369e-02, -1.3166e-02],\n",
       "                        [-1.5098e-02, -8.5037e-03, -1.3207e-02]]],\n",
       "              \n",
       "              \n",
       "                      [[[ 1.1186e-02, -8.6609e-06, -4.2954e-03],\n",
       "                        [ 9.5949e-03, -4.7483e-03,  8.5274e-04],\n",
       "                        [-1.1766e-02, -2.6457e-02, -3.2080e-03]],\n",
       "              \n",
       "                       [[ 1.8011e-03,  7.4485e-04,  5.3372e-03],\n",
       "                        [-8.6730e-03, -2.9110e-03,  6.4990e-04],\n",
       "                        [-2.4301e-03, -5.0538e-03, -3.7539e-03]],\n",
       "              \n",
       "                       [[ 2.0120e-02,  1.3556e-02,  9.5392e-03],\n",
       "                        [ 1.5922e-02,  1.1627e-03,  2.5263e-03],\n",
       "                        [ 8.9969e-03,  1.0964e-02,  5.1191e-03]],\n",
       "              \n",
       "                       ...,\n",
       "              \n",
       "                       [[-2.5289e-03, -3.8027e-03,  2.7989e-03],\n",
       "                        [ 6.5885e-03, -5.9412e-03,  9.6184e-03],\n",
       "                        [ 1.0940e-02, -4.3687e-03,  2.2737e-03]],\n",
       "              \n",
       "                       [[ 4.7309e-03, -6.7923e-03,  1.5344e-03],\n",
       "                        [ 3.9702e-03, -1.7633e-02, -1.2328e-02],\n",
       "                        [ 6.7254e-03, -6.0349e-03, -1.3489e-02]],\n",
       "              \n",
       "                       [[-1.9464e-02, -8.7268e-03, -1.4646e-02],\n",
       "                        [-2.6697e-02, -1.7572e-02, -6.0977e-03],\n",
       "                        [-1.6479e-02, -1.4479e-02, -1.4297e-02]]],\n",
       "              \n",
       "              \n",
       "                      [[[-2.3715e-02, -3.5707e-02, -3.7098e-02],\n",
       "                        [-2.6902e-03, -1.7602e-03,  1.5102e-03],\n",
       "                        [ 1.7347e-02,  2.8308e-02,  1.4236e-02]],\n",
       "              \n",
       "                       [[ 6.8823e-04, -1.5611e-02, -6.2689e-03],\n",
       "                        [-9.4196e-05, -2.2292e-02, -2.1060e-02],\n",
       "                        [ 1.2825e-02, -1.7244e-02, -2.2261e-02]],\n",
       "              \n",
       "                       [[ 8.1919e-03,  6.5719e-03,  9.3096e-03],\n",
       "                        [ 3.8698e-03,  1.7449e-02,  6.9578e-03],\n",
       "                        [ 1.2017e-02,  2.0714e-02, -7.9617e-03]],\n",
       "              \n",
       "                       ...,\n",
       "              \n",
       "                       [[ 7.2964e-03,  1.3386e-02,  1.1573e-02],\n",
       "                        [ 8.2904e-03,  9.9380e-03, -1.9915e-03],\n",
       "                        [ 1.6693e-02, -6.5239e-03, -4.4363e-03]],\n",
       "              \n",
       "                       [[ 1.7820e-02,  5.8270e-03, -1.0327e-02],\n",
       "                        [ 2.9309e-05,  1.5559e-03,  2.2255e-03],\n",
       "                        [-1.0629e-02, -4.9367e-03,  9.4373e-03]],\n",
       "              \n",
       "                       [[-1.4262e-02, -1.7638e-02, -6.3932e-03],\n",
       "                        [-2.4715e-03, -1.3306e-02, -2.2834e-02],\n",
       "                        [-4.4622e-03, -9.5870e-03, -1.7204e-02]]]])),\n",
       "             ('1.features.21.bias',\n",
       "              tensor([ 5.1996e-02,  7.8353e-03,  2.3692e-01,  4.2035e-02,  8.1506e-02,\n",
       "                      -5.7649e-02,  1.3803e-01, -7.2149e-02, -4.1582e-02, -5.6561e-02,\n",
       "                       2.4635e-02,  3.9207e-02,  2.4511e-02, -2.9192e-02,  2.3192e-02,\n",
       "                       1.5597e-01,  1.4781e-01, -3.4069e-02, -3.0486e-02,  1.6587e-01,\n",
       "                      -7.5677e-02,  1.5496e-01,  6.5565e-02,  2.1823e-01,  7.4182e-03,\n",
       "                       4.4231e-02,  5.8154e-03,  3.2618e-01,  2.1274e-01,  1.8955e-02,\n",
       "                      -2.1056e-01,  2.3987e-01, -7.9883e-03,  1.2338e-01,  2.3120e-02,\n",
       "                       1.8536e-02, -8.3552e-02,  1.1527e-01,  1.3776e-03, -6.9878e-02,\n",
       "                      -4.2889e-02, -5.1217e-02,  1.5141e-01,  4.9193e-02,  9.5084e-02,\n",
       "                       9.9973e-02, -4.9602e-02,  1.0425e-01, -1.9058e-01, -8.0185e-03,\n",
       "                       1.2834e-01, -1.4911e-01, -8.4092e-02,  1.2723e-01,  1.0474e-01,\n",
       "                      -3.8599e-03, -2.4074e-02,  2.7341e-01,  8.2506e-02,  2.0446e-02,\n",
       "                       1.0345e-01,  1.2763e-01,  1.1048e-02,  3.2533e-01,  7.6525e-02,\n",
       "                       1.5977e-01, -9.4496e-02,  6.7046e-02,  1.1608e-01,  2.9560e-02,\n",
       "                       4.8198e-02,  6.2631e-02, -3.8690e-03,  4.8159e-02, -5.6989e-02,\n",
       "                      -8.2558e-02,  1.9041e-01,  1.0127e-01,  2.9310e-02,  5.2196e-02,\n",
       "                       8.8994e-02, -1.1750e-02, -3.6938e-02,  3.1279e-02,  1.7719e-01,\n",
       "                       6.0024e-02,  3.5117e-02, -6.0526e-02,  1.0584e-01,  3.7451e-02,\n",
       "                       9.6727e-02, -1.3477e-02, -2.2165e-02, -2.4101e-02, -2.0834e-02,\n",
       "                      -7.3209e-02,  7.0737e-02,  2.8967e-01,  6.1984e-02,  2.7451e-01,\n",
       "                       1.3299e-01,  1.2889e-01,  1.0084e-01, -2.8480e-02, -6.0774e-01,\n",
       "                       1.3245e-01,  7.5724e-02,  7.0177e-04,  3.2351e-02,  3.2023e-02,\n",
       "                       2.3686e-01,  1.7452e-01,  8.4142e-02,  2.0297e-02,  4.6684e-02,\n",
       "                       6.0364e-03,  1.8056e-01,  3.4118e-03,  1.5071e-01, -1.7067e-01,\n",
       "                       5.7869e-02,  8.1669e-03, -2.9885e-02, -1.0081e-02,  1.7080e-01,\n",
       "                       5.0457e-02,  3.1422e-03,  1.9504e-01,  2.3440e-01,  1.1720e-02,\n",
       "                       1.0443e-02,  6.4030e-02,  2.7912e-01, -2.0181e-02, -6.6807e-02,\n",
       "                      -1.7974e-01,  1.1167e-01,  1.8649e-01,  6.2314e-02,  1.4414e-01,\n",
       "                       9.2661e-02, -5.3077e-02,  1.7010e-01,  1.5829e-02,  2.0265e-01,\n",
       "                       1.0453e-01,  2.7929e-03, -6.7208e-02,  1.1591e-01,  3.1775e-01,\n",
       "                      -2.6631e-02, -9.7605e-02, -2.7476e-01, -4.7753e-02,  1.0685e-01,\n",
       "                      -4.4205e-02,  1.3699e-01,  4.9833e-02,  1.2439e-02, -6.3484e-02,\n",
       "                      -1.5841e-01, -5.6830e-02,  2.1688e-01, -3.9407e-02,  8.0612e-02,\n",
       "                       1.7978e-01,  3.4664e-02, -1.6503e-01,  1.0616e-01,  1.2651e-01,\n",
       "                       8.0446e-02,  3.4148e-02,  7.6336e-02,  1.8314e-01, -3.1974e-02,\n",
       "                       1.1422e-01, -7.8210e-02, -1.9252e-02, -2.6815e-03, -5.0262e-02,\n",
       "                       6.7627e-02,  1.3011e-01,  5.4338e-02, -2.2692e-01, -1.7974e-01,\n",
       "                      -2.3351e-02, -8.3719e-02,  2.4513e-01, -9.4236e-02, -2.5757e-02,\n",
       "                      -3.9777e-02, -6.1994e-03, -1.2914e-01,  1.6617e-02, -1.7480e-01,\n",
       "                      -1.3313e-03,  7.6651e-02,  7.4334e-02, -5.3452e-02,  3.5239e-03,\n",
       "                       6.6638e-02, -1.7941e-02, -7.7411e-02, -3.0629e-02, -1.8777e-02,\n",
       "                       7.6554e-02,  7.0799e-02,  7.6187e-02,  1.9866e-01,  8.0292e-02,\n",
       "                       1.8072e-01,  1.5824e-01, -2.8373e-02,  1.1948e-01,  1.5813e-01,\n",
       "                       7.0957e-02,  3.5944e-02,  7.5551e-02,  3.9709e-02,  1.7330e-01,\n",
       "                       1.3092e-01, -2.3211e-01, -4.4025e-02, -8.5998e-02,  5.1664e-02,\n",
       "                       5.5868e-02, -4.9228e-02,  2.3595e-01,  6.1755e-02, -5.4830e-04,\n",
       "                       1.8042e-01,  2.4466e-01,  1.6393e-01,  1.3087e-01,  1.9692e-02,\n",
       "                       2.2396e-01, -8.8154e-02,  2.9255e-03,  5.1256e-02,  5.2684e-02,\n",
       "                       2.4661e-01, -1.8455e-02, -6.1255e-02,  1.1931e-01, -6.6585e-02,\n",
       "                       1.7878e-01,  8.0134e-02, -2.1009e-02,  1.6240e-01,  1.3184e-01,\n",
       "                       3.5484e-02,  1.9936e-02, -1.0211e-01, -9.1548e-03,  7.2041e-02,\n",
       "                       6.1123e-02,  1.0271e-01,  1.2766e-01,  8.0783e-02, -1.7031e-02,\n",
       "                       8.2114e-02,  1.1605e-01,  5.2385e-02,  1.5902e-01,  4.4295e-02,\n",
       "                       1.3716e-01,  2.3116e-02, -1.3866e-01,  3.1587e-02, -1.8945e-02,\n",
       "                       1.0778e-02,  2.7404e-02,  1.5591e-01, -1.8020e-02,  2.2111e-01,\n",
       "                      -2.8495e-03, -4.1411e-02, -5.4601e-02,  6.2761e-02, -8.8079e-02,\n",
       "                      -6.9363e-02,  1.5501e-01,  4.0492e-02,  1.8048e-02,  7.6573e-02,\n",
       "                      -7.5024e-03,  7.2063e-02, -2.0291e-02, -4.3153e-02,  7.8301e-02,\n",
       "                       1.0989e-01,  2.3692e-01, -3.4199e-04,  1.4182e-01,  1.0288e-01,\n",
       "                       4.9230e-02,  6.0422e-02,  2.1357e-02,  4.1025e-02,  1.7362e-01,\n",
       "                       8.6576e-02,  5.9397e-02,  4.4028e-02,  2.4230e-02,  2.6720e-01,\n",
       "                      -8.8034e-02,  4.2132e-02,  4.5251e-02, -9.9442e-03,  1.2707e-01,\n",
       "                       1.0633e-01,  1.4269e-02,  5.1316e-02,  3.3682e-03,  1.0285e-02,\n",
       "                      -1.5894e-02, -1.7891e-02,  1.4823e-01,  9.6818e-02,  1.2923e-01,\n",
       "                       1.7360e-01,  6.2457e-02,  1.1596e-01,  5.8924e-02, -1.4492e-01,\n",
       "                       1.5681e-02,  5.6488e-02, -4.7615e-02,  2.0387e-02, -3.9939e-02,\n",
       "                       8.3451e-04,  1.6912e-01,  1.7397e-01,  1.1519e-01, -5.0877e-03,\n",
       "                       6.0886e-04,  9.9010e-02, -2.5861e-02, -1.5496e-01,  1.8642e-02,\n",
       "                       1.4478e-01,  1.3858e-01,  1.5887e-01,  1.0161e-01,  1.5753e-01,\n",
       "                       5.2191e-02, -1.5635e-02,  1.0625e-01, -3.3336e-02,  1.6414e-01,\n",
       "                      -2.8600e-02,  9.8486e-02,  1.6636e-01,  3.3219e-02,  7.7359e-02,\n",
       "                       9.2516e-03,  1.8359e-01, -1.6296e-01,  1.1038e-01,  4.2474e-02,\n",
       "                       9.3649e-02, -5.2736e-03,  1.5599e-01,  1.7663e-01,  1.5437e-01,\n",
       "                      -6.5356e-02,  4.1093e-02,  5.6376e-02, -5.0333e-02,  4.8734e-02,\n",
       "                       5.8339e-02,  1.0086e-01,  2.8736e-02,  7.5738e-02,  2.3520e-01,\n",
       "                       1.2816e-01, -2.6649e-02, -1.2055e-01,  2.6201e-02,  4.4266e-02,\n",
       "                      -2.5220e-02,  1.8463e-02,  7.3372e-02,  3.5151e-01,  2.2040e-01,\n",
       "                       3.2147e-02,  2.0592e-02,  2.6042e-01,  5.8103e-02, -2.7466e-02,\n",
       "                       3.8866e-01,  2.5687e-01, -2.0539e-02,  3.6519e-02, -1.1643e-01,\n",
       "                      -1.1128e-01, -2.6432e-01, -5.5512e-02,  2.3927e-01,  4.1788e-02,\n",
       "                      -6.8172e-02,  7.4545e-02,  1.6361e-01,  3.7722e-02,  1.3623e-02,\n",
       "                      -9.0111e-02,  4.1544e-02, -5.1930e-03,  1.7052e-01,  3.3283e-02,\n",
       "                      -1.0225e-01,  2.1432e-01, -9.3580e-04, -4.8029e-02,  1.4919e-01,\n",
       "                       2.0496e-02, -6.6450e-02, -4.1790e-03, -1.4796e-02, -1.5598e-01,\n",
       "                       2.6431e-01,  1.4334e-01,  8.3767e-02,  1.4425e-01,  4.6093e-02,\n",
       "                       6.9261e-02,  6.1226e-02,  3.1321e-01,  4.5835e-02, -1.3810e-02,\n",
       "                      -1.2954e-02, -1.0461e-01,  8.5540e-02,  2.0441e-02, -5.0367e-02,\n",
       "                      -2.8033e-02, -3.2484e-02,  8.3907e-03,  5.7897e-02,  6.6161e-02,\n",
       "                       4.3694e-03,  1.6266e-01,  1.2361e-03,  3.3586e-01, -3.4538e-02,\n",
       "                       3.8379e-02,  1.7871e-01,  9.0719e-03,  6.1522e-02,  1.2968e-02,\n",
       "                       1.3474e-02,  7.1148e-02,  7.2892e-02,  4.8330e-02,  3.0261e-01,\n",
       "                      -4.8346e-02,  1.4627e-01,  1.0155e-01,  2.2390e-02,  2.5998e-01,\n",
       "                       9.2724e-02,  6.7909e-02,  2.1450e-01,  3.3709e-02,  1.9779e-01,\n",
       "                       9.7505e-02,  3.9818e-02,  2.0077e-01,  2.0434e-02, -9.6220e-03,\n",
       "                      -7.9484e-02,  1.6010e-02,  6.7829e-02,  5.1478e-02,  2.9984e-02,\n",
       "                      -5.5865e-03, -1.0123e-01,  1.2729e-01,  1.7095e-01,  1.2564e-01,\n",
       "                       1.2181e-01,  9.4394e-02,  1.4386e-01, -2.9993e-02,  1.2798e-01,\n",
       "                      -1.8857e-01,  4.0708e-03,  6.5440e-02, -4.8120e-02,  6.3934e-02,\n",
       "                      -1.9316e-01,  2.2605e-01,  5.4787e-02,  5.1578e-02,  5.9666e-02,\n",
       "                       6.2481e-02,  1.0239e-01,  3.5444e-02,  8.2809e-02,  2.2072e-02,\n",
       "                       5.1963e-02,  1.5781e-02,  1.2812e-02,  1.8551e-01,  1.1072e-01,\n",
       "                       4.8729e-03, -1.7644e-02,  1.5460e-01, -3.9080e-02,  1.1479e-02,\n",
       "                      -4.7865e-02,  8.1231e-02])),\n",
       "             ('1.features.24.weight',\n",
       "              tensor([[[[-2.8891e-02, -1.7230e-02, -2.0401e-02],\n",
       "                        [-2.3021e-02, -7.2567e-03, -1.2069e-02],\n",
       "                        [-1.7406e-02, -1.7743e-02, -2.7021e-02]],\n",
       "              \n",
       "                       [[-2.1314e-02, -2.5153e-02, -6.3411e-03],\n",
       "                        [-1.2688e-02, -1.7170e-02, -1.5578e-02],\n",
       "                        [-2.5952e-02, -9.7969e-03, -4.5934e-03]],\n",
       "              \n",
       "                       [[-3.9248e-03, -3.2680e-03, -7.5260e-03],\n",
       "                        [ 1.0755e-02,  2.4086e-02,  1.3470e-02],\n",
       "                        [-8.9807e-03, -8.5990e-04, -9.6119e-03]],\n",
       "              \n",
       "                       ...,\n",
       "              \n",
       "                       [[ 2.5196e-02,  3.8094e-02,  1.9981e-02],\n",
       "                        [ 4.5354e-02,  5.0564e-02,  3.1173e-02],\n",
       "                        [ 3.8531e-02,  4.3282e-02,  3.6771e-02]],\n",
       "              \n",
       "                       [[ 2.8081e-02,  1.1977e-02,  1.9276e-02],\n",
       "                        [ 3.2610e-03, -8.4014e-03,  1.3755e-02],\n",
       "                        [ 4.6344e-03, -7.9679e-03,  2.2605e-02]],\n",
       "              \n",
       "                       [[ 1.5302e-02,  1.1617e-02,  1.7997e-02],\n",
       "                        [ 2.6849e-02,  1.1081e-02,  2.3830e-02],\n",
       "                        [ 1.1113e-02,  7.3490e-03, -2.5721e-03]]],\n",
       "              \n",
       "              \n",
       "                      [[[-2.4325e-02, -2.4919e-02, -5.9928e-04],\n",
       "                        [-1.2414e-02, -1.1898e-02,  2.5236e-03],\n",
       "                        [ 6.6500e-04, -4.1101e-03,  1.0502e-02]],\n",
       "              \n",
       "                       [[ 3.2854e-03,  5.0721e-03,  1.0739e-02],\n",
       "                        [-2.0678e-03,  1.4312e-02,  1.2109e-02],\n",
       "                        [-1.9598e-02, -2.4233e-03, -1.6030e-02]],\n",
       "              \n",
       "                       [[-1.5317e-02, -1.7333e-02, -1.3556e-02],\n",
       "                        [-1.3002e-03,  8.0362e-03,  7.7581e-03],\n",
       "                        [-4.4421e-03, -3.6478e-03, -1.1269e-03]],\n",
       "              \n",
       "                       ...,\n",
       "              \n",
       "                       [[-1.7500e-03, -7.4440e-04,  4.4189e-03],\n",
       "                        [ 2.5266e-02,  2.3488e-02,  1.0014e-03],\n",
       "                        [ 2.8353e-02,  2.8904e-02,  7.0090e-03]],\n",
       "              \n",
       "                       [[-1.2027e-02,  1.0952e-02, -1.0020e-03],\n",
       "                        [-1.9850e-02,  3.0824e-03, -6.1147e-03],\n",
       "                        [-1.2375e-02, -6.5971e-03, -1.6113e-02]],\n",
       "              \n",
       "                       [[ 3.1789e-02,  5.7882e-02,  7.1856e-03],\n",
       "                        [ 9.2338e-03,  3.4742e-02,  8.6894e-03],\n",
       "                        [-1.6100e-02, -1.5445e-02,  2.1348e-03]]],\n",
       "              \n",
       "              \n",
       "                      [[[ 2.1040e-02,  1.5696e-02,  1.6444e-02],\n",
       "                        [ 1.4804e-02,  5.3027e-03,  2.6291e-03],\n",
       "                        [ 3.3356e-02,  1.3242e-02,  1.3005e-02]],\n",
       "              \n",
       "                       [[ 1.0135e-02,  7.8228e-03,  1.7740e-03],\n",
       "                        [ 2.1709e-02,  1.3551e-02,  3.9336e-03],\n",
       "                        [-1.4845e-03, -6.1049e-03, -1.2484e-02]],\n",
       "              \n",
       "                       [[-2.7568e-02, -2.8324e-02, -3.4928e-02],\n",
       "                        [-2.2756e-02, -1.8199e-02, -2.3434e-02],\n",
       "                        [-2.6283e-02, -2.7427e-02, -2.5615e-02]],\n",
       "              \n",
       "                       ...,\n",
       "              \n",
       "                       [[-9.0945e-03, -1.1648e-02, -1.8368e-03],\n",
       "                        [-9.1744e-03, -1.1730e-02, -5.2244e-03],\n",
       "                        [-3.2644e-04, -3.2736e-03, -1.5314e-02]],\n",
       "              \n",
       "                       [[-6.4473e-03,  2.2076e-03, -5.3486e-03],\n",
       "                        [-1.9555e-02, -1.5444e-02, -9.2891e-03],\n",
       "                        [-4.2124e-02, -1.8956e-02, -1.7005e-02]],\n",
       "              \n",
       "                       [[-5.0635e-03, -3.8121e-02, -1.5948e-02],\n",
       "                        [ 7.6776e-03, -4.5367e-02, -3.2919e-02],\n",
       "                        [ 3.0186e-02, -4.1124e-03,  3.1332e-03]]],\n",
       "              \n",
       "              \n",
       "                      ...,\n",
       "              \n",
       "              \n",
       "                      [[[-8.3425e-03,  1.4269e-02,  1.2006e-03],\n",
       "                        [-1.8176e-02,  1.0825e-02, -8.8203e-03],\n",
       "                        [-2.7429e-02, -8.5923e-04, -7.8567e-03]],\n",
       "              \n",
       "                       [[ 2.1239e-02,  1.1409e-03,  1.5186e-02],\n",
       "                        [ 6.3466e-03, -1.9493e-02, -2.0192e-02],\n",
       "                        [ 4.4443e-03, -1.3411e-02,  9.7855e-04]],\n",
       "              \n",
       "                       [[-8.6081e-03, -3.2168e-02, -2.2189e-02],\n",
       "                        [-1.0702e-03, -1.6398e-02, -1.6140e-02],\n",
       "                        [-7.6075e-03, -8.7671e-03, -7.0360e-03]],\n",
       "              \n",
       "                       ...,\n",
       "              \n",
       "                       [[ 1.5919e-03, -3.8260e-03,  2.8597e-03],\n",
       "                        [ 1.2922e-02,  4.2870e-03,  3.7963e-03],\n",
       "                        [ 8.4767e-03,  1.3787e-02,  6.0282e-03]],\n",
       "              \n",
       "                       [[-2.3927e-02, -2.4858e-02, -1.6759e-02],\n",
       "                        [-2.1109e-02, -2.4937e-02, -2.0240e-02],\n",
       "                        [-8.6884e-03, -2.2090e-02, -1.4072e-02]],\n",
       "              \n",
       "                       [[-1.7654e-02, -2.1599e-02, -3.8469e-02],\n",
       "                        [-5.8700e-03, -2.1249e-02, -2.7675e-02],\n",
       "                        [ 1.4545e-02, -1.2234e-02,  4.9313e-03]]],\n",
       "              \n",
       "              \n",
       "                      [[[ 7.7259e-03,  3.0569e-02,  1.9168e-02],\n",
       "                        [ 1.2964e-02,  1.8248e-02,  4.7911e-03],\n",
       "                        [ 1.4007e-02,  9.9013e-03, -2.1038e-03]],\n",
       "              \n",
       "                       [[ 1.4414e-02,  1.7459e-02,  3.2862e-02],\n",
       "                        [ 3.1045e-02,  2.7822e-02,  3.5936e-02],\n",
       "                        [ 4.1524e-02,  3.0056e-02,  2.7445e-02]],\n",
       "              \n",
       "                       [[-8.7226e-04, -1.1246e-02, -1.7470e-02],\n",
       "                        [-1.0391e-03,  3.9211e-03, -6.4856e-04],\n",
       "                        [ 1.3235e-02,  1.0342e-02,  1.8011e-02]],\n",
       "              \n",
       "                       ...,\n",
       "              \n",
       "                       [[ 5.1893e-03,  1.0636e-02, -1.0870e-03],\n",
       "                        [ 1.0184e-02,  2.1970e-02, -1.3771e-03],\n",
       "                        [-8.0354e-03,  1.0717e-03, -9.1447e-03]],\n",
       "              \n",
       "                       [[-9.2079e-03, -2.8530e-02, -1.3033e-02],\n",
       "                        [ 1.8495e-04, -1.3374e-02, -9.1056e-03],\n",
       "                        [-1.1595e-04, -5.7723e-03,  6.5526e-03]],\n",
       "              \n",
       "                       [[-1.5977e-02, -3.7662e-02, -6.9411e-03],\n",
       "                        [-1.3302e-02, -1.6641e-02, -7.7545e-03],\n",
       "                        [ 2.7686e-03, -2.1356e-03, -2.0156e-02]]],\n",
       "              \n",
       "              \n",
       "                      [[[ 9.3254e-03,  9.9774e-03,  1.4181e-02],\n",
       "                        [ 1.7003e-02,  1.4496e-02,  1.8798e-02],\n",
       "                        [ 3.4987e-02,  3.2703e-02,  4.6225e-02]],\n",
       "              \n",
       "                       [[-5.5553e-03,  1.6191e-03, -8.5051e-03],\n",
       "                        [-1.4465e-02, -7.8599e-05,  5.5291e-04],\n",
       "                        [-3.7181e-02, -3.0638e-02, -2.9953e-02]],\n",
       "              \n",
       "                       [[ 4.4973e-02,  2.9909e-02,  3.9455e-02],\n",
       "                        [ 4.1707e-02,  2.9728e-02,  3.0226e-02],\n",
       "                        [ 3.2294e-02,  3.8331e-02,  5.5640e-02]],\n",
       "              \n",
       "                       ...,\n",
       "              \n",
       "                       [[-5.5318e-03, -2.5768e-03, -1.9835e-02],\n",
       "                        [-3.8708e-03, -6.0238e-03, -5.2313e-03],\n",
       "                        [ 5.3449e-03,  1.9162e-02,  1.5444e-02]],\n",
       "              \n",
       "                       [[-4.0897e-03, -2.1466e-02, -3.2437e-02],\n",
       "                        [-4.8543e-03, -8.3130e-03, -1.7764e-02],\n",
       "                        [-4.6017e-03, -1.2160e-02, -1.6609e-02]],\n",
       "              \n",
       "                       [[-1.7130e-02, -1.9588e-02, -9.0539e-03],\n",
       "                        [-1.5584e-02, -2.0674e-03, -1.0101e-02],\n",
       "                        [ 6.5303e-03,  3.2189e-03,  8.5852e-04]]]])),\n",
       "             ('1.features.24.bias',\n",
       "              tensor([ 1.5817e-02, -9.1714e-02, -4.0873e-02,  1.1075e-01,  1.0182e-02,\n",
       "                      -3.1976e-03,  6.9233e-04,  4.3143e-02,  7.5367e-02,  9.0072e-02,\n",
       "                       8.2944e-02,  4.1423e-02,  6.4115e-02, -5.3507e-02,  4.3400e-01,\n",
       "                       1.4566e-01,  2.7863e-02,  2.3205e-01,  9.0640e-02,  6.7131e-03,\n",
       "                       1.0191e-01, -1.0732e-01,  2.1311e-02, -1.2729e-01, -5.8384e-02,\n",
       "                       1.4043e-01, -9.5257e-03, -1.5595e-01,  1.2378e-01, -1.6929e-01,\n",
       "                       1.2452e-01, -7.0573e-02,  2.6110e-02,  1.7297e-01, -1.8205e-01,\n",
       "                       1.0032e-01, -2.4957e-01, -1.3255e-01,  5.1098e-02, -1.3087e-01,\n",
       "                       3.3388e-03,  8.0191e-02, -1.4060e-01,  8.8436e-02, -2.0028e-02,\n",
       "                       8.3534e-02, -6.4632e-02, -9.7681e-02,  5.2164e-02, -1.2679e-01,\n",
       "                       4.1283e-02,  4.5856e-02,  1.2956e-01,  3.5988e-02,  4.0820e-02,\n",
       "                       4.8163e-02, -4.3356e-02,  2.3695e-01, -5.0945e-02,  1.6661e-01,\n",
       "                       2.6894e-02, -9.0965e-02, -6.4609e-02, -1.1270e-01,  2.6529e-02,\n",
       "                      -2.1417e-01,  1.0513e-01, -7.0348e-02, -1.2443e-01,  7.6454e-02,\n",
       "                      -7.2544e-02, -4.4740e-04,  1.7802e-01,  5.3476e-02,  2.0369e-01,\n",
       "                      -6.2211e-02,  8.0555e-02,  2.7954e-01, -1.1449e-01,  3.7958e-02,\n",
       "                       1.3177e-02,  1.0685e-02,  2.6019e-02,  8.1943e-02,  1.6899e-01,\n",
       "                       1.5619e-01, -4.0855e-02, -3.6173e-03,  9.5951e-02, -4.7978e-02,\n",
       "                       7.7799e-02, -3.1980e-01,  1.3264e-01,  1.1230e-01, -1.5047e-01,\n",
       "                      -1.2175e-01,  8.0135e-02,  1.2282e-01, -1.1455e-01, -6.7971e-02,\n",
       "                       1.2810e-01, -2.1868e-02,  5.0743e-02, -3.3213e-01, -1.0284e-01,\n",
       "                      -1.5072e-02, -1.3708e-01,  1.7042e-01, -8.9393e-02,  1.9017e-02,\n",
       "                      -1.2351e-02,  4.6367e-02,  3.5093e-02, -7.9956e-02, -1.0799e-02,\n",
       "                       7.4734e-02, -2.9039e-03,  2.0595e-01,  2.1548e-02,  1.3493e-01,\n",
       "                       6.9658e-03,  8.1523e-02,  1.5595e-01, -5.8921e-03, -4.6142e-02,\n",
       "                      -6.8601e-02,  1.8772e-01, -9.1751e-03, -1.5337e-03,  5.2644e-02,\n",
       "                       4.0834e-01, -1.0532e-01,  3.9337e-02,  1.2968e-01,  2.7074e-01,\n",
       "                      -5.3550e-03,  4.0547e-02,  1.6753e-01, -4.5496e-02, -3.4867e-02,\n",
       "                      -5.1834e-02, -9.2111e-02, -9.1474e-02,  1.2758e-01,  7.8881e-02,\n",
       "                       6.9846e-02,  1.3955e-01, -2.7632e-02,  2.9965e-02,  1.4203e-01,\n",
       "                       1.2932e-01,  1.4253e-02, -8.6790e-02, -4.7590e-02, -5.5530e-02,\n",
       "                      -2.4692e-02, -7.4834e-03, -1.6172e-02, -1.2873e-01, -3.2622e-02,\n",
       "                       6.8236e-03, -1.3185e-01,  4.5152e-02, -5.2529e-02,  3.8550e-02,\n",
       "                      -2.0470e-01,  6.0797e-02,  2.7595e-02,  1.5936e-01,  1.1214e-01,\n",
       "                      -2.0663e-01,  1.9457e-01,  2.1894e-01,  1.5344e-02,  1.0363e-01,\n",
       "                      -2.6723e-04,  9.6345e-03, -1.6219e-02, -1.2271e-01,  1.3349e-01,\n",
       "                       1.7904e-01,  1.2498e-01,  9.1355e-02,  9.9200e-02, -3.7133e-02,\n",
       "                      -1.1896e-01,  1.6158e-02, -5.5499e-02,  1.0452e-01, -2.0477e-02,\n",
       "                       1.8257e-02, -1.9768e-02,  1.4005e-01,  4.3389e-02, -7.6396e-02,\n",
       "                      -1.2374e-01, -3.2470e-02, -4.0487e-02,  2.9732e-02,  6.4101e-02,\n",
       "                       3.9688e-02, -1.8340e-02, -2.9022e-02, -6.1772e-02,  8.1312e-02,\n",
       "                       1.6437e-02,  1.4843e-01,  8.0980e-02,  7.4688e-02,  1.0534e-01,\n",
       "                      -4.2495e-01,  1.2305e-01, -2.1957e-01,  1.1239e-01, -1.2932e-01,\n",
       "                       7.0825e-03,  6.7665e-02, -2.2860e-01,  9.8489e-02, -1.2929e-01,\n",
       "                       1.8281e-01,  5.0006e-02,  1.8576e-01,  2.3584e-02,  1.0662e-01,\n",
       "                      -5.1142e-02,  5.2960e-03, -8.7565e-04,  2.0653e-01,  3.9096e-02,\n",
       "                       1.6352e-01,  1.3055e-02,  2.7634e-01,  1.0411e-01,  1.5155e-01,\n",
       "                       7.4011e-02,  7.4259e-02,  1.6550e-01,  6.7974e-02,  7.2470e-02,\n",
       "                      -2.1304e-02,  1.3147e-01,  3.7818e-02, -8.4816e-02, -2.5458e-02,\n",
       "                       9.8599e-02,  4.2908e-02, -5.6882e-02,  2.2642e-02, -8.5098e-02,\n",
       "                      -7.2601e-02,  1.8842e-01,  9.7819e-02,  5.0513e-02,  7.1072e-02,\n",
       "                       5.7445e-02,  7.3686e-02,  2.0167e-02,  9.1449e-02,  3.6659e-02,\n",
       "                       2.0468e-03,  8.1268e-02, -1.2434e-01,  6.5573e-03,  6.3812e-02,\n",
       "                      -3.7298e-02, -4.9001e-03,  1.5966e-01,  2.3771e-01,  3.1633e-02,\n",
       "                      -3.2449e-02,  4.6009e-02,  1.6879e-01,  8.7989e-02, -1.3996e-01,\n",
       "                      -2.4551e-02, -1.2999e-01, -2.6886e-02,  4.8217e-02, -9.7756e-03,\n",
       "                       9.4875e-02,  3.9832e-02,  9.1054e-02,  4.8425e-02,  2.8896e-02,\n",
       "                       6.1671e-04,  8.7729e-02, -1.8199e-01, -4.1097e-02,  5.5156e-02,\n",
       "                       4.9321e-02, -1.6391e-01,  1.1941e-01,  3.2567e-02,  1.0188e-01,\n",
       "                       1.4287e-01,  1.0372e-01, -2.7181e-02,  1.1659e-01,  1.3895e-01,\n",
       "                       1.4857e-01,  3.8330e-02,  2.8393e-03,  1.4640e-02, -2.6479e-01,\n",
       "                       2.1915e-02,  2.2498e-02,  4.4648e-02, -1.6305e-02,  8.0855e-02,\n",
       "                      -1.0819e-01, -2.7655e-01, -2.7899e-02,  1.0409e-01,  7.9045e-02,\n",
       "                      -4.1925e-02, -1.9464e-02,  1.4323e-01, -4.0941e-02,  1.6681e-01,\n",
       "                       1.5893e-03, -3.0172e-02, -2.1212e-02, -4.8818e-02,  6.8030e-02,\n",
       "                      -1.7684e-01, -3.9322e-02, -1.1383e-01, -3.3965e-02, -7.7327e-02,\n",
       "                       1.2780e-01, -6.6514e-02,  1.2960e-01, -2.1705e-01,  7.2725e-02,\n",
       "                       8.8693e-03, -5.4224e-02, -5.6697e-02, -5.9156e-02,  3.2369e-02,\n",
       "                       1.6914e-01,  1.8949e-02, -6.4903e-02,  4.4570e-02,  9.6309e-02,\n",
       "                       1.0086e-01,  1.7612e-01, -1.5084e-01,  5.2928e-03,  1.8787e-01,\n",
       "                      -3.5007e-02, -1.6829e-01,  5.7517e-02,  2.1390e-01,  3.5330e-02,\n",
       "                       3.0346e-02,  3.7028e-02, -8.2180e-02, -1.1107e-01, -7.7209e-02,\n",
       "                      -5.3436e-02, -6.0343e-03,  1.8766e-02, -5.2283e-02, -1.2194e-01,\n",
       "                      -8.9187e-02,  1.6794e-01, -6.7501e-02, -2.5195e-01, -3.9612e-02,\n",
       "                       2.1515e-01,  6.8955e-02, -1.5142e-01,  5.5029e-02, -9.9558e-02,\n",
       "                       7.4444e-02,  4.5834e-02, -1.9820e-02,  5.1070e-02,  3.0665e-02,\n",
       "                       8.0496e-02, -2.3474e-02, -1.9615e-03,  1.0505e-01, -3.4539e-02,\n",
       "                      -9.9882e-02,  1.9218e-01, -1.6406e-01, -1.5509e-01, -9.6622e-02,\n",
       "                       1.1959e-02,  1.0875e-01, -1.0703e-01,  4.2241e-02, -2.4909e-02,\n",
       "                       2.3340e-01, -5.3102e-02, -1.3939e-01,  1.5274e-02,  2.5473e-02,\n",
       "                       1.3325e-01,  3.9734e-02,  3.2014e-02,  1.1306e-01,  1.1359e-02,\n",
       "                      -5.8858e-02,  9.7492e-02,  3.1074e-02, -1.2569e-01,  1.2578e-01,\n",
       "                       2.3951e-02,  8.4533e-02,  1.5172e-02, -1.5951e-01, -9.0590e-02,\n",
       "                      -2.1748e-01,  8.2954e-02,  2.3653e-01,  6.7264e-02, -5.2856e-02,\n",
       "                      -4.9764e-02,  1.2053e-01,  8.4806e-02,  8.6074e-03,  1.5461e-01,\n",
       "                      -2.0423e-01, -5.2492e-02,  1.6856e-01, -4.3176e-02, -1.2461e-01,\n",
       "                       7.9300e-02,  3.6402e-02, -4.0354e-02, -4.5961e-02,  1.3949e-01,\n",
       "                       1.0210e-01, -1.9491e-01,  3.9870e-02, -4.1648e-02,  1.1206e-01,\n",
       "                       1.6295e-01,  5.9391e-02,  2.4290e-01,  4.8464e-02, -2.9750e-02,\n",
       "                       1.4205e-01, -6.5874e-02,  1.2131e-01,  4.4316e-02,  5.2197e-03,\n",
       "                      -3.9001e-02,  8.5169e-02,  9.9919e-02,  9.3013e-02,  1.0080e-01,\n",
       "                       5.5825e-03,  1.1401e-01, -1.9549e-01,  1.2382e-01,  2.2887e-01,\n",
       "                       1.9858e-02, -2.8448e-02, -3.5456e-02,  1.6570e-01, -2.6955e-02,\n",
       "                       2.4694e-02,  8.1572e-02,  7.9626e-02, -9.1085e-02, -2.7904e-01,\n",
       "                      -1.0076e-01, -1.6381e-01,  1.0638e-01, -3.5362e-02,  1.0933e-01,\n",
       "                      -1.5660e-02, -7.6853e-02,  5.5459e-02,  3.8280e-02, -5.7931e-02,\n",
       "                       4.7755e-02, -4.2242e-02,  1.5940e-01, -7.2686e-02, -2.6167e-02,\n",
       "                      -1.9229e-02,  2.1198e-01,  8.7230e-03, -1.0036e-01,  5.4932e-03,\n",
       "                       6.3555e-02,  4.4449e-02,  6.9682e-03,  1.5599e-01,  9.9805e-02,\n",
       "                       3.0176e-02,  8.1120e-02, -4.6450e-02, -2.3301e-02,  1.4437e-01,\n",
       "                       2.4512e-02,  4.4798e-02,  8.8493e-02,  1.9418e-02,  3.0416e-02,\n",
       "                       8.8015e-02,  1.4733e-01, -2.9669e-01, -7.4897e-02,  8.5323e-03,\n",
       "                       8.3309e-02, -4.7001e-01])),\n",
       "             ('1.features.26.weight',\n",
       "              tensor([[[[ 5.3396e-03, -2.6011e-03,  2.0471e-03],\n",
       "                        [-5.5203e-04, -5.6705e-03, -1.6622e-02],\n",
       "                        [-5.3414e-03, -4.3450e-03, -1.1729e-02]],\n",
       "              \n",
       "                       [[ 2.8564e-02,  2.7208e-02,  3.0957e-02],\n",
       "                        [ 2.9747e-02,  2.6193e-02,  3.5095e-02],\n",
       "                        [ 2.9610e-02,  4.1583e-02,  3.3541e-02]],\n",
       "              \n",
       "                       [[-4.8096e-03,  3.1882e-03,  1.0270e-03],\n",
       "                        [ 6.3651e-03,  1.7796e-02,  1.4464e-02],\n",
       "                        [-2.8096e-03, -5.9703e-03,  2.8339e-03]],\n",
       "              \n",
       "                       ...,\n",
       "              \n",
       "                       [[ 1.8245e-03,  8.2978e-03, -4.4093e-04],\n",
       "                        [ 3.4736e-04, -7.0685e-03, -1.1561e-02],\n",
       "                        [-8.2451e-03, -2.0998e-02, -1.2935e-02]],\n",
       "              \n",
       "                       [[ 1.1445e-02,  1.9142e-02,  1.2391e-02],\n",
       "                        [ 5.1714e-03,  1.4061e-02,  1.2852e-02],\n",
       "                        [-2.2861e-03,  3.0864e-03,  2.8760e-03]],\n",
       "              \n",
       "                       [[ 4.0615e-03,  1.2981e-02,  3.9028e-03],\n",
       "                        [ 1.0133e-02,  2.2851e-02,  1.2542e-02],\n",
       "                        [-1.8526e-02,  4.0812e-03, -7.3445e-03]]],\n",
       "              \n",
       "              \n",
       "                      [[[ 6.6611e-03,  1.6469e-02,  1.8038e-02],\n",
       "                        [ 4.2513e-03,  1.3071e-02,  1.3559e-02],\n",
       "                        [ 5.8119e-05, -5.8924e-03,  2.7461e-03]],\n",
       "              \n",
       "                       [[-1.9168e-02, -1.1761e-02, -6.3617e-03],\n",
       "                        [-4.5724e-03,  5.5111e-03,  2.2184e-02],\n",
       "                        [ 1.5402e-02,  3.0761e-02,  2.4692e-02]],\n",
       "              \n",
       "                       [[ 2.4585e-02,  1.4311e-03,  1.1614e-02],\n",
       "                        [ 3.0728e-03,  3.2102e-03, -2.3297e-03],\n",
       "                        [ 8.8638e-03,  2.1141e-04, -6.4401e-03]],\n",
       "              \n",
       "                       ...,\n",
       "              \n",
       "                       [[-1.2550e-03, -1.5409e-02, -9.5785e-03],\n",
       "                        [-3.3684e-03, -1.0180e-02, -9.1001e-03],\n",
       "                        [-8.8001e-03, -1.0285e-02, -1.2795e-02]],\n",
       "              \n",
       "                       [[-2.2165e-03, -1.1368e-02, -1.6937e-02],\n",
       "                        [-4.1576e-03, -1.7331e-02, -1.9301e-02],\n",
       "                        [ 1.7213e-02, -5.8893e-03, -3.5251e-03]],\n",
       "              \n",
       "                       [[ 4.2934e-04, -3.1749e-02, -1.1264e-02],\n",
       "                        [-1.3598e-02, -2.6306e-02, -1.2232e-02],\n",
       "                        [-1.0754e-02, -6.1461e-03,  1.9349e-03]]],\n",
       "              \n",
       "              \n",
       "                      [[[-6.3082e-03, -9.7150e-03, -2.3335e-02],\n",
       "                        [ 1.3182e-02, -3.2372e-03, -2.5867e-02],\n",
       "                        [ 1.1476e-02, -1.3032e-02, -1.9881e-02]],\n",
       "              \n",
       "                       [[-1.2360e-02, -1.8700e-02, -1.6942e-02],\n",
       "                        [-9.2911e-03, -2.0091e-02, -2.2995e-02],\n",
       "                        [-1.2494e-03, -1.4778e-02, -1.0388e-03]],\n",
       "              \n",
       "                       [[ 8.0493e-03, -1.5987e-02,  4.0480e-03],\n",
       "                        [ 5.0285e-04, -1.5592e-02, -9.4860e-04],\n",
       "                        [ 1.8756e-03, -1.6222e-03,  2.6918e-02]],\n",
       "              \n",
       "                       ...,\n",
       "              \n",
       "                       [[-4.8347e-03, -4.5748e-03,  1.0694e-02],\n",
       "                        [-4.9288e-03, -6.6486e-03,  7.8251e-03],\n",
       "                        [ 2.9448e-03, -4.8328e-03,  1.8856e-03]],\n",
       "              \n",
       "                       [[-2.5153e-02, -1.6802e-02, -1.6072e-02],\n",
       "                        [-2.2678e-02, -1.7088e-02, -2.0305e-02],\n",
       "                        [-1.3699e-03, -4.8345e-03, -1.9961e-02]],\n",
       "              \n",
       "                       [[-6.9218e-03, -9.6376e-03, -6.8654e-03],\n",
       "                        [-2.6699e-02, -8.4984e-03, -1.5467e-02],\n",
       "                        [-2.1957e-02, -3.2741e-03, -1.0307e-02]]],\n",
       "              \n",
       "              \n",
       "                      ...,\n",
       "              \n",
       "              \n",
       "                      [[[-9.1363e-03, -7.3454e-03, -5.1433e-04],\n",
       "                        [-1.4278e-02, -6.1465e-03, -7.2070e-04],\n",
       "                        [-1.6642e-02, -4.9116e-03, -3.4871e-03]],\n",
       "              \n",
       "                       [[ 2.6056e-03, -8.4249e-03, -9.7426e-03],\n",
       "                        [ 7.5849e-03,  1.8067e-02,  1.4182e-03],\n",
       "                        [ 1.3075e-02,  2.1234e-02,  6.2620e-03]],\n",
       "              \n",
       "                       [[-1.8380e-02, -1.6573e-02, -1.8083e-02],\n",
       "                        [-9.8052e-03, -8.9779e-03, -4.3979e-03],\n",
       "                        [ 2.0935e-02,  1.5239e-02,  2.1666e-02]],\n",
       "              \n",
       "                       ...,\n",
       "              \n",
       "                       [[-1.2521e-03,  2.2272e-03, -6.7883e-03],\n",
       "                        [ 3.9690e-03, -1.7839e-03, -1.4141e-03],\n",
       "                        [-2.6103e-03, -6.8463e-03,  3.6033e-03]],\n",
       "              \n",
       "                       [[-2.1042e-02, -2.3199e-02, -2.5091e-02],\n",
       "                        [-1.5306e-02, -2.0517e-02, -1.4779e-02],\n",
       "                        [-1.6646e-02, -2.5360e-02, -1.2351e-02]],\n",
       "              \n",
       "                       [[-1.5930e-02, -1.5632e-02, -1.4184e-02],\n",
       "                        [-2.6613e-02, -2.4581e-02, -2.5748e-02],\n",
       "                        [-4.3730e-02, -2.4319e-02, -3.5868e-02]]],\n",
       "              \n",
       "              \n",
       "                      [[[ 2.5800e-02,  1.8246e-02,  4.1745e-03],\n",
       "                        [ 3.1369e-02,  2.7469e-02,  1.3944e-02],\n",
       "                        [ 4.3090e-02,  3.4853e-02,  1.6547e-02]],\n",
       "              \n",
       "                       [[-2.0093e-02, -9.6790e-03, -3.3555e-03],\n",
       "                        [-1.4883e-02, -4.7618e-03,  1.4326e-03],\n",
       "                        [-1.4103e-02, -1.2438e-02, -1.2753e-02]],\n",
       "              \n",
       "                       [[ 5.6065e-03, -9.6808e-03, -1.2314e-02],\n",
       "                        [ 7.2805e-03,  2.7174e-03,  1.3877e-02],\n",
       "                        [ 2.4785e-02,  3.3593e-02,  2.7336e-02]],\n",
       "              \n",
       "                       ...,\n",
       "              \n",
       "                       [[ 4.0470e-02,  4.5544e-02,  5.4355e-03],\n",
       "                        [ 2.2914e-02,  3.9093e-02,  1.1948e-02],\n",
       "                        [-2.2369e-02, -1.1044e-02, -2.6951e-02]],\n",
       "              \n",
       "                       [[ 2.7633e-02,  3.4775e-02,  4.5656e-02],\n",
       "                        [ 1.0519e-02,  1.8385e-02,  1.7313e-02],\n",
       "                        [-4.3395e-03, -1.6035e-02, -1.3418e-02]],\n",
       "              \n",
       "                       [[-2.5060e-02, -2.7326e-02, -2.7092e-02],\n",
       "                        [-1.7381e-02, -2.3803e-02, -2.5497e-02],\n",
       "                        [-3.5137e-02, -3.5637e-02, -4.1381e-02]]],\n",
       "              \n",
       "              \n",
       "                      [[[ 6.4722e-03,  2.6888e-02,  1.5061e-02],\n",
       "                        [ 1.6494e-02,  1.5769e-02,  1.1282e-02],\n",
       "                        [ 1.0883e-03,  1.4466e-02, -6.3556e-04]],\n",
       "              \n",
       "                       [[-2.6401e-02, -1.1913e-02, -2.2637e-02],\n",
       "                        [-9.3725e-03, -8.0288e-03, -3.5004e-03],\n",
       "                        [ 5.4438e-04, -1.0030e-02, -1.0874e-03]],\n",
       "              \n",
       "                       [[ 3.5263e-02,  6.2117e-02,  4.5421e-02],\n",
       "                        [ 2.2339e-02,  7.0000e-02,  2.9066e-02],\n",
       "                        [-3.1752e-03,  2.3692e-02,  1.6666e-02]],\n",
       "              \n",
       "                       ...,\n",
       "              \n",
       "                       [[ 2.2774e-03,  1.5925e-04,  1.6611e-02],\n",
       "                        [-1.6273e-03,  3.0923e-04,  3.6685e-02],\n",
       "                        [-1.1285e-02, -1.2695e-02,  1.1720e-02]],\n",
       "              \n",
       "                       [[-3.1725e-03,  4.0291e-02,  5.1335e-02],\n",
       "                        [ 2.3922e-02,  4.6691e-02,  4.6342e-02],\n",
       "                        [-5.0121e-03,  1.2513e-02,  5.2803e-03]],\n",
       "              \n",
       "                       [[ 7.7319e-03,  1.6902e-02, -3.2354e-03],\n",
       "                        [ 6.6349e-03, -1.1266e-02,  1.1672e-03],\n",
       "                        [ 3.5068e-03,  2.4610e-03,  4.2446e-02]]]])),\n",
       "             ('1.features.26.bias',\n",
       "              tensor([-1.8666e-03,  5.7017e-02,  2.9037e-01, -4.1835e-02, -1.4528e-01,\n",
       "                       9.7580e-02,  2.3560e-03, -4.6849e-02, -1.1053e-01,  3.4257e-02,\n",
       "                      -2.4042e-02,  2.0182e-01,  1.1553e-02,  1.0405e-01, -1.2501e-01,\n",
       "                      -5.2647e-02,  1.0306e-01,  2.9218e-01,  7.1207e-02,  5.0657e-02,\n",
       "                       7.1952e-02,  1.0146e-01, -9.9783e-02, -3.0564e-01, -1.4941e-01,\n",
       "                       1.5980e-01, -3.9840e-02, -1.7077e-02,  5.5280e-02, -1.0362e-01,\n",
       "                       1.6088e-01,  3.7379e-02, -5.2612e-02, -8.1772e-02,  1.9972e-01,\n",
       "                       6.7174e-02, -2.3415e-01,  1.3533e-01,  2.6369e-01,  2.0479e-02,\n",
       "                       1.0116e-01,  8.6680e-02,  5.7501e-02,  7.2363e-02,  7.3808e-03,\n",
       "                      -3.6636e-02,  1.0156e-01,  1.8313e-01,  9.8428e-02,  2.5966e-01,\n",
       "                       5.9659e-02,  1.7078e-01,  2.4407e-01,  1.1154e-01,  2.1932e-01,\n",
       "                       1.4012e-01, -4.7116e-02, -9.8325e-02,  1.0331e-01,  1.6451e-01,\n",
       "                       1.8985e-01,  7.3346e-02,  2.1585e-01,  9.3988e-02, -4.3088e-02,\n",
       "                       4.3769e-02, -9.1637e-03,  1.9221e-01, -1.6666e-02,  1.4745e-01,\n",
       "                       1.4711e-01,  1.9153e-01,  2.3714e-02,  2.1707e-01,  1.1103e-01,\n",
       "                       1.4756e-01,  1.7709e-01,  5.9606e-02,  1.6344e-01,  3.4881e-02,\n",
       "                       3.5092e-02, -7.2988e-02,  6.2248e-03,  1.3423e-02, -1.4019e-01,\n",
       "                       7.7693e-02,  1.9400e-01, -1.2594e-01,  9.1969e-02,  2.9473e-03,\n",
       "                       6.6520e-02, -1.6128e-01,  9.4379e-02,  2.5086e-01, -9.8200e-02,\n",
       "                       2.6146e-01, -2.7909e-02, -1.6964e-01, -1.4454e-03,  2.6331e-02,\n",
       "                       1.0610e-01,  1.5036e-01,  1.9870e-01, -2.8088e-01,  1.0692e-01,\n",
       "                       7.7459e-02,  6.1109e-02,  8.2527e-02, -3.6611e-04, -9.6903e-02,\n",
       "                       2.1753e-01, -3.3631e-02,  2.7233e-02,  2.6597e-01,  6.8063e-02,\n",
       "                       3.9370e-02,  4.3015e-02,  2.9436e-01,  3.3210e-02,  2.6707e-01,\n",
       "                       2.1762e-01, -1.7610e-01,  1.4869e-01,  2.4787e-01,  9.4500e-02,\n",
       "                       6.9592e-02,  1.2854e-01,  3.4383e-01,  1.1824e-01,  3.1933e-01,\n",
       "                      -8.2926e-02, -2.8304e-01,  2.5023e-01, -3.9024e-02,  8.6568e-02,\n",
       "                       2.1587e-03,  1.8634e-01,  1.5785e-01, -1.9770e-01,  1.5359e-01,\n",
       "                      -1.9451e-02, -2.1121e-02,  1.8950e-01,  6.8301e-02,  1.6484e-01,\n",
       "                      -2.7088e-02,  5.3145e-02,  1.0847e-01,  1.4462e-01,  6.7912e-02,\n",
       "                      -5.0629e-03, -1.7436e-01,  7.5674e-02, -1.3786e-02,  1.2773e-01,\n",
       "                      -8.3537e-02,  1.0777e-01,  1.1534e-01,  1.9484e-01, -2.6072e-01,\n",
       "                       1.2709e-01, -6.4650e-01, -9.0149e-02,  1.4942e-01, -1.7333e-02,\n",
       "                       1.9375e-01,  2.2444e-01, -3.1575e-02,  4.4808e-02,  2.0968e-02,\n",
       "                       4.8016e-02,  2.4603e-01,  8.5833e-02,  9.1631e-03,  5.2521e-03,\n",
       "                       1.4818e-01,  1.6255e-01,  1.3783e-01, -1.2721e-01,  1.3046e-01,\n",
       "                       4.6948e-02,  2.2297e-01,  2.6552e-01, -6.1658e-03,  1.8745e-01,\n",
       "                      -3.5949e-02,  2.6962e-03,  7.4749e-02,  7.3888e-02,  2.0233e-01,\n",
       "                      -2.8899e-02,  2.8263e-02, -6.8365e-04,  6.0504e-02,  1.2821e-01,\n",
       "                      -1.9559e-01,  1.4128e-01,  5.7720e-02,  2.4928e-02,  1.1331e-01,\n",
       "                       3.1827e-01, -6.8636e-02,  2.2342e-01,  1.6150e-01,  3.8573e-02,\n",
       "                       1.2785e-01,  1.4468e-01,  4.0882e-01,  4.4220e-02,  1.2601e-01,\n",
       "                       2.1437e-01,  5.6113e-02,  7.2575e-02, -3.8681e-02, -2.2991e-01,\n",
       "                       1.2899e-01, -4.2816e-02,  1.5429e-02, -6.6207e-01,  1.6223e-01,\n",
       "                       2.2208e-02, -1.7641e-01,  1.2844e-01,  2.8098e-02, -5.5635e-01,\n",
       "                       2.5970e-01,  7.6222e-02,  9.2613e-02, -7.2509e-02,  1.6800e-01,\n",
       "                       5.4684e-02,  1.4577e-01,  1.9413e-01,  3.5031e-01,  5.0761e-02,\n",
       "                       2.1963e-01,  2.4107e-01,  1.5549e-01,  5.9186e-03, -2.0423e-01,\n",
       "                       1.4703e-02, -1.9952e-01,  1.6109e-01, -1.1879e-01,  2.4545e-01,\n",
       "                       6.6158e-02,  9.7454e-02, -8.2771e-02, -3.7062e-01,  1.2340e-03,\n",
       "                      -5.0983e-02,  7.9294e-02, -2.8959e-01,  1.3654e-01,  1.2556e-01,\n",
       "                       2.6770e-01, -1.1705e-01,  1.8009e-02,  8.3099e-02, -2.1306e-02,\n",
       "                      -1.0695e-01,  4.0777e-02,  1.6204e-02, -6.8079e-02, -8.4088e-03,\n",
       "                       1.0480e-01, -3.6518e-02, -7.5951e-02, -5.1793e-02,  1.3324e-01,\n",
       "                      -1.2668e-01,  2.5091e-01,  2.6978e-01, -7.2983e-02,  1.5773e-01,\n",
       "                       1.4425e-01,  4.4454e-02,  1.1719e-01, -3.1348e-01,  6.1585e-02,\n",
       "                      -2.9930e-01,  5.1718e-02,  6.8521e-02, -5.4538e-03,  1.4011e-01,\n",
       "                      -2.4201e-01,  1.3839e-01,  6.9757e-02, -1.9195e-01,  2.3175e-01,\n",
       "                       4.9663e-02,  1.2948e-01,  2.3114e-01,  5.3783e-02, -3.1518e-01,\n",
       "                       9.7877e-02,  6.9466e-02,  1.2402e-01, -6.5295e-02,  1.3748e-01,\n",
       "                       1.0198e-01,  9.2648e-03, -4.9462e-02,  2.3147e-01, -1.8391e-01,\n",
       "                       8.4367e-02, -4.9025e-02,  2.9966e-02, -1.5414e-02, -3.3248e-02,\n",
       "                      -3.0881e-02,  7.3432e-02,  1.0506e-01,  2.1105e-01,  7.0210e-02,\n",
       "                      -3.4235e-02, -9.3336e-03, -4.4074e-02,  5.6659e-02,  7.3498e-02,\n",
       "                       2.2864e-01,  4.3891e-01, -2.6724e-01,  2.4760e-01,  7.6365e-03,\n",
       "                       2.6442e-01,  2.1404e-02,  5.0040e-03, -1.7391e-02,  2.3170e-01,\n",
       "                       4.5571e-02, -1.8193e-01, -6.1254e-02,  1.8754e-02,  1.2294e-01,\n",
       "                       7.2295e-02,  9.1011e-02,  6.2859e-02,  1.8136e-02,  1.2289e-02,\n",
       "                       2.7419e-01,  1.5810e-01,  1.4636e-01,  7.3804e-02,  1.2332e-01,\n",
       "                       2.2932e-01,  3.6136e-02,  2.7115e-01,  2.6343e-01,  2.9032e-01,\n",
       "                      -1.2718e-01, -1.7979e-01,  1.4586e-01, -1.6241e-01,  3.0114e-01,\n",
       "                       5.5059e-02,  3.2167e-02, -1.2264e-01,  8.7372e-02,  1.1369e-01,\n",
       "                       3.7626e-03,  1.4352e-01,  6.6292e-02, -7.9032e-03, -5.9974e-02,\n",
       "                       2.5742e-01,  1.3313e-01,  1.6193e-01,  8.2585e-02,  2.3147e-02,\n",
       "                       1.3798e-01,  2.0631e-01,  6.7912e-04, -1.7521e-01,  1.5724e-01,\n",
       "                      -3.9759e-02, -2.3618e-02,  1.2435e-01,  2.6350e-01,  1.0939e-01,\n",
       "                       1.1142e-02,  1.1584e-02,  6.3682e-03,  7.8544e-02,  6.5312e-02,\n",
       "                       5.4535e-02,  8.3808e-02, -4.0156e-02,  1.6724e-01,  6.9462e-02,\n",
       "                      -5.6358e-03,  2.1871e-01, -7.4366e-02,  5.8563e-02,  2.6375e-01,\n",
       "                       2.8281e-02,  2.3848e-01,  2.4837e-01, -2.9013e-02,  3.2424e-01,\n",
       "                       1.7226e-01,  1.3233e-01, -1.0394e-01,  9.3176e-02, -4.7638e-02,\n",
       "                       2.9491e-02,  1.4628e-01,  5.3395e-02,  4.0193e-02,  1.6876e-01,\n",
       "                       1.4468e-01, -1.4803e-01,  6.4347e-02,  6.2874e-02,  1.2608e-01,\n",
       "                       5.8593e-02,  7.5623e-02,  1.0542e-01,  1.0271e-01,  1.8562e-01,\n",
       "                       5.4800e-02,  3.1581e-01, -5.1294e-02,  1.3097e-01,  8.2818e-03,\n",
       "                       2.8779e-01,  5.5276e-02, -5.6436e-02, -4.4616e-02, -1.2998e-02,\n",
       "                      -1.3716e-02,  1.3293e-02, -4.7198e-02,  8.3116e-03,  5.8338e-02,\n",
       "                      -8.3499e-02,  1.5747e-01,  5.6099e-02, -1.6342e-01, -2.6140e-02,\n",
       "                      -1.4222e-01,  1.4673e-01,  1.2082e-02, -3.6615e-01,  1.0794e-01,\n",
       "                      -2.5953e-02, -5.6553e-03,  1.2290e-01, -2.8457e-01,  4.4854e-01,\n",
       "                       1.7102e-02,  5.5128e-02,  1.3845e-01,  1.5321e-01, -2.5654e-01,\n",
       "                       2.8014e-01,  1.9405e-01,  7.0340e-02, -5.0714e-02,  4.1474e-01,\n",
       "                       1.9581e-02,  9.0458e-02,  2.2933e-01, -7.1535e-02,  9.5470e-02,\n",
       "                       4.2164e-02,  2.9810e-02,  6.9839e-02,  3.3857e-02, -7.5168e-02,\n",
       "                       6.1839e-02,  9.1591e-02,  2.6959e-01,  6.8085e-02,  3.4010e-02,\n",
       "                       2.2680e-01,  9.8848e-02,  1.3321e-01,  1.4411e-01,  1.8030e-01,\n",
       "                       7.3481e-02,  2.0859e-02,  2.5386e-02,  7.3633e-02,  3.0340e-03,\n",
       "                       3.1784e-02,  2.2625e-01,  7.9172e-02,  5.7611e-02, -2.7014e-01,\n",
       "                       1.0245e-01, -3.1768e-01,  1.0963e-01,  7.2605e-02,  7.4633e-02,\n",
       "                       2.7208e-01,  2.0284e-01,  2.9327e-01,  1.1316e-01,  4.2383e-01,\n",
       "                       1.9787e-03,  1.2159e-02, -1.0778e-01, -1.4625e-01,  1.4457e-01,\n",
       "                       5.2123e-02,  2.0928e-01,  7.4471e-02,  1.6038e-01,  8.0804e-02,\n",
       "                       2.0423e-01, -1.4896e+00])),\n",
       "             ('1.features.28.weight',\n",
       "              tensor([[[[ 2.7768e-02,  1.5296e-02,  2.1911e-02],\n",
       "                        [ 2.5202e-02,  2.3223e-02,  2.0005e-02],\n",
       "                        [ 3.0154e-02,  8.7023e-03,  1.7728e-02]],\n",
       "              \n",
       "                       [[-1.0682e-02, -9.5476e-03, -9.1195e-03],\n",
       "                        [-3.5036e-03, -1.2508e-02, -1.4557e-02],\n",
       "                        [-1.3689e-02, -1.8028e-02, -2.1646e-02]],\n",
       "              \n",
       "                       [[-8.5565e-03, -7.2054e-03, -6.3846e-03],\n",
       "                        [ 2.0408e-03, -2.1947e-03, -6.8919e-04],\n",
       "                        [-1.6638e-03, -9.0286e-04,  4.9448e-04]],\n",
       "              \n",
       "                       ...,\n",
       "              \n",
       "                       [[-3.4711e-03,  3.3385e-03,  2.6684e-03],\n",
       "                        [-9.6592e-03, -1.1543e-02, -8.2975e-03],\n",
       "                        [ 3.4230e-03,  5.5182e-03,  1.2600e-02]],\n",
       "              \n",
       "                       [[-6.8517e-03, -4.8486e-03, -8.5124e-03],\n",
       "                        [ 1.4605e-03,  1.1698e-02, -1.0812e-03],\n",
       "                        [ 5.8605e-03,  3.4066e-04, -1.5733e-03]],\n",
       "              \n",
       "                       [[-2.1647e-02,  2.5883e-03,  1.1418e-02],\n",
       "                        [-2.7891e-02,  1.8448e-03,  1.1855e-02],\n",
       "                        [-1.2538e-02, -1.8912e-03,  9.2639e-03]]],\n",
       "              \n",
       "              \n",
       "                      [[[-1.1915e-02, -2.5141e-02, -5.7179e-03],\n",
       "                        [-1.0882e-02, -2.0027e-02, -1.1911e-02],\n",
       "                        [-1.1790e-02, -2.5523e-03, -9.7380e-03]],\n",
       "              \n",
       "                       [[ 4.7855e-03,  1.2190e-02,  2.8847e-03],\n",
       "                        [ 1.0504e-03,  1.1996e-02,  4.9770e-03],\n",
       "                        [-8.5489e-03,  7.1493e-03, -1.0067e-03]],\n",
       "              \n",
       "                       [[ 2.7091e-02,  3.9574e-03, -1.2531e-02],\n",
       "                        [ 2.7176e-02,  6.1379e-04, -6.5110e-03],\n",
       "                        [ 2.6015e-02, -3.7971e-03, -1.5131e-02]],\n",
       "              \n",
       "                       ...,\n",
       "              \n",
       "                       [[ 3.3640e-03, -4.9642e-03, -3.9093e-03],\n",
       "                        [-8.3368e-04,  4.4245e-03, -2.2336e-03],\n",
       "                        [-1.7497e-02, -4.9544e-03, -1.4368e-02]],\n",
       "              \n",
       "                       [[ 7.4389e-03,  1.3468e-02, -1.1554e-04],\n",
       "                        [ 1.7286e-02,  2.5330e-02,  1.1325e-02],\n",
       "                        [ 2.2605e-02,  3.5830e-02,  3.0841e-02]],\n",
       "              \n",
       "                       [[ 3.4607e-03,  1.7330e-02,  1.3341e-02],\n",
       "                        [ 1.6956e-02,  2.1979e-02,  2.2309e-02],\n",
       "                        [ 4.5768e-03,  2.3037e-02,  2.3206e-02]]],\n",
       "              \n",
       "              \n",
       "                      [[[-9.2360e-03,  7.4191e-04,  2.9408e-03],\n",
       "                        [ 2.4742e-03, -4.0349e-03, -2.9401e-03],\n",
       "                        [-1.5432e-03, -5.3605e-03, -5.8344e-03]],\n",
       "              \n",
       "                       [[-1.3595e-02, -3.1718e-02, -2.3710e-02],\n",
       "                        [-2.1746e-02, -2.5402e-02, -2.3455e-02],\n",
       "                        [-1.5045e-02, -3.1418e-02, -2.8699e-02]],\n",
       "              \n",
       "                       [[ 3.2991e-03, -4.9208e-03,  1.4358e-03],\n",
       "                        [-7.7625e-04,  6.0068e-03,  3.9225e-03],\n",
       "                        [ 1.0592e-02,  5.9198e-03,  1.5063e-02]],\n",
       "              \n",
       "                       ...,\n",
       "              \n",
       "                       [[-4.8337e-03, -1.5062e-02, -1.1133e-02],\n",
       "                        [ 4.8897e-03,  3.7414e-03, -6.6763e-03],\n",
       "                        [ 1.0834e-02,  1.6787e-02,  6.9389e-03]],\n",
       "              \n",
       "                       [[-2.0545e-02, -2.2203e-02, -1.7161e-02],\n",
       "                        [-2.5112e-02, -3.0551e-02, -1.5765e-02],\n",
       "                        [-2.4664e-02, -2.2903e-02, -5.8698e-03]],\n",
       "              \n",
       "                       [[-3.2173e-02, -2.9189e-02, -8.3404e-03],\n",
       "                        [-2.5504e-02, -1.7146e-02,  1.7872e-03],\n",
       "                        [-3.1295e-02, -1.2420e-02,  1.1523e-02]]],\n",
       "              \n",
       "              \n",
       "                      ...,\n",
       "              \n",
       "              \n",
       "                      [[[-1.9429e-02, -2.4556e-02, -1.7622e-02],\n",
       "                        [-3.5300e-02, -3.0947e-02, -2.4672e-02],\n",
       "                        [-2.4305e-02, -2.5179e-02, -7.1441e-03]],\n",
       "              \n",
       "                       [[ 2.9619e-02,  1.2602e-02, -1.9829e-02],\n",
       "                        [ 9.1760e-03, -8.5109e-04, -3.0802e-02],\n",
       "                        [-2.7310e-03, -1.7747e-02, -3.2944e-02]],\n",
       "              \n",
       "                       [[-3.7120e-03, -1.0129e-02,  1.1997e-02],\n",
       "                        [-5.0915e-03, -1.4651e-02,  1.0667e-02],\n",
       "                        [-4.8322e-03, -9.9947e-03,  1.8547e-03]],\n",
       "              \n",
       "                       ...,\n",
       "              \n",
       "                       [[-1.4648e-02, -1.5231e-02,  1.0567e-03],\n",
       "                        [-8.6118e-03, -3.1389e-02, -1.3612e-02],\n",
       "                        [-1.7457e-02, -1.7559e-02, -1.1778e-02]],\n",
       "              \n",
       "                       [[-1.4624e-02, -8.1732e-03, -2.6069e-03],\n",
       "                        [-1.8911e-02, -2.5938e-02, -1.7402e-02],\n",
       "                        [-3.9192e-03, -1.7547e-02, -2.6254e-02]],\n",
       "              \n",
       "                       [[-5.1161e-02, -1.9841e-02,  1.4722e-02],\n",
       "                        [-4.5486e-02, -1.1310e-02,  1.3356e-02],\n",
       "                        [-5.4183e-02, -2.0307e-02, -2.4845e-03]]],\n",
       "              \n",
       "              \n",
       "                      [[[-4.0532e-03, -1.0636e-02,  7.1217e-04],\n",
       "                        [ 1.4047e-02,  1.0330e-02,  1.1886e-02],\n",
       "                        [ 1.9057e-02,  7.6312e-03,  1.1955e-02]],\n",
       "              \n",
       "                       [[-5.0939e-04,  2.6748e-03,  3.8110e-03],\n",
       "                        [-1.6356e-02, -2.5871e-03, -9.2277e-03],\n",
       "                        [-5.9132e-03, -3.3246e-03, -2.0477e-02]],\n",
       "              \n",
       "                       [[ 1.0108e-03,  1.5062e-02,  2.3413e-02],\n",
       "                        [ 4.2264e-05,  6.6031e-03,  3.2643e-02],\n",
       "                        [-2.8598e-03,  4.1518e-03,  2.0333e-02]],\n",
       "              \n",
       "                       ...,\n",
       "              \n",
       "                       [[ 5.1414e-03, -6.4583e-03, -1.4588e-02],\n",
       "                        [-1.0115e-02, -1.0200e-02, -2.1285e-02],\n",
       "                        [-6.3856e-03, -7.5624e-03, -2.0476e-02]],\n",
       "              \n",
       "                       [[-1.0839e-02,  6.7214e-03,  5.8918e-03],\n",
       "                        [-9.5600e-04,  1.6651e-03,  7.1670e-03],\n",
       "                        [-1.8902e-02, -7.4955e-03, -9.8708e-04]],\n",
       "              \n",
       "                       [[-4.4182e-02, -2.7011e-02, -1.5440e-02],\n",
       "                        [-4.1249e-02, -2.9579e-02, -1.0295e-02],\n",
       "                        [-1.9288e-02, -9.9171e-03,  5.1636e-03]]],\n",
       "              \n",
       "              \n",
       "                      [[[-2.9454e-02, -2.0776e-02, -1.4369e-02],\n",
       "                        [-8.1482e-03, -1.6480e-02, -1.4024e-02],\n",
       "                        [-8.4481e-03, -2.4206e-02, -1.5236e-02]],\n",
       "              \n",
       "                       [[ 5.7170e-03,  1.4719e-02,  8.7575e-03],\n",
       "                        [ 7.4073e-03, -8.5165e-03, -1.1737e-02],\n",
       "                        [-2.1247e-03, -1.4506e-02, -1.4657e-02]],\n",
       "              \n",
       "                       [[ 3.0560e-02,  4.0275e-02,  5.0865e-02],\n",
       "                        [-2.9477e-03,  2.0548e-02,  4.3352e-02],\n",
       "                        [-1.6921e-02,  4.7982e-03,  2.1169e-02]],\n",
       "              \n",
       "                       ...,\n",
       "              \n",
       "                       [[-1.9884e-02, -2.9679e-02, -1.7745e-02],\n",
       "                        [-1.8820e-02, -2.8695e-02, -3.7976e-02],\n",
       "                        [-7.1567e-03, -1.7579e-02, -6.9290e-03]],\n",
       "              \n",
       "                       [[-3.3155e-03, -8.4667e-03,  4.0157e-03],\n",
       "                        [ 1.9905e-02, -1.0356e-02, -4.5904e-04],\n",
       "                        [ 3.1526e-02,  1.0053e-02,  1.1222e-02]],\n",
       "              \n",
       "                       [[-2.6271e-02, -8.1591e-03, -2.9560e-02],\n",
       "                        [-3.3923e-02, -2.4079e-02, -2.2005e-02],\n",
       "                        [-3.4229e-02, -2.7152e-02, -1.4213e-02]]]])),\n",
       "             ('1.features.28.bias',\n",
       "              tensor([ 1.2262e-01,  2.3629e-02,  2.3162e-01,  5.7789e-02,  1.6951e-01,\n",
       "                       9.3987e-02,  1.5288e-01,  3.5588e-02, -1.0673e-02,  4.5928e-02,\n",
       "                      -3.5427e-02,  2.0664e-02,  3.6782e-01,  7.5143e-02, -5.5337e-02,\n",
       "                       1.8126e-01,  9.3643e-03,  2.6187e-01,  1.8133e-01,  8.2105e-02,\n",
       "                       1.6189e-01,  1.7202e-02, -7.0659e-02,  2.5717e-01,  1.1929e-01,\n",
       "                      -6.0356e-02, -7.9072e-02,  2.1903e-02,  1.5857e-01,  1.0256e-01,\n",
       "                       1.5698e-01,  1.0011e-01, -3.1958e-02,  1.2840e-01,  7.0010e-02,\n",
       "                      -6.5071e-02, -2.9777e-02,  1.4228e-01,  1.9250e-01, -5.3614e-02,\n",
       "                       1.7314e-02,  3.4937e-01,  5.4788e-01,  5.8277e-02,  1.8567e-01,\n",
       "                      -5.6476e-02,  5.7453e-02, -3.3354e-01,  1.4534e-01, -4.4080e-02,\n",
       "                       2.2341e-01, -1.3016e-01,  1.2772e-03,  1.7860e-01,  6.6606e-02,\n",
       "                      -2.4899e-01,  7.3520e-02,  9.4597e-02,  9.6410e-03, -5.1411e-02,\n",
       "                       1.2429e-01,  1.0792e-01, -4.1483e-02,  8.8754e-02, -1.0660e-01,\n",
       "                       7.5465e-02,  2.5660e-01,  1.4411e-01, -2.6037e-02,  1.0326e-01,\n",
       "                       6.8565e-02,  1.1631e-01,  3.5013e-02, -1.6152e-01,  7.5051e-02,\n",
       "                       1.4199e-01,  2.1338e-01,  4.5381e-02,  2.3022e-01,  1.0673e-01,\n",
       "                      -2.7411e-01, -4.6968e-03,  1.5835e-01,  1.0124e-01,  1.3414e-01,\n",
       "                       6.1734e-02, -6.4470e-02,  5.2122e-02,  7.6597e-02,  5.3484e-02,\n",
       "                       6.2304e-02, -3.2635e-02, -4.7491e-02,  1.3554e-01, -1.8428e-02,\n",
       "                       6.4935e-03,  3.0955e-02,  3.1049e-01,  7.0068e-02, -1.8541e-02,\n",
       "                      -1.3481e-01, -1.2601e-01,  1.9518e-01,  3.3782e-02,  1.6020e-01,\n",
       "                       5.3762e-02,  7.5861e-02,  2.2150e-01,  4.4710e-02,  6.0561e-02,\n",
       "                       7.4429e-02,  1.4344e-01, -6.7993e-02, -2.0014e-01,  3.0202e-01,\n",
       "                      -4.5313e-02,  2.4100e-01,  5.3661e-01,  1.7807e-01,  4.9233e-01,\n",
       "                       7.6316e-03,  3.5002e-02,  2.4517e-01,  3.1068e-01,  5.3972e-02,\n",
       "                       1.4603e-01, -2.9065e-02,  4.0806e-01,  1.9019e-01, -6.0330e-02,\n",
       "                      -1.6420e-02,  2.5186e-01,  2.1842e-01,  3.6742e-01,  3.0740e-02,\n",
       "                       4.4131e-01,  8.8497e-02, -2.7574e-01, -5.7353e-03,  1.4897e-01,\n",
       "                       1.9137e-01,  1.3428e-01,  1.9793e-02,  7.0272e-02, -1.0223e-04,\n",
       "                       6.3679e-02,  6.4095e-02, -4.9774e-02,  1.3092e-01,  1.3228e-01,\n",
       "                      -1.1899e-02, -3.7639e-03, -7.3270e-02,  1.5500e-02,  1.9906e-02,\n",
       "                       1.1975e-01,  1.5365e-01, -1.3392e-01,  2.9924e-01,  6.1260e-02,\n",
       "                       2.6425e-01,  6.6528e-02,  2.1711e-02, -6.4184e-02,  1.2877e-01,\n",
       "                      -1.1166e-01,  1.2291e-02,  1.8350e-01, -7.6005e-02,  6.3515e-02,\n",
       "                       6.9163e-02,  3.2881e-01,  2.4135e-01,  1.2252e-01, -3.2507e-02,\n",
       "                      -2.2642e-01,  9.5420e-02,  6.4423e-02,  6.7907e-02,  1.6127e-01,\n",
       "                       1.1246e-01,  2.3299e-01,  4.5505e-02, -1.0696e-01, -8.1177e-02,\n",
       "                       6.2341e-02, -2.9593e-02,  9.2976e-02, -9.9132e-02,  4.8948e-02,\n",
       "                      -7.1865e-02,  7.6488e-02,  2.9805e-02,  1.6418e-01,  2.2078e-01,\n",
       "                       2.1859e-01, -9.2005e-04,  7.2392e-02, -4.2184e-03,  2.2835e-01,\n",
       "                       2.0982e-01,  7.9699e-02, -8.6314e-02,  1.6713e-02,  5.4265e-02,\n",
       "                      -8.9527e-03,  5.0710e-01,  7.7975e-03,  1.8139e-01,  6.4333e-02,\n",
       "                       7.2278e-01,  4.3927e-02,  1.4373e-01, -3.8126e-02, -5.4909e-02,\n",
       "                      -1.1261e-02,  2.0435e-01,  1.7225e-01,  4.0277e-02,  1.8730e-02,\n",
       "                       6.2896e-02,  1.2427e-02,  1.3801e-01,  7.9990e-02,  9.4881e-02,\n",
       "                       2.5022e-01, -2.1631e-02,  4.1494e-02,  3.1845e-02,  1.2186e-01,\n",
       "                      -4.0207e-03,  3.9853e-02,  3.6857e-01,  1.4810e-02, -2.2886e-02,\n",
       "                       2.4626e-02, -2.7666e-01, -2.3504e-02,  1.0603e-01, -1.2430e-02,\n",
       "                       1.7616e-01,  5.4096e-02,  8.5420e-02,  1.8974e-01,  9.9808e-02,\n",
       "                       4.6577e-02,  2.4924e-01,  1.4468e-01,  2.0588e-01, -3.0332e-03,\n",
       "                       2.9170e-02,  1.3060e-01,  2.5354e-02,  1.0072e-01,  1.3300e-01,\n",
       "                      -7.8081e-02,  2.3178e-02, -1.8295e-01, -2.0426e-02,  5.6247e-02,\n",
       "                       2.0667e-02, -1.6488e-01, -1.0449e-01, -2.5850e-02, -1.4024e-02,\n",
       "                       1.5032e-02,  1.3699e-01,  1.8210e-01,  6.8620e-02,  1.9978e-01,\n",
       "                       8.3740e-02,  2.3329e-01,  1.1127e-01,  4.8185e-02,  5.4134e-02,\n",
       "                       8.3962e-03,  3.8536e-02,  1.2109e-01,  1.1808e-01,  4.3210e-01,\n",
       "                       9.5885e-02, -2.1672e-02,  7.5627e-02,  1.7968e-01, -1.1088e-01,\n",
       "                       4.2092e-02,  1.9919e-01, -2.4369e-01, -2.8168e-02,  4.5333e-02,\n",
       "                       4.4138e-02,  3.6099e-01, -4.1163e-02,  1.2387e-01,  3.2800e-02,\n",
       "                       2.3217e-01, -1.0794e-02,  6.9278e-02,  1.5661e-01,  8.5268e-02,\n",
       "                       5.2672e-02, -4.5057e-02, -5.9942e-02,  1.3035e-02, -3.6835e-02,\n",
       "                      -5.6892e-02,  9.6286e-02, -1.6769e-01,  1.8837e-01,  1.2317e-01,\n",
       "                      -4.2537e-02, -1.0869e-02,  5.0380e-02,  1.9185e-01,  2.9414e-01,\n",
       "                      -5.7837e-02,  9.4909e-02,  1.9973e-01,  6.0287e-02,  2.4607e-01,\n",
       "                       2.4244e-01, -3.3953e-02,  6.5251e-02,  1.4428e-01, -3.6591e-02,\n",
       "                       4.5402e-02,  3.0094e-02,  2.3543e-02, -6.4356e-02,  1.8489e-01,\n",
       "                      -2.0822e-01, -3.5492e-02,  1.3414e-01,  4.7244e-02, -2.8501e-02,\n",
       "                       1.2999e-01,  9.6983e-03, -7.2554e-03,  9.2639e-02,  1.7809e-01,\n",
       "                       1.2542e-01,  1.1525e-02,  1.3899e-01,  1.0277e-02, -1.2091e-01,\n",
       "                      -2.0337e-02,  1.3953e-01,  1.3900e-01,  1.8300e-01,  1.0055e-01,\n",
       "                       4.6388e-02,  7.5016e-02, -1.0064e-01,  7.0049e-02,  7.0854e-02,\n",
       "                       6.2764e-02,  2.0400e-01,  1.2844e-01,  7.8309e-02,  8.6971e-02,\n",
       "                       5.5280e-04, -1.5109e-01,  9.5772e-03,  2.4341e-01,  4.1356e-02,\n",
       "                       5.4099e-02,  1.2055e-01,  9.8878e-02, -4.0959e-02, -6.8937e-03,\n",
       "                       1.1044e-01,  1.0543e-01,  3.1613e-01,  1.2105e-02,  3.6966e-02,\n",
       "                       3.9643e-02, -7.6286e-04, -1.8045e-01,  9.3352e-02,  3.5261e-01,\n",
       "                       1.7140e-01,  5.2467e-02,  2.8717e-01,  8.8601e-02,  1.0816e-01,\n",
       "                      -2.2063e-02,  3.6558e-02,  3.1340e-02, -1.8423e-02,  1.6814e-01,\n",
       "                      -9.6640e-04,  1.9865e-01,  1.3459e-01,  4.2741e-02,  7.6440e-03,\n",
       "                       8.7541e-02, -3.4983e-02,  3.2481e-01,  1.0722e-01,  3.2433e-04,\n",
       "                       1.0203e-02,  6.5720e-02, -1.1367e-02,  1.4907e-01, -2.0369e-01,\n",
       "                       5.5540e-02, -9.1470e-02,  1.8280e-02,  9.9595e-02,  1.8190e-01,\n",
       "                       1.5722e-01,  1.8134e-01,  1.1655e-01,  6.5465e-02,  9.4013e-02,\n",
       "                       1.9571e-01,  1.8977e-01,  5.2180e-02, -1.0769e-01,  1.2666e-01,\n",
       "                       4.4844e-02,  1.2772e-02, -3.9641e-02, -1.8728e-01, -6.9648e-02,\n",
       "                       1.1926e-01, -4.8821e-02, -2.8440e-02, -1.1035e-02,  1.0448e-01,\n",
       "                       5.3383e-02,  1.1612e-01, -2.9932e-02,  4.0321e-01, -6.4734e-02,\n",
       "                       2.2511e-02,  8.8240e-02,  3.1470e-02,  3.6577e-03,  3.0099e-01,\n",
       "                       6.7790e-02, -5.7586e-02,  7.1258e-02,  2.6561e-02,  3.5736e-01,\n",
       "                      -1.0535e-01,  1.1344e-01,  9.0590e-02,  3.6739e-03,  5.7275e-02,\n",
       "                       5.1120e-01,  4.9554e-02,  1.0381e-01, -7.8473e-04,  2.9589e-01,\n",
       "                      -6.8357e-02,  7.7629e-02, -1.7351e-01, -2.4828e-01,  2.9132e-01,\n",
       "                       1.0767e-01, -2.5066e-02,  4.1914e-01,  5.6362e-02, -2.2230e-02,\n",
       "                       2.7782e-01,  2.4608e-01, -2.1384e-02,  4.0815e-01,  1.0646e-01,\n",
       "                      -1.0828e-01,  2.8292e-02,  7.8538e-03,  2.1876e-02,  8.9393e-02,\n",
       "                       8.7599e-02,  4.2402e-02,  1.6880e-01,  1.5932e-01,  5.8800e-01,\n",
       "                       4.3612e-02,  8.5084e-02,  1.7148e-02,  5.2507e-02,  7.5615e-03,\n",
       "                      -1.7018e-02,  6.9369e-02,  2.0068e-01,  3.0277e-02, -4.0460e-02,\n",
       "                      -4.6108e-03,  1.9012e-01,  1.3377e-02,  7.9592e-02, -1.0054e-02,\n",
       "                       2.1246e-01,  1.3612e-01, -7.6917e-01,  4.1772e-02,  5.5534e-02,\n",
       "                       1.0543e-03, -1.5700e-02,  2.7761e-01,  5.2285e-02,  1.2442e-01,\n",
       "                       3.0762e-02,  1.4221e-01,  1.2588e-02,  3.7639e-02, -1.4907e-02,\n",
       "                      -6.7975e-02,  3.4476e-01])),\n",
       "             ('1.classifier.0.weight',\n",
       "              tensor([[-0.0011, -0.0027,  0.0022,  ...,  0.0066, -0.0004, -0.0021],\n",
       "                      [ 0.0052,  0.0020,  0.0046,  ..., -0.0054, -0.0045, -0.0019],\n",
       "                      [-0.0005,  0.0052,  0.0018,  ...,  0.0068,  0.0005,  0.0091],\n",
       "                      ...,\n",
       "                      [-0.0075, -0.0096, -0.0025,  ..., -0.0079, -0.0106, -0.0036],\n",
       "                      [-0.0004,  0.0014, -0.0019,  ...,  0.0036,  0.0021,  0.0038],\n",
       "                      [ 0.0063,  0.0041, -0.0004,  ..., -0.0030,  0.0011,  0.0047]])),\n",
       "             ('1.classifier.0.bias',\n",
       "              tensor([ 0.0337,  0.0028,  0.0162,  ..., -0.0070,  0.0485, -0.0011])),\n",
       "             ('1.classifier.3.weight',\n",
       "              tensor([[-0.0113,  0.0104, -0.0017,  ..., -0.0161,  0.0116,  0.0065],\n",
       "                      [-0.0005, -0.0078,  0.0071,  ..., -0.0041,  0.0099, -0.0111],\n",
       "                      [-0.0109, -0.0051,  0.0161,  ..., -0.0036,  0.0035, -0.0224],\n",
       "                      ...,\n",
       "                      [-0.0107, -0.0073, -0.0038,  ..., -0.0025,  0.0083, -0.0054],\n",
       "                      [ 0.0054,  0.0081, -0.0136,  ...,  0.0041, -0.0004, -0.0023],\n",
       "                      [ 0.0288,  0.0066,  0.0049,  ...,  0.0244,  0.0066, -0.0073]])),\n",
       "             ('1.classifier.3.bias',\n",
       "              tensor([0.0326, 0.0616, 0.0300,  ..., 0.0456, 0.0442, 0.0588])),\n",
       "             ('5.weight',\n",
       "              tensor([[ 0.0090, -0.0084, -0.0002,  ...,  0.0109,  0.0096, -0.0004],\n",
       "                      [-0.0029, -0.0136,  0.0130,  ...,  0.0116, -0.0031, -0.0016],\n",
       "                      [ 0.0136,  0.0012,  0.0060,  ...,  0.0022,  0.0150,  0.0151],\n",
       "                      ...,\n",
       "                      [ 0.0025,  0.0010,  0.0011,  ...,  0.0029,  0.0059,  0.0029],\n",
       "                      [-0.0011, -0.0063, -0.0148,  ...,  0.0131,  0.0096, -0.0074],\n",
       "                      [ 0.0085,  0.0112,  0.0150,  ...,  0.0053, -0.0128,  0.0134]])),\n",
       "             ('5.bias',\n",
       "              tensor([-0.0088,  0.0120, -0.0008, -0.0072, -0.0142, -0.0011, -0.0047, -0.0155,\n",
       "                       0.0144,  0.0081, -0.0151]))])"
      ]
     },
     "execution_count": 42,
     "metadata": {},
     "output_type": "execute_result"
    }
   ],
   "source": [
    "model.to('cpu').state_dict()"
   ]
  }
 ],
 "metadata": {
  "kernelspec": {
   "display_name": "Python 3 (ipykernel)",
   "language": "python",
   "name": "python3"
  },
  "language_info": {
   "codemirror_mode": {
    "name": "ipython",
    "version": 3
   },
   "file_extension": ".py",
   "mimetype": "text/x-python",
   "name": "python",
   "nbconvert_exporter": "python",
   "pygments_lexer": "ipython3",
   "version": "3.10.12"
  }
 },
 "nbformat": 4,
 "nbformat_minor": 4
}
