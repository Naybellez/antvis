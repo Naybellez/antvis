{
 "cells": [
  {
   "cell_type": "code",
   "execution_count": 3,
   "metadata": {
    "scrolled": true
   },
   "outputs": [],
   "source": [
    "import os\n",
    "import numpy as np\n",
    "from sklearn.model_selection import train_test_split\n",
    "\n",
    "from functions import import_imagedata, get_data, label_oh_tf,  Unwrap, ImageProcessor, IDSWDataSetLoader\n",
    "from fns4wandb import build_optimizer, set_optimizer, hp_sweep, train_model, train_log, log_test_score, set_lossfn, pipeline, test_loop_batch, batch_loop\n",
    "from loop_fns import res_loop, test_loop,test_loop_res\n",
    "\n",
    "import torch\n",
    "import torch.nn as nn\n",
    "import torch.nn.functional as F\n",
    "from torchvision import datasets, models, transforms\n",
    "import torch.optim as optim\n",
    "from torch.optim import lr_scheduler\n",
    "\n",
    "from sklearn.metrics import f1_score, accuracy_score, confusion_matrix, ConfusionMatrixDisplay\n",
    "from torchvision.models import vgg16\n",
    "from torchvision.models import resnet101\n",
    "\n",
    "import cv2\n",
    "\n",
    "from torch.utils.data import DataLoader\n",
    "import wandb\n",
    "from fns4wandb import train_log, build_optimizer\n",
    "from copy import deepcopy\n",
    "from tqdm import tqdm\n",
    "\n",
    "import random\n",
    "from sklearn.metrics import f1_score, accuracy_score, confusion_matrix, ConfusionMatrixDisplay\n",
    "import matplotlib.pyplot as plt\n",
    "\n",
    "from torch.utils.data import DataLoader\n",
    "import wandb\n",
    "from fns4wandb import train_log, build_optimizer, hp_sweep\n",
    "from copy import deepcopy\n",
    "from tqdm import tqdm\n",
    "\n",
    "import pickle\n",
    "from fns4wandb import set_lossfn"
   ]
  },
  {
   "cell_type": "code",
   "execution_count": 4,
   "metadata": {},
   "outputs": [
    {
     "name": "stderr",
     "output_type": "stream",
     "text": [
      "2024-02-13 15:55:34.120755: I tensorflow/core/util/port.cc:113] oneDNN custom operations are on. You may see slightly different numerical results due to floating-point round-off errors from different computation orders. To turn them off, set the environment variable `TF_ENABLE_ONEDNN_OPTS=0`.\n",
      "2024-02-13 15:55:34.144677: E external/local_xla/xla/stream_executor/cuda/cuda_dnn.cc:9261] Unable to register cuDNN factory: Attempting to register factory for plugin cuDNN when one has already been registered\n",
      "2024-02-13 15:55:34.144695: E external/local_xla/xla/stream_executor/cuda/cuda_fft.cc:607] Unable to register cuFFT factory: Attempting to register factory for plugin cuFFT when one has already been registered\n",
      "2024-02-13 15:55:34.145364: E external/local_xla/xla/stream_executor/cuda/cuda_blas.cc:1515] Unable to register cuBLAS factory: Attempting to register factory for plugin cuBLAS when one has already been registered\n",
      "2024-02-13 15:55:34.149970: I tensorflow/core/platform/cpu_feature_guard.cc:182] This TensorFlow binary is optimized to use available CPU instructions in performance-critical operations.\n",
      "To enable the following instructions: AVX2 AVX512F AVX512_VNNI AVX512_BF16 AVX_VNNI AMX_TILE AMX_INT8 AMX_BF16 FMA, in other operations, rebuild TensorFlow with the appropriate compiler flags.\n",
      "2024-02-13 15:55:34.613476: W tensorflow/compiler/tf2tensorrt/utils/py_utils.cc:38] TF-TRT Warning: Could not find TensorRT\n"
     ]
    }
   ],
   "source": [
    "#!pip install tensorflow\n",
    "#!pip install keras\n",
    "#import keras\n",
    "from keras.datasets import mnist"
   ]
  },
  {
   "cell_type": "code",
   "execution_count": 5,
   "metadata": {},
   "outputs": [],
   "source": [
    "device = \"cuda:1\" if torch.cuda.is_available() else \"cpu\""
   ]
  },
  {
   "cell_type": "code",
   "execution_count": 6,
   "metadata": {
    "scrolled": true
   },
   "outputs": [
    {
     "data": {
      "text/plain": [
       "VGG(\n",
       "  (features): Sequential(\n",
       "    (0): Conv2d(3, 64, kernel_size=(3, 3), stride=(1, 1), padding=(1, 1))\n",
       "    (1): ReLU(inplace=True)\n",
       "    (2): Conv2d(64, 64, kernel_size=(3, 3), stride=(1, 1), padding=(1, 1))\n",
       "    (3): ReLU(inplace=True)\n",
       "    (4): MaxPool2d(kernel_size=2, stride=2, padding=0, dilation=1, ceil_mode=False)\n",
       "    (5): Conv2d(64, 128, kernel_size=(3, 3), stride=(1, 1), padding=(1, 1))\n",
       "    (6): ReLU(inplace=True)\n",
       "    (7): Conv2d(128, 128, kernel_size=(3, 3), stride=(1, 1), padding=(1, 1))\n",
       "    (8): ReLU(inplace=True)\n",
       "    (9): MaxPool2d(kernel_size=2, stride=2, padding=0, dilation=1, ceil_mode=False)\n",
       "    (10): Conv2d(128, 256, kernel_size=(3, 3), stride=(1, 1), padding=(1, 1))\n",
       "    (11): ReLU(inplace=True)\n",
       "    (12): Conv2d(256, 256, kernel_size=(3, 3), stride=(1, 1), padding=(1, 1))\n",
       "    (13): ReLU(inplace=True)\n",
       "    (14): Conv2d(256, 256, kernel_size=(3, 3), stride=(1, 1), padding=(1, 1))\n",
       "    (15): ReLU(inplace=True)\n",
       "    (16): MaxPool2d(kernel_size=2, stride=2, padding=0, dilation=1, ceil_mode=False)\n",
       "    (17): Conv2d(256, 512, kernel_size=(3, 3), stride=(1, 1), padding=(1, 1))\n",
       "    (18): ReLU(inplace=True)\n",
       "    (19): Conv2d(512, 512, kernel_size=(3, 3), stride=(1, 1), padding=(1, 1))\n",
       "    (20): ReLU(inplace=True)\n",
       "    (21): Conv2d(512, 512, kernel_size=(3, 3), stride=(1, 1), padding=(1, 1))\n",
       "    (22): ReLU(inplace=True)\n",
       "    (23): MaxPool2d(kernel_size=2, stride=2, padding=0, dilation=1, ceil_mode=False)\n",
       "    (24): Conv2d(512, 512, kernel_size=(3, 3), stride=(1, 1), padding=(1, 1))\n",
       "    (25): ReLU(inplace=True)\n",
       "    (26): Conv2d(512, 512, kernel_size=(3, 3), stride=(1, 1), padding=(1, 1))\n",
       "    (27): ReLU(inplace=True)\n",
       "    (28): Conv2d(512, 512, kernel_size=(3, 3), stride=(1, 1), padding=(1, 1))\n",
       "    (29): ReLU(inplace=True)\n",
       "    (30): MaxPool2d(kernel_size=2, stride=2, padding=0, dilation=1, ceil_mode=False)\n",
       "  )\n",
       "  (avgpool): AdaptiveAvgPool2d(output_size=(7, 7))\n",
       "  (classifier): Sequential(\n",
       "    (0): Linear(in_features=25088, out_features=4096, bias=True)\n",
       "    (1): ReLU(inplace=True)\n",
       "    (2): Dropout(p=0.5, inplace=False)\n",
       "    (3): Linear(in_features=4096, out_features=4096, bias=True)\n",
       "    (4): ReLU(inplace=True)\n",
       "    (5): Dropout(p=0.5, inplace=False)\n",
       "  )\n",
       ")"
      ]
     },
     "execution_count": 6,
     "metadata": {},
     "output_type": "execute_result"
    }
   ],
   "source": [
    "model_vgg16 = vgg16(weights=\"IMAGENET1K_V1\")\n",
    "#model_vgg16.features.pop(0)\n",
    "model_vgg16.classifier.pop(6)\n",
    "model_vgg16.to(device)\n",
    "#print(model_vgg16)"
   ]
  },
  {
   "cell_type": "code",
   "execution_count": 7,
   "metadata": {},
   "outputs": [],
   "source": [
    "def metrics(label, prediction): #TypeError: Singleton array tensor(3) cannot be considered a valid collection.\n",
    "    \n",
    "    label= np.array(label.cpu())\n",
    "\n",
    "    predictions_np = prediction.cpu().detach().numpy()\n",
    "    #y_pred' parameter of f1_score must be an array-like or a sparse matrix. Got 7 instead.\n",
    "    predicted_classes = np.argmax(predictions_np, axis=0)\n",
    "    #print('metrics Label:   ', label)\n",
    "    #print('metrics prediction   ', predicted_classes)\n",
    "    #avg_f1_score = f1_score(label, predictions_np, average='macro')\n",
    "    acc = accuracy_score(label, predicted_classes)\n",
    "    \n",
    "    return acc"
   ]
  },
  {
   "cell_type": "code",
   "execution_count": 8,
   "metadata": {},
   "outputs": [],
   "source": [
    "def preprocess_im(img):\n",
    "    IP = ImageProcessor(device='cpu')\n",
    "    if isinstance(img, str):\n",
    "        img = cv2.imread(img_path) #\n",
    "    #imgx = img.shape[0]\n",
    "    #imgy = img.shape[1]\n",
    "    #img = img.reshape(imgx, imgy,1)\n",
    "    #img = IP.blank_padding(img, (224,224))\n",
    "    img = IP.to_tensor(img).to(device)\n",
    "    return img"
   ]
  },
  {
   "cell_type": "code",
   "execution_count": 9,
   "metadata": {},
   "outputs": [
    {
     "data": {
      "text/plain": [
       "\"file_path = r'/its/home/nn268/antvis/antvis/optics/AugmentedDS_IDSW/'\\nrandom_seed =1\\nimg_len = len(os.listdir(file_path))\\n\\n\\n#print(ids[4])\\nx, y = import_imagedata(file_path)\\n\\nx_train, x_test, y_train, y_tests = train_test_split(x,y, test_size=0.2, train_size=0.8,\\n                                 random_state=random_seed, shuffle=True)\\nx_train, x_val, y_train, y_val = train_test_split(x_train,y_train, test_size=0.1, train_size=0.8,\\n                                 random_state=random_seed, shuffle=True)\""
      ]
     },
     "execution_count": 9,
     "metadata": {},
     "output_type": "execute_result"
    }
   ],
   "source": [
    "# get len of \n",
    "\n",
    "\"\"\"file_path = r'/its/home/nn268/antvis/antvis/optics/AugmentedDS_IDSW/'\n",
    "random_seed =1\n",
    "img_len = len(os.listdir(file_path))\n",
    "\n",
    "\n",
    "#print(ids[4])\n",
    "x, y = import_imagedata(file_path)\n",
    "\n",
    "x_train, x_test, y_train, y_tests = train_test_split(x,y, test_size=0.2, train_size=0.8,\n",
    "                                 random_state=random_seed, shuffle=True)\n",
    "x_train, x_val, y_train, y_val = train_test_split(x_train,y_train, test_size=0.1, train_size=0.8,\n",
    "                                 random_state=random_seed, shuffle=True)\"\"\"\n"
   ]
  },
  {
   "cell_type": "code",
   "execution_count": 10,
   "metadata": {
    "scrolled": true
   },
   "outputs": [
    {
     "name": "stderr",
     "output_type": "stream",
     "text": [
      "\u001b[34m\u001b[1mwandb\u001b[0m: Currently logged in as: \u001b[33mnaughticalnonsence\u001b[0m (\u001b[33mantvis\u001b[0m). Use \u001b[1m`wandb login --relogin`\u001b[0m to force relogin\n"
     ]
    },
    {
     "data": {
      "text/plain": [
       "True"
      ]
     },
     "execution_count": 10,
     "metadata": {},
     "output_type": "execute_result"
    }
   ],
   "source": [
    "wandb.login()"
   ]
  },
  {
   "cell_type": "code",
   "execution_count": 11,
   "metadata": {},
   "outputs": [],
   "source": [
    "title = f'IDSW_VGG16_fine_MNIST_testteest_290124'\n",
    "save_dict = {'Run' : title,\n",
    "            'Current_Epoch': 0}\n",
    "                #r'/its/home/nn268/antvis/optics/\n",
    "save_location = r'pickles/'#pickles"
   ]
  },
  {
   "cell_type": "code",
   "execution_count": 12,
   "metadata": {},
   "outputs": [
    {
     "data": {
      "text/plain": [
       "'IDSW_VGG16_fine_MNIST_testteest_290124'"
      ]
     },
     "execution_count": 12,
     "metadata": {},
     "output_type": "execute_result"
    }
   ],
   "source": [
    "save_dict['Run']"
   ]
  },
  {
   "cell_type": "code",
   "execution_count": 13,
   "metadata": {},
   "outputs": [],
   "source": [
    "class Squeeze(nn.Module):\n",
    "    def __init__(self):\n",
    "        super(Squeeze, self).__init__()\n",
    "    \n",
    "    def forward(self, x):\n",
    "        # Do your print / debug stuff here\n",
    "        x = x.squeeze(0)\n",
    "        return x"
   ]
  },
  {
   "cell_type": "code",
   "execution_count": 14,
   "metadata": {},
   "outputs": [],
   "source": [
    "\n",
    "\"\"\"run_title = title#\"IDSW_vgg_fine_MNISTtest_122023\"\n",
    "\n",
    "config = {\n",
    "    'method': 'random',\n",
    "    'metric':{\n",
    "        'goal': 'minimize',\n",
    "        'name': 'val_loss'},\n",
    "    'parameters': {\n",
    "        #'dropout':{\n",
    "        #    'values': [0.5, 0.4, 0.3]\n",
    "        #},\n",
    "        'epochs':{\n",
    "            'value': 20\n",
    "        },\n",
    "\n",
    "        'first_lin_lay':{\n",
    "            'values':[248832]\n",
    "        },\n",
    "        'optimizer': {\n",
    "            'values': ['adam']\n",
    "        },\n",
    "        'learning_rate': {\n",
    "                # a flat distribution between 0 and 0.1\n",
    "                'distribution': 'log_uniform_values',\n",
    "                'min': 1e-6,\n",
    "                'max': 1e-3\n",
    "            },\n",
    "        'loss_fn': {\n",
    "            'values': ['CrossEntropy', 'MSE'] #'MSE', \n",
    "        },\n",
    "        'data_set':{\n",
    "            'values':['Augmented']\n",
    "        },\n",
    "            'scheduler': {\n",
    "            'values': [0.2] #0.1,0.2, 0.01, 0.001\n",
    "        },\n",
    "        'ks': {\n",
    "            'values': [(3,5)]\n",
    "        },\n",
    "        'channels':{\n",
    "            'values': [3]\n",
    "        },\n",
    "        'weight_decay': {\n",
    "            'values' :[0.5]},\n",
    "        'dropout' :{\n",
    "            'values': [0.2]\n",
    "        },\n",
    "        'num_classes': {\n",
    "            'values': [10]\n",
    "        },\n",
    "        'model_name' : {'values': ['vgg16net_mlp']},\n",
    "        'channels' : {'values': [3]},\n",
    "        'image_path': {\n",
    "            'values': [r'/its/home/nn268/antvis/antvis/optics/AugmentedDS_IDSW/']\n",
    "        }\n",
    "        }\n",
    "    }\n",
    "sweep_id = wandb.sweep(config, project=f\"{run_title}\")\n",
    "\"\"\"\n",
    "col_dict = {\n",
    "    'colour': 'colour',\n",
    "    'size': [113,36],\n",
    "    'padding': 5,\n",
    "    'model_size': 'resnet'\n",
    "}\n",
    "\n",
    "config = dict(\n",
    "    epochs= 120, #30, \n",
    "    learning_rate =1e-5,\n",
    "    architecture ='CNN',\n",
    "    optimizer= 'adam',\n",
    "    weight_decay= 4e-5,\n",
    "    ks = (3,5),\n",
    "    scheduler=0.2,\n",
    "    f_lin_lay = 2048,#8192,#5958,#65536,#8192,#7168, #1024*7 = 7168\n",
    "    dataset = 'IDSW_Aug',\n",
    "    loss_fn = 'CrossEntropy',\n",
    "    model = \"vgg16\"\n",
    "    \n",
    ")\n",
    "\n",
    "\n",
    "title = f\"IDSWAug_vgg16_e120_{col_dict['size']}_120224\"\n"
   ]
  },
  {
   "cell_type": "code",
   "execution_count": 15,
   "metadata": {},
   "outputs": [],
   "source": [
    "class PrintLayer(nn.Module):\n",
    "    def __init__(self):\n",
    "        super(PrintLayer, self).__init__()\n",
    "    \n",
    "    def forward(self, x):\n",
    "        # Do your print / debug stuff here\n",
    "        print(x.shape)\n",
    "        return x"
   ]
  },
  {
   "cell_type": "code",
   "execution_count": 16,
   "metadata": {},
   "outputs": [
    {
     "data": {
      "text/plain": [
       "\"from keras.preprocessing.image import img_to_array, array_to_img\\nfrom functions import ImageProcessor\\n\\nIP= ImageProcessor(device)\\n\\ndef preprocessMNIST():\\n    #load data\\n    (x_train, y_train), (x_test, y_test) = mnist.load_data()\\n    x_train, x_val,y_train,  y_val = train_test_split(x_train, y_train, test_size=0.2, shuffle=True)\\n    #print(x_train.shape,x_test.shape, x_val.shape)\\n    #print(len(x_train))\\n    #print('1')\\n    #IP.view(x_train[0],5)\\n\\n\\n    def convert(data): # convert greyscale image to a 3d gray image\\n        data_list = []\\n        for i in data:\\n            i = cv2.resize(i, (48,48))\\n            i = cv2.cvtColor(i, cv2.COLOR_GRAY2BGR)\\n            #print(type(i))\\n            data_list.append(i)\\n        data = np.array(data_list)\\n        return data\\n\\n\\n    x_train = convert(x_train)\\n    x_val = convert(x_val)\\n    x_test = convert(x_test)\\n    #print('post convert',x_train[0].shape)\\n    \\n    # normalise pixel vals\\n    x_train = [i/ 255 for i in x_train]\\n    x_test = [i/ 255 for i in x_test]\\n    x_val = [i/ 255 for i in x_val]\\n    \\n    # ensure array\\n    x_train= np.array(x_train)\\n    x_test= np.array(x_test)\\n    x_val= np.array(x_val)\\n    #print(type(x_train))\\n    #print('norm \\n', x_train[0].shape, type(x_train),'\\n', len(x_train))\\n    #IP.view(x_train[0],5)\\n\\n    # convert to float 32\\n    x_train = x_train.astype('float32')\\n    x_test = x_test.astype('float32')\\n    x_val = x_val.astype('float32')\\n    #print('flaot', x_train.shape, type(x_train), '\\n')\\n    #IP.view(x_train[0],5)\\n    return x_train,y_train, x_val, y_val,  x_test, y_test\""
      ]
     },
     "execution_count": 16,
     "metadata": {},
     "output_type": "execute_result"
    }
   ],
   "source": [
    "\"\"\"from keras.preprocessing.image import img_to_array, array_to_img\n",
    "from functions import ImageProcessor\n",
    "\n",
    "IP= ImageProcessor(device)\n",
    "\n",
    "def preprocessMNIST():\n",
    "    #load data\n",
    "    (x_train, y_train), (x_test, y_test) = mnist.load_data()\n",
    "    x_train, x_val,y_train,  y_val = train_test_split(x_train, y_train, test_size=0.2, shuffle=True)\n",
    "    #print(x_train.shape,x_test.shape, x_val.shape)\n",
    "    #print(len(x_train))\n",
    "    #print('1')\n",
    "    #IP.view(x_train[0],5)\n",
    "\n",
    "\n",
    "    def convert(data): # convert greyscale image to a 3d gray image\n",
    "        data_list = []\n",
    "        for i in data:\n",
    "            i = cv2.resize(i, (48,48))\n",
    "            i = cv2.cvtColor(i, cv2.COLOR_GRAY2BGR)\n",
    "            #print(type(i))\n",
    "            data_list.append(i)\n",
    "        data = np.array(data_list)\n",
    "        return data\n",
    "\n",
    "\n",
    "    x_train = convert(x_train)\n",
    "    x_val = convert(x_val)\n",
    "    x_test = convert(x_test)\n",
    "    #print('post convert',x_train[0].shape)\n",
    "    \n",
    "    # normalise pixel vals\n",
    "    x_train = [i/ 255 for i in x_train]\n",
    "    x_test = [i/ 255 for i in x_test]\n",
    "    x_val = [i/ 255 for i in x_val]\n",
    "    \n",
    "    # ensure array\n",
    "    x_train= np.array(x_train)\n",
    "    x_test= np.array(x_test)\n",
    "    x_val= np.array(x_val)\n",
    "    #print(type(x_train))\n",
    "    #print('norm \\n', x_train[0].shape, type(x_train),'\\n', len(x_train))\n",
    "    #IP.view(x_train[0],5)\n",
    "\n",
    "    # convert to float 32\n",
    "    x_train = x_train.astype('float32')\n",
    "    x_test = x_test.astype('float32')\n",
    "    x_val = x_val.astype('float32')\n",
    "    #print('flaot', x_train.shape, type(x_train), '\\n')\n",
    "    #IP.view(x_train[0],5)\n",
    "    return x_train,y_train, x_val, y_val,  x_test, y_test\"\"\""
   ]
  },
  {
   "cell_type": "code",
   "execution_count": 17,
   "metadata": {},
   "outputs": [],
   "source": [
    "def plot_grad_flow(model):\n",
    "\n",
    "    #### This function, used specifically for the visualisation of gradient flow, was found in the following stackoverflow thread:\n",
    "    # https://stackoverflow.com/questions/70394788/pytorch-adam-optimizer-dramatically-cuts-gradient-flow-compared-to-sgd\n",
    "    #model = deepcopy(model).to('cpu')\n",
    "    #print(model)\n",
    "    model = model.to('cpu')\n",
    "    named_parameters = model.named_parameters()\n",
    "    #print(named_parameters)\n",
    "    \n",
    "    ave_grads = []\n",
    "    max_grads= []\n",
    "    layers = []\n",
    "    for n, p in named_parameters:\n",
    "        #print(n,p)\n",
    "        if(p.requires_grad) and (\"bias\" not in n):\n",
    "            layers.append(n)\n",
    "            #print('gradddssss', p.grad)\n",
    "            #print('p: ', p)\n",
    "            ave_grads.append(p.grad.abs().mean())\n",
    "            max_grads.append(p.grad.abs().max())\n",
    "    plt.bar(np.arange(len(max_grads)), max_grads, alpha=0.1, lw=1, color=\"c\")\n",
    "    plt.bar(np.arange(len(max_grads)), ave_grads, alpha=0.1, lw=1, color=\"b\")\n",
    "    plt.hlines(0, 0, len(ave_grads)+1, lw=2, color=\"k\" )\n",
    "    plt.xticks(range(0,len(ave_grads), 1), layers, rotation=\"vertical\")\n",
    "    plt.xlim(left=0, right=len(ave_grads))\n",
    "    plt.ylim(bottom = -0.001, top=1) #  top=0.02) # zoom in on the lower gradient regions\n",
    "    plt.xlabel(\"Layers\")\n",
    "    plt.ylabel(\"average gradient\")\n",
    "    plt.title(\"Gradient flow\")\n",
    "    plt.grid(True)\n",
    "    return model.to(device)"
   ]
  },
  {
   "cell_type": "code",
   "execution_count": 18,
   "metadata": {},
   "outputs": [],
   "source": [
    "from architectures import PrintLayer, Flattern\n",
    "def train(device,col_dict, save_dict, config=None):\n",
    "    # lists for save dict\n",
    "    t_loss_list = []\n",
    "    v_loss_list =[]\n",
    "    t_predict_list = []\n",
    "    t_label_list = []\n",
    "    v_predict_list = []\n",
    "    v_label_list = []\n",
    "    t_accuracy_list= []\n",
    "    v_accuracy_list= []\n",
    "    \n",
    "    with wandb.init(config=config):\n",
    "        config = wandb.config\n",
    "\n",
    "        x_train, y_train, x_val, y_val, x_test, y_test = get_data(file_path= r'/its/home/nn268/antvis/antvis/optics/AugmentedDS_IDSW/', seed= random.randint(0, 50))\n",
    "        \n",
    "        \n",
    "        #x_train_loader = IDSWDataSetLoader(x_train, y_train, col_dict=col_dict, device=device) #x_train, y_train, col_dict=col_dict, device=device\n",
    "        #train_loader = DataLoader(x_train_loader, shuffle=True, batch_size=4)\n",
    "        #x_test_loader = IDSWDataSetLoader(x_test, y_test, col_dict=col_dict, device=device)\n",
    "        #train_loader = DataLoader(x_test_loader, shuffle=True, batch_size=4)\n",
    "        #x_val_loader = IDSWDataSetLoader(x_val, y_val, col_dict=col_dict, device=device)\n",
    "        #train_loader = DataLoader(x_val_loader, shuffle=True, batch_size=4)\n",
    "        \n",
    "        #model =smallnet3(in_chan=3, f_lin_lay=67968, l_lin_lay=11, ks=(3,5)).to(device) #10368\n",
    "        vgg = nn.Sequential(\n",
    "            #nn.Conv2d(1, 64, kernel_size=(3,3), stride=(1,1), padding=(1,1)),#(0): Conv2d(3, 64, kernel_size=(3, 3), stride=(1, 1), padding=(1, 1))\n",
    "            #PrintLayer(),\n",
    "            model_vgg16,\n",
    "            Squeeze(),\n",
    "            nn.Linear(4096,11), # change to 10\n",
    "            nn.Softmax(dim=0),\n",
    "        )\n",
    "    \n",
    "        vgg.to(device)\n",
    "        model=vgg\n",
    "        \n",
    "        if config.loss_fn == 'MSE':\n",
    "            loss_fn = nn.MSELoss()\n",
    "        elif config.loss_fn == 'CrossEntropy':\n",
    "            loss_fn = nn.CrossEntropyLoss()\n",
    "\n",
    "        e_count = 0\n",
    "         # *\n",
    "\n",
    "        optimizer = build_optimizer(model, config.optimizer, config.learning_rate, config.weight_decay)\n",
    "\n",
    "        for epoch in tqdm(range(config.epochs)):\n",
    "            # current_loss, predict_list, num_correct, label_list, model, optimizer\n",
    "            #t_loss, t_predict_list_, t_num_correct, t_label_list_, model, optimizer = batch_loop(model, train_loader, epoch, loss_fn, device, col_dict, num_classes=11, optimizer=optimizer)\n",
    "            t_loss, t_predict_list_, t_num_correct, t_label_list_, model, optimizer = res_loop(model, x_train, y_train, epoch, loss_fn, device, col_dict, num_classes=11, optimizer=optimizer)\n",
    "\n",
    "            t_accuracy = (t_num_correct /len(x_train))*100\n",
    "            t_loss_list.append(t_loss)\n",
    "            t_predict_list.append(t_predict_list_)\n",
    "            t_label_list.append(t_label_list_)\n",
    "            t_accuracy_list.append(t_accuracy)\n",
    "\n",
    "            #v_loss, v_predict_list_, v_num_correct, v_label_list_= batch_loop(model, x_val_loader, epoch, loss_fn, device,col_dict,num_classes=11, train=False)\n",
    "            v_loss, v_predict_list_, v_num_correct, v_label_list_= res_loop(model, x_val, y_val, epoch, loss_fn, device,col_dict,num_classes=11, train=False)\n",
    "\n",
    "            v_accuracy= (v_num_correct / len(x_val))*100\n",
    "            v_loss_list.append(v_loss)\n",
    "            v_predict_list.append(v_predict_list_)\n",
    "            v_label_list.append(v_label_list_)\n",
    "            v_accuracy_list.append(v_accuracy)\n",
    "\n",
    "            t_avg_loss =t_loss/len(x_train)\n",
    "            v_avg_loss = v_loss /len(x_val)\n",
    "\n",
    "            e_count +=1\n",
    "            # logging\n",
    "            wandb.log({'avg_train_loss': t_avg_loss, 'epoch':epoch})\n",
    "            wandb.log({'avg_val_loss': v_avg_loss, 'epoch':epoch})\n",
    "\n",
    "            wandb.log({'train_loss': t_loss, 'epoch':epoch})\n",
    "            wandb.log({'val_loss': v_loss, 'epoch':epoch})\n",
    "\n",
    "            wandb.log({'train_correct': t_num_correct, 'epoch':epoch})\n",
    "            wandb.log({'val_correct': v_num_correct, 'epoch':epoch})\n",
    "\n",
    "            wandb.log({'train_accuracy_%': t_accuracy, 'epoch':epoch})\n",
    "            wandb.log({'val_accuracy_%': v_accuracy, 'epoch':epoch})\n",
    "\n",
    "            wandb.log({'t_labels': t_label_list, 'epoch':epoch})\n",
    "            wandb.log({'v_labels': v_label_list, 'epoch':epoch})\n",
    "\n",
    "            wandb.log({'t_predictions': t_predict_list, 'epoch':epoch})\n",
    "            wandb.log({'v_predictions': v_predict_list, 'epoch':epoch})\n",
    "\n",
    "            # add lists to save dict after all epochs run\n",
    "    save_dict['Current_Epoch'] = config['epochs']\n",
    "    save_dict['training_samples'] = len(x_train)# should this be the whole list for future graphs...?\n",
    "    save_dict['validation_samples'] = len(x_val)\n",
    "    save_dict['t_loss_list'] = t_loss_list #[c.to('cpu') for c in t_loss_list]\n",
    "    save_dict['t_predict_list'] = [[c.to('cpu') for c in k]for k in t_predict_list] #[[c.to('cpu') for c in k]for k in t_predict_list]  # [c.to('cpu') for c in t_predict_list] \n",
    "    save_dict['t_accuracy_list'] = t_accuracy_list #\n",
    "    save_dict['v_loss_list'] = v_loss_list #[c.to('cpu') for c in v_loss_list]\n",
    "    save_dict['v_predict_list'] = [[c.to('cpu') for c in k]for k in v_predict_list]#[[c.to('cpu') for c in k]for k in v_predict_list] # [c.to('cpu') for c in v_predict_list]\n",
    "    save_dict['v_accuracy_list'] = v_accuracy_list #\n",
    "    save_dict['t_labels'] = t_label_list #[[c.to('cpu') for c in k]for k in t_label_list]\n",
    "    save_dict['v_labels'] = v_label_list #[[c.to('cpu') for c in k] for k in v_label_list]\n",
    "    \n",
    "    title = save_dict['Run']\n",
    "    #test_predictions, test_y, test_accuracy =           model, X, Y,         loss_fn, device, col_dict,title, num_classes\n",
    "    test_predictions, test_y, test_accuracy = test_loop_res(model, x_test, y_test, loss_fn, device, col_dict, title,num_classes=11)\n",
    "\n",
    "    save_dict['test_predictions']= [c.to('cpu') for c in test_predictions]\n",
    "    save_dict['test_labels'] = test_y\n",
    "    save_dict['test_acc'] = test_accuracy\n",
    "\n",
    "    \n",
    "    with open(f\"/its/home/nn268/antvis/antvis/optics/pickles/{title}.pkl\", 'wb+') as f:\n",
    "        pickle.dump(save_dict, f)\n",
    "        \n",
    "    return model"
   ]
  },
  {
   "cell_type": "code",
   "execution_count": 19,
   "metadata": {},
   "outputs": [],
   "source": [
    "# this run. works. crashed because of printing gradients."
   ]
  },
  {
   "cell_type": "code",
   "execution_count": null,
   "metadata": {
    "scrolled": true
   },
   "outputs": [
    {
     "data": {
      "text/html": [
       "wandb version 0.16.3 is available!  To upgrade, please run:\n",
       " $ pip install wandb --upgrade"
      ],
      "text/plain": [
       "<IPython.core.display.HTML object>"
      ]
     },
     "metadata": {},
     "output_type": "display_data"
    },
    {
     "data": {
      "text/html": [
       "Tracking run with wandb version 0.16.0"
      ],
      "text/plain": [
       "<IPython.core.display.HTML object>"
      ]
     },
     "metadata": {},
     "output_type": "display_data"
    },
    {
     "data": {
      "text/html": [
       "Run data is saved locally in <code>/its/home/nn268/antvis/antvis/optics/wandb/run-20240213_155536-i2rabsa8</code>"
      ],
      "text/plain": [
       "<IPython.core.display.HTML object>"
      ]
     },
     "metadata": {},
     "output_type": "display_data"
    },
    {
     "data": {
      "text/html": [
       "Syncing run <strong><a href='https://wandb.ai/antvis/antvis-optics_antvis_antvis_optics/runs/i2rabsa8' target=\"_blank\">scintillating-bao-257</a></strong> to <a href='https://wandb.ai/antvis/antvis-optics_antvis_antvis_optics' target=\"_blank\">Weights & Biases</a> (<a href='https://wandb.me/run' target=\"_blank\">docs</a>)<br/>"
      ],
      "text/plain": [
       "<IPython.core.display.HTML object>"
      ]
     },
     "metadata": {},
     "output_type": "display_data"
    },
    {
     "data": {
      "text/html": [
       " View project at <a href='https://wandb.ai/antvis/antvis-optics_antvis_antvis_optics' target=\"_blank\">https://wandb.ai/antvis/antvis-optics_antvis_antvis_optics</a>"
      ],
      "text/plain": [
       "<IPython.core.display.HTML object>"
      ]
     },
     "metadata": {},
     "output_type": "display_data"
    },
    {
     "data": {
      "text/html": [
       " View run at <a href='https://wandb.ai/antvis/antvis-optics_antvis_antvis_optics/runs/i2rabsa8' target=\"_blank\">https://wandb.ai/antvis/antvis-optics_antvis_antvis_optics/runs/i2rabsa8</a>"
      ],
      "text/plain": [
       "<IPython.core.display.HTML object>"
      ]
     },
     "metadata": {},
     "output_type": "display_data"
    },
    {
     "name": "stderr",
     "output_type": "stream",
     "text": [
      " 70%|▋| 84/120 [1:06:05"
     ]
    }
   ],
   "source": [
    "#model,save_dict = pipeline(config) #7,168\n",
    "model = train(device,col_dict, save_dict, config=config)\n",
    "\"\"\"def tr(config=None):\n",
    "    with wandb.init(config=config):\n",
    "        config = wandb.config\n",
    "        model, save_dict = pipeline(config)\n",
    "        \n",
    "\n",
    "wandb.agent(sweep_id, tr, count=2)\"\"\""
   ]
  },
  {
   "cell_type": "code",
   "execution_count": null,
   "metadata": {},
   "outputs": [],
   "source": [
    "!nvidia-smi"
   ]
  },
  {
   "cell_type": "code",
   "execution_count": null,
   "metadata": {},
   "outputs": [],
   "source": [
    "# confusion matrix\n",
    "\n",
    "import seaborn as sns\n",
    "\n",
    "def plot_confusion(predictions:list, actual:list, title:str):\n",
    "    predict_list = [int(t.argmax()) for t in predictions]\n",
    "    actual = [int(l.argmax()) for l in actual]\n",
    "\n",
    "    actual = np.array(actual)\n",
    "    predict_list = np.array(predict_list)\n",
    "\n",
    "\n",
    "    #FixedLocator locations (3), usually from a call to set_ticks, does not match the number of labels (11).\n",
    "    print(f'\\n     {title}')\n",
    "    train_epoch_matrix = confusion_matrix(actual, predict_list, labels= [0,1,2,3,4,5,6,7,8,9,10])\n",
    "    disp= ConfusionMatrixDisplay(train_epoch_matrix, display_labels=[0,1,2,3,4,5,6,7,8,9,10])\n",
    "    disp.plot()\n",
    "    plt.show()\n",
    "\n",
    "def sns_heatmap(pred, actual, title): #Can't call numpy() on Tensor that requires grad. Use tensor.detach().numpy() instead\n",
    "    pred = [int(i.argmax().detach().numpy()) for i in pred]\n",
    "    actual = [int(i.argmax().detach().numpy()) for i in actual]\n",
    "    data = {'prediction':pred, 'actual':actual}\n",
    "    data = pd.DataFrame(data)\n",
    "    #data = (pred,actual)\n",
    "    f, ax = plt.subplots(figsize=(9,6))\n",
    "    sns.heatmap(data, cmap=sns.color_palette('pastel'), annot=True, cbar=True, ax=ax)\n",
    "    "
   ]
  },
  {
   "cell_type": "code",
   "execution_count": null,
   "metadata": {},
   "outputs": [],
   "source": [
    "save_dict.keys()\n",
    "print(save_dict['Run'])"
   ]
  },
  {
   "cell_type": "code",
   "execution_count": null,
   "metadata": {
    "scrolled": true
   },
   "outputs": [],
   "source": [
    "print(type(t_predict))\n",
    "#[print(type(i)) for i in t_predict]\n",
    "import pandas as pd \n",
    "pred = [int(i.argmax().detach().numpy()) for i in t_predict]\n",
    "actual = [int(i.argmax().detach().numpy() )for i in t_labels]\n",
    "#print(len(pred))\n",
    "#print(len(actual))\n",
    "\n",
    "for i in pred:\n",
    "    print(type(i))\n",
    "    break\n",
    "#df = {'prediction': pred, 'actual': actual}\n",
    "#df = pd.DataFrame(df)\n",
    "#print(df[:3])"
   ]
  },
  {
   "cell_type": "code",
   "execution_count": null,
   "metadata": {},
   "outputs": [],
   "source": [
    "t_predict = save_dict['t_predict_list']\n",
    "t_labels = save_dict['t_labels']\n",
    "\n",
    "v_predict = save_dict['v_predict_list'] # WHY IS THERE NOTHING IN V OREDICT LIST!\n",
    "v_labels = save_dict['v_labels']\n",
    "\n",
    "#plot_confusion(t_predict, t_labels, 'Train Confusion Matrix', )\n",
    "#plot_confusion(v_predict, v_labels, 'Validation Confusion Matrix')"
   ]
  },
  {
   "cell_type": "code",
   "execution_count": null,
   "metadata": {},
   "outputs": [],
   "source": [
    "sns_heatmap(t_predict, t_labels, title='sns heat')"
   ]
  },
  {
   "cell_type": "code",
   "execution_count": null,
   "metadata": {},
   "outputs": [],
   "source": [
    "\"\"\"def pipeline(config): \n",
    "    \n",
    "    vgg = nn.Sequential(\n",
    "            #nn.Conv2d(1, 64, kernel_size=(3,3), stride=(1,1), padding=(1,1)),#(0): Conv2d(3, 64, kernel_size=(3, 3), stride=(1, 1), padding=(1, 1))\n",
    "            #PrintLayer(),\n",
    "            model_vgg16,\n",
    "            Squeeze(),\n",
    "            nn.Linear(4096,10), # change to 10\n",
    "            nn.Softmax(dim=0),\n",
    "        )\n",
    "    title = f'IDSW_VGG16_fine_MNIST_test_122023'\n",
    "    save_dict = {'Run' : title,\n",
    "                 'Current_Epoch': 0,\n",
    "save_location : r'pickles/'}\n",
    "    \n",
    "    vgg.to(device)\n",
    "    \n",
    "    #!nvidia-smi\n",
    "    \n",
    "    loss_list=[]\n",
    "    #loss_fn = nn.CrossEntropyLoss()\n",
    "    #loss_fn = nn.MSELoss()\n",
    "    with wandb.init(project=title, config=config):\n",
    "        config = wandb.config\n",
    "        x_train,y_train, x_val, y_val,  x_test, y_test = preprocessMNIST()\n",
    "        data= (x_train,y_train, x_val, y_val,  x_test, y_test)\n",
    "        \n",
    "    \n",
    "        model = vgg\n",
    "        optimizer = build_optimizer(model, config.optimizer, config.learning_rate, config.weight_decay)\n",
    "                                    # 'seed', 'model', 'loss_fn', 'optimizer', and 'scheduler'\n",
    "        model, save_dict = hp_sweep(config, col_dict,save_dict, device, best_acc=0, data=data, seed=5, model=model, loss_fn ='CrossEntropy', optimizer = optimizer, scheduler=0.2) #train_model(model,x_train, x_val, y_train, y_val, config) #train_dl, val_dl\n",
    "\n",
    "    return model, save_dict\"\"\""
   ]
  },
  {
   "cell_type": "code",
   "execution_count": null,
   "metadata": {},
   "outputs": [],
   "source": [
    "\"\"\"model =nn.Sequential(\n",
    "    PrintLayer(),\n",
    "    model_vgg16,\n",
    "    PrintLayer(),\n",
    "    Squeeze(),\n",
    "    PrintLayer(),\n",
    "    nn.Linear(4096,11),\n",
    "    PrintLayer(),\n",
    "    nn.Softmax(dim=0),\n",
    "    PrintLayer()\n",
    "\n",
    ").to(device)\"\"\""
   ]
  },
  {
   "cell_type": "code",
   "execution_count": null,
   "metadata": {},
   "outputs": [],
   "source": [
    "\n",
    "\"\"\"\n",
    "def train_model(model,  x_train, x_val, y_train, y_val, config, best_acc=0): #train_dl, val_dl, \n",
    "    #wandb.watch(model, log='all', log_freq=10)\n",
    "    \n",
    "    loss_fn = set_lossfn(config.loss_fn) # ****\n",
    "    \n",
    "    lr = config['learning_rate'] #1e-5 #config.learning_rate\n",
    "    optimizer = torch.optim.Adam(model.parameters(), lr=lr)#build_optimizer(model, optimizer=torch.optim.Adam(model.parameters(), lr=lr))#config.optimizer, config.learning_rate, config.weight_decay)\n",
    "    scheduler = lr_scheduler.ExponentialLR(optimizer, gamma=config.scheduler, last_epoch=-1) #gamma=config.scheduler, last_epoch=-1)\n",
    "                                                                    #scheduler'\n",
    "    ####\n",
    "\n",
    "    #model = model.to(device)\n",
    "    model.train()\n",
    "    \n",
    "    \n",
    "    #losses= []\n",
    "    #predictions = []\n",
    "    t_loss_list = []\n",
    "    v_loss_list = []\n",
    "    t_predict_list = []\n",
    "    v_predict_list = []\n",
    "    t_accuracy_list = []\n",
    "    v_accuracy_list = []\n",
    "    t_label_list = []\n",
    "    v_label_list = []\n",
    "    #labels = []\n",
    "    \n",
    "    total_epochs = 0\n",
    "    for epoch in tqdm(range(config['epochs'])): #config.epochs)):\n",
    "        print('E   ', epoch)\n",
    "        t_correct = 0\n",
    "        v_correct = 0\n",
    "    \n",
    "        if epoch == 0:\n",
    "            #model = model.to('cpu')\n",
    "            best_model = deepcopy(model)#.to(device)\n",
    "            #model = model.to(device)\n",
    "            \n",
    "            \n",
    "        #train_ids = random.shuffle(train_ids)\n",
    "        #print(type(train_ids))\n",
    "        print('training...')\n",
    "        for idx, img in enumerate(x_train): \n",
    "            model.train()\n",
    "            x = preprocess_im(img)\n",
    "            #x = x.to(device)\n",
    "            train_prediction = model.forward(x)\n",
    "            \n",
    "            y = label_oh_tf(y_train[idx], device=device, num_classes=10) # use same index val to index y (labels) and turn into onehot encoded label\n",
    "\n",
    "            \"\"\"\n",
    "            #if idx % 1000 == 0:\n",
    "            #print(idx, ' / ', len(x_train))\n",
    "            #!nvidia-smi\n",
    "            \"\"\"\n",
    "            #print(train_prediction, train_label)\n",
    "        \n",
    "        \n",
    "            t_loss = loss_fn(train_prediction, y)\n",
    "\n",
    "            if train_prediction.argmax() == y.argmax():\n",
    "                t_correct+=1\n",
    "\n",
    "            \n",
    "            optimizer.zero_grad()\n",
    "            t_loss.backward()\n",
    "            \n",
    "            if epoch == config['epochs']-1:\n",
    "                plot_grad_flow(model)\n",
    "            \n",
    "            optimizer.step()\n",
    "            scheduler.step()\n",
    "            \n",
    "            t_loss_list.append(t_loss.to('cpu'))\n",
    "            t_predict_list.append(train_prediction.to('cpu'))\n",
    "            t_label_list.append(y.to('cpu'))\n",
    "            \n",
    "        train_acc = (t_correct / len(x_train))\n",
    "        t_accuracy_list.append(train_acc)\n",
    "            \n",
    "            \n",
    "            \n",
    "        print('validating...')\n",
    "        \n",
    "        for idx, img in enumerate(x_val):\n",
    "            model.eval()\n",
    "            x = preprocess_im(img)\n",
    "            #x = x.to(device)\n",
    "            val_prediction = model.forward(x)\n",
    "            \n",
    "            y = label_oh_tf(y_val[idx], device=device, num_classes=10)\n",
    "            \"\"\"\n",
    "            #if idx % 100 == 0:\n",
    "            #    print(idx, ' / ', len(x_val))\n",
    "            #    !nvidia-smi\n",
    "            \"\"\"\n",
    "\n",
    "            v_loss = loss_fn(val_prediction, y)\n",
    "            \n",
    "            if val_prediction.argmax() == y.argmax():\n",
    "                v_correct +=1\n",
    "                \n",
    "\n",
    "            v_loss = v_loss.to('cpu')\n",
    "            v_loss_list.append(v_loss.item())\n",
    "            \n",
    "            \n",
    "            val_prediction = val_prediction.to('cpu')\n",
    "            v_predict_list.append(val_prediction.detach().numpy())\n",
    "            \n",
    "            v_label_list.append(y.to('cpu').detach().numpy())\n",
    "            \n",
    "        val_acc = (v_correct / len(y_val))\n",
    "        v_accuracy_list.append(val_acc)\n",
    "\n",
    "        wandb.log({'train_loss': t_loss, 'epoch':epoch})\n",
    "        wandb.log({'val_loss': v_loss, 'epoch':epoch})\n",
    "        wandb.log({'train_accuracy_%': train_acc, 'epoch':epoch})\n",
    "        wandb.log({'val_accuracy_%': val_acc, 'epoch':epoch})\n",
    "            \n",
    "        total_epochs += epoch\n",
    "\n",
    "        if val_acc > best_acc:\n",
    "    \n",
    "            #print('Start Of SAve -----------------------------')\n",
    "            #!nvidia-smi\n",
    "\n",
    "            best_acc = val_acc\n",
    "            \n",
    "            #model = model.to('cpu')\n",
    "            best_model = deepcopy(model)\n",
    "            best_model = best_model.to('cpu')\n",
    "            \n",
    "\n",
    "            \n",
    "            save_dict['Current_Epoch'] += config['epochs']\n",
    "            save_dict['training_samples'] = len(x_train)\n",
    "            save_dict['validation_samples'] = len(x_val)\n",
    "            save_dict['t_loss_list'] = t_loss_list\n",
    "            save_dict['t_predict_list'] = t_predict_list  \n",
    "            save_dict['t_accuracy_list'] = t_accuracy_list  #\n",
    "            save_dict['v_loss_list'] = v_loss_list\n",
    "            save_dict['v_predict_list'] = v_predict_list  #\n",
    "            save_dict['v_accuracy_list'] = v_accuracy_list  #\n",
    "            save_dict['t_labels'] = t_label_list\n",
    "            save_dict['v_labels'] = v_label_list\n",
    "            \n",
    "            model_architecture = [nn.Sequential(\n",
    "                            model_vgg16,\n",
    "                            Squeeze(),\n",
    "                            nn.Linear(4096,10),\n",
    "                            nn.Softmax(dim=0),\n",
    "                        )]\n",
    "\n",
    "            save_dict['model.state_dict'] = model.state_dict() #to('cpu').\n",
    "            save_dict['model_architecture_untrained'] = model_architecture\n",
    "\n",
    "            title = save_dict['Run']\n",
    "            with open(f'{save_location}{title}.pkl', 'wb+') as f:\n",
    "                pickle.dump(save_dict, f)\n",
    "            \n",
    "            print('improvment in metrics. model saved')\n",
    "\n",
    "            #print('END Of SAve -----------------------------')\n",
    "            #!nvidia-smi\n",
    "\n",
    "        \n",
    "\n",
    "        #if (epoch+1)%2==0:\n",
    "            #train_log(t_loss, v_loss, epoch)\n",
    "            #wandb.log({'train_accuracy_%': train_acc, 'epoch':epoch})\n",
    "            #wandb.log({'val_accuracy_%': val_acc, 'epoch':epoch})\n",
    "            \n",
    "    model = best_model\n",
    "    #labels = zip(t_label_list, v_label_list)\n",
    "    #losses = zip(t_loss_list, v_loss_list)\n",
    "    #predictions = zip(t_predict_list, v_predict_list)\n",
    "    return model,save_dict\n",
    "\n",
    "\n",
    "\n",
    "def pipeline(config): \n",
    "    \n",
    "    vgg = nn.Sequential(\n",
    "            #nn.Conv2d(1, 64, kernel_size=(3,3), stride=(1,1), padding=(1,1)),#(0): Conv2d(3, 64, kernel_size=(3, 3), stride=(1, 1), padding=(1, 1))\n",
    "            #PrintLayer(),\n",
    "            model_vgg16,\n",
    "            Squeeze(),\n",
    "            nn.Linear(4096,10), # change to 10\n",
    "            nn.Softmax(dim=0),\n",
    "        )\n",
    "    \n",
    "    #model_vgg16.to('cpu')\n",
    "    \n",
    "    vgg.to(device)\n",
    "    \n",
    "    #!nvidia-smi\n",
    "    \n",
    "    loss_list=[]\n",
    "    #loss_fn = nn.CrossEntropyLoss()\n",
    "    #loss_fn = nn.MSELoss()\n",
    "    with wandb.init(project=title, config=config):\n",
    "        config = wandb.config\n",
    "        x_train,y_train, x_val, y_val,  x_test, y_test = preprocessMNIST()\n",
    "        data= (x_train,y_train, x_val, y_val,  x_test, y_test)\n",
    "    \n",
    "        model = vgg\n",
    "\n",
    "        model, save_dict = hp_sweep(config, col_dict=None,save_dict, device, best_acc=0, data=data) #train_model(model,x_train, x_val, y_train, y_val, config) #train_dl, val_dl\n",
    "\n",
    "return model, save_dict\"\"\"\n"
   ]
  },
  {
   "cell_type": "code",
   "execution_count": null,
   "metadata": {},
   "outputs": [],
   "source": [
    "\n",
    "vgg = nn.Sequential(\n",
    "        model_vgg16,\n",
    "        Squeeze(),\n",
    "        nn.Linear(4096,11),\n",
    "        nn.Softmax(dim=0),\n",
    "    )\n",
    "\n",
    "#model_vgg16.to('cpu')\n",
    "\n",
    "vgg.to(device)\n",
    "next(vgg.parameters()).is_cuda"
   ]
  },
  {
   "cell_type": "code",
   "execution_count": null,
   "metadata": {},
   "outputs": [],
   "source": [
    "\n",
    "x = preprocess_im(x_train[0])\n",
    "\n",
    "\n",
    "train_prediction = model.forward(x)"
   ]
  },
  {
   "cell_type": "code",
   "execution_count": null,
   "metadata": {},
   "outputs": [],
   "source": [
    "model.to('cpu').state_dict()"
   ]
  }
 ],
 "metadata": {
  "kernelspec": {
   "display_name": "Python 3 (ipykernel)",
   "language": "python",
   "name": "python3"
  },
  "language_info": {
   "codemirror_mode": {
    "name": "ipython",
    "version": 3
   },
   "file_extension": ".py",
   "mimetype": "text/x-python",
   "name": "python",
   "nbconvert_exporter": "python",
   "pygments_lexer": "ipython3",
   "version": "3.10.12"
  }
 },
 "nbformat": 4,
 "nbformat_minor": 4
}
