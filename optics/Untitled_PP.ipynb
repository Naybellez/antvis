{
 "cells": [
  {
   "cell_type": "code",
   "execution_count": 1,
   "id": "ed19cb57-69db-40a1-83f6-190ca2016f1a",
   "metadata": {
    "tags": []
   },
   "outputs": [],
   "source": [
    "def padding(img, pad_size):\n",
    "\t\tleft_x = img[:,:pad_size,:] # h, w, c\n",
    "\t\tright_x = img[:,-pad_size:,:]\n",
    "\t\ty = img.shape[0]\n",
    "\t\tx = img.shape[1]+(pad_size*2)\n",
    "\t\tnew_x = np.full((y, x, 3),255) # h w c\n",
    "\t\tnew_x[:,:pad_size,:] = right_x\n",
    "\t\tnew_x[:,pad_size:-pad_size,:] = img\n",
    "\t\tnew_x[:,-pad_size:,:] = left_x\n",
    "\t\treturn new_x\n",
    "\n",
    "def luminance(img):\n",
    "    r,g,b = img[:,:,2], img[:,:,1], img[:,:,0]\n",
    "    lum =(0.114*b)+(0.587*g)+(0.299*r)\n",
    "    mean_lum = np.mean(lum)\n",
    "    return mean_lum\n",
    "    \n",
    "\"\"\"\n",
    "ValueError: could not broadcast input array from shape (224,224,3) into shape (0,224,3)\n",
    "blank padding (144, 452, 3)\n",
    "\"\"\"\n",
    "\"\"\"\n",
    "72, 226, 3\n",
    "(224, 72, 3\n",
    "\"\"\"\n",
    "def blank_padding(col_dict, img, size:list): #col_dict, q, (224,224)\n",
    "    print('blank padding',img.shape)\n",
    "    print(type(size))\n",
    "    img = cv2.resize(img, (col_dict['size'][0], col_dict['size'][1])) #(36,113,3) into shape (36,224,3)\n",
    "    print('img shape after resize', img.shape) #img shape (72, 226, 3)\n",
    "    \n",
    "    if img.shape[0] > size[0]:\n",
    "        print('img shape 0',img.shape[0])\n",
    "        img =cv2.resize(img, (img.shape[1],size[0]))\n",
    "        print('img smaller than 224 224: A ', img.shape)\n",
    "    if img.shape[1] > size[1]:\n",
    "        print('img shape 1',img.shape[1])\n",
    "        img =cv2.resize(img, (size[1], img.shape[0]))\n",
    "        print('img smaller than 224 224: B', img.shape)\n",
    "        #img.shape[1] = size[1]\n",
    "    w = size[1]\n",
    "\n",
    "    #w = w.shape[0]\n",
    "    h = size[0]\n",
    "    #h = h.shape[0]\n",
    "    delta_w = w -img.shape[1] #(36, 113, 3)\n",
    "    delta_h = h-img.shape[0]\n",
    "    print(w, '-', img.shape[1], '=',delta_w)\n",
    "    print(h, '-', img.shape[0], '=',delta_h)\n",
    "\n",
    "    #half_delta_h = int(np.round(delta_h/2, decimals=0))\n",
    "    #half_delta_w = int(np.round(delta_w/2, decimals=0))\n",
    "    \n",
    "    #if delta_h != 0:\n",
    "    half_delta_h = int(np.floor(delta_h/2))\n",
    "    #else:\n",
    "    #    half_delta_h = 1\n",
    "    #if delta_w != 0:\n",
    "    half_delta_w = int(np.floor(delta_w/2))\n",
    "    #else: half_delta_w =0\n",
    "    #numpy.place(target1_label, target1_label<50, 0)\n",
    "    \n",
    "    \n",
    "    print(delta_h,'   ',half_delta_h )\n",
    "    print(delta_w,'    ',half_delta_w)\n",
    "    avg_lum = int(luminance(img))\n",
    "    new_x = np.full((h,w,3), avg_lum) # 224,224,3\n",
    "    print('blank padding::',new_x.shape) #could not broadcast input array from shape (36,113,3) into shape (36,114,3)\n",
    "    if img.shape[1]%2 ==0: # 224\n",
    "        if img.shape[0]%2 == 0: #72\n",
    "            if half_delta_w == 0:\n",
    "                print('g')\n",
    "                new_x[:,:,:] = img #half_delta_h:-half_delta_h\n",
    "            else:\n",
    "                \n",
    "                \"\"\"\n",
    "                (224,224,3) into shape (0,224,3)\n",
    "                \"\"\"\n",
    "                print('a')\n",
    "                new_x[half_delta_h:-half_delta_h,half_delta_w:-half_delta_w,:] = img\n",
    "        else:\n",
    "            print('b')\n",
    "            new_x[half_delta_h:-(half_delta_h+1),half_delta_w:-half_delta_w,:] = img\n",
    "    else:\n",
    "        if img.shape[0]%2 == 0:\n",
    "            print('c')\n",
    "            new_x[half_delta_h:-half_delta_h,half_delta_w:-(half_delta_w+1),:] = img #*#*#\n",
    "        else:\n",
    "            print('d')\n",
    "            new_x[half_delta_h:-(half_delta_h+1),half_delta_w:-(half_delta_w+1),:] = img\n",
    "    #print('blank padding',new_x.shape)\n",
    "\n",
    "\n",
    "    return new_x\n",
    "\n",
    "def to_tensor(img):\n",
    "    im_chan = img.shape[2]\n",
    "    imgy, imgx = img.shape[0], img.shape[1]\n",
    "    tensor = torch.tensor(img, dtype=torch.float32)\n",
    "    tensor = F.normalize(tensor)\n",
    "    tensor = tensor.permute(2,0,1)\n",
    "    tensor = tensor.reshape(im_chan,imgy, imgx)\n",
    "    return tensor\n",
    "    \n",
    "def preprocess_im(col_dict, img_path:str):\n",
    "    img = cv2.imread(img_path) #\n",
    "    if img is not None:\n",
    "        #print('1',img.shape)\n",
    "        img = blank_padding(col_dict, img, (224,224))\n",
    "        #print('2',img.shape)\n",
    "        img = to_tensor(img).to(device)\n",
    "        #print(img.shape)\n",
    "        return img\n",
    "    else:\n",
    "        return img\n",
    "\n"
   ]
  },
  {
   "cell_type": "code",
   "execution_count": 2,
   "id": "e792e52f",
   "metadata": {},
   "outputs": [],
   "source": [
    "def blank_padding(col_dict, img, final_size:list): #col_dict, q, (224,224)\n",
    "    img = cv2.resize(img, (col_dict['size'][0], col_dict['size'][1])) #(36,113,3) into shape (36,224,3)\n",
    "\n",
    "    if img.shape[0] > final_size[0]:\n",
    "        img =cv2.resize(img, (img.shape[1],final_size[0]))\n",
    "        \n",
    "    if img.shape[1] > final_size[1]:\n",
    "        img =cv2.resize(img, (final_size[1], img.shape[0]))\n",
    "\n",
    "    w = final_size[1]\n",
    "    h = final_size[0]\n",
    "    \n",
    "    delta_w = w -img.shape[1]\n",
    "    delta_h = h-img.shape[0]\n",
    "\n",
    "    half_delta_h = int(np.floor(delta_h/2))\n",
    "    half_delta_w = int(np.floor(delta_w/2))\n",
    "\n",
    "    avg_lum = int(luminance(img))\n",
    "    new_x = np.full((h,w,3), avg_lum) \n",
    "    if img.shape[1]%2 ==0: \n",
    "        if img.shape[0]%2 == 0: \n",
    "            if half_delta_w == 0:\n",
    "                new_x[:,:,:] = img \n",
    "            else:\n",
    "                new_x[half_delta_h:-half_delta_h,half_delta_w:-half_delta_w,:] = img\n",
    "        else:\n",
    "            new_x[half_delta_h:-(half_delta_h+1),half_delta_w:-half_delta_w,:] = img\n",
    "    else:\n",
    "        if img.shape[0]%2 == 0:\n",
    "            new_x[half_delta_h:-half_delta_h,half_delta_w:-(half_delta_w+1),:] = img #*#*#\n",
    "        else:\n",
    "            new_x[half_delta_h:-(half_delta_h+1),half_delta_w:-(half_delta_w+1),:] = img\n",
    "    return new_x\n"
   ]
  },
  {
   "cell_type": "code",
   "execution_count": 3,
   "id": "d005a882",
   "metadata": {},
   "outputs": [
    {
     "name": "stdout",
     "output_type": "stream",
     "text": [
      "36.0\n",
      "113.0\n"
     ]
    }
   ],
   "source": [
    "print(72/2)\n",
    "print(226/2)"
   ]
  },
  {
   "cell_type": "code",
   "execution_count": 4,
   "id": "cfbd522c-e3e9-42e4-a70c-f51da0ce5461",
   "metadata": {
    "tags": []
   },
   "outputs": [
    {
     "name": "stdout",
     "output_type": "stream",
     "text": [
      "112.0\n",
      "111\n",
      "55.5\n",
      "True\n",
      "blank padding:: (224, 224, 3)\n",
      "c\n"
     ]
    }
   ],
   "source": [
    "import numpy as np\n",
    "w = 224\n",
    "print(w/2)\n",
    "print(w-113)\n",
    "print((w-113)/2)\n",
    "print(w%2==0)\n",
    "\n",
    "w= 224\n",
    "h = 224\n",
    "avg_lum = int(4)\n",
    "delta_w = w -113 #(36, 113, 3)\n",
    "delta_h = h-36\n",
    "\n",
    "half_delta_h = int(np.floor(delta_h/2))\n",
    "half_delta_w = int(np.floor(delta_w/2))\n",
    "\n",
    "new_x = np.full((h,w,3), avg_lum) # 224,224,3\n",
    "print('blank padding::',new_x.shape) #could not broadcast input array from shape (36,113,3) into shape (36,114,3)\n",
    "if 113%2 ==0:\n",
    "    if 36%2 == 0:\n",
    "        print('a')\n",
    "        new_x[half_delta_h:-half_delta_h,half_delta_w:-half_delta_w,:] = np.full((36, 113,3), 0)\n",
    "    else:\n",
    "        print('b')\n",
    "        new_x[half_delta_h:-(half_delta_h+1),half_delta_w:-half_delta_w,:] =np.full((36, 113,3), 0)\n",
    "else:\n",
    "    if 36%2 == 0:\n",
    "        print('c')\n",
    "        new_x[half_delta_h:-half_delta_h,half_delta_w:-(half_delta_w+1),:] = np.full((36, 113,3), 0)#*#*#\n",
    "    else:\n",
    "        print('d')\n",
    "        new_x[half_delta_h:-(half_delta_h+1),half_delta_w:-(half_delta_w+1),:] =np.full((36, 113,3), 0)"
   ]
  },
  {
   "cell_type": "code",
   "execution_count": 5,
   "id": "71132b10-9963-4fa4-b1c1-6e55b7e96f99",
   "metadata": {
    "tags": []
   },
   "outputs": [
    {
     "name": "stdout",
     "output_type": "stream",
     "text": [
      "3.10.12\n",
      "numpy==1.26.2\n",
      "platform==1.0.8\n"
     ]
    }
   ],
   "source": [
    "import random\n",
    "import platform\n",
    "print(platform.python_version())\n",
    "print('\\n'.join(f'{m.__name__}=={m.__version__}' for m in globals().values() if getattr(m, '__version__', None)))\n"
   ]
  },
  {
   "cell_type": "code",
   "execution_count": 6,
   "id": "6d454a4b-a1e9-4687-a914-a005968ee87d",
   "metadata": {
    "tags": []
   },
   "outputs": [
    {
     "name": "stdout",
     "output_type": "stream",
     "text": [
      "Error decoding Json\n",
      "[Errno 2] No such file or directory: 'testjson.json'\n"
     ]
    }
   ],
   "source": [
    "import collections\n",
    "import json\n",
    "try:\n",
    "    with open('testjson.json', 'r') as f:\n",
    "        #obj = f.read()\n",
    "        dj = json.load(f, object_pairs_hook= collections.OrderedDict) #obj, \n",
    "        print(dj)\n",
    "except Exception as e:\n",
    "    print(\"Error decoding Json\")\n",
    "    print(e)\n",
    "    \n",
    "#pp.pprint(dj)"
   ]
  },
  {
   "cell_type": "code",
   "execution_count": 7,
   "id": "1608f923-b22e-41a4-9a3b-0ea5027db974",
   "metadata": {
    "tags": []
   },
   "outputs": [
    {
     "name": "stdout",
     "output_type": "stream",
     "text": [
      "IDSW004_280423_1357_S_074.JPG_Augmented_left_1.JPG\n",
      "IDSW004_280423_1357_S_074.JPG_Augmented_left_1.JPG\n"
     ]
    },
    {
     "ename": "ValueError",
     "evalue": "could not broadcast input array from shape (144,224,3) into shape (224,224,3)",
     "output_type": "error",
     "traceback": [
      "\u001b[0;31m---------------------------------------------------------------------------\u001b[0m",
      "\u001b[0;31mValueError\u001b[0m                                Traceback (most recent call last)",
      "Cell \u001b[0;32mIn[7], line 26\u001b[0m\n\u001b[1;32m     22\u001b[0m q \u001b[38;5;241m=\u001b[39m cv2\u001b[38;5;241m.\u001b[39mimread(file_path\u001b[38;5;241m+\u001b[39m\u001b[38;5;124m'\u001b[39m\u001b[38;5;124m/\u001b[39m\u001b[38;5;124m'\u001b[39m\u001b[38;5;241m+\u001b[39mx)\n\u001b[1;32m     24\u001b[0m qq \u001b[38;5;241m=\u001b[39m padding(q, \u001b[38;5;241m5\u001b[39m)\n\u001b[0;32m---> 26\u001b[0m t \u001b[38;5;241m=\u001b[39m\u001b[43mblank_padding\u001b[49m\u001b[43m(\u001b[49m\u001b[43mcol_dict\u001b[49m\u001b[43m,\u001b[49m\u001b[43m \u001b[49m\u001b[43mq\u001b[49m\u001b[43m,\u001b[49m\u001b[43m \u001b[49m\u001b[43m(\u001b[49m\u001b[38;5;241;43m224\u001b[39;49m\u001b[43m,\u001b[49m\u001b[38;5;241;43m224\u001b[39;49m\u001b[43m)\u001b[49m\u001b[43m)\u001b[49m\n\u001b[1;32m     28\u001b[0m \u001b[38;5;28mprint\u001b[39m(t\u001b[38;5;241m.\u001b[39mshape)\n\u001b[1;32m     29\u001b[0m plt\u001b[38;5;241m.\u001b[39mimshow(q)\n",
      "Cell \u001b[0;32mIn[2], line 24\u001b[0m, in \u001b[0;36mblank_padding\u001b[0;34m(col_dict, img, final_size)\u001b[0m\n\u001b[1;32m     22\u001b[0m \u001b[38;5;28;01mif\u001b[39;00m img\u001b[38;5;241m.\u001b[39mshape[\u001b[38;5;241m0\u001b[39m]\u001b[38;5;241m%\u001b[39m\u001b[38;5;241m2\u001b[39m \u001b[38;5;241m==\u001b[39m \u001b[38;5;241m0\u001b[39m: \n\u001b[1;32m     23\u001b[0m     \u001b[38;5;28;01mif\u001b[39;00m half_delta_w \u001b[38;5;241m==\u001b[39m \u001b[38;5;241m0\u001b[39m:\n\u001b[0;32m---> 24\u001b[0m         \u001b[43mnew_x\u001b[49m\u001b[43m[\u001b[49m\u001b[43m:\u001b[49m\u001b[43m,\u001b[49m\u001b[43m:\u001b[49m\u001b[43m,\u001b[49m\u001b[43m:\u001b[49m\u001b[43m]\u001b[49m \u001b[38;5;241m=\u001b[39m img \n\u001b[1;32m     25\u001b[0m     \u001b[38;5;28;01melse\u001b[39;00m:\n\u001b[1;32m     26\u001b[0m         new_x[half_delta_h:\u001b[38;5;241m-\u001b[39mhalf_delta_h,half_delta_w:\u001b[38;5;241m-\u001b[39mhalf_delta_w,:] \u001b[38;5;241m=\u001b[39m img\n",
      "\u001b[0;31mValueError\u001b[0m: could not broadcast input array from shape (144,224,3) into shape (224,224,3)"
     ]
    }
   ],
   "source": [
    "file_path = r'/its/home/nn268/antvis/antvis/optics/AugmentedDS_IDSW/'\n",
    "\n",
    "import os\n",
    "import cv2\n",
    "import numpy as np\n",
    "import matplotlib.pyplot as plt\n",
    "\n",
    "\n",
    "col_dict =dict(\n",
    "    pad = 5,\n",
    "    colour = 'colour',\n",
    "    size = [452,144] #452,144\n",
    ")\n",
    "\n",
    "\n",
    "x = None\n",
    "for file in os.listdir(file_path):\n",
    "    print(file)\n",
    "    x = file\n",
    "    break\n",
    "print(x)\n",
    "q = cv2.imread(file_path+'/'+x)\n",
    "\n",
    "qq = padding(q, 5)\n",
    "\n",
    "t =blank_padding(col_dict, q, (224,224))\n",
    "\n",
    "print(t.shape)\n",
    "plt.imshow(q)\n",
    "plt.axis = False\n",
    "plt.show()\n",
    "plt.imshow(qq)\n",
    "plt.show()\n",
    "\n",
    "plt.imshow(t)\n",
    "plt.axis = False\n",
    "plt.show()"
   ]
  },
  {
   "cell_type": "code",
   "execution_count": null,
   "id": "0a1fc0db-a0df-4e5d-91bb-9489ee5d6654",
   "metadata": {
    "tags": []
   },
   "outputs": [],
   "source": [
    "img =q\n",
    "pad_size = 80\n",
    "left_x = img[:,:pad_size,:] # h, w, c\n",
    "plt.imshow(left_x)\n",
    "plt.show()\n",
    "right_x = img[:,-pad_size:,:]\n",
    "plt.imshow(right_x)\n",
    "plt.show()\n",
    "y = img.shape[0]\n",
    "x = img.shape[1]+(pad_size*2)\n",
    "new_x = np.full((y, x, 3),255) # h w c\n",
    "plt.imshow(new_x)\n",
    "plt.show()\n",
    "new_x[:,:pad_size,:] = right_x\n",
    "plt.imshow(new_x)\n",
    "plt.show()\n",
    "new_x[:,pad_size:-pad_size,:] = img\n",
    "plt.imshow(new_x)\n",
    "plt.show()\n",
    "new_x[:,-pad_size:,:] = left_x"
   ]
  },
  {
   "cell_type": "code",
   "execution_count": null,
   "id": "e69f4db4-47bb-4541-947f-2b7e4696ec88",
   "metadata": {},
   "outputs": [],
   "source": []
  }
 ],
 "metadata": {
  "kernelspec": {
   "display_name": "Python 3 (ipykernel)",
   "language": "python",
   "name": "python3"
  },
  "language_info": {
   "codemirror_mode": {
    "name": "ipython",
    "version": 3
   },
   "file_extension": ".py",
   "mimetype": "text/x-python",
   "name": "python",
   "nbconvert_exporter": "python",
   "pygments_lexer": "ipython3",
   "version": "3.10.12"
  }
 },
 "nbformat": 4,
 "nbformat_minor": 5
}
