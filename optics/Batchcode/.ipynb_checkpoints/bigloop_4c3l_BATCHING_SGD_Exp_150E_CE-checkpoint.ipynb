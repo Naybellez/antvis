{
 "cells": [
  {
   "cell_type": "markdown",
   "id": "a8c4fd19-5a09-4232-bdc4-42bbef0b6802",
   "metadata": {},
   "source": [
    "last updated 06 11 24\n",
    "\n",
    "This notebook is to get the run times for each model on the highets and lowest Resolutions; to estimate an average run time.IG DICITONARY!\r\n",
    "\r\n"
   ]
  },
  {
   "cell_type": "code",
   "execution_count": 1,
   "id": "5b6be64f-3efe-4c20-885c-1333846ffbd2",
   "metadata": {},
   "outputs": [],
   "source": [
    "#!pip install ipython"
   ]
  },
  {
   "cell_type": "code",
   "execution_count": 2,
   "id": "a364e97a-adf8-4aa3-aadf-a32df7852d47",
   "metadata": {},
   "outputs": [],
   "source": [
    "# going upto 150 E because we are saving model every 25 epochs anyway"
   ]
  },
  {
   "cell_type": "code",
   "execution_count": 3,
   "id": "de6dbd95-2129-42b5-b70b-ee9f057b24c8",
   "metadata": {
    "tags": []
   },
   "outputs": [],
   "source": [
    "# imports\n",
    "import torch\n",
    "\n",
    "import torch.nn as nn\n",
    "from torchvision.models import vgg16\n",
    "import torch.optim.lr_scheduler as lr_scheduler\n",
    "import torch.optim as optim\n",
    "from torchvision.models import vgg16\n",
    "from torch.utils.data import DataLoader\n",
    "#from torch.Utils.data import DataLoader\n",
    "import torch.nn.functional as F\n",
    "from sklearn.model_selection import train_test_split\n",
    "\n",
    "import numpy as np\n",
    "import cv2\n",
    "\n",
    "\n",
    "from datetime import date\n",
    "from tqdm import tqdm\n",
    "import pprint\n",
    "import collections\n",
    "from IPython.display import clear_output\n",
    "import time\n",
    "import random\n",
    "import cv2\n",
    "\n",
    "import csv\n",
    "import json\n",
    "import pickle\n",
    "import os\n",
    "\n",
    "import wandb\n",
    "\n",
    "import sys\n",
    "sys.path.append('../.')\n",
    "from functions import import_imagedata, ImageProcessor, label_oh_tf, IDSWDataSetLoader2\n",
    "from fns4wandb import set_lossfn\n",
    "from architectures import sevennet, smallnet1, smallnet2, smallnet3\n",
    "from architectures import PrintLayer, smallnet3\n",
    "from loop_fns import loop#, loop_batch, test_loop_batch\n",
    "from plotting import learning_curve, accuracy_curve, plot_confusion\n",
    "\n",
    "import copy\n",
    "\n",
    "#import torch.Utils.data.DataLoader as DataLoader"
   ]
  },
  {
   "cell_type": "code",
   "execution_count": 4,
   "id": "bc6ace79-5b6a-4955-9fd3-52aeaddf0d07",
   "metadata": {},
   "outputs": [],
   "source": [
    "#p = torch.cuda.memory_summary(device, abbreviated=False)\n",
    "#Pp = pprint.PrettyPrinter(indent=4)\n",
    "#Pp.pprint(p)"
   ]
  },
  {
   "cell_type": "code",
   "execution_count": 5,
   "id": "64c1e605-9a3b-48dc-a38e-8a955bd3c703",
   "metadata": {},
   "outputs": [],
   "source": [
    "# file paths\n",
    "_save_location = r'/its/home/nn268/antvis/antvis/optics/res_big_loop_saves/models/batch/schedulerRuns/4c/SGD/Exp/' \n",
    "checkpoint_saveloc = f\"/its/home/nn268/antvis/antvis/optics/res_big_loop_saves/models/batch/schedulerRuns/4c/SGD/modelCheckPoints/\"\n",
    "\n",
    "data_path = r'/its/home/nn268/antvis/antvis/optics/AugmentedDS_IDSW/'\n",
    "\n",
    "gitHASH = '3e1975b1ac9d8c07dae424e08dacb2d2ce5f54f9'\n",
    "\n",
    "optimmy = 'SGD'\n",
    "\n",
    "epoch_val = 150\n",
    "\n",
    "Var_WB_sched = \"Exp\""
   ]
  },
  {
   "cell_type": "code",
   "execution_count": 6,
   "id": "d1481ccd-4d87-4c05-84d5-77e29ee981b2",
   "metadata": {},
   "outputs": [
    {
     "name": "stderr",
     "output_type": "stream",
     "text": [
      "\u001b[34m\u001b[1mwandb\u001b[0m: Currently logged in as: \u001b[33mnaughticalnonsence\u001b[0m (\u001b[33mantvis\u001b[0m). Use \u001b[1m`wandb login --relogin`\u001b[0m to force relogin\n"
     ]
    },
    {
     "data": {
      "text/plain": [
       "True"
      ]
     },
     "execution_count": 6,
     "metadata": {},
     "output_type": "execute_result"
    }
   ],
   "source": [
    "wandb.login()\n"
   ]
  },
  {
   "cell_type": "code",
   "execution_count": 7,
   "id": "49eb7e06-506f-48e6-b28c-8caa7641b11b",
   "metadata": {
    "tags": []
   },
   "outputs": [],
   "source": [
    "#!pip install datetime\n",
    "\n",
    "d = date.today()\n",
    "#print(str(d), type(str(d)))"
   ]
  },
  {
   "cell_type": "markdown",
   "id": "ed87383b",
   "metadata": {},
   "source": [
    "452 144 5/452 *100 = 1%\n",
    "226 72 5/226 *100 = 2%\n",
    "113 36 5/113 *100 = 4% -- 2/113 *100= 1.7% ~ 2%\n",
    "57 18 (56.5,) 5/57 *100 = 8% -- 2/57 *100 = 3.5% ~ 4%. 1/57 = 1.75%\n",
    "29 9 (28.5,) 5/29 *100 = 17% -- 2/29 *100 = 6.89 ~ 7% 1/28 = 3.57 ~ 4%\n",
    "15 5 (14.5, 4.5)\n",
    "8 3 (7.5,2.5)\n",
    "4, 2 (, 1.5)"
   ]
  },
  {
   "cell_type": "code",
   "execution_count": 8,
   "id": "41ddbb49-828b-4de8-a31c-2a576cd736f8",
   "metadata": {},
   "outputs": [],
   "source": [
    "# dictionaries                                                                                  * * * *   SETTINGS   * * * *\n",
    "\n",
    "date = date.today()\n",
    "\n",
    "model_card_vgg = {'name': 'vgg', 'model': 'vgg16',\n",
    "                  'f_lin_lay':[200704,#200704,     #129024,#4096,  # (1x229376 and 25088x4096)  1x229376 and 25088x4096) 1x229376 and 25088x4096)\n",
    "                             200704,      #(16x64512 and 129024x4096)    (16x200704 and 64512x4096)\n",
    "                             14336,\n",
    "                             3584,\n",
    "                             768,\n",
    "                             4096,\n",
    "                             4096,\n",
    "                            ],\n",
    "                 'idx': 0,\n",
    "                 'dropout':0.2}\n",
    "\n",
    "\n",
    "model_card_7c3l = {'name': '7c3l', 'model': '7c3l', 'channels': 3, 'Ks': (3,5),\n",
    "                  'f_lin_lay':[248832,    # 452 144 # p5\n",
    "                            59904,      # 226 72 # p5\n",
    "                            11264,      # 113 36 # p2\n",
    "                            1536,       # 57 18 # p1\n",
    "                            172032,           # 29 9\n",
    "                            172032,          # 15 5\n",
    "                            172032,         # 8 3\n",
    "                              ], \n",
    "                   'idx': 1,\n",
    "                  'dropout':0.2}\n",
    "\n",
    "\n",
    "\n",
    "model_card_4c3l = {'name': '4c3l', 'model': '4c3l', 'channels': 3, 'Ks': (3,5),\n",
    "                  'f_lin_lay':[539904,# 1055232,#539904,    # 452 144 # p5  (64x539904 and 1055232x100)\n",
    "                             141056, #141056,    # 226 72 # p5   64x141056 and 267264x100)\n",
    "                             35840,     # 113 36 # p2   (64x35840 and 304640x100)\n",
    "                             9984,      # 57 18 # p1 \n",
    "                             2304,      # 29 9\n",
    "                             512,       # 15 5\n",
    "                             256],      # 8 3\n",
    "                  'idx': 2,\n",
    "                  'dropout':0.2}      \n",
    "\n",
    "model_card_3c2l = {'name': '3c2l', 'model': '3c2l', 'channels': 3, 'Ks': (3,5),\n",
    "                  'f_lin_lay':[1069888,    # 452 144 # p5\n",
    "                             274688,     #226 72 # p5\n",
    "                             68096,      # 113 36 # p2\n",
    "                             17280,      # 57 18 # p1\n",
    "                             3840,       # 29 9\n",
    "                             960,        # 15 5\n",
    "                             256],\n",
    "                  'idx': 3,\n",
    "                  'dropout':0.2}       # 8 3\n",
    "\n",
    "model_card_2c2l = {'name': '2c2l', 'model': '2c2l', 'channels': 3, 'Ks': (3,5),\n",
    "                  'f_lin_lay':[1055232 , #1032192,# 16883712,#33767424,    # 452 144 # p5 # (1x33767424 and 1055232x100) (1x5276160 and 15828480x100) 1x33767424 and 5276160x100)\n",
    "                             267264,     #226 72 # p5                   (1x1032192 and 64512x100)\n",
    "                             64512,#   1032192,#64512,      # 113 36 # p2    ### (16x1055232 and 1032192x100) ###  16x1055232 and 1032192x100)\n",
    "                             15552,      # 57 18 # p1\n",
    "                             3072,       # 29 9\n",
    "                             640,        # 15 5\n",
    "                             128],\n",
    "                  'idx': 4,\n",
    "                  'dropout':0.1}       # 8 3\n",
    "\n",
    "resolution_card_452144 = {'resolution':[452,144], 'padding':5, 'index':0}\n",
    "resolution_card_22672 = {'resolution':[226,72], 'padding':5, 'index':1}\n",
    "resolution_card_11336 = {'resolution':[113,36], 'padding':2, 'index':2}\n",
    "resolution_card_5715 = {'resolution':[57,18], 'padding':1, 'index':3}\n",
    "\n",
    "resolution_card_299 = {'resolution':[29,9], 'padding':0, 'index':4} # \n",
    "resolution_card_155 = {'resolution':[15,5], 'padding':0, 'index':5}\n",
    "resolution_card_83 = {'resolution':[8,3], 'padding':0, 'index':6}\n",
    "\n",
    "\n",
    "\n",
    "resolution_cards = [resolution_card_452144, resolution_card_11336, resolution_card_5715, resolution_card_155]#[resolution_card_11336, resolution_card_5715,\n",
    "#resolution_card_299, resolution_card_155, resolution_card_83]#]#resolution_card_452144, \n",
    "#resolution_cards = [resolution_card_11336]\n",
    "\n",
    "#learning_rate_cards = [5e-5, 6e-5, 8e-5]\n",
    "#learning_rate_cards = [8.21592E-05, 6.62E-05, 6.01E-05, 5.97E-05]\n",
    "learning_rate_cards=  [1e-3] #[0.1,0.01, 1e-3,1e-4, 1e-5]#, 6e-5, 7e-5, 8e-5]\n",
    "#wd_cards = [4e-5, 5e-5, 3.00E-05, 2.00E-05]\n",
    "wd_cards =[0]\n",
    "scheduler_cards = [0]#, 0.1, 0.2]\n",
    "\n",
    "seeds = [8,2,4, 42]#,2,3] # 4, 5,6\n",
    "\n",
    "#model_cards =[model_card_vgg, model_card_7c3l, model_card_4c3l, model_card_3c2l, model_card_2c2l]\n",
    "model_cards =[model_card_4c3l]\n",
    "\n",
    "loss_fn_cards = ['CrossEntropy'] #,'CrossEntropy' 'MSE'\n",
    "                        \n",
    "config = dict({'parameters': 'parameters for big loop run'})\n",
    "config.update({'model_cards':model_cards})\n",
    "config.update({'resolution_cards':resolution_cards})\n",
    "config.update({'learning_rate_cards':learning_rate_cards})\n",
    "config.update({'wd_cards':wd_cards})\n",
    "config.update({'scheduler_cards':scheduler_cards})\n",
    "config.update({'seeds':seeds})\n",
    "config.update({'loss_fn_cards': loss_fn_cards})\n",
    "\n",
    "\n",
    "config.update({'batch_size': 64})\n",
    "config.update({'epochs': epoch_val}) #60\n",
    "\n",
    "#print(model_card_vgg)\n",
    "#print('')\n",
    "#Pp.pprint(Config) # dictionary of dictionaries of lists and lists of dictionaries"
   ]
  },
  {
   "cell_type": "code",
   "execution_count": 9,
   "id": "87dc8393-e7da-43eb-b0e7-b11c4a46c8a5",
   "metadata": {
    "tags": []
   },
   "outputs": [],
   "source": [
    "   \n",
    "\n",
    "Pp = pprint.PrettyPrinter(indent=4)\n",
    "\n",
    "def save2csv_nest_dict(nested_dict, file_name, save_location:str):\n",
    "    # flattern nested dictionary\n",
    "    flatterend_dict = {}\n",
    "    for k,v in nested_dict.items():\n",
    "        if isinstance(v, dict):\n",
    "            for nested_key, nested_val in v.items():\n",
    "                flatterend_dict[f\"{k}_{nested_key}\"] = nested_val\n",
    "        else:\n",
    "            flatterend_dict[k] =v\n",
    "    \n",
    "    columns = list(flatterend_dict.keys())\n",
    "    \n",
    "    with open(save_location+str(file_name)+'.csv', \"a+\", newline=\"\") as f:\n",
    "        # using dictwriter\n",
    "        writer = csv.DictWriter(f, fieldnames=columns)\n",
    "        # using writeheader function\n",
    "        if f.tell() == 0:\n",
    "            writer.writeheader()\n",
    "        writer.writerow(flatterend_dict)\n",
    "        f.close()\n",
    "\n",
    "# check dictionary values for json and csv\n",
    "\n",
    "def check_obj4np(obj):\n",
    "    if isinstance(obj, dict):\n",
    "        return {key: check_obj4np(value) for key, value in obj.items()}\n",
    "    if isinstance(obj,list):\n",
    "        return [check_obj4np(item) for item in obj]\n",
    "    if isinstance(obj,np.ndarray):\n",
    "        return obj.tolist()\n",
    "    if isinstance(obj, torch.Tensor):\n",
    "        return obj.tolist()\n",
    "    else:\n",
    "        return obj\n",
    "\n",
    "# save to json\n",
    "def save2josn_nested_dict(nested_dict, file_name, save_location:str):\n",
    "    nested_dict = check_obj4np(nested_dict)\n",
    "    json_obj = json.dumps(nested_dict, indent=4)\n",
    "    with open(save_location+str(file_name)+'.json', 'a+') as f:\n",
    "        f.write(json_obj)\n",
    "        f.close()\n",
    "\n",
    "    \n",
    "#save_location+str(file_name)+'.csv'\n",
    "def save2csv(nested_dict, file_name, save_location:str):\n",
    "    \n",
    "    nested_dict = check_obj4np(nested_dict)\n",
    "    \n",
    "    columns = list(nested_dict.keys())\n",
    "    path = os.path.join(save_location, file_name +\".csv\")\n",
    "    try:\n",
    "        with open(path, \"a\", newline=\"\") as f:\n",
    "            writer = csv.DictWriter(f, fieldnames=columns)\n",
    "            # using dictwriter\n",
    "            # using writeheader function\n",
    "            if f.tell() == 0:\n",
    "                writer.writeheader()\n",
    "            writer.writerow(nested_dict)\n",
    "            f.close()\n",
    "    except IOError as e:\n",
    "        print(\"I/O error({0}): {1}\".format(e.errno, e.strerror))\n",
    "    except ValueError:\n",
    "              print(\"could not convert to string\")\n",
    "    except:\n",
    "              print(\"unexpected error: \", sys.exc_info()[0])\n",
    "        \n",
    "\n",
    "def save2json(nested_dict, file_name, save_location:str):\n",
    "    nested_dict = check_obj4np(nested_dict)\n",
    "    #print(nested_dict)\n",
    "    #print(nested_dict.items())\n",
    "    json_obj = json.dumps(nested_dict, indent=4)\n",
    "    #print(json_obj)\n",
    "    path = os.path.join(save_location, file_name+\".json\")\n",
    "    #print(path)\n",
    "    with open(path, 'w') as f:\n",
    "        f.write(json_obj)\n",
    "        \n",
    "        \n",
    "\n",
    "\n",
    "def read_in_json(file_path, file_name):\n",
    "    path = os.path.join(file_path, 'file_name')\n",
    "    try:\n",
    "        with open(path, 'r') as f:\n",
    "            #obj = f.read()\n",
    "            dj = json.load(f, object_pairs_hook= collections.OrderedDict) #obj, \n",
    "            #print(dj)\n",
    "    except Exception as e:\n",
    "        print(\"Error decoding Json\")\n",
    "        print(e)\n",
    "\n",
    "\n",
    "class Flattern(nn.Module):\n",
    "    def __init__(self):\n",
    "        super(Flattern, self).__init__()\n",
    "    def forward(self, x):\n",
    "        #print(x.shape)\n",
    "        x = x.flatten()\n",
    "        return x\n",
    "\n",
    "\n",
    "def choose_model(model_name, lin_lay, dropout):\n",
    "\n",
    "    if model_name == '4c3l':\n",
    "        return smallnet1(in_chan=3, f_lin_lay=int(lin_lay), l_lin_lay=11, ks= (3,5), dropout= dropout)\n",
    "    elif model_name == '3c2l':\n",
    "        return smallnet2(in_chan=3, f_lin_lay=int(lin_lay), l_lin_lay=11, ks = (3,5), dropout=dropout)\n",
    "    elif model_name == '2c2l':\n",
    "        return smallnet3(in_chan=3, f_lin_lay=int(lin_lay), l_lin_lay=11, ks= (3,5), dropout= dropout)\n",
    "    elif model_name == '7c3l':\n",
    "        return sevennet(in_chan=3, f_lin_lay=int(lin_lay), l_lin_lay=11, ks= (3,5), dropout= dropout)\n",
    "    elif model_name == 'vgg16':\n",
    "        #model_vgg16 = vgg16(weights=\"IMAGENET1K_V1\")\n",
    "        #vgg_feats = model_vgg16.features\n",
    "        #vgg_classifier = model_vgg16.classifier\n",
    "        #vgg_classifier.pop(6)\n",
    "\n",
    "        #vgg = nn.Sequential(\n",
    "        #    vgg_feats,\n",
    "        #    Flattern(),\n",
    "        #    vgg_classifier,\n",
    "        #    nn.Linear(4096,11), # cheanging the output layer\n",
    "        #    nn.Softmax(dim=0),    (1x1032192 and 4096x4096)\n",
    "        #    )\n",
    "        \n",
    "        class VGG16Smaller(nn.Module):\n",
    "            def __init__(self,lin_lay, num_classes=11): #64512\n",
    "                super(VGG16Smaller, self).__init__()\n",
    "                self.layer1 = nn.Sequential(\n",
    "                    nn.Conv2d(3, 64, kernel_size=3, stride=1, padding=1),\n",
    "                    nn.BatchNorm2d(64),\n",
    "                    nn.ReLU())\n",
    "                self.layer2 = nn.Sequential(\n",
    "                    nn.Conv2d(64, 64, kernel_size=3, stride=1, padding=1),\n",
    "                    nn.BatchNorm2d(64),\n",
    "                    nn.ReLU(), \n",
    "                    nn.MaxPool2d(kernel_size = 2, stride = 2))\n",
    "                self.layer3 = nn.Sequential(\n",
    "                    nn.Conv2d(64, 128, kernel_size=3, stride=1, padding=1),\n",
    "                    nn.BatchNorm2d(128),\n",
    "                    nn.ReLU())\n",
    "                self.layer4 = nn.Sequential(\n",
    "                    nn.Conv2d(128, 128, kernel_size=3, stride=1, padding=1),\n",
    "                    nn.BatchNorm2d(128),\n",
    "                    nn.ReLU(),\n",
    "                    nn.MaxPool2d(kernel_size = 2, stride = 2))\n",
    "                self.layer5 = nn.Sequential(\n",
    "                    nn.Conv2d(128, 256, kernel_size=3, stride=1, padding=1),\n",
    "                    nn.BatchNorm2d(256),\n",
    "                    nn.ReLU())\n",
    "                self.layer6 = nn.Sequential(\n",
    "                    nn.Conv2d(256, 256, kernel_size=3, stride=1, padding=1),\n",
    "                    nn.BatchNorm2d(256),\n",
    "                    nn.ReLU())\n",
    "                self.layer7 = nn.Sequential(\n",
    "                    nn.Conv2d(256, 256, kernel_size=3, stride=1, padding=1),\n",
    "                    nn.BatchNorm2d(256),\n",
    "                    nn.ReLU(),\n",
    "                    nn.MaxPool2d(kernel_size = 2, stride = 2))\n",
    "                self.fc = nn.Sequential(\n",
    "                    nn.Dropout(0.5),\n",
    "                    nn.Linear(lin_lay, 4096), # 1032192 and 4096x4096)\n",
    "                    nn.ReLU())\n",
    "                self.fc1 = nn.Sequential(\n",
    "                    nn.Dropout(0.5),\n",
    "                    nn.Linear(4096, 4096),\n",
    "                    nn.ReLU())\n",
    "                self.fc2= nn.Sequential(\n",
    "                    nn.Linear(4096, num_classes))\n",
    "                \n",
    "            def forward(self, x):\n",
    "                out = self.layer1(x)\n",
    "                out = self.layer2(out)\n",
    "                out = self.layer3(out)\n",
    "                out = self.layer4(out)\n",
    "                out = self.layer5(out)\n",
    "                out = self.layer6(out)\n",
    "                out = self.layer7(out)\n",
    "                PrintLayer()\n",
    "                out = out.reshape(out.size(0), -1)\n",
    "                out = out.flatten(start_dim=1)\n",
    "                PrintLayer()\n",
    "                out = self.fc(out)\n",
    "                out = self.fc1(out)\n",
    "                out = self.fc2(out)\n",
    "                out = F.log_softmax(out, dim=1) \n",
    "                return out\n",
    "        vgg = VGG16Smaller(lin_lay)\n",
    "        return vgg\n",
    "    else:\n",
    "        print('Model Name Not Recognised')\n",
    "\n",
    "\n",
    "\n",
    "\n",
    "def check_model_sizes_bits(model):\n",
    "    bits = 32\n",
    "    mods = list(model.modules())\n",
    "    sizes = []\n",
    "    total_bits = 0\n",
    "    \n",
    "    for i in range(1,len(mods)):\n",
    "        m = mods[i]\n",
    "        p = list(m.parameters())\n",
    "        for j in range(len(p)):\n",
    "            sizes.append(np.array(p[j].size()))\n",
    "    \n",
    "    for i in range(len(sizes)):\n",
    "        s = sizes[i]\n",
    "        bitz = np.prod(np.array(s))*bits\n",
    "        total_bits += bitz\n",
    "    total_bytes = total_bits/8\n",
    "    total_megabytes = total_bytes/1e+6\n",
    "    total_gigabytes = total_megabytes/1000\n",
    "    print(total_bits, 'bits    ', total_bytes, \"bytes    \", total_megabytes, \"MegaBytes    \", total_gigabytes,\"GigaBytes\") # 148480\n",
    "\n",
    "\n",
    "def ptrblk_fin_mod_size(model):\n",
    "    param_size = 0\n",
    "    for param in model.parameters():\n",
    "        param_size += param.nelement() * param.element_size()\n",
    "    buffer_size = 0\n",
    "    for buffer in model.buffers():\n",
    "        buffer_size += buffer.nelement() * buffer.element_size()\n",
    "    \n",
    "    size_all_mb = (param_size + buffer_size) / 1024**2\n",
    "    size_all_gb = size_all_mb/953.674\n",
    "    print('model size: {:.3f}MB'.format(size_all_mb))\n",
    "    print('model size: {:.3f}GB'.format(size_all_gb))\n",
    "\n",
    "\n"
   ]
  },
  {
   "cell_type": "code",
   "execution_count": 10,
   "id": "495f38fa",
   "metadata": {},
   "outputs": [],
   "source": [
    "\n",
    "def train_val_batch(model, train, val, loop_run_name, save_dict, lr, loss_fn, epochs, batch_size, optimizer, scheduler_value, device): #train_dl, val_dl, \n",
    "    #print(\"Current allocated memory (GB):\", torch.cuda.memory_allocated() / 1024 ** 3) \n",
    "    model.train()\n",
    "\n",
    "    t_loss_list = []\n",
    "    v_loss_list = []\n",
    "    t_predict_list = []\n",
    "    v_predict_list = []\n",
    "    t_accuracy_list = []\n",
    "    v_accuracy_list = []\n",
    "    t_label_list = []\n",
    "    v_label_list = []\n",
    "    #labels = []\n",
    "    sample = False\n",
    "    \n",
    "    \n",
    "    total_epochs = 0\n",
    "    for epoch in tqdm(range(epochs)):\n",
    "\n",
    "        #if epoch == 1:\n",
    "        #    sample = True\n",
    "        random_value = random.randrange(0,batch_size)\n",
    "        #else:\n",
    "        #    random_value = None\n",
    "        #    sample = False\n",
    "        #print(random_value)\n",
    "\n",
    "        \n",
    "        print('Training...')\n",
    "        #!nvidia-smi\n",
    "        #print(len(train)) #Using a target size \n",
    "\n",
    "        \n",
    "        t_loss, train_prediction, train_targets, t_correct, model, optimizer = loop_batch(model, train, loss_fn, batch_size,sample,random_value,epoch,loop_run_name, save_dict, device, optimizer =optimizer, scheduler= scheduler_value, train =True) #, scheduler =scheduler\n",
    "        #print('training..  2')\n",
    "        #!nvidia-smi\n",
    "        \n",
    "        t_loss_list.append(t_loss)\n",
    "        [t_predict_list.append(pred.argmax()) for pred in train_prediction]\n",
    "        wandb.log({'t_loss':t_loss})\n",
    "    \n",
    "        train_acc = (t_correct/(len(train)*batch_size)*100) ###\n",
    "        print('train accuracy: ', train_acc )\n",
    "        t_accuracy_list.append(train_acc)\n",
    "        wandb.log({'train_acc':train_acc})\n",
    "        \n",
    "        \n",
    "            \n",
    "        print('validating...')\n",
    "        #!nvidia-smi\n",
    "        \n",
    "        v_loss, val_prediction, val_targets, val_correct= loop_batch(model, val, loss_fn, batch_size,sample,random_value,epoch,loop_run_name, save_dict, device, optimizer =None, scheduler= None, train =False)\n",
    "\n",
    "        v_loss_list.append(v_loss)\n",
    "        [v_predict_list.append(pred.argmax()) for pred in val_prediction]\n",
    "        wandb.log({'v_loss':v_loss})\n",
    "        \n",
    "        val_acc = (val_correct/(len(val)*batch_size)*100)\n",
    "        v_accuracy_list.append(val_acc)\n",
    "        print('validation accuracy: ', val_acc )\n",
    "        wandb.log({'val_acc':val_acc})\n",
    "    \n",
    "        total_epochs += 1\n",
    "\n",
    "        if epoch %25==0 and epoch !=0:\n",
    "            #checkpoint = copy.deepcopy(model)\n",
    "            checkpoint_id = f\"4C_{optimmy}_{Var_WB_sched}_{epoch}E_{save_dict['res']}_seed{save_dict['seed']}\"\n",
    "            torch.save(model.state_dict(), checkpoint_saveloc+checkpoint_id, pickle_module=pickle)\n",
    "            learning_curve(t_loss_list, v_loss_list, save_location=checkpoint_saveloc,run_name=checkpoint_id)\n",
    "            accuracy_curve(t_accuracy_list, v_accuracy_list,save_location=checkpoint_saveloc,run_name=checkpoint_id)\n",
    "            #plot_confusion(predictions= test_predict_list, actual= y_test, title = \"Test Confusion matrix\", run_name = checkpoint_id,save_location =checkpoint_saveloc)\n",
    "        \n",
    "    save_dict['Current_Epoch'] = epochs\n",
    "    save_dict['training_samples'] = len(train)\n",
    "    save_dict['validation_samples'] = len(val)\n",
    "    \n",
    "    save_dict['t_accuracy_list'] = t_accuracy_list \n",
    "    save_dict['v_accuracy_list'] = v_accuracy_list  #\n",
    "            \n",
    "    #model = best_model\n",
    "    save_dict['t_loss_list'] = t_loss_list\n",
    "    save_dict['v_loss_list'] = v_loss_list\n",
    "    \n",
    "    save_dict['t_labels'] = train_targets\n",
    "    save_dict['v_labels'] = val_targets\n",
    "    \n",
    "    save_dict['t_predict_list'] = t_predict_list \n",
    "    save_dict['v_predict_list'] = v_predict_list  #\n",
    "    \n",
    "    return model, save_dict\n",
    "\n",
    "from functions import ImageProcessor\n",
    "\n",
    "def loop_batch(model, data, loss_fn, batch_size, sample,random_value,epoch,loop_run_name, save_dict, device, optimizer =None, scheduler= None, train =True):\t# Train and Val loops. Default is train\n",
    "    model = model\n",
    "    total_samples = len(data)\n",
    "    if optimizer:\n",
    "        scheduler = lr_scheduler.ExponentialLR(optimizer, gamma=0.1, last_epoch=-1, verbose='deprecated')#lr_scheduler.ReduceLROnPlateau(optimizer, mode='min', factor=0.1, patience=10, threshold=10)\n",
    "    if train:\n",
    "        model.train()\n",
    "        if optimizer != None:\n",
    "            print(\"optimizer present\")\n",
    "        where ='tra'\n",
    "        #lr_ls = []\n",
    "    else:\n",
    "        model.eval()   #  (torch.Size([16, 11])) that is different to the input size (torch.Size([11]))\n",
    "        where = 'val'\n",
    "    \n",
    "    predict_list = []\n",
    "    total_count = 0\n",
    "    num_correct = 0\n",
    "    current_loss = 0\n",
    "    labels =[]\n",
    "\n",
    "    \n",
    "    for i, batch in enumerate(data,0):\n",
    "        #print('loop batch 1')\n",
    "        #!nvidia-smi\n",
    "        \n",
    "        x_batch, y_batch = batch\n",
    "\n",
    "        if sample == True:\n",
    "            IP = ImageProcessor(device) #img, scale:int, save_dict;dict, epoch:int, where:str\n",
    "            i = IP.view(x_batch[random_value],1, loop_run_name, save_dict, epoch, where)\n",
    "            # \n",
    "            sample= False\n",
    "\n",
    "        \n",
    "        prediction = model.forward(x_batch)\n",
    "        loss = loss_fn(prediction, y_batch)\n",
    "\n",
    "\n",
    "        if train:\n",
    "            optimizer.zero_grad()\n",
    "            loss.backward()\n",
    "            optimizer.step()\n",
    "\n",
    "        [predict_list.append(pred.argmax()) for pred in prediction]#.argmax())\n",
    "        [labels.append(y.argmax()) for y in y_batch]\n",
    "        \n",
    "        \n",
    "        for i in range(len(y_batch)-1):\n",
    "\n",
    "            if y_batch[i].argmax() == prediction[i].argmax():\n",
    "                num_correct +=1\n",
    "\n",
    "        total_count+= batch_size\n",
    "        current_loss += loss.item()\n",
    "\n",
    "        \n",
    "    if scheduler:\n",
    "        scheduler.step(loss)\n",
    "\n",
    "    if train:\n",
    "        return current_loss, predict_list, y_batch, num_correct, model, optimizer #, lr_ls\n",
    "    else:\n",
    "        return current_loss, predict_list, y_batch, num_correct\n",
    "\n",
    "\n",
    "def test_loop(model, model_name, X, Y, res, pad, save_dict, loss_fn, device, av_lum, num_classes=11):\n",
    "    model = model.eval()\n",
    "    predict_list = []\n",
    "    current_loss = 0\n",
    "    total_count =0\n",
    "    num_correct = 0\n",
    "    correct = 0\n",
    "    colour ='colour'\n",
    "    size =  res\n",
    "\n",
    "    with torch.no_grad():\n",
    "        print('Testing...') \n",
    "        for idx, img in enumerate(X):\n",
    "\n",
    "            #image pre processing\n",
    "            prepro = ImageProcessor(device)\n",
    "            if model_name == 'vgg16':\n",
    "                tense = prepro.colour_size_tense(img, colour, size, av_lum, pad, vg=True) #[29, 9], 15, 5, [8,3]\n",
    "            elif (model_name == '7c3l' and size == [29, 9]) or (model_name == '7c3l' and size == [15, 5]) or (model_name == '7c3l' and size ==[8, 3]):\n",
    "                tense = prepro.colour_size_tense(img, colour, size, av_lum, pad, vg=True)\n",
    "            else:\n",
    "                tense = prepro.colour_size_tense(img, colour, size,av_lum,  pad)\n",
    "\n",
    "\n",
    "            tense = tense.unsqueeze(dim=0)\n",
    "\n",
    "            prediction = model.forward(tense)\n",
    "            label = label_oh_tf(Y[idx], num_classes).to(device)\n",
    "\n",
    "            label = label.unsqueeze(dim=0)\n",
    "\n",
    "            loss = loss_fn(prediction, label)\n",
    "\n",
    "            if prediction.argmax()==label.argmax():\n",
    "                num_correct +=1\n",
    "            total_count +=1\n",
    "            correct +=(prediction.argmax()==label.argmax()).sum().item()\n",
    "\n",
    "            predict_list.append(prediction.argmax())\n",
    "\n",
    "        acc = num_correct/total_count\n",
    "        accuracy = 100*(acc)\n",
    "        \n",
    "        \n",
    "        \n",
    "        current_loss += loss.item()\n",
    "        \n",
    "    return accuracy, predict_list, Y, current_loss\n",
    "\n",
    "## model, data, loss_fn, device, optimizer =None, scheduler= None, train =True\n",
    "def test_loop_batch(model,data, loss_fn, batch_size, device):\n",
    "    model = model.eval()\n",
    "    predict_list = []\n",
    "    label_list = []\n",
    "    total_count =0\n",
    "    num_correct = 0\n",
    "    correct = 0\n",
    "    \n",
    "\n",
    "    with torch.no_grad():\n",
    "        for i, batch in enumerate(data,0):\n",
    "            tense, label = batch\n",
    "            label = label.to(device)\n",
    "            \n",
    "            prediction = model.forward(tense.to(device))\n",
    "\n",
    "            for i in range(len(label)-1):\n",
    "\n",
    "                if label[i].argmax() == prediction[i].argmax():\n",
    "                    num_correct +=1\n",
    "            [predict_list.append(pred.argmax()) for pred in prediction]\n",
    "            [label_list.append(lab.argmax()) for lab in label]\n",
    "\n",
    "            total_count += batch_size\n",
    "\n",
    "    \n",
    "        acc = num_correct/total_count\n",
    "        accuracy = 100*(acc)\n",
    "\n",
    "        print(accuracy)\n",
    "\n",
    "        return accuracy, predict_list, label_list\n",
    "\n",
    "\n",
    "\n",
    "def get_data(random_seed):\n",
    "    file_path =  data_path\n",
    "    #print(file_path)\n",
    "    img_len = len(os.listdir(file_path))\n",
    "    \n",
    "    x, y = import_imagedata(file_path)\n",
    "    x_train, x_test, y_train, y_test = train_test_split(x,y, test_size=0.3, train_size=0.7,\n",
    "                                     random_state=random_seed, shuffle=True)\n",
    "    x_train, x_val, y_train, y_val = train_test_split(x_train,y_train, test_size=0.3, train_size=0.7,\n",
    "                                     random_state=random_seed, shuffle=True)\n",
    "\n",
    "    return x_train, y_train, x_val, y_val, x_test, y_test\n",
    "\n",
    "\n",
    "    \n",
    "def get_lin_lay(model_card, resolution):\n",
    "    if resolution == [452, 144]:\n",
    "        lin_lay = model_card['f_lin_lay'][0]\n",
    "    elif resolution == [226, 72]:\n",
    "        lin_lay = model_card['f_lin_lay'][1]\n",
    "    elif resolution == [113, 36]:\n",
    "        lin_lay = model_card['f_lin_lay'][2]\n",
    "    elif resolution == [57, 18]:\n",
    "        lin_lay = model_card['f_lin_lay'][3]\n",
    "    elif resolution == [29, 9]:\n",
    "        lin_lay = model_card['f_lin_lay'][4]\n",
    "    elif resolution == [15, 5]:\n",
    "        lin_lay = model_card['f_lin_lay'][5]\n",
    "    elif resolution == [8, 3]:\n",
    "        lin_lay = model_card['f_lin_lay'][6]\n",
    "    else:\n",
    "        print(\"PARAMETER NOT FOUND: \\n f_lin_lay FROM MODEL CARD\")\n",
    "    return lin_lay\n"
   ]
  },
  {
   "cell_type": "code",
   "execution_count": 11,
   "id": "3cb440d2-6fa6-43a4-a083-63a07edbdb91",
   "metadata": {},
   "outputs": [
    {
     "name": "stdout",
     "output_type": "stream",
     "text": [
      "141056\n"
     ]
    }
   ],
   "source": [
    "for model_card in model_cards:\n",
    "    lin = get_lin_lay(model_card,[226,72])\n",
    "    print(lin)"
   ]
  },
  {
   "cell_type": "code",
   "execution_count": 12,
   "id": "1bf5ca7f-b59a-427b-8da3-2848fa6d3867",
   "metadata": {},
   "outputs": [],
   "source": [
    "device = \"cuda:1\" if torch.cuda.is_available() else \"cpu\"\n",
    "\n",
    "\n",
    "def _go(config=None):\n",
    "    #print('1')\n",
    "    #!nvidia-smi\n",
    "    \n",
    "    #print(\"Max allocated memory (GB):\", torch.cuda.max_memory_allocated() / 1024 ** 3)\n",
    "    \n",
    "    if len(gitHASH) <1:\n",
    "        print(\"YOU FORGET THE GIT HASH\")\n",
    "        return\n",
    "    else:\n",
    "        #print('Git Hash registered')\n",
    "        pass\n",
    "        \n",
    "    with wandb.init(config=config, project=f\"4c. {epoch_val}E. {Var_WB_sched}. {optimmy}\", notes=f\"4c. {epoch_val}E. {Var_WB_sched}. {optimmy}\",):\n",
    "        config = wandb.config\n",
    "        start = time.process_time()\n",
    "            \n",
    "        for model_idx, model_card in enumerate(config['model_cards']):\n",
    "            #print(\"Current allocated memory (GB):\", torch.cuda.memory_allocated() / 1024 ** 3)\n",
    "                    \n",
    "            model_name = model_card['model']\n",
    "            model_index = model_card['idx']\n",
    "            dropout = model_card['dropout'] \n",
    "            for res_idx, resolution_card in enumerate(config['resolution_cards']):\n",
    "                #print(\"Current allocated memory (GB):\", torch.cuda.memory_allocated() / 1024 ** 3)\n",
    "            \n",
    "                resolution = resolution_card['resolution']\n",
    "                pad = resolution_card['padding']\n",
    "                lin_lay = get_lin_lay(model_card, resolution)\n",
    "                print('lin lay', lin_lay)\n",
    "            \n",
    "                for lr_idx, lr in enumerate(config['learning_rate_cards']):\n",
    "                    for wd_idx, wd_card in enumerate(wd_cards):\n",
    "                        for sched_idx, scheduler_value in enumerate(config['scheduler_cards']):\n",
    "                            \n",
    "                            for seed_idx, seed in enumerate(config['seeds']):\n",
    "                                seed = seed\n",
    "                                for lossfn_idx, loss in enumerate(config['loss_fn_cards']):\n",
    "                                    \n",
    "                                    torch.cuda.empty_cache()\n",
    "                                    #print('2')\n",
    "                                    #!nvidia-smi\n",
    "  \n",
    "                                    config['batch_size']\n",
    "\n",
    "                                    print('Model: ', str(model_name), f\" idx: {model_idx} / {len(config.model_cards)}\")\n",
    "                                    print('resolution: ', str(resolution), f\" idx: {res_idx} / {len(config['resolution_cards'])}\")\n",
    "                                    print('learning rate: ', str(lr), f\" idx: {lr_idx} / {len(config['learning_rate_cards'])}\")\n",
    "                                    print('weight decay: ', str(wd_card), f\" idx: {wd_idx} / {len(config['wd_cards'])}\")\n",
    "                                    print('scheduler: ', str(scheduler_value), f\" idx: {sched_idx} / {len(config['scheduler_cards'])}\")\n",
    "                                    print('seed: ', str(seed), f\" idx: {seed_idx} / {len(config['seeds'])}\")\n",
    "                                    print('loss function: ', str(loss), f\" idx: {lossfn_idx} / {len(config['loss_fn_cards'])}\")\n",
    "                                    print('Batch size: ', config['batch_size'])\n",
    "                                    print('Training epochs: ', config['epochs'])\n",
    "                                    run_start_time = time.process_time()\n",
    "                                    print('start time: ',run_start_time)\n",
    "   \n",
    "                                    print(time.process_time() - start)\n",
    "\n",
    "                                    epochs = config['epochs'] #40\n",
    "\n",
    "                                    IP = ImageProcessor(device)\n",
    "\n",
    "                                    wandb.log({'gitHash':gitHASH})\n",
    "                                    wandb.log({'Epochs': epochs})\n",
    "                                    \n",
    "                                    #print('3')\n",
    "                                    #!nvidia-smi\n",
    "                                    \n",
    "                                    # set save dictionary\n",
    "                                    save_dict = {'Run' : f\"{model_name}_{resolution}_{date}_{optimmy}_{config['epochs']}E_{Var_WB_sched}\",\n",
    "                                                 'Current_Epoch': 0,\n",
    "                                                 'save_location' : _save_location,\n",
    "                                                 'res': resolution,\n",
    "                                                 'sched': Var_WB_sched,\n",
    "                                                 'model': model_name,\n",
    "                                                 'seed':seed}\n",
    "          \n",
    "                                    model = choose_model(model_name, lin_lay, dropout).to(device)\n",
    "                                    #print(\"Before model init - Current allocated memory (GB):\", torch.cuda.memory_allocated() / 1024 ** 3)\n",
    "                                    #model = smallnet3(in_chan=3, f_lin_lay=int(lin_lay), l_lin_lay=11, ks= (3,5), dropout= dropout).to(device)\n",
    "\n",
    "                                    #print('4')\n",
    "                                    #!nvidia-smi\n",
    "\n",
    "                                    print(\"After model init, Before data loading - Current allocated memory (GB):\", torch.cuda.memory_allocated() / 1024 ** 3)\n",
    "\n",
    "                                    x_train, y_train, x_val, y_val, x_test, y_test = get_data(seed)\n",
    "                                    av_lum = IP.new_luminance(x_train)\n",
    "                                    #print(\"Current allocated memory (GB):\", torch.cuda.memory_allocated() / 1024 ** 3)\n",
    "                                    \n",
    "                                    train_ds = IDSWDataSetLoader2(x_train, y_train, resolution,pad,av_lum,model_name, device)# av_lum, res,pad,\n",
    "                                    train = DataLoader(train_ds, batch_size=config['batch_size'], shuffle=True, drop_last=True) #, num_workers=2\n",
    "\n",
    "                                    \n",
    "                                    test_ds = IDSWDataSetLoader2(x_test, y_test, resolution,pad,av_lum,model_name, device)\n",
    "                                    test = DataLoader(test_ds, batch_size=config['batch_size'], shuffle=True, drop_last=True) #, num_workers=2\n",
    "                                    #print(\"Current allocated memory (GB):\", torch.cuda.memory_allocated() / 1024 ** 3)\n",
    "                                    val_ds = IDSWDataSetLoader2(x_val, y_val, resolution,pad,av_lum,model_name, device)\n",
    "                                    val = DataLoader(val_ds, batch_size=config['batch_size'], shuffle=True, drop_last=True) #, num_workers=2\n",
    "                                    \n",
    "                                    print(\"After data loading - Current allocated memory (GB):\", torch.cuda.memory_allocated() / 1024 ** 3)\n",
    "\n",
    "\n",
    "                                    #print('5')\n",
    "                                    #!nvidia-smi\n",
    "\n",
    "                                    loss_fn = set_lossfn(loss)\n",
    "                                    \n",
    "                                    # set optimizer\n",
    "                                    optimizer = torch.optim.SGD(model.parameters(), lr=lr, momentum=0.9)#torch.optim.Adam(model.parameters(),lr=lr)\n",
    "\n",
    "                                    wandb.watch(model, loss_fn, log='all', log_freq=2, idx = model_index)\n",
    "                                    #print('6')\n",
    "                                    #!nvidia-smi\n",
    "                                    loop_run_name = f\"{save_dict['Run']}_{resolution}_{lr}_{scheduler_value}_{seed}_{loss}\"\n",
    "         \n",
    "                                    model, save_dict=  train_val_batch(model, train,val, loop_run_name,save_dict, lr, loss_fn,epochs, config['batch_size'], optimizer, scheduler_value, device)\n",
    "\n",
    "                                    test_acc,test_predict_list, y_test = test_loop_batch(model,test, loss_fn, config['batch_size'], device) #model, model_name, X, Y, res, pad, loss_fn, device, num_classes=11\n",
    "                                    \n",
    "                                    #print(test_predict_list)\n",
    "                                    print(' \\n train Acc: ', save_dict['t_accuracy_list'][-1])\n",
    "                                    print(' \\n val Acc: ', save_dict['v_accuracy_list'][-1])\n",
    "                                    print(' \\n test Acc: ', test_acc)\n",
    "                                    \n",
    "                                    save_dict.update({'test_acc': test_acc})\n",
    "                                    save_dict.update({'test_predict': test_predict_list})\n",
    "                                    save_dict.update({'test_labels': list(y_test)})\n",
    "                                    #save_dict.update({'test_loss':test_loss})\n",
    "\n",
    "                                    \n",
    "\n",
    "\n",
    "                                    learning_curve(save_dict['t_loss_list'], save_dict['v_loss_list'], save_location=save_dict['save_location'],run_name=loop_run_name)\n",
    "                                    accuracy_curve(save_dict['t_accuracy_list'], save_dict['v_accuracy_list'],save_location=save_dict['save_location'],run_name=loop_run_name)\n",
    "                                    test_predict_list=[pred.cpu() for pred in test_predict_list]\n",
    "                                    plot_confusion(predictions= test_predict_list, actual= y_test, title = \"Test Confusion matrix\", run_name = loop_run_name,save_location =save_dict['save_location'])\n",
    "                                    \n",
    "                                    wandb.log({'test_acc': test_acc})\n",
    "                                    wandb.log({'test_predict': test_predict_list})\n",
    "                                    wandb.log({'test_labels': list(y_test)})\n",
    "                                    #saving\n",
    "                                    diction = {}\n",
    "                                    d = date.today()\n",
    "                                    d=str(d)\n",
    "                                    diction.update({'Date':d})\n",
    "                                    diction.update({'gitHASH':str(gitHASH)})\n",
    "                                    diction.update({'model_name': str(model_name)})\n",
    "                                    diction.update({'loss_fn': str(loss)})\n",
    "                                    diction.update({'lr': str(lr)})\n",
    "                                    diction.update({'wd': str(wd_card)})\n",
    "                                    diction.update({'scheduler value': str(scheduler_value)})\n",
    "                                    diction.update({'seed': str(seed)})\n",
    "                                    diction.update({'resolution': str(resolution)})\n",
    "                                    diction.update({'pad': int(pad)})\n",
    "                                    diction.update({'lin_lay': int(lin_lay)})\n",
    "                                    diction.update({'run time': (time.process_time() - run_start_time)})\n",
    "                                    diction.update(save_dict)\n",
    "                                    \n",
    "                                    save_location = save_dict['save_location']\n",
    "                                    title = save_dict['Run']\n",
    "                                    save2json(diction, loop_run_name, save_location)\n",
    "                                    save2csv(diction, title, save_location)\n",
    "        \n",
    "                                    diction['model.state_dict'] = model.state_dict() #to('cpu').\n",
    "        \n",
    "                                    with open(f\"{save_location}{loop_run_name}.pkl\", 'wb+') as f:\n",
    "                                        pickle.dump(diction, f)\n",
    "                                    \n",
    "                                    clear_output()\n",
    "                                    \n",
    "                                    print(f' \\n END {model_name} {resolution} Run Time: ',time.process_time() - run_start_time)\n",
    "                                    #!nvidia-smi\n",
    "                                    torch.cuda.empty_cache()\n",
    "        print('Final Run time: ',time.process_time() - start)"
   ]
  },
  {
   "cell_type": "code",
   "execution_count": null,
   "id": "b58d7d27-ef9d-43d9-98a8-1f11ff50090d",
   "metadata": {
    "scrolled": true
   },
   "outputs": [
    {
     "name": "stdout",
     "output_type": "stream",
     "text": [
      " \n",
      " END 4c3l [57, 18] Run Time:  213.71122448499955\n",
      "Model:  4c3l  idx: 0 / 1\n",
      "resolution:  [57, 18]  idx: 2 / 4\n",
      "learning rate:  0.001  idx: 0 / 1\n",
      "weight decay:  0  idx: 0 / 1\n",
      "scheduler:  0  idx: 0 / 1\n",
      "seed:  42  idx: 3 / 4\n",
      "loss function:  CrossEntropy  idx: 0 / 1\n",
      "Batch size:  64\n",
      "Training epochs:  150\n",
      "start time:  46016.826733945\n",
      "46004.236543538005\n",
      "After model init, Before data loading - Current allocated memory (GB): 0.0\n",
      "After data loading - Current allocated memory (GB): 0.0\n"
     ]
    },
    {
     "name": "stderr",
     "output_type": "stream",
     "text": [
      "  0%|                       | 0/150 [00:00<?, ?it/s]"
     ]
    },
    {
     "name": "stdout",
     "output_type": "stream",
     "text": [
      "Training...\n",
      "Adjusting learning rate of group 0 to 1.0000e-03.\n",
      "optimizer present\n"
     ]
    },
    {
     "name": "stderr",
     "output_type": "stream",
     "text": [
      "/its/home/nn268/.local/lib/python3.10/site-packages/torch/nn/modules/module.py:1518: UserWarning: Implicit dimension choice for softmax has been deprecated. Change the call to include dim=X as an argument.\n",
      "  return self._call_impl(*args, **kwargs)\n",
      "/its/home/nn268/.local/lib/python3.10/site-packages/torch/optim/lr_scheduler.py:149: UserWarning: The epoch parameter in `scheduler.step()` was not necessary and is being deprecated where possible. Please use `scheduler.step()` to step the scheduler. During the deprecation, if epoch is different from None, the closed form is used instead of the new chainable form, where available. Please open an issue if you are unable to replicate your use case: https://github.com/pytorch/pytorch/issues/new/choose.\n",
      "  warnings.warn(EPOCH_DEPRECATION_WARNING, UserWarning)\n"
     ]
    },
    {
     "name": "stdout",
     "output_type": "stream",
     "text": [
      "Epoch 00002: adjusting learning rate of group 0 to 3.9885e-06.\n",
      "train accuracy:  10.336538461538462\n",
      "validating...\n"
     ]
    },
    {
     "name": "stderr",
     "output_type": "stream",
     "text": [
      "  1%|               | 1/150 [00:01<03:19,  1.34s/it]"
     ]
    },
    {
     "name": "stdout",
     "output_type": "stream",
     "text": [
      "validation accuracy:  8.238636363636363\n",
      "Training...\n",
      "Adjusting learning rate of group 0 to 3.9885e-06.\n",
      "optimizer present\n",
      "Epoch 00002: adjusting learning rate of group 0 to 3.9966e-06.\n",
      "train accuracy:  9.67548076923077\n",
      "validating...\n"
     ]
    },
    {
     "name": "stderr",
     "output_type": "stream",
     "text": [
      "  1%|▏              | 2/150 [00:02<03:16,  1.33s/it]"
     ]
    },
    {
     "name": "stdout",
     "output_type": "stream",
     "text": [
      "validation accuracy:  8.096590909090908\n",
      "Training...\n",
      "Adjusting learning rate of group 0 to 3.9966e-06.\n",
      "optimizer present\n",
      "Epoch 00002: adjusting learning rate of group 0 to 4.0034e-06.\n",
      "train accuracy:  10.516826923076923\n",
      "validating...\n"
     ]
    },
    {
     "name": "stderr",
     "output_type": "stream",
     "text": [
      "  2%|▎              | 3/150 [00:03<03:14,  1.32s/it]"
     ]
    },
    {
     "name": "stdout",
     "output_type": "stream",
     "text": [
      "validation accuracy:  7.954545454545454\n",
      "Training...\n",
      "Adjusting learning rate of group 0 to 4.0034e-06.\n",
      "optimizer present\n",
      "Epoch 00002: adjusting learning rate of group 0 to 3.9997e-06.\n",
      "train accuracy:  9.495192307692307\n",
      "validating...\n"
     ]
    },
    {
     "name": "stderr",
     "output_type": "stream",
     "text": [
      "  3%|▍              | 4/150 [00:05<03:13,  1.32s/it]"
     ]
    },
    {
     "name": "stdout",
     "output_type": "stream",
     "text": [
      "validation accuracy:  8.096590909090908\n",
      "Training...\n",
      "Adjusting learning rate of group 0 to 3.9997e-06.\n",
      "optimizer present\n",
      "Epoch 00002: adjusting learning rate of group 0 to 4.0059e-06.\n",
      "train accuracy:  8.653846153846153\n",
      "validating...\n"
     ]
    },
    {
     "name": "stderr",
     "output_type": "stream",
     "text": [
      "  3%|▌              | 5/150 [00:06<03:11,  1.32s/it]"
     ]
    },
    {
     "name": "stdout",
     "output_type": "stream",
     "text": [
      "validation accuracy:  7.954545454545454\n",
      "Training...\n",
      "Adjusting learning rate of group 0 to 4.0059e-06.\n",
      "optimizer present\n",
      "Epoch 00002: adjusting learning rate of group 0 to 3.9980e-06.\n",
      "train accuracy:  8.59375\n",
      "validating...\n"
     ]
    },
    {
     "name": "stderr",
     "output_type": "stream",
     "text": [
      "  4%|▌              | 6/150 [00:07<03:09,  1.31s/it]"
     ]
    },
    {
     "name": "stdout",
     "output_type": "stream",
     "text": [
      "validation accuracy:  8.096590909090908\n",
      "Training...\n",
      "Adjusting learning rate of group 0 to 3.9980e-06.\n",
      "optimizer present\n",
      "Epoch 00002: adjusting learning rate of group 0 to 4.0047e-06.\n",
      "train accuracy:  9.014423076923077\n",
      "validating...\n"
     ]
    },
    {
     "name": "stderr",
     "output_type": "stream",
     "text": [
      "  5%|▋              | 7/150 [00:09<03:08,  1.32s/it]"
     ]
    },
    {
     "name": "stdout",
     "output_type": "stream",
     "text": [
      "validation accuracy:  8.238636363636363\n",
      "Training...\n",
      "Adjusting learning rate of group 0 to 4.0047e-06.\n",
      "optimizer present\n",
      "Epoch 00002: adjusting learning rate of group 0 to 4.0055e-06.\n",
      "train accuracy:  8.533653846153847\n",
      "validating...\n"
     ]
    },
    {
     "name": "stderr",
     "output_type": "stream",
     "text": [
      "  5%|▊              | 8/150 [00:10<03:08,  1.33s/it]"
     ]
    },
    {
     "name": "stdout",
     "output_type": "stream",
     "text": [
      "validation accuracy:  8.380681818181818\n",
      "Training...\n",
      "Adjusting learning rate of group 0 to 4.0055e-06.\n",
      "optimizer present\n",
      "Epoch 00002: adjusting learning rate of group 0 to 3.9996e-06.\n",
      "train accuracy:  9.615384615384617\n",
      "validating...\n"
     ]
    },
    {
     "name": "stderr",
     "output_type": "stream",
     "text": [
      "  6%|▉              | 9/150 [00:11<03:08,  1.34s/it]"
     ]
    },
    {
     "name": "stdout",
     "output_type": "stream",
     "text": [
      "validation accuracy:  8.096590909090908\n",
      "Training...\n",
      "Adjusting learning rate of group 0 to 3.9996e-06.\n",
      "optimizer present\n",
      "Epoch 00002: adjusting learning rate of group 0 to 3.9979e-06.\n",
      "train accuracy:  9.435096153846153\n",
      "validating...\n"
     ]
    },
    {
     "name": "stderr",
     "output_type": "stream",
     "text": [
      "  7%|▉             | 10/150 [00:13<03:06,  1.33s/it]"
     ]
    },
    {
     "name": "stdout",
     "output_type": "stream",
     "text": [
      "validation accuracy:  8.522727272727272\n",
      "Training...\n",
      "Adjusting learning rate of group 0 to 3.9979e-06.\n",
      "optimizer present\n",
      "Epoch 00002: adjusting learning rate of group 0 to 4.0005e-06.\n",
      "train accuracy:  9.435096153846153\n",
      "validating...\n"
     ]
    },
    {
     "name": "stderr",
     "output_type": "stream",
     "text": [
      "  7%|█             | 11/150 [00:14<03:04,  1.33s/it]"
     ]
    },
    {
     "name": "stdout",
     "output_type": "stream",
     "text": [
      "validation accuracy:  8.096590909090908\n",
      "Training...\n",
      "Adjusting learning rate of group 0 to 4.0005e-06.\n",
      "optimizer present\n",
      "Epoch 00002: adjusting learning rate of group 0 to 4.0037e-06.\n",
      "train accuracy:  9.435096153846153\n",
      "validating...\n"
     ]
    },
    {
     "name": "stderr",
     "output_type": "stream",
     "text": [
      "  8%|█             | 12/150 [00:15<03:03,  1.33s/it]"
     ]
    },
    {
     "name": "stdout",
     "output_type": "stream",
     "text": [
      "validation accuracy:  8.238636363636363\n",
      "Training...\n",
      "Adjusting learning rate of group 0 to 4.0037e-06.\n",
      "optimizer present\n",
      "Epoch 00002: adjusting learning rate of group 0 to 4.0113e-06.\n",
      "train accuracy:  10.63701923076923\n",
      "validating...\n"
     ]
    },
    {
     "name": "stderr",
     "output_type": "stream",
     "text": [
      "  9%|█▏            | 13/150 [00:17<03:01,  1.33s/it]"
     ]
    },
    {
     "name": "stdout",
     "output_type": "stream",
     "text": [
      "validation accuracy:  8.238636363636363\n",
      "Training...\n",
      "Adjusting learning rate of group 0 to 4.0113e-06.\n",
      "optimizer present\n",
      "Epoch 00002: adjusting learning rate of group 0 to 4.0095e-06.\n",
      "train accuracy:  8.533653846153847\n",
      "validating...\n"
     ]
    },
    {
     "name": "stderr",
     "output_type": "stream",
     "text": [
      "  9%|█▎            | 14/150 [00:18<03:00,  1.33s/it]"
     ]
    },
    {
     "name": "stdout",
     "output_type": "stream",
     "text": [
      "validation accuracy:  8.380681818181818\n",
      "Training...\n",
      "Adjusting learning rate of group 0 to 4.0095e-06.\n",
      "optimizer present\n",
      "Epoch 00002: adjusting learning rate of group 0 to 4.0062e-06.\n",
      "train accuracy:  9.85576923076923\n",
      "validating...\n"
     ]
    },
    {
     "name": "stderr",
     "output_type": "stream",
     "text": [
      " 10%|█▍            | 15/150 [00:19<03:02,  1.35s/it]"
     ]
    },
    {
     "name": "stdout",
     "output_type": "stream",
     "text": [
      "validation accuracy:  8.238636363636363\n",
      "Training...\n",
      "Adjusting learning rate of group 0 to 4.0062e-06.\n",
      "optimizer present\n",
      "Epoch 00002: adjusting learning rate of group 0 to 3.9949e-06.\n",
      "train accuracy:  9.975961538461538\n",
      "validating...\n"
     ]
    },
    {
     "name": "stderr",
     "output_type": "stream",
     "text": [
      " 11%|█▍            | 16/150 [00:21<03:00,  1.35s/it]"
     ]
    },
    {
     "name": "stdout",
     "output_type": "stream",
     "text": [
      "validation accuracy:  8.238636363636363\n",
      "Training...\n",
      "Adjusting learning rate of group 0 to 3.9949e-06.\n",
      "optimizer present\n",
      "Epoch 00002: adjusting learning rate of group 0 to 4.0065e-06.\n",
      "train accuracy:  10.336538461538462\n",
      "validating...\n"
     ]
    },
    {
     "name": "stderr",
     "output_type": "stream",
     "text": [
      " 11%|█▌            | 17/150 [00:22<02:58,  1.34s/it]"
     ]
    },
    {
     "name": "stdout",
     "output_type": "stream",
     "text": [
      "validation accuracy:  8.238636363636363\n",
      "Training...\n",
      "Adjusting learning rate of group 0 to 4.0065e-06.\n",
      "optimizer present\n",
      "Epoch 00002: adjusting learning rate of group 0 to 4.0193e-06.\n",
      "train accuracy:  9.915865384615383\n",
      "validating...\n"
     ]
    },
    {
     "name": "stderr",
     "output_type": "stream",
     "text": [
      " 12%|█▋            | 18/150 [00:23<02:56,  1.34s/it]"
     ]
    },
    {
     "name": "stdout",
     "output_type": "stream",
     "text": [
      "validation accuracy:  8.238636363636363\n",
      "Training...\n",
      "Adjusting learning rate of group 0 to 4.0193e-06.\n",
      "optimizer present\n",
      "Epoch 00002: adjusting learning rate of group 0 to 3.9962e-06.\n",
      "train accuracy:  9.134615384615383\n",
      "validating...\n"
     ]
    },
    {
     "name": "stderr",
     "output_type": "stream",
     "text": [
      " 13%|█▊            | 19/150 [00:25<02:53,  1.33s/it]"
     ]
    },
    {
     "name": "stdout",
     "output_type": "stream",
     "text": [
      "validation accuracy:  8.096590909090908\n",
      "Training...\n",
      "Adjusting learning rate of group 0 to 3.9962e-06.\n",
      "optimizer present\n",
      "Epoch 00002: adjusting learning rate of group 0 to 4.0035e-06.\n",
      "train accuracy:  8.954326923076923\n",
      "validating...\n"
     ]
    },
    {
     "name": "stderr",
     "output_type": "stream",
     "text": [
      " 13%|█▊            | 20/150 [00:26<02:52,  1.33s/it]"
     ]
    },
    {
     "name": "stdout",
     "output_type": "stream",
     "text": [
      "validation accuracy:  8.380681818181818\n",
      "Training...\n",
      "Adjusting learning rate of group 0 to 4.0035e-06.\n",
      "optimizer present\n",
      "Epoch 00002: adjusting learning rate of group 0 to 4.0031e-06.\n",
      "train accuracy:  9.67548076923077\n",
      "validating...\n"
     ]
    },
    {
     "name": "stderr",
     "output_type": "stream",
     "text": [
      " 14%|█▉            | 21/150 [00:27<02:50,  1.32s/it]"
     ]
    },
    {
     "name": "stdout",
     "output_type": "stream",
     "text": [
      "validation accuracy:  8.380681818181818\n",
      "Training...\n",
      "Adjusting learning rate of group 0 to 4.0031e-06.\n",
      "optimizer present\n",
      "Epoch 00002: adjusting learning rate of group 0 to 4.0124e-06.\n",
      "train accuracy:  9.07451923076923\n",
      "validating...\n"
     ]
    },
    {
     "name": "stderr",
     "output_type": "stream",
     "text": [
      " 15%|██            | 22/150 [00:29<02:49,  1.32s/it]"
     ]
    },
    {
     "name": "stdout",
     "output_type": "stream",
     "text": [
      "validation accuracy:  7.954545454545454\n",
      "Training...\n",
      "Adjusting learning rate of group 0 to 4.0124e-06.\n",
      "optimizer present\n",
      "Epoch 00002: adjusting learning rate of group 0 to 4.0024e-06.\n",
      "train accuracy:  10.036057692307693\n",
      "validating...\n"
     ]
    },
    {
     "name": "stderr",
     "output_type": "stream",
     "text": [
      " 15%|██▏           | 23/150 [00:30<02:47,  1.32s/it]"
     ]
    },
    {
     "name": "stdout",
     "output_type": "stream",
     "text": [
      "validation accuracy:  7.954545454545454\n",
      "Training...\n",
      "Adjusting learning rate of group 0 to 4.0024e-06.\n",
      "optimizer present\n",
      "Epoch 00002: adjusting learning rate of group 0 to 3.9985e-06.\n",
      "train accuracy:  8.59375\n",
      "validating...\n"
     ]
    },
    {
     "name": "stderr",
     "output_type": "stream",
     "text": [
      " 16%|██▏           | 24/150 [00:31<02:46,  1.32s/it]"
     ]
    },
    {
     "name": "stdout",
     "output_type": "stream",
     "text": [
      "validation accuracy:  8.238636363636363\n",
      "Training...\n",
      "Adjusting learning rate of group 0 to 3.9985e-06.\n",
      "optimizer present\n",
      "Epoch 00002: adjusting learning rate of group 0 to 4.0087e-06.\n",
      "train accuracy:  10.516826923076923\n",
      "validating...\n"
     ]
    },
    {
     "name": "stderr",
     "output_type": "stream",
     "text": [
      " 17%|██▎           | 25/150 [00:33<02:43,  1.31s/it]"
     ]
    },
    {
     "name": "stdout",
     "output_type": "stream",
     "text": [
      "validation accuracy:  8.238636363636363\n",
      "Training...\n",
      "Adjusting learning rate of group 0 to 4.0087e-06.\n",
      "optimizer present\n",
      "Epoch 00002: adjusting learning rate of group 0 to 3.9967e-06.\n",
      "train accuracy:  9.014423076923077\n",
      "validating...\n",
      "validation accuracy:  8.096590909090908\n"
     ]
    },
    {
     "data": {
      "image/png": "[encoded data removed]",
      "text/plain": [
       "<Figure size 640x480 with 1 Axes>"
      ]
     },
     "metadata": {},
     "output_type": "display_data"
    },
    {
     "data": {
      "image/png": "[encoded data removed]",
      "text/plain": [
       "<Figure size 640x480 with 1 Axes>"
      ]
     },
     "metadata": {},
     "output_type": "display_data"
    },
    {
     "name": "stderr",
     "output_type": "stream",
     "text": [
      " 17%|██▍           | 26/150 [00:34<02:53,  1.40s/it]"
     ]
    },
    {
     "name": "stdout",
     "output_type": "stream",
     "text": [
      "Training...\n",
      "Adjusting learning rate of group 0 to 3.9967e-06.\n",
      "optimizer present\n",
      "Epoch 00002: adjusting learning rate of group 0 to 4.0122e-06.\n",
      "train accuracy:  9.134615384615383\n",
      "validating...\n"
     ]
    },
    {
     "name": "stderr",
     "output_type": "stream",
     "text": [
      " 18%|██▌           | 27/150 [00:36<02:48,  1.37s/it]"
     ]
    },
    {
     "name": "stdout",
     "output_type": "stream",
     "text": [
      "validation accuracy:  8.380681818181818\n",
      "Training...\n",
      "Adjusting learning rate of group 0 to 4.0122e-06.\n",
      "optimizer present\n",
      "Epoch 00002: adjusting learning rate of group 0 to 4.0023e-06.\n",
      "train accuracy:  10.276442307692307\n",
      "validating...\n"
     ]
    },
    {
     "name": "stderr",
     "output_type": "stream",
     "text": [
      " 19%|██▌           | 28/150 [00:37<02:44,  1.35s/it]"
     ]
    },
    {
     "name": "stdout",
     "output_type": "stream",
     "text": [
      "validation accuracy:  8.380681818181818\n",
      "Training...\n",
      "Adjusting learning rate of group 0 to 4.0023e-06.\n",
      "optimizer present\n",
      "Epoch 00002: adjusting learning rate of group 0 to 3.9959e-06.\n",
      "train accuracy:  9.555288461538462\n",
      "validating...\n"
     ]
    },
    {
     "name": "stderr",
     "output_type": "stream",
     "text": [
      " 19%|██▋           | 29/150 [00:38<02:41,  1.34s/it]"
     ]
    },
    {
     "name": "stdout",
     "output_type": "stream",
     "text": [
      "validation accuracy:  8.238636363636363\n",
      "Training...\n",
      "Adjusting learning rate of group 0 to 3.9959e-06.\n",
      "optimizer present\n",
      "Epoch 00002: adjusting learning rate of group 0 to 3.9955e-06.\n",
      "train accuracy:  9.314903846153847\n",
      "validating...\n"
     ]
    },
    {
     "name": "stderr",
     "output_type": "stream",
     "text": [
      " 20%|██▊           | 30/150 [00:39<02:39,  1.33s/it]"
     ]
    },
    {
     "name": "stdout",
     "output_type": "stream",
     "text": [
      "validation accuracy:  8.238636363636363\n",
      "Training...\n",
      "Adjusting learning rate of group 0 to 3.9955e-06.\n",
      "optimizer present\n",
      "Epoch 00002: adjusting learning rate of group 0 to 4.0087e-06.\n",
      "train accuracy:  9.435096153846153\n",
      "validating...\n"
     ]
    },
    {
     "name": "stderr",
     "output_type": "stream",
     "text": [
      " 21%|██▉           | 31/150 [00:41<02:37,  1.32s/it]"
     ]
    },
    {
     "name": "stdout",
     "output_type": "stream",
     "text": [
      "validation accuracy:  8.522727272727272\n",
      "Training...\n",
      "Adjusting learning rate of group 0 to 4.0087e-06.\n",
      "optimizer present\n",
      "Epoch 00002: adjusting learning rate of group 0 to 4.0116e-06.\n",
      "train accuracy:  10.096153846153847\n",
      "validating...\n"
     ]
    },
    {
     "name": "stderr",
     "output_type": "stream",
     "text": [
      " 21%|██▉           | 32/150 [00:42<02:36,  1.33s/it]"
     ]
    },
    {
     "name": "stdout",
     "output_type": "stream",
     "text": [
      "validation accuracy:  8.096590909090908\n",
      "Training...\n",
      "Adjusting learning rate of group 0 to 4.0116e-06.\n",
      "optimizer present\n",
      "Epoch 00002: adjusting learning rate of group 0 to 3.9983e-06.\n",
      "train accuracy:  8.233173076923077\n",
      "validating...\n"
     ]
    },
    {
     "name": "stderr",
     "output_type": "stream",
     "text": [
      " 22%|███           | 33/150 [00:43<02:33,  1.31s/it]"
     ]
    },
    {
     "name": "stdout",
     "output_type": "stream",
     "text": [
      "validation accuracy:  8.238636363636363\n",
      "Training...\n",
      "Adjusting learning rate of group 0 to 3.9983e-06.\n",
      "optimizer present\n",
      "Epoch 00002: adjusting learning rate of group 0 to 4.0117e-06.\n",
      "train accuracy:  9.375\n",
      "validating...\n"
     ]
    },
    {
     "name": "stderr",
     "output_type": "stream",
     "text": [
      " 23%|███▏          | 34/150 [00:45<02:31,  1.31s/it]"
     ]
    },
    {
     "name": "stdout",
     "output_type": "stream",
     "text": [
      "validation accuracy:  7.8125\n",
      "Training...\n",
      "Adjusting learning rate of group 0 to 4.0117e-06.\n",
      "optimizer present\n",
      "Epoch 00002: adjusting learning rate of group 0 to 3.9892e-06.\n",
      "train accuracy:  9.07451923076923\n",
      "validating...\n"
     ]
    },
    {
     "name": "stderr",
     "output_type": "stream",
     "text": [
      " 23%|███▎          | 35/150 [00:46<02:29,  1.30s/it]"
     ]
    },
    {
     "name": "stdout",
     "output_type": "stream",
     "text": [
      "validation accuracy:  8.522727272727272\n",
      "Training...\n",
      "Adjusting learning rate of group 0 to 3.9892e-06.\n",
      "optimizer present\n",
      "Epoch 00002: adjusting learning rate of group 0 to 4.0004e-06.\n",
      "train accuracy:  9.435096153846153\n",
      "validating...\n"
     ]
    },
    {
     "name": "stderr",
     "output_type": "stream",
     "text": [
      " 24%|███▎          | 36/150 [00:47<02:27,  1.30s/it]"
     ]
    },
    {
     "name": "stdout",
     "output_type": "stream",
     "text": [
      "validation accuracy:  8.238636363636363\n",
      "Training...\n",
      "Adjusting learning rate of group 0 to 4.0004e-06.\n",
      "optimizer present\n",
      "Epoch 00002: adjusting learning rate of group 0 to 3.9987e-06.\n",
      "train accuracy:  8.774038461538462\n",
      "validating...\n"
     ]
    },
    {
     "name": "stderr",
     "output_type": "stream",
     "text": [
      " 25%|███▍          | 37/150 [00:49<02:26,  1.30s/it]"
     ]
    },
    {
     "name": "stdout",
     "output_type": "stream",
     "text": [
      "validation accuracy:  8.380681818181818\n",
      "Training...\n",
      "Adjusting learning rate of group 0 to 3.9987e-06.\n",
      "optimizer present\n",
      "Epoch 00002: adjusting learning rate of group 0 to 4.0100e-06.\n",
      "train accuracy:  8.89423076923077\n",
      "validating...\n"
     ]
    },
    {
     "name": "stderr",
     "output_type": "stream",
     "text": [
      " 25%|███▌          | 38/150 [00:50<02:25,  1.30s/it]"
     ]
    },
    {
     "name": "stdout",
     "output_type": "stream",
     "text": [
      "validation accuracy:  8.380681818181818\n",
      "Training...\n",
      "Adjusting learning rate of group 0 to 4.0100e-06.\n",
      "optimizer present\n",
      "Epoch 00002: adjusting learning rate of group 0 to 4.0007e-06.\n",
      "train accuracy:  9.615384615384617\n",
      "validating...\n"
     ]
    },
    {
     "name": "stderr",
     "output_type": "stream",
     "text": [
      " 26%|███▋          | 39/150 [00:51<02:23,  1.29s/it]"
     ]
    },
    {
     "name": "stdout",
     "output_type": "stream",
     "text": [
      "validation accuracy:  7.8125\n",
      "Training...\n",
      "Adjusting learning rate of group 0 to 4.0007e-06.\n",
      "optimizer present\n",
      "Epoch 00002: adjusting learning rate of group 0 to 4.0020e-06.\n",
      "train accuracy:  8.713942307692307\n",
      "validating...\n"
     ]
    },
    {
     "name": "stderr",
     "output_type": "stream",
     "text": [
      " 27%|███▋          | 40/150 [00:52<02:22,  1.29s/it]"
     ]
    },
    {
     "name": "stdout",
     "output_type": "stream",
     "text": [
      "validation accuracy:  8.096590909090908\n",
      "Training...\n",
      "Adjusting learning rate of group 0 to 4.0020e-06.\n",
      "optimizer present\n",
      "Epoch 00002: adjusting learning rate of group 0 to 4.0060e-06.\n",
      "train accuracy:  8.774038461538462\n",
      "validating...\n"
     ]
    },
    {
     "name": "stderr",
     "output_type": "stream",
     "text": [
      " 27%|███▊          | 41/150 [00:54<02:21,  1.30s/it]"
     ]
    },
    {
     "name": "stdout",
     "output_type": "stream",
     "text": [
      "validation accuracy:  8.096590909090908\n",
      "Training...\n",
      "Adjusting learning rate of group 0 to 4.0060e-06.\n",
      "optimizer present\n",
      "Epoch 00002: adjusting learning rate of group 0 to 4.0046e-06.\n",
      "train accuracy:  8.59375\n",
      "validating...\n"
     ]
    },
    {
     "name": "stderr",
     "output_type": "stream",
     "text": [
      " 28%|███▉          | 42/150 [00:55<02:19,  1.29s/it]"
     ]
    },
    {
     "name": "stdout",
     "output_type": "stream",
     "text": [
      "validation accuracy:  7.8125\n",
      "Training...\n",
      "Adjusting learning rate of group 0 to 4.0046e-06.\n",
      "optimizer present\n",
      "Epoch 00002: adjusting learning rate of group 0 to 4.0119e-06.\n",
      "train accuracy:  9.85576923076923\n",
      "validating...\n"
     ]
    },
    {
     "name": "stderr",
     "output_type": "stream",
     "text": [
      " 29%|████          | 43/150 [00:56<02:17,  1.29s/it]"
     ]
    },
    {
     "name": "stdout",
     "output_type": "stream",
     "text": [
      "validation accuracy:  8.380681818181818\n",
      "Training...\n",
      "Adjusting learning rate of group 0 to 4.0119e-06.\n",
      "optimizer present\n",
      "Epoch 00002: adjusting learning rate of group 0 to 4.0035e-06.\n",
      "train accuracy:  9.735576923076923\n",
      "validating...\n"
     ]
    },
    {
     "name": "stderr",
     "output_type": "stream",
     "text": [
      " 29%|████          | 44/150 [00:58<02:17,  1.29s/it]"
     ]
    },
    {
     "name": "stdout",
     "output_type": "stream",
     "text": [
      "validation accuracy:  7.954545454545454\n",
      "Training...\n",
      "Adjusting learning rate of group 0 to 4.0035e-06.\n",
      "optimizer present\n",
      "Epoch 00002: adjusting learning rate of group 0 to 3.9888e-06.\n",
      "train accuracy:  8.89423076923077\n",
      "validating...\n"
     ]
    },
    {
     "name": "stderr",
     "output_type": "stream",
     "text": [
      " 30%|████▏         | 45/150 [00:59<02:15,  1.29s/it]"
     ]
    },
    {
     "name": "stdout",
     "output_type": "stream",
     "text": [
      "validation accuracy:  8.380681818181818\n",
      "Training...\n",
      "Adjusting learning rate of group 0 to 3.9888e-06.\n",
      "optimizer present\n",
      "Epoch 00002: adjusting learning rate of group 0 to 4.0094e-06.\n",
      "train accuracy:  10.036057692307693\n",
      "validating...\n"
     ]
    },
    {
     "name": "stderr",
     "output_type": "stream",
     "text": [
      " 31%|████▎         | 46/150 [01:00<02:14,  1.29s/it]"
     ]
    },
    {
     "name": "stdout",
     "output_type": "stream",
     "text": [
      "validation accuracy:  7.954545454545454\n",
      "Training...\n",
      "Adjusting learning rate of group 0 to 4.0094e-06.\n",
      "optimizer present\n",
      "Epoch 00002: adjusting learning rate of group 0 to 3.9972e-06.\n",
      "train accuracy:  9.975961538461538\n",
      "validating...\n"
     ]
    },
    {
     "name": "stderr",
     "output_type": "stream",
     "text": [
      " 31%|████▍         | 47/150 [01:01<02:13,  1.29s/it]"
     ]
    },
    {
     "name": "stdout",
     "output_type": "stream",
     "text": [
      "validation accuracy:  7.8125\n",
      "Training...\n",
      "Adjusting learning rate of group 0 to 3.9972e-06.\n",
      "optimizer present\n",
      "Epoch 00002: adjusting learning rate of group 0 to 4.0126e-06.\n",
      "train accuracy:  9.495192307692307\n",
      "validating...\n"
     ]
    },
    {
     "name": "stderr",
     "output_type": "stream",
     "text": [
      " 32%|████▍         | 48/150 [01:03<02:13,  1.31s/it]"
     ]
    },
    {
     "name": "stdout",
     "output_type": "stream",
     "text": [
      "validation accuracy:  8.380681818181818\n",
      "Training...\n",
      "Adjusting learning rate of group 0 to 4.0126e-06.\n",
      "optimizer present\n",
      "Epoch 00002: adjusting learning rate of group 0 to 3.9933e-06.\n",
      "train accuracy:  8.834134615384617\n",
      "validating...\n"
     ]
    },
    {
     "name": "stderr",
     "output_type": "stream",
     "text": [
      " 33%|████▌         | 49/150 [01:04<02:11,  1.30s/it]"
     ]
    },
    {
     "name": "stdout",
     "output_type": "stream",
     "text": [
      "validation accuracy:  8.238636363636363\n",
      "Training...\n",
      "Adjusting learning rate of group 0 to 3.9933e-06.\n",
      "optimizer present\n",
      "Epoch 00002: adjusting learning rate of group 0 to 3.9975e-06.\n",
      "train accuracy:  9.134615384615383\n",
      "validating...\n"
     ]
    },
    {
     "name": "stderr",
     "output_type": "stream",
     "text": [
      " 33%|████▋         | 50/150 [01:05<02:09,  1.30s/it]"
     ]
    },
    {
     "name": "stdout",
     "output_type": "stream",
     "text": [
      "validation accuracy:  8.096590909090908\n",
      "Training...\n",
      "Adjusting learning rate of group 0 to 3.9975e-06.\n",
      "optimizer present\n",
      "Epoch 00002: adjusting learning rate of group 0 to 3.9986e-06.\n",
      "train accuracy:  8.353365384615383\n",
      "validating...\n",
      "validation accuracy:  8.238636363636363\n"
     ]
    },
    {
     "data": {
      "image/png": "[encoded data removed]",
      "text/plain": [
       "<Figure size 640x480 with 1 Axes>"
      ]
     },
     "metadata": {},
     "output_type": "display_data"
    },
    {
     "data": {
      "image/png": "[encoded data removed]",
      "text/plain": [
       "<Figure size 640x480 with 1 Axes>"
      ]
     },
     "metadata": {},
     "output_type": "display_data"
    },
    {
     "name": "stderr",
     "output_type": "stream",
     "text": [
      " 34%|████▊         | 51/150 [01:07<02:17,  1.39s/it]"
     ]
    },
    {
     "name": "stdout",
     "output_type": "stream",
     "text": [
      "Training...\n",
      "Adjusting learning rate of group 0 to 3.9986e-06.\n",
      "optimizer present\n",
      "Epoch 00002: adjusting learning rate of group 0 to 4.0062e-06.\n",
      "train accuracy:  9.254807692307693\n",
      "validating...\n"
     ]
    },
    {
     "name": "stderr",
     "output_type": "stream",
     "text": [
      " 35%|████▊         | 52/150 [01:08<02:13,  1.36s/it]"
     ]
    },
    {
     "name": "stdout",
     "output_type": "stream",
     "text": [
      "validation accuracy:  8.238636363636363\n",
      "Training...\n",
      "Adjusting learning rate of group 0 to 4.0062e-06.\n",
      "optimizer present\n",
      "Epoch 00002: adjusting learning rate of group 0 to 4.0032e-06.\n",
      "train accuracy:  9.495192307692307\n",
      "validating...\n"
     ]
    },
    {
     "name": "stderr",
     "output_type": "stream",
     "text": [
      " 35%|████▉         | 53/150 [01:10<02:11,  1.35s/it]"
     ]
    },
    {
     "name": "stdout",
     "output_type": "stream",
     "text": [
      "validation accuracy:  8.380681818181818\n",
      "Training...\n",
      "Adjusting learning rate of group 0 to 4.0032e-06.\n",
      "optimizer present\n",
      "Epoch 00002: adjusting learning rate of group 0 to 4.0007e-06.\n",
      "train accuracy:  9.254807692307693\n",
      "validating...\n"
     ]
    },
    {
     "name": "stderr",
     "output_type": "stream",
     "text": [
      " 36%|█████         | 54/150 [01:11<02:07,  1.33s/it]"
     ]
    },
    {
     "name": "stdout",
     "output_type": "stream",
     "text": [
      "validation accuracy:  8.096590909090908\n",
      "Training...\n",
      "Adjusting learning rate of group 0 to 4.0007e-06.\n",
      "optimizer present\n",
      "Epoch 00002: adjusting learning rate of group 0 to 4.0015e-06.\n",
      "train accuracy:  9.254807692307693\n",
      "validating...\n"
     ]
    },
    {
     "name": "stderr",
     "output_type": "stream",
     "text": [
      " 37%|█████▏        | 55/150 [01:12<02:05,  1.32s/it]"
     ]
    },
    {
     "name": "stdout",
     "output_type": "stream",
     "text": [
      "validation accuracy:  7.8125\n",
      "Training...\n",
      "Adjusting learning rate of group 0 to 4.0015e-06.\n",
      "optimizer present\n",
      "Epoch 00002: adjusting learning rate of group 0 to 4.0070e-06.\n",
      "train accuracy:  10.336538461538462\n",
      "validating...\n"
     ]
    },
    {
     "name": "stderr",
     "output_type": "stream",
     "text": [
      " 37%|█████▏        | 56/150 [01:14<02:03,  1.31s/it]"
     ]
    },
    {
     "name": "stdout",
     "output_type": "stream",
     "text": [
      "validation accuracy:  8.380681818181818\n",
      "Training...\n",
      "Adjusting learning rate of group 0 to 4.0070e-06.\n",
      "optimizer present\n",
      "Epoch 00002: adjusting learning rate of group 0 to 4.0055e-06.\n",
      "train accuracy:  9.915865384615383\n",
      "validating...\n"
     ]
    },
    {
     "name": "stderr",
     "output_type": "stream",
     "text": [
      " 38%|█████▎        | 57/150 [01:15<02:01,  1.30s/it]"
     ]
    },
    {
     "name": "stdout",
     "output_type": "stream",
     "text": [
      "validation accuracy:  7.954545454545454\n",
      "Training...\n",
      "Adjusting learning rate of group 0 to 4.0055e-06.\n",
      "optimizer present\n",
      "Epoch 00002: adjusting learning rate of group 0 to 4.0005e-06.\n",
      "train accuracy:  8.834134615384617\n",
      "validating...\n"
     ]
    },
    {
     "name": "stderr",
     "output_type": "stream",
     "text": [
      " 39%|█████▍        | 58/150 [01:16<01:59,  1.30s/it]"
     ]
    },
    {
     "name": "stdout",
     "output_type": "stream",
     "text": [
      "validation accuracy:  8.380681818181818\n",
      "Training...\n",
      "Adjusting learning rate of group 0 to 4.0005e-06.\n",
      "optimizer present\n",
      "Epoch 00002: adjusting learning rate of group 0 to 3.9910e-06.\n",
      "train accuracy:  8.89423076923077\n",
      "validating...\n"
     ]
    },
    {
     "name": "stderr",
     "output_type": "stream",
     "text": [
      " 39%|█████▌        | 59/150 [01:17<01:57,  1.29s/it]"
     ]
    },
    {
     "name": "stdout",
     "output_type": "stream",
     "text": [
      "validation accuracy:  8.238636363636363\n",
      "Training...\n",
      "Adjusting learning rate of group 0 to 3.9910e-06.\n",
      "optimizer present\n",
      "Epoch 00002: adjusting learning rate of group 0 to 4.0073e-06.\n",
      "train accuracy:  9.735576923076923\n",
      "validating...\n"
     ]
    },
    {
     "name": "stderr",
     "output_type": "stream",
     "text": [
      " 40%|█████▌        | 60/150 [01:19<01:56,  1.29s/it]"
     ]
    },
    {
     "name": "stdout",
     "output_type": "stream",
     "text": [
      "validation accuracy:  7.954545454545454\n",
      "Training...\n",
      "Adjusting learning rate of group 0 to 4.0073e-06.\n",
      "optimizer present\n",
      "Epoch 00002: adjusting learning rate of group 0 to 4.0120e-06.\n",
      "train accuracy:  8.774038461538462\n",
      "validating...\n"
     ]
    },
    {
     "name": "stderr",
     "output_type": "stream",
     "text": [
      " 41%|█████▋        | 61/150 [01:20<01:54,  1.28s/it]"
     ]
    },
    {
     "name": "stdout",
     "output_type": "stream",
     "text": [
      "validation accuracy:  8.380681818181818\n",
      "Training...\n",
      "Adjusting learning rate of group 0 to 4.0120e-06.\n",
      "optimizer present\n",
      "Epoch 00002: adjusting learning rate of group 0 to 4.0069e-06.\n",
      "train accuracy:  9.314903846153847\n",
      "validating...\n"
     ]
    },
    {
     "name": "stderr",
     "output_type": "stream",
     "text": [
      " 41%|█████▊        | 62/150 [01:21<01:52,  1.28s/it]"
     ]
    },
    {
     "name": "stdout",
     "output_type": "stream",
     "text": [
      "validation accuracy:  8.096590909090908\n",
      "Training...\n",
      "Adjusting learning rate of group 0 to 4.0069e-06.\n",
      "optimizer present\n",
      "Epoch 00002: adjusting learning rate of group 0 to 3.9945e-06.\n",
      "train accuracy:  9.85576923076923\n",
      "validating...\n"
     ]
    },
    {
     "name": "stderr",
     "output_type": "stream",
     "text": [
      " 42%|█████▉        | 63/150 [01:22<01:51,  1.28s/it]"
     ]
    },
    {
     "name": "stdout",
     "output_type": "stream",
     "text": [
      "validation accuracy:  7.954545454545454\n",
      "Training...\n",
      "Adjusting learning rate of group 0 to 3.9945e-06.\n",
      "optimizer present\n",
      "Epoch 00002: adjusting learning rate of group 0 to 4.0007e-06.\n",
      "train accuracy:  9.795673076923077\n",
      "validating...\n"
     ]
    },
    {
     "name": "stderr",
     "output_type": "stream",
     "text": [
      " 43%|█████▉        | 64/150 [01:24<01:49,  1.27s/it]"
     ]
    },
    {
     "name": "stdout",
     "output_type": "stream",
     "text": [
      "validation accuracy:  8.096590909090908\n",
      "Training...\n",
      "Adjusting learning rate of group 0 to 4.0007e-06.\n",
      "optimizer present\n",
      "Epoch 00002: adjusting learning rate of group 0 to 4.0057e-06.\n",
      "train accuracy:  9.314903846153847\n",
      "validating...\n"
     ]
    },
    {
     "name": "stderr",
     "output_type": "stream",
     "text": [
      " 43%|██████        | 65/150 [01:25<01:48,  1.27s/it]"
     ]
    },
    {
     "name": "stdout",
     "output_type": "stream",
     "text": [
      "validation accuracy:  8.238636363636363\n",
      "Training...\n",
      "Adjusting learning rate of group 0 to 4.0057e-06.\n",
      "optimizer present\n",
      "Epoch 00002: adjusting learning rate of group 0 to 3.9985e-06.\n",
      "train accuracy:  9.194711538461538\n",
      "validating...\n"
     ]
    },
    {
     "name": "stderr",
     "output_type": "stream",
     "text": [
      " 44%|██████▏       | 66/150 [01:26<01:46,  1.27s/it]"
     ]
    },
    {
     "name": "stdout",
     "output_type": "stream",
     "text": [
      "validation accuracy:  7.954545454545454\n",
      "Training...\n",
      "Adjusting learning rate of group 0 to 3.9985e-06.\n",
      "optimizer present\n",
      "Epoch 00002: adjusting learning rate of group 0 to 3.9999e-06.\n",
      "train accuracy:  8.59375\n",
      "validating...\n"
     ]
    },
    {
     "name": "stderr",
     "output_type": "stream",
     "text": [
      " 45%|██████▎       | 67/150 [01:28<01:53,  1.37s/it]"
     ]
    },
    {
     "name": "stdout",
     "output_type": "stream",
     "text": [
      "validation accuracy:  7.954545454545454\n",
      "Training...\n",
      "Adjusting learning rate of group 0 to 3.9999e-06.\n",
      "optimizer present\n",
      "Epoch 00002: adjusting learning rate of group 0 to 4.0021e-06.\n",
      "train accuracy:  10.276442307692307\n",
      "validating...\n"
     ]
    },
    {
     "name": "stderr",
     "output_type": "stream",
     "text": [
      " 45%|██████▎       | 68/150 [01:29<01:49,  1.34s/it]"
     ]
    },
    {
     "name": "stdout",
     "output_type": "stream",
     "text": [
      "validation accuracy:  8.380681818181818\n",
      "Training...\n",
      "Adjusting learning rate of group 0 to 4.0021e-06.\n",
      "optimizer present\n",
      "Epoch 00002: adjusting learning rate of group 0 to 4.0106e-06.\n",
      "train accuracy:  9.915865384615383\n",
      "validating...\n"
     ]
    },
    {
     "name": "stderr",
     "output_type": "stream",
     "text": [
      " 46%|██████▍       | 69/150 [01:30<01:47,  1.32s/it]"
     ]
    },
    {
     "name": "stdout",
     "output_type": "stream",
     "text": [
      "validation accuracy:  8.238636363636363\n",
      "Training...\n",
      "Adjusting learning rate of group 0 to 4.0106e-06.\n",
      "optimizer present\n",
      "Epoch 00002: adjusting learning rate of group 0 to 4.0071e-06.\n",
      "train accuracy:  9.555288461538462\n",
      "validating...\n"
     ]
    },
    {
     "name": "stderr",
     "output_type": "stream",
     "text": [
      " 47%|██████▌       | 70/150 [01:32<01:44,  1.31s/it]"
     ]
    },
    {
     "name": "stdout",
     "output_type": "stream",
     "text": [
      "validation accuracy:  8.238636363636363\n",
      "Training...\n",
      "Adjusting learning rate of group 0 to 4.0071e-06.\n",
      "optimizer present\n",
      "Epoch 00002: adjusting learning rate of group 0 to 3.9986e-06.\n",
      "train accuracy:  9.254807692307693\n",
      "validating...\n"
     ]
    },
    {
     "name": "stderr",
     "output_type": "stream",
     "text": [
      " 47%|██████▋       | 71/150 [01:33<01:42,  1.30s/it]"
     ]
    },
    {
     "name": "stdout",
     "output_type": "stream",
     "text": [
      "validation accuracy:  8.096590909090908\n",
      "Training...\n",
      "Adjusting learning rate of group 0 to 3.9986e-06.\n",
      "optimizer present\n",
      "Epoch 00002: adjusting learning rate of group 0 to 4.0086e-06.\n",
      "train accuracy:  9.615384615384617\n",
      "validating...\n"
     ]
    },
    {
     "name": "stderr",
     "output_type": "stream",
     "text": [
      " 48%|██████▋       | 72/150 [01:34<01:40,  1.29s/it]"
     ]
    },
    {
     "name": "stdout",
     "output_type": "stream",
     "text": [
      "validation accuracy:  8.096590909090908\n",
      "Training...\n",
      "Adjusting learning rate of group 0 to 4.0086e-06.\n",
      "optimizer present\n",
      "Epoch 00002: adjusting learning rate of group 0 to 3.9980e-06.\n",
      "train accuracy:  10.036057692307693\n",
      "validating...\n"
     ]
    },
    {
     "name": "stderr",
     "output_type": "stream",
     "text": [
      " 49%|██████▊       | 73/150 [01:36<01:38,  1.28s/it]"
     ]
    },
    {
     "name": "stdout",
     "output_type": "stream",
     "text": [
      "validation accuracy:  8.522727272727272\n",
      "Training...\n",
      "Adjusting learning rate of group 0 to 3.9980e-06.\n",
      "optimizer present\n",
      "Epoch 00002: adjusting learning rate of group 0 to 4.0015e-06.\n",
      "train accuracy:  9.735576923076923\n",
      "validating...\n"
     ]
    },
    {
     "name": "stderr",
     "output_type": "stream",
     "text": [
      " 49%|██████▉       | 74/150 [01:37<01:37,  1.28s/it]"
     ]
    },
    {
     "name": "stdout",
     "output_type": "stream",
     "text": [
      "validation accuracy:  8.238636363636363\n",
      "Training...\n",
      "Adjusting learning rate of group 0 to 4.0015e-06.\n",
      "optimizer present\n",
      "Epoch 00002: adjusting learning rate of group 0 to 4.0188e-06.\n",
      "train accuracy:  9.615384615384617\n",
      "validating...\n"
     ]
    },
    {
     "name": "stderr",
     "output_type": "stream",
     "text": [
      " 50%|███████       | 75/150 [01:38<01:35,  1.28s/it]"
     ]
    },
    {
     "name": "stdout",
     "output_type": "stream",
     "text": [
      "validation accuracy:  8.238636363636363\n",
      "Training...\n",
      "Adjusting learning rate of group 0 to 4.0188e-06.\n",
      "optimizer present\n",
      "Epoch 00002: adjusting learning rate of group 0 to 4.0079e-06.\n",
      "train accuracy:  8.954326923076923\n",
      "validating...\n",
      "validation accuracy:  8.380681818181818\n"
     ]
    },
    {
     "data": {
      "image/png": "[encoded data removed]",
      "text/plain": [
       "<Figure size 640x480 with 1 Axes>"
      ]
     },
     "metadata": {},
     "output_type": "display_data"
    },
    {
     "data": {
      "image/png": "[encoded data removed]",
      "text/plain": [
       "<Figure size 640x480 with 1 Axes>"
      ]
     },
     "metadata": {},
     "output_type": "display_data"
    },
    {
     "name": "stderr",
     "output_type": "stream",
     "text": [
      " 51%|███████       | 76/150 [01:40<01:41,  1.37s/it]"
     ]
    },
    {
     "name": "stdout",
     "output_type": "stream",
     "text": [
      "Training...\n",
      "Adjusting learning rate of group 0 to 4.0079e-06.\n",
      "optimizer present\n",
      "Epoch 00002: adjusting learning rate of group 0 to 3.9999e-06.\n",
      "train accuracy:  10.036057692307693\n",
      "validating...\n"
     ]
    },
    {
     "name": "stderr",
     "output_type": "stream",
     "text": [
      " 51%|███████▏      | 77/150 [01:41<01:38,  1.35s/it]"
     ]
    },
    {
     "name": "stdout",
     "output_type": "stream",
     "text": [
      "validation accuracy:  8.096590909090908\n",
      "Training...\n",
      "Adjusting learning rate of group 0 to 3.9999e-06.\n",
      "optimizer present\n",
      "Epoch 00002: adjusting learning rate of group 0 to 4.0082e-06.\n",
      "train accuracy:  9.254807692307693\n",
      "validating...\n"
     ]
    },
    {
     "name": "stderr",
     "output_type": "stream",
     "text": [
      " 52%|███████▎      | 78/150 [01:42<01:35,  1.33s/it]"
     ]
    },
    {
     "name": "stdout",
     "output_type": "stream",
     "text": [
      "validation accuracy:  8.380681818181818\n",
      "Training...\n",
      "Adjusting learning rate of group 0 to 4.0082e-06.\n",
      "optimizer present\n",
      "Epoch 00002: adjusting learning rate of group 0 to 3.9961e-06.\n",
      "train accuracy:  9.435096153846153\n",
      "validating...\n"
     ]
    },
    {
     "name": "stderr",
     "output_type": "stream",
     "text": [
      " 53%|███████▎      | 79/150 [01:43<01:32,  1.30s/it]"
     ]
    },
    {
     "name": "stdout",
     "output_type": "stream",
     "text": [
      "validation accuracy:  8.096590909090908\n",
      "Training...\n",
      "Adjusting learning rate of group 0 to 3.9961e-06.\n",
      "optimizer present\n",
      "Epoch 00002: adjusting learning rate of group 0 to 4.0029e-06.\n",
      "train accuracy:  9.254807692307693\n",
      "validating...\n"
     ]
    },
    {
     "name": "stderr",
     "output_type": "stream",
     "text": [
      " 53%|███████▍      | 80/150 [01:45<01:30,  1.29s/it]"
     ]
    },
    {
     "name": "stdout",
     "output_type": "stream",
     "text": [
      "validation accuracy:  8.380681818181818\n",
      "Training...\n",
      "Adjusting learning rate of group 0 to 4.0029e-06.\n",
      "optimizer present\n",
      "Epoch 00002: adjusting learning rate of group 0 to 3.9987e-06.\n",
      "train accuracy:  9.375\n",
      "validating...\n"
     ]
    },
    {
     "name": "stderr",
     "output_type": "stream",
     "text": [
      " 54%|███████▌      | 81/150 [01:46<01:28,  1.28s/it]"
     ]
    },
    {
     "name": "stdout",
     "output_type": "stream",
     "text": [
      "validation accuracy:  8.238636363636363\n",
      "Training...\n",
      "Adjusting learning rate of group 0 to 3.9987e-06.\n",
      "optimizer present\n",
      "Epoch 00002: adjusting learning rate of group 0 to 3.9978e-06.\n",
      "train accuracy:  8.774038461538462\n",
      "validating...\n"
     ]
    },
    {
     "name": "stderr",
     "output_type": "stream",
     "text": [
      " 55%|███████▋      | 82/150 [01:47<01:26,  1.28s/it]"
     ]
    },
    {
     "name": "stdout",
     "output_type": "stream",
     "text": [
      "validation accuracy:  8.238636363636363\n",
      "Training...\n",
      "Adjusting learning rate of group 0 to 3.9978e-06.\n",
      "optimizer present\n",
      "Epoch 00002: adjusting learning rate of group 0 to 3.9988e-06.\n",
      "train accuracy:  9.435096153846153\n",
      "validating...\n"
     ]
    },
    {
     "name": "stderr",
     "output_type": "stream",
     "text": [
      " 55%|███████▋      | 83/150 [01:49<01:25,  1.27s/it]"
     ]
    },
    {
     "name": "stdout",
     "output_type": "stream",
     "text": [
      "validation accuracy:  8.096590909090908\n",
      "Training...\n",
      "Adjusting learning rate of group 0 to 3.9988e-06.\n",
      "optimizer present\n",
      "Epoch 00002: adjusting learning rate of group 0 to 4.0022e-06.\n",
      "train accuracy:  10.396634615384617\n",
      "validating...\n"
     ]
    },
    {
     "name": "stderr",
     "output_type": "stream",
     "text": [
      " 56%|███████▊      | 84/150 [01:50<01:23,  1.27s/it]"
     ]
    },
    {
     "name": "stdout",
     "output_type": "stream",
     "text": [
      "validation accuracy:  8.522727272727272\n",
      "Training...\n",
      "Adjusting learning rate of group 0 to 4.0022e-06.\n",
      "optimizer present\n",
      "Epoch 00002: adjusting learning rate of group 0 to 4.0023e-06.\n",
      "train accuracy:  10.096153846153847\n",
      "validating...\n"
     ]
    },
    {
     "name": "stderr",
     "output_type": "stream",
     "text": [
      " 57%|███████▉      | 85/150 [01:51<01:23,  1.28s/it]"
     ]
    },
    {
     "name": "stdout",
     "output_type": "stream",
     "text": [
      "validation accuracy:  7.954545454545454\n",
      "Training...\n",
      "Adjusting learning rate of group 0 to 4.0023e-06.\n",
      "optimizer present\n",
      "Epoch 00002: adjusting learning rate of group 0 to 4.0073e-06.\n",
      "train accuracy:  10.63701923076923\n",
      "validating...\n"
     ]
    },
    {
     "name": "stderr",
     "output_type": "stream",
     "text": [
      " 57%|████████      | 86/150 [01:52<01:21,  1.27s/it]"
     ]
    },
    {
     "name": "stdout",
     "output_type": "stream",
     "text": [
      "validation accuracy:  8.096590909090908\n",
      "Training...\n",
      "Adjusting learning rate of group 0 to 4.0073e-06.\n",
      "optimizer present\n",
      "Epoch 00002: adjusting learning rate of group 0 to 4.0070e-06.\n",
      "train accuracy:  9.254807692307693\n",
      "validating...\n"
     ]
    },
    {
     "name": "stderr",
     "output_type": "stream",
     "text": [
      " 58%|████████      | 87/150 [01:54<01:20,  1.27s/it]"
     ]
    },
    {
     "name": "stdout",
     "output_type": "stream",
     "text": [
      "validation accuracy:  8.380681818181818\n",
      "Training...\n",
      "Adjusting learning rate of group 0 to 4.0070e-06.\n",
      "optimizer present\n",
      "Epoch 00002: adjusting learning rate of group 0 to 4.0092e-06.\n",
      "train accuracy:  9.495192307692307\n",
      "validating...\n"
     ]
    },
    {
     "name": "stderr",
     "output_type": "stream",
     "text": [
      " 59%|████████▏     | 88/150 [01:55<01:18,  1.27s/it]"
     ]
    },
    {
     "name": "stdout",
     "output_type": "stream",
     "text": [
      "validation accuracy:  8.096590909090908\n",
      "Training...\n",
      "Adjusting learning rate of group 0 to 4.0092e-06.\n",
      "optimizer present\n",
      "Epoch 00002: adjusting learning rate of group 0 to 4.0029e-06.\n",
      "train accuracy:  9.735576923076923\n",
      "validating...\n"
     ]
    },
    {
     "name": "stderr",
     "output_type": "stream",
     "text": [
      " 59%|████████▎     | 89/150 [01:56<01:17,  1.27s/it]"
     ]
    },
    {
     "name": "stdout",
     "output_type": "stream",
     "text": [
      "validation accuracy:  7.954545454545454\n",
      "Training...\n",
      "Adjusting learning rate of group 0 to 4.0029e-06.\n",
      "optimizer present\n",
      "Epoch 00002: adjusting learning rate of group 0 to 3.9942e-06.\n",
      "train accuracy:  9.435096153846153\n",
      "validating...\n"
     ]
    },
    {
     "name": "stderr",
     "output_type": "stream",
     "text": [
      " 60%|████████▍     | 90/150 [01:57<01:15,  1.27s/it]"
     ]
    },
    {
     "name": "stdout",
     "output_type": "stream",
     "text": [
      "validation accuracy:  8.096590909090908\n",
      "Training...\n",
      "Adjusting learning rate of group 0 to 3.9942e-06.\n",
      "optimizer present\n",
      "Epoch 00002: adjusting learning rate of group 0 to 3.9972e-06.\n",
      "train accuracy:  9.014423076923077\n",
      "validating...\n"
     ]
    },
    {
     "name": "stderr",
     "output_type": "stream",
     "text": [
      " 61%|████████▍     | 91/150 [01:59<01:15,  1.27s/it]"
     ]
    },
    {
     "name": "stdout",
     "output_type": "stream",
     "text": [
      "validation accuracy:  8.238636363636363\n",
      "Training...\n",
      "Adjusting learning rate of group 0 to 3.9972e-06.\n",
      "optimizer present\n",
      "Epoch 00002: adjusting learning rate of group 0 to 4.0105e-06.\n",
      "train accuracy:  10.396634615384617\n",
      "validating...\n"
     ]
    },
    {
     "name": "stderr",
     "output_type": "stream",
     "text": [
      " 61%|████████▌     | 92/150 [02:00<01:14,  1.28s/it]"
     ]
    },
    {
     "name": "stdout",
     "output_type": "stream",
     "text": [
      "validation accuracy:  8.380681818181818\n",
      "Training...\n",
      "Adjusting learning rate of group 0 to 4.0105e-06.\n",
      "optimizer present\n",
      "Epoch 00002: adjusting learning rate of group 0 to 4.0097e-06.\n",
      "train accuracy:  8.173076923076923\n",
      "validating...\n"
     ]
    },
    {
     "name": "stderr",
     "output_type": "stream",
     "text": [
      " 62%|████████▋     | 93/150 [02:01<01:12,  1.28s/it]"
     ]
    },
    {
     "name": "stdout",
     "output_type": "stream",
     "text": [
      "validation accuracy:  7.954545454545454\n",
      "Training...\n",
      "Adjusting learning rate of group 0 to 4.0097e-06.\n",
      "optimizer present\n",
      "Epoch 00002: adjusting learning rate of group 0 to 4.0092e-06.\n",
      "train accuracy:  10.216346153846153\n",
      "validating...\n"
     ]
    },
    {
     "name": "stderr",
     "output_type": "stream",
     "text": [
      " 63%|████████▊     | 94/150 [02:03<01:11,  1.28s/it]"
     ]
    },
    {
     "name": "stdout",
     "output_type": "stream",
     "text": [
      "validation accuracy:  8.096590909090908\n",
      "Training...\n",
      "Adjusting learning rate of group 0 to 4.0092e-06.\n",
      "optimizer present\n",
      "Epoch 00002: adjusting learning rate of group 0 to 4.0019e-06.\n",
      "train accuracy:  9.314903846153847\n",
      "validating...\n"
     ]
    },
    {
     "name": "stderr",
     "output_type": "stream",
     "text": [
      " 63%|████████▊     | 95/150 [02:04<01:10,  1.28s/it]"
     ]
    },
    {
     "name": "stdout",
     "output_type": "stream",
     "text": [
      "validation accuracy:  8.096590909090908\n",
      "Training...\n",
      "Adjusting learning rate of group 0 to 4.0019e-06.\n",
      "optimizer present\n",
      "Epoch 00002: adjusting learning rate of group 0 to 4.0021e-06.\n",
      "train accuracy:  8.89423076923077\n",
      "validating...\n"
     ]
    },
    {
     "name": "stderr",
     "output_type": "stream",
     "text": [
      " 64%|████████▉     | 96/150 [02:05<01:09,  1.28s/it]"
     ]
    },
    {
     "name": "stdout",
     "output_type": "stream",
     "text": [
      "validation accuracy:  8.096590909090908\n",
      "Training...\n",
      "Adjusting learning rate of group 0 to 4.0021e-06.\n",
      "optimizer present\n",
      "Epoch 00002: adjusting learning rate of group 0 to 3.9994e-06.\n",
      "train accuracy:  9.555288461538462\n",
      "validating...\n"
     ]
    },
    {
     "name": "stderr",
     "output_type": "stream",
     "text": [
      " 65%|█████████     | 97/150 [02:06<01:08,  1.29s/it]"
     ]
    },
    {
     "name": "stdout",
     "output_type": "stream",
     "text": [
      "validation accuracy:  7.670454545454546\n",
      "Training...\n",
      "Adjusting learning rate of group 0 to 3.9994e-06.\n",
      "optimizer present\n",
      "Epoch 00002: adjusting learning rate of group 0 to 4.0035e-06.\n",
      "train accuracy:  9.495192307692307\n",
      "validating...\n"
     ]
    },
    {
     "name": "stderr",
     "output_type": "stream",
     "text": [
      " 65%|█████████▏    | 98/150 [02:08<01:06,  1.28s/it]"
     ]
    },
    {
     "name": "stdout",
     "output_type": "stream",
     "text": [
      "validation accuracy:  7.8125\n",
      "Training...\n",
      "Adjusting learning rate of group 0 to 4.0035e-06.\n",
      "optimizer present\n",
      "Epoch 00002: adjusting learning rate of group 0 to 4.0004e-06.\n",
      "train accuracy:  9.915865384615383\n",
      "validating...\n"
     ]
    },
    {
     "name": "stderr",
     "output_type": "stream",
     "text": [
      " 66%|█████████▏    | 99/150 [02:09<01:04,  1.27s/it]"
     ]
    },
    {
     "name": "stdout",
     "output_type": "stream",
     "text": [
      "validation accuracy:  8.380681818181818\n",
      "Training...\n",
      "Adjusting learning rate of group 0 to 4.0004e-06.\n",
      "optimizer present\n",
      "Epoch 00002: adjusting learning rate of group 0 to 3.9978e-06.\n",
      "train accuracy:  9.975961538461538\n",
      "validating...\n"
     ]
    },
    {
     "name": "stderr",
     "output_type": "stream",
     "text": [
      " 67%|████████▋    | 100/150 [02:10<01:03,  1.27s/it]"
     ]
    },
    {
     "name": "stdout",
     "output_type": "stream",
     "text": [
      "validation accuracy:  8.238636363636363\n",
      "Training...\n",
      "Adjusting learning rate of group 0 to 3.9978e-06.\n",
      "optimizer present\n",
      "Epoch 00002: adjusting learning rate of group 0 to 4.0045e-06.\n",
      "train accuracy:  9.67548076923077\n",
      "validating...\n",
      "validation accuracy:  8.096590909090908\n"
     ]
    },
    {
     "data": {
      "image/png": "[encoded data removed]",
      "text/plain": [
       "<Figure size 640x480 with 1 Axes>"
      ]
     },
     "metadata": {},
     "output_type": "display_data"
    },
    {
     "data": {
      "image/png": "[encoded data removed]",
      "text/plain": [
       "<Figure size 640x480 with 1 Axes>"
      ]
     },
     "metadata": {},
     "output_type": "display_data"
    },
    {
     "name": "stderr",
     "output_type": "stream",
     "text": [
      " 67%|████████▊    | 101/150 [02:12<01:07,  1.37s/it]"
     ]
    },
    {
     "name": "stdout",
     "output_type": "stream",
     "text": [
      "Training...\n",
      "Adjusting learning rate of group 0 to 4.0045e-06.\n",
      "optimizer present\n",
      "Epoch 00002: adjusting learning rate of group 0 to 4.0032e-06.\n",
      "train accuracy:  9.07451923076923\n",
      "validating...\n"
     ]
    },
    {
     "name": "stderr",
     "output_type": "stream",
     "text": [
      " 68%|████████▊    | 102/150 [02:13<01:04,  1.34s/it]"
     ]
    },
    {
     "name": "stdout",
     "output_type": "stream",
     "text": [
      "validation accuracy:  8.096590909090908\n",
      "Training...\n",
      "Adjusting learning rate of group 0 to 4.0032e-06.\n",
      "optimizer present\n",
      "Epoch 00002: adjusting learning rate of group 0 to 4.0024e-06.\n",
      "train accuracy:  9.194711538461538\n",
      "validating...\n"
     ]
    },
    {
     "name": "stderr",
     "output_type": "stream",
     "text": [
      " 69%|████████▉    | 103/150 [02:14<01:01,  1.32s/it]"
     ]
    },
    {
     "name": "stdout",
     "output_type": "stream",
     "text": [
      "validation accuracy:  8.238636363636363\n",
      "Training...\n",
      "Adjusting learning rate of group 0 to 4.0024e-06.\n",
      "optimizer present\n",
      "Epoch 00002: adjusting learning rate of group 0 to 4.0072e-06.\n",
      "train accuracy:  9.795673076923077\n",
      "validating...\n"
     ]
    },
    {
     "name": "stderr",
     "output_type": "stream",
     "text": [
      " 69%|█████████    | 104/150 [02:16<00:59,  1.29s/it]"
     ]
    },
    {
     "name": "stdout",
     "output_type": "stream",
     "text": [
      "validation accuracy:  8.238636363636363\n",
      "Training...\n",
      "Adjusting learning rate of group 0 to 4.0072e-06.\n",
      "optimizer present\n",
      "Epoch 00002: adjusting learning rate of group 0 to 4.0068e-06.\n",
      "train accuracy:  8.653846153846153\n",
      "validating...\n"
     ]
    },
    {
     "name": "stderr",
     "output_type": "stream",
     "text": [
      " 70%|█████████    | 105/150 [02:17<00:57,  1.29s/it]"
     ]
    },
    {
     "name": "stdout",
     "output_type": "stream",
     "text": [
      "validation accuracy:  8.380681818181818\n",
      "Training...\n",
      "Adjusting learning rate of group 0 to 4.0068e-06.\n",
      "optimizer present\n",
      "Epoch 00002: adjusting learning rate of group 0 to 4.0096e-06.\n",
      "train accuracy:  8.89423076923077\n",
      "validating...\n"
     ]
    },
    {
     "name": "stderr",
     "output_type": "stream",
     "text": [
      " 71%|█████████▏   | 106/150 [02:18<00:56,  1.28s/it]"
     ]
    },
    {
     "name": "stdout",
     "output_type": "stream",
     "text": [
      "validation accuracy:  7.8125\n",
      "Training...\n",
      "Adjusting learning rate of group 0 to 4.0096e-06.\n",
      "optimizer present\n",
      "Epoch 00002: adjusting learning rate of group 0 to 4.0127e-06.\n",
      "train accuracy:  9.615384615384617\n",
      "validating...\n"
     ]
    },
    {
     "name": "stderr",
     "output_type": "stream",
     "text": [
      " 71%|█████████▎   | 107/150 [02:19<00:55,  1.28s/it]"
     ]
    },
    {
     "name": "stdout",
     "output_type": "stream",
     "text": [
      "validation accuracy:  8.380681818181818\n",
      "Training...\n",
      "Adjusting learning rate of group 0 to 4.0127e-06.\n",
      "optimizer present\n",
      "Epoch 00002: adjusting learning rate of group 0 to 4.0030e-06.\n",
      "train accuracy:  9.254807692307693\n",
      "validating...\n"
     ]
    },
    {
     "name": "stderr",
     "output_type": "stream",
     "text": [
      " 72%|█████████▎   | 108/150 [02:21<00:54,  1.29s/it]"
     ]
    },
    {
     "name": "stdout",
     "output_type": "stream",
     "text": [
      "validation accuracy:  8.238636363636363\n",
      "Training...\n",
      "Adjusting learning rate of group 0 to 4.0030e-06.\n",
      "optimizer present\n",
      "Epoch 00002: adjusting learning rate of group 0 to 4.0007e-06.\n",
      "train accuracy:  9.67548076923077\n",
      "validating...\n"
     ]
    },
    {
     "name": "stderr",
     "output_type": "stream",
     "text": [
      " 73%|█████████▍   | 109/150 [02:22<00:52,  1.29s/it]"
     ]
    },
    {
     "name": "stdout",
     "output_type": "stream",
     "text": [
      "validation accuracy:  8.380681818181818\n",
      "Training...\n",
      "Adjusting learning rate of group 0 to 4.0007e-06.\n",
      "optimizer present\n",
      "Epoch 00002: adjusting learning rate of group 0 to 4.0036e-06.\n",
      "train accuracy:  10.276442307692307\n",
      "validating...\n"
     ]
    },
    {
     "name": "stderr",
     "output_type": "stream",
     "text": [
      " 73%|█████████▌   | 110/150 [02:24<00:55,  1.38s/it]"
     ]
    },
    {
     "name": "stdout",
     "output_type": "stream",
     "text": [
      "validation accuracy:  8.096590909090908\n",
      "Training...\n",
      "Adjusting learning rate of group 0 to 4.0036e-06.\n",
      "optimizer present\n",
      "Epoch 00002: adjusting learning rate of group 0 to 3.9976e-06.\n",
      "train accuracy:  9.375\n",
      "validating...\n"
     ]
    },
    {
     "name": "stderr",
     "output_type": "stream",
     "text": [
      " 74%|█████████▌   | 111/150 [02:25<00:52,  1.35s/it]"
     ]
    },
    {
     "name": "stdout",
     "output_type": "stream",
     "text": [
      "validation accuracy:  8.238636363636363\n",
      "Training...\n",
      "Adjusting learning rate of group 0 to 3.9976e-06.\n",
      "optimizer present\n",
      "Epoch 00002: adjusting learning rate of group 0 to 3.9998e-06.\n",
      "train accuracy:  9.194711538461538\n",
      "validating...\n"
     ]
    },
    {
     "name": "stderr",
     "output_type": "stream",
     "text": [
      " 75%|█████████▋   | 112/150 [02:26<00:50,  1.33s/it]"
     ]
    },
    {
     "name": "stdout",
     "output_type": "stream",
     "text": [
      "validation accuracy:  8.096590909090908\n",
      "Training...\n",
      "Adjusting learning rate of group 0 to 3.9998e-06.\n",
      "optimizer present\n",
      "Epoch 00002: adjusting learning rate of group 0 to 3.9991e-06.\n",
      "train accuracy:  9.134615384615383\n",
      "validating...\n"
     ]
    },
    {
     "name": "stderr",
     "output_type": "stream",
     "text": [
      " 75%|█████████▊   | 113/150 [02:27<00:48,  1.30s/it]"
     ]
    },
    {
     "name": "stdout",
     "output_type": "stream",
     "text": [
      "validation accuracy:  8.096590909090908\n",
      "Training...\n",
      "Adjusting learning rate of group 0 to 3.9991e-06.\n",
      "optimizer present\n"
     ]
    }
   ],
   "source": [
    "_go(config)"
   ]
  },
  {
   "cell_type": "code",
   "execution_count": null,
   "id": "d964b31e-4bae-4f65-bc46-ee1334a8f239",
   "metadata": {},
   "outputs": [],
   "source": [
    "# 12.58 GiB. GPU 0 has a total capacty of 23.65 GiB of which 8.04 GiB is free\n",
    "23.65-8.04"
   ]
  },
  {
   "cell_type": "markdown",
   "id": "59daceaa-fa47-4c76-90d6-f23550f85694",
   "metadata": {},
   "source": [
    "\n",
    "pred torch.Size([11])\n",
    "\n",
    "lab  torch.Size([5, 11])"
   ]
  },
  {
   "cell_type": "markdown",
   "id": "8a67bda7-4c6a-451c-9183-440a8fc39f03",
   "metadata": {},
   "source": [
    "# \n",
    "\n",
    "18/11/24\n",
    "Added in the checkpoints every 25 epochs\n",
    "Checked that optimizer = SGD and not optimizer =optimizer = SGD\n",
    "set total epochs to 150.\n",
    "added in the creation and saving of LC and AC at each checkpoint.\n",
    "so checkpoints have a save of the model state dicts and lc and ac so far.\n",
    "\n",
    "HOWEVER\n",
    "there still does not look to be any learning... lc are flat and do not change over epochs.\n",
    "in the pytroch sgd page, the examples use momentum (0.9)\n",
    "considering running again with  momentum.\n",
    "\n",
    "hmm. no. \n"
   ]
  }
 ],
 "metadata": {
  "kernelspec": {
   "display_name": "Python 3 (ipykernel)",
   "language": "python",
   "name": "python3"
  },
  "language_info": {
   "codemirror_mode": {
    "name": "ipython",
    "version": 3
   },
   "file_extension": ".py",
   "mimetype": "text/x-python",
   "name": "python",
   "nbconvert_exporter": "python",
   "pygments_lexer": "ipython3",
   "version": "3.10.12"
  }
 },
 "nbformat": 4,
 "nbformat_minor": 5
}
