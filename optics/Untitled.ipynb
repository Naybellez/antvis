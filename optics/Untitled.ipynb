{
 "cells": [
  {
   "cell_type": "code",
   "execution_count": 12,
   "metadata": {},
   "outputs": [
    {
     "name": "stdout",
     "output_type": "stream",
     "text": [
      "(144, 452, 3)\n",
      "(144, 452)\n",
      "(144, 452)\n"
     ]
    }
   ],
   "source": [
    "from functions import ImageProcessor, get_data\n",
    "import cv2\n",
    "ip = ImageProcessor(device='cpu')\n",
    "x, y, _,_,_,_ = get_data(file_path=r'/its/home/nn268/antvis/optics/AugmentedDS_IDSW/')\n",
    "test_x, test_y = x[0], y[0]\n",
    "# splitting channels\n",
    "test_x = cv2.imread(test_x)\n",
    "#print(test_x)\n",
    "print(test_x.shape)\n",
    "r,g,b = ip.split_channels(test_x)\n",
    "print(r.shape)\n",
    "print(test_x[:,:,1].shape)"
   ]
  }
 ],
 "metadata": {
  "kernelspec": {
   "display_name": "Python 3",
   "language": "python",
   "name": "python3"
  },
  "language_info": {
   "codemirror_mode": {
    "name": "ipython",
    "version": 3
   },
   "file_extension": ".py",
   "mimetype": "text/x-python",
   "name": "python",
   "nbconvert_exporter": "python",
   "pygments_lexer": "ipython3",
   "version": "3.8.10"
  }
 },
 "nbformat": 4,
 "nbformat_minor": 4
}
