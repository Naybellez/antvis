{
 "cells": [
  {
   "cell_type": "code",
   "execution_count": 1,
   "metadata": {},
   "outputs": [
    {
     "name": "stderr",
     "output_type": "stream",
     "text": [
      "\u001b[34m\u001b[1mwandb\u001b[0m: Currently logged in as: \u001b[33mnaughticalnonsence\u001b[0m (\u001b[33mantvis\u001b[0m). Use \u001b[1m`wandb login --relogin`\u001b[0m to force relogin\n"
     ]
    },
    {
     "data": {
      "text/plain": [
       "True"
      ]
     },
     "execution_count": 1,
     "metadata": {},
     "output_type": "execute_result"
    }
   ],
   "source": [
    "# Imports\n",
    "\n",
    "import cv2\n",
    "from PIL import Image\n",
    "\n",
    "from matplotlib import pyplot as plt\n",
    "import numpy as np\n",
    "import pandas as pd\n",
    "import math as maths\n",
    "\n",
    "import os\n",
    "import random\n",
    "\n",
    "from sklearn.model_selection import train_test_split\n",
    "\n",
    "import torch\n",
    "import torch.nn as nn\n",
    "from torch.nn import functional\n",
    "#from torchsummary import summary\n",
    "#import torchvision.transforms as transforms\n",
    "\n",
    "from tqdm import tqdm\n",
    "from IPython.display import clear_output\n",
    "\n",
    "import wandb\n",
    "import pprint\n",
    "\n",
    "\n",
    "from functions import import_imagedata, get_data, label_oh_tf,  Unwrap, ImageProcessor\n",
    "from architectures import vgg16net, smallnet1, smallnet2, smallnet3\n",
    "from loop_fns import loop, test_loop\n",
    "from fns4wandb import build_optimizer, set_optimizer, hp_sweep, train_model, train_log, log_test_score, set_lossfn, pipeline\n",
    "\n",
    "from architectures import build_net, smallnet3\n",
    "\n",
    "wandb.login()\n"
   ]
  },
  {
   "cell_type": "code",
   "execution_count": 2,
   "metadata": {},
   "outputs": [
    {
     "data": {
      "text/plain": [
       "'\"\\ngrid search\\n\\'learning_rate\\': {\\n            \\'values\\': [6.1e-5, 6.2e-5, 6.3e-5, 6.4e-5]\\n'"
      ]
     },
     "execution_count": 2,
     "metadata": {},
     "output_type": "execute_result"
    }
   ],
   "source": [
    "\"\"\"\"\n",
    "grid search\n",
    "'learning_rate': {\n",
    "            'values': [6.1e-5, 6.2e-5, 6.3e-5, 6.4e-5]\n",
    "\"\"\""
   ]
  },
  {
   "cell_type": "code",
   "execution_count": 22,
   "metadata": {},
   "outputs": [],
   "source": [
    "\"\"\"config = {\n",
    "    'method': 'random',\n",
    "    'metric':{\n",
    "        'goal': 'minimize',\n",
    "        'name': 'val_loss'},\n",
    "    'parameters': {\n",
    "        'epochs':{\n",
    "            'value': 120 #150\n",
    "        },\n",
    "        'lin_layer_size': {\n",
    "            'values': [100]\n",
    "        },\n",
    "        'first_lin_lay':{\n",
    "            'values':[71744]\n",
    "        },\n",
    "        'optimizer': {\n",
    "            'values': ['adam']\n",
    "        },\n",
    "        'scheduler': {\n",
    "            'values': [0.2]\n",
    "        },\n",
    "        'learning_rate': { 'values': [6.53E-05]\n",
    "        },\n",
    "        'weight_decay':{\n",
    "            'values': [2.00E-05]  #1e-5,2e-5, 3e-5,4e-5]\n",
    "        },\n",
    "        'loss_fn': {\n",
    "            'values': ['MSE', 'CrossEntropy']\n",
    "        },\n",
    "        'data_set':{\n",
    "            'values':['Augmented']\n",
    "        },\n",
    "        'channels': {\n",
    "            'values': [3]\n",
    "        },\n",
    "        'ks':{\n",
    "            'values':[(3,5)]\n",
    "        },\n",
    "\n",
    "        'num_classes': {\n",
    "            'values': [11]\n",
    "        },\n",
    "         'model_name' : {'values': ['smallnet2']},\n",
    "        'image_path': {\n",
    "            'values': [r'/its/home/nn268/antvis/antvis/optics/AugmentedDS_IDSW/']}\n",
    "        },\n",
    "    }\n",
    "   \n",
    "\"\"\"\n",
    "config = dict(\n",
    "    epochs= 120, \n",
    "    learning_rate = 9.07E-05, #5.81E-05, #9.07E-05, #6.53E-05, #8.41E-05, #6e-5, #3.0779e-5,\n",
    "    dataset= 'IDSW_Aug',\n",
    "    architecture ='CNN',\n",
    "    optimizer= 'adam',\n",
    "    weight_decay= 2.00E-05, #1.00E-05,#2e-5, #4e-5,\n",
    "    dropout = 0.3, #0.4,\n",
    "    first_lin_lay = 274688, #15872, #1069888, #71744, #1069888,#7118208, #248832,\n",
    "    lin_layer_size= 100,\n",
    "    ks = (3,5),\n",
    "    in_chan = 3,\n",
    "    image_path = r'/its/home/nn268/antvis/antvis/optics/AugmentedDS_IDSW/',\n",
    "    model_name = 'smallnet2',\n",
    "    channels = 3,\n",
    "    num_classes = 11,\n",
    "    loss_fn = 'CrossEntropy',\n",
    "    scheduler =0.1 #0.2 #0.01\n",
    "    \n",
    ")\n",
    "\n",
    "col_dict = {\n",
    "    'colour': 'colour',\n",
    "    'size': [226,72],\n",
    "    'padding': 5,\n",
    "    'model_size': '3c2l'\n",
    "}\n",
    "\n",
    "title = f\"IDSW_3c2l_e120_{col_dict['size']}_2_300124\"\n",
    "save_dict = {'Run' : title,\n",
    "            'Current_Epoch': 0,\n",
    "            'save_location': r'pickles/'}\n",
    "                #r'/its/home/nn268/antvis/optics/\n",
    "\n",
    "#modelSize_3conv2lin_IDSW_{col_dict['colour']}_{col_dict['size']}_pad_{col_dict['padding']}\n",
    "#sweep_id = wandb.sweep(config, project=f\"3c2l_11336_findbestrandseednum_230124\")"
   ]
  },
  {
   "cell_type": "code",
   "execution_count": 4,
   "metadata": {},
   "outputs": [
    {
     "name": "stdout",
     "output_type": "stream",
     "text": [
      "{'epochs': 120, 'learning_rate': 6.53e-05, 'dataset': 'IDSW_Aug', 'architecture': 'CNN', 'optimizer': 'adam', 'weight_decay': 2e-05, 'dropout': 0.4, 'first_lin_lay': 71744, 'lin_layer_size': 100, 'ks': (3, 5), 'in_chan': 3, 'image_path': '/its/home/nn268/antvis/antvis/optics/AugmentedDS_IDSW/', 'model_name': 'smallnet2', 'channels': 3, 'num_classes': 11, 'loss_fn': 'CrossEntropy', 'scheduler': 0.2}\n"
     ]
    }
   ],
   "source": [
    "print(config)"
   ]
  },
  {
   "cell_type": "code",
   "execution_count": 5,
   "metadata": {},
   "outputs": [],
   "source": [
    "device = \"cuda:0\" if torch.cuda.is_available() else \"cpu\""
   ]
  },
  {
   "cell_type": "code",
   "execution_count": 6,
   "metadata": {
    "scrolled": true
   },
   "outputs": [],
   "source": [
    "\n",
    "#pipeline(config, col_dict, save_dict, title=save_dict['Run'], device=device)"
   ]
  },
  {
   "cell_type": "code",
   "execution_count": 23,
   "metadata": {},
   "outputs": [
    {
     "data": {
      "text/html": [
       "wandb version 0.16.2 is available!  To upgrade, please run:\n",
       " $ pip install wandb --upgrade"
      ],
      "text/plain": [
       "<IPython.core.display.HTML object>"
      ]
     },
     "metadata": {},
     "output_type": "display_data"
    },
    {
     "data": {
      "text/html": [
       "Tracking run with wandb version 0.16.0"
      ],
      "text/plain": [
       "<IPython.core.display.HTML object>"
      ]
     },
     "metadata": {},
     "output_type": "display_data"
    },
    {
     "data": {
      "text/html": [
       "Run data is saved locally in <code>/its/home/nn268/antvis/antvis/optics/wandb/run-20240201_165935-3gpocu15</code>"
      ],
      "text/plain": [
       "<IPython.core.display.HTML object>"
      ]
     },
     "metadata": {},
     "output_type": "display_data"
    },
    {
     "data": {
      "text/html": [
       "Syncing run <strong><a href='https://wandb.ai/antvis/antvis-optics_antvis_antvis_optics/runs/3gpocu15' target=\"_blank\">happy-breeze-64</a></strong> to <a href='https://wandb.ai/antvis/antvis-optics_antvis_antvis_optics' target=\"_blank\">Weights & Biases</a> (<a href='https://wandb.me/run' target=\"_blank\">docs</a>)<br/>"
      ],
      "text/plain": [
       "<IPython.core.display.HTML object>"
      ]
     },
     "metadata": {},
     "output_type": "display_data"
    },
    {
     "data": {
      "text/html": [
       " View project at <a href='https://wandb.ai/antvis/antvis-optics_antvis_antvis_optics' target=\"_blank\">https://wandb.ai/antvis/antvis-optics_antvis_antvis_optics</a>"
      ],
      "text/plain": [
       "<IPython.core.display.HTML object>"
      ]
     },
     "metadata": {},
     "output_type": "display_data"
    },
    {
     "data": {
      "text/html": [
       " View run at <a href='https://wandb.ai/antvis/antvis-optics_antvis_antvis_optics/runs/3gpocu15' target=\"_blank\">https://wandb.ai/antvis/antvis-optics_antvis_antvis_optics/runs/3gpocu15</a>"
      ],
      "text/plain": [
       "<IPython.core.display.HTML object>"
      ]
     },
     "metadata": {},
     "output_type": "display_data"
    },
    {
     "name": "stderr",
     "output_type": "stream",
     "text": [
      "  0%| | 0/120 [00:00<?, ?it/s/its/home/nn268/.local/lib/python3.10/site-packages/torch/nn/modules/module.py:1518: UserWarning: Implicit dimension choice for softmax has been deprecated. Change the call to include dim=X as an argument.\n",
      "  return self._call_impl(*args, **kwargs)\n",
      "100%|█| 120/120 [27:06<00:00,\n"
     ]
    },
    {
     "data": {
      "application/vnd.jupyter.widget-view+json": {
       "model_id": "",
       "version_major": 2,
       "version_minor": 0
      },
      "text/plain": [
       "VBox(children=(Label(value='0.006 MB of 0.006 MB uploaded\\r'), FloatProgress(value=1.0, max=1.0)))"
      ]
     },
     "metadata": {},
     "output_type": "display_data"
    },
    {
     "data": {
      "text/html": [
       "<style>\n",
       "    table.wandb td:nth-child(1) { padding: 0 10px; text-align: left ; width: auto;} td:nth-child(2) {text-align: left ; width: 100%}\n",
       "    .wandb-row { display: flex; flex-direction: row; flex-wrap: wrap; justify-content: flex-start; width: 100% }\n",
       "    .wandb-col { display: flex; flex-direction: column; flex-basis: 100%; flex: 1; padding: 10px; }\n",
       "    </style>\n",
       "<div class=\"wandb-row\"><div class=\"wandb-col\"><h3>Run history:</h3><br/><table class=\"wandb\"><tr><td>avg_train_loss</td><td>████▇▆▅▅▄▅▄▄▄▃▃▃▃▃▃▃▃▃▂▂▂▂▂▂▂▂▁▂▁▂▂▂▁▁▁▁</td></tr><tr><td>avg_val_loss</td><td>████▆▆▄▃▃▃▃▃▂▂▂▂▃▂▂▂▂▂▂▂▂▂▁▂▂▂▂▂▂▂▁▁▂▂▂▁</td></tr><tr><td>epoch</td><td>▁▁▁▁▂▂▂▂▂▃▃▃▃▃▃▄▄▄▄▄▅▅▅▅▅▆▆▆▆▆▆▇▇▇▇▇▇███</td></tr><tr><td>train_accuracy_%</td><td>▁▁▁▁▂▃▄▄▅▅▆▆▆▆▆▆▆▆▆▆▆▆▇▇▇▇▇▇▇▇█▇▇▇▇▇████</td></tr><tr><td>train_correct</td><td>▁▁▁▁▂▃▄▄▅▅▆▆▆▆▆▆▆▆▆▆▆▆▇▇▇▇▇▇▇▇█▇▇▇▇▇████</td></tr><tr><td>train_loss</td><td>████▇▆▅▅▄▅▄▄▄▃▃▃▃▃▃▃▃▃▂▂▂▂▂▂▂▂▁▂▁▂▂▂▁▁▁▁</td></tr><tr><td>val_accuracy_%</td><td>▂▁▂▂▄▅▆▆▆▇▇▆▇▇█▇▇▇▇▇▇▇▇█▇██████▇▇███▇▇▇█</td></tr><tr><td>val_correct</td><td>▂▁▂▂▄▅▆▆▆▇▇▆▇▇█▇▇▇▇▇▇▇▇█▇██████▇▇███▇▇▇█</td></tr><tr><td>val_loss</td><td>████▆▆▄▃▃▃▃▃▂▂▂▂▃▂▂▂▂▂▂▂▂▂▁▂▂▂▂▂▂▂▁▁▂▂▂▁</td></tr></table><br/></div><div class=\"wandb-col\"><h3>Run summary:</h3><br/><table class=\"wandb\"><tr><td>avg_train_loss</td><td>2.05812</td></tr><tr><td>avg_val_loss</td><td>2.07081</td></tr><tr><td>epoch</td><td>119</td></tr><tr><td>train_accuracy_%</td><td>48.21842</td></tr><tr><td>train_correct</td><td>1042</td></tr><tr><td>train_loss</td><td>4447.58743</td></tr><tr><td>val_accuracy_%</td><td>47.3029</td></tr><tr><td>val_correct</td><td>114</td></tr><tr><td>val_loss</td><td>499.06632</td></tr></table><br/></div></div>"
      ],
      "text/plain": [
       "<IPython.core.display.HTML object>"
      ]
     },
     "metadata": {},
     "output_type": "display_data"
    },
    {
     "data": {
      "text/html": [
       " View run <strong style=\"color:#cdcd00\">happy-breeze-64</strong> at: <a href='https://wandb.ai/antvis/antvis-optics_antvis_antvis_optics/runs/3gpocu15' target=\"_blank\">https://wandb.ai/antvis/antvis-optics_antvis_antvis_optics/runs/3gpocu15</a><br/> View job at <a href='https://wandb.ai/antvis/antvis-optics_antvis_antvis_optics/jobs/QXJ0aWZhY3RDb2xsZWN0aW9uOjEzNTExOTAzNA==/version_details/v3' target=\"_blank\">https://wandb.ai/antvis/antvis-optics_antvis_antvis_optics/jobs/QXJ0aWZhY3RDb2xsZWN0aW9uOjEzNTExOTAzNA==/version_details/v3</a><br/>Synced 5 W&B file(s), 0 media file(s), 2 artifact file(s) and 0 other file(s)"
      ],
      "text/plain": [
       "<IPython.core.display.HTML object>"
      ]
     },
     "metadata": {},
     "output_type": "display_data"
    },
    {
     "data": {
      "text/html": [
       "Find logs at: <code>./wandb/run-20240201_165935-3gpocu15/logs</code>"
      ],
      "text/plain": [
       "<IPython.core.display.HTML object>"
      ]
     },
     "metadata": {},
     "output_type": "display_data"
    },
    {
     "name": "stdout",
     "output_type": "stream",
     "text": [
      "TEST ACCURACY:  43.49514563106796\n"
     ]
    },
    {
     "data": {
      "text/plain": [
       "'def tr(config=None, save_dict=save_dict):\\n    with wandb.init(config=config):\\n        seed = random.randint(0, 50)\\n        config = wandb.config\\n        device = \"cuda:0\" if torch.cuda.is_available() else \"cpu\"\\n        model, save_dict,x_test, y_test = hp_sweep(config, col_dict, save_dict, device, seed)\\n        test_predict_list, test_labels, test_accuracy = test_loop(model, x_test, y_test, loss_fn, device, col_dict, title, config.num_classes)\\n        save_dict[\\'test_predict_list\\'] = [c.to(\\'cpu\\') for c in test_predict_list]\\n        save_dict[\\'test_labels\\'] = [c.to(\\'cpu\\') for c in test_labels]\\n        save_dict[\\'test_accuracy\\'] = test_accuracy\\n        save_dict[\\'seed\\'] = seed\\n        title = save_dict[\\'Run\\']\\n        with open(f\"/its/home/nn268/antvis/antvis/optics/pickles/{title}.pkl\", \\'wb+\\') as f:\\n            pickle.dump(save_dict, f)\\n\\nwandb.agent(sweep_id, tr, count=25)'"
      ]
     },
     "execution_count": 23,
     "metadata": {},
     "output_type": "execute_result"
    }
   ],
   "source": [
    "from fns4wandb import train\n",
    "\n",
    "model = train(device,col_dict, save_dict, config)\n",
    "\n",
    "\"\"\"def tr(config=None, save_dict=save_dict):\n",
    "    with wandb.init(config=config):\n",
    "        seed = random.randint(0, 50)\n",
    "        config = wandb.config\n",
    "        device = \"cuda:0\" if torch.cuda.is_available() else \"cpu\"\n",
    "        model, save_dict,x_test, y_test = hp_sweep(config, col_dict, save_dict, device, seed)\n",
    "        test_predict_list, test_labels, test_accuracy = test_loop(model, x_test, y_test, loss_fn, device, col_dict, title, config.num_classes)\n",
    "        save_dict['test_predict_list'] = [c.to('cpu') for c in test_predict_list]\n",
    "        save_dict['test_labels'] = [c.to('cpu') for c in test_labels]\n",
    "        save_dict['test_accuracy'] = test_accuracy\n",
    "        save_dict['seed'] = seed\n",
    "        title = save_dict['Run']\n",
    "        with open(f\"/its/home/nn268/antvis/antvis/optics/pickles/{title}.pkl\", 'wb+') as f:\n",
    "            pickle.dump(save_dict, f)\n",
    "\n",
    "wandb.agent(sweep_id, tr, count=25)\"\"\""
   ]
  },
  {
   "cell_type": "code",
   "execution_count": 8,
   "metadata": {},
   "outputs": [
    {
     "name": "stdout",
     "output_type": "stream",
     "text": [
      "/its/home/nn268/antvis/antvis/optics\n"
     ]
    }
   ],
   "source": [
    "import os\n",
    "print(os.getcwd())"
   ]
  },
  {
   "cell_type": "code",
   "execution_count": 9,
   "metadata": {},
   "outputs": [
    {
     "data": {
      "text/plain": [
       "\"\\nconfig = dict(\\n    epochs= 80, \\n    learning_rate =3.0779e-5,\\n    dataset= 'IDSW',\\n    architecture ='CNN',\\n    optimizer= 'adam',\\n    weight_decay= 4e-5,\\n    dropout = 0.4,\\n    first_lin_lay =4096,\\n    lin_layer_size= 100,\\n    ks = 3,\\n    in_chan = 3\\n)\\n\\n\\n\\ncol_dict = {\\n    'colour': 'colour',\\n    'size': [32,32]\\n}\""
      ]
     },
     "execution_count": 9,
     "metadata": {},
     "output_type": "execute_result"
    }
   ],
   "source": [
    "\"\"\"\n",
    "config = dict(\n",
    "    epochs= 80, \n",
    "    learning_rate =3.0779e-5,\n",
    "    dataset= 'IDSW',\n",
    "    architecture ='CNN',\n",
    "    optimizer= 'adam',\n",
    "    weight_decay= 4e-5,\n",
    "    dropout = 0.4,\n",
    "    first_lin_lay =4096,\n",
    "    lin_layer_size= 100,\n",
    "    ks = 3,\n",
    "    in_chan = 3\n",
    ")\n",
    "\n",
    "\n",
    "\n",
    "col_dict = {\n",
    "    'colour': 'colour',\n",
    "    'size': [32,32]\n",
    "}\"\"\""
   ]
  }
 ],
 "metadata": {
  "kernelspec": {
   "display_name": "Python 3 (ipykernel)",
   "language": "python",
   "name": "python3"
  },
  "language_info": {
   "codemirror_mode": {
    "name": "ipython",
    "version": 3
   },
   "file_extension": ".py",
   "mimetype": "text/x-python",
   "name": "python",
   "nbconvert_exporter": "python",
   "pygments_lexer": "ipython3",
   "version": "3.10.12"
  }
 },
 "nbformat": 4,
 "nbformat_minor": 4
}
