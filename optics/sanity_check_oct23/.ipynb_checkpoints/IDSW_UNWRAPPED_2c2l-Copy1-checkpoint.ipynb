{
 "cells": [
  {
   "cell_type": "code",
   "execution_count": 3,
   "metadata": {
    "scrolled": false
   },
   "outputs": [
    {
     "name": "stderr",
     "output_type": "stream",
     "text": [
      "/usr/lib/python3/dist-packages/requests/__init__.py:89: RequestsDependencyWarning: urllib3 (2.0.4) or chardet (3.0.4) doesn't match a supported version!\n",
      "  warnings.warn(\"urllib3 ({}) or chardet ({}) doesn't match a supported \"\n",
      "\u001b[34m\u001b[1mwandb\u001b[0m: Currently logged in as: \u001b[33mnaughticalnonsence\u001b[0m (\u001b[33mantvis\u001b[0m). Use \u001b[1m`wandb login --relogin`\u001b[0m to force relogin\n"
     ]
    },
    {
     "data": {
      "text/plain": [
       "True"
      ]
     },
     "execution_count": 3,
     "metadata": {},
     "output_type": "execute_result"
    }
   ],
   "source": [
    "# Imports\n",
    "\n",
    "import cv2\n",
    "from PIL import Image\n",
    "\n",
    "from matplotlib import pyplot as plt\n",
    "import numpy as np\n",
    "import pandas as pd\n",
    "import math as maths\n",
    "\n",
    "import os\n",
    "import random\n",
    "\n",
    "from sklearn.model_selection import train_test_split\n",
    "\n",
    "import torch\n",
    "import torch.nn as nn\n",
    "from torch.nn import functional\n",
    "#from torchsummary import summary\n",
    "#import torchvision.transforms as transforms\n",
    "\n",
    "from tqdm import tqdm\n",
    "from IPython.display import clear_output\n",
    "\n",
    "import wandb\n",
    "import pprint\n",
    "\n",
    "\n",
    "from functions import import_imagedata, get_data, label_oh_tf,  Unwrap, ImageProcessor\n",
    "from architectures import vgg16net, smallnet1, smallnet2, smallnet3\n",
    "from loop_fns import loop, test_loop\n",
    "from fns4wandb import build_optimizer, set_optimizer, hp_sweep, train_model, train_log, log_test_score, set_lossfn, pipeline\n",
    "\n",
    "from architectures import build_net, smallnet3\n",
    "\n",
    "wandb.login()"
   ]
  },
  {
   "cell_type": "code",
   "execution_count": 2,
   "metadata": {},
   "outputs": [
    {
     "name": "stderr",
     "output_type": "stream",
     "text": [
      "\u001b[34m\u001b[1mwandb\u001b[0m: Currently logged in as: \u001b[33mnaughticalnonsence\u001b[0m (\u001b[33mantvis\u001b[0m). Use \u001b[1m`wandb login --relogin`\u001b[0m to force relogin\n"
     ]
    },
    {
     "data": {
      "text/plain": [
       "True"
      ]
     },
     "execution_count": 2,
     "metadata": {},
     "output_type": "execute_result"
    }
   ],
   "source": []
  },
  {
   "cell_type": "code",
   "execution_count": null,
   "metadata": {},
   "outputs": [],
   "source": [
    "\"\"\"\"\n",
    "grid search\n",
    "'learning_rate': {\n",
    "            'values': [6.1e-5, 6.2e-5, 6.3e-5, 6.4e-5]\n",
    "\"\"\""
   ]
  },
  {
   "cell_type": "code",
   "execution_count": 6,
   "metadata": {},
   "outputs": [
    {
     "name": "stdout",
     "output_type": "stream",
     "text": [
      "Create sweep with ID: 8yy41pzw\n",
      "Sweep URL: https://wandb.ai/antvis/SanityCheck3_modelSize_2conv2lin_IDSW_aug_colour_%5B113%2C%2036%5D/sweeps/8yy41pzw\n"
     ]
    }
   ],
   "source": [
    "config = {\n",
    "    'method': 'random',\n",
    "    'metric':{\n",
    "        'goal': 'minimize',\n",
    "        'name': 'val_loss'},\n",
    "    'parameters': {\n",
    "        'dropout':{\n",
    "            'values': [0.5, 0.4, 0.3]\n",
    "        },\n",
    "        'weight_decay':{\n",
    "            'values': [1e-5,2e-5, 3e-5,4e-5]\n",
    "        },\n",
    "        'epochs':{\n",
    "            'value': 60\n",
    "        },\n",
    "        'lin_layer_size': {\n",
    "            'values': [100] #, 150, 50\n",
    "        },\n",
    "        'first_lin_lay':{\n",
    "            'values':[65664]\n",
    "        },\n",
    "        'optimizer': {\n",
    "            'values': ['adam']\n",
    "        },\n",
    "            'learning_rate': {\n",
    "                # a flat distribution between 0 and 0.1\n",
    "                'distribution': 'log_uniform_values',\n",
    "                'min': 5e-5,\n",
    "                'max': 1e-4\n",
    "            },\n",
    "        'scheduler': {\n",
    "            'values': [0.2]\n",
    "        },\n",
    "        'loss_fn': {\n",
    "            'values': ['MSE', 'CrossEntropy']\n",
    "        },\n",
    "        'data_set':{\n",
    "            'values':['Augmented']\n",
    "        },\n",
    "        'num_classes' : {\n",
    "            'values':[11]\n",
    "        },\n",
    "        'ks': {\n",
    "            'values': [(3,5)]\n",
    "        },\n",
    "        'model_name' : {'values': ['smallnet3']},\n",
    "        'channels' : {'values': [3]},\n",
    "        'image_path': {\n",
    "            'values': [r'/its/home/nn268/optics/AugmentedDS_IDSW/']\n",
    "        }\n",
    "    }\n",
    "}\n",
    "\n",
    "col_dict = {\n",
    "    'colour': 'colour',\n",
    "    'size': [113, 36], #452,114\n",
    "    'padding': 3\n",
    "}\n",
    "\n",
    "\n",
    "sweep_id = wandb.sweep(config, project=f\"SanityCheck3_modelSize_2conv2lin_IDSW_aug_{col_dict['colour']}_{col_dict['size']}\")"
   ]
  },
  {
   "cell_type": "code",
   "execution_count": 5,
   "metadata": {},
   "outputs": [],
   "source": [
    "\"\"\"\n",
    "config = dict(\n",
    "    model_name = {'values': ['smallnet3']},\n",
    "    epochs= 80, \n",
    "    learning_rate =8e-5,\n",
    "    dataset= 'IDSW_Aug',\n",
    "    architecture ='CNN',\n",
    "    optimizer= 'adam',\n",
    "    loss_fn = 'CrossEntropy',\n",
    "    weight_decay= 4e-5,\n",
    "    dropout = 0.4,\n",
    "    first_lin_lay =1064448,\n",
    "    lin_layer_size= 100,\n",
    "    ks = [3,5],\n",
    "    in_chan = 3,\n",
    "    num_classes =11,\n",
    "    scheduler = 0.2\n",
    ")\n",
    "config = {\n",
    "     \"model_name\" : 'smallnet3',\n",
    "    \"epochs\" :50, \n",
    "    \"learning_rate\" : 8e-5,\n",
    "    \"dataset\" : 'IDSW_Aug',\n",
    "    \"architecture\" :'CNN',\n",
    "    \"optimizer\": 'adam',\n",
    "    \"loss_fn\" : 'CrossEntropy',\n",
    "    \"weight_decay\": 4e-5,\n",
    "    \"dropout\" : 0.4,\n",
    "    \"first_lin_lay\" :1055232,\n",
    "    \"lin_layer_size\": 100,\n",
    "    \"ks\" : [3,5],\n",
    "    \"in_chan\" : 3,\n",
    "    \"num_classes\" :11,\n",
    "    \"scheduler\" : 0.2,\n",
    "    \"channels\": 3\n",
    "     \n",
    " }\n",
    "\n",
    "\n",
    "\n",
    "col_dict = {\n",
    "    'colour': 'colour',\n",
    "    'size': [452,114],\n",
    "    'padding': 5,\n",
    "    'model_size': '2c2l'\n",
    "}\n",
    "\"\"\""
   ]
  },
  {
   "cell_type": "code",
   "execution_count": 16,
   "metadata": {
    "scrolled": true
   },
   "outputs": [
    {
     "ename": "AttributeError",
     "evalue": "'dict' object has no attribute 'model_name'",
     "output_type": "error",
     "traceback": [
      "\u001b[0;31m-----------------------------------------------------\u001b[0m",
      "\u001b[0;31mAttributeError\u001b[0m      Traceback (most recent call last)",
      "\u001b[0;32m<ipython-input-16-8673e85cdc09>\u001b[0m in \u001b[0;36m<module>\u001b[0;34m\u001b[0m\n\u001b[0;32m----> 1\u001b[0;31m pprint.pprint(config.model_name\n\u001b[0m\u001b[1;32m      2\u001b[0m              )\n",
      "\u001b[0;31mAttributeError\u001b[0m: 'dict' object has no attribute 'model_name'"
     ]
    }
   ],
   "source": [
    "pprint.pprint(config.model_name)\n"
   ]
  },
  {
   "cell_type": "code",
   "execution_count": null,
   "metadata": {},
   "outputs": [
    {
     "name": "stderr",
     "output_type": "stream",
     "text": [
      "\u001b[34m\u001b[1mwandb\u001b[0m: Agent Starting Run: t84hh82v with config:\n",
      "\u001b[34m\u001b[1mwandb\u001b[0m: \tchannels: 3\n",
      "\u001b[34m\u001b[1mwandb\u001b[0m: \tdata_set: Augmented\n",
      "\u001b[34m\u001b[1mwandb\u001b[0m: \tdropout: 0.3\n",
      "\u001b[34m\u001b[1mwandb\u001b[0m: \tepochs: 60\n",
      "\u001b[34m\u001b[1mwandb\u001b[0m: \tfirst_lin_lay: 65664\n",
      "\u001b[34m\u001b[1mwandb\u001b[0m: \timage_path: /its/home/nn268/optics/AugmentedDS_IDSW/\n",
      "\u001b[34m\u001b[1mwandb\u001b[0m: \tks: [3, 5]\n",
      "\u001b[34m\u001b[1mwandb\u001b[0m: \tlearning_rate: 6.425642695972378e-05\n",
      "\u001b[34m\u001b[1mwandb\u001b[0m: \tlin_layer_size: 100\n",
      "\u001b[34m\u001b[1mwandb\u001b[0m: \tloss_fn: MSE\n",
      "\u001b[34m\u001b[1mwandb\u001b[0m: \tmodel_name: smallnet3\n",
      "\u001b[34m\u001b[1mwandb\u001b[0m: \tnum_classes: 11\n",
      "\u001b[34m\u001b[1mwandb\u001b[0m: \toptimizer: adam\n",
      "\u001b[34m\u001b[1mwandb\u001b[0m: \tscheduler: 0.2\n",
      "\u001b[34m\u001b[1mwandb\u001b[0m: \tweight_decay: 1e-05\n"
     ]
    },
    {
     "data": {
      "text/html": [
       "wandb version 0.15.12 is available!  To upgrade, please run:\n",
       " $ pip install wandb --upgrade"
      ],
      "text/plain": [
       "<IPython.core.display.HTML object>"
      ]
     },
     "metadata": {},
     "output_type": "display_data"
    },
    {
     "data": {
      "text/html": [
       "Tracking run with wandb version 0.15.10"
      ],
      "text/plain": [
       "<IPython.core.display.HTML object>"
      ]
     },
     "metadata": {},
     "output_type": "display_data"
    },
    {
     "data": {
      "text/html": [
       "Run data is saved locally in <code>/its/home/nn268/optics/wandb/run-20231103_131807-t84hh82v</code>"
      ],
      "text/plain": [
       "<IPython.core.display.HTML object>"
      ]
     },
     "metadata": {},
     "output_type": "display_data"
    },
    {
     "data": {
      "text/html": [
       "Syncing run <strong><a href='https://wandb.ai/antvis/SanityCheck3_modelSize_2conv2lin_IDSW_aug_colour_%5B113%2C%2036%5D/runs/t84hh82v' target=\"_blank\">logical-sweep-1</a></strong> to <a href='https://wandb.ai/antvis/SanityCheck3_modelSize_2conv2lin_IDSW_aug_colour_%5B113%2C%2036%5D' target=\"_blank\">Weights & Biases</a> (<a href='https://wandb.me/run' target=\"_blank\">docs</a>)<br/>Sweep page: <a href='https://wandb.ai/antvis/SanityCheck3_modelSize_2conv2lin_IDSW_aug_colour_%5B113%2C%2036%5D/sweeps/8yy41pzw' target=\"_blank\">https://wandb.ai/antvis/SanityCheck3_modelSize_2conv2lin_IDSW_aug_colour_%5B113%2C%2036%5D/sweeps/8yy41pzw</a>"
      ],
      "text/plain": [
       "<IPython.core.display.HTML object>"
      ]
     },
     "metadata": {},
     "output_type": "display_data"
    },
    {
     "data": {
      "text/html": [
       " View project at <a href='https://wandb.ai/antvis/SanityCheck3_modelSize_2conv2lin_IDSW_aug_colour_%5B113%2C%2036%5D' target=\"_blank\">https://wandb.ai/antvis/SanityCheck3_modelSize_2conv2lin_IDSW_aug_colour_%5B113%2C%2036%5D</a>"
      ],
      "text/plain": [
       "<IPython.core.display.HTML object>"
      ]
     },
     "metadata": {},
     "output_type": "display_data"
    },
    {
     "data": {
      "text/html": [
       " View sweep at <a href='https://wandb.ai/antvis/SanityCheck3_modelSize_2conv2lin_IDSW_aug_colour_%5B113%2C%2036%5D/sweeps/8yy41pzw' target=\"_blank\">https://wandb.ai/antvis/SanityCheck3_modelSize_2conv2lin_IDSW_aug_colour_%5B113%2C%2036%5D/sweeps/8yy41pzw</a>"
      ],
      "text/plain": [
       "<IPython.core.display.HTML object>"
      ]
     },
     "metadata": {},
     "output_type": "display_data"
    },
    {
     "data": {
      "text/html": [
       " View run at <a href='https://wandb.ai/antvis/SanityCheck3_modelSize_2conv2lin_IDSW_aug_colour_%5B113%2C%2036%5D/runs/t84hh82v' target=\"_blank\">https://wandb.ai/antvis/SanityCheck3_modelSize_2conv2lin_IDSW_aug_colour_%5B113%2C%2036%5D/runs/t84hh82v</a>"
      ],
      "text/plain": [
       "<IPython.core.display.HTML object>"
      ]
     },
     "metadata": {},
     "output_type": "display_data"
    },
    {
     "name": "stderr",
     "output_type": "stream",
     "text": [
      "/its/home/nn268/.local/lib/python3.8/site-packages/torch/nn/modules/container.py:217: UserWarning: Implicit dimension choice for softmax has been deprecated. Change the call to include dim=X as an argument.\n",
      "  input = module(input)\n"
     ]
    },
    {
     "data": {
      "text/html": [
       "Waiting for W&B process to finish... <strong style=\"color:green\">(success).</strong>"
      ],
      "text/plain": [
       "<IPython.core.display.HTML object>"
      ]
     },
     "metadata": {},
     "output_type": "display_data"
    },
    {
     "name": "stderr",
     "output_type": "stream",
     "text": [
      "Widget Javascript not detected.  It may not be installed or enabled properly.\n"
     ]
    },
    {
     "data": {
      "application/vnd.jupyter.widget-view+json": {
       "model_id": "d344ca5fbb3f4394982ab0b70a674419"
      }
     },
     "metadata": {},
     "output_type": "display_data"
    },
    {
     "data": {
      "text/html": [
       "<style>\n",
       "    table.wandb td:nth-child(1) { padding: 0 10px; text-align: left ; width: auto;} td:nth-child(2) {text-align: left ; width: 100%}\n",
       "    .wandb-row { display: flex; flex-direction: row; flex-wrap: wrap; justify-content: flex-start; width: 100% }\n",
       "    .wandb-col { display: flex; flex-direction: column; flex-basis: 100%; flex: 1; padding: 10px; }\n",
       "    </style>\n",
       "<div class=\"wandb-row\"><div class=\"wandb-col\"><h3>Run history:</h3><br/><table class=\"wandb\"><tr><td>avg_train_loss</td><td>████▇▇▆▆▆▅▅▅▅▅▄▄▄▄▄▄▃▃▃▃▃▃▂▂▂▂▂▂▂▂▁▁▁▁▁▁</td></tr><tr><td>avg_val_loss</td><td>███▇▆▅▅▄▄▄▃▃▃▃▃▂▂▂▂▂▂▂▁▁▂▂▁▁▁▁▁▁▁▂▂▂▂▂▁▂</td></tr><tr><td>epoch</td><td>▁▁▁▁▂▂▂▂▂▃▃▃▃▃▃▄▄▄▄▄▅▅▅▅▅▆▆▆▆▆▆▇▇▇▇▇████</td></tr><tr><td>train_accuracy_%</td><td>▁▁▁▂▃▄▄▄▄▅▅▅▅▅▅▆▆▆▆▆▆▆▇▇▇▇▇▇▇▇▇▇████████</td></tr><tr><td>train_loss</td><td>████▇▇▆▆▆▅▅▅▅▅▄▄▄▄▄▄▃▃▃▃▃▃▂▂▂▂▂▂▂▂▁▁▁▁▁▁</td></tr><tr><td>val_accuracy_%</td><td>▁▁▂▄▄▅▅▅▆▅▆▆▇▆▇▆▇▇▇▇▇▇█▇▇▇████████████▇█</td></tr><tr><td>val_loss</td><td>███▇▆▅▅▄▄▄▃▃▃▃▃▂▂▂▂▂▂▂▁▁▂▂▁▁▁▁▁▁▁▂▂▂▂▂▁▂</td></tr></table><br/></div><div class=\"wandb-col\"><h3>Run summary:</h3><br/><table class=\"wandb\"><tr><td>avg_train_loss</td><td>0.02773</td></tr><tr><td>avg_val_loss</td><td>0.05801</td></tr><tr><td>epoch</td><td>59</td></tr><tr><td>train_accuracy_%</td><td>78.80611</td></tr><tr><td>train_loss</td><td>59.91807</td></tr><tr><td>val_accuracy_%</td><td>53.94191</td></tr><tr><td>val_loss</td><td>13.97973</td></tr></table><br/></div></div>"
      ],
      "text/plain": [
       "<IPython.core.display.HTML object>"
      ]
     },
     "metadata": {},
     "output_type": "display_data"
    },
    {
     "data": {
      "text/html": [
       " View run <strong style=\"color:#cdcd00\">logical-sweep-1</strong> at: <a href='https://wandb.ai/antvis/SanityCheck3_modelSize_2conv2lin_IDSW_aug_colour_%5B113%2C%2036%5D/runs/t84hh82v' target=\"_blank\">https://wandb.ai/antvis/SanityCheck3_modelSize_2conv2lin_IDSW_aug_colour_%5B113%2C%2036%5D/runs/t84hh82v</a><br/>Synced 5 W&B file(s), 0 media file(s), 0 artifact file(s) and 0 other file(s)"
      ],
      "text/plain": [
       "<IPython.core.display.HTML object>"
      ]
     },
     "metadata": {},
     "output_type": "display_data"
    },
    {
     "data": {
      "text/html": [
       "Find logs at: <code>./wandb/run-20231103_131807-t84hh82v/logs</code>"
      ],
      "text/plain": [
       "<IPython.core.display.HTML object>"
      ]
     },
     "metadata": {},
     "output_type": "display_data"
    },
    {
     "name": "stderr",
     "output_type": "stream",
     "text": [
      "\u001b[34m\u001b[1mwandb\u001b[0m: Agent Starting Run: tb4fachk with config:\n",
      "\u001b[34m\u001b[1mwandb\u001b[0m: \tchannels: 3\n",
      "\u001b[34m\u001b[1mwandb\u001b[0m: \tdata_set: Augmented\n",
      "\u001b[34m\u001b[1mwandb\u001b[0m: \tdropout: 0.4\n",
      "\u001b[34m\u001b[1mwandb\u001b[0m: \tepochs: 60\n",
      "\u001b[34m\u001b[1mwandb\u001b[0m: \tfirst_lin_lay: 65664\n",
      "\u001b[34m\u001b[1mwandb\u001b[0m: \timage_path: /its/home/nn268/optics/AugmentedDS_IDSW/\n",
      "\u001b[34m\u001b[1mwandb\u001b[0m: \tks: [3, 5]\n",
      "\u001b[34m\u001b[1mwandb\u001b[0m: \tlearning_rate: 8.939134786531651e-05\n",
      "\u001b[34m\u001b[1mwandb\u001b[0m: \tlin_layer_size: 100\n",
      "\u001b[34m\u001b[1mwandb\u001b[0m: \tloss_fn: MSE\n",
      "\u001b[34m\u001b[1mwandb\u001b[0m: \tmodel_name: smallnet3\n",
      "\u001b[34m\u001b[1mwandb\u001b[0m: \tnum_classes: 11\n",
      "\u001b[34m\u001b[1mwandb\u001b[0m: \toptimizer: adam\n",
      "\u001b[34m\u001b[1mwandb\u001b[0m: \tscheduler: 0.2\n",
      "\u001b[34m\u001b[1mwandb\u001b[0m: \tweight_decay: 2e-05\n"
     ]
    },
    {
     "data": {
      "text/html": [
       "wandb version 0.15.12 is available!  To upgrade, please run:\n",
       " $ pip install wandb --upgrade"
      ],
      "text/plain": [
       "<IPython.core.display.HTML object>"
      ]
     },
     "metadata": {},
     "output_type": "display_data"
    },
    {
     "data": {
      "text/html": [
       "Tracking run with wandb version 0.15.10"
      ],
      "text/plain": [
       "<IPython.core.display.HTML object>"
      ]
     },
     "metadata": {},
     "output_type": "display_data"
    },
    {
     "data": {
      "text/html": [
       "Run data is saved locally in <code>/its/home/nn268/optics/wandb/run-20231103_132438-tb4fachk</code>"
      ],
      "text/plain": [
       "<IPython.core.display.HTML object>"
      ]
     },
     "metadata": {},
     "output_type": "display_data"
    },
    {
     "data": {
      "text/html": [
       "Syncing run <strong><a href='https://wandb.ai/antvis/SanityCheck3_modelSize_2conv2lin_IDSW_aug_colour_%5B113%2C%2036%5D/runs/tb4fachk' target=\"_blank\">sage-sweep-2</a></strong> to <a href='https://wandb.ai/antvis/SanityCheck3_modelSize_2conv2lin_IDSW_aug_colour_%5B113%2C%2036%5D' target=\"_blank\">Weights & Biases</a> (<a href='https://wandb.me/run' target=\"_blank\">docs</a>)<br/>Sweep page: <a href='https://wandb.ai/antvis/SanityCheck3_modelSize_2conv2lin_IDSW_aug_colour_%5B113%2C%2036%5D/sweeps/8yy41pzw' target=\"_blank\">https://wandb.ai/antvis/SanityCheck3_modelSize_2conv2lin_IDSW_aug_colour_%5B113%2C%2036%5D/sweeps/8yy41pzw</a>"
      ],
      "text/plain": [
       "<IPython.core.display.HTML object>"
      ]
     },
     "metadata": {},
     "output_type": "display_data"
    },
    {
     "data": {
      "text/html": [
       " View project at <a href='https://wandb.ai/antvis/SanityCheck3_modelSize_2conv2lin_IDSW_aug_colour_%5B113%2C%2036%5D' target=\"_blank\">https://wandb.ai/antvis/SanityCheck3_modelSize_2conv2lin_IDSW_aug_colour_%5B113%2C%2036%5D</a>"
      ],
      "text/plain": [
       "<IPython.core.display.HTML object>"
      ]
     },
     "metadata": {},
     "output_type": "display_data"
    },
    {
     "data": {
      "text/html": [
       " View sweep at <a href='https://wandb.ai/antvis/SanityCheck3_modelSize_2conv2lin_IDSW_aug_colour_%5B113%2C%2036%5D/sweeps/8yy41pzw' target=\"_blank\">https://wandb.ai/antvis/SanityCheck3_modelSize_2conv2lin_IDSW_aug_colour_%5B113%2C%2036%5D/sweeps/8yy41pzw</a>"
      ],
      "text/plain": [
       "<IPython.core.display.HTML object>"
      ]
     },
     "metadata": {},
     "output_type": "display_data"
    },
    {
     "data": {
      "text/html": [
       " View run at <a href='https://wandb.ai/antvis/SanityCheck3_modelSize_2conv2lin_IDSW_aug_colour_%5B113%2C%2036%5D/runs/tb4fachk' target=\"_blank\">https://wandb.ai/antvis/SanityCheck3_modelSize_2conv2lin_IDSW_aug_colour_%5B113%2C%2036%5D/runs/tb4fachk</a>"
      ],
      "text/plain": [
       "<IPython.core.display.HTML object>"
      ]
     },
     "metadata": {},
     "output_type": "display_data"
    },
    {
     "data": {
      "text/html": [
       "Waiting for W&B process to finish... <strong style=\"color:green\">(success).</strong>"
      ],
      "text/plain": [
       "<IPython.core.display.HTML object>"
      ]
     },
     "metadata": {},
     "output_type": "display_data"
    },
    {
     "name": "stderr",
     "output_type": "stream",
     "text": [
      "Widget Javascript not detected.  It may not be installed or enabled properly.\n"
     ]
    },
    {
     "data": {
      "application/vnd.jupyter.widget-view+json": {
       "model_id": "56d78498e88b4034af2bfe8702c868d3"
      }
     },
     "metadata": {},
     "output_type": "display_data"
    },
    {
     "data": {
      "text/html": [
       "<style>\n",
       "    table.wandb td:nth-child(1) { padding: 0 10px; text-align: left ; width: auto;} td:nth-child(2) {text-align: left ; width: 100%}\n",
       "    .wandb-row { display: flex; flex-direction: row; flex-wrap: wrap; justify-content: flex-start; width: 100% }\n",
       "    .wandb-col { display: flex; flex-direction: column; flex-basis: 100%; flex: 1; padding: 10px; }\n",
       "    </style>\n",
       "<div class=\"wandb-row\"><div class=\"wandb-col\"><h3>Run history:</h3><br/><table class=\"wandb\"><tr><td>avg_train_loss</td><td>██▇▇▆▆▆▆▅▅▅▅▅▄▄▄▄▄▄▃▃▃▃▃▃▃▃▂▂▂▂▂▂▂▂▂▁▁▁▁</td></tr><tr><td>avg_val_loss</td><td>██▇▆▅▅▄▄▄▃▃▃▃▃▃▂▂▂▂▂▂▂▂▂▁▁▁▂▂▁▁▂▂▂▂▂▁▁▁▁</td></tr><tr><td>epoch</td><td>▁▁▁▁▂▂▂▂▂▃▃▃▃▃▃▄▄▄▄▄▅▅▅▅▅▆▆▆▆▆▆▇▇▇▇▇████</td></tr><tr><td>train_accuracy_%</td><td>▁▁▂▃▄▄▄▄▅▅▅▅▅▅▆▆▆▆▆▆▆▆▇▇▇▇▇▇▇▇▇█████████</td></tr><tr><td>train_loss</td><td>██▇▇▆▆▆▆▅▅▅▅▅▄▄▄▄▄▄▃▃▃▃▃▃▃▃▂▂▂▂▂▂▂▂▂▁▁▁▁</td></tr><tr><td>val_accuracy_%</td><td>▁▂▃▄▅▅▆▆▆▆▇▇▇▇▇▇▇▇█████████████▇▇███▇███</td></tr><tr><td>val_loss</td><td>██▇▆▅▅▄▄▄▃▃▃▃▃▃▂▂▂▂▂▂▂▂▂▁▁▁▂▂▁▁▂▂▂▂▂▁▁▁▁</td></tr></table><br/></div><div class=\"wandb-col\"><h3>Run summary:</h3><br/><table class=\"wandb\"><tr><td>avg_train_loss</td><td>0.02442</td></tr><tr><td>avg_val_loss</td><td>0.05012</td></tr><tr><td>epoch</td><td>59</td></tr><tr><td>train_accuracy_%</td><td>81.25868</td></tr><tr><td>train_loss</td><td>52.76884</td></tr><tr><td>val_accuracy_%</td><td>58.92116</td></tr><tr><td>val_loss</td><td>12.07849</td></tr></table><br/></div></div>"
      ],
      "text/plain": [
       "<IPython.core.display.HTML object>"
      ]
     },
     "metadata": {},
     "output_type": "display_data"
    },
    {
     "data": {
      "text/html": [
       " View run <strong style=\"color:#cdcd00\">sage-sweep-2</strong> at: <a href='https://wandb.ai/antvis/SanityCheck3_modelSize_2conv2lin_IDSW_aug_colour_%5B113%2C%2036%5D/runs/tb4fachk' target=\"_blank\">https://wandb.ai/antvis/SanityCheck3_modelSize_2conv2lin_IDSW_aug_colour_%5B113%2C%2036%5D/runs/tb4fachk</a><br/>Synced 4 W&B file(s), 0 media file(s), 0 artifact file(s) and 0 other file(s)"
      ],
      "text/plain": [
       "<IPython.core.display.HTML object>"
      ]
     },
     "metadata": {},
     "output_type": "display_data"
    },
    {
     "data": {
      "text/html": [
       "Find logs at: <code>./wandb/run-20231103_132438-tb4fachk/logs</code>"
      ],
      "text/plain": [
       "<IPython.core.display.HTML object>"
      ]
     },
     "metadata": {},
     "output_type": "display_data"
    },
    {
     "name": "stderr",
     "output_type": "stream",
     "text": [
      "\u001b[34m\u001b[1mwandb\u001b[0m: Agent Starting Run: gfw8q4d7 with config:\n",
      "\u001b[34m\u001b[1mwandb\u001b[0m: \tchannels: 3\n",
      "\u001b[34m\u001b[1mwandb\u001b[0m: \tdata_set: Augmented\n",
      "\u001b[34m\u001b[1mwandb\u001b[0m: \tdropout: 0.4\n",
      "\u001b[34m\u001b[1mwandb\u001b[0m: \tepochs: 60\n",
      "\u001b[34m\u001b[1mwandb\u001b[0m: \tfirst_lin_lay: 65664\n",
      "\u001b[34m\u001b[1mwandb\u001b[0m: \timage_path: /its/home/nn268/optics/AugmentedDS_IDSW/\n",
      "\u001b[34m\u001b[1mwandb\u001b[0m: \tks: [3, 5]\n",
      "\u001b[34m\u001b[1mwandb\u001b[0m: \tlearning_rate: 7.773206602227473e-05\n",
      "\u001b[34m\u001b[1mwandb\u001b[0m: \tlin_layer_size: 100\n",
      "\u001b[34m\u001b[1mwandb\u001b[0m: \tloss_fn: CrossEntropy\n",
      "\u001b[34m\u001b[1mwandb\u001b[0m: \tmodel_name: smallnet3\n",
      "\u001b[34m\u001b[1mwandb\u001b[0m: \tnum_classes: 11\n",
      "\u001b[34m\u001b[1mwandb\u001b[0m: \toptimizer: adam\n",
      "\u001b[34m\u001b[1mwandb\u001b[0m: \tscheduler: 0.2\n",
      "\u001b[34m\u001b[1mwandb\u001b[0m: \tweight_decay: 1e-05\n"
     ]
    },
    {
     "data": {
      "text/html": [
       "wandb version 0.15.12 is available!  To upgrade, please run:\n",
       " $ pip install wandb --upgrade"
      ],
      "text/plain": [
       "<IPython.core.display.HTML object>"
      ]
     },
     "metadata": {},
     "output_type": "display_data"
    },
    {
     "data": {
      "text/html": [
       "Tracking run with wandb version 0.15.10"
      ],
      "text/plain": [
       "<IPython.core.display.HTML object>"
      ]
     },
     "metadata": {},
     "output_type": "display_data"
    },
    {
     "data": {
      "text/html": [
       "Run data is saved locally in <code>/its/home/nn268/optics/wandb/run-20231103_133103-gfw8q4d7</code>"
      ],
      "text/plain": [
       "<IPython.core.display.HTML object>"
      ]
     },
     "metadata": {},
     "output_type": "display_data"
    },
    {
     "data": {
      "text/html": [
       "Syncing run <strong><a href='https://wandb.ai/antvis/SanityCheck3_modelSize_2conv2lin_IDSW_aug_colour_%5B113%2C%2036%5D/runs/gfw8q4d7' target=\"_blank\">generous-sweep-3</a></strong> to <a href='https://wandb.ai/antvis/SanityCheck3_modelSize_2conv2lin_IDSW_aug_colour_%5B113%2C%2036%5D' target=\"_blank\">Weights & Biases</a> (<a href='https://wandb.me/run' target=\"_blank\">docs</a>)<br/>Sweep page: <a href='https://wandb.ai/antvis/SanityCheck3_modelSize_2conv2lin_IDSW_aug_colour_%5B113%2C%2036%5D/sweeps/8yy41pzw' target=\"_blank\">https://wandb.ai/antvis/SanityCheck3_modelSize_2conv2lin_IDSW_aug_colour_%5B113%2C%2036%5D/sweeps/8yy41pzw</a>"
      ],
      "text/plain": [
       "<IPython.core.display.HTML object>"
      ]
     },
     "metadata": {},
     "output_type": "display_data"
    },
    {
     "data": {
      "text/html": [
       " View project at <a href='https://wandb.ai/antvis/SanityCheck3_modelSize_2conv2lin_IDSW_aug_colour_%5B113%2C%2036%5D' target=\"_blank\">https://wandb.ai/antvis/SanityCheck3_modelSize_2conv2lin_IDSW_aug_colour_%5B113%2C%2036%5D</a>"
      ],
      "text/plain": [
       "<IPython.core.display.HTML object>"
      ]
     },
     "metadata": {},
     "output_type": "display_data"
    },
    {
     "data": {
      "text/html": [
       " View sweep at <a href='https://wandb.ai/antvis/SanityCheck3_modelSize_2conv2lin_IDSW_aug_colour_%5B113%2C%2036%5D/sweeps/8yy41pzw' target=\"_blank\">https://wandb.ai/antvis/SanityCheck3_modelSize_2conv2lin_IDSW_aug_colour_%5B113%2C%2036%5D/sweeps/8yy41pzw</a>"
      ],
      "text/plain": [
       "<IPython.core.display.HTML object>"
      ]
     },
     "metadata": {},
     "output_type": "display_data"
    },
    {
     "data": {
      "text/html": [
       " View run at <a href='https://wandb.ai/antvis/SanityCheck3_modelSize_2conv2lin_IDSW_aug_colour_%5B113%2C%2036%5D/runs/gfw8q4d7' target=\"_blank\">https://wandb.ai/antvis/SanityCheck3_modelSize_2conv2lin_IDSW_aug_colour_%5B113%2C%2036%5D/runs/gfw8q4d7</a>"
      ],
      "text/plain": [
       "<IPython.core.display.HTML object>"
      ]
     },
     "metadata": {},
     "output_type": "display_data"
    },
    {
     "data": {
      "text/html": [
       "Waiting for W&B process to finish... <strong style=\"color:green\">(success).</strong>"
      ],
      "text/plain": [
       "<IPython.core.display.HTML object>"
      ]
     },
     "metadata": {},
     "output_type": "display_data"
    },
    {
     "name": "stderr",
     "output_type": "stream",
     "text": [
      "Widget Javascript not detected.  It may not be installed or enabled properly.\n"
     ]
    },
    {
     "data": {
      "application/vnd.jupyter.widget-view+json": {
       "model_id": "30760159223f434bba348651d858d1f9"
      }
     },
     "metadata": {},
     "output_type": "display_data"
    },
    {
     "data": {
      "text/html": [
       "<style>\n",
       "    table.wandb td:nth-child(1) { padding: 0 10px; text-align: left ; width: auto;} td:nth-child(2) {text-align: left ; width: 100%}\n",
       "    .wandb-row { display: flex; flex-direction: row; flex-wrap: wrap; justify-content: flex-start; width: 100% }\n",
       "    .wandb-col { display: flex; flex-direction: column; flex-basis: 100%; flex: 1; padding: 10px; }\n",
       "    </style>\n",
       "<div class=\"wandb-row\"><div class=\"wandb-col\"><h3>Run history:</h3><br/><table class=\"wandb\"><tr><td>avg_train_loss</td><td>█████▇▇▆▆▆▅▅▄▄▄▄▄▄▃▃▃▃▃▃▃▃▂▂▂▂▂▂▂▂▁▁▁▁▁▁</td></tr><tr><td>avg_val_loss</td><td>████▇▇▆▅▄▄▃▃▃▃▃▃▂▂▂▂▂▂▂▂▂▁▂▂▁▂▁▁▁▂▁▂▁▁▁▁</td></tr><tr><td>epoch</td><td>▁▁▁▁▂▂▂▂▂▃▃▃▃▃▃▄▄▄▄▄▅▅▅▅▅▆▆▆▆▆▆▇▇▇▇▇████</td></tr><tr><td>train_accuracy_%</td><td>▁▁▁▁▁▂▃▃▄▄▅▅▅▅▅▆▆▆▆▆▆▆▆▇▇▇▇▇▇▇▇▇▇▇██████</td></tr><tr><td>train_loss</td><td>█████▇▇▆▆▆▅▅▄▄▄▄▄▄▃▃▃▃▃▃▃▃▂▂▂▂▂▂▂▂▁▁▁▁▁▁</td></tr><tr><td>val_accuracy_%</td><td>▁▁▁▁▂▂▅▅▅▆▇▇▇▆▇▇▇▇▇▇▇▇▇▇██▇▇█▇█▇█▇█▇████</td></tr><tr><td>val_loss</td><td>████▇▇▆▅▄▄▃▃▃▃▃▃▂▂▂▂▂▂▂▂▂▁▂▂▁▂▁▁▁▂▁▂▁▁▁▁</td></tr></table><br/></div><div class=\"wandb-col\"><h3>Run summary:</h3><br/><table class=\"wandb\"><tr><td>avg_train_loss</td><td>1.89495</td></tr><tr><td>avg_val_loss</td><td>2.00193</td></tr><tr><td>epoch</td><td>59</td></tr><tr><td>train_accuracy_%</td><td>65.34012</td></tr><tr><td>train_loss</td><td>4094.98814</td></tr><tr><td>val_accuracy_%</td><td>52.28216</td></tr><tr><td>val_loss</td><td>482.46532</td></tr></table><br/></div></div>"
      ],
      "text/plain": [
       "<IPython.core.display.HTML object>"
      ]
     },
     "metadata": {},
     "output_type": "display_data"
    },
    {
     "data": {
      "text/html": [
       " View run <strong style=\"color:#cdcd00\">generous-sweep-3</strong> at: <a href='https://wandb.ai/antvis/SanityCheck3_modelSize_2conv2lin_IDSW_aug_colour_%5B113%2C%2036%5D/runs/gfw8q4d7' target=\"_blank\">https://wandb.ai/antvis/SanityCheck3_modelSize_2conv2lin_IDSW_aug_colour_%5B113%2C%2036%5D/runs/gfw8q4d7</a><br/>Synced 4 W&B file(s), 0 media file(s), 0 artifact file(s) and 0 other file(s)"
      ],
      "text/plain": [
       "<IPython.core.display.HTML object>"
      ]
     },
     "metadata": {},
     "output_type": "display_data"
    },
    {
     "data": {
      "text/html": [
       "Find logs at: <code>./wandb/run-20231103_133103-gfw8q4d7/logs</code>"
      ],
      "text/plain": [
       "<IPython.core.display.HTML object>"
      ]
     },
     "metadata": {},
     "output_type": "display_data"
    },
    {
     "name": "stderr",
     "output_type": "stream",
     "text": [
      "\u001b[34m\u001b[1mwandb\u001b[0m: Agent Starting Run: 8wobdyma with config:\n",
      "\u001b[34m\u001b[1mwandb\u001b[0m: \tchannels: 3\n",
      "\u001b[34m\u001b[1mwandb\u001b[0m: \tdata_set: Augmented\n",
      "\u001b[34m\u001b[1mwandb\u001b[0m: \tdropout: 0.4\n",
      "\u001b[34m\u001b[1mwandb\u001b[0m: \tepochs: 60\n",
      "\u001b[34m\u001b[1mwandb\u001b[0m: \tfirst_lin_lay: 65664\n",
      "\u001b[34m\u001b[1mwandb\u001b[0m: \timage_path: /its/home/nn268/optics/AugmentedDS_IDSW/\n",
      "\u001b[34m\u001b[1mwandb\u001b[0m: \tks: [3, 5]\n",
      "\u001b[34m\u001b[1mwandb\u001b[0m: \tlearning_rate: 5.1547621554694696e-05\n",
      "\u001b[34m\u001b[1mwandb\u001b[0m: \tlin_layer_size: 100\n",
      "\u001b[34m\u001b[1mwandb\u001b[0m: \tloss_fn: MSE\n",
      "\u001b[34m\u001b[1mwandb\u001b[0m: \tmodel_name: smallnet3\n",
      "\u001b[34m\u001b[1mwandb\u001b[0m: \tnum_classes: 11\n",
      "\u001b[34m\u001b[1mwandb\u001b[0m: \toptimizer: adam\n",
      "\u001b[34m\u001b[1mwandb\u001b[0m: \tscheduler: 0.2\n",
      "\u001b[34m\u001b[1mwandb\u001b[0m: \tweight_decay: 3e-05\n"
     ]
    },
    {
     "data": {
      "text/html": [
       "wandb version 0.15.12 is available!  To upgrade, please run:\n",
       " $ pip install wandb --upgrade"
      ],
      "text/plain": [
       "<IPython.core.display.HTML object>"
      ]
     },
     "metadata": {},
     "output_type": "display_data"
    },
    {
     "data": {
      "text/html": [
       "Tracking run with wandb version 0.15.10"
      ],
      "text/plain": [
       "<IPython.core.display.HTML object>"
      ]
     },
     "metadata": {},
     "output_type": "display_data"
    },
    {
     "data": {
      "text/html": [
       "Run data is saved locally in <code>/its/home/nn268/optics/wandb/run-20231103_133749-8wobdyma</code>"
      ],
      "text/plain": [
       "<IPython.core.display.HTML object>"
      ]
     },
     "metadata": {},
     "output_type": "display_data"
    },
    {
     "data": {
      "text/html": [
       "Syncing run <strong><a href='https://wandb.ai/antvis/SanityCheck3_modelSize_2conv2lin_IDSW_aug_colour_%5B113%2C%2036%5D/runs/8wobdyma' target=\"_blank\">glowing-sweep-4</a></strong> to <a href='https://wandb.ai/antvis/SanityCheck3_modelSize_2conv2lin_IDSW_aug_colour_%5B113%2C%2036%5D' target=\"_blank\">Weights & Biases</a> (<a href='https://wandb.me/run' target=\"_blank\">docs</a>)<br/>Sweep page: <a href='https://wandb.ai/antvis/SanityCheck3_modelSize_2conv2lin_IDSW_aug_colour_%5B113%2C%2036%5D/sweeps/8yy41pzw' target=\"_blank\">https://wandb.ai/antvis/SanityCheck3_modelSize_2conv2lin_IDSW_aug_colour_%5B113%2C%2036%5D/sweeps/8yy41pzw</a>"
      ],
      "text/plain": [
       "<IPython.core.display.HTML object>"
      ]
     },
     "metadata": {},
     "output_type": "display_data"
    },
    {
     "data": {
      "text/html": [
       " View project at <a href='https://wandb.ai/antvis/SanityCheck3_modelSize_2conv2lin_IDSW_aug_colour_%5B113%2C%2036%5D' target=\"_blank\">https://wandb.ai/antvis/SanityCheck3_modelSize_2conv2lin_IDSW_aug_colour_%5B113%2C%2036%5D</a>"
      ],
      "text/plain": [
       "<IPython.core.display.HTML object>"
      ]
     },
     "metadata": {},
     "output_type": "display_data"
    },
    {
     "data": {
      "text/html": [
       " View sweep at <a href='https://wandb.ai/antvis/SanityCheck3_modelSize_2conv2lin_IDSW_aug_colour_%5B113%2C%2036%5D/sweeps/8yy41pzw' target=\"_blank\">https://wandb.ai/antvis/SanityCheck3_modelSize_2conv2lin_IDSW_aug_colour_%5B113%2C%2036%5D/sweeps/8yy41pzw</a>"
      ],
      "text/plain": [
       "<IPython.core.display.HTML object>"
      ]
     },
     "metadata": {},
     "output_type": "display_data"
    },
    {
     "data": {
      "text/html": [
       " View run at <a href='https://wandb.ai/antvis/SanityCheck3_modelSize_2conv2lin_IDSW_aug_colour_%5B113%2C%2036%5D/runs/8wobdyma' target=\"_blank\">https://wandb.ai/antvis/SanityCheck3_modelSize_2conv2lin_IDSW_aug_colour_%5B113%2C%2036%5D/runs/8wobdyma</a>"
      ],
      "text/plain": [
       "<IPython.core.display.HTML object>"
      ]
     },
     "metadata": {},
     "output_type": "display_data"
    }
   ],
   "source": [
    "def tr(config=None):\n",
    "    with wandb.init(config=config):\n",
    "        config = wandb.config\n",
    "        model = hp_sweep(config, col_dict)\n",
    "\n",
    "wandb.agent(sweep_id, tr, count=20)"
   ]
  },
  {
   "cell_type": "code",
   "execution_count": null,
   "metadata": {
    "collapsed": true
   },
   "outputs": [
    {
     "name": "stderr",
     "output_type": "stream",
     "text": [
      "\u001b[34m\u001b[1mwandb\u001b[0m: Agent Starting Run: 1k2bufmc with config:\n",
      "\u001b[34m\u001b[1mwandb\u001b[0m: \tchannels: 3\n",
      "\u001b[34m\u001b[1mwandb\u001b[0m: \tdata_set: Augmented\n",
      "\u001b[34m\u001b[1mwandb\u001b[0m: \tdropout: 0.4\n",
      "\u001b[34m\u001b[1mwandb\u001b[0m: \tepochs: 120\n",
      "\u001b[34m\u001b[1mwandb\u001b[0m: \tfirst_lin_lay: 1055232\n",
      "\u001b[34m\u001b[1mwandb\u001b[0m: \timage_path: /its/home/nn268/optics/AugmentedDS_IDSW/\n",
      "\u001b[34m\u001b[1mwandb\u001b[0m: \tks: [3, 5]\n",
      "\u001b[34m\u001b[1mwandb\u001b[0m: \tlearning_rate: 6.589471244960866e-05\n",
      "\u001b[34m\u001b[1mwandb\u001b[0m: \tlin_layer_size: 100\n",
      "\u001b[34m\u001b[1mwandb\u001b[0m: \tloss_fn: MSE\n",
      "\u001b[34m\u001b[1mwandb\u001b[0m: \tmodel_name: smallnet3\n",
      "\u001b[34m\u001b[1mwandb\u001b[0m: \tnum_classes: 11\n",
      "\u001b[34m\u001b[1mwandb\u001b[0m: \toptimizer: adam\n",
      "\u001b[34m\u001b[1mwandb\u001b[0m: \tscheduler: 0.2\n",
      "\u001b[34m\u001b[1mwandb\u001b[0m: \tweight_decay: 2e-05\n"
     ]
    },
    {
     "data": {
      "text/html": [
       "wandb version 0.15.12 is available!  To upgrade, please run:\n",
       " $ pip install wandb --upgrade"
      ],
      "text/plain": [
       "<IPython.core.display.HTML object>"
      ]
     },
     "metadata": {},
     "output_type": "display_data"
    },
    {
     "data": {
      "text/html": [
       "Tracking run with wandb version 0.15.10"
      ],
      "text/plain": [
       "<IPython.core.display.HTML object>"
      ]
     },
     "metadata": {},
     "output_type": "display_data"
    },
    {
     "data": {
      "text/html": [
       "Run data is saved locally in <code>/its/home/nn268/optics/wandb/run-20231026_091207-1k2bufmc</code>"
      ],
      "text/plain": [
       "<IPython.core.display.HTML object>"
      ]
     },
     "metadata": {},
     "output_type": "display_data"
    },
    {
     "data": {
      "text/html": [
       "Syncing run <strong><a href='https://wandb.ai/antvis/SanityCheck_modelSize_2conv2lin_IDSW_aug_colour_%5B226%2C%2072%5D/runs/1k2bufmc' target=\"_blank\">likely-sweep-1</a></strong> to <a href='https://wandb.ai/antvis/SanityCheck_modelSize_2conv2lin_IDSW_aug_colour_%5B226%2C%2072%5D' target=\"_blank\">Weights & Biases</a> (<a href='https://wandb.me/run' target=\"_blank\">docs</a>)<br/>Sweep page: <a href='https://wandb.ai/antvis/SanityCheck_modelSize_2conv2lin_IDSW_aug_colour_%5B226%2C%2072%5D/sweeps/1zr5r6jx' target=\"_blank\">https://wandb.ai/antvis/SanityCheck_modelSize_2conv2lin_IDSW_aug_colour_%5B226%2C%2072%5D/sweeps/1zr5r6jx</a>"
      ],
      "text/plain": [
       "<IPython.core.display.HTML object>"
      ]
     },
     "metadata": {},
     "output_type": "display_data"
    },
    {
     "data": {
      "text/html": [
       " View project at <a href='https://wandb.ai/antvis/SanityCheck_modelSize_2conv2lin_IDSW_aug_colour_%5B226%2C%2072%5D' target=\"_blank\">https://wandb.ai/antvis/SanityCheck_modelSize_2conv2lin_IDSW_aug_colour_%5B226%2C%2072%5D</a>"
      ],
      "text/plain": [
       "<IPython.core.display.HTML object>"
      ]
     },
     "metadata": {},
     "output_type": "display_data"
    },
    {
     "data": {
      "text/html": [
       " View sweep at <a href='https://wandb.ai/antvis/SanityCheck_modelSize_2conv2lin_IDSW_aug_colour_%5B226%2C%2072%5D/sweeps/1zr5r6jx' target=\"_blank\">https://wandb.ai/antvis/SanityCheck_modelSize_2conv2lin_IDSW_aug_colour_%5B226%2C%2072%5D/sweeps/1zr5r6jx</a>"
      ],
      "text/plain": [
       "<IPython.core.display.HTML object>"
      ]
     },
     "metadata": {},
     "output_type": "display_data"
    },
    {
     "data": {
      "text/html": [
       " View run at <a href='https://wandb.ai/antvis/SanityCheck_modelSize_2conv2lin_IDSW_aug_colour_%5B226%2C%2072%5D/runs/1k2bufmc' target=\"_blank\">https://wandb.ai/antvis/SanityCheck_modelSize_2conv2lin_IDSW_aug_colour_%5B226%2C%2072%5D/runs/1k2bufmc</a>"
      ],
      "text/plain": [
       "<IPython.core.display.HTML object>"
      ]
     },
     "metadata": {},
     "output_type": "display_data"
    },
    {
     "name": "stderr",
     "output_type": "stream",
     "text": [
      "/its/home/nn268/.local/lib/python3.8/site-packages/torch/nn/modules/container.py:217: UserWarning: Implicit dimension choice for softmax has been deprecated. Change the call to include dim=X as an argument.\n",
      "  input = module(input)\n"
     ]
    }
   ],
   "source": []
  },
  {
   "cell_type": "code",
   "execution_count": null,
   "metadata": {
    "scrolled": true
   },
   "outputs": [
    {
     "name": "stderr",
     "output_type": "stream",
     "text": [
      "\r",
      "  6%|▌         | 3/50 [15:06<3:56:23, 301.78s/it]"
     ]
    }
   ],
   "source": [
    "#model = pipeline(config, col_dict, title=\"2c2l_training_113x36, 3chan\", image_file_path= \"/its/home/nn268/optics/AugmentedDS_IDSW/\")"
   ]
  }
 ],
 "metadata": {
  "kernelspec": {
   "display_name": "Python 3",
   "language": "python",
   "name": "python3"
  },
  "language_info": {
   "codemirror_mode": {
    "name": "ipython",
    "version": 3
   },
   "file_extension": ".py",
   "mimetype": "text/x-python",
   "name": "python",
   "nbconvert_exporter": "python",
   "pygments_lexer": "ipython3",
   "version": "3.8.10"
  }
 },
 "nbformat": 4,
 "nbformat_minor": 4
}
