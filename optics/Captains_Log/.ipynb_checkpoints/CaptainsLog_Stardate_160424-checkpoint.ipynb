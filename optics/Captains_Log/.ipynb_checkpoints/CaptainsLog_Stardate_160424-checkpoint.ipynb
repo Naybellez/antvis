{
 "cells": [
  {
   "cell_type": "markdown",
   "id": "6b06a7af-72b7-40c8-bdc2-694eed37e756",
   "metadata": {},
   "source": [
    "# Captains log, Stardate 160424 week.\n",
    "\n",
    "## Main Aims: Get the batch runs off!\n",
    "\n",
    "working through general batch errors/ mistakes on [vgg16 batch loop file](/notebooks/antvis/antvis/optics/Batchcode/vgg_16_finetune_bigloop_vgg16-BATCHING.ipynb)\n",
    "\n"
   ]
  },
  {
   "cell_type": "markdown",
   "id": "a79047bc-a9ad-4693-adae-a732577ee939",
   "metadata": {},
   "source": [
    "Table of f lin layer size for batched data - batch size 16\n",
    "\n",
    "\n",
    "model vgg16\n",
    "|Resolution|first lin layer value|\n",
    "|----------|---------------------|\n",
    "|452,144   | 129024              |\n",
    "|226,72    |  64512              |\n",
    "|113,36    |14336                |\n",
    "|57,18     |14336                |\n",
    "|29,9      ||\n",
    "|15,5      ||\n",
    "|8,3       ||"
   ]
  },
  {
   "cell_type": "markdown",
   "id": "196e8189-47bd-4ec8-81d6-39e62ed32f50",
   "metadata": {},
   "source": [
    "Batch size 64\n",
    "\n",
    "|Resolution|size|\n",
    "|----------|--|\n",
    "|452, 144|129024|\n",
    "|226,72|64512|\n",
    "|113,36|14336|\n",
    "|57,18||\n",
    "|29,9||\n",
    "|15,5||\n",
    "|8,3||"
   ]
  },
  {
   "cell_type": "markdown",
   "id": "55b20cb9-8cf7-4783-bc07-91099d42ecdc",
   "metadata": {},
   "source": [
    "Memory ISSUEs back for batch sizes 64 and 32. \n",
    "batch size of 16 seems abolutley fine\n",
    "\n",
    "- during this I was able to catch a misfunctioning function - one that had been moved over from ImageProcessor, but had missed the bottom half - blank_padding. it was checking whether to resize images, for vgg16 and 7c3l, that were too large, but missed the section where the blankk average grey padding was added to the images.\n",
    "- all fixed.\n",
    "- next is to get the random images printed. I can print the images fine.  just need to calc random values.\n",
    "\n",
    "- probs calc them in the main function so I can count. and input this as a boolean parameter"
   ]
  },
  {
   "cell_type": "code",
   "execution_count": 14,
   "id": "664a40d6-c9dc-4ca8-9685-00f6decb7e75",
   "metadata": {},
   "outputs": [
    {
     "name": "stdout",
     "output_type": "stream",
     "text": [
      "5 14\n"
     ]
    }
   ],
   "source": [
    "# bacthes of 16\n",
    "\n",
    "import random\n",
    "import numpy as np\n",
    "\n",
    "nums = [] \n",
    "for i in range(8):\n",
    "    j = random.randrange(0,16)\n",
    "    nums.append(j)\n",
    "    i+=1\n",
    "\n",
    "print(min(nums), max(nums))\n",
    "    "
   ]
  },
  {
   "cell_type": "code",
   "execution_count": null,
   "id": "043bf6d6-34c9-4f89-ac11-0d949b2a4ef5",
   "metadata": {},
   "outputs": [],
   "source": []
  }
 ],
 "metadata": {
  "kernelspec": {
   "display_name": "Python 3 (ipykernel)",
   "language": "python",
   "name": "python3"
  },
  "language_info": {
   "codemirror_mode": {
    "name": "ipython",
    "version": 3
   },
   "file_extension": ".py",
   "mimetype": "text/x-python",
   "name": "python",
   "nbconvert_exporter": "python",
   "pygments_lexer": "ipython3",
   "version": "3.10.12"
  }
 },
 "nbformat": 4,
 "nbformat_minor": 5
}
