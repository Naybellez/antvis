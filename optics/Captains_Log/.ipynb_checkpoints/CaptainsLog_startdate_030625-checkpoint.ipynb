{
 "cells": [
  {
   "cell_type": "markdown",
   "id": "f5064eeb-995d-4125-b666-8b8e8cf8d9a7",
   "metadata": {},
   "source": [
    "So\n",
    "filling in gaos for presentations anf EOY review.\n",
    "\n",
    "previous runs ahave lr centered around xe-5\n",
    "I need to have more spaced out in log units of ten\n",
    "\n",
    "the following have been redone\n",
    "Batched\n",
    "2c\n",
    "3c\n",
    "4c\n",
    "6c - almost finished\n",
    "\n",
    "Not done\n",
    "Batched\n",
    "Vgg - keeps stoppping\n",
    "7c\n",
    "\n",
    "and alll unbatched\n",
    "\n",
    "\n",
    "Thoughts - for 7c and vgg, not gunnahave them all donw in time BUT may be able to do so for the smaller resolutions.\n",
    "\n"
   ]
  },
  {
   "cell_type": "markdown",
   "id": "d81426b7-4e1b-4d39-9be7-620baa33901b",
   "metadata": {},
   "source": [
    "|condition|model|res|log lr|\n",
    "|---------|----|-----|--|\n",
    "|Batched|2c|all|yes|\n",
    "|Batched|3c|all|yes|\n",
    "|Batched|4c|all|yes|\n",
    "|Batched|6c|missing 83|yes|\n",
    "|Batched|7c|none|no, only xe-5|\n",
    "|Batched|vgg|none|keeps stopping|\n",
    "|||||"
   ]
  },
  {
   "cell_type": "code",
   "execution_count": null,
   "id": "77303d2c-ae03-4576-b725-e861bb54583a",
   "metadata": {},
   "outputs": [],
   "source": []
  }
 ],
 "metadata": {
  "kernelspec": {
   "display_name": "Python 3 (ipykernel)",
   "language": "python",
   "name": "python3"
  },
  "language_info": {
   "codemirror_mode": {
    "name": "ipython",
    "version": 3
   },
   "file_extension": ".py",
   "mimetype": "text/x-python",
   "name": "python",
   "nbconvert_exporter": "python",
   "pygments_lexer": "ipython3",
   "version": "3.10.12"
  }
 },
 "nbformat": 4,
 "nbformat_minor": 5
}
