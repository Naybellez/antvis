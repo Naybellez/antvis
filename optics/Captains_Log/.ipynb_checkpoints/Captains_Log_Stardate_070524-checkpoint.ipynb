{
 "cells": [
  {
   "cell_type": "markdown",
   "id": "1fcde5da-02be-4b6c-baa6-013103fa6ade",
   "metadata": {},
   "source": [
    "# Captains Log 070524\n",
    "\n",
    "## Aims: \n",
    "- To Why isn't vgg16 running\n",
    "- Get missing data from runs that did not complete\n",
    "- throughts on WHY 7c3l and VGG16 are not running so well?\n",
    "-- to investigate, have made 6c3l, feature layers more similar to vgg16 (main difference is: 7c3l(in, out=32), vgg16 and new: (in, out=64))\n",
    "- \n",
    "- What are the conclusions so far on the runs - best lr, wd, etc\n",
    "- Do we have lc and ac for the runs - do they need more epochs of training? - which select few do I want to do this for\n",
    "\n",
    "- Kemals code- removing from front requres a change in input feature size."
   ]
  },
  {
   "cell_type": "code",
   "execution_count": null,
   "id": "e34d10dd-4463-49d1-8313-fc55c9cf135c",
   "metadata": {},
   "outputs": [],
   "source": []
  }
 ],
 "metadata": {
  "kernelspec": {
   "display_name": "Python 3 (ipykernel)",
   "language": "python",
   "name": "python3"
  },
  "language_info": {
   "codemirror_mode": {
    "name": "ipython",
    "version": 3
   },
   "file_extension": ".py",
   "mimetype": "text/x-python",
   "name": "python",
   "nbconvert_exporter": "python",
   "pygments_lexer": "ipython3",
   "version": "3.10.12"
  }
 },
 "nbformat": 4,
 "nbformat_minor": 5
}
