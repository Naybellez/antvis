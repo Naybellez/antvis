{
 "cells": [
  {
   "cell_type": "markdown",
   "id": "54a41487-07e8-45e2-ad22-a93d3c036d43",
   "metadata": {},
   "source": [
    "Checking the bacthed runs set to fill in gaps. 60 Epochs. many had been missing lr 1e-4 with no other params.\n",
    "- original table written in notebook - dated 030624\n",
    "\n",
    "2c - done\n",
    "3c- missing 1e-4 on 299 -need to reset off for this\n",
    "\n",
    "4c - set off for top two res on all sensible lr/ still on res 452 144\n",
    "6c - ghad been to get 15 5 & 8 3 on sensible lrs.  - still running\n",
    "\n",
    "7c - had been set off for bottom three res, senible lr. still running/ do not have this model senible lr for higher res\n",
    "\n",
    "vgg - same as 7c"
   ]
  },
  {
   "cell_type": "markdown",
   "id": "d823ada5-cef8-4cfc-b887-ff2df516ec74",
   "metadata": {},
   "source": [
    "Thoughs - lots of notebooks open, assume some are important adn running. need to sort and remove the others to remove from memory\n"
   ]
  },
  {
   "cell_type": "markdown",
   "id": "0ba34b62-e990-4b46-b073-2dd8f1e655a7",
   "metadata": {},
   "source": [
    "kemal. rerunning  code.\n",
    "using this for END 'http://localhost:8888/edit/antvis/antvis/optics/Kemal/saves/with13/ModelResults_05062024.csv'\n",
    "seems to have not gotten on to front\n",
    "set off today 10/6/24"
   ]
  }
 ],
 "metadata": {
  "kernelspec": {
   "display_name": "Python 3 (ipykernel)",
   "language": "python",
   "name": "python3"
  },
  "language_info": {
   "codemirror_mode": {
    "name": "ipython",
    "version": 3
   },
   "file_extension": ".py",
   "mimetype": "text/x-python",
   "name": "python",
   "nbconvert_exporter": "python",
   "pygments_lexer": "ipython3",
   "version": "3.10.12"
  }
 },
 "nbformat": 4,
 "nbformat_minor": 5
}
