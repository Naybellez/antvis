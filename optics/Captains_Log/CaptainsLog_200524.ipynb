{
 "cells": [
  {
   "cell_type": "markdown",
   "id": "0f0a19c2-b400-4e51-8f6c-e6e26f77b5b1",
   "metadata": {},
   "source": [
    "# Captains Log 20 05 24\n",
    "\n",
    "## FIXING UNSYSTEMATIC"
   ]
  },
  {
   "cell_type": "markdown",
   "id": "41900b1d-e726-4d07-992f-486a015ac796",
   "metadata": {},
   "source": [
    "# \n",
    "\n",
    "Looked at the current runs and mapped out the parameters in csv 'parameters'.\n",
    "\n",
    "There are some consistancies in parameters but lots of gaps.\n",
    "\n",
    "Rerun to fill in gaps\n",
    "\n",
    "chosen parameters:\n",
    "loss            MSE & CE\n",
    "WD              0 & 2e-5\n",
    "schedular       0 / none\n",
    "learning rate   8e-5, 7e-5, 6e-5, 1e-4\n",
    "\n",
    "3 random seeds\n",
    "\n",
    "\n",
    "\n",
    "200524 - have set off vgg16, 6v, 3c\n",
    "\n",
    "\n",
    "\n",
    "prev run with conditions all met\n",
    "B\n",
    "7c3l    all res\n",
    "4c      all res\n",
    "2c2l    all res\n",
    "\n",
    "\n",
    "UB - none have wd at 2e-5, none hve MSE\n",
    "other conditions\n",
    "vgg16    all res\n",
    "7c       missing 8 3\n",
    "4c       all res\n",
    "3c              MISSING ALL\n",
    "2c       all res\n",
    "\n",
    "\n",
    "\n",
    "thoughts\n",
    "\n",
    "\n",
    "could also have wd at 0\n",
    "then only param that changes is lr and loss function\n"
   ]
  },
  {
   "cell_type": "markdown",
   "id": "14eb046a-88ad-41f0-9374-9b6fb34b61b3",
   "metadata": {},
   "source": [
    "other plans\n",
    "\n",
    "- graphs\n",
    "- organise graphs nicely"
   ]
  },
  {
   "cell_type": "markdown",
   "id": "1891b2e7-1677-42c0-a30f-223b5f2f534a",
   "metadata": {},
   "source": [
    "## Notes From Ben Meeting"
   ]
  },
  {
   "cell_type": "markdown",
   "id": "553ecf4a-6f68-4f94-8265-ea59d316697a",
   "metadata": {},
   "source": [
    "Facet Grids - Some of the data is out of order - replot with 'order' parameter\n",
    "\n",
    "res/ subfig is clearest\n",
    "Bar plots for publication\n",
    "Box plots for exploration\n",
    "\n",
    "Need the images for correctly classified and incorrectly classified per condition\n",
    "\n",
    "VGG learning rate in literature- run with that\n",
    "VGG - lower learning rate/ step size are more consistant but not as high accuracies - learn for longer on the lower learning rates\n",
    "- choose a few models to learn for like 60 epochs\n",
    "- re choose learning rates that follow magnitude. ie. 2 learning rates e-1, 2 for e-2, e-3, e-4, e-5\n",
    "\n",
    "\n",
    "- when looking at the graphs, i felt there was some inconsistancies - what's this about?\n",
    "\n",
    "- CAN run these on one seed each for speed, repeat on other seeds if time allows\n",
    "- CAN create a big grid plot of what is wanted, and fill in as we go.\n",
    "\n",
    "\n",
    "KEMAL code.\n",
    "Tensor flow has a 'input layer' layer. when making models smaller you remove the layer after the input layer etc. WHAT IS THE PYTORCH EQUIVILENT?\n",
    "My code version has a 12 where there should be a 13\n",
    "get the learning curves\n",
    "\n",
    "\n",
    "SACRED simulation manager.\n",
    "download and use\n",
    "\n",
    "\n"
   ]
  },
  {
   "cell_type": "markdown",
   "id": "1c8e774f-d71a-4bba-a694-eb3298012b23",
   "metadata": {},
   "source": [
    "NOTES FOR PRESENTATION\n",
    "need to condense all into a few figs to tell a story\n",
    "\n",
    "What point am I trying to make?\n",
    "\n",
    "\n",
    "if time is 15 mins:\n",
    "3 mins on intro\n",
    "3-5 mins on approach and methods\n",
    "5 mins on results -- this is the 'meat' of the talk"
   ]
  }
 ],
 "metadata": {
  "kernelspec": {
   "display_name": "Python 3 (ipykernel)",
   "language": "python",
   "name": "python3"
  },
  "language_info": {
   "codemirror_mode": {
    "name": "ipython",
    "version": 3
   },
   "file_extension": ".py",
   "mimetype": "text/x-python",
   "name": "python",
   "nbconvert_exporter": "python",
   "pygments_lexer": "ipython3",
   "version": "3.10.12"
  }
 },
 "nbformat": 4,
 "nbformat_minor": 5
}
